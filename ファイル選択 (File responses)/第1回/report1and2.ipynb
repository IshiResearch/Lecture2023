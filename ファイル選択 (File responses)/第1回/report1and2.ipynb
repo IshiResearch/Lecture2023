{
 "cells": [
  {
   "cell_type": "markdown",
   "id": "d5f60220-6f22-47ae-a8cf-49c7b7e61a5d",
   "metadata": {},
   "source": [
    "### 課題1"
   ]
  },
  {
   "cell_type": "code",
   "execution_count": 1,
   "id": "d3b20ffd-b237-4160-b30a-930c674707dc",
   "metadata": {},
   "outputs": [
    {
     "name": "stdout",
     "output_type": "stream",
     "text": [
      "303000 m\n",
      "30300000 cm\n"
     ]
    }
   ],
   "source": [
    "#距離変換\n",
    "kitami = 303\n",
    "\n",
    "print(kitami * 1000 , \"m\")\n",
    "print(kitami * 100000 , \"cm\")"
   ]
  },
  {
   "cell_type": "code",
   "execution_count": 2,
   "id": "2034ba24-9e72-4b30-8504-a0cc88544530",
   "metadata": {},
   "outputs": [
    {
     "name": "stdin",
     "output_type": "stream",
     "text": [
      "摂氏を入力してください: 37\n"
     ]
    },
    {
     "name": "stdout",
     "output_type": "stream",
     "text": [
      "華氏 98.6度\n"
     ]
    }
   ],
   "source": [
    "#温度変換\n",
    "celsius = float(input(\"摂氏を入力してください:\"))\n",
    "fahrenheit = (celsius * 1.80) + 32.0\n",
    "print(\"華氏 %0.1f度\"%(fahrenheit))"
   ]
  },
  {
   "cell_type": "code",
   "execution_count": 3,
   "id": "dec56d5c-c4c8-40b8-be2c-103882073021",
   "metadata": {},
   "outputs": [
    {
     "name": "stdin",
     "output_type": "stream",
     "text": [
      "数学の点数を入力してください: 100\n",
      "英語の点数を入力してください: 100\n",
      "国語の点数を入力してください: 60\n",
      "物理の点数を入力してください: 100\n",
      "化学の点数を入力してください: 100\n"
     ]
    },
    {
     "name": "stdout",
     "output_type": "stream",
     "text": [
      "92.0\n"
     ]
    }
   ],
   "source": [
    "#平均値表示\n",
    "math = int(input(\"数学の点数を入力してください:\"))\n",
    "eigo = int(input(\"英語の点数を入力してください:\"))\n",
    "kokugo = int(input(\"国語の点数を入力してください:\"))\n",
    "butsuri = int(input(\"物理の点数を入力してください:\"))\n",
    "kagaku = int(input(\"化学の点数を入力してください:\"))\n",
    "average = (math + eigo + kokugo + butsuri + kagaku) / 5\n",
    "print(average)"
   ]
  },
  {
   "cell_type": "code",
   "execution_count": 7,
   "id": "d9ddc62f-9a9d-4ba2-8f69-10fae38d8f4f",
   "metadata": {},
   "outputs": [
    {
     "name": "stdout",
     "output_type": "stream",
     "text": [
      "31.400000000000002\n",
      "78.5\n"
     ]
    }
   ],
   "source": [
    "#円の半径から面積と円周を計算\n",
    "r = 5\n",
    "L = 2 * pi * r\n",
    "S = pi * r * r\n",
    "print(float(L))\n",
    "print(float(S))"
   ]
  },
  {
   "cell_type": "code",
   "execution_count": 8,
   "id": "373c2e2f-cb83-42f8-97e1-5ed71f10be79",
   "metadata": {},
   "outputs": [
    {
     "name": "stdin",
     "output_type": "stream",
     "text": [
      "5桁の数字を入力してください: 12345\n"
     ]
    },
    {
     "name": "stdout",
     "output_type": "stream",
     "text": [
      "15\n"
     ]
    }
   ],
   "source": [
    "#5桁の数字の足し算\n",
    "n = int(input(\"5桁の数字を入力してください:\"))\n",
    "result = sum(list(map(int, str(n))))\n",
    "print(result)"
   ]
  },
  {
   "cell_type": "code",
   "execution_count": 10,
   "id": "fc65a08f-eaf4-4fd9-b389-bc30e098c4d0",
   "metadata": {},
   "outputs": [
    {
     "name": "stdin",
     "output_type": "stream",
     "text": [
      "a= 5\n",
      "b= 8\n"
     ]
    },
    {
     "name": "stdout",
     "output_type": "stream",
     "text": [
      "a =  8\n",
      "b =  5\n"
     ]
    }
   ],
   "source": [
    "#変数の入れ替えその1\n",
    "a = int(input(\"a=\"))\n",
    "b = int(input(\"b=\"))\n",
    "a, b = b, a\n",
    "print('a = ', a)\n",
    "print('b = ', b)"
   ]
  },
  {
   "cell_type": "code",
   "execution_count": 11,
   "id": "f34b5281-d465-4e3d-a68b-d5447aa4d9f9",
   "metadata": {},
   "outputs": [
    {
     "name": "stdin",
     "output_type": "stream",
     "text": [
      "a= 5\n",
      "b= 8\n"
     ]
    },
    {
     "name": "stdout",
     "output_type": "stream",
     "text": [
      "a =  8\n",
      "b =  5\n"
     ]
    }
   ],
   "source": [
    "#変数の入れ替えその2\n",
    "a = int(input(\"a=\"))\n",
    "b = int(input(\"b=\"))\n",
    "b = a - b\n",
    "a = a - b\n",
    "b = a + b\n",
    "print('a = ', a)\n",
    "print('b = ', b)"
   ]
  },
  {
   "cell_type": "markdown",
   "id": "ad20e097-4037-427b-9996-bc474dd67087",
   "metadata": {},
   "source": [
    "###　課題2"
   ]
  },
  {
   "cell_type": "code",
   "execution_count": 13,
   "id": "abcb651f-82b8-4912-9787-20d169a709f2",
   "metadata": {},
   "outputs": [
    {
     "name": "stdin",
     "output_type": "stream",
     "text": [
      "年を入力してください: 2000\n"
     ]
    },
    {
     "name": "stdout",
     "output_type": "stream",
     "text": [
      "その年がうるう年です\n"
     ]
    }
   ],
   "source": [
    "#閏年の判断\n",
    "year = int(input(\"年を入力してください:\"))\n",
    "if year % 4 == 0:\n",
    "    print(\"その年がうるう年です\")\n",
    "else:\n",
    "    print(\"その年がうるう年ではない\")"
   ]
  },
  {
   "cell_type": "code",
   "execution_count": 1,
   "id": "623a5281-df1b-49e8-a27c-d77d2fb0b768",
   "metadata": {},
   "outputs": [
    {
     "name": "stdin",
     "output_type": "stream",
     "text": [
      "数学の点数を入力してください: 100\n",
      "英語の点数を入力してください: 100\n",
      "国語の点数を入力してください: 60\n",
      "物理の点数を入力してください: 100\n",
      "化学の点数を入力してください: 100\n"
     ]
    },
    {
     "name": "stdout",
     "output_type": "stream",
     "text": [
      "92.0\n",
      "秀\n"
     ]
    }
   ],
   "source": [
    "#成績の判断\n",
    "math = int(input(\"数学の点数を入力してください:\"))\n",
    "eigo = int(input(\"英語の点数を入力してください:\"))\n",
    "kokugo = int(input(\"国語の点数を入力してください:\"))\n",
    "butsuri = int(input(\"物理の点数を入力してください:\"))\n",
    "kagaku = int(input(\"化学の点数を入力してください:\"))\n",
    "average = (math + eigo + kokugo + butsuri + kagaku) / 5\n",
    "print(average)\n",
    "if average >= 90:\n",
    "    print(\"秀\")\n",
    "elif 90 > average >= 80:\n",
    "    print(\"優\")\n",
    "elif 80 > average >= 70:\n",
    "    print(\"良\")\n",
    "elif 70 > average >= 60:\n",
    "    print(\"可\")\n",
    "else:\n",
    "    print(\"不可\")"
   ]
  },
  {
   "cell_type": "code",
   "execution_count": 2,
   "id": "ed428950-a90c-4782-b941-331e725df6e5",
   "metadata": {},
   "outputs": [
    {
     "name": "stdin",
     "output_type": "stream",
     "text": [
      "円の中心のｘ座標を入力してください: 3\n",
      "円の中心のｙ座標を入力してください: 2\n",
      "円の半径を入力してください: 5\n",
      "点のx座標を入力してください: 7\n",
      "点のy座標を入力してください: 5\n"
     ]
    },
    {
     "name": "stdout",
     "output_type": "stream",
     "text": [
      "円の上\n"
     ]
    }
   ],
   "source": [
    "#円\n",
    "x = int(input(\"円の中心のｘ座標を入力してください:\"))\n",
    "y = int(input(\"円の中心のｙ座標を入力してください:\"))\n",
    "r = int(input(\"円の半径を入力してください:\"))\n",
    "a = int(input(\"点のx座標を入力してください:\"))\n",
    "b = int(input(\"点のy座標を入力してください:\"))\n",
    "if (a-x)**2+(b-y)**2<r**2:\n",
    "    print(\"円の中\")\n",
    "if (a-x)**2+(b-y)**2>r**2:\n",
    "    print(\"円の外\")\n",
    "if (a-x)**2+(b-y)**2==r**2:\n",
    "    print(\"円の上\")"
   ]
  },
  {
   "cell_type": "code",
   "execution_count": 2,
   "id": "3806cbaa-6ee0-4ed1-857a-d0b921434b02",
   "metadata": {},
   "outputs": [
    {
     "name": "stdin",
     "output_type": "stream",
     "text": [
      "n= 5\n"
     ]
    },
    {
     "name": "stdout",
     "output_type": "stream",
     "text": [
      "120\n"
     ]
    }
   ],
   "source": [
    "#入力数字の階乗\n",
    "n = int(input(\"n=\"))\n",
    "answer = 1\n",
    "for i in range(1,n+1):\n",
    "    answer = answer * i\n",
    "print(answer)\n",
    "    "
   ]
  },
  {
   "cell_type": "code",
   "execution_count": 8,
   "id": "5c5097ef-a366-4e54-a8f0-d4bd4496b844",
   "metadata": {},
   "outputs": [
    {
     "name": "stdin",
     "output_type": "stream",
     "text": [
      " 5\n",
      " 7\n",
      " 99\n",
      " 3\n",
      " 66\n"
     ]
    },
    {
     "name": "stdout",
     "output_type": "stream",
     "text": [
      "最小値は 3\n"
     ]
    }
   ],
   "source": [
    "#入力数字の最小値\n",
    "min = None\n",
    "for i in range(5):\n",
    "    x = int(input())\n",
    "    if min == None:\n",
    "        min = x\n",
    "    if min > x:\n",
    "        min = x\n",
    "print('最小値は', min)"
   ]
  },
  {
   "cell_type": "code",
   "execution_count": 1,
   "id": "a4754abc-3207-4bd6-95a0-5eb4038f50ea",
   "metadata": {},
   "outputs": [
    {
     "name": "stdin",
     "output_type": "stream",
     "text": [
      "点1のx座標を入力してください: -2\n",
      "点1のy座標を入力してください: 1\n",
      "点2のx座標を入力してください: 2\n",
      "点2のy座標を入力してください: 3\n",
      "点3のx座標を入力してください: 4\n",
      "点3のy座標を入力してください: 4\n"
     ]
    },
    {
     "name": "stdout",
     "output_type": "stream",
     "text": [
      "同一線上にあります\n"
     ]
    }
   ],
   "source": [
    "#座標と線の判断\n",
    "x1 = int(input(\"点1のx座標を入力してください:\"))\n",
    "y1 = int(input(\"点1のy座標を入力してください:\"))\n",
    "x2 = int(input(\"点2のx座標を入力してください:\"))\n",
    "y2 = int(input(\"点2のy座標を入力してください:\"))\n",
    "x3 = int(input(\"点3のx座標を入力してください:\"))\n",
    "y3 = int(input(\"点3のy座標を入力してください:\"))\n",
    "a = (y1-y2)/(x1-x2)\n",
    "b = (y1+y2-(x1+x2)*(y1-y2)/(x1-x2))/2\n",
    "if x1==x2==x3 or y1==y2==y3 or y3==a*x3+b:\n",
    "    print(\"同一線上にあります\")\n",
    "else:\n",
    "    print(\"同一線上にありません\")"
   ]
  },
  {
   "cell_type": "code",
   "execution_count": 2,
   "id": "f11b45dd-7b8e-4dc9-a28a-3a40fdb22626",
   "metadata": {},
   "outputs": [
    {
     "name": "stdin",
     "output_type": "stream",
     "text": [
      "数字を入力してください: 3\n"
     ]
    },
    {
     "name": "stdout",
     "output_type": "stream",
     "text": [
      "  *\n",
      " ***\n",
      "*****\n"
     ]
    }
   ],
   "source": [
    "#ピラミッド\n",
    "n = int(input(\"数字を入力してください:\"))\n",
    "for i in range(1, n+1):\n",
    "         print(' ' * (n-i) + '*' * (2*i-1))"
   ]
  },
  {
   "cell_type": "code",
   "execution_count": 7,
   "id": "14371705-f333-49e4-86ca-615e808c9086",
   "metadata": {},
   "outputs": [
    {
     "name": "stdin",
     "output_type": "stream",
     "text": [
      "数字を入力してください: 5\n"
     ]
    },
    {
     "name": "stdout",
     "output_type": "stream",
     "text": [
      "*********\n",
      " *******\n",
      "  *****\n",
      "   ***\n",
      "    *\n"
     ]
    }
   ],
   "source": [
    "#逆ピラミッド\n",
    "n = int(input(\"数字を入力してください:\"))\n",
    "for i in range(1, n+1):\n",
    "         print(' ' * (i-1) + '*' * (2*n-1-2*(i-1)))"
   ]
  },
  {
   "cell_type": "code",
   "execution_count": 8,
   "id": "3c65303b-c71a-4521-813f-d145eae141a3",
   "metadata": {},
   "outputs": [
    {
     "data": {
      "text/plain": [
       "'C:\\\\WINDOWS\\\\system32'"
      ]
     },
     "execution_count": 8,
     "metadata": {},
     "output_type": "execute_result"
    }
   ],
   "source": [
    "pwd"
   ]
  },
  {
   "cell_type": "code",
   "execution_count": null,
   "id": "77ba612e-8265-45ce-bf2e-c8936f680d23",
   "metadata": {},
   "outputs": [],
   "source": []
  }
 ],
 "metadata": {
  "kernelspec": {
   "display_name": "Python 3",
   "language": "python",
   "name": "python3"
  },
  "language_info": {
   "codemirror_mode": {
    "name": "ipython",
    "version": 3
   },
   "file_extension": ".py",
   "mimetype": "text/x-python",
   "name": "python",
   "nbconvert_exporter": "python",
   "pygments_lexer": "ipython3",
   "version": "3.6.13"
  }
 },
 "nbformat": 4,
 "nbformat_minor": 5
}
