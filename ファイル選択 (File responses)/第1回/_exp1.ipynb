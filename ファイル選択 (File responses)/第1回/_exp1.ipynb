{
 "cells": [
  {
   "attachments": {},
   "cell_type": "markdown",
   "metadata": {},
   "source": [
    "> **Note**\n",
    "\n",
    "for文は内部で最適化されているため、While文より高速に処理を実行できます。\n",
    "```python\n",
    "import time\n",
    "\n",
    "# forループの速度測定\n",
    "start = time.time()\n",
    "for i in range(10**7):\n",
    "    pass\n",
    "end = time.time()\n",
    "print(f\"forループ: {end - start}秒\")\n",
    "\n",
    "# whileループの速度測定\n",
    "start = time.time()\n",
    "i = 0\n",
    "while i < 10**7:\n",
    "    i += 1\n",
    "end = time.time()\n",
    "print(f\"whileループ: {end - start}秒\")\n",
    "```\n",
    "\n",
    "```\n",
    "Output:\n",
    "forループ: 0.24001169204711914秒\n",
    "whileループ: 0.7509949207305908秒\n",
    "```"
   ]
  },
  {
   "attachments": {},
   "cell_type": "markdown",
   "metadata": {},
   "source": [
    "> **Note**\n",
    "\n",
    "同一直線上にあるかどうかを判定するプログラムでは、一つの座標を基準とした傾きから以下のようにif文一つで効率良く判定できます。\n",
    "```python\n",
    "# 3つの点の座標を入力\n",
    "x1, y1 = map(int, input(\"P1の座標を入力してください（x,y）：\").split(','))\n",
    "x2, y2 = map(int, input(\"P2の座標を入力してください（x,y）：\").split(','))\n",
    "x3, y3 = map(int, input(\"P3の座標を入力してください（x,y）：\").split(','))\n",
    "\n",
    "# 3つの点が同一線上にあるかどうかを判定\n",
    "if (y2-y1)*(x3-x2) == (y3-y2)*(x2-x1):\n",
    "    print(\"同一線上にあります\")\n",
    "else:\n",
    "    print(\"同一線上にありません\")\n",
    "```"
   ]
  },
  {
   "cell_type": "markdown",
   "metadata": {},
   "source": []
  }
 ],
 "metadata": {
  "language_info": {
   "name": "python"
  },
  "orig_nbformat": 4
 },
 "nbformat": 4,
 "nbformat_minor": 2
}
