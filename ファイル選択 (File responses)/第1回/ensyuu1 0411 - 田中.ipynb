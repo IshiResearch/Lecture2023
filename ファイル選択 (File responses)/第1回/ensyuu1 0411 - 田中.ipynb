{
 "cells": [
  {
   "cell_type": "markdown",
   "id": "17307630-3b10-46b9-8e76-8bcc87778e48",
   "metadata": {},
   "source": [
    "# 演習課題１"
   ]
  },
  {
   "cell_type": "code",
   "execution_count": 3,
   "id": "d9242f5c-807c-4076-bbdc-c8cb0c960189",
   "metadata": {
    "tags": []
   },
   "outputs": [
    {
     "name": "stdout",
     "output_type": "stream",
     "text": [
      "303000 [m]\n",
      "30300000 [cm]\n"
     ]
    }
   ],
   "source": [
    "#1　単位変換\n",
    "dis = 303　#札幌から北見の距離\n",
    "m = dis * 1000　#[km]から[m]\n",
    "cm = m * 100 # [m]から[cm]\n",
    "\n",
    "print(m, \"[m]\")\n",
    "print(cm, \"[cm]\")"
   ]
  },
  {
   "cell_type": "code",
   "execution_count": 6,
   "id": "8d8418ea-1fdb-4b3b-85e0-7803c603ec21",
   "metadata": {
    "tags": []
   },
   "outputs": [
    {
     "name": "stdout",
     "output_type": "stream",
     "text": [
      "temperature [℃] 10\n"
     ]
    },
    {
     "name": "stdout",
     "output_type": "stream",
     "text": [
      "50.0 [°F]\n"
     ]
    }
   ],
   "source": [
    "#2　摂氏から華氏へ変換\n",
    "tep = input(\"temperature [℃]\")\n",
    "\n",
    "f = float(tep) * 1.80 + 32.0　#摂氏から華氏への変換式\n",
    "\n",
    "print(f, \"[°F]\")"
   ]
  },
  {
   "cell_type": "code",
   "execution_count": 7,
   "id": "6b3fdebd-b16d-44b7-b2de-684b5f283772",
   "metadata": {
    "tags": []
   },
   "outputs": [
    {
     "name": "stdout",
     "output_type": "stream",
     "text": [
      "平均点 56.0\n"
     ]
    }
   ],
   "source": [
    "#3 5教科のテストの平均点\n",
    "kokugo = 70\n",
    "suugaku = 50\n",
    "buturi = 80\n",
    "kagaku = 40\n",
    "eigo = 40\n",
    "\n",
    "total = kokugo + suugaku + buturi + kagaku + eigo #合計点数\n",
    "ave = total / 5　#平均点\n",
    "\n",
    "print(\"平均点\", ave)"
   ]
  },
  {
   "cell_type": "code",
   "execution_count": 13,
   "id": "241b1420-dd47-4c79-af8c-e4fc69c5da47",
   "metadata": {
    "tags": []
   },
   "outputs": [
    {
     "name": "stdout",
     "output_type": "stream",
     "text": [
      "radius 5\n"
     ]
    },
    {
     "name": "stdout",
     "output_type": "stream",
     "text": [
      "円周 31.400000000000002\n",
      "面積 78.5\n"
     ]
    }
   ],
   "source": [
    "#4　円の半径から面積と円周を求める\n",
    "r = int(input(\"radius\"))\n",
    "\n",
    "s = r * r * 3.14　#面積\n",
    "c = 2 * 3.14 * r　#円周\n",
    "\n",
    "print(\"円周\", c)\n",
    "print(\"面積\", s)"
   ]
  },
  {
   "cell_type": "code",
   "execution_count": 29,
   "id": "3463f4c8-e555-4f49-b989-e3c23d142c33",
   "metadata": {
    "tags": []
   },
   "outputs": [
    {
     "name": "stdout",
     "output_type": "stream",
     "text": [
      "number 11111\n"
     ]
    },
    {
     "name": "stdout",
     "output_type": "stream",
     "text": [
      "5\n"
     ]
    }
   ],
   "source": [
    "#5 5桁の数字を各桁の数字ごとにすべて足す\n",
    "num = int(input(\"number\"))\n",
    "\n",
    "result = 0\n",
    "total = 0\n",
    "i = 10000\n",
    "\n",
    "while i >= 1:\n",
    "    result = num // i #桁ごとに数字を取り出す\n",
    "    num = num - result * i　#元の数字から取り出した数字の桁だけ引く\n",
    "    total += int(result)　#結果に追加する\n",
    "    i /= 10\n",
    "    \n",
    "print(total)"
   ]
  },
  {
   "cell_type": "code",
   "execution_count": 43,
   "id": "ef103c3c-c64e-47aa-a999-545b446240b6",
   "metadata": {
    "tags": []
   },
   "outputs": [
    {
     "name": "stdout",
     "output_type": "stream",
     "text": [
      "number 12345\n"
     ]
    },
    {
     "name": "stdout",
     "output_type": "stream",
     "text": [
      "54321\n"
     ]
    }
   ],
   "source": [
    "#6\n",
    "num = int(input(\"number\"))\n",
    "\n",
    "total = 0\n",
    "result = 0\n",
    "i = 10000\n",
    "j = 1\n",
    "\n",
    "while i >= 1:\n",
    "    result = num // i #桁ごとに数字を取り出す\n",
    "    num = num - result * i #元の数字から取り出した数字の桁だけ引く\n",
    "    total += int(result * j) #桁を反転させる\n",
    "    i /= 10\n",
    "    j *= 10\n",
    "\n",
    "print(total)"
   ]
  },
  {
   "cell_type": "code",
   "execution_count": 36,
   "id": "93587362-f263-4233-93fd-36e58fb9f97f",
   "metadata": {
    "tags": []
   },
   "outputs": [
    {
     "name": "stdout",
     "output_type": "stream",
     "text": [
      "a 5\n",
      "b 8\n"
     ]
    },
    {
     "name": "stdout",
     "output_type": "stream",
     "text": [
      "a = 8\n",
      "b = 5\n"
     ]
    }
   ],
   "source": [
    "a = int(input(\"a\"))\n",
    "b = int(input(\"b\"))\n",
    "\n",
    "c = 0　#別の器を用意する\n",
    "c = a\n",
    "a = b\n",
    "b = c\n",
    "\n",
    "print(\"a =\", a)\n",
    "print(\"b =\", b)"
   ]
  },
  {
   "cell_type": "code",
   "execution_count": 2,
   "id": "1d26c118-d83e-4ed5-88f8-9e4c9de29e9c",
   "metadata": {
    "tags": []
   },
   "outputs": [
    {
     "name": "stdout",
     "output_type": "stream",
     "text": [
      "a 8\n",
      "b 4\n"
     ]
    },
    {
     "name": "stdout",
     "output_type": "stream",
     "text": [
      "a = 4\n",
      "b = 8\n"
     ]
    }
   ],
   "source": [
    "a = int(input(\"a\"))\n",
    "b = int(input(\"b\"))\n",
    "\n",
    "x = a # a と同じものを作る\n",
    "y = b # b と同じものを作る\n",
    "\n",
    "if a > b:\n",
    "    while a > b: #aがbより大きい時、a=bとなるまでaから1を引く\n",
    "        a -= 1\n",
    "else:\n",
    "    while a < b: #aがbより小さい時、a=bとなるまでaから1を足す\n",
    "        a += 1\n",
    "\n",
    "if y > x:\n",
    "    while y > x: #yがxより大きい時、y=xとなるまでyから1を引く\n",
    "        y -= 1\n",
    "else:\n",
    "    while y < x: #yがxより小さい時、y=xとなるまでyから1を足す\n",
    "        y += 1\n",
    "\n",
    "print(\"a =\", a)\n",
    "print(\"b =\", y)"
   ]
  },
  {
   "attachments": {},
   "cell_type": "markdown",
   "id": "6f625e1b-4e2d-4371-a9cf-ad88b4496837",
   "metadata": {},
   "source": []
  }
 ],
 "metadata": {
  "kernelspec": {
   "display_name": "Python 3 (ipykernel)",
   "language": "python",
   "name": "python3"
  },
  "language_info": {
   "codemirror_mode": {
    "name": "ipython",
    "version": 3
   },
   "file_extension": ".py",
   "mimetype": "text/x-python",
   "name": "python",
   "nbconvert_exporter": "python",
   "pygments_lexer": "ipython3",
   "version": "3.8.16"
  }
 },
 "nbformat": 4,
 "nbformat_minor": 5
}
