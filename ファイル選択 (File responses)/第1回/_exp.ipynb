{
 "cells": [
  {
   "attachments": {},
   "cell_type": "markdown",
   "metadata": {},
   "source": []
  },
  {
   "cell_type": "code",
   "execution_count": 2,
   "metadata": {},
   "outputs": [
    {
     "name": "stdout",
     "output_type": "stream",
     "text": [
      "forループ: 0.24001169204711914秒\n",
      "whileループ: 0.7509949207305908秒\n"
     ]
    }
   ],
   "source": [
    "# for文、While文の速度比較\n",
    "\n",
    "import time\n",
    "\n",
    "# forループの速度測定\n",
    "start = time.time()\n",
    "for i in range(10**7):\n",
    "    pass\n",
    "end = time.time()\n",
    "print(f\"forループ: {end - start}秒\")\n",
    "\n",
    "# whileループの速度測定\n",
    "start = time.time()\n",
    "i = 0\n",
    "while i < 10**7:\n",
    "    i += 1\n",
    "end = time.time()\n",
    "print(f\"whileループ: {end - start}秒\")\n"
   ]
  },
  {
   "attachments": {},
   "cell_type": "markdown",
   "metadata": {},
   "source": [
    "> **for文は内部で最適化されているため、While文より高速に処理を実行できます。**\n",
    "```python\n",
    "import time\n",
    "\n",
    "# forループの速度測定\n",
    "start = time.time()\n",
    "for i in range(10**7):\n",
    "    pass\n",
    "end = time.time()\n",
    "print(f\"forループ: {end - start}秒\")\n",
    "\n",
    "# whileループの速度測定\n",
    "start = time.time()\n",
    "i = 0\n",
    "while i < 10**7:\n",
    "    i += 1\n",
    "end = time.time()\n",
    "print(f\"whileループ: {end - start}秒\")\n",
    "```\n",
    "\n",
    "```\n",
    "Output:\n",
    "forループ: 0.24001169204711914秒\n",
    "whileループ: 0.7509949207305908秒\n",
    "```\n"
   ]
  },
  {
   "attachments": {},
   "cell_type": "markdown",
   "metadata": {},
   "source": [
    "> **同一直線上にあるかどうかを判定するプログラムでは、一つの座標を基準とした傾きから以下のようにif文一つで効率良く判定できます。**\n",
    "\n",
    "```python\n",
    "# 3つの点の座標を入力\n",
    "x1, y1 = map(int, input(\"P1の座標を入力してください（x,y）：\").split(','))\n",
    "x2, y2 = map(int, input(\"P2の座標を入力してください（x,y）：\").split(','))\n",
    "x3, y3 = map(int, input(\"P3の座標を入力してください（x,y）：\").split(','))\n",
    "\n",
    "# 3つの点が同一線上にあるかどうかを判定\n",
    "if (y2-y1)*(x3-x2) == (y3-y2)*(x2-x1):\n",
    "    print(\"同一線上にあります\")\n",
    "else:\n",
    "    print(\"同一線上にありません\")\n",
    "\n",
    "```"
   ]
  },
  {
   "cell_type": "code",
   "execution_count": 4,
   "metadata": {},
   "outputs": [
    {
     "name": "stdout",
     "output_type": "stream",
     "text": [
      "'\\u30d5\\u30a1\\u30a4\\u30eb\\u9078\\u629e (File responses)'\n",
      "b'\\x83t\\x83@\\x83C\\x83\\x8b\\x91I\\x91\\xf0 (File responses)'\n",
      "b'\\xe3\\x83\\x95\\xe3\\x82\\xa1\\xe3\\x82\\xa4\\xe3\\x83\\xab\\xe9\\x81\\xb8\\xe6\\x8a\\x9e (File responses)'\n",
      "b'\\xa5\\xd5\\xa5\\xa1\\xa5\\xa4\\xa5\\xeb\\xc1\\xaa\\xc2\\xf2 (File responses)'\n",
      "b'\\x83t\\x83@\\x83C\\x83\\x8b\\x91I\\x91\\xf0 (File responses)'\n",
      "ファイル選択 (File responses)\n"
     ]
    }
   ],
   "source": [
    "path = \"ファイル選択 (File responses)\"\n",
    "print(ascii(path))\n",
    "print(path.encode(\"shift-jis\"))\n",
    "print(path.encode(\"utf-8\"))\n",
    "print(path.encode(\"euc-jp\"))\n",
    "print(path.encode(\"cp932\"))\n",
    "print(path.encode(\"cp932\").decode(\"cp932\"))\n"
   ]
  }
 ],
 "metadata": {
  "kernelspec": {
   "display_name": "Python 3",
   "language": "python",
   "name": "python3"
  },
  "language_info": {
   "codemirror_mode": {
    "name": "ipython",
    "version": 3
   },
   "file_extension": ".py",
   "mimetype": "text/x-python",
   "name": "python",
   "nbconvert_exporter": "python",
   "pygments_lexer": "ipython3",
   "version": "3.9.7"
  },
  "orig_nbformat": 4
 },
 "nbformat": 4,
 "nbformat_minor": 2
}
