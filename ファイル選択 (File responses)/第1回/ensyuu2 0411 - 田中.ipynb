{
 "cells": [
  {
   "cell_type": "markdown",
   "id": "8655fabc-9c20-416f-af0e-66c0a5f410a7",
   "metadata": {},
   "source": [
    "# 演習課題２"
   ]
  },
  {
   "cell_type": "code",
   "execution_count": 10,
   "id": "ad0aaec6-6b8e-4814-bb66-7280c7125642",
   "metadata": {
    "tags": []
   },
   "outputs": [
    {
     "name": "stdout",
     "output_type": "stream",
     "text": [
      "year 2000\n"
     ]
    },
    {
     "name": "stdout",
     "output_type": "stream",
     "text": [
      "うるう年です。\n"
     ]
    }
   ],
   "source": [
    "#1 うるう年かそうでないか\n",
    "year = int(input(\"year\"))\n",
    "\n",
    "if  year % 4 == 0: #うるう年であるか判断\n",
    "    if year % 100 == 0:\n",
    "        if year % 400 == 0:\n",
    "            print(\"うるう年です。\")\n",
    "    else:\n",
    "        print(\"うるう年です。\")\n",
    "            \n",
    "\n",
    "else:　#うるう年でないとき\n",
    "    print(\"うるう年ではないです。\")\n",
    "    "
   ]
  },
  {
   "cell_type": "code",
   "execution_count": 12,
   "id": "b6224571-ee2d-4f09-b5ca-216d4c96a52c",
   "metadata": {
    "tags": []
   },
   "outputs": [
    {
     "name": "stdout",
     "output_type": "stream",
     "text": [
      "平均点 91.0 点\n",
      "秀\n"
     ]
    }
   ],
   "source": [
    "#2 5教科の平均点から成績をつける\n",
    "kokugo = 90\n",
    "suugaku  = 90\n",
    "eigo = 100\n",
    "rika = 95\n",
    "syakai = 80\n",
    "\n",
    "total = kokugo + suugaku + eigo + rika + syakai #合計点数\n",
    "ave = total / 5 #平均点\n",
    "\n",
    "print(\"平均点\", ave, \"点\")\n",
    "\n",
    "if ave >= 90: #平均点から成績を算出\n",
    "    print(\"秀\")\n",
    "elif 80 <= ave and ave < 90:\n",
    "    print(\"優\")\n",
    "elif 70 <= ave and ave < 80:\n",
    "    print(\"良\")\n",
    "elif 60 <= ave and ave < 70:\n",
    "    print(\"可\")\n",
    "else:\n",
    "    print(\"不可\")\n"
   ]
  },
  {
   "cell_type": "code",
   "execution_count": 31,
   "id": "c8bd63f5-bfad-4a8d-ba6d-3351cf5ffd7b",
   "metadata": {
    "tags": []
   },
   "outputs": [
    {
     "name": "stdout",
     "output_type": "stream",
     "text": [
      "number 2552\n"
     ]
    },
    {
     "name": "stdout",
     "output_type": "stream",
     "text": [
      "2552\n",
      "同じです。\n"
     ]
    }
   ],
   "source": [
    "#3 好きな数字を逆の数字として表示し、入力した値と同じか判断\n",
    "num = input(\"number\")\n",
    "\n",
    "l = len(num) #桁数を算出\n",
    "\n",
    "total = 0\n",
    "result = 0\n",
    "i = 10 ** (l - 1)\n",
    "j = 1\n",
    "\n",
    "num = int(num)\n",
    "number = num\n",
    "\n",
    "while i >= 1:\n",
    "    result = num // i #桁ごとに数字を取り出す\n",
    "    num = num - result * i #元の数字から取り出した数字の桁だけ引く\n",
    "    total += int(result * j) #桁を反転させる\n",
    "    i /= 10\n",
    "    j *= 10\n",
    "\n",
    "print(total)\n",
    "\n",
    "if number - total == 0: #元と同じであるならば、引き算をすると０\n",
    "    print(\"同じです。\")\n",
    "else:\n",
    "    print(\"同じではないです。\")"
   ]
  },
  {
   "cell_type": "code",
   "execution_count": 32,
   "id": "3b22f724-ab06-4522-a6dc-6ec4987c8e81",
   "metadata": {
    "tags": []
   },
   "outputs": [
    {
     "name": "stdout",
     "output_type": "stream",
     "text": [
      "numbr 12345\n"
     ]
    },
    {
     "name": "stdout",
     "output_type": "stream",
     "text": [
      "15\n"
     ]
    }
   ],
   "source": [
    "#4 5桁の数字を全て足す\n",
    "num = int(input(\"numbr\"))\n",
    "\n",
    "total = 0\n",
    "result = 0\n",
    "i = 10000\n",
    "\n",
    "while i >= 1:\n",
    "    result = num // i #桁ごとに数字を取り出す\n",
    "    num = num - result*i #取り出した数字の桁を引く\n",
    "    total += result #取り出した数字を足し合わせる\n",
    "    i /= 10\n",
    "print(int(total))"
   ]
  },
  {
   "cell_type": "code",
   "execution_count": 36,
   "id": "c6ffe4b8-ed9d-4866-b982-ead9a1cd8492",
   "metadata": {
    "tags": []
   },
   "outputs": [
    {
     "name": "stdout",
     "output_type": "stream",
     "text": [
      "x 0\n",
      "y 0\n",
      "r 2\n",
      "x 2\n",
      "y 0\n"
     ]
    },
    {
     "name": "stdout",
     "output_type": "stream",
     "text": [
      "円の上\n"
     ]
    }
   ],
   "source": [
    "#5 中心座標と半径を入力し、円を求め、任意の座標が円内に含まれているか\n",
    "x1 = int(input(\"x\")) #円を求める\n",
    "y1 = int(input(\"y\"))\n",
    "r = int(input(\"r\"))\n",
    "\n",
    "x2 = int(input(\"x\")) #任意の点を入力\n",
    "y2 = int(input(\"y\"))\n",
    "\n",
    "dis = ((x2 - x1) ** 2 + (y2 - y1) ** 2) ** (1/2) #円の中心と、任意の点との距離を求める\n",
    "\n",
    "if dis <= r: #距離が半径ｒと比べてどうであるか\n",
    "    if dis == r:\n",
    "        print(\"円の上\")\n",
    "    else:\n",
    "        print(\"円の中\")\n",
    "else:\n",
    "    print(\"円の外\")"
   ]
  },
  {
   "cell_type": "code",
   "execution_count": 39,
   "id": "a0dc34d3-c916-4dc3-a1b2-c345fea5ace9",
   "metadata": {
    "tags": []
   },
   "outputs": [
    {
     "name": "stdout",
     "output_type": "stream",
     "text": [
      "number 5\n"
     ]
    },
    {
     "name": "stdout",
     "output_type": "stream",
     "text": [
      "120\n"
     ]
    }
   ],
   "source": [
    "#6 好きな数字を入力し、階上を求める\n",
    "num = int(input(\"number\"))\n",
    "\n",
    "total = num #入力した数字を別の変数に代入する\n",
    "\n",
    "while num > 1: #number が１になるまでループ\n",
    "    num -= 1\n",
    "    total *= num #元の数字から1ずつ引いた数字をかけていく\n",
    "    \n",
    "print(total)"
   ]
  },
  {
   "cell_type": "code",
   "execution_count": null,
   "id": "098fcbbb-9b9c-4679-a5bd-b5dba53ea1ca",
   "metadata": {
    "tags": []
   },
   "outputs": [
    {
     "name": "stdout",
     "output_type": "stream",
     "text": [
      " 1\n",
      " 32\n",
      " 89\n",
      " 0\n",
      " 47\n"
     ]
    },
    {
     "name": "stdout",
     "output_type": "stream",
     "text": [
      "0\n"
     ]
    }
   ],
   "source": [
    "# 7 5つの数字から最小値を表示\n",
    "num = {}\n",
    "\n",
    "for i in range(5):\n",
    "    num[i] = int(input(\"\")) #5つの数字を入力\n",
    "    \n",
    "x = 0\n",
    "\n",
    "if num[0] < num[1]:\n",
    "    if num[0] < num[2]:\n",
    "        if num[0] < num[3]:\n",
    "            if num[0] < num[4]:\n",
    "                x = num[0]\n",
    "            else:\n",
    "                x = num[4]\n",
    "        elif num[3] < num[4]:\n",
    "            x = num[3]\n",
    "        else:\n",
    "            x = num[4]\n",
    "    elif num[2] < num[3]:\n",
    "        if num[2] < num[4]:\n",
    "            x = num[2]\n",
    "        else:\n",
    "            x = num[4]\n",
    "    elif num[3] < num[4]:\n",
    "        x = num[3]\n",
    "    else:\n",
    "        x = num[4]\n",
    "elif num[1] < num[2]:\n",
    "    if num[1] < num[3]:\n",
    "        if num[1] < num[4]:\n",
    "            x = num[1]\n",
    "        else:\n",
    "            x = num[4]\n",
    "    elif num[3] < num[4]:\n",
    "        x = num[3]\n",
    "    else:\n",
    "        x = num[4]\n",
    "elif num[2] < num[3]:\n",
    "    if num[2] < num[4]:\n",
    "        x = num[2]\n",
    "    else:\n",
    "        x = num4\n",
    "elif num[3] < num[4]:\n",
    "    x = num[3]\n",
    "else:\n",
    "    x = num[4]\n",
    "\n",
    "print(x)"
   ]
  },
  {
   "attachments": {},
   "cell_type": "markdown",
   "id": "42b210d7",
   "metadata": {},
   "source": [
    "> if文を多く使用することは望ましくありません。if文を多く使用することは、プログラムの可読性を下げることにもなります。また、if文のネストが深くなると、プログラムのバグを見つけるのが難しくなります。and や or を使用して、if文を簡潔に書いてください。\n",
    "\n",
    "```python\n",
    "# 例\n",
    "# 5つの数字を入力する\n",
    "num1 = float(input(\"1つ目の数字を入力してください： \"))\n",
    "num2 = float(input(\"2つ目の数字を入力してください： \"))\n",
    "num3 = float(input(\"3つ目の数字を入力してください： \"))\n",
    "num4 = float(input(\"4つ目の数字を入力してください： \"))\n",
    "num5 = float(input(\"5つ目の数字を入力してください： \"))\n",
    "\n",
    "# 一番小さい値を見つける\n",
    "min_num = num1\n",
    "\n",
    "if num2 < min_num:\n",
    "    min_num = num2\n",
    "\n",
    "if num3 < min_num:\n",
    "    min_num = num3\n",
    "\n",
    "if num4 < min_num:\n",
    "    min_num = num4\n",
    "\n",
    "if num5 < min_num:\n",
    "    min_num = num5\n",
    "\n",
    "# 結果を表示する\n",
    "print(\"一番小さい値は：\", min_num)\n",
    "```"
   ]
  },
  {
   "cell_type": "code",
   "execution_count": 63,
   "id": "3b2d0c4b-ff66-419c-844d-84116dbbf0b8",
   "metadata": {
    "tags": []
   },
   "outputs": [
    {
     "name": "stdout",
     "output_type": "stream",
     "text": [
      "P1_x 1\n",
      "P1_y 4\n",
      "P2_x 5\n",
      "P2_y 3\n",
      "P3_x 7\n",
      "P3_y 5\n"
     ]
    },
    {
     "name": "stdout",
     "output_type": "stream",
     "text": [
      "同一線上にありません。\n"
     ]
    }
   ],
   "source": [
    "#8 任意の3点が同一線上にあるか\n",
    "p1_x = int(input(\"P1_x\")) #任意の点を入力\n",
    "p1_y = int(input(\"P1_y\"))\n",
    "p2_x = int(input(\"P2_x\"))\n",
    "p2_y = int(input(\"P2_y\"))\n",
    "p3_x = int(input(\"P3_x\"))\n",
    "p3_y = int(input(\"P3_y\"))\n",
    "\n",
    "#2点の直線方程式を求める\n",
    "if p1_x == p2_x:\n",
    "    a = 0\n",
    "else:\n",
    "    a = (p2_y - p1_y) / (p2_x - p1_x) #傾きを求める\n",
    "b = p1_y - p1_x * a #切片を求める\n",
    "\n",
    "z = p3_x * a + b #求めた直線方程式にもう一点のｘ座標の値を代入する\n",
    "\n",
    "if p3_y == z:\n",
    "    print(\"同一線上にあります。\")\n",
    "elif p1_x == p2_x == p3_x or p1_y == p2_y == p3_y:\n",
    "    print(\"同一線上にあります。\")    \n",
    "else:\n",
    "    print(\"同一線上にありません。\")\n"
   ]
  },
  {
   "cell_type": "code",
   "execution_count": 8,
   "id": "d3c1771b-e61e-4cd2-9e35-977574c724d8",
   "metadata": {},
   "outputs": [
    {
     "name": "stdout",
     "output_type": "stream",
     "text": [
      "number 5\n"
     ]
    },
    {
     "name": "stdout",
     "output_type": "stream",
     "text": [
      "    *    \n",
      "\n",
      "   ***   \n",
      "\n",
      "  *****  \n",
      "\n",
      " ******* \n",
      "\n",
      "*********\n",
      "\n"
     ]
    }
   ],
   "source": [
    "#9　*で任意の段数のピラミッドを作成\n",
    "num = int(input(\"number\"))\n",
    "\n",
    "a = 1\n",
    "\n",
    "while num >= 1:\n",
    "    for i in range(num - 1): #空白\n",
    "        print(\" \", end='')\n",
    "    \n",
    "    for i in range(2*a - 1): #＊印をつける\n",
    "        print(\"*\", end='')\n",
    "    \n",
    "    for i in range(num - 1): #空白\n",
    "        print(\" \", end='')\n",
    "        \n",
    "    a += 1\n",
    "    num -= 1\n",
    "    print(\"\\n\") #ループ処理が終わったら改行"
   ]
  },
  {
   "cell_type": "code",
   "execution_count": 11,
   "id": "d342e5eb-c05e-4a42-b17d-edc31a405c10",
   "metadata": {},
   "outputs": [
    {
     "name": "stdout",
     "output_type": "stream",
     "text": [
      "number 4\n"
     ]
    },
    {
     "name": "stdout",
     "output_type": "stream",
     "text": [
      "*******\n",
      "\n",
      " ***** \n",
      "\n",
      "  ***  \n",
      "\n",
      "   *   \n",
      "\n"
     ]
    }
   ],
   "source": [
    "#10 9のピラミッドを上下逆に表示\n",
    "num = int(input(\"number\"))\n",
    "\n",
    "a = 0\n",
    "\n",
    "while num >= 1:\n",
    "    for i in range(a): #空白\n",
    "        print(\" \", end='')\n",
    "    \n",
    "    for i in range(2*num - 1): #＊印をつける\n",
    "        print(\"*\", end='')\n",
    "    \n",
    "    for i in range(a): #空白\n",
    "        print(\" \", end='')\n",
    "        \n",
    "    a += 1\n",
    "    num -= 1\n",
    "\n",
    "    print(\"\\n\") #ループ処理が終わったら改行"
   ]
  },
  {
   "attachments": {},
   "cell_type": "markdown",
   "id": "72e02bd3-f575-463b-93f1-94b5d61275bb",
   "metadata": {},
   "source": [
    "> while文はfor文よりも処理が遅いので、for文を使用することをお勧めします。"
   ]
  },
  {
   "cell_type": "markdown",
   "id": "2dd9a46b",
   "metadata": {},
   "source": []
  }
 ],
 "metadata": {
  "kernelspec": {
   "display_name": "Python 3 (ipykernel)",
   "language": "python",
   "name": "python3"
  },
  "language_info": {
   "codemirror_mode": {
    "name": "ipython",
    "version": 3
   },
   "file_extension": ".py",
   "mimetype": "text/x-python",
   "name": "python",
   "nbconvert_exporter": "python",
   "pygments_lexer": "ipython3",
   "version": "3.8.16"
  }
 },
 "nbformat": 4,
 "nbformat_minor": 5
}
