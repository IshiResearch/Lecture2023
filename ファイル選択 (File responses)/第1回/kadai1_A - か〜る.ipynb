{
 "cells": [
  {
   "cell_type": "markdown",
   "id": "a61504b9-f50e-45b0-a0d1-0674a94db91e",
   "metadata": {
    "tags": []
   },
   "source": [
    "# 1"
   ]
  },
  {
   "cell_type": "code",
   "execution_count": null,
   "id": "5d49a117-85b6-459b-b447-101037c70047",
   "metadata": {
    "tags": []
   },
   "outputs": [],
   "source": [
    "kyori = 303\n",
    "m = kyori * (10 ** 3)\n",
    "cm = m * (10 ** 2)\n",
    "print(f\"札幌と北見の距離は{m}m, {cm}cm\")"
   ]
  },
  {
   "cell_type": "markdown",
   "id": "0a36dce5-ff0f-494d-ae24-a7616704fb19",
   "metadata": {
    "tags": []
   },
   "source": [
    "# 2"
   ]
  },
  {
   "cell_type": "code",
   "execution_count": 12,
   "id": "7c1d2129-f26a-4e4e-a540-c46679b12c2e",
   "metadata": {
    "tags": []
   },
   "outputs": [
    {
     "name": "stdout",
     "output_type": "stream",
     "text": [
      "入力してください： 10\n"
     ]
    },
    {
     "name": "stdout",
     "output_type": "stream",
     "text": [
      "摂氏10℃は華氏50.0℃です。\n"
     ]
    }
   ],
   "source": [
    "C = input(\"入力してください：\")\n",
    "C = int(C)\n",
    "F = C * 1.80 + 32.0\n",
    "print(f\"摂氏{C}℃は華氏{F}℃です。\")"
   ]
  },
  {
   "cell_type": "markdown",
   "id": "fe335492-9b7d-4f98-941c-af5d2a27d86e",
   "metadata": {},
   "source": [
    "# 3"
   ]
  },
  {
   "cell_type": "code",
   "execution_count": 15,
   "id": "3afe1eec-80b1-4182-99fc-eac0bd38d909",
   "metadata": {
    "tags": []
   },
   "outputs": [
    {
     "name": "stdout",
     "output_type": "stream",
     "text": [
      "国語の点数： 35\n",
      "数学の点数： 67\n",
      "物理の点数： 89\n",
      "化学の点数： 48\n",
      "英語の点数： 10\n"
     ]
    },
    {
     "name": "stdout",
     "output_type": "stream",
     "text": [
      "平均点は49.8点\n"
     ]
    }
   ],
   "source": [
    "jap = input(\"国語の点数：\")\n",
    "jap = int(jap)\n",
    "mat = input(\"数学の点数：\")\n",
    "mat = int(mat)\n",
    "phy = input(\"物理の点数：\")\n",
    "phy = int(phy)\n",
    "sci = input(\"化学の点数：\")\n",
    "sci = int(sci)\n",
    "eng = input(\"英語の点数：\")\n",
    "eng = int(eng)\n",
    "ave = (jap + mat + phy + sci + eng)/5\n",
    "print(f\"平均点は{ave}点\")"
   ]
  },
  {
   "attachments": {},
   "cell_type": "markdown",
   "id": "8dc2aee4",
   "metadata": {},
   "source": [
    "> 以下のようにすると、可読性が上がります。\n",
    "```python\n",
    "jap = int(input(\"国語の点数：\"))\n",
    "```"
   ]
  },
  {
   "cell_type": "markdown",
   "id": "c26d65ac-b9b5-4a4c-99c4-74290454d9d8",
   "metadata": {},
   "source": [
    "# 4"
   ]
  },
  {
   "cell_type": "code",
   "execution_count": 22,
   "id": "77a3502f-288f-4bd2-abd5-6cdf2088c679",
   "metadata": {
    "tags": []
   },
   "outputs": [
    {
     "name": "stdout",
     "output_type": "stream",
     "text": [
      "円の面積は78.54cm²,円周は31.42cm\n"
     ]
    }
   ],
   "source": [
    "import math\n",
    "r = 5\n",
    "pi = math.pi\n",
    "area = r * r * pi\n",
    "ensyu = r * 2 * pi\n",
    "print(f\"円の面積は{area:.2f}cm²,円周は{ensyu:.2f}cm\")"
   ]
  },
  {
   "cell_type": "markdown",
   "id": "10351f00-a288-4805-a378-ace3d974de6a",
   "metadata": {},
   "source": [
    "# 5"
   ]
  },
  {
   "cell_type": "code",
   "execution_count": 32,
   "id": "c37c48bb-281d-4ddc-b17e-c8bbdd16128d",
   "metadata": {
    "tags": []
   },
   "outputs": [
    {
     "name": "stdout",
     "output_type": "stream",
     "text": [
      " 12345\n"
     ]
    },
    {
     "name": "stdout",
     "output_type": "stream",
     "text": [
      "15\n"
     ]
    }
   ],
   "source": [
    "a = list(input())\n",
    "b = len(a)\n",
    "n = 0\n",
    "for i in range(0, b):\n",
    "    n += int(a[i])\n",
    "print(n)"
   ]
  },
  {
   "cell_type": "code",
   "execution_count": 41,
   "id": "c4783f6f-dc24-4037-b40e-315742b41342",
   "metadata": {
    "tags": []
   },
   "outputs": [
    {
     "name": "stdout",
     "output_type": "stream",
     "text": [
      " 12345\n"
     ]
    },
    {
     "name": "stdout",
     "output_type": "stream",
     "text": [
      "15\n"
     ]
    }
   ],
   "source": [
    "n = input()\n",
    "n = int(n)\n",
    "total = 0\n",
    "for i in range(6):\n",
    "    if n == 0:\n",
    "        break\n",
    "    total = total + n % 10\n",
    "    n = n//10\n",
    "print(total)"
   ]
  },
  {
   "cell_type": "markdown",
   "id": "7c1729d9-4e9e-409b-9b07-a4706583245e",
   "metadata": {},
   "source": [
    "# 6"
   ]
  },
  {
   "cell_type": "code",
   "execution_count": 69,
   "id": "9d501ad6-d582-4561-9b35-075984e866b9",
   "metadata": {
    "tags": []
   },
   "outputs": [
    {
     "name": "stdout",
     "output_type": "stream",
     "text": [
      " 12345\n"
     ]
    },
    {
     "name": "stdout",
     "output_type": "stream",
     "text": [
      "54321\n"
     ]
    }
   ],
   "source": [
    "n = input()\n",
    "n = int(n)\n",
    "m = 0\n",
    "for i in range(5):\n",
    "    m += n%10 * (10 ** (4-i))\n",
    "    n = n//10\n",
    "print(m)"
   ]
  },
  {
   "cell_type": "markdown",
   "id": "a2045b1c-616c-4e06-81c0-4176d5c78f48",
   "metadata": {},
   "source": [
    "# 7"
   ]
  },
  {
   "cell_type": "code",
   "execution_count": 60,
   "id": "5e01c52b-3fd1-423b-a149-d85281c82b9b",
   "metadata": {
    "tags": []
   },
   "outputs": [
    {
     "name": "stdout",
     "output_type": "stream",
     "text": [
      " 9\n",
      " 4\n"
     ]
    },
    {
     "name": "stdout",
     "output_type": "stream",
     "text": [
      "a = 4, b = 9\n"
     ]
    }
   ],
   "source": [
    "a = int(input())\n",
    "b = int(input())\n",
    "c = a - b\n",
    "a = a - c\n",
    "b = b + c\n",
    "print(f\"a = {a}, b = {b}\")"
   ]
  },
  {
   "cell_type": "markdown",
   "id": "632093ea-7002-4861-b080-93b53eed7f16",
   "metadata": {},
   "source": [
    "# 8"
   ]
  },
  {
   "cell_type": "code",
   "execution_count": 63,
   "id": "cc0bb4b5-4686-4008-aca5-34b3b1793371",
   "metadata": {
    "tags": []
   },
   "outputs": [
    {
     "name": "stdout",
     "output_type": "stream",
     "text": [
      " 2\n",
      " 4\n"
     ]
    },
    {
     "name": "stdout",
     "output_type": "stream",
     "text": [
      "a = 4, b = 2\n"
     ]
    }
   ],
   "source": [
    "a = int(input())\n",
    "b = int(input())\n",
    "a,b = b,a\n",
    "print(f\"a = {a}, b = {b}\")"
   ]
  },
  {
   "cell_type": "code",
   "execution_count": null,
   "id": "dd188607-008b-41fb-a474-67227beb9246",
   "metadata": {},
   "outputs": [],
   "source": []
  }
 ],
 "metadata": {
  "kernelspec": {
   "display_name": "Python 3 (ipykernel)",
   "language": "python",
   "name": "python3"
  },
  "language_info": {
   "codemirror_mode": {
    "name": "ipython",
    "version": 3
   },
   "file_extension": ".py",
   "mimetype": "text/x-python",
   "name": "python",
   "nbconvert_exporter": "python",
   "pygments_lexer": "ipython3",
   "version": "3.8.16"
  }
 },
 "nbformat": 4,
 "nbformat_minor": 5
}
