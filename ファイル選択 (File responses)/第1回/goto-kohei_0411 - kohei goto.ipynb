{
 "cells": [
  {
   "cell_type": "code",
   "execution_count": null,
   "id": "0f8a6ec3-1ed8-4301-93a1-d9bcbffaba0a",
   "metadata": {},
   "outputs": [],
   "source": [
    "12, 4 -> int\n",
    "0.8, 15.2 -> float\n",
    "\"abc\" -> str\n",
    "True False -> bool"
   ]
  },
  {
   "cell_type": "markdown",
   "id": "5656c95f-fcbb-4a6d-a855-61b0e0d2726a",
   "metadata": {},
   "source": [
    "# 課題"
   ]
  },
  {
   "cell_type": "markdown",
   "id": "0f820ac2-129d-47b1-8bd8-2d6c910df02e",
   "metadata": {},
   "source": [
    "## 1-距離の単位換算"
   ]
  },
  {
   "cell_type": "code",
   "execution_count": 61,
   "id": "d2c4c609-eb29-4301-ab8e-b0d2c51b9606",
   "metadata": {
    "tags": []
   },
   "outputs": [
    {
     "name": "stdout",
     "output_type": "stream",
     "text": [
      "札幌ー北見間は303000(m)です\n",
      "札幌ー北見間は30300000(cm)です\n"
     ]
    }
   ],
   "source": [
    "dist = 303\n",
    "meter = dist*1000\n",
    "centi = meter*100\n",
    "print(\"札幌ー北見間は%d(m)です\" %(meter))\n",
    "print(\"札幌ー北見間は%d(cm)です\" %(centi))"
   ]
  },
  {
   "cell_type": "markdown",
   "id": "738106d1-5a5b-4c49-bc1a-b5a249f642fe",
   "metadata": {},
   "source": [
    "## 2-温度の単位換算"
   ]
  },
  {
   "cell_type": "code",
   "execution_count": 63,
   "id": "943ff956-4d65-4e22-801c-e40ff9260bc8",
   "metadata": {
    "tags": []
   },
   "outputs": [
    {
     "name": "stdout",
     "output_type": "stream",
     "text": [
      "セルシウス温度 26\n"
     ]
    },
    {
     "name": "stdout",
     "output_type": "stream",
     "text": [
      "摂氏26℃は、華氏78.800000℉です\n"
     ]
    }
   ],
   "source": [
    "cel = int(input(\"セルシウス温度\"))\n",
    "far = (cel * 1.8) + 32\n",
    "print(\"摂氏%d℃は、華氏%f℉です\" %(cel,far))"
   ]
  },
  {
   "cell_type": "markdown",
   "id": "aa3aed10-098c-463d-bc8f-856c26fbabbf",
   "metadata": {},
   "source": [
    "## 3-平均点を出す"
   ]
  },
  {
   "cell_type": "code",
   "execution_count": 64,
   "id": "c2a8041a-ffba-42fb-a7f7-e48fd7a86241",
   "metadata": {
    "tags": []
   },
   "outputs": [
    {
     "name": "stdout",
     "output_type": "stream",
     "text": [
      "国語の点数を入力してください 80\n",
      "数学の点数を入力してください 70\n",
      "物理の点数を入力してください 90\n",
      "化学の点数を入力してください 40\n",
      "英語の点数を入力してください 68\n"
     ]
    },
    {
     "name": "stdout",
     "output_type": "stream",
     "text": [
      "平均点は69.600000点です\n"
     ]
    }
   ],
   "source": [
    "japa = int(input(\"国語の点数を入力してください\"))\n",
    "math = int(input(\"数学の点数を入力してください\"))\n",
    "phy = int(input(\"物理の点数を入力してください\"))\n",
    "che = int(input(\"化学の点数を入力してください\"))\n",
    "eng = int(input(\"英語の点数を入力してください\"))\n",
    "\n",
    "total = japa + math + phy + che + eng\n",
    "ave = total / 5\n",
    "\n",
    "print(\"平均点は%f点です\" %(ave))"
   ]
  },
  {
   "cell_type": "markdown",
   "id": "625a59b6-9d61-43f3-80c7-64d031c18b35",
   "metadata": {},
   "source": [
    "## 4-半径から円周と面積をだす"
   ]
  },
  {
   "cell_type": "code",
   "execution_count": 66,
   "id": "c97cf7f6-90c2-4199-910f-9e842ea7d55e",
   "metadata": {
    "tags": []
   },
   "outputs": [
    {
     "name": "stdout",
     "output_type": "stream",
     "text": [
      "半径を入力してください 5\n"
     ]
    },
    {
     "name": "stdout",
     "output_type": "stream",
     "text": [
      "半径5の円周は31.415927、面積は78.539816です\n"
     ]
    }
   ],
   "source": [
    "import math\n",
    "\n",
    "radi = int(input(\"半径を入力してください\"))\n",
    "\n",
    "ensyu = radi * 2 * math.pi\n",
    "menseki = radi * radi * math.pi\n",
    "print(\"半径%dの円周は%f、面積は%fです\" %(radi,ensyu,menseki))"
   ]
  },
  {
   "cell_type": "markdown",
   "id": "c0fbfe9c-4dbe-41db-9dbb-4a9cb3dec696",
   "metadata": {},
   "source": [
    "## 5-各桁の値を足す"
   ]
  },
  {
   "cell_type": "code",
   "execution_count": 67,
   "id": "5b6ff26a-5a75-4a62-9186-bc03abe64767",
   "metadata": {
    "tags": []
   },
   "outputs": [
    {
     "name": "stdout",
     "output_type": "stream",
     "text": [
      "5桁の数字を入力してください 5\n"
     ]
    },
    {
     "name": "stdout",
     "output_type": "stream",
     "text": [
      "5の各桁を足した値は5です\n"
     ]
    }
   ],
   "source": [
    "seisuu = int(input(\"5桁の数字を入力してください\"))\n",
    "ans = 0\n",
    "print(\"%dの各桁を足した値は\" %(seisuu),end=\"\")\n",
    "while seisuu > 0:\n",
    "    ans = ans + (seisuu % 10) #1の位を求める\n",
    "    seisuu = seisuu // 10\n",
    "    \n",
    "print(\"%dです\" %(ans))"
   ]
  },
  {
   "cell_type": "markdown",
   "id": "7d41cceb-f2cc-4070-8117-569596bdcf65",
   "metadata": {},
   "source": [
    "## 6-5桁の数字を反転させる"
   ]
  },
  {
   "cell_type": "code",
   "execution_count": 68,
   "id": "075527a3-4f97-411e-8790-e48a1cdd20d0",
   "metadata": {
    "tags": []
   },
   "outputs": [
    {
     "name": "stdout",
     "output_type": "stream",
     "text": [
      "5桁の数字を入力してください 12345\n"
     ]
    },
    {
     "name": "stdout",
     "output_type": "stream",
     "text": [
      "12345を反転させた値は54321です\n"
     ]
    }
   ],
   "source": [
    "seisuu = int(input(\"5桁の数字を入力してください\"))\n",
    "ans = 0\n",
    "print(\"%dを反転させた値は\" %(seisuu),end=\"\")\n",
    "keta = 10000\n",
    "\n",
    "while seisuu > 0:\n",
    "    ans = ans + ((seisuu % 10) * keta) #1の位を求め、桁数分10をかける\n",
    "    seisuu = seisuu//10\n",
    "    keta = keta/10\n",
    "\n",
    "print(\"%dです\" %(ans))"
   ]
  },
  {
   "cell_type": "markdown",
   "id": "98461464-ac92-417f-b1c0-e36e46418bbc",
   "metadata": {},
   "source": [
    "## 7-変数を入れ替える(入れ替え用の変数を用意する)"
   ]
  },
  {
   "cell_type": "code",
   "execution_count": 70,
   "id": "97d11877-4d44-45a7-a5e8-10276992b2d4",
   "metadata": {
    "tags": []
   },
   "outputs": [
    {
     "name": "stdout",
     "output_type": "stream",
     "text": [
      "a = 7, b = 5\n"
     ]
    }
   ],
   "source": [
    "a = 5\n",
    "b = 7\n",
    "\n",
    "c = a\n",
    "a = b\n",
    "b = c\n",
    "\n",
    "print(\"a = %d, b = %d\" %(a,b))"
   ]
  },
  {
   "cell_type": "markdown",
   "id": "e57a4832-5cd2-43cc-9c62-2554456913de",
   "metadata": {},
   "source": [
    "## 8-変数を入れ替える"
   ]
  },
  {
   "cell_type": "code",
   "execution_count": 71,
   "id": "dacac7b0-6785-4c3d-9754-8dc3fa37b99a",
   "metadata": {
    "tags": []
   },
   "outputs": [
    {
     "name": "stdout",
     "output_type": "stream",
     "text": [
      "a = 7, b = 5\n"
     ]
    }
   ],
   "source": [
    "a = 5\n",
    "b = 7\n",
    "\n",
    "a, b = b, a\n",
    "print(\"a = %d, b = %d\" %(a,b))"
   ]
  },
  {
   "cell_type": "markdown",
   "id": "45620e8c-fb7c-40b6-a30c-d996de71a642",
   "metadata": {},
   "source": [
    "# 課題2"
   ]
  },
  {
   "cell_type": "markdown",
   "id": "04ce498d-74a4-4f4d-8317-cc1ffa520481",
   "metadata": {},
   "source": [
    "## 1-うるう年の判定"
   ]
  },
  {
   "cell_type": "code",
   "execution_count": 72,
   "id": "8bd1217a-ea65-4f73-9d26-294acf19a68d",
   "metadata": {
    "tags": []
   },
   "outputs": [
    {
     "name": "stdout",
     "output_type": "stream",
     "text": [
      "年を入力してください 2023\n"
     ]
    },
    {
     "name": "stdout",
     "output_type": "stream",
     "text": [
      "うるう年ではありません\n"
     ]
    }
   ],
   "source": [
    "year = int(input(\"年を入力してください\"))\n",
    "\n",
    "if (year % 4) == 0:\n",
    "    if (year % 100) != 0:\n",
    "        print(\"うるう年です\")\n",
    "    else:\n",
    "        if (year % 400) == 0:\n",
    "            print(\"うるう年です\")\n",
    "        else:\n",
    "            print(\"うるう年ではありません\")\n",
    "else:\n",
    "    print(\"うるう年ではありません\")"
   ]
  },
  {
   "cell_type": "markdown",
   "id": "c5a97a3c-ca7c-4e12-98f2-c86978871311",
   "metadata": {},
   "source": [
    "## 2-平均点をだす"
   ]
  },
  {
   "cell_type": "code",
   "execution_count": 74,
   "id": "d99408f1-da2b-46fa-9c80-d95c0efa6b29",
   "metadata": {
    "tags": []
   },
   "outputs": [
    {
     "name": "stdout",
     "output_type": "stream",
     "text": [
      "国語の点数を入力してください 79\n",
      "数学の点数を入力してください 53\n",
      "物理の点数を入力してください 94\n",
      "化学の点数を入力してください 81\n",
      "英語の点数を入力してください 62\n"
     ]
    },
    {
     "name": "stdout",
     "output_type": "stream",
     "text": [
      "平均点は73.800000です\n",
      "あなたの成績は良です\n"
     ]
    }
   ],
   "source": [
    "japa = int(input(\"国語の点数を入力してください\"))\n",
    "math = int(input(\"数学の点数を入力してください\"))\n",
    "phy = int(input(\"物理の点数を入力してください\"))\n",
    "che = int(input(\"化学の点数を入力してください\"))\n",
    "eng = int(input(\"英語の点数を入力してください\"))\n",
    "\n",
    "total = japa + math + phy + che + eng\n",
    "ave = total / 5\n",
    "\n",
    "print(\"平均点は%fです\" %(ave))\n",
    "\n",
    "if ave >= 90:\n",
    "    print(\"あなたの成績は秀です\")\n",
    "elif ave >= 80:\n",
    "    print(\"あなたの成績は優です\")\n",
    "elif ave >= 70:\n",
    "    print(\"あなたの成績は良です\")\n",
    "elif ave >= 60:\n",
    "    print(\"あなたの成績は可です\")\n",
    "else:\n",
    "    print(\"あなたの成績は不可です\")"
   ]
  },
  {
   "cell_type": "markdown",
   "id": "ac48cf27-3928-4366-b9a2-88667cb1c064",
   "metadata": {},
   "source": [
    "## 3-数字を反転させて、元の数字の一致するか"
   ]
  },
  {
   "cell_type": "code",
   "execution_count": 76,
   "id": "6bc67335-852e-49b9-8d71-1cc9a65963e4",
   "metadata": {
    "tags": []
   },
   "outputs": [
    {
     "name": "stdout",
     "output_type": "stream",
     "text": [
      "5桁の数字を入力してください 252\n"
     ]
    },
    {
     "name": "stdout",
     "output_type": "stream",
     "text": [
      "252を反転させた値は252です\n",
      "反転させた数字は、元の数字の一致する\n"
     ]
    }
   ],
   "source": [
    "seisuu = int(input(\"5桁の数字を入力してください\"))\n",
    "memory1 = seisuu #seisuuを計算に使うが、入力した数字の桁数を求めるため、\n",
    "memory2 = seisuu #元の数字と一致するか判断するために2つ用意する\n",
    "ans = 0\n",
    "print(\"%dを反転させた値は\" %(seisuu),end=\"\")\n",
    "count = 0\n",
    "while memory1 >= 1:\n",
    "    memory1 = memory1//10\n",
    "    count += 1 #桁数を求める\n",
    "keta = 10**(count-1)\n",
    "while seisuu > 0:\n",
    "    ans = ans + ((seisuu % 10) * keta)\n",
    "    seisuu = seisuu//10\n",
    "    keta = keta/10\n",
    "\n",
    "print(\"%dです\" %(ans))\n",
    "\n",
    "if memory2 == ans:\n",
    "    print(\"反転させた数字は、元の数字の一致する\")\n",
    "else:\n",
    "    print(\"反転させた数字は、元の数字の一致しない\")"
   ]
  },
  {
   "cell_type": "markdown",
   "id": "5a46982c-2d46-45f5-96a1-24633074d5d4",
   "metadata": {},
   "source": [
    "## 4-5桁の数字を全てたす"
   ]
  },
  {
   "cell_type": "code",
   "execution_count": 78,
   "id": "828efe2c-b27a-4dd8-af37-6e05bd26a419",
   "metadata": {
    "tags": []
   },
   "outputs": [
    {
     "name": "stdout",
     "output_type": "stream",
     "text": [
      "5桁の数字を入力してください 12345\n"
     ]
    },
    {
     "name": "stdout",
     "output_type": "stream",
     "text": [
      "12345の各桁を足した値は15です\n"
     ]
    }
   ],
   "source": [
    "seisuu = int(input(\"5桁の数字を入力してください\"))\n",
    "ans = 0\n",
    "print(\"%dの各桁を足した値は\" %(seisuu),end=\"\")\n",
    "while seisuu > 0:\n",
    "    ans = ans + (seisuu % 10)\n",
    "    seisuu = seisuu // 10\n",
    "    \n",
    "print(\"%dです\" %(ans))"
   ]
  },
  {
   "cell_type": "markdown",
   "id": "f3a9eb2f-16b8-4b32-8515-dcefd737e3e2",
   "metadata": {},
   "source": [
    "## 5-円を描き、任意の点が円内にあるか判定"
   ]
  },
  {
   "cell_type": "code",
   "execution_count": 79,
   "id": "619f7bb0-3d8b-44ff-9f07-06a21a386e4c",
   "metadata": {
    "tags": []
   },
   "outputs": [
    {
     "name": "stdout",
     "output_type": "stream",
     "text": [
      "中心のx座標を入力してください 3\n",
      "中心のy座標を入力してください 6\n",
      "半径を入力してください 4\n",
      "x座標を入力してください 1\n",
      "y座標を入力してください 4\n"
     ]
    },
    {
     "name": "stdout",
     "output_type": "stream",
     "text": [
      "円の中です\n"
     ]
    }
   ],
   "source": [
    "import math\n",
    "cen_x = int(input(\"中心のx座標を入力してください\"))\n",
    "cen_y = int(input(\"中心のy座標を入力してください\"))\n",
    "radi =  int(input(\"半径を入力してください\"))\n",
    "x =  int(input(\"x座標を入力してください\"))\n",
    "y =  int(input(\"y座標を入力してください\"))\n",
    "\n",
    "dist = math.sqrt((x - cen_x)**2 + (y -cen_y)**2) #2点間の距離を求める\n",
    "\n",
    "if dist > radi:\n",
    "    print(\"円の外です\")\n",
    "if dist < radi:\n",
    "    print(\"円の中です\")\n",
    "if dist == radi:\n",
    "    print(\"円の上です\")"
   ]
  },
  {
   "cell_type": "markdown",
   "id": "7e2004c8-e7b8-440c-ab8e-1cff862d827c",
   "metadata": {},
   "source": [
    "## 6-べき乗を表示させる"
   ]
  },
  {
   "cell_type": "code",
   "execution_count": 80,
   "id": "995929a2-4a6e-4ce8-87a3-c4635bfe9c6d",
   "metadata": {
    "tags": []
   },
   "outputs": [
    {
     "name": "stdout",
     "output_type": "stream",
     "text": [
      "好きな数字を入力してください 5\n"
     ]
    },
    {
     "name": "stdout",
     "output_type": "stream",
     "text": [
      "5のべき乗は120です\n"
     ]
    }
   ],
   "source": [
    "num = int(input(\"好きな数字を入力してください\"))\n",
    "print(\"%dのべき乗は\" %(num),end=\"\")\n",
    "ans = 1\n",
    "\n",
    "while num >= 1:\n",
    "    ans = ans * num\n",
    "    num -= 1\n",
    "    \n",
    "print(\"%dです\" %(ans))"
   ]
  },
  {
   "cell_type": "markdown",
   "id": "ac1527a3-907f-4239-bcc2-573265017a6d",
   "metadata": {},
   "source": [
    "## 7-最小値を見つける"
   ]
  },
  {
   "cell_type": "code",
   "execution_count": 81,
   "id": "c6a12efb-0611-4eb1-9cf2-324dbbf642ba",
   "metadata": {
    "tags": []
   },
   "outputs": [
    {
     "name": "stdout",
     "output_type": "stream",
     "text": [
      "好きな数字を入力してください -1\n",
      "好きな数字を入力してください 23\n",
      "好きな数字を入力してください 45\n",
      "好きな数字を入力してください 66\n",
      "好きな数字を入力してください 2\n"
     ]
    },
    {
     "name": "stdout",
     "output_type": "stream",
     "text": [
      "最小値は-1です\n"
     ]
    }
   ],
   "source": [
    "num1 = int(input(\"好きな数字を入力してください\"))\n",
    "num2 = int(input(\"好きな数字を入力してください\"))\n",
    "num3 = int(input(\"好きな数字を入力してください\"))\n",
    "num4 = int(input(\"好きな数字を入力してください\"))\n",
    "num5 = int(input(\"好きな数字を入力してください\"))\n",
    "\n",
    "num_list = [num1,num2,num3,num4,num5]\n",
    "ans = min(num_list) #リストにして最小値を求める\n",
    "\n",
    "print(\"最小値は%dです\" %(ans))"
   ]
  },
  {
   "cell_type": "markdown",
   "id": "df908005-b0c9-4e42-9366-1beb98784fb6",
   "metadata": {},
   "source": [
    "## 8-3つの点が同一直線上にあるか判定"
   ]
  },
  {
   "cell_type": "code",
   "execution_count": 82,
   "id": "b973ab46-dabf-4b9a-a444-482b14675921",
   "metadata": {
    "tags": []
   },
   "outputs": [
    {
     "name": "stdout",
     "output_type": "stream",
     "text": [
      "x座標を入力してください 1\n",
      "y座標を入力してください 5\n",
      "x座標を入力してください 4\n",
      "y座標を入力してください 10\n",
      "x座標を入力してください 7\n",
      "y座標を入力してください 15\n"
     ]
    },
    {
     "name": "stdout",
     "output_type": "stream",
     "text": [
      "3点は同一直線上にあります\n"
     ]
    }
   ],
   "source": [
    "x1 =  int(input(\"x座標を入力してください\"))\n",
    "y1 =  int(input(\"y座標を入力してください\"))\n",
    "x2 =  int(input(\"x座標を入力してください\"))\n",
    "y2 =  int(input(\"y座標を入力してください\"))\n",
    "x3 =  int(input(\"x座標を入力してください\"))\n",
    "y3 =  int(input(\"y座標を入力してください\"))\n",
    "\n",
    "katamuki1 = (y2 - y1)/(x2 - x1) #yの変化量/xの変化量->傾きを求める\n",
    "katamuki2 = (y3 - y1)/(x3 - x1)\n",
    "\n",
    "if katamuki1 == katamuki2:\n",
    "    print(\"3点は同一直線上にあります\")\n",
    "else:\n",
    "    print(\"3点は同一直線上にありません\")"
   ]
  },
  {
   "cell_type": "markdown",
   "id": "aee0603b-7daa-45d7-a440-1de55bbb692d",
   "metadata": {},
   "source": [
    "## 9-任意の段数のピラミッドをつくる"
   ]
  },
  {
   "cell_type": "code",
   "execution_count": 6,
   "id": "8a22e748-1f0e-4193-be7b-852240c2b3e9",
   "metadata": {
    "tags": []
   },
   "outputs": [
    {
     "name": "stdout",
     "output_type": "stream",
     "text": [
      "段数を入力してください 3\n"
     ]
    },
    {
     "name": "stdout",
     "output_type": "stream",
     "text": [
      "  *\n",
      " ***\n",
      "*****\n"
     ]
    }
   ],
   "source": [
    "dansuu = int(input(\"段数を入力してください\"))\n",
    "count = 0 #＊のカウント\n",
    "\n",
    "for i in range(dansuu, 0, -1):\n",
    "    print(\" \"*(i - 1) + \"*\"*((count * 2) + 1))\n",
    "    count += 1"
   ]
  },
  {
   "cell_type": "markdown",
   "id": "54ff88e8-590d-4caa-8b70-8517779ca25b",
   "metadata": {},
   "source": [
    "## 10-9の逆ピラミッド"
   ]
  },
  {
   "cell_type": "code",
   "execution_count": 7,
   "id": "d8e79f83-573b-4036-ad02-b8691f635ff4",
   "metadata": {
    "tags": []
   },
   "outputs": [
    {
     "name": "stdout",
     "output_type": "stream",
     "text": [
      "段数を入力してください 3\n"
     ]
    },
    {
     "name": "stdout",
     "output_type": "stream",
     "text": [
      "*****\n",
      " ***\n",
      "  *\n"
     ]
    }
   ],
   "source": [
    "dansuu = int(input(\"段数を入力してください\"))\n",
    "count = 0 # のカウント\n",
    "\n",
    "for i in range(dansuu, 0, -1):\n",
    "    print(\" \"*(count) + \"*\"*((i * 2) - 1))\n",
    "    count += 1"
   ]
  },
  {
   "attachments": {},
   "cell_type": "markdown",
   "id": "2e398273-bcf1-4ab2-9e5a-70e6038f1088",
   "metadata": {},
   "source": [
    "> * 全体的に読みやすいコードです。\n",
    "> * while文はfor文よりも処理速度が遅いので、for文を使うようにしましょう。"
   ]
  },
  {
   "cell_type": "code",
   "execution_count": null,
   "id": "10dfba74-f0a5-4e12-838d-4b6112f8800c",
   "metadata": {},
   "outputs": [],
   "source": []
  }
 ],
 "metadata": {
  "kernelspec": {
   "display_name": "Python 3 (ipykernel)",
   "language": "python",
   "name": "python3"
  },
  "language_info": {
   "codemirror_mode": {
    "name": "ipython",
    "version": 3
   },
   "file_extension": ".py",
   "mimetype": "text/x-python",
   "name": "python",
   "nbconvert_exporter": "python",
   "pygments_lexer": "ipython3",
   "version": "3.8.16"
  }
 },
 "nbformat": 4,
 "nbformat_minor": 5
}
