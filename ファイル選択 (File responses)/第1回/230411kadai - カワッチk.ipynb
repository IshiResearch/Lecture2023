{
 "cells": [
  {
   "cell_type": "code",
   "execution_count": 213,
   "id": "0483c276-a7c2-46b9-87aa-cad757bb2a13",
   "metadata": {
    "tags": []
   },
   "outputs": [
    {
     "name": "stdout",
     "output_type": "stream",
     "text": [
      "札幌と北見の距離(km) 303\n"
     ]
    }
   ],
   "source": [
    "# 札幌と北見の距離\n",
    "a = input(\"札幌と北見の距離(km)\")"
   ]
  },
  {
   "cell_type": "code",
   "execution_count": 214,
   "id": "242e67e5-9d65-4774-8fdf-cc89fa9dc941",
   "metadata": {
    "tags": []
   },
   "outputs": [
    {
     "data": {
      "text/plain": [
       "'303'"
      ]
     },
     "execution_count": 214,
     "metadata": {},
     "output_type": "execute_result"
    }
   ],
   "source": [
    "a"
   ]
  },
  {
   "cell_type": "code",
   "execution_count": 215,
   "id": "5c36f535-6c03-45ee-9f1b-720773691de0",
   "metadata": {
    "tags": []
   },
   "outputs": [
    {
     "data": {
      "text/plain": [
       "str"
      ]
     },
     "execution_count": 215,
     "metadata": {},
     "output_type": "execute_result"
    }
   ],
   "source": [
    "type(a)"
   ]
  },
  {
   "cell_type": "code",
   "execution_count": 216,
   "id": "f7c6d2be-e7e4-4ad8-9dc5-7b371043790b",
   "metadata": {
    "tags": []
   },
   "outputs": [],
   "source": [
    "a = int(a)"
   ]
  },
  {
   "cell_type": "code",
   "execution_count": 217,
   "id": "d4f642b4-dcde-4460-8c64-5679dfbbc408",
   "metadata": {
    "tags": []
   },
   "outputs": [
    {
     "data": {
      "text/plain": [
       "int"
      ]
     },
     "execution_count": 217,
     "metadata": {},
     "output_type": "execute_result"
    }
   ],
   "source": [
    "type(a)"
   ]
  },
  {
   "cell_type": "code",
   "execution_count": 218,
   "id": "ad5e216f-2058-4e7f-b4c8-7af7a3aa80fc",
   "metadata": {
    "tags": []
   },
   "outputs": [
    {
     "name": "stdout",
     "output_type": "stream",
     "text": [
      "札幌と北見の距離は303000mです。\n",
      "札幌と北見の距離は30300000cmです。\n"
     ]
    }
   ],
   "source": [
    "b = a * 1000\n",
    "c = b * 100\n",
    "\n",
    "print(\"札幌と北見の距離は{}mです。\".format(b))\n",
    "print(\"札幌と北見の距離は{}cmです。\".format(c))"
   ]
  },
  {
   "cell_type": "code",
   "execution_count": 219,
   "id": "bf864648-014c-4fce-9b8c-7759951d7947",
   "metadata": {
    "tags": []
   },
   "outputs": [
    {
     "name": "stdout",
     "output_type": "stream",
     "text": [
      "温度は何度(℃)？ 41\n"
     ]
    }
   ],
   "source": [
    "# 温度の単位を摂氏から華氏へ変換\n",
    "c = input(\"温度は何度(℃)？\")"
   ]
  },
  {
   "cell_type": "code",
   "execution_count": 220,
   "id": "5975840d-adbf-4a31-b439-cad76ce9c284",
   "metadata": {
    "tags": []
   },
   "outputs": [
    {
     "data": {
      "text/plain": [
       "'41'"
      ]
     },
     "execution_count": 220,
     "metadata": {},
     "output_type": "execute_result"
    }
   ],
   "source": [
    "c"
   ]
  },
  {
   "cell_type": "code",
   "execution_count": 221,
   "id": "93a22368-c56c-4933-8508-c8d4419eda1f",
   "metadata": {
    "tags": []
   },
   "outputs": [
    {
     "data": {
      "text/plain": [
       "str"
      ]
     },
     "execution_count": 221,
     "metadata": {},
     "output_type": "execute_result"
    }
   ],
   "source": [
    "type(c)"
   ]
  },
  {
   "cell_type": "code",
   "execution_count": 222,
   "id": "7c976e56-8dd9-44c5-b324-a2043b95c038",
   "metadata": {
    "tags": []
   },
   "outputs": [],
   "source": [
    "c = int(c)"
   ]
  },
  {
   "cell_type": "code",
   "execution_count": 223,
   "id": "95ea384b-ad17-4f70-bcc6-8354e3894eae",
   "metadata": {
    "tags": []
   },
   "outputs": [
    {
     "data": {
      "text/plain": [
       "int"
      ]
     },
     "execution_count": 223,
     "metadata": {},
     "output_type": "execute_result"
    }
   ],
   "source": [
    "type(c)"
   ]
  },
  {
   "cell_type": "code",
   "execution_count": 224,
   "id": "aa4811bb-b778-4daa-a29b-6e74938d8c86",
   "metadata": {
    "tags": []
   },
   "outputs": [
    {
     "name": "stdout",
     "output_type": "stream",
     "text": [
      "この部屋の華氏は105.8°Fです。\n"
     ]
    }
   ],
   "source": [
    "f = (c * 1.80) + 32.0\n",
    "print(\"この部屋の華氏は{}°Fです。\".format(f))"
   ]
  },
  {
   "cell_type": "code",
   "execution_count": 225,
   "id": "59f6874a-d070-4af5-bb91-139af47b1924",
   "metadata": {
    "tags": []
   },
   "outputs": [],
   "source": [
    "# 5教科のテストの点数の平均点\n",
    "score = [73,86,76,65,93]"
   ]
  },
  {
   "cell_type": "code",
   "execution_count": 226,
   "id": "2e3483a8-22a7-414e-97f3-06e488f4bf38",
   "metadata": {
    "tags": []
   },
   "outputs": [],
   "source": [
    "ave = sum(score) / len(score)"
   ]
  },
  {
   "cell_type": "code",
   "execution_count": 227,
   "id": "8ef26e5f-10ed-45e1-85c9-d6e6b9527e8a",
   "metadata": {
    "tags": []
   },
   "outputs": [
    {
     "name": "stdout",
     "output_type": "stream",
     "text": [
      "5教科のテストの点数の平均点は78.6点です。\n"
     ]
    }
   ],
   "source": [
    "print(\"5教科のテストの点数の平均点は{}点です。\".format(ave))"
   ]
  },
  {
   "cell_type": "code",
   "execution_count": 228,
   "id": "bf38e4d5-6a86-43d9-bb5e-388fab0fb819",
   "metadata": {
    "tags": []
   },
   "outputs": [
    {
     "name": "stdout",
     "output_type": "stream",
     "text": [
      "円の半径 14\n"
     ]
    }
   ],
   "source": [
    "# 円の半径から面積と円周を求める\n",
    "r = input(\"円の半径\")"
   ]
  },
  {
   "cell_type": "code",
   "execution_count": 229,
   "id": "46e43a5f-6331-46b6-8647-e1757452a5bc",
   "metadata": {
    "tags": []
   },
   "outputs": [
    {
     "data": {
      "text/plain": [
       "'14'"
      ]
     },
     "execution_count": 229,
     "metadata": {},
     "output_type": "execute_result"
    }
   ],
   "source": [
    "r"
   ]
  },
  {
   "cell_type": "code",
   "execution_count": 230,
   "id": "bd68d4ea-25f7-425b-942a-ff3c3aea89b9",
   "metadata": {
    "tags": []
   },
   "outputs": [
    {
     "data": {
      "text/plain": [
       "str"
      ]
     },
     "execution_count": 230,
     "metadata": {},
     "output_type": "execute_result"
    }
   ],
   "source": [
    "type(r)"
   ]
  },
  {
   "cell_type": "code",
   "execution_count": 231,
   "id": "c530d673-63c1-4851-b1a7-4eb3a700d5a7",
   "metadata": {
    "tags": []
   },
   "outputs": [],
   "source": [
    "r = int(r)"
   ]
  },
  {
   "cell_type": "code",
   "execution_count": 232,
   "id": "fb4103b5-682e-492f-802f-4d824771d05c",
   "metadata": {
    "tags": []
   },
   "outputs": [
    {
     "data": {
      "text/plain": [
       "int"
      ]
     },
     "execution_count": 232,
     "metadata": {},
     "output_type": "execute_result"
    }
   ],
   "source": [
    "type(r)"
   ]
  },
  {
   "cell_type": "code",
   "execution_count": 233,
   "id": "02bd0e47-0136-4392-855b-d984e1ad5147",
   "metadata": {
    "tags": []
   },
   "outputs": [],
   "source": [
    "a = r * 2 * 3.141592\n",
    "b = r ** 2 * 3.141592"
   ]
  },
  {
   "cell_type": "code",
   "execution_count": 234,
   "id": "8a81a250-8a15-4cb7-8bc9-1f09a3f92c19",
   "metadata": {
    "tags": []
   },
   "outputs": [
    {
     "name": "stdout",
     "output_type": "stream",
     "text": [
      "円周の長さは87.964576である。\n",
      "面積の大きさは615.752032である。\n"
     ]
    }
   ],
   "source": [
    "print(\"円周の長さは{:.6f}である。\".format(a))\n",
    "print(\"面積の大きさは{:.6f}である。\".format(b))"
   ]
  },
  {
   "cell_type": "code",
   "execution_count": 235,
   "id": "ad16ba93-bb77-4c2d-a4a1-d095735b30fb",
   "metadata": {
    "tags": []
   },
   "outputs": [
    {
     "name": "stdout",
     "output_type": "stream",
     "text": [
      "input number 32125\n"
     ]
    }
   ],
   "source": [
    "# 5桁の数字を各桁の数字ごとすべて足す\n",
    "num = input(\"input number\")"
   ]
  },
  {
   "cell_type": "code",
   "execution_count": 236,
   "id": "43d7cd7c-4f82-45e3-b94d-18d4493d7dfc",
   "metadata": {
    "tags": []
   },
   "outputs": [
    {
     "data": {
      "text/plain": [
       "'32125'"
      ]
     },
     "execution_count": 236,
     "metadata": {},
     "output_type": "execute_result"
    }
   ],
   "source": [
    "num"
   ]
  },
  {
   "cell_type": "code",
   "execution_count": 237,
   "id": "1ed1ade1-a5e8-483d-a7eb-b8db0c5798dd",
   "metadata": {
    "tags": []
   },
   "outputs": [
    {
     "data": {
      "text/plain": [
       "str"
      ]
     },
     "execution_count": 237,
     "metadata": {},
     "output_type": "execute_result"
    }
   ],
   "source": [
    "type(num)"
   ]
  },
  {
   "cell_type": "code",
   "execution_count": 238,
   "id": "75ed7cc2-fc40-4adb-9fe6-b4e3782370e2",
   "metadata": {
    "tags": []
   },
   "outputs": [],
   "source": [
    "num = int(num)"
   ]
  },
  {
   "cell_type": "code",
   "execution_count": 239,
   "id": "85e75bec-db03-4afa-b323-c75edbe50ec1",
   "metadata": {
    "tags": []
   },
   "outputs": [
    {
     "data": {
      "text/plain": [
       "int"
      ]
     },
     "execution_count": 239,
     "metadata": {},
     "output_type": "execute_result"
    }
   ],
   "source": [
    "type(num)"
   ]
  },
  {
   "cell_type": "code",
   "execution_count": 240,
   "id": "54f20c47-6aee-4034-9271-69870cee6f1b",
   "metadata": {
    "tags": []
   },
   "outputs": [
    {
     "name": "stdout",
     "output_type": "stream",
     "text": [
      "合計は13\n"
     ]
    }
   ],
   "source": [
    "total = 0\n",
    "for i in range(5):\n",
    "    c = num % 10\n",
    "    num = num // 10\n",
    "    total += c\n",
    "    if i == 5:\n",
    "        break\n",
    "print(\"合計は{}\".format(total))"
   ]
  },
  {
   "cell_type": "code",
   "execution_count": 241,
   "id": "fc538423-dbb4-4ad6-8084-3746619252d6",
   "metadata": {
    "tags": []
   },
   "outputs": [
    {
     "name": "stdout",
     "output_type": "stream",
     "text": [
      "input number 43094\n"
     ]
    }
   ],
   "source": [
    "# 5桁の数字を逆にして表示\n",
    "num = input(\"input number\")"
   ]
  },
  {
   "cell_type": "code",
   "execution_count": 242,
   "id": "910174be-01b8-4cc0-a47d-bd62ff8f5bca",
   "metadata": {
    "tags": []
   },
   "outputs": [
    {
     "data": {
      "text/plain": [
       "'43094'"
      ]
     },
     "execution_count": 242,
     "metadata": {},
     "output_type": "execute_result"
    }
   ],
   "source": [
    "num"
   ]
  },
  {
   "cell_type": "code",
   "execution_count": 243,
   "id": "b6f79a55-898e-42e0-80c1-efe998d8f269",
   "metadata": {
    "tags": []
   },
   "outputs": [
    {
     "data": {
      "text/plain": [
       "str"
      ]
     },
     "execution_count": 243,
     "metadata": {},
     "output_type": "execute_result"
    }
   ],
   "source": [
    "type(num)"
   ]
  },
  {
   "cell_type": "code",
   "execution_count": 244,
   "id": "3eaeb4d5-3e8b-4f50-896d-8ee7114ed802",
   "metadata": {
    "tags": []
   },
   "outputs": [],
   "source": [
    "num = int(num)"
   ]
  },
  {
   "cell_type": "code",
   "execution_count": 245,
   "id": "68558d03-488f-48f8-a5ef-784f6f03af70",
   "metadata": {
    "tags": []
   },
   "outputs": [
    {
     "data": {
      "text/plain": [
       "int"
      ]
     },
     "execution_count": 245,
     "metadata": {},
     "output_type": "execute_result"
    }
   ],
   "source": [
    "type(num)"
   ]
  },
  {
   "cell_type": "code",
   "execution_count": 246,
   "id": "916e50dd-1fb6-4bb2-a846-dd423e262c70",
   "metadata": {
    "tags": []
   },
   "outputs": [
    {
     "name": "stdout",
     "output_type": "stream",
     "text": [
      "出力値は49034\n"
     ]
    }
   ],
   "source": [
    "total = 0\n",
    "for i in range(1,6):\n",
    "    if i == 1:\n",
    "        c = (num % 10) * 10 ** 4\n",
    "    elif i == 2:\n",
    "        c = (num % 10) * 10 ** 3\n",
    "    elif i == 3:\n",
    "        c = (num % 10) * 10 ** 2\n",
    "    elif i == 4:\n",
    "        c = (num % 10) * 10\n",
    "    elif i == 5:\n",
    "        c = num % 10\n",
    "    num = num //10\n",
    "    total += c\n",
    "    if i == 5:\n",
    "        break\n",
    "print(\"出力値は{}\".format(total))"
   ]
  },
  {
   "cell_type": "code",
   "execution_count": 247,
   "id": "6b78c9f0-3f20-4185-9390-8b9c9c783221",
   "metadata": {
    "tags": []
   },
   "outputs": [],
   "source": [
    "# 別の入れ物を用意して変数に入れた値を入れ替える\n",
    "a = 4\n",
    "b = 9"
   ]
  },
  {
   "cell_type": "code",
   "execution_count": 248,
   "id": "dba40616-a2e0-4ace-8299-6bfc77c60fcb",
   "metadata": {
    "tags": []
   },
   "outputs": [],
   "source": [
    "c = a\n",
    "a = b\n",
    "b = c"
   ]
  },
  {
   "cell_type": "code",
   "execution_count": 249,
   "id": "94bcc7ca-8aa7-4e7a-bd4b-67414ddeb659",
   "metadata": {
    "tags": []
   },
   "outputs": [
    {
     "name": "stdout",
     "output_type": "stream",
     "text": [
      "a = 9 , b = 4\n"
     ]
    }
   ],
   "source": [
    "print(\"a =\", a,\", b =\", b)"
   ]
  },
  {
   "cell_type": "code",
   "execution_count": 250,
   "id": "f780ccd4-11b3-49cb-a3fe-ea237e47237b",
   "metadata": {
    "tags": []
   },
   "outputs": [],
   "source": [
    "# 別の方法で変数に入れた値を入れ替える\n",
    "a = 7\n",
    "b = 12"
   ]
  },
  {
   "cell_type": "code",
   "execution_count": 251,
   "id": "7889638c-3a80-49b9-a91b-17c2cb60205d",
   "metadata": {
    "tags": []
   },
   "outputs": [],
   "source": [
    "a,b = b,a"
   ]
  },
  {
   "cell_type": "code",
   "execution_count": 252,
   "id": "1568cec9-472e-4403-86c3-20bde5583e63",
   "metadata": {
    "tags": []
   },
   "outputs": [
    {
     "name": "stdout",
     "output_type": "stream",
     "text": [
      "a = 12 , b = 7\n"
     ]
    }
   ],
   "source": [
    "print(\"a =\", a,\", b =\", b)"
   ]
  },
  {
   "cell_type": "code",
   "execution_count": 253,
   "id": "629295e5-37f6-4dfd-8a4f-ada18d2af65e",
   "metadata": {},
   "outputs": [
    {
     "name": "stdout",
     "output_type": "stream",
     "text": [
      "input year 2021\n"
     ]
    }
   ],
   "source": [
    "# 好きな年を入力してうるう年かを表示する\n",
    "year = input(\"input year\")"
   ]
  },
  {
   "cell_type": "code",
   "execution_count": 254,
   "id": "131f66b5-5abf-44c2-ad76-b2427c166957",
   "metadata": {
    "tags": []
   },
   "outputs": [
    {
     "data": {
      "text/plain": [
       "'2021'"
      ]
     },
     "execution_count": 254,
     "metadata": {},
     "output_type": "execute_result"
    }
   ],
   "source": [
    "year"
   ]
  },
  {
   "cell_type": "code",
   "execution_count": 255,
   "id": "d64c863b-fbeb-4494-9fc5-72745cd75ac0",
   "metadata": {
    "tags": []
   },
   "outputs": [
    {
     "data": {
      "text/plain": [
       "str"
      ]
     },
     "execution_count": 255,
     "metadata": {},
     "output_type": "execute_result"
    }
   ],
   "source": [
    "type(year)"
   ]
  },
  {
   "cell_type": "code",
   "execution_count": 256,
   "id": "a7483558-5194-420a-9f1e-382ea54745cf",
   "metadata": {
    "tags": []
   },
   "outputs": [],
   "source": [
    "year = int(year)"
   ]
  },
  {
   "cell_type": "code",
   "execution_count": 257,
   "id": "1c47b6ca-2c9c-4994-88ad-369ec6e88e0f",
   "metadata": {
    "tags": []
   },
   "outputs": [
    {
     "data": {
      "text/plain": [
       "int"
      ]
     },
     "execution_count": 257,
     "metadata": {},
     "output_type": "execute_result"
    }
   ],
   "source": [
    "type(year)"
   ]
  },
  {
   "cell_type": "code",
   "execution_count": 258,
   "id": "1c3b5354-c5bc-4640-91db-c1dbbb1af664",
   "metadata": {},
   "outputs": [
    {
     "name": "stdout",
     "output_type": "stream",
     "text": [
      "うるう年ではない\n"
     ]
    }
   ],
   "source": [
    "if year % 4 == 0:\n",
    "    print(\"うるう年です\")\n",
    "else:\n",
    "    print(\"うるう年ではない\")"
   ]
  },
  {
   "cell_type": "code",
   "execution_count": 259,
   "id": "effce24e-f11d-4ae7-8428-1dd2775ddce8",
   "metadata": {},
   "outputs": [],
   "source": [
    "# 5教科の平均点を出し，成績を表示する\n",
    "score = [81,98,86,93,88]"
   ]
  },
  {
   "cell_type": "code",
   "execution_count": 260,
   "id": "fca9dd95-b446-404c-8f28-5457bf39c25d",
   "metadata": {},
   "outputs": [],
   "source": [
    "ave = sum(score) / len(score)"
   ]
  },
  {
   "cell_type": "code",
   "execution_count": 261,
   "id": "480139d0-68b0-403f-adee-edb117005a7b",
   "metadata": {},
   "outputs": [
    {
     "name": "stdout",
     "output_type": "stream",
     "text": [
      "平均89.2点 '優'\n"
     ]
    }
   ],
   "source": [
    "if ave >= 90:\n",
    "    print(\"平均{}点 '秀'\".format(ave))\n",
    "elif ave >= 80:\n",
    "    print(\"平均{}点 '優'\".format(ave))\n",
    "elif ave >= 70:\n",
    "    print(\"平均{}点 '良'\".format(ave))\n",
    "elif ave >= 60:\n",
    "    print(\"平均{}点 '可'\".format(ave))\n",
    "else:\n",
    "    print(\"平均{}点 '不可'\".format(ave))"
   ]
  },
  {
   "cell_type": "code",
   "execution_count": 262,
   "id": "67a453e4-21b6-43f8-b834-a24df26bf6f5",
   "metadata": {
    "tags": []
   },
   "outputs": [
    {
     "name": "stdout",
     "output_type": "stream",
     "text": [
      "input number 12343\n"
     ]
    }
   ],
   "source": [
    "# 好きな数字を入力したら，その数字の逆を表示させ，入力した値と同じか判別させる\n",
    "num = input(\"input number\")"
   ]
  },
  {
   "cell_type": "code",
   "execution_count": 263,
   "id": "87b9dabc-e322-4257-aa2e-f0d74c72c986",
   "metadata": {
    "tags": []
   },
   "outputs": [
    {
     "data": {
      "text/plain": [
       "'12343'"
      ]
     },
     "execution_count": 263,
     "metadata": {},
     "output_type": "execute_result"
    }
   ],
   "source": [
    "num"
   ]
  },
  {
   "cell_type": "code",
   "execution_count": 264,
   "id": "e24a1b8e-e0fe-4d90-8938-d6f2dee8f69b",
   "metadata": {
    "tags": []
   },
   "outputs": [
    {
     "data": {
      "text/plain": [
       "str"
      ]
     },
     "execution_count": 264,
     "metadata": {},
     "output_type": "execute_result"
    }
   ],
   "source": [
    "type(num)"
   ]
  },
  {
   "cell_type": "code",
   "execution_count": 265,
   "id": "4970d4d3-754d-4b56-83cf-7cfea4b0ee22",
   "metadata": {
    "tags": []
   },
   "outputs": [],
   "source": [
    "num = int(num)"
   ]
  },
  {
   "cell_type": "code",
   "execution_count": 266,
   "id": "1f57de83-81d4-40da-b6f6-8b368758a24e",
   "metadata": {
    "tags": []
   },
   "outputs": [
    {
     "data": {
      "text/plain": [
       "int"
      ]
     },
     "execution_count": 266,
     "metadata": {},
     "output_type": "execute_result"
    }
   ],
   "source": [
    "type(num)"
   ]
  },
  {
   "cell_type": "code",
   "execution_count": 267,
   "id": "03563fc4-11db-495a-9525-6a23260f1d3a",
   "metadata": {
    "tags": []
   },
   "outputs": [
    {
     "name": "stdout",
     "output_type": "stream",
     "text": [
      "34321\n",
      "'同じではない'\n"
     ]
    }
   ],
   "source": [
    "total = 0\n",
    "d = num\n",
    "i = 1\n",
    "while i < 15:\n",
    "    if num > (10 ** i) - 1:\n",
    "        i += 1\n",
    "    else:\n",
    "        break\n",
    "\n",
    "while i > 0:\n",
    "    c = d % 10\n",
    "    d = d // 10\n",
    "    e = c * 10 ** (i - 1)\n",
    "    total += e\n",
    "    i -= 1\n",
    "print(\"{}\".format(total))\n",
    "if num == total:\n",
    "    print(\"'同じです'\")\n",
    "else:\n",
    "    print(\"'同じではない'\")"
   ]
  },
  {
   "attachments": {},
   "cell_type": "markdown",
   "id": "bb5c9716",
   "metadata": {},
   "source": [
    "> while文1つで実行する方法も考えてみましょう。"
   ]
  },
  {
   "cell_type": "code",
   "execution_count": 268,
   "id": "0a165a33-1deb-44a1-b067-a4038be3287f",
   "metadata": {
    "tags": []
   },
   "outputs": [
    {
     "name": "stdout",
     "output_type": "stream",
     "text": [
      "input number 38749\n"
     ]
    }
   ],
   "source": [
    "# 5桁の数字をすべて足す(for,whileでループさせる)\n",
    "num = input(\"input number\")"
   ]
  },
  {
   "cell_type": "code",
   "execution_count": 269,
   "id": "d7d6655b-1981-48b1-bbd0-4f3ea18bf159",
   "metadata": {
    "tags": []
   },
   "outputs": [
    {
     "data": {
      "text/plain": [
       "'38749'"
      ]
     },
     "execution_count": 269,
     "metadata": {},
     "output_type": "execute_result"
    }
   ],
   "source": [
    "num"
   ]
  },
  {
   "cell_type": "code",
   "execution_count": 270,
   "id": "019a5c53-774c-4cae-ad3a-ac171abdd75c",
   "metadata": {
    "tags": []
   },
   "outputs": [],
   "source": [
    "num = int(num)"
   ]
  },
  {
   "cell_type": "code",
   "execution_count": 271,
   "id": "50304f76-b721-49e6-99a3-2717e327c18e",
   "metadata": {
    "tags": []
   },
   "outputs": [
    {
     "data": {
      "text/plain": [
       "int"
      ]
     },
     "execution_count": 271,
     "metadata": {},
     "output_type": "execute_result"
    }
   ],
   "source": [
    "type(num)"
   ]
  },
  {
   "cell_type": "code",
   "execution_count": 272,
   "id": "dad0e836-1a05-4918-abc8-c1695a2cdf1a",
   "metadata": {
    "tags": []
   },
   "outputs": [
    {
     "name": "stdout",
     "output_type": "stream",
     "text": [
      "合計は31\n"
     ]
    }
   ],
   "source": [
    "total = 0\n",
    "i = 0\n",
    "while i < 5:\n",
    "    c = num % 10\n",
    "    num = num // 10\n",
    "    total += c\n",
    "    i += 1\n",
    "    if i == 5:\n",
    "        break\n",
    "print(\"合計は{}\".format(total))"
   ]
  },
  {
   "cell_type": "code",
   "execution_count": 273,
   "id": "5556e5c3-c4df-485c-9529-9194b7a5f464",
   "metadata": {
    "tags": []
   },
   "outputs": [],
   "source": [
    "# 中心の座標と半径を入力\n",
    "x = 3\n",
    "y = 6\n",
    "r = 8"
   ]
  },
  {
   "cell_type": "code",
   "execution_count": 274,
   "id": "5e5b1b9e-ba2f-4fe5-8031-7a8bf5659642",
   "metadata": {
    "tags": []
   },
   "outputs": [],
   "source": [
    "# 任意の座標値が円内に含まれるか表示\n",
    "x1 = 7\n",
    "y1 = 4"
   ]
  },
  {
   "cell_type": "code",
   "execution_count": 275,
   "id": "6067d155-d371-4ef8-bdfa-c40868960c80",
   "metadata": {
    "tags": []
   },
   "outputs": [
    {
     "name": "stdout",
     "output_type": "stream",
     "text": [
      "'円の中'\n"
     ]
    }
   ],
   "source": [
    "a = (x1 - x) ** 2 + (y1 - y) ** 2\n",
    "\n",
    "if r ** 2 > a:\n",
    "    print(\"'円の中'\")\n",
    "elif r ** 2 == a:\n",
    "    print(\"'円の上'\")\n",
    "else:\n",
    "    print(\"'円の外'\")"
   ]
  },
  {
   "cell_type": "code",
   "execution_count": 276,
   "id": "714dcf37-2e2c-41c4-a1cb-eff7bb8b1705",
   "metadata": {
    "tags": []
   },
   "outputs": [
    {
     "name": "stdout",
     "output_type": "stream",
     "text": [
      "input number 6\n"
     ]
    }
   ],
   "source": [
    "# 好きな数字を入力したら，階乗を表示する\n",
    "num = input(\"input number\")"
   ]
  },
  {
   "cell_type": "code",
   "execution_count": 277,
   "id": "25abf9b0-7ecb-488f-a662-ee3f0934a156",
   "metadata": {
    "tags": []
   },
   "outputs": [
    {
     "data": {
      "text/plain": [
       "'6'"
      ]
     },
     "execution_count": 277,
     "metadata": {},
     "output_type": "execute_result"
    }
   ],
   "source": [
    "num"
   ]
  },
  {
   "cell_type": "code",
   "execution_count": 278,
   "id": "658bf2ec-a57b-4ddb-b57d-6b257bc1f6fb",
   "metadata": {
    "tags": []
   },
   "outputs": [
    {
     "data": {
      "text/plain": [
       "str"
      ]
     },
     "execution_count": 278,
     "metadata": {},
     "output_type": "execute_result"
    }
   ],
   "source": [
    "type(num)"
   ]
  },
  {
   "cell_type": "code",
   "execution_count": 279,
   "id": "a253052f-eaec-4fb5-8be2-b073d40e0ef4",
   "metadata": {
    "tags": []
   },
   "outputs": [],
   "source": [
    "num = int(num)"
   ]
  },
  {
   "cell_type": "code",
   "execution_count": 280,
   "id": "11a85094-3325-4309-8ef8-0b85f40202ae",
   "metadata": {
    "tags": []
   },
   "outputs": [
    {
     "data": {
      "text/plain": [
       "int"
      ]
     },
     "execution_count": 280,
     "metadata": {},
     "output_type": "execute_result"
    }
   ],
   "source": [
    "type(num)"
   ]
  },
  {
   "cell_type": "code",
   "execution_count": 281,
   "id": "75563115-7df5-4ea3-9bc3-954ea04f420a",
   "metadata": {
    "tags": []
   },
   "outputs": [
    {
     "name": "stdout",
     "output_type": "stream",
     "text": [
      "720\n"
     ]
    }
   ],
   "source": [
    "i = num\n",
    "total = 1\n",
    "while i > 0:\n",
    "    total = total * i\n",
    "    i -= 1\n",
    "print(\"{}\".format(total))"
   ]
  },
  {
   "cell_type": "code",
   "execution_count": 282,
   "id": "959a33aa-1c26-4cf2-a811-e6209031470a",
   "metadata": {
    "tags": []
   },
   "outputs": [],
   "source": [
    "# 5つの数字を入力して，一番小さい値を表示\n",
    "a = 123\n",
    "b = 86\n",
    "c = 309\n",
    "d = 20\n",
    "e = 32"
   ]
  },
  {
   "cell_type": "code",
   "execution_count": 283,
   "id": "1c88acdc-cd7d-4d43-8163-ba73e34643b6",
   "metadata": {
    "tags": []
   },
   "outputs": [
    {
     "name": "stdout",
     "output_type": "stream",
     "text": [
      "最小の値は20です。\n"
     ]
    }
   ],
   "source": [
    "if a > b:\n",
    "    x = b\n",
    "else:\n",
    "    x = a\n",
    "if x > c:\n",
    "    x = c\n",
    "if x > d:\n",
    "    x = d\n",
    "if x > e:\n",
    "    x = e\n",
    "print(\"最小の値は{}です。\".format(x))"
   ]
  },
  {
   "cell_type": "code",
   "execution_count": 284,
   "id": "9474630a-43c4-4dfc-8ff6-d8c57e95e776",
   "metadata": {
    "tags": []
   },
   "outputs": [],
   "source": [
    "# 3つの任意の点を入力し，同一線上にあるか判別\n",
    "x1 = 2\n",
    "y1 = 2\n",
    "x2 = 3\n",
    "y2 = 4\n",
    "x3 = 8\n",
    "y3 = 8"
   ]
  },
  {
   "cell_type": "code",
   "execution_count": 285,
   "id": "0966cf2e-f3cb-4864-b59f-310c03fd7e1f",
   "metadata": {
    "tags": []
   },
   "outputs": [
    {
     "name": "stdout",
     "output_type": "stream",
     "text": [
      "'同一線上にありません'\n"
     ]
    }
   ],
   "source": [
    "if x1 == x2 == x3:\n",
    "    print(\"'同一線上にあります'\")\n",
    "elif y1 == y2 == y3:\n",
    "    print(\"'同一線上にあります'\")\n",
    "else:\n",
    "    a = (y2 - y1) / (x2 - x1)\n",
    "    b = y1 - (a * x1)\n",
    "    y = a * x3 + b\n",
    "    if y == y3:\n",
    "        print(\"'同一線上にあります'\")\n",
    "    else:\n",
    "        print(\"'同一線上にありません'\")"
   ]
  },
  {
   "cell_type": "code",
   "execution_count": 286,
   "id": "bfaedc8d-622a-4ea5-80e4-4cdac28c0924",
   "metadata": {
    "tags": []
   },
   "outputs": [
    {
     "name": "stdout",
     "output_type": "stream",
     "text": [
      "input number 5\n"
     ]
    }
   ],
   "source": [
    "# *マークで任意の段数のピラミッドを作成\n",
    "a = input(\"input number\")"
   ]
  },
  {
   "cell_type": "code",
   "execution_count": 287,
   "id": "c69ed1bf-3228-4e07-9e02-36164985963c",
   "metadata": {
    "tags": []
   },
   "outputs": [
    {
     "data": {
      "text/plain": [
       "'5'"
      ]
     },
     "execution_count": 287,
     "metadata": {},
     "output_type": "execute_result"
    }
   ],
   "source": [
    "a"
   ]
  },
  {
   "cell_type": "code",
   "execution_count": 288,
   "id": "2829853b-87b7-40ac-a1ee-c0cab92dde9b",
   "metadata": {
    "tags": []
   },
   "outputs": [
    {
     "data": {
      "text/plain": [
       "str"
      ]
     },
     "execution_count": 288,
     "metadata": {},
     "output_type": "execute_result"
    }
   ],
   "source": [
    "type(a)"
   ]
  },
  {
   "cell_type": "code",
   "execution_count": 289,
   "id": "2013f0d7-9ac9-45ac-a5ac-dc4041802dde",
   "metadata": {
    "tags": []
   },
   "outputs": [],
   "source": [
    "a = int(a)"
   ]
  },
  {
   "cell_type": "code",
   "execution_count": 290,
   "id": "7f544b80-8df0-4061-b31d-3af54fc22544",
   "metadata": {
    "tags": []
   },
   "outputs": [
    {
     "data": {
      "text/plain": [
       "int"
      ]
     },
     "execution_count": 290,
     "metadata": {},
     "output_type": "execute_result"
    }
   ],
   "source": [
    "type(a)"
   ]
  },
  {
   "cell_type": "code",
   "execution_count": 291,
   "id": "2a1f69d5-e9f5-461a-9fd8-45623f5a66b5",
   "metadata": {
    "tags": []
   },
   "outputs": [
    {
     "name": "stdout",
     "output_type": "stream",
     "text": [
      "     *\n",
      "    ***\n",
      "   *****\n",
      "  *******\n",
      " *********\n"
     ]
    }
   ],
   "source": [
    "i = 1\n",
    "for i in range(1,a+1):\n",
    "    x = a - i\n",
    "    y = (2 * i) - 1\n",
    "    print(\" \" * (x) ,end = \" \")\n",
    "    print(\"*\" * (y))\n",
    "    "
   ]
  },
  {
   "cell_type": "code",
   "execution_count": 292,
   "id": "66ad5fc8-2832-4e71-9ea0-ab278034ba37",
   "metadata": {
    "tags": []
   },
   "outputs": [
    {
     "name": "stdout",
     "output_type": "stream",
     "text": [
      "input number 5\n"
     ]
    }
   ],
   "source": [
    "# 上のピラミッドを上下逆に表示\n",
    "a = input(\"input number\")"
   ]
  },
  {
   "cell_type": "code",
   "execution_count": 293,
   "id": "6a12b60c-9c45-4b33-b5ee-592580564ba2",
   "metadata": {
    "tags": []
   },
   "outputs": [
    {
     "data": {
      "text/plain": [
       "'5'"
      ]
     },
     "execution_count": 293,
     "metadata": {},
     "output_type": "execute_result"
    }
   ],
   "source": [
    "a"
   ]
  },
  {
   "cell_type": "code",
   "execution_count": 294,
   "id": "e043e2b4-9155-4abf-8042-26de4ebd3ea0",
   "metadata": {
    "tags": []
   },
   "outputs": [
    {
     "data": {
      "text/plain": [
       "str"
      ]
     },
     "execution_count": 294,
     "metadata": {},
     "output_type": "execute_result"
    }
   ],
   "source": [
    "type(a)"
   ]
  },
  {
   "cell_type": "code",
   "execution_count": 295,
   "id": "798101f8-f206-491e-926c-f4915ccc2662",
   "metadata": {
    "tags": []
   },
   "outputs": [],
   "source": [
    "a = int(a)"
   ]
  },
  {
   "cell_type": "code",
   "execution_count": 296,
   "id": "bf11bc47-859c-4f2c-8355-e6cbf34dfd58",
   "metadata": {
    "tags": []
   },
   "outputs": [
    {
     "data": {
      "text/plain": [
       "int"
      ]
     },
     "execution_count": 296,
     "metadata": {},
     "output_type": "execute_result"
    }
   ],
   "source": [
    "type(a)"
   ]
  },
  {
   "cell_type": "code",
   "execution_count": 297,
   "id": "8a06aaf7-472a-47cd-9568-20092631109c",
   "metadata": {
    "tags": []
   },
   "outputs": [
    {
     "name": "stdout",
     "output_type": "stream",
     "text": [
      " *********\n",
      "  *******\n",
      "   *****\n",
      "    ***\n",
      "     *\n"
     ]
    }
   ],
   "source": [
    "i = 1\n",
    "for i in range(a):\n",
    "    x = i\n",
    "    y = (2 * (a - i)) - 1\n",
    "    print(\" \" * (x), end = \" \")\n",
    "    print(\"*\" * (y))"
   ]
  },
  {
   "attachments": {},
   "cell_type": "markdown",
   "id": "2547ba0a",
   "metadata": {},
   "source": []
  }
 ],
 "metadata": {
  "kernelspec": {
   "display_name": "Python 3",
   "language": "python",
   "name": "python3"
  },
  "language_info": {
   "codemirror_mode": {
    "name": "ipython",
    "version": 3
   },
   "file_extension": ".py",
   "mimetype": "text/x-python",
   "name": "python",
   "nbconvert_exporter": "python",
   "pygments_lexer": "ipython3",
   "version": "3.6.13"
  }
 },
 "nbformat": 4,
 "nbformat_minor": 5
}
