{
 "cells": [
  {
   "cell_type": "markdown",
   "id": "78caee65-1d13-4951-89ae-dc2b8ee2ad84",
   "metadata": {},
   "source": [
    "# 演習課題１"
   ]
  },
  {
   "cell_type": "markdown",
   "id": "4e73cf75-3705-4283-9479-b95a2a2892a3",
   "metadata": {},
   "source": [
    "### 1.距離計算"
   ]
  },
  {
   "cell_type": "code",
   "execution_count": 2,
   "id": "7e29e74e-5f11-43b0-9fd1-f469b5215145",
   "metadata": {
    "tags": []
   },
   "outputs": [
    {
     "name": "stdout",
     "output_type": "stream",
     "text": [
      "303000m\n",
      "30300000cm\n"
     ]
    }
   ],
   "source": [
    "dis = 303\n",
    "mdis = dis * 1000\n",
    "cmdis = mdis * 100\n",
    "print(\"{}m\".format(mdis))\n",
    "print(\"{}cm\".format(cmdis))"
   ]
  },
  {
   "cell_type": "markdown",
   "id": "d51aa53f-d3c6-48ef-bde5-5ac0c9cf7f6c",
   "metadata": {},
   "source": [
    "## 2.温度計算"
   ]
  },
  {
   "cell_type": "code",
   "execution_count": 3,
   "id": "fa577956-fb14-45fe-910d-46d5a8cb7700",
   "metadata": {
    "tags": []
   },
   "outputs": [
    {
     "name": "stdin",
     "output_type": "stream",
     "text": [
      "温度を入力してください 25\n"
     ]
    },
    {
     "name": "stdout",
     "output_type": "stream",
     "text": [
      "25.0℃\n",
      "77.0F\n"
     ]
    }
   ],
   "source": [
    "a = float(input(\"温度を入力してください\"))\n",
    "F = a*1.80 + 32.0\n",
    "print(\"{}℃\".format(a))\n",
    "print(\"{}F\".format(F))"
   ]
  },
  {
   "cell_type": "markdown",
   "id": "8d2fda21-6fda-4959-9a8e-ad931d585deb",
   "metadata": {},
   "source": [
    "## 3.平均計算"
   ]
  },
  {
   "cell_type": "code",
   "execution_count": 5,
   "id": "37935aa5-8962-4ac7-8cd3-e805500e4d89",
   "metadata": {
    "tags": []
   },
   "outputs": [
    {
     "name": "stdin",
     "output_type": "stream",
     "text": [
      "国語の点数を入力してください 40\n",
      "数学の点数を入力してください 50\n",
      "物理の点数を入力してください 60\n",
      "化学の点数を入力してください 70\n",
      "英語の点数を入力してください 80\n"
     ]
    },
    {
     "name": "stdout",
     "output_type": "stream",
     "text": [
      "60.0\n"
     ]
    }
   ],
   "source": [
    "kokugo = int(input(\"国語の点数を入力してください\"))\n",
    "suugaku = int(input(\"数学の点数を入力してください\"))\n",
    "butsuri = int(input(\"物理の点数を入力してください\"))\n",
    "kagaku = int(input(\"化学の点数を入力してください\"))\n",
    "eigo = int(input(\"英語の点数を入力してください\"))\n",
    "\n",
    "ave = (kokugo+suugaku+butsuri+kagaku+eigo)/5\n",
    "print(ave)"
   ]
  },
  {
   "cell_type": "markdown",
   "id": "20200f3a-5c98-4c3a-9ab2-7658e80cdec6",
   "metadata": {},
   "source": [
    "## 4.面積と円周"
   ]
  },
  {
   "cell_type": "code",
   "execution_count": 7,
   "id": "69fb4158-3be0-41fa-9ad0-fa34c0b3aabb",
   "metadata": {
    "tags": []
   },
   "outputs": [
    {
     "name": "stdin",
     "output_type": "stream",
     "text": [
      "円の半径を入力してください 3\n"
     ]
    },
    {
     "name": "stdout",
     "output_type": "stream",
     "text": [
      "28.26\n",
      "18.84\n"
     ]
    }
   ],
   "source": [
    "r = float(input(\"円の半径を入力してください\"))\n",
    "pai = 3.14\n",
    "area = (r*r)*pai\n",
    "cir = 2*r*pai\n",
    "\n",
    "print(area)\n",
    "print(cir)"
   ]
  },
  {
   "cell_type": "markdown",
   "id": "02b8d329-7f36-4889-b033-2a816e57e614",
   "metadata": {},
   "source": [
    "## 5.各位の和"
   ]
  },
  {
   "cell_type": "code",
   "execution_count": 11,
   "id": "d7abb173-56c5-42c5-a86b-4875569c192f",
   "metadata": {
    "tags": []
   },
   "outputs": [
    {
     "name": "stdin",
     "output_type": "stream",
     "text": [
      "5桁の数字を入力してください 23456\n"
     ]
    },
    {
     "name": "stdout",
     "output_type": "stream",
     "text": [
      "20\n"
     ]
    }
   ],
   "source": [
    "a = int(input(\"5桁の数字を入力してください\"))\n",
    "sum = 0\n",
    "while a > 0:\n",
    "    sum += a%10\n",
    "    a = a//10\n",
    "print(sum)"
   ]
  },
  {
   "cell_type": "markdown",
   "id": "b611380e-1230-4260-8853-657697ceb66f",
   "metadata": {},
   "source": [
    "## 6.数字の反転"
   ]
  },
  {
   "cell_type": "code",
   "execution_count": 12,
   "id": "e0dd7ddf-b729-4022-b46e-fd00bdc03008",
   "metadata": {
    "tags": []
   },
   "outputs": [
    {
     "name": "stdin",
     "output_type": "stream",
     "text": [
      "5桁の数字を入力してください 12345\n"
     ]
    },
    {
     "name": "stdout",
     "output_type": "stream",
     "text": [
      "54321\n"
     ]
    }
   ],
   "source": [
    "a = input(\"5桁の数字を入力してください\")\n",
    "rev = a[::-1]\n",
    "print(rev)"
   ]
  },
  {
   "cell_type": "markdown",
   "id": "2021fd50-2b52-4496-be05-2d10fa21c398",
   "metadata": {},
   "source": [
    "## 7.数字の入れ替え"
   ]
  },
  {
   "cell_type": "code",
   "execution_count": 15,
   "id": "69a30dbc-5030-4f31-b715-6287778628b7",
   "metadata": {
    "tags": []
   },
   "outputs": [
    {
     "name": "stdout",
     "output_type": "stream",
     "text": [
      "a = 3, b = 5\n",
      "a = 5, b = 3\n"
     ]
    }
   ],
   "source": [
    "a = 3\n",
    "b = 5\n",
    "print(\"a = {}, b = {}\".format(a,b))\n",
    "\n",
    "c = a\n",
    "a = b\n",
    "b = c\n",
    "print(\"a = {}, b = {}\".format(a,b))"
   ]
  },
  {
   "cell_type": "markdown",
   "id": "e673c9c6-0285-4069-84fd-975fc31b37bf",
   "metadata": {},
   "source": [
    "## 8.数字の入れ替え"
   ]
  },
  {
   "cell_type": "code",
   "execution_count": 16,
   "id": "99f786bf-8407-4ba5-96c9-2c9aa35100f2",
   "metadata": {
    "tags": []
   },
   "outputs": [
    {
     "name": "stdout",
     "output_type": "stream",
     "text": [
      "a = 3, b = 5\n",
      "a = 5, b = 3\n"
     ]
    }
   ],
   "source": [
    "a = 3\n",
    "b = 5\n",
    "print(\"a = {}, b = {}\".format(a,b))\n",
    "\n",
    "a,b = b,a\n",
    "print(\"a = {}, b = {}\".format(a,b))"
   ]
  },
  {
   "cell_type": "markdown",
   "id": "d7b5b013-f6ad-4c2f-b015-3473dc44dfca",
   "metadata": {},
   "source": [
    "# 演習課題２"
   ]
  },
  {
   "cell_type": "markdown",
   "id": "335c7dfa-e081-486b-8d92-13e0939754bf",
   "metadata": {},
   "source": [
    "## 1.うるう年の判定"
   ]
  },
  {
   "cell_type": "code",
   "execution_count": 19,
   "id": "e8c3dfef-b2ae-42ed-8875-bba716e345ea",
   "metadata": {
    "tags": []
   },
   "outputs": [
    {
     "name": "stdin",
     "output_type": "stream",
     "text": [
      "西暦: 2400\n"
     ]
    },
    {
     "name": "stdout",
     "output_type": "stream",
     "text": [
      "うるう年です\n"
     ]
    }
   ],
   "source": [
    "year = int(input(\"西暦:\"))\n",
    "\n",
    "if (year % 100 == 0) and (year % 400 != 0):\n",
    "    print(\"うるう年ではありません\")\n",
    "elif year % 4 == 0 :\n",
    "    print(\"うるう年です\")"
   ]
  },
  {
   "cell_type": "markdown",
   "id": "47e425b1-7aac-4781-8735-72fca8e4e8ca",
   "metadata": {},
   "source": [
    "## 2.平均点によって成績をつける"
   ]
  },
  {
   "cell_type": "code",
   "execution_count": 21,
   "id": "6ce8e84e-b39f-4403-9f14-1d21025819d0",
   "metadata": {
    "tags": []
   },
   "outputs": [
    {
     "name": "stdin",
     "output_type": "stream",
     "text": [
      "国語の点数を入力してください 50\n",
      "数学の点数を入力してください 50\n",
      "物理の点数を入力してください 50\n",
      "化学の点数を入力してください 50\n",
      "英語の点数を入力してください 50\n"
     ]
    },
    {
     "name": "stdout",
     "output_type": "stream",
     "text": [
      "50.0\n",
      "不可\n"
     ]
    }
   ],
   "source": [
    "kokugo = int(input(\"国語の点数を入力してください\"))\n",
    "suugaku = int(input(\"数学の点数を入力してください\"))\n",
    "butsuri = int(input(\"物理の点数を入力してください\"))\n",
    "kagaku = int(input(\"化学の点数を入力してください\"))\n",
    "eigo = int(input(\"英語の点数を入力してください\"))\n",
    "\n",
    "ave = (kokugo+suugaku+butsuri+kagaku+eigo)/5\n",
    "print(ave)\n",
    "\n",
    "if ave >= 90:\n",
    "    print(\"秀\")\n",
    "elif ave < 90 and ave >= 80:\n",
    "    print(\"優\")\n",
    "elif ave < 80 and ave >= 70:\n",
    "    print(\"良\")\n",
    "elif ave < 70 and ave >= 60:\n",
    "    print(\"可\")\n",
    "elif ave <60:\n",
    "    print(\"不可\")"
   ]
  },
  {
   "cell_type": "markdown",
   "id": "039bb59f-3fb5-4abf-8104-a01e71811d48",
   "metadata": {},
   "source": [
    "## 3.逆の数字の表示と判定"
   ]
  },
  {
   "cell_type": "code",
   "execution_count": 38,
   "id": "85bec5fe-d632-4697-bb8b-baea9ad137eb",
   "metadata": {
    "tags": []
   },
   "outputs": [
    {
     "name": "stdin",
     "output_type": "stream",
     "text": [
      "数字を入力してください 22222\n"
     ]
    },
    {
     "name": "stdout",
     "output_type": "stream",
     "text": [
      "22222\n",
      "同じです\n"
     ]
    }
   ],
   "source": [
    "a = int(input(\"数字を入力してください\"))\n",
    "b = a\n",
    "saisyuu = 0\n",
    "while a > 0:\n",
    "    c = a % 10\n",
    "    saisyuu = saisyuu * 10 + c\n",
    "    a = a//10   \n",
    "print(saisyuu)\n",
    "\n",
    "if saisyuu == b:\n",
    "    print(\"同じです\")\n",
    "elif saisyuu != b:\n",
    "    print(\"同じではありません\")"
   ]
  },
  {
   "cell_type": "markdown",
   "id": "9ccadd98-c8cf-4597-992b-01a3c47fe688",
   "metadata": {},
   "source": [
    "##　4.5桁の数字すべてを足し合わせる"
   ]
  },
  {
   "cell_type": "code",
   "execution_count": 39,
   "id": "a33682a4-298c-4924-af20-f9352b6c4abd",
   "metadata": {
    "tags": []
   },
   "outputs": [
    {
     "name": "stdin",
     "output_type": "stream",
     "text": [
      "5桁の数字を入力してください 12345\n"
     ]
    },
    {
     "name": "stdout",
     "output_type": "stream",
     "text": [
      "15\n"
     ]
    }
   ],
   "source": [
    "a = int(input(\"5桁の数字を入力してください\"))\n",
    "sum = 0\n",
    "while a > 0:\n",
    "    sum += a%10\n",
    "    a = a//10\n",
    "print(sum)"
   ]
  },
  {
   "cell_type": "markdown",
   "id": "f6f98320-accc-4a0e-a0cc-42cdfd51c68e",
   "metadata": {},
   "source": [
    "## 5.座標が円の外か内かを判定"
   ]
  },
  {
   "cell_type": "code",
   "execution_count": 49,
   "id": "9d34964b-aafc-4d0c-8474-ea9f3e9a2e1e",
   "metadata": {
    "tags": []
   },
   "outputs": [
    {
     "name": "stdin",
     "output_type": "stream",
     "text": [
      "円の中心のx座標を入力してください 2\n",
      "円の中心のy座標を入力してください 3\n",
      "半径を入力してください 4\n",
      "x座標を入力してください 3\n",
      "y座標を入力してください 4\n"
     ]
    },
    {
     "name": "stdout",
     "output_type": "stream",
     "text": [
      "円の内\n"
     ]
    }
   ],
   "source": [
    "import math\n",
    "x = int(input(\"円の中心のx座標を入力してください\"))\n",
    "y = int(input(\"円の中心のy座標を入力してください\"))\n",
    "r = int(input(\"半径を入力してください\"))\n",
    "\n",
    "nx = int(input(\"x座標を入力してください\"))\n",
    "ny = int(input(\"y座標を入力してください\"))\n",
    "\n",
    "keisan =(abs(x-nx))^2+(abs(y-ny))^2\n",
    "dis = math.sqrt(keisan)\n",
    "\n",
    "if dis < r:\n",
    "    print(\"円の内\")\n",
    "elif dis == r :\n",
    "    print(\"円の上\")\n",
    "elif dis > r:\n",
    "    print(\"円の外\")"
   ]
  },
  {
   "cell_type": "markdown",
   "id": "f4472aeb-e6bc-4644-9f83-24aa3518d83d",
   "metadata": {},
   "source": [
    "## 6.任意の数字の階乗を表示"
   ]
  },
  {
   "cell_type": "code",
   "execution_count": 52,
   "id": "eedd3a43-3265-4640-8e8f-53e8d6833ac3",
   "metadata": {
    "tags": []
   },
   "outputs": [
    {
     "name": "stdin",
     "output_type": "stream",
     "text": [
      "任意の数字を入力してください 3\n"
     ]
    },
    {
     "name": "stdout",
     "output_type": "stream",
     "text": [
      "6\n"
     ]
    }
   ],
   "source": [
    "a = int(input(\"任意の数字を入力してください\"))\n",
    "kekka = 1\n",
    "\n",
    "for i in range (a):\n",
    "    kekka = kekka * a\n",
    "    a = a-1\n",
    "print(kekka) "
   ]
  },
  {
   "cell_type": "markdown",
   "id": "55a76b93-60e9-410c-a8b1-91e62b71cdae",
   "metadata": {},
   "source": [
    "## 7.5つの数字の内一番小さい数字を表示"
   ]
  },
  {
   "cell_type": "code",
   "execution_count": 54,
   "id": "c2e7de79-7965-444c-97af-4a4012b77829",
   "metadata": {
    "tags": []
   },
   "outputs": [
    {
     "name": "stdin",
     "output_type": "stream",
     "text": [
      "1つ目の数字 1\n",
      "2つ目の数字 2\n",
      "3つ目の数字 3\n",
      "4つ目の数字 4\n",
      "5つ目の数字 5\n"
     ]
    },
    {
     "name": "stdout",
     "output_type": "stream",
     "text": [
      "最小値は1です\n"
     ]
    }
   ],
   "source": [
    "a = int(input(\"1つ目の数字\"))\n",
    "b = int(input(\"2つ目の数字\"))\n",
    "c = int(input(\"3つ目の数字\"))\n",
    "d = int(input(\"4つ目の数字\"))\n",
    "e = int(input(\"5つ目の数字\"))\n",
    "\n",
    "x = min([a,b,c,d,e])\n",
    "print(\"最小値は{}です\".format(x))"
   ]
  },
  {
   "cell_type": "markdown",
   "id": "c52dfc74-ebd1-4c44-88ed-1ea967ad6fb3",
   "metadata": {},
   "source": [
    "## 8.任意の3点が同一直線状にあるか"
   ]
  },
  {
   "cell_type": "code",
   "execution_count": 58,
   "id": "5d88b7f7-e6e6-490c-bc84-787d1f854531",
   "metadata": {
    "tags": []
   },
   "outputs": [
    {
     "name": "stdin",
     "output_type": "stream",
     "text": [
      "1:任意のx座標を設定してください 2\n",
      "1:任意のy座標を設定してください 3\n",
      "2:任意のx座標を設定してください 2\n",
      "2:任意のy座標を設定してください 4\n",
      "3:任意のx座標を設定してください 2\n",
      "3:任意のy座標を設定してください 8\n"
     ]
    },
    {
     "name": "stdout",
     "output_type": "stream",
     "text": [
      "同一直線状にあります\n"
     ]
    }
   ],
   "source": [
    "a = int(input(\"1:任意のx座標を設定してください\"))\n",
    "b = int(input(\"1:任意のy座標を設定してください\"))\n",
    "c = int(input(\"2:任意のx座標を設定してください\"))\n",
    "d = int(input(\"2:任意のy座標を設定してください\"))\n",
    "e = int(input(\"3:任意のx座標を設定してください\"))\n",
    "f = int(input(\"3:任意のy座標を設定してください\"))\n",
    "\n",
    "disx1 = abs(a-c)\n",
    "disx2 = abs(c-e)\n",
    "disy1 = abs(b-d)\n",
    "disy2 = abs(d-f)\n",
    "\n",
    "\n",
    "if disx1*disy2 == disx2*disy1:\n",
    "    print(\"同一直線状にあります\")\n",
    "else:\n",
    "    print(\"同一直線状にありません\")"
   ]
  },
  {
   "cell_type": "markdown",
   "id": "1850d474-35fe-4589-99ec-b6d4abbb59cf",
   "metadata": {},
   "source": [
    "## 9.*で任意の段数のピラミッドを作成"
   ]
  },
  {
   "cell_type": "code",
   "execution_count": 68,
   "id": "d50986fb-4168-401e-94ef-26d0ddb60606",
   "metadata": {
    "tags": []
   },
   "outputs": [
    {
     "name": "stdin",
     "output_type": "stream",
     "text": [
      "任意の数字を入力してください 5\n"
     ]
    },
    {
     "name": "stdout",
     "output_type": "stream",
     "text": [
      "    *\n",
      "   ***\n",
      "  *****\n",
      " *******\n",
      "*********\n"
     ]
    }
   ],
   "source": [
    "a = int(input(\"任意の数字を入力してください\"))\n",
    "\n",
    "for i in range(1,a+1):\n",
    "    print(' ' * (a-i),end=\"\")\n",
    "    print('*' * (2*i-1))"
   ]
  },
  {
   "cell_type": "code",
   "execution_count": 77,
   "id": "1918fd55-3857-419f-a609-789a6943dd1f",
   "metadata": {
    "tags": []
   },
   "outputs": [
    {
     "name": "stdin",
     "output_type": "stream",
     "text": [
      "任意の数字を入力してください 5\n"
     ]
    },
    {
     "name": "stdout",
     "output_type": "stream",
     "text": [
      "*********\n",
      " *******\n",
      "  *****\n",
      "   ***\n",
      "    *\n"
     ]
    }
   ],
   "source": [
    "a = int(input(\"任意の数字を入力してください\"))\n",
    "\n",
    "for i in range(a,0,-1):\n",
    "    print(' ' * (a-i),end=\"\")\n",
    "    print('*' * (2*i-1))"
   ]
  },
  {
   "cell_type": "code",
   "execution_count": null,
   "id": "ec80761c-4476-4f12-9c58-ee1480740969",
   "metadata": {},
   "outputs": [],
   "source": []
  }
 ],
 "metadata": {
  "kernelspec": {
   "display_name": "Python 3 (ipykernel)",
   "language": "python",
   "name": "python3"
  },
  "language_info": {
   "codemirror_mode": {
    "name": "ipython",
    "version": 3
   },
   "file_extension": ".py",
   "mimetype": "text/x-python",
   "name": "python",
   "nbconvert_exporter": "python",
   "pygments_lexer": "ipython3",
   "version": "3.8.16"
  }
 },
 "nbformat": 4,
 "nbformat_minor": 5
}
