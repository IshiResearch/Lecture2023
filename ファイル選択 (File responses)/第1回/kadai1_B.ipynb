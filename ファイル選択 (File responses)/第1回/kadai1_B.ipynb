{
 "cells": [
  {
   "cell_type": "markdown",
   "id": "ad713060-87dd-4396-ab0e-b7459d9fc41b",
   "metadata": {},
   "source": [
    "## 1"
   ]
  },
  {
   "cell_type": "code",
   "execution_count": null,
   "id": "1ff1795b-2dc7-4e72-b084-928b88b1445d",
   "metadata": {
    "tags": []
   },
   "outputs": [],
   "source": [
    "year = input(\"好きな年を入力してください：\")\n",
    "year = int(year)\n",
    "if year % 4 == 0:\n",
    "    print(\"うるう年です\")"
   ]
  },
  {
   "cell_type": "markdown",
   "id": "353f1293-391e-41fc-9abe-9e4a1af47aa9",
   "metadata": {},
   "source": [
    "## 2"
   ]
  },
  {
   "cell_type": "code",
   "execution_count": null,
   "id": "f2bb1bd9-20d5-48b6-b459-52e6b457cab2",
   "metadata": {
    "tags": []
   },
   "outputs": [],
   "source": [
    "a = (input(\"点数を入力：\"))\n",
    "b = (input(\"点数を入力：\"))\n",
    "c = (input(\"点数を入力：\"))\n",
    "d = (input(\"点数を入力：\"))\n",
    "e = (input(\"点数を入力：\"))\n",
    "a = int(a)\n",
    "b = int(b)\n",
    "c = int(c)\n",
    "d = int(d)\n",
    "e = int(e)\n",
    "ave = (a + b + c + d + e)/5\n",
    "if ave >= 90:\n",
    "    print(\"秀\")"
   ]
  },
  {
   "cell_type": "markdown",
   "id": "6178e759-7394-4e29-8ce9-e8d8fe3cb226",
   "metadata": {},
   "source": [
    "## 3"
   ]
  },
  {
   "cell_type": "code",
   "execution_count": null,
   "id": "a5dd663d-8f7c-4346-bd25-e4d5a2e95a37",
   "metadata": {
    "tags": []
   },
   "outputs": [],
   "source": [
    "n = input()\n",
    "n = int(n)\n",
    "x = 0\n",
    "m = 0\n",
    "a = n\n",
    "b = n\n",
    "\n",
    "while a > 1:\n",
    "    a = a/10\n",
    "    x += 1\n",
    "\n",
    "for i in range(x):\n",
    "    m += n%10 * (10**(x-1-i))\n",
    "    n = n//10\n",
    "\n",
    "print(m)\n",
    "if m == b:\n",
    "    print(\"同じです\")\n",
    "else:\n",
    "    print(\"同じではない\")"
   ]
  },
  {
   "cell_type": "markdown",
   "id": "62d1be80-a534-476c-a6a5-296cc4cf29d1",
   "metadata": {},
   "source": [
    "## 4"
   ]
  },
  {
   "cell_type": "code",
   "execution_count": null,
   "id": "9e3cab37-4b5d-43ed-9e8e-466817191228",
   "metadata": {
    "tags": []
   },
   "outputs": [],
   "source": [
    "n = input()\n",
    "n = int(n)\n",
    "total = 0\n",
    "for i in range(6):\n",
    "    if n == 0:\n",
    "        break\n",
    "    total = total + n % 10\n",
    "    n = n//10\n",
    "print(total)"
   ]
  },
  {
   "cell_type": "markdown",
   "id": "cb7a1e7f-d8c2-405d-abeb-fafc30c3b4e8",
   "metadata": {},
   "source": [
    "## 5"
   ]
  },
  {
   "cell_type": "code",
   "execution_count": null,
   "id": "c68ddab1-40a4-4606-9039-37da630d81b6",
   "metadata": {
    "tags": []
   },
   "outputs": [],
   "source": [
    "x = input(\"x座標を入力してください：\")\n",
    "y = input(\"y座標を入力してください：\")\n",
    "r = input(\"半径を入力してください：\")\n",
    "x_place = int(x)\n",
    "y_place = int(y)\n",
    "r = int(r)\n",
    "x1 = input(\"x座標を入力してください：\")\n",
    "y1 = input(\"y座標を入力してください：\")\n",
    "x1_place = int(x1)\n",
    "y1_place = int(y1)\n",
    "\n",
    "kyori = ((x1_place - x_place)**2 + (y1_place - y_place)**2)**(1/2)\n",
    "\n",
    "if r > kyori:\n",
    "    print(\"任意の座標は円の中にあります。\")\n",
    "\n",
    "elif r == kyori:\n",
    "    print(\"任意の座標は円上にあります。\")\n",
    "    \n",
    "else:\n",
    "    print(\"任意の座標は円の外にあります。\")"
   ]
  },
  {
   "cell_type": "markdown",
   "id": "2f86b026-842b-4f73-8c5c-203b979ec8a4",
   "metadata": {},
   "source": [
    "## 6"
   ]
  },
  {
   "cell_type": "code",
   "execution_count": null,
   "id": "73943e8f-f161-4b7f-978f-46516b02696a",
   "metadata": {
    "tags": []
   },
   "outputs": [],
   "source": [
    "num = input(\"数字を入力してください：\")\n",
    "num = int(num)\n",
    "a = 1\n",
    "for i in range(1,num+1):\n",
    "    a = a * i\n",
    "\n",
    "print(num,\"の階乗は\",a)"
   ]
  },
  {
   "cell_type": "markdown",
   "id": "6e9fea3c-cf4e-44ac-a37f-aca1f019e0b8",
   "metadata": {},
   "source": [
    "## 7"
   ]
  },
  {
   "cell_type": "code",
   "execution_count": 4,
   "id": "81e699f9-c699-44de-9f15-ee43741fc30f",
   "metadata": {
    "tags": []
   },
   "outputs": [
    {
     "name": "stdout",
     "output_type": "stream",
     "text": [
      "数字を入力してください： 9\n",
      "数字を入力してください： 9\n",
      "数字を入力してください： 9\n",
      "数字を入力してください： 9\n",
      "数字を入力してください： 9\n"
     ]
    },
    {
     "name": "stdout",
     "output_type": "stream",
     "text": [
      "最小の値は 9\n"
     ]
    }
   ],
   "source": [
    "num = input(\"数字を入力してください：\")\n",
    "num = int(num)\n",
    "m = num\n",
    "for i in range(4):\n",
    "    num2 = input(\"数字を入力してください：\")\n",
    "    num2 = int(num2)\n",
    "    \n",
    "    if m > num2:\n",
    "        m = num2\n",
    "    \n",
    "    num2 = 0\n",
    "\n",
    "print(\"最小の値は\",m)"
   ]
  },
  {
   "cell_type": "markdown",
   "id": "62b0d9b8-b19e-4124-b436-b91f7e0d5a1f",
   "metadata": {},
   "source": [
    "## 8"
   ]
  },
  {
   "cell_type": "code",
   "execution_count": 27,
   "id": "5e0287bc-81bb-4541-8b14-2d216344a566",
   "metadata": {
    "tags": []
   },
   "outputs": [
    {
     "name": "stdout",
     "output_type": "stream",
     "text": [
      "1つ目のx座標を入力してください： 1\n",
      "1つ目のy座標を入力してください： 2\n",
      "2つ目のx座標を入力してください： 4\n",
      "2つ目のy座標を入力してください： 8\n",
      "3つ目のx座標を入力してください： 3\n",
      "3つ目のy座標を入力してください： 5\n"
     ]
    },
    {
     "name": "stdout",
     "output_type": "stream",
     "text": [
      "3点は同一線上にない\n"
     ]
    }
   ],
   "source": [
    "x1 = input(\"1つ目のx座標を入力してください：\")\n",
    "y1 = input(\"1つ目のy座標を入力してください：\")\n",
    "x2 = input(\"2つ目のx座標を入力してください：\")\n",
    "y2 = input(\"2つ目のy座標を入力してください：\")\n",
    "x3 = input(\"3つ目のx座標を入力してください：\")\n",
    "y3 = input(\"3つ目のy座標を入力してください：\")\n",
    "x1 = int(x1)\n",
    "y1 = int(y1)\n",
    "x2 = int(x2)\n",
    "y2 = int(y2)\n",
    "x3 = int(x3)\n",
    "y3 = int(y3)\n",
    "\n",
    "if x1 == x2 == x3 or y1 == y2 == y3:\n",
    "    print(\"3点は同一線上にある\")\n",
    "\n",
    "elif x1 != x2 != x3 and y1 != y2 != y3:\n",
    "    v1 = (y2-y1)/(x2-x1)\n",
    "    v2 = (y3-y1)/(x3-x1)\n",
    "    \n",
    "    if v1 == v2:\n",
    "        print(\"3点は同一線上にある\")\n",
    "    \n",
    "    else:\n",
    "        print(\"3点は同一線上にない\")\n",
    "    \n",
    "else:\n",
    "    print(\"3点は同一線上にない\")"
   ]
  },
  {
   "cell_type": "markdown",
   "id": "b497fbe0-8414-4d0d-996e-fbc5b09ff277",
   "metadata": {},
   "source": [
    "## 9"
   ]
  },
  {
   "cell_type": "code",
   "execution_count": 19,
   "id": "1fa33a87-1759-4606-9c6a-b678b178b756",
   "metadata": {
    "tags": []
   },
   "outputs": [
    {
     "name": "stdout",
     "output_type": "stream",
     "text": [
      "数字を入力してください： 4\n"
     ]
    },
    {
     "name": "stdout",
     "output_type": "stream",
     "text": [
      "   *\n",
      "  ***\n",
      " *****\n",
      "*******\n"
     ]
    }
   ],
   "source": [
    "n = input(\"数字を入力してください：\")\n",
    "n = int(n)\n",
    "for i in range(1,n+1):\n",
    "    print(\" \" * (n-i)+\"*\" * (i*2-1))"
   ]
  },
  {
   "cell_type": "markdown",
   "id": "02a4f9f5-ab45-4ace-8799-2d58b00d1d33",
   "metadata": {},
   "source": [
    "## 10"
   ]
  },
  {
   "cell_type": "code",
   "execution_count": 23,
   "id": "81e3352b-ad96-401a-8d51-9d1d9fcd6d59",
   "metadata": {
    "tags": []
   },
   "outputs": [
    {
     "name": "stdout",
     "output_type": "stream",
     "text": [
      "数字を入力してください： 4\n"
     ]
    },
    {
     "name": "stdout",
     "output_type": "stream",
     "text": [
      "*******\n",
      " *****\n",
      "  ***\n",
      "   *\n"
     ]
    }
   ],
   "source": [
    "n = input(\"数字を入力してください：\")\n",
    "n = int(n)\n",
    "for i in range(n,0,-1):\n",
    "    print(\" \" * (n-i)+\"*\" * (i*2-1))"
   ]
  },
  {
   "cell_type": "code",
   "execution_count": null,
   "id": "d338b4a5-c367-4175-987a-fa48396f1e88",
   "metadata": {},
   "outputs": [],
   "source": []
  }
 ],
 "metadata": {
  "kernelspec": {
   "display_name": "Python 3 (ipykernel)",
   "language": "python",
   "name": "python3"
  },
  "language_info": {
   "codemirror_mode": {
    "name": "ipython",
    "version": 3
   },
   "file_extension": ".py",
   "mimetype": "text/x-python",
   "name": "python",
   "nbconvert_exporter": "python",
   "pygments_lexer": "ipython3",
   "version": "3.9.7"
  }
 },
 "nbformat": 4,
 "nbformat_minor": 5
}
