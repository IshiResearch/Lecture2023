{
 "cells": [
  {
   "cell_type": "markdown",
   "id": "6cad37d7-24f3-46d0-a470-4b09aa88eba6",
   "metadata": {},
   "source": [
    "# 演習課題5"
   ]
  },
  {
   "cell_type": "code",
   "execution_count": 113,
   "id": "d2f01ae6-8dbf-49ce-9f21-4b6029703410",
   "metadata": {
    "tags": []
   },
   "outputs": [],
   "source": [
    "#1 ファイルをコピーして同じものを作り、保存する\n",
    "with open(\"C:\\\\Users\\\\makot\\\\ensyuu\\\\filename.py\", mode=\"w\") as file:\n",
    "    file.write(\"file name\")    \n",
    "with open(\"C:\\\\Users\\\\makot\\\\ensyuu\\\\filename.py\", mode=\"r\") as file: #元のファイルを読み込む\n",
    "    lines = file.read()     \n",
    "with open(\"C:\\\\Users\\\\makot\\\\ensyuu\\\\filename_copy.py\", mode=\"w\") as file: #コピーファイルに代入する\n",
    "    file.write(lines)\n",
    "\n",
    "with open(\"C:\\\\Users\\\\makot\\\\ensyuu\\\\names.txt\", mode=\"w\") as file:\n",
    "    file.write(\"aaa\")    \n",
    "with open(\"C:\\\\Users\\\\makot\\\\ensyuu\\\\names.txt\", mode=\"r\") as file: #元のファイルに読み込む\n",
    "    lines = file.read()     \n",
    "with open(\"C:\\\\Users\\\\makot\\\\ensyuu\\\\names_copy.txt\", mode=\"w\") as file: #コピーファイルに代入する\n",
    "    file.write(lines)"
   ]
  },
  {
   "cell_type": "code",
   "execution_count": 34,
   "id": "dbf1f6b4-8e73-4bd3-b12b-f778a89beedd",
   "metadata": {
    "tags": []
   },
   "outputs": [],
   "source": [
    "#2 ファイルを作成し、全員の平均点を計算して、ほかのファイルに出力\n",
    "with open(\"C:\\\\Users\\\\makot\\\\ensyuu\\\\marks.txt\", mode =\"r\") as f:\n",
    "    lines = f.read()\n",
    "    \n",
    "lines = lines.split(\"\\n\") #改行ごとに分ける\n",
    "average = [] #平均を入れるリストを作る\n",
    "for i in range(len(lines)):\n",
    "    total = 0\n",
    "    lines[i] = lines[i].split(\":\") #名前と数字を分ける\n",
    "    lines[i][1] = lines[i][1].split(\",\") #それぞれの数字に分ける\n",
    "    for j in range(len(lines[i][1])):\n",
    "        lines[i][1][j] = lines[i][1][j].strip() #数字の空白をなくす\n",
    "        total += int(lines[i][1][j]) #すべて足し合わせる\n",
    "    ave = total / len(lines[i][1]) #平均を算出する\n",
    "    average.append(ave)\n",
    "    \n",
    "with open(\"C:\\\\Users\\\\makot\\\\ensyuu\\\\average.txt\", mode=\"w\") as file:\n",
    "    for i in range(len(lines) - 1):\n",
    "        file.write(lines[i][:][0]) #名前\n",
    "        file.write(\":\")\n",
    "        file.write(str(average[i])) #平均点\n",
    "        file.write(\"\\n\")\n",
    "        \n",
    "    file.write(lines[len(lines)-1][:][0]) #名前\n",
    "    file.write(\":\")\n",
    "    file.write(str(average[len(lines)-1])) #平均点"
   ]
  },
  {
   "cell_type": "code",
   "execution_count": 35,
   "id": "98b52ecf-8ea9-4407-8315-70fbcd6c4d03",
   "metadata": {},
   "outputs": [],
   "source": [
    "#3 英語のポエムを調べ、テキストファイルに保存し、全て大文字にして、別のテキストファイルに保存\n",
    "with open(\"C:\\\\Users\\\\makot\\\\ensyuu\\\\poem.txt\", mode =\"w\") as f:\n",
    "    lines = f.write(\"a b c d e f g\")\n",
    "    \n",
    "with open(\"C:\\\\Users\\\\makot\\\\ensyuu\\\\poem.txt\", mode =\"r\") as f:\n",
    "    lines = f.read()\n",
    "    \n",
    "with open(\"C:\\\\Users\\\\makot\\\\ensyuu\\\\poem_caps.txt\", mode =\"w\") as f:\n",
    "    lines = f.write(lines.upper()) #すべてを大文字に変換"
   ]
  },
  {
   "cell_type": "code",
   "execution_count": 40,
   "id": "36df0239-2fb2-4a78-94e1-b7905698ed8a",
   "metadata": {
    "tags": []
   },
   "outputs": [
    {
     "name": "stdout",
     "output_type": "stream",
     "text": [
      "[['Orochimaru ', 99.4], ['Sasuke ', 91.2], ['Gai', 90.0], ['Jiraiya', 34.0], ['Naruto ', 8.8]]\n"
     ]
    }
   ],
   "source": [
    "#4 問題2で出した結果を平均点の高い順に並び替え\n",
    "with open(\"C:\\\\Users\\\\makot\\\\ensyuu\\\\average.txt\", mode =\"r\") as f:\n",
    "    lines = f.read()\n",
    "lines = lines.split(\"\\n\")\n",
    "\n",
    "number = len(lines)\n",
    "empty = 0\n",
    "empty_name = 0\n",
    "\n",
    "for i in range(number):\n",
    "    lines[i] = lines[i].split(\":\") #数字と名前を分ける\n",
    "    lines[i][1] = float(lines[i][1]) #数字をstr型からfloat型へ変更\n",
    "\n",
    "while number > 0:\n",
    "    \n",
    "    for i in range(number):\n",
    "        if lines[i][1] < lines[number-1][1]: #平均点が高かった方を前の方へ送る\n",
    "            empty = lines[i] #入れ替え\n",
    "            lines[i] = lines[number-1] \n",
    "            lines[number-1] = empty\n",
    "    number -= 1\n",
    "    \n",
    "with open(\"C:\\\\Users\\\\makot\\\\ensyuu\\\\average_rank.txt\", mode =\"w\") as lines_rank:\n",
    "    for i in range(len(lines)):\n",
    "        lines_rank.write(lines[i][0])\n",
    "        lines_rank.write(\":\")\n",
    "        lines_rank.write(str(lines[i][1]))\n",
    "        lines_rank.write(\"\\n\")\n",
    "print(lines)"
   ]
  },
  {
   "cell_type": "code",
   "execution_count": 121,
   "id": "a425bf33-8c68-423d-bc03-4e0853bd1ea7",
   "metadata": {},
   "outputs": [],
   "source": [
    "#5 2つのファイルをjoinするプログラム\n",
    "with open(\"C:\\\\Users\\\\makot\\\\ensyuu\\\\file1.txt\", mode =\"w\") as f:\n",
    "    f.write(\"a b c d e\")\n",
    "with open(\"C:\\\\Users\\\\makot\\\\ensyuu\\\\file2.txt\", mode =\"w\") as f:\n",
    "    f.write(\"f g h i j\")\n",
    "    \n",
    "with open(\"C:\\\\Users\\\\makot\\\\ensyuu\\\\file1.txt\", mode =\"r\") as f:\n",
    "    lines1 = f.readlines()\n",
    "with open(\"C:\\\\Users\\\\makot\\\\ensyuu\\\\file2.txt\", mode =\"r\") as f:\n",
    "    lines2 = f.readlines()\n",
    "    \n",
    "with open(\"C:\\\\Users\\\\makot\\\\ensyuu\\\\filejoin.txt\", mode =\"w\") as f:\n",
    "    for i in range(len(lines1)): #file1をfilejoinへ代入\n",
    "        f.write(lines1[i])\n",
    "        f.write(\"\\n\")\n",
    "    for j in range(len(lines2)): #file2をfilejoinへ代入\n",
    "        f.write(lines2[i])\n",
    "        f.write(\"\\n\")"
   ]
  },
  {
   "cell_type": "code",
   "execution_count": 70,
   "id": "d4d46bf2-64e7-46e9-a785-7dc0287b5ad0",
   "metadata": {
    "tags": []
   },
   "outputs": [
    {
     "name": "stdin",
     "output_type": "stream",
     "text": [
      "character hello \n"
     ]
    },
    {
     "name": "stdout",
     "output_type": "stream",
     "text": [
      "<=[[?I"
     ]
    }
   ],
   "source": [
    "#6 ファイル暗号化のプログラム\n",
    "with open(\"C:\\\\Users\\\\makot\\\\ensyuu\\\\data.txt\", mode =\"w\") as f:\n",
    "    f.write(\"abcdefghijklmnopqrstuvwxyz1234567890 \")\n",
    "with open(\"C://Users//makot//ensyuu/data_encrypted.txt\", mode =\"w\") as f:\n",
    "    f.write(\"@`;+=-,<.>][}{?/_|^~)('%&#$!AYFPMWOXI\")\n",
    "\n",
    "with open(\"C:\\\\Users\\\\makot\\\\ensyuu\\\\data.txt\", mode =\"r\") as f:\n",
    "    lines = f.read()\n",
    "with open(\"C:\\\\Users\\\\makot\\\\ensyuu\\\\data_encrypted.txt\", mode =\"r\") as f:\n",
    "    lines2 = f.read()\n",
    "\n",
    "character = str(input(\"character\"))\n",
    "\n",
    "for i in range(len(character)):\n",
    "    s = character[i]\n",
    "    number = lines.index(s)\n",
    "    print(lines2[number], end=\"\")\n",
    "    "
   ]
  },
  {
   "cell_type": "code",
   "execution_count": 71,
   "id": "462998fa-cdd2-4967-b35b-4f3fff9805b8",
   "metadata": {
    "tags": []
   },
   "outputs": [
    {
     "name": "stdin",
     "output_type": "stream",
     "text": [
      "decryted <=[[?I\n"
     ]
    },
    {
     "name": "stdout",
     "output_type": "stream",
     "text": [
      "hello \n"
     ]
    }
   ],
   "source": [
    "#7 暗号化したファイルを読み、元のデータにして結果ファイルに保存\n",
    "with open(\"C:\\\\Users\\\\makot\\\\ensyuu\\\\data_encrypted.txt\", mode =\"r\") as f:\n",
    "    lines = f.read() #暗号ファイルから読み取る\n",
    "with open(\"C:\\\\Users\\\\makot\\\\ensyuu\\\\data.txt\", mode =\"r\") as f:\n",
    "    lines2 = f.read() #元のデータから読み取る\n",
    "decryted = str(input(\"decryted\"))\n",
    "result = str(\"\")\n",
    "\n",
    "for i in range(len(decryted)):\n",
    "    s = decryted[i]\n",
    "    number = lines.index(s)\n",
    "    result += lines2[number]\n",
    "print(result)\n",
    "    \n",
    "with open(\"C:\\\\Users\\\\makot\\\\ensyuu\\\\decrypted.txt\", mode =\"w\") as f:\n",
    "    f.write(result) #結果ファイルに代入\n",
    "    \n"
   ]
  },
  {
   "cell_type": "code",
   "execution_count": 71,
   "id": "096e728e-7e21-4d0e-b9a1-b7abd89c4a19",
   "metadata": {},
   "outputs": [],
   "source": [
    "#8 ファイルの各単語をreverseにして新しいファイルで保存\n",
    "with open(\"C:\\\\Users\\\\makot\\\\ensyuu\\\\normal.txt\", mode =\"r\") as f:\n",
    "    lines = f.read()\n",
    "\n",
    "lines = lines.split(\"\\n\") #改行ごとに分ける\n",
    "\n",
    "for i in range(len(lines)):\n",
    "    lines[i] = lines[i].split(\" \") #空白ごとに分ける\n",
    "\n",
    "    for j in range(len(lines[i])):\n",
    "        lines[i][j] = lines[i][j][::-1] #各単語をreverseする\n",
    "        with open(\"C:\\\\Users\\\\makot\\\\ensyuu\\\\reverse.txt\", mode =\"a\") as f:\n",
    "            f.write(lines[i][j]) #結果をファイルに書く\n",
    "            f.write(\" \") #単語ごとに空白を開ける\n",
    "    with open(\"C:\\\\Users\\\\makot\\\\ensyuu\\\\reverse.txt\", mode =\"a\") as f:\n",
    "        f.write(\"\\n\") #1ループが終わると、改行を行う\n",
    "\n",
    "        \n",
    "    \n"
   ]
  },
  {
   "cell_type": "code",
   "execution_count": 129,
   "id": "b90bb756-f3a9-472b-bc44-20f5128a7243",
   "metadata": {
    "tags": []
   },
   "outputs": [],
   "source": [
    "#9 File splitter\n",
    "with open(\"C:\\\\Users\\\\makot\\\\ensyuu\\\\alice.txt\", mode =\"r\") as f:\n",
    "        lines = f.readlines()\n",
    "\n",
    "number1 = 10 #分割回数\n",
    "number2 = 1 #file番号\n",
    "number3 = 1 #行\n",
    "\n",
    "cut_lines = int(len(lines) / 10) +1 #fileに書き込む行数\n",
    "cut_lines_number = cut_lines \n",
    "\n",
    "while number1 > 0:\n",
    "    \n",
    "    with open(\"C:\\\\Users\\\\makot\\\\ensyuu\\\\alice\" +str(number2)+ \".txt\", mode =\"a\") as f:\n",
    "        for i in range(number3, cut_lines): \n",
    "            f.write(lines[i]) #それぞれのfile書き込んでいく\n",
    "    number1 -= 1\n",
    "    number2 += 1\n",
    "    number3 = cut_lines #次のファイルへ行くための処理\n",
    "    cut_lines += cut_lines_number #元のfileの続きから次のファイルに書き込めるようにする\n",
    "    if cut_lines > len(lines):\n",
    "        cut_lines = len(lines) #最後のファイルの行数に余りが出てしまうことを防ぐ\n",
    "    \n",
    "        \n",
    "   "
   ]
  },
  {
   "cell_type": "code",
   "execution_count": 130,
   "id": "8958ab03-205d-441d-a782-1e62de12acbe",
   "metadata": {
    "tags": []
   },
   "outputs": [],
   "source": [
    "#10 1～10のファイルをjoinし、新しいファイルを作成する\n",
    "for i in range(1, 11):\n",
    "    with open(\"C:\\\\Users\\\\makot\\\\ensyuu\\\\alice\" +str(i)+ \".txt\", mode =\"r\") as f:\n",
    "        lines = f.readlines() #それぞれのファイルから読み込む\n",
    "        with open(\"C:\\\\Users\\\\makot\\\\ensyuu\\\\alice_join.txt\", mode =\"a\") as f:\n",
    "            for i in range(len(lines)):\n",
    "                f.write(lines[i]) #新しいファイルに1行ごとに書き込んでいく\n",
    "\n"
   ]
  },
  {
   "cell_type": "code",
   "execution_count": 94,
   "id": "b07f48a3-671f-457f-9439-5cd542bb9d0a",
   "metadata": {},
   "outputs": [
    {
     "name": "stdin",
     "output_type": "stream",
     "text": [
      "search Alice\n"
     ]
    },
    {
     "name": "stdout",
     "output_type": "stream",
     "text": [
      "208\n"
     ]
    }
   ],
   "source": [
    "#11 aliceの単語の数を数える\n",
    "with open(\"C:\\\\Users\\\\makot\\\\ensyuu\\\\alice.txt\", mode =\"r\") as f:\n",
    "    lines = f.readlines()\n",
    "    point = 0\n",
    "    \n",
    "    search = str(input(\"search\")) #探す単語を入力\n",
    "    \n",
    "    for i in range(len(lines)):\n",
    "        lines[i] = lines[i].split(\" \")\n",
    "    \n",
    "    for i in range(len(lines)):\n",
    "        for j in range(len(lines[i])):\n",
    "            if lines[i][j] == search: #同じ単語であった場合、ポイントを追加\n",
    "                point += 1\n",
    "print(point)\n",
    "        \n"
   ]
  },
  {
   "cell_type": "code",
   "execution_count": null,
   "id": "b9fe6f85-7366-4aa7-9942-052b9562b191",
   "metadata": {},
   "outputs": [],
   "source": []
  }
 ],
 "metadata": {
  "kernelspec": {
   "display_name": "Python 3 (ipykernel)",
   "language": "python",
   "name": "python3"
  },
  "language_info": {
   "codemirror_mode": {
    "name": "ipython",
    "version": 3
   },
   "file_extension": ".py",
   "mimetype": "text/x-python",
   "name": "python",
   "nbconvert_exporter": "python",
   "pygments_lexer": "ipython3",
   "version": "3.8.16"
  }
 },
 "nbformat": 4,
 "nbformat_minor": 5
}
