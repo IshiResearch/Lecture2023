{
 "cells": [
  {
   "attachments": {},
   "cell_type": "markdown",
   "metadata": {},
   "source": [
    "> **Note**\n",
    "\n",
    "### raw文字列について\n",
    "パスを指定する際、raw文字列を使用するとエスケープシーケンスを無視して文字列をそのまま扱うことができます。raw文字列は文字列の前にrを付けて表現します。\n",
    "\n",
    "e.g.\n",
    "```python\n",
    "path = r\"C:\\Users\\user\\Documents\\test.txt\"\n",
    "``` "
   ]
  },
  {
   "attachments": {},
   "cell_type": "markdown",
   "metadata": {},
   "source": [
    "> **Note**  ### 複数ファイルのオープンについて  \n",
    "with文ではカンマ区切りで複数のファイルをオープンすることができます。この場合、ファイルオブジェクトはタプルで返されます。\n",
    "\n",
    "e.g.\n",
    "```python\n",
    "with open(\"test1.txt\", \"r\") as f1, open(\"test2.txt\", \"r\") as f2:\n",
    "    print(f1.read())\n",
    "    print(f2.read())\n",
    "```"
   ]
  },
  {
   "attachments": {},
   "cell_type": "markdown",
   "metadata": {},
   "source": [
    "> **Note**\n",
    "### ソートアルゴリズムについて\n",
    "今回、並べ替えにはsortメソッドを用いて、Timsortアルゴリズムによるソートを行っていますが、他にも様々なソートアルゴリズムがあります。以下に代表的なものが挙げられています。\n",
    "[【Unity】ソートアルゴリズム12種を可視化してみた](https://qiita.com/r-ngtm/items/f4fa55c77459f63a5228)\n",
    "[The Sound of Sorting - \"Audibilization\" and Visualization of Sorting Algorithms](https://panthema.net/2013/sound-of-sorting/)"
   ]
  },
  {
   "attachments": {},
   "cell_type": "markdown",
   "metadata": {},
   "source": []
  }
 ],
 "metadata": {
  "language_info": {
   "name": "python"
  },
  "orig_nbformat": 4
 },
 "nbformat": 4,
 "nbformat_minor": 2
}
