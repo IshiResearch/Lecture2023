{
 "cells": [
  {
   "cell_type": "code",
   "execution_count": 9,
   "id": "31776a13-bd8f-48fd-8ea9-44bbd7ab9aff",
   "metadata": {
    "tags": []
   },
   "outputs": [],
   "source": [
    "with open(\"E:\\\\python\\\\study.txt\",mode = \"r\")as f:\n",
    "    lines = f.read()\n",
    "with open(\"E:\\\\python\\\\study_copy.txt\",mode = \"w\")as fc:\n",
    "    fc.write(lines)"
   ]
  },
  {
   "cell_type": "code",
   "execution_count": 15,
   "id": "4b4a4130-984c-42ff-9a44-fe713e4baf92",
   "metadata": {
    "tags": []
   },
   "outputs": [],
   "source": [
    "with open(\"study.py\",mode = \"r\")as f:\n",
    "    lines = f.read()\n",
    "with open(\"study_copy.py\",mode = \"w\")as fc:\n",
    "    fc.write(lines)       "
   ]
  },
  {
   "cell_type": "code",
   "execution_count": 12,
   "id": "32d30ffb-4281-410d-b3e8-bd9661e15aa1",
   "metadata": {
    "tags": []
   },
   "outputs": [
    {
     "name": "stdout",
     "output_type": "stream",
     "text": [
      "[[20, 9, 5, 1, 9], [90, 98, 87, 88, 93], [100, 100, 100, 99, 98], [34, 34, 34, 34, 34], [90, 90, 90, 90, 90]]\n",
      "[8.8, 91.2, 99.4, 34.0, 90.0]\n"
     ]
    }
   ],
   "source": [
    "naruto = '[20,9,5,1,9]\\n'\n",
    "sasuke = '[90,98,87,88,93]\\n'\n",
    "orochimaru = '[100,100,100,99,98]\\n'\n",
    "jiraiya = '[34,34,34,34,34]\\n'\n",
    "gai = '[90,90,90,90,90]'\n",
    "total_list = [naruto,sasuke,orochimaru,jiraiya,gai]\n",
    "with open(\"E:\\\\python\\\\marks.txt\", \"w\") as f:  # \n",
    "    f.writelines(total_list)\n",
    "with open(\"E:\\\\python\\\\marks.txt\",mode = \"r\")as f:\n",
    "    alllist= f.readlines()\n",
    "list1 = []    \n",
    "for i in alllist:\n",
    "    i = i.strip()\n",
    "    list1.append(i)\n",
    "list2 = []    \n",
    "for j in list1:\n",
    "    j = j.strip('[]')\n",
    "    j= j.split(',')\n",
    "    list2.append(j)\n",
    "list_2D_int = []\n",
    "\n",
    "for row in list2:\n",
    "    row_int = []\n",
    "    for data in row:\n",
    "        row_int.append(int(data))\n",
    "    list_2D_int.append(row_int)\n",
    "\n",
    "print(list_2D_int)\n",
    "average = []\n",
    "\n",
    "for i in list_2D_int:\n",
    "    total = sum(i)\n",
    "    average1 = total/len(i)\n",
    "    average.append(average1)\n",
    "print(average)    \n",
    "with open(\"E:\\\\python\\\\average.txt\", \"w\") as f:  # \n",
    "    f.writelines(str(average))"
   ]
  },
  {
   "cell_type": "code",
   "execution_count": 35,
   "id": "6ae1053d-41da-45e0-a825-1ffe025f300c",
   "metadata": {
    "tags": []
   },
   "outputs": [
    {
     "name": "stdout",
     "output_type": "stream",
     "text": [
      "[8.8, 34.0, 90.0, 91.2, 99.4]\n"
     ]
    }
   ],
   "source": [
    "with open(\"E:\\\\python\\\\average.txt\", \"r\") as f:  \n",
    "    average = f.readline()\n",
    "average= average.strip('[]')\n",
    "average= average.split(',')\n",
    "\n",
    "average = [float(i) for i in average]\n",
    "average.append(100)\n",
    "\n",
    "i = 0\n",
    "while i < 5:\n",
    "    j = 1\n",
    "    while j < 5-i:\n",
    "        if average[i] > average[i+j]:\n",
    "            average[5] = average[i]\n",
    "            average[i] = average[i+j]\n",
    "            average[i+j] = average[5]\n",
    "            average[5] = 100\n",
    "            j = j+1\n",
    "        else:\n",
    "            j=j+1\n",
    "    i = i+1\n",
    "\n",
    "\n",
    "average.remove(100)\n",
    "print(average)"
   ]
  },
  {
   "cell_type": "code",
   "execution_count": 74,
   "id": "f0986d1f-4fa7-44f1-b146-f696520fd5c0",
   "metadata": {
    "tags": []
   },
   "outputs": [
    {
     "name": "stdout",
     "output_type": "stream",
     "text": [
      "ABCDEFHIJK\n"
     ]
    }
   ],
   "source": [
    "poem = \"abcdefhijk\"\n",
    "with open(\"E:\\\\python\\\\poem.txt\",mode = \"w\")as f:\n",
    "    f.write(poem)\n",
    "with open(\"E:\\\\python\\\\poem.txt\",mode = \"r\")as f:\n",
    "    poem_cap = f.read()    \n",
    "poem_cap = poem_cap.upper()\n",
    "with open(\"E:\\\\python\\\\poem_cap.txt\",mode = \"w\")as f:\n",
    "    f.write(poem_cap)\n",
    "print(poem_cap)    "
   ]
  },
  {
   "cell_type": "code",
   "execution_count": 75,
   "id": "2f5d4c79-682b-4d3c-80f0-640fa0d73100",
   "metadata": {
    "tags": []
   },
   "outputs": [
    {
     "name": "stdout",
     "output_type": "stream",
     "text": [
      "i love studyingred\n",
      "blue\n"
     ]
    }
   ],
   "source": [
    "with open(\"E:\\\\python\\\\study.txt\",mode = \"r\")as f:\n",
    "    filename1 = f.read()\n",
    "with open(\"E:\\\\python\\\\study_copy.txt\",mode = \"r\")as fc:\n",
    "    filename2 = fc.read()\n",
    "with open(\"E:\\\\python\\\\filejoin.txt\",mode = \"w\")as f:\n",
    "    f.write(filename1)\n",
    "    f.writelines(filename2) \n",
    "with open(\"E:\\\\python\\\\filejoin.txt\",mode = \"r\")as f:\n",
    "    join = f.read()\n",
    "print(join)    "
   ]
  },
  {
   "cell_type": "code",
   "execution_count": 76,
   "id": "1ebac7d3-c027-49ca-b8b2-1f01ce324ab7",
   "metadata": {
    "tags": []
   },
   "outputs": [
    {
     "name": "stdout",
     "output_type": "stream",
     "text": [
      "!<-=4#$%^&(P;’QWE ......\n"
     ]
    }
   ],
   "source": [
    "angou = 'abcdefghijklmnopqrstuvwxyz1234567890'\n",
    "with open(\"E:\\\\python\\\\data.txt\",mode = \"w\")as f:\n",
    "    f.write(angou)\n",
    "with open(\"E:\\\\python\\\\data.txt\",mode = \"r\")as fc:\n",
    "    angou1 = fc.read()\n",
    "angou1 = '!<-=4#$%^&(P;’QWE ......'    \n",
    "with open(\"E:\\\\python\\\\data_encrypted.txt\",mode = \"w\")as f:\n",
    "    f.write(angou1)  \n",
    "with open(\"E:\\\\python\\\\data_encrypted.txt\",mode = \"r\")as f:\n",
    "    angou1 = f.read()    \n",
    "print(angou1)    "
   ]
  },
  {
   "cell_type": "code",
   "execution_count": 78,
   "id": "856b80bd-ea34-4f9e-b3fb-5a2b0ea8b66d",
   "metadata": {
    "tags": []
   },
   "outputs": [
    {
     "name": "stdout",
     "output_type": "stream",
     "text": [
      "abcdefghijklmnopqrstuvwxyz1234567890\n"
     ]
    }
   ],
   "source": [
    "with open(\"E:\\\\python\\\\data_encrypted.txt\",mode = \"r\")as f:\n",
    "    angou1 = f.read() \n",
    "with open(\"E:\\\\python\\\\data.txt\",mode = \"r\")as f:\n",
    "    moto = f.read()  \n",
    "angou1 = moto\n",
    "with open(\"E:\\\\python\\\\decrypted.txt\",mode = \"w\")as f:\n",
    "    f.write(angou1)\n",
    "with open(\"E:\\\\python\\\\decrypted.txt\",mode = \"r\")as f:\n",
    "    moto = f.read()    \n",
    "print(moto)    "
   ]
  },
  {
   "cell_type": "code",
   "execution_count": 102,
   "id": "65370bfc-4edf-43f3-96d6-dd26acd4cce5",
   "metadata": {
    "tags": []
   },
   "outputs": [
    {
     "name": "stdout",
     "output_type": "stream",
     "text": [
      "ANIHC\n",
      "SI\n",
      "YM\n",
      "RTNUOC\n"
     ]
    }
   ],
   "source": [
    "tango = \"CHINA\\nIS\\nMY\\nCOUNTR\"\n",
    "with open(\"E:\\\\python\\\\normal.txt\",mode = \"w\")as f:\n",
    "    f.write(tango)\n",
    "with open(\"E:\\\\python\\\\normal.txt\",mode = \"r\")as f:\n",
    "    tango = f.readlines()    \n",
    "split_lines = []\n",
    "for line in tango:\n",
    "    split_lines.append(line.strip())\n",
    "reverse = []    \n",
    "for i in split_lines:\n",
    "    i = i[::-1]\n",
    "    print(i)\n",
    "    reverse.append(i)\n",
    "with open(\"E:\\\\python\\\\reverse.txt\",mode = \"w\") as f:\n",
    "    f.writelines((reverse))"
   ]
  },
  {
   "cell_type": "code",
   "execution_count": 58,
   "id": "f2556bde-fe45-4d32-9266-da9a4662a8f9",
   "metadata": {
    "tags": []
   },
   "outputs": [
    {
     "name": "stdin",
     "output_type": "stream",
     "text": [
      " 4\n"
     ]
    }
   ],
   "source": [
    "count = 0\n",
    "with open('E:\\\\python\\\\alice.txt') as f:\n",
    "    for line in f:\n",
    "        count += 1\n",
    "input_file_name = \"E:\\\\python\\\\alice.txt\"\n",
    "output_file_name = \"E:\\\\python\\\\alice_%d.txt\"\n",
    "n = int(input())\n",
    "line_max = count//n\n",
    "line_index = 1\n",
    "file_seqno = 1\n",
    "input_file = open(input_file_name)\n",
    "output_file = open(output_file_name % file_seqno, \"w\")\n",
    "line = input_file.readline()\n",
    "while line:\n",
    "    if line_index > line_max:\n",
    "        output_file.close()\n",
    "        line_index = 1\n",
    "        file_seqno += 1\n",
    "        output_file = open(output_file_name % file_seqno, \"w\")\n",
    "    output_file.write(line)\n",
    "    line_index += 1\n",
    "    line = input_file.readline()\n",
    "input_file.close()\n",
    "output_file.close()    "
   ]
  },
  {
   "cell_type": "code",
   "execution_count": 53,
   "id": "36fddd48-a10e-4f96-a21c-e0cfb6690e72",
   "metadata": {
    "tags": []
   },
   "outputs": [],
   "source": [
    "filenames = [\"E:\\\\python\\\\alice_1.txt\", \"E:\\\\python\\\\alice_2.txt\", \"E:\\\\python\\\\alice_3.txt\", \"E:\\\\python\\\\alice_4.txt\"]\n",
    "\n",
    "with open(\"E:\\\\python\\\\alice_joined.txt\", \"w\") as new_file:\n",
    "    for i in filenames:\n",
    "        with open(i) as f:\n",
    "            for line in f:\n",
    "                new_file.write(line)\n",
    "            \n",
    "            new_file.write(\"\\n\")"
   ]
  },
  {
   "cell_type": "code",
   "execution_count": null,
   "id": "9f91682e-7509-4fe4-80d0-893ec94d8ce8",
   "metadata": {},
   "outputs": [],
   "source": []
  }
 ],
 "metadata": {
  "kernelspec": {
   "display_name": "Python 3 (ipykernel)",
   "language": "python",
   "name": "python3"
  },
  "language_info": {
   "codemirror_mode": {
    "name": "ipython",
    "version": 3
   },
   "file_extension": ".py",
   "mimetype": "text/x-python",
   "name": "python",
   "nbconvert_exporter": "python",
   "pygments_lexer": "ipython3",
   "version": "3.8.16"
  }
 },
 "nbformat": 4,
 "nbformat_minor": 5
}
