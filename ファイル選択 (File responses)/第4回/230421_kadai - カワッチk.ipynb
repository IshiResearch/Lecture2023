{
 "cells": [
  {
   "cell_type": "markdown",
   "id": "f3fe604c-d4af-4286-8aca-541f31a393e0",
   "metadata": {
    "jp-MarkdownHeadingCollapsed": true,
    "tags": []
   },
   "source": [
    "### 1. ファイルをコピーして同じものを作って保存しなさい。"
   ]
  },
  {
   "cell_type": "code",
   "execution_count": 1,
   "id": "0fa3f1fd-fb9e-4721-a35f-4874921cca3b",
   "metadata": {},
   "outputs": [],
   "source": [
    "with open(\"filename.py\", \"r\", encoding=\"utf-8\") as f:\n",
    "    file = f.read()"
   ]
  },
  {
   "cell_type": "code",
   "execution_count": 2,
   "id": "d6ee044d-c6c6-451a-802f-4b28caec6f00",
   "metadata": {},
   "outputs": [],
   "source": [
    "with open(\"C:\\\\Users\\\\koudaisei\\\\kawamura\\\\filename_copy.py\", \"w\") as f:\n",
    "    f.writelines(file)"
   ]
  },
  {
   "cell_type": "code",
   "execution_count": 3,
   "id": "07e7cf0e-433c-4e09-847b-2f36f7216a07",
   "metadata": {},
   "outputs": [],
   "source": [
    "with open(\"names.txt\", \"r\") as f:\n",
    "    file = f.read()"
   ]
  },
  {
   "cell_type": "code",
   "execution_count": 4,
   "id": "1941ee1d-28a9-4be5-8807-a9b8274d5354",
   "metadata": {},
   "outputs": [],
   "source": [
    "with open(\"C:\\\\Users\\\\koudaisei\\\\kawamura\\\\names_copy.txt\", \"w\") as f:\n",
    "    f.writelines(file)"
   ]
  },
  {
   "cell_type": "markdown",
   "id": "8816b801-ce42-4a00-8e99-d7782f1357c2",
   "metadata": {
    "jp-MarkdownHeadingCollapsed": true,
    "tags": []
   },
   "source": [
    "### 2. marks.txt を作成し、全員の平均点を計算して average.txt に出力して保存しなさい。\n"
   ]
  },
  {
   "cell_type": "code",
   "execution_count": 22,
   "id": "890b6067-0081-4e06-8ff8-6ec522d90611",
   "metadata": {},
   "outputs": [],
   "source": [
    "with open(\"marks.txt\", \"r\") as f:\n",
    "    lines = f.readlines()\n",
    "\n",
    "for each_line in lines:\n",
    "    name_marks = each_line.split(\":\")\n",
    "    with open(\"C:\\\\Users\\\\koudaisei\\\\kawamura\\\\average.txt\", \"a\") as f:\n",
    "        f.writelines(name_marks[0])\n",
    "    split = \":\"\n",
    "    with open(\"C:\\\\Users\\\\koudaisei\\\\kawamura\\\\average.txt\", \"a\") as f:\n",
    "        f.writelines(split)\n",
    "    \n",
    "    marks = name_marks[1].split(\",\")\n",
    "    \n",
    "    total = 0\n",
    "    ave = 0\n",
    "    for each_mark in marks:\n",
    "        m = float(each_mark)\n",
    "        total = total + m\n",
    "    \n",
    "    ave = total/len(marks)\n",
    "    \n",
    "    ave = str(ave)\n",
    "    with open(\"C:\\\\Users\\\\koudaisei\\\\kawamura\\\\average.txt\", \"a\") as f:\n",
    "        f.writelines(ave)\n",
    "    fin = \"\\n\"\n",
    "    with open(\"C:\\\\Users\\\\koudaisei\\\\kawamura\\\\average.txt\", \"a\") as f:\n",
    "        f.writelines(fin)"
   ]
  },
  {
   "cell_type": "markdown",
   "id": "4f85f291-aeb8-459d-a09b-16528e4c0daa",
   "metadata": {
    "tags": []
   },
   "source": [
    "### 3. 英語のポエム(詩)を調べて、テキストファイルに保存し、すべて大文字にして別のテキストファイルに保存しなさい。"
   ]
  },
  {
   "cell_type": "code",
   "execution_count": 7,
   "id": "9824112f-6df1-490c-93a1-60795c7a5b19",
   "metadata": {},
   "outputs": [],
   "source": [
    "with open(\"poem.txt\", \"r\") as f:\n",
    "    file = f.read()\n",
    "    FILE = file.upper()"
   ]
  },
  {
   "cell_type": "code",
   "execution_count": 8,
   "id": "038e8ac3-c366-4711-b26b-44b730cf6bea",
   "metadata": {},
   "outputs": [],
   "source": [
    "with open(\"C:\\\\Users\\\\koudaisei\\\\kawamura\\\\poem_caps.txt\", \"w\") as f:\n",
    "    f.writelines(FILE)"
   ]
  },
  {
   "cell_type": "markdown",
   "id": "a8ba1e6d-f5c5-44c6-8633-b9d9ac21f128",
   "metadata": {
    "tags": []
   },
   "source": [
    "### 4. 問題２で出した結果を平均点の高い順番で並べ替えなさい。"
   ]
  },
  {
   "cell_type": "code",
   "execution_count": 97,
   "id": "d9114ee1-aa32-4385-b4ea-f5e6ee9320a4",
   "metadata": {},
   "outputs": [],
   "source": [
    "with open(\"average.txt\", \"r\") as f:\n",
    "    file = f.readlines()"
   ]
  },
  {
   "cell_type": "code",
   "execution_count": 99,
   "id": "8040338f-3ab3-4f02-9520-5419030eeee7",
   "metadata": {},
   "outputs": [],
   "source": [
    "\n",
    "d = {}\n",
    "d2 = []\n",
    "for each_line in file:\n",
    "    \n",
    "    name_marks = each_line.split(\":\")\n",
    "\n",
    "    d[name_marks[0]] = float(name_marks[1])\n",
    "    d2.append(float(name_marks[1]))\n",
    "    \n",
    "e = (sorted(d.values(),reverse=True))\n",
    "for i in range(len(file)):\n",
    "    for j in range(len(file)):\n",
    "        if e[i] == d2[j]:\n",
    "            with open(\"C:\\\\Users\\\\koudaisei\\\\kawamura\\\\kekka.txt\", \"a\") as f:\n",
    "                f.writelines(file[j])"
   ]
  },
  {
   "cell_type": "markdown",
   "id": "1eb8b223-0bf9-4579-89a4-4949cc60ed77",
   "metadata": {
    "jp-MarkdownHeadingCollapsed": true,
    "tags": []
   },
   "source": [
    "### 5. 二つのファイルをjoinするプログラムを書きなさい"
   ]
  },
  {
   "cell_type": "code",
   "execution_count": 11,
   "id": "c62a0413-48c3-4ced-9627-8ca92e04036a",
   "metadata": {},
   "outputs": [],
   "source": [
    "with open(\"file1.txt\", \"r\", encoding=\"utf-8\") as f:\n",
    "    file1 = f.read()"
   ]
  },
  {
   "cell_type": "code",
   "execution_count": 12,
   "id": "1f36267d-7e9b-4776-b52d-01ac848e6bbf",
   "metadata": {},
   "outputs": [],
   "source": [
    "with open(\"file2.txt\", \"r\", encoding=\"utf-8\") as f:\n",
    "    file2 = f.readlines()"
   ]
  },
  {
   "cell_type": "code",
   "execution_count": 13,
   "id": "d58bf0c3-b8d1-4ae4-8b99-008d7563f4dc",
   "metadata": {},
   "outputs": [],
   "source": [
    "import os\n",
    "filejoin = os.path.join(file1, *file2)"
   ]
  },
  {
   "cell_type": "code",
   "execution_count": 14,
   "id": "541e55c7-5aa1-4f70-9fc6-c9725580c4e2",
   "metadata": {},
   "outputs": [],
   "source": [
    "with open(\"C:\\\\Users\\\\koudaisei\\\\kawamura\\\\filejoin.txt\", \"w\") as f:\n",
    "    f.writelines(filejoin)"
   ]
  },
  {
   "cell_type": "markdown",
   "id": "fe0d52de-1e31-42d9-a239-0b2e9aa37352",
   "metadata": {
    "jp-MarkdownHeadingCollapsed": true,
    "tags": []
   },
   "source": [
    "### 6.ファイル暗号化のプログラムを書きなさい"
   ]
  },
  {
   "cell_type": "code",
   "execution_count": 35,
   "id": "c275c7c6-78ab-413b-ae16-8cd27187b964",
   "metadata": {},
   "outputs": [],
   "source": [
    "with open(\"data.txt\", \"r\", encoding=\"utf-8\") as f:\n",
    "    file = f.read()\n",
    "    asc = \"\"\n",
    "    for ch in file:\n",
    "        val = ord(ch)\n",
    "        newval = val + 16\n",
    "        asc += chr(newval)\n",
    "with open(\"C:\\\\Users\\\\koudaisei\\\\kawamura\\\\data_encrypted.txt\", \"w\", encoding=\"utf-8\") as f:\n",
    "    f.writelines(asc)"
   ]
  },
  {
   "cell_type": "markdown",
   "id": "6231da2c-f653-4cc3-bb10-21b617fee217",
   "metadata": {
    "jp-MarkdownHeadingCollapsed": true,
    "tags": []
   },
   "source": [
    "### 7. 上記の暗号化したファイルを読んで、元のデータにして、decrypted.txt 結果ファイルに保存して下さい"
   ]
  },
  {
   "cell_type": "code",
   "execution_count": 34,
   "id": "6912bbc2-92b0-45bd-9aa8-887acc59edb9",
   "metadata": {},
   "outputs": [],
   "source": [
    "with open(\"data_encrypted.txt\", \"r\", encoding=\"utf-8\") as f:\n",
    "    file = f.read()\n",
    "    asc = \"\"\n",
    "    for val in file:\n",
    "        val = ord(val)\n",
    "        newval = val - 16\n",
    "        asc += chr(newval)\n",
    "with open(\"C:\\\\Users\\\\koudaisei\\\\kawamura\\\\decrypted.txt\", \"w\", encoding=\"utf-8\") as f:\n",
    "    f.writelines(asc)"
   ]
  },
  {
   "cell_type": "markdown",
   "id": "9d12bc9e-ec46-44a3-96b3-1b995fe4841b",
   "metadata": {
    "jp-MarkdownHeadingCollapsed": true,
    "tags": []
   },
   "source": [
    "### ８．ファイルの各単語をreverseにして新しいファイルで保存して下さい"
   ]
  },
  {
   "cell_type": "code",
   "execution_count": 17,
   "id": "cc23a7ae-6ad6-473a-856d-5c6ae8ab3d04",
   "metadata": {},
   "outputs": [],
   "source": [
    "with open(\"normal.txt\", \"r\") as f:\n",
    "    file = f.read()\n",
    "    word = file.split()"
   ]
  },
  {
   "cell_type": "code",
   "execution_count": 18,
   "id": "b9fd63b1-0ede-4cc0-9901-216926b01469",
   "metadata": {},
   "outputs": [],
   "source": [
    "for each_word in word:\n",
    "    reverse_word = reversed(each_word)\n",
    "    with open(\"C:\\\\Users\\\\koudaisei\\\\kawamura\\\\reverse.txt\", \"a\") as f:\n",
    "        f.writelines(reverse_word)\n",
    "    i = \" \"\n",
    "    with open(\"C:\\\\Users\\\\koudaisei\\\\kawamura\\\\reverse.txt\", \"a\") as f:\n",
    "        f.writelines(i)"
   ]
  },
  {
   "cell_type": "markdown",
   "id": "6acd645c-6855-4401-a0ba-1cb1e0e18b04",
   "metadata": {
    "jp-MarkdownHeadingCollapsed": true,
    "tags": []
   },
   "source": [
    "### ９．大きいサイズのファイル（行数：役3000 行）をユーザが指摘する‘n’数の同じサイズのファイルで保存して下さい。"
   ]
  },
  {
   "cell_type": "code",
   "execution_count": 19,
   "id": "ba4ee42b-35eb-41aa-bd6e-47847e9a43bc",
   "metadata": {},
   "outputs": [],
   "source": [
    "with open(\"alice.txt\", \"r\") as f:\n",
    "    file = f.read()\n",
    "file = file.split(\"\\n\")\n",
    "\n",
    "n = 10\n",
    "each_file = len(file)/n\n",
    "if each_file % n == 0:\n",
    "    each_file = int(each_file)\n",
    "else:\n",
    "    each_file = int(each_file) + 1\n",
    "\n",
    "for i in range(n):\n",
    "    filename = \"alice\"+str(i+1)+\".txt\"\n",
    "    with open(filename, \"w\") as f:\n",
    "        for j in range(i*each_file, each_file*(i+1)):\n",
    "            if j == len(file):\n",
    "                break\n",
    "            else:\n",
    "                f.write(file[j])\n",
    "                f.write(\"\\n\")"
   ]
  },
  {
   "cell_type": "markdown",
   "id": "01dc9cd0-1d26-44fc-ab63-bcb1a35a6868",
   "metadata": {
    "jp-MarkdownHeadingCollapsed": true,
    "tags": []
   },
   "source": [
    "### 10.上記の alice1.txt, alice2.txt, …, alice10.txt を join して、alice_joined.txt ファイルを作成しなさい"
   ]
  },
  {
   "cell_type": "code",
   "execution_count": 20,
   "id": "efa4aafe-683c-4e82-9d94-82983ebcb96c",
   "metadata": {},
   "outputs": [],
   "source": [
    "n = 10\n",
    "for i in range(n):\n",
    "    filename = \"alice\"+str(i+1)+\".txt\"\n",
    "    with open(filename, \"r\") as f:\n",
    "        join = f.read()\n",
    "        with open(\"alice_joined.txt\", \"a\") as f:\n",
    "            f.write(join)\n",
    "            f.write(\"\\n\")"
   ]
  },
  {
   "cell_type": "code",
   "execution_count": null,
   "id": "bfce347f-1c3d-4e48-a91c-07588891761c",
   "metadata": {},
   "outputs": [],
   "source": []
  }
 ],
 "metadata": {
  "kernelspec": {
   "display_name": "Python 3",
   "language": "python",
   "name": "python3"
  },
  "language_info": {
   "codemirror_mode": {
    "name": "ipython",
    "version": 3
   },
   "file_extension": ".py",
   "mimetype": "text/x-python",
   "name": "python",
   "nbconvert_exporter": "python",
   "pygments_lexer": "ipython3",
   "version": "3.6.13"
  }
 },
 "nbformat": 4,
 "nbformat_minor": 5
}
