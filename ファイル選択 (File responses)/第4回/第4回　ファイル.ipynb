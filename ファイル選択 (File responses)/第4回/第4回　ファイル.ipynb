{
 "cells": [
  {
   "cell_type": "markdown",
   "id": "3ccb0c37-e225-45af-8d17-a3d95120f7df",
   "metadata": {},
   "source": [
    "# 1"
   ]
  },
  {
   "cell_type": "code",
   "execution_count": null,
   "id": "28d8ed3d-2a89-402b-84b0-71019bce44ba",
   "metadata": {},
   "outputs": [],
   "source": [
    "name = \"python\""
   ]
  },
  {
   "cell_type": "code",
   "execution_count": null,
   "id": "6b013341-9655-42bf-8029-2d8ace630e0e",
   "metadata": {},
   "outputs": [],
   "source": [
    "with open(\"filename.py\", \"w\") as f:\n",
    "    f.write(name)"
   ]
  },
  {
   "cell_type": "code",
   "execution_count": null,
   "id": "1ebd91e8-cadc-4fa4-a384-2a91edcceaf0",
   "metadata": {},
   "outputs": [],
   "source": [
    "with open(\"filename.py\", \"r\") as f:\n",
    "    fi = f.read()\n",
    "with open(\"filename_copy.py\", \"w\") as f:\n",
    "    f.write(fi)"
   ]
  },
  {
   "cell_type": "markdown",
   "id": "3ec12818-64f4-4a45-b87c-05a83bdba0af",
   "metadata": {},
   "source": [
    "# 2"
   ]
  },
  {
   "cell_type": "code",
   "execution_count": 5,
   "id": "777b7311-8c11-4d92-aa92-daca8f8442fd",
   "metadata": {},
   "outputs": [
    {
     "name": "stdout",
     "output_type": "stream",
     "text": [
      "Naruto :8.8\n",
      "\n",
      "Sasuke :91.2\n",
      "\n",
      "Orochimaru :99.4\n",
      "\n",
      "Jiraiya:34.0\n",
      "\n",
      "Gai:90.0\n",
      "\n"
     ]
    }
   ],
   "source": [
    "with open(\"marks.txt\", \"r\") as f:\n",
    "    text = f.read()\n",
    "    \n",
    "#print(text)\n",
    "lines = text.split(\"\\n\")\n",
    "\n",
    "for each_line in lines:\n",
    "    #print(each_line)\n",
    "    name_marks = each_line.split(\":\")\n",
    "    #print(name_marks[0], \"---------------->\", name_marks[1])\n",
    "    #print(type(name_marks[1]))\n",
    "    marks = name_marks[1].split(\",\")\n",
    "    total = 0.0\n",
    "    ave = 0.0\n",
    "    for each_mark in marks:\n",
    "        #print(type(each_mark))\n",
    "        each_mark_float = float(each_mark)\n",
    "        total += each_mark_float\n",
    "        #rint(each_mark_float)\n",
    "        #print(type(each_mark_float))\n",
    "    ave = (total/len(marks))\n",
    "    ave_s = name_marks[0]+':'+str(ave)\n",
    "    result = \"\"\n",
    "    result += ave_s  + \"\\n\"    \n",
    "    print(result)\n",
    "    mydict = {name_marks[0] : str(ave)}\n",
    "    #print(mydict)\n",
    "    with open(\"average.txt\",\"a\") as f:\n",
    "        f.write(result)\n",
    "    \n",
    "\n",
    "    "
   ]
  },
  {
   "cell_type": "markdown",
   "id": "7cf73a79-03d3-45cc-9b5c-ee693b048143",
   "metadata": {
    "tags": []
   },
   "source": [
    "# 3 "
   ]
  },
  {
   "cell_type": "code",
   "execution_count": 6,
   "id": "6c585c3d-1d5b-4247-aa8b-a6da89062cb2",
   "metadata": {},
   "outputs": [],
   "source": [
    "poem = \"without haste but without rest\""
   ]
  },
  {
   "cell_type": "code",
   "execution_count": 7,
   "id": "8e1fabd0-9add-4dff-9e16-6083bcd8b0b0",
   "metadata": {},
   "outputs": [],
   "source": [
    "with open(\"poem.txt\", \"w\") as f:\n",
    "    f.write(poem)"
   ]
  },
  {
   "cell_type": "code",
   "execution_count": 8,
   "id": "3257ca0d-6b13-486a-a87d-0303cdb32add",
   "metadata": {},
   "outputs": [],
   "source": [
    "with open(\"poem.txt\", \"r\") as f:\n",
    "    po = f.read()\n",
    "    #print(po)\n",
    "\n",
    "po_up = po.upper()\n",
    "#print(po_up)\n",
    "with open(\"poem_caps.txt\", \"w\") as f:\n",
    "    f.write(po_up)"
   ]
  },
  {
   "cell_type": "markdown",
   "id": "efc83565-f751-41dc-a545-3ee6ff898b9f",
   "metadata": {},
   "source": [
    "# 4"
   ]
  },
  {
   "cell_type": "code",
   "execution_count": 9,
   "id": "7d31bd88-46e8-468f-a40b-d36f703b2f61",
   "metadata": {},
   "outputs": [
    {
     "ename": "ValueError",
     "evalue": "could not convert string to float: '90.0Naruto '",
     "output_type": "error",
     "traceback": [
      "\u001b[1;31m---------------------------------------------------------------------------\u001b[0m",
      "\u001b[1;31mValueError\u001b[0m                                Traceback (most recent call last)",
      "\u001b[1;32m<ipython-input-9-cc9c92adb3fd>\u001b[0m in \u001b[0;36m<module>\u001b[1;34m\u001b[0m\n\u001b[0;32m      8\u001b[0m     \u001b[1;31m#print(each_line)\u001b[0m\u001b[1;33m\u001b[0m\u001b[1;33m\u001b[0m\u001b[1;33m\u001b[0m\u001b[0m\n\u001b[0;32m      9\u001b[0m     \u001b[0mname_marks\u001b[0m \u001b[1;33m=\u001b[0m \u001b[0mlines\u001b[0m\u001b[1;33m[\u001b[0m\u001b[0mi\u001b[0m\u001b[1;33m]\u001b[0m\u001b[1;33m.\u001b[0m\u001b[0msplit\u001b[0m\u001b[1;33m(\u001b[0m\u001b[1;34m\":\"\u001b[0m\u001b[1;33m)\u001b[0m\u001b[1;33m\u001b[0m\u001b[1;33m\u001b[0m\u001b[0m\n\u001b[1;32m---> 10\u001b[1;33m     \u001b[0mtensu_marks\u001b[0m\u001b[1;33m=\u001b[0m\u001b[0mfloat\u001b[0m\u001b[1;33m(\u001b[0m\u001b[0mname_marks\u001b[0m\u001b[1;33m[\u001b[0m\u001b[1;36m1\u001b[0m\u001b[1;33m]\u001b[0m\u001b[1;33m)\u001b[0m\u001b[1;33m\u001b[0m\u001b[1;33m\u001b[0m\u001b[0m\n\u001b[0m\u001b[0;32m     11\u001b[0m \u001b[1;33m\u001b[0m\u001b[0m\n\u001b[0;32m     12\u001b[0m \u001b[1;33m\u001b[0m\u001b[0m\n",
      "\u001b[1;31mValueError\u001b[0m: could not convert string to float: '90.0Naruto '"
     ]
    }
   ],
   "source": [
    "with open(\"average.txt\",\"r\") as f:\n",
    "    ave = f.read()\n",
    "#print(ave)\n",
    "lines = ave.split(\"\\n\")\n",
    "#{print(lines)\n",
    "marks_list = []\n",
    "for i in range(len(lines)):\n",
    "    #print(each_line)\n",
    "    name_marks = lines[i].split(\":\")\n",
    "    tensu_marks=float(name_marks[1])\n",
    "    \n",
    "    \n",
    "    #print(tensu_marks)    \n",
    "    #print(type(name_marks[1]))\n",
    "    \n",
    "   \n",
    "    #print(len(lines))\n",
    "    #for i in range(len(tensu_marks)):\n",
    "    marks_list.append(tensu_marks)\n",
    "#print(marks_list)\n",
    "        \n",
    "newlist = sorted(marks_list, reverse=True)\n",
    "#print(newlist)\n",
    "\n",
    "newlist_s = \"\"\n",
    "str_marks = \"\"\n",
    "name_result = \"\"\n",
    "i = 0\n",
    "for i in newlist:\n",
    "    str_marks = str(i)\n",
    "    result = ':'+str_marks +\"\\n\"\n",
    "    name_result += name_marks[0] + result  \n",
    "print(name_result)\n",
    "\n",
    "\n",
    "\n",
    "        \n",
    "    "
   ]
  },
  {
   "cell_type": "code",
   "execution_count": null,
   "id": "e1d958d4-19ce-4f09-b639-ebf3cb0e1d03",
   "metadata": {},
   "outputs": [],
   "source": []
  },
  {
   "cell_type": "markdown",
   "id": "92ef35d6-b88a-482a-b696-80840a58256a",
   "metadata": {},
   "source": [
    "# 5"
   ]
  },
  {
   "cell_type": "code",
   "execution_count": 3,
   "id": "2ca65dea-1406-4254-a578-3185a51d1972",
   "metadata": {},
   "outputs": [],
   "source": [
    "name1 = \"apple\"\n",
    "name2 = \"pen\""
   ]
  },
  {
   "cell_type": "code",
   "execution_count": 4,
   "id": "d5dfdbec-3c26-4eff-bf54-0645c33c1a8c",
   "metadata": {},
   "outputs": [],
   "source": [
    "with open(\"file1.txt\", \"w\") as f:\n",
    "    f.write(name1)\n",
    "with open(\"file2.txt\", \"w\") as f:\n",
    "    f.write(name2)\n",
    "\n",
    "with open(\"file1.txt\", \"r\") as f:\n",
    "    fi1 = f.read()\n",
    "with open(\"file2.txt\", \"r\") as f:\n",
    "    fi2 = f.read()\n",
    "fi3 = fi1.join(fi2)\n",
    "fi3_s = str(fi3)\n",
    "with open(\"filejoin.txt\", \"w\") as f:\n",
    "    f.write(fi3_s)"
   ]
  },
  {
   "cell_type": "markdown",
   "id": "024f327f-f565-4c12-992e-5ef39c2d081c",
   "metadata": {},
   "source": [
    "# 6"
   ]
  },
  {
   "cell_type": "code",
   "execution_count": 6,
   "id": "b8fd8b13-e6c3-4606-8e87-5279bec41711",
   "metadata": {},
   "outputs": [],
   "source": [
    "name = \"blueredgreenyellow\""
   ]
  },
  {
   "cell_type": "code",
   "execution_count": 7,
   "id": "f89e3c1d-4f56-4fb3-aace-d14b1d879952",
   "metadata": {},
   "outputs": [
    {
     "name": "stdout",
     "output_type": "stream",
     "text": [
      "blueredgreenyellow\n"
     ]
    }
   ],
   "source": [
    "with open(\"data.txt\", \"w\") as f:\n",
    "    f.write(name)\n",
    "\n",
    "with open(\"data.txt\", \"r\") as f:\n",
    "    na = f.read()\n",
    "    print(na)\n",
    "i = 0\n",
    "asc = \"\"\n",
    "for i in na:\n",
    "    ord_na = \"\"\n",
    "    ord_na += str(ord(i)) + \" \"\n",
    "    asc += str(ord_na)    \n",
    "\n",
    "with open(\"data_encrypted.txt\",\"w\") as f:\n",
    "    f.write(asc)    "
   ]
  },
  {
   "cell_type": "markdown",
   "id": "f45368ed-d959-44f7-bc24-10a45d09c9d8",
   "metadata": {},
   "source": [
    "# 7"
   ]
  },
  {
   "cell_type": "code",
   "execution_count": null,
   "id": "1e82f573-6b06-4a1a-99de-cc8263be28c8",
   "metadata": {},
   "outputs": [],
   "source": []
  },
  {
   "cell_type": "code",
   "execution_count": 8,
   "id": "e35372d5-8c78-40c2-8ffa-daf55e2d16b3",
   "metadata": {},
   "outputs": [],
   "source": [
    "with open(\"data_encrypted.txt\",\"r\") as f:\n",
    "    en = f.read()\n",
    "    #print(en)\n",
    "\n",
    "en_list = en.split()\n",
    "#print(en_list)\n",
    "for i in range(len(en_list)):\n",
    "    en_list[i] = int(en_list[i])\n",
    "#print(en_list)\n",
    "\n",
    "i = 0\n",
    "moji = \"\"\n",
    "for i in en_list:\n",
    "    chr_en = \"\"\n",
    "    chr_en += chr(i)\n",
    "    moji += str(chr_en)\n",
    "    \n",
    "with open(\"decrypted.txt\",\"w\") as f:\n",
    "    f.write(moji)"
   ]
  },
  {
   "cell_type": "markdown",
   "id": "8a2d7ffb-235b-4861-8f1f-f2190d25604d",
   "metadata": {},
   "source": [
    "# 8"
   ]
  },
  {
   "cell_type": "code",
   "execution_count": 9,
   "id": "5b4a298e-464f-47a8-9b70-1a1f0a63f996",
   "metadata": {},
   "outputs": [],
   "source": [
    "name = \"Hokkaido Tokyo Akita Miyagi Osaka Nigata Fukusima Kanagawa Saitama Okinawa\""
   ]
  },
  {
   "cell_type": "code",
   "execution_count": 10,
   "id": "1cbfaf90-1a9c-4568-b231-587b266dbb99",
   "metadata": {},
   "outputs": [
    {
     "name": "stdout",
     "output_type": "stream",
     "text": [
      "Hokkaido Tokyo Akita Miyagi Osaka Nigata Fukusima Kanagawa Saitama Okinawa\n",
      "<class 'str'>\n",
      "['Hokkaido', 'Tokyo', 'Akita', 'Miyagi', 'Osaka', 'Nigata', 'Fukusima', 'Kanagawa', 'Saitama', 'Okinawa']\n",
      " odiakkoH oykoT atikA igayiM akasO atagiN amisukuF awaganaK amatiaS awanikO \n"
     ]
    }
   ],
   "source": [
    "with open(\"normal.txt\",\"w\") as f:\n",
    "    f.write(name)\n",
    "\n",
    "with open(\"normal.txt\",\"r\") as f:\n",
    "    ja = f.read()\n",
    "    print(ja)\n",
    "    print(type(ja))\n",
    "ja_s = ja.split(\" \")\n",
    "print(ja_s)\n",
    "#re = 0\n",
    "#reverse = 0\n",
    "s = \" \"\n",
    "for re in ja_s:\n",
    "    reverse = re[::-1]\n",
    "    #reverse_s = str(reverse)\n",
    "    #reverse_re = reverse_re + reverse_s \n",
    "    #print(reverse)\n",
    "    s += reverse +\" \"\n",
    "print(s)\n",
    "\n",
    "with open(\"reverse.txt\", \"w\") as f:\n",
    "    f.write(s)\n",
    "    "
   ]
  },
  {
   "cell_type": "code",
   "execution_count": null,
   "id": "f22098d4-d052-4445-a31e-a0005641f559",
   "metadata": {},
   "outputs": [],
   "source": [
    "a = '8.8'\n",
    "float(a)"
   ]
  },
  {
   "cell_type": "markdown",
   "id": "f7df43b1-e7f2-4080-8f59-e287a357c389",
   "metadata": {},
   "source": [
    "# 9"
   ]
  },
  {
   "cell_type": "code",
   "execution_count": 7,
   "id": "516e8e4c-2781-401e-95ed-30ad170a1192",
   "metadata": {},
   "outputs": [],
   "source": [
    "with open(\"alice.txt\",\"r\") as f:\n",
    "    line = f.read().splitlines()\n",
    "file_save = line[0:360]\n",
    "#print(file_save)\n",
    "file_save_n = \"\\n\".join(file_save)\n",
    "with open(\"alice20.txt\",\"w\") as f:\n",
    "    f.write(file_save_n)"
   ]
  },
  {
   "cell_type": "code",
   "execution_count": 21,
   "id": "94acc403-0841-439f-a153-33577a5dbe71",
   "metadata": {},
   "outputs": [
    {
     "name": "stdout",
     "output_type": "stream",
     "text": [
      " 10\n"
     ]
    }
   ],
   "source": [
    "n = int(input(\"\"))\n",
    "with open(\"alice.txt\",\"r\") as f:\n",
    "    line = f.read().splitlines()\n",
    "split_line = 0\n",
    "amari_line = 0\n",
    "split_line = len(line) // n\n",
    "amari_line = len(line)\n",
    "file_save1 = 0\n",
    "file_save2 = 0\n",
    "filename = 0\n",
    "i = 0\n",
    "for i in range(0,n):\n",
    "    filename = \"alice\"+str(i+1)+\".txt\"\n",
    "    if i <= n-2:\n",
    "        file_save1 = line[(i * split_line):((i+1) * split_line)]\n",
    "        file_save_n1 = \"\\n\".join(file_save1)\n",
    "        with open(filename,\"w\") as f:\n",
    "            f.write(file_save_n1)\n",
    "    elif i == n-1:\n",
    "        file_save2 = line[(i * split_line):(amari_line)]\n",
    "        file_save_n2 = \"\\n\".join(file_save2)\n",
    "        with open(filename,\"w\") as f:\n",
    "            f.write(file_save_n2)"
   ]
  },
  {
   "cell_type": "markdown",
   "id": "a4f9d06a-7149-4e3a-983a-5d7b91ded873",
   "metadata": {},
   "source": [
    "# 10"
   ]
  },
  {
   "cell_type": "code",
   "execution_count": 26,
   "id": "2f4fbc8c-f3c3-4ec7-944d-07694c963a8c",
   "metadata": {},
   "outputs": [
    {
     "name": "stdout",
     "output_type": "stream",
     "text": [
      " 10\n"
     ]
    }
   ],
   "source": [
    "\n",
    "n = int(input(\"\"))\n",
    "split = \"\"\n",
    "allsplit =\"\"\n",
    "filename = \"\"\n",
    "i = 0\n",
    "for i in range(0,n):\n",
    "    filename = \"alice\"+str(i+1)+\".txt\"\n",
    "    with open(filename,\"r\") as f:\n",
    "        split = f.read()\n",
    "        #print(split)\n",
    "        i += 1 \n",
    "allsplit = split\n",
    "with open(\"alice_joined.txt\",\"w\") as f:\n",
    "    f.write(allsplit)\n",
    "\n",
    "    \n",
    "\n",
    "        \n",
    "        "
   ]
  },
  {
   "cell_type": "code",
   "execution_count": null,
   "id": "077f111e-962e-4889-868d-3913139cc5f6",
   "metadata": {},
   "outputs": [],
   "source": []
  }
 ],
 "metadata": {
  "kernelspec": {
   "display_name": "Python 3",
   "language": "python",
   "name": "python3"
  },
  "language_info": {
   "codemirror_mode": {
    "name": "ipython",
    "version": 3
   },
   "file_extension": ".py",
   "mimetype": "text/x-python",
   "name": "python",
   "nbconvert_exporter": "python",
   "pygments_lexer": "ipython3",
   "version": "3.9.7"
  }
 },
 "nbformat": 4,
 "nbformat_minor": 5
}
