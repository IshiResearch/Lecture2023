{
 "cells": [
  {
   "cell_type": "markdown",
   "id": "731cdc97-5a72-4ff5-a502-a94fa6e820d8",
   "metadata": {},
   "source": [
    "# 課題"
   ]
  },
  {
   "cell_type": "markdown",
   "id": "074a941e-ec26-419f-8cab-bf74b028cea2",
   "metadata": {},
   "source": [
    "## 1-ファイルをコピーして同じものを作って保存"
   ]
  },
  {
   "cell_type": "code",
   "execution_count": 39,
   "id": "fad4fde8-8550-4290-959f-fa98a56235d2",
   "metadata": {
    "tags": []
   },
   "outputs": [],
   "source": [
    "append_list = []\n",
    "with open(\"0421\\\\filename.ipynb\", mode = \"r\") as f:\n",
    "    copy = f.read()\n",
    "    append_list.append(copy)\n",
    "with open(\"0421\\\\filename_copy.ipynb\", \"w\") as f_copy:\n",
    "    f_copy.writelines(\"\".join(map(str, append_list)))"
   ]
  },
  {
   "cell_type": "code",
   "execution_count": 40,
   "id": "3d43ed63-7ba7-403d-82b6-f91dd1868381",
   "metadata": {
    "tags": []
   },
   "outputs": [],
   "source": [
    "append_list = []\n",
    "with open(\"0421\\\\names.txt\", mode = \"r\") as f:\n",
    "    copy = f.read()\n",
    "    append_list.append(copy)\n",
    "with open(\"0421\\\\names_copy.txt\", \"w\") as f_copy:\n",
    "    f_copy.writelines(\"\".join(map(str, append_list)))"
   ]
  },
  {
   "cell_type": "markdown",
   "id": "8af4543c-e359-4886-9955-6ae0264defa6",
   "metadata": {},
   "source": [
    "## 2-marks.txt を作成し、全員の平均点を計算して average.txt に出力して保存"
   ]
  },
  {
   "cell_type": "code",
   "execution_count": 41,
   "id": "0d222549-fc89-4d6d-a69a-d7d91a7d0dc7",
   "metadata": {
    "tags": []
   },
   "outputs": [],
   "source": [
    "import re\n",
    "\n",
    "append_list = []\n",
    "ave_list = []\n",
    "total = 0\n",
    "num = 0\n",
    "with open(\"0421\\\\marks.txt\", mode = \"r\") as mark:\n",
    "    for line in mark:\n",
    "        append_list.append(re.split(\" |,\", line)) #名前と点数を分ける\n",
    "    #print(append_list)\n",
    "    for i in range(0, 5):\n",
    "        total = 0\n",
    "        for j in range(1, 6):\n",
    "            total += int(append_list[i][j])\n",
    "        #print(total)\n",
    "        ave_list.append(append_list[i][0])\n",
    "        ave_list.append(total / 5)\n",
    "        ave_list.append(\"\\n\")\n",
    "        \n",
    "with open(\"0421\\\\average.txt\", \"w\") as ave:\n",
    "    ave.writelines(\"\".join(map(str, ave_list)))"
   ]
  },
  {
   "cell_type": "markdown",
   "id": "89b87494-f2ae-41d9-b1ec-6f58e8d2cbaa",
   "metadata": {},
   "source": [
    "## 3-すべて小文字の英語の詩を大文字に変える"
   ]
  },
  {
   "cell_type": "code",
   "execution_count": 43,
   "id": "bb5fb39a-6ce3-4b37-be0a-317720ab2cb4",
   "metadata": {},
   "outputs": [],
   "source": [
    "caps_list = []\n",
    "with open(\"0421\\\\poem.txt\", mode = \"r\") as f:\n",
    "    line = f.read()\n",
    "    caps_list.append(str.upper(line)) #大文字に変換。小文字に変換するときはstr.lower()\n",
    "with open(\"0421\\\\poem_caps.txt\", mode = \"w\") as f_caps:\n",
    "    f_caps.write(\"\".join(map(str, caps_list)))"
   ]
  },
  {
   "cell_type": "markdown",
   "id": "c96fa756-dec2-442b-81fa-5ea9e412de4c",
   "metadata": {},
   "source": [
    "## 4-問題２で出した結果を平均点の高い順番で並べ替える"
   ]
  },
  {
   "cell_type": "code",
   "execution_count": 44,
   "id": "7b024c26-31c0-4698-b610-24aa35f49bc2",
   "metadata": {
    "tags": []
   },
   "outputs": [
    {
     "name": "stdout",
     "output_type": "stream",
     "text": [
      "[['Orochimaru', '99.4\\n'], ['Sasuke', '91.2\\n'], ['Gai', '90.0\\n'], ['Naruto', '8.8\\n'], ['Jiraiya', '34.0\\n']]\n"
     ]
    }
   ],
   "source": [
    "append_list = []\n",
    "with open(\"0421\\\\average.txt\", \"r\") as f:\n",
    "    for line in f:\n",
    "        append_list.append(line.split(\":\"))\n",
    "        sort_list = sorted(append_list, reverse=True, key=lambda x: x[1]) #1列目で並べ替える。※reverse=falseだと昇順になる\n",
    "    \n",
    "print(sort_list)"
   ]
  },
  {
   "cell_type": "markdown",
   "id": "13b3c108-d6d8-49cc-b73a-4ad1fd941cd2",
   "metadata": {},
   "source": [
    "## 5-二つのファイルをjoinするプログラムを書く"
   ]
  },
  {
   "cell_type": "code",
   "execution_count": 45,
   "id": "c43bda61-2b10-451e-bf4e-6877fd0381b5",
   "metadata": {
    "tags": []
   },
   "outputs": [],
   "source": [
    "append_list = []\n",
    "with open(\"0421\\\\file1.txt\", \"r\") as f1:\n",
    "    for line in f1:\n",
    "        append_list.append(line)\n",
    "with open(\"0421\\\\file2.txt\", \"r\") as f2:\n",
    "    for line in f2:\n",
    "        append_list.append(line)\n",
    "\n",
    "with open(\"0421\\\\filejoin.txt\", mode = \"w\") as f_join:\n",
    "    f_join.write(\"\".join(map(str, append_list)))"
   ]
  },
  {
   "cell_type": "markdown",
   "id": "c3c5fbce-6c26-4ad6-b1d8-af162bcfc988",
   "metadata": {},
   "source": [
    "## 6-ファイル暗号化のプログラムを書く"
   ]
  },
  {
   "cell_type": "code",
   "execution_count": 46,
   "id": "e66a622a-a843-4041-83e5-147fda9de2d1",
   "metadata": {},
   "outputs": [],
   "source": [
    "from cryptography.fernet import Fernet #調べるとライブラリが必要\n",
    "\n",
    "key = Fernet.generate_key()                                              #ここから\n",
    "with open(\"0421\\\\mykey.key\", \"wb\") as mykey:\n",
    "    mykey.write(key)\n",
    "with open(\"0421\\\\mykey.key\", \"rb\") as mykey:\n",
    "    key = mykey.read()                                                   #ここまで暗号化キーの作成と保存\n",
    "\n",
    "f = Fernet(key)\n",
    "\n",
    "with open(\"0421\\\\data.txt\", \"rb\") as origin_f:\n",
    "    original = origin_f.read()\n",
    "    \n",
    "encrypted = f.encrypt(original) #originalを読み取り暗号化\n",
    "\n",
    "with open(\"0421\\\\data_encrypted.txt\", \"wb\") as encrypted_f:\n",
    "    encrypted_f.write(encrypted) #暗号化したものを書き込む"
   ]
  },
  {
   "cell_type": "markdown",
   "id": "f1740eb7-9aa4-4177-9f93-16607684ba93",
   "metadata": {},
   "source": [
    "## 7-上の暗号化したファイルを読んで、元のデータにして保存する"
   ]
  },
  {
   "cell_type": "code",
   "execution_count": 47,
   "id": "82a57d29-9c25-4155-b9e6-8b8a99329750",
   "metadata": {
    "tags": []
   },
   "outputs": [],
   "source": [
    "f = Fernet(key)\n",
    "\n",
    "with open(\"0421\\\\data_encrypted.txt\", \"rb\") as encrypted_f:\n",
    "    encrypted = encrypted_f.read()\n",
    "    \n",
    "decrypted = f.decrypt(encrypted) #encryptedを読み取り復号化\n",
    "\n",
    "with open(\"0421\\\\decrypted.txt\", \"wb\") as decrypted_f:\n",
    "    decrypted_f.write(decrypted)\n",
    "    \n",
    "#https://hashdork.com/ja/file-encryption-decryption-using-python/"
   ]
  },
  {
   "cell_type": "markdown",
   "id": "0206ffe8-9b32-49bb-8347-3bb639182a7b",
   "metadata": {},
   "source": [
    "## 8-ファイルの各単語をreverseにして新しいファイルで保存する"
   ]
  },
  {
   "cell_type": "code",
   "execution_count": 48,
   "id": "1f4d82ae-41e2-43d3-a964-bff3ea83db3a",
   "metadata": {
    "tags": []
   },
   "outputs": [],
   "source": [
    "ori_list = []\n",
    "rev_list = []\n",
    "with open(\"0421\\\\normal.txt\", \"r\") as f:\n",
    "    for line in f:\n",
    "        ori_list.append(line.split(\" \"))\n",
    "for i in range(len(ori_list)):\n",
    "    for j in range(len(ori_list[i])):\n",
    "        rev_list.append(ori_list[i][j][::-1]) #逆順で追加\n",
    "#print(rev_list)\n",
    "with open(\"0421\\\\reverse.txt\", \"w\") as rev_f:\n",
    "    rev_f.writelines(rev_list)"
   ]
  },
  {
   "cell_type": "markdown",
   "id": "2359a3dd-a9b8-470b-b248-443fadad4587",
   "metadata": {},
   "source": [
    "## 9-大きいサイズのファイルをユーザが指摘する数の同じサイズのファイルで保存する"
   ]
  },
  {
   "cell_type": "code",
   "execution_count": 49,
   "id": "26bc7a3c-9ec3-4b52-bde1-c5a7da79b098",
   "metadata": {},
   "outputs": [
    {
     "name": "stdin",
     "output_type": "stream",
     "text": [
      "何個のファイルにしますか？ 10\n"
     ]
    }
   ],
   "source": [
    "n = int(input(\"何個のファイルにしますか？\"))\n",
    "append_list = []\n",
    "\n",
    "with open(\"0421\\\\alice.txt\", \"r\") as original_f:\n",
    "    for line in original_f:\n",
    "        append_list.append(line)\n",
    "\n",
    "for i in range(0, n):\n",
    "    for j in range(((3610 // n) * i) + 1, ((3610 // n) * (i + 1))): # 1/nずつ見る\n",
    "        with open(\"0421\\\\alice\"+ str(int(i + 1)) +\".txt\", \"a\") as new_f:\n",
    "            new_f.writelines(append_list[j])"
   ]
  },
  {
   "cell_type": "markdown",
   "id": "bf5f8d78-f74a-4cf9-a3f9-2f1037501b64",
   "metadata": {},
   "source": [
    "## 10-上のテキストファイルをjoinする"
   ]
  },
  {
   "cell_type": "code",
   "execution_count": 50,
   "id": "97f037e4-f178-42af-af1b-9c127771c436",
   "metadata": {
    "tags": []
   },
   "outputs": [],
   "source": [
    "join_list = []\n",
    "for i in range(1, n + 1):\n",
    "    with open(\"0421\\\\alice\"+ str(i) +\".txt\", \"r\") as before_f:\n",
    "        for line in before_f:\n",
    "            join_list.append(line)\n",
    "            \n",
    "with open(\"0421\\\\alice_join.txt\", mode = \"w\") as join_f:\n",
    "    join_f.write(\"\".join(map(str, join_list)))"
   ]
  },
  {
   "cell_type": "markdown",
   "id": "4fd13f1d-b84e-4e15-ad80-71f6381336df",
   "metadata": {},
   "source": [
    "## 11-alice1の単語を出る回数で並べ替える(追加課題)"
   ]
  },
  {
   "cell_type": "code",
   "execution_count": 51,
   "id": "85bf5f1b-7540-49af-8f22-f2ad23dd003d",
   "metadata": {
    "tags": []
   },
   "outputs": [],
   "source": [
    "ori_list = []\n",
    "with open(\"0421\\\\alice1.txt\", \"r\") as f:\n",
    "    for line in f:\n",
    "        ori_list.append(line) #alice1をリストにする\n",
    "        \n",
    "append_list = []\n",
    "for i in ori_list:\n",
    "    append_list.append(i.split()) #スペースで区切る\n",
    "    \n",
    "sort_list = []\n",
    "for i in range(len(append_list)):\n",
    "    for j in range(len(append_list[i])):\n",
    "        sort_list.append(append_list[i][j])\n",
    "sort_list = sorted(sort_list) #アルファベット順に並べ替える\n",
    "\n",
    "same_count = 1\n",
    "count_list = []\n",
    "row = 0\n",
    "for i in range(len(sort_list)):\n",
    "    if i == 0:\n",
    "        prev_word = sort_list[i] #1個前の要素を宣言\n",
    "        continue\n",
    "        \n",
    "    if str(sort_list[i]) == str(prev_word):\n",
    "        same_count += 1 #同じ回数をカウント\n",
    "    else: #1個前の要素と違ったら\n",
    "        count_list.append([sort_list[i - 1], same_count]) #出てくる回数と一緒にリストに追加\n",
    "        same_count = 1\n",
    "        prev_word = sort_list[i] #1個前の要素を更新\n",
    "        row += 1\n",
    "        \n",
    "sorted_list = sorted(count_list, reverse=True, key=lambda x: x[1]) #1列の回数で並べ替える\n",
    "\n",
    "with open(\"0421\\\\alice1_sort.txt\", \"w\") as sort_f:\n",
    "    sort_f.write(\"\".join(map(str, sorted_list)))"
   ]
  },
  {
   "cell_type": "markdown",
   "id": "7728413e-cb78-43d3-8aae-bf3d0c69d7db",
   "metadata": {},
   "source": [
    "### sortしないで並べ替える"
   ]
  },
  {
   "cell_type": "code",
   "execution_count": 52,
   "id": "d4a8a214-f8db-4b9f-8d5d-8ccbc2f2587a",
   "metadata": {
    "tags": []
   },
   "outputs": [],
   "source": [
    "import collections\n",
    "\n",
    "ori_list = []\n",
    "with open(\"0421\\\\alice1.txt\", \"r\") as f:\n",
    "    for line in f:\n",
    "        ori_list.append(line) #alice1をリストにする\n",
    "        \n",
    "append_list = []\n",
    "for i in ori_list:\n",
    "    append_list.append(i.split()) #スペースで区切る\n",
    "    \n",
    "sort_list = []\n",
    "for i in range(len(append_list)):\n",
    "    for j in range(len(append_list[i])): #append_listの全ての要素で繰り返す\n",
    "        sort_list.append(append_list[i][j])\n",
    "        \n",
    "count = collections.Counter(sort_list) #append_listだとerrorになる\n",
    "\n",
    "with open(\"0421\\\\alice1_sort_simple.txt\", \"w\") as sort_f:\n",
    "    sort_f.writelines(\" \".join(str(k)+\",\"+str(v) for k,v in count.items())) #dictの書き込み"
   ]
  },
  {
   "cell_type": "code",
   "execution_count": null,
   "id": "63a9bd01-f0e6-4d5b-b46f-775e3887e6ea",
   "metadata": {},
   "outputs": [],
   "source": []
  }
 ],
 "metadata": {
  "kernelspec": {
   "display_name": "Python 3 (ipykernel)",
   "language": "python",
   "name": "python3"
  },
  "language_info": {
   "codemirror_mode": {
    "name": "ipython",
    "version": 3
   },
   "file_extension": ".py",
   "mimetype": "text/x-python",
   "name": "python",
   "nbconvert_exporter": "python",
   "pygments_lexer": "ipython3",
   "version": "3.8.16"
  }
 },
 "nbformat": 4,
 "nbformat_minor": 5
}
