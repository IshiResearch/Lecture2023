{
 "cells": [
  {
   "cell_type": "code",
   "execution_count": 1,
   "id": "7a31af7c-7ba7-4eaf-ae1e-702a61ce9d83",
   "metadata": {
    "tags": []
   },
   "outputs": [
    {
     "data": {
      "text/plain": [
       "'C:\\\\Users\\\\Shimo_Y_15\\\\Desktop\\\\ensyuu-lab\\\\0421'"
      ]
     },
     "execution_count": 1,
     "metadata": {},
     "output_type": "execute_result"
    }
   ],
   "source": [
    "pwd"
   ]
  },
  {
   "cell_type": "markdown",
   "id": "4c9d0c5a-47a5-4b5f-bf7f-d553eb3670e5",
   "metadata": {},
   "source": [
    "## 1.ファイルをコピーして同じものを作成して保存"
   ]
  },
  {
   "cell_type": "code",
   "execution_count": 3,
   "id": "7df3cd57-a026-4255-bab5-bb97b8e38ec5",
   "metadata": {
    "tags": []
   },
   "outputs": [],
   "source": [
    "import shutil\n",
    "\n",
    "file_name = \"C:\\\\Users\\\\Shimo_Y_15\\\\Desktop\\\\ensyuu-lab\\\\0421\"+\"\\\\filename\"\n",
    "with open (file_name+\".py\", mode = \"w\") as f:\n",
    "    pass\n",
    "file_copy = shutil.copy(file_name+\".py\", file_name+\"_copy.py\")\n",
    "\n",
    "text_name = \"C:\\\\Users\\\\Shimo_Y_15\\\\Desktop\\\\ensyuu-lab\\\\0421\"+\"\\\\names\"\n",
    "with open (text_name + \".txt\",mode = \"w\") as f:\n",
    "    pass\n",
    "text_copy = shutil.copy(text_name+\".txt\", text_name+\"_copy.txt\")\n"
   ]
  },
  {
   "cell_type": "markdown",
   "id": "22461ddf-7295-480d-9382-00e25b021286",
   "metadata": {},
   "source": [
    "## 2.marks.txtを作成し、平均値を計算してaverage.txtに出力して保存"
   ]
  },
  {
   "cell_type": "code",
   "execution_count": 66,
   "id": "e318c28f-3cf5-4a91-8737-685723ccb591",
   "metadata": {},
   "outputs": [
    {
     "name": "stdout",
     "output_type": "stream",
     "text": [
      "['Naruto:20,9,5,1,9\\n', 'Sasuke:90,98,87,88,93\\n', 'Orochimaru:100,100,100,99,98\\n', 'Jiraiya:34,34,34,34,34\\n', 'Gai:90,90,90,90,90\\n']\n",
      "['Naruto', '20,9,5,1,9\\n']\n",
      "20,9,5,1,9\n",
      "\n",
      "10\n",
      "20\n",
      "29\n",
      "34\n",
      "35\n",
      "44\n",
      "8.8\n",
      "['Sasuke', '90,98,87,88,93\\n']\n",
      "90,98,87,88,93\n",
      "\n",
      "14\n",
      "90\n",
      "188\n",
      "275\n",
      "363\n",
      "456\n",
      "91.2\n",
      "['Orochimaru', '100,100,100,99,98\\n']\n",
      "100,100,100,99,98\n",
      "\n",
      "17\n",
      "100\n",
      "200\n",
      "300\n",
      "399\n",
      "497\n",
      "99.4\n",
      "['Jiraiya', '34,34,34,34,34\\n']\n",
      "34,34,34,34,34\n",
      "\n",
      "14\n",
      "34\n",
      "68\n",
      "102\n",
      "136\n",
      "170\n",
      "34.0\n",
      "['Gai', '90,90,90,90,90\\n']\n",
      "90,90,90,90,90\n",
      "\n",
      "14\n",
      "90\n",
      "180\n",
      "270\n",
      "360\n",
      "450\n",
      "90.0\n"
     ]
    }
   ],
   "source": [
    "marks = \"C:\\\\Users\\\\Shimo_Y_15\\\\Desktop\\\\ensyuu-lab\\\\0421\"+\"\\\\marks.txt\"\n",
    "with open (marks, mode = 'w') as f:\n",
    "    f.write('Naruto:20,9,5,1,9\\n')\n",
    "    f.write('Sasuke:90,98,87,88,93\\n')\n",
    "    f.write('Orochimaru:100,100,100,99,98\\n')\n",
    "    f.write('Jiraiya:34,34,34,34,34\\n')\n",
    "    f.write('Gai:90,90,90,90,90\\n')\n",
    "    \n",
    "ave_name = \"C:\\\\Users\\\\Shimo_Y_15\\\\Desktop\\\\ensyuu-lab\\\\0421\"+\"\\\\average.txt\"\n",
    "with open (marks, mode = 'r') as i:\n",
    "    yomi = i.readlines()\n",
    "    print(yomi)\n",
    "    with open (ave_name, mode = 'w') as j:\n",
    "        for line in range(1):\n",
    "            for k in range(5):\n",
    "                miru   = yomi[k]\n",
    "                goukei = 0\n",
    "                name   = miru.split(\":\")\n",
    "                print(name)\n",
    "                na = name[0]\n",
    "                mo = name[1]\n",
    "                print(mo)\n",
    "                mo = mo.strip()\n",
    "                print(len(mo))\n",
    "                j.write(na)\n",
    "                for l in range(5):\n",
    "                    bunkatu = mo.split(\",\")\n",
    "                    goukei  = goukei + int(bunkatu[l])\n",
    "                    print(goukei)\n",
    "                heikin = goukei/5\n",
    "                print(heikin)\n",
    "                j.write(\" \" + str(heikin) + \"\\n\")"
   ]
  },
  {
   "cell_type": "markdown",
   "id": "b2b8497e-bca7-4f35-b1b2-33288fc5c1c3",
   "metadata": {},
   "source": [
    "## 3.ポエムを大文字に変換する"
   ]
  },
  {
   "cell_type": "code",
   "execution_count": 68,
   "id": "cd5992aa-79d8-4d0e-82a9-93a047602c7d",
   "metadata": {
    "tags": []
   },
   "outputs": [],
   "source": [
    "poemu = \"C:\\\\Users\\\\Shimo_Y_15\\\\Desktop\\\\ensyuu-lab\\\\0421\\\\poem.txt\"\n",
    "with open(poemu, mode = \"w\") as f:\n",
    "    f.write(\"There is more to life than increasing its speed\")\n",
    "\n",
    "caps = \"C:\\\\Users\\\\Shimo_Y_15\\\\Desktop\\\\ensyuu-lab\\\\0421\\\\poem_caps.txt\"\n",
    "with open(poemu, mode = \"r\") as i:\n",
    "    with open(caps, mode = \"w\") as l:\n",
    "        yomi = i.read()\n",
    "        omoji = yomi.upper()\n",
    "        l.write(omoji)"
   ]
  },
  {
   "cell_type": "markdown",
   "id": "21d43294-cdca-47bf-afa4-3dbd68bcf5ea",
   "metadata": {},
   "source": [
    "## 4.平均点を高い順に並び変える"
   ]
  },
  {
   "cell_type": "code",
   "execution_count": 31,
   "id": "4f8e2f2c-4b86-4246-8d20-1319c510d343",
   "metadata": {
    "tags": []
   },
   "outputs": [
    {
     "name": "stdout",
     "output_type": "stream",
     "text": [
      "{'Naruto': 8.8, 'Sasuke': 91.2, 'Orochimaru': 99.4, 'Jiraiya': 34.0, 'Gai': 90.0}\n",
      "[('Orochimaru', 99.4), ('Sasuke', 91.2), ('Gai', 90.0), ('Jiraiya', 34.0), ('Naruto', 8.8)]\n"
     ]
    }
   ],
   "source": [
    "import shutil\n",
    "avefi = \"C:\\\\Users\\\\Shimo_Y_15\\\\Desktop\\\\ensyuu-lab\\\\0421\\\\average.txt\"\n",
    "avefi_copy = shutil.copy(avefi,\"C:\\\\Users\\\\Shimo_Y_15\\\\Desktop\\\\ensyuu-lab\\\\0421\\\\average_copy.txt\")\n",
    "\n",
    "with open(avefi, mode = \"r\") as f:\n",
    "    with open(avefi_copy,mode = \"w\") as i:\n",
    "        yomi = f.readlines()\n",
    "        namelist = []\n",
    "        tenslist = []\n",
    "        for j in range (len(yomi)):\n",
    "            mi = yomi[j]\n",
    "            mo = mi.split(\" \")\n",
    "            na = mo[0]\n",
    "            ave = mo[1].strip()\n",
    "            namelist.append(na)\n",
    "            tenslist.append(float(ave))\n",
    "            #print(namelist)\n",
    "            #print(tenslist)\n",
    "        dic = dict(zip(namelist,tenslist))\n",
    "        print(dic)\n",
    "        jyun = sorted(dic.items(), key = lambda dic:dic[1],reverse = True)\n",
    "        print(jyun)\n",
    "        i.write(str(jyun))"
   ]
  },
  {
   "cell_type": "markdown",
   "id": "0d92b974-34c9-42e7-b922-8550f5da94df",
   "metadata": {},
   "source": [
    "## 5.2つのファイルをjoin"
   ]
  },
  {
   "cell_type": "code",
   "execution_count": 133,
   "id": "e2564192-c8dc-498c-b767-254e1fc2cbd0",
   "metadata": {
    "tags": []
   },
   "outputs": [],
   "source": [
    "filename1 = \"C:\\\\Users\\\\Shimo_Y_15\\\\Desktop\\\\ensyuu-lab\\\\0421\\\\file1.txt\"\n",
    "filename2 = \"C:\\\\Users\\\\Shimo_Y_15\\\\Desktop\\\\ensyuu-lab\\\\0421\\\\file2.txt\"\n",
    "n_file    = \"C:\\\\Users\\\\Shimo_Y_15\\\\Desktop\\\\ensyuu-lab\\\\0421\\\\filejoin.txt\"\n",
    "\n",
    "with open (filename1, mode = \"w\") as f:\n",
    "    f.write(\"abc\")\n",
    "with open (filename2, mode = \"w\") as i:\n",
    "    i.write(\"def\")\n",
    "\n",
    "with open (n_file, mode = \"w\") as k:\n",
    "    with open (filename1, mode = \"r\") as l:\n",
    "        with open (filename2, mode = \"r\") as e:\n",
    "            yomi = l.read()\n",
    "            komi = e.read()\n",
    "            k.write(yomi + komi)"
   ]
  },
  {
   "cell_type": "markdown",
   "id": "03a938d4-2b02-4c86-99d9-a96dee74a3e9",
   "metadata": {},
   "source": [
    "## 6.暗号化プログラム"
   ]
  },
  {
   "cell_type": "code",
   "execution_count": 3,
   "id": "f4f04d8e-b69b-42c7-9b51-48520aa04ea1",
   "metadata": {
    "tags": []
   },
   "outputs": [
    {
     "name": "stdout",
     "output_type": "stream",
     "text": [
      "b'gAAAAABkRiB2ORzMyxcFZNWffVz5ZhWRqzKkOgtfg2wiOIeAr6Vf4NmwNresREvgHRpU8fvbxhCvdTBR092e3_uAbnBllAY9oj_lrzHuL9oDYz5osM7Sk12RzjnciQhcktbLDHHVu9NL'\n",
      "abcdefghijklmnopqrstuvwxyz1234567890\n"
     ]
    }
   ],
   "source": [
    "angou = \"C:\\\\Users\\\\Shimo_Y_15\\\\Desktop\\\\ensyuu-lab\\\\0421\\\\angou.txt\"\n",
    "from cryptography.fernet import Fernet\n",
    "\n",
    "data = \"abcdefghijklmnopqrstuvwxyz1234567890\".encode(\"utf-8\")\n",
    "\n",
    "key = Fernet.generate_key()\n",
    "f = Fernet(key)\n",
    "\n",
    "token = f.encrypt(data)\n",
    "print(token)\n",
    "\n",
    "data_decrypt = f.decrypt(token)\n",
    "print(f.decrypt(token).decode(\"utf-8\"))"
   ]
  },
  {
   "cell_type": "code",
   "execution_count": 33,
   "id": "9cb1b0d6-0f13-4360-b004-11a5c7e7b343",
   "metadata": {
    "tags": []
   },
   "outputs": [
    {
     "name": "stdout",
     "output_type": "stream",
     "text": [
      "b'gAAAAABkRi1euzp6T_K-IF_4ENImZhaeObiPuLpmWVFHWxOeD1OlC2dnjNi-5p5UlIjTqttfK0OZn2Jj1rNXVxTypkFMAbWEChmX5DGgeIdrQKfmkBizHjwjGUKK9Pmn13WlyCMrb3pO'\n"
     ]
    }
   ],
   "source": [
    "from cryptography.fernet import Fernet\n",
    "\n",
    "angou = \"C:\\\\Users\\\\Shimo_Y_15\\\\Desktop\\\\ensyuu-lab\\\\0421\\\\data.txt\"\n",
    "kanryou = \"C:\\\\Users\\\\Shimo_Y_15\\\\Desktop\\\\ensyuu-lab\\\\0421\\\\data_encrypted.txt\"\n",
    "key_key = \"C:\\\\Users\\\\Shimo_Y_15\\\\Desktop\\\\ensyuu-lab\\\\0421\\\\key_key.txt\"\n",
    "\n",
    "\n",
    "with open (angou, mode = \"w\") as k:\n",
    "    k.write(\"abcdefghijklmnopqrstuvwxyz1234567890\")\n",
    "    \n",
    "\n",
    "\n",
    "with open (angou, mode = \"r\") as i:\n",
    "    with open (kanryou, mode = \"wb\") as l:\n",
    "        yomi = i.read()\n",
    "        data = yomi.encode(\"utf-8\") #内容をバイトに変換（utf-8基準）\n",
    "\n",
    "        key = Fernet.generate_key() #keyの作成\n",
    "        f = Fernet(key) #Fernetオブジェクトの初期化\n",
    "\n",
    "        token = f.encrypt(data) #暗号化\n",
    "        print(token)\n",
    "        l.write(token)\n",
    "        \n",
    "with open (key_key, mode = \"wb\") as m:\n",
    "    m.write(key)\n",
    "    \n",
    "    #data_decrypt = f.decrypt(token)\n",
    "    #print(f.decrypt(token).decode(\"utf-8\"))"
   ]
  },
  {
   "cell_type": "markdown",
   "id": "46b3b2fb-1f34-4106-8d4b-3f86811707c3",
   "metadata": {},
   "source": [
    "## 7.解読"
   ]
  },
  {
   "cell_type": "code",
   "execution_count": 35,
   "id": "3793a07e-1880-4cc7-9a7c-a434cd3ab4a3",
   "metadata": {
    "tags": []
   },
   "outputs": [
    {
     "name": "stdout",
     "output_type": "stream",
     "text": [
      "gAAAAABkRi1euzp6T_K-IF_4ENImZhaeObiPuLpmWVFHWxOeD1OlC2dnjNi-5p5UlIjTqttfK0OZn2Jj1rNXVxTypkFMAbWEChmX5DGgeIdrQKfmkBizHjwjGUKK9Pmn13WlyCMrb3pO\n",
      "abcdefghijklmnopqrstuvwxyz1234567890\n"
     ]
    }
   ],
   "source": [
    "from cryptography.fernet import Fernet\n",
    "\n",
    "angou = \"C:\\\\Users\\\\Shimo_Y_15\\\\Desktop\\\\ensyuu-lab\\\\0421\\\\data_encrypted.txt\"\n",
    "kaidoku = \"C:\\\\Users\\\\Shimo_Y_15\\\\Desktop\\\\ensyuu-lab\\\\0421\\\\decrypted.txt \"\n",
    "key_key = \"C:\\\\Users\\\\Shimo_Y_15\\\\Desktop\\\\ensyuu-lab\\\\0421\\\\key_key.txt\"\n",
    "\n",
    "with open (angou, mode = \"r\") as f:\n",
    "    with open (key_key, mode = \"rb\") as k:\n",
    "        key = k.read()\n",
    "        ang = f.read()\n",
    "        print(ang)\n",
    "        j = Fernet(key)\n",
    "        data_decrypt = j.decrypt(ang)\n",
    "        print(data_decrypt.decode(\"utf-8\"))\n",
    "\n",
    "with open (kaidoku, mode = \"wb\") as l:\n",
    "    l.write(data_decrypt)"
   ]
  },
  {
   "cell_type": "markdown",
   "id": "ea4b93ec-3c3c-40d1-9dbc-5062db955770",
   "metadata": {},
   "source": [
    "## 8.逆表示"
   ]
  },
  {
   "cell_type": "code",
   "execution_count": 58,
   "id": "7dd7253d-31a4-40e5-99a8-cab6f03c9357",
   "metadata": {
    "tags": []
   },
   "outputs": [],
   "source": [
    "moto = \"C:\\\\Users\\\\Shimo_Y_15\\\\Desktop\\\\ensyuu-lab\\\\0421\\\\normal.txt\"\n",
    "gyaku = \"C:\\\\Users\\\\Shimo_Y_15\\\\Desktop\\\\ensyuu-lab\\\\0421\\\\reverse.txt\"\n",
    "\n",
    "with open (moto, mode = \"r\") as f:\n",
    "    with open (gyaku, mode = \"w\") as i:\n",
    "        yomi = f.readlines()\n",
    "        rev = []\n",
    "        for j in range(len(yomi)):\n",
    "            mi = yomi[j]\n",
    "            mi = mi.strip()\n",
    "            gya = mi[::-1]\n",
    "            rev.append(gya)\n",
    "        i.write(str(rev))"
   ]
  },
  {
   "cell_type": "markdown",
   "id": "a0c59422-0fd4-4fc7-88f9-89245dc40676",
   "metadata": {},
   "source": [
    "## 9.File splitter 単語の頻度"
   ]
  },
  {
   "cell_type": "code",
   "execution_count": 51,
   "id": "cfdb8e2f-17a7-45e5-84f8-7651d5fdd7b5",
   "metadata": {
    "tags": []
   },
   "outputs": [
    {
     "name": "stdout",
     "output_type": "stream",
     "text": [
      "1505 the\n",
      "714 and\n",
      "703 to\n",
      "606 a\n",
      "489 of\n",
      "483 she\n",
      "416 said\n",
      "346 it\n",
      "344 in\n",
      "328 was\n",
      "261 I\n",
      "252 you\n",
      "237 as\n",
      "221 Alice\n",
      "213 that\n",
      "203 her\n",
      "196 at\n",
      "175 had\n",
      "167 with\n",
      "150 all\n",
      "138 on\n",
      "136 be\n",
      "126 very\n",
      "125 for\n",
      "121 `I\n",
      "117 little\n",
      "108 they\n",
      "103 so\n",
      "103 not\n",
      "101 but\n",
      "96 out\n",
      "95 he\n",
      "93 his\n",
      "89 The\n",
      "85 what\n",
      "85 this\n",
      "84 about\n",
      "82 were\n",
      "81 up\n",
      "79 went\n",
      "77 one\n",
      "77 down\n",
      "76 Alice,\n",
      "74 like\n",
      "73 have\n",
      "69 if\n",
      "68 would\n",
      "68 or\n",
      "67 into\n",
      "66 when\n",
      "64 no\n",
      "63 thought\n",
      "63 is\n",
      "62 could\n",
      "60 *\n",
      "56 Mock\n",
      "55 my\n",
      "55 its\n",
      "54 Alice.\n",
      "53 your\n",
      "53 quite\n",
      "53 by\n",
      "52 an\n",
      "50 then\n",
      "50 their\n",
      "50 did\n",
      "49 them\n",
      "49 And\n",
      "48 who\n",
      "48 don't\n",
      "47 some\n",
      "47 see\n",
      "47 began\n",
      "46 time\n",
      "46 me\n",
      "46 do\n",
      "45 looked\n",
      "45 know\n",
      "45 got\n",
      "44 there\n",
      "43 only\n",
      "43 just\n",
      "43 get\n",
      "40 such\n",
      "40 much\n",
      "40 herself\n",
      "39 must\n",
      "39 great\n",
      "38 off\n",
      "38 it,\n",
      "38 go\n",
      "38 came\n",
      "38 `and\n",
      "37 which\n",
      "37 way\n",
      "37 think\n",
      "37 never\n",
      "37 more\n",
      "37 how\n",
      "36 say\n"
     ]
    }
   ],
   "source": [
    "import collections\n",
    "moto = \"C:\\\\Users\\\\Shimo_Y_15\\\\Desktop\\\\ensyuu-lab\\\\0421\\\\alice.txt\"\n",
    "kaisuu = \"C:\\\\Users\\\\Shimo_Y_15\\\\Desktop\\\\ensyuu-lab\\\\0421\\\\alice_number.txt\"\n",
    "\n",
    "with open(moto, mode =\"r\") as f:\n",
    "    yomi = f.read()\n",
    "    yomi = yomi.strip()\n",
    "words = {}\n",
    "for word in yomi.split( ):\n",
    "    words[word] = words.get(word, 0) + 1\n",
    "        \n",
    "d = [(v,k) for k, v in words.items()]\n",
    "d.sort()\n",
    "d.reverse()\n",
    "\n",
    "for count,word in d[:100]:\n",
    "    print(count, word)\n",
    "\n",
    "with open (kaisuu, mode = \"w\") as i:\n",
    "    i.write(str(d))"
   ]
  },
  {
   "cell_type": "markdown",
   "id": "679a1ce2-ed8a-4819-8ba0-2ed210dfbcdd",
   "metadata": {},
   "source": [
    "## 10.File Splitter"
   ]
  },
  {
   "cell_type": "code",
   "execution_count": 22,
   "id": "866b25f0-8cb5-432c-80e0-153912a8f5b5",
   "metadata": {
    "tags": []
   },
   "outputs": [
    {
     "name": "stdin",
     "output_type": "stream",
     "text": [
      "分割したい行数を入力してください 300\n"
     ]
    }
   ],
   "source": [
    "moto = \"C:\\\\Users\\\\Shimo_Y_15\\\\Desktop\\\\ensyuu-lab\\\\0421\\\\alice.txt\"\n",
    "count = 0\n",
    "file = 0\n",
    "komi = \"\"\n",
    "\n",
    "with open(moto, mode = \"r\") as f:\n",
    "    gyou = int(input(\"分割したい行数を入力してください\"))\n",
    "    idx = gyou\n",
    "    \n",
    "    while count < idx:\n",
    "        yomi = f.readline()\n",
    "        yomi = yomi.strip()\n",
    "        komi = komi + yomi + \"\\n\"\n",
    "        count += 1\n",
    "        if count == idx:\n",
    "            file += 1\n",
    "            with open(\"C:\\\\Users\\\\Shimo_Y_15\\\\Desktop\\\\ensyuu-lab\\\\0421\\\\alice\" + str(file) + \".txt\", mode = \"w\") as i:\n",
    "                #i.write(\"world\\nhello\")\n",
    "                i.write(komi)\n",
    "                count = 0\n",
    "                komi = \"\"\n",
    "                continue\n",
    "        if yomi.count(\"THE END\"):\n",
    "            file += 1\n",
    "            with open(\"C:\\\\Users\\\\Shimo_Y_15\\\\Desktop\\\\ensyuu-lab\\\\0421\\\\alice\" + str(file) + \".txt\", mode = \"w\") as i:\n",
    "                i.write(komi)\n",
    "            break"
   ]
  },
  {
   "cell_type": "markdown",
   "id": "7ab479f3-da9c-47b6-ab3f-dc181b992629",
   "metadata": {},
   "source": [
    "## 11.File Splitter 結合"
   ]
  },
  {
   "cell_type": "code",
   "execution_count": 30,
   "id": "43beb243-c369-48e4-a692-f258a42a6452",
   "metadata": {
    "tags": []
   },
   "outputs": [
    {
     "name": "stdin",
     "output_type": "stream",
     "text": [
      "分割したい行数を入力してください 300\n"
     ]
    }
   ],
   "source": [
    "moto = \"C:\\\\Users\\\\Shimo_Y_15\\\\Desktop\\\\ensyuu-lab\\\\0421\\\\alice.txt\"\n",
    "count = 0\n",
    "file = 0\n",
    "komi = \"\"\n",
    "\n",
    "with open(moto, mode = \"r\") as f:\n",
    "    gyou = int(input(\"分割したい行数を入力してください\"))\n",
    "    idx = gyou\n",
    "    \n",
    "    while count < idx:\n",
    "        yomi = f.readline()\n",
    "        yomi = yomi.strip()\n",
    "        komi = komi + yomi + \"\\n\"\n",
    "        count += 1\n",
    "        if count == idx:\n",
    "            file += 1\n",
    "            with open(\"C:\\\\Users\\\\Shimo_Y_15\\\\Desktop\\\\ensyuu-lab\\\\0421\\\\alice\" + str(file) + \".txt\", mode = \"w\") as i:\n",
    "                #i.write(\"world\\nhello\")\n",
    "                i.write(komi)\n",
    "                count = 0\n",
    "                komi = \"\"\n",
    "                continue\n",
    "        if yomi.count(\"THE END\"):\n",
    "            file += 1\n",
    "            with open(\"C:\\\\Users\\\\Shimo_Y_15\\\\Desktop\\\\ensyuu-lab\\\\0421\\\\alice\" + str(file) + \".txt\", mode = \"w\") as i:\n",
    "                i.write(komi)\n",
    "            break\n",
    "\n",
    "saisyuu = \"\"\n",
    "for j in range(1,int(file)+1):\n",
    "    with open (\"C:\\\\Users\\\\Shimo_Y_15\\\\Desktop\\\\ensyuu-lab\\\\0421\\\\alice\" + str(j) + \".txt\", mode = \"r\") as l:\n",
    "        sai = l.read()\n",
    "        saisyuu = saisyuu+sai\n",
    "        \n",
    "with open(\"C:\\\\Users\\\\Shimo_Y_15\\\\Desktop\\\\ensyuu-lab\\\\0421\\\\alice_join.txt\", mode = \"w\") as n:\n",
    "    n.write(saisyuu)"
   ]
  },
  {
   "cell_type": "code",
   "execution_count": null,
   "id": "08e62ead-6451-42fb-93f4-1d7c28975db2",
   "metadata": {},
   "outputs": [],
   "source": []
  }
 ],
 "metadata": {
  "kernelspec": {
   "display_name": "Python 3 (ipykernel)",
   "language": "python",
   "name": "python3"
  },
  "language_info": {
   "codemirror_mode": {
    "name": "ipython",
    "version": 3
   },
   "file_extension": ".py",
   "mimetype": "text/x-python",
   "name": "python",
   "nbconvert_exporter": "python",
   "pygments_lexer": "ipython3",
   "version": "3.8.16"
  }
 },
 "nbformat": 4,
 "nbformat_minor": 5
}
