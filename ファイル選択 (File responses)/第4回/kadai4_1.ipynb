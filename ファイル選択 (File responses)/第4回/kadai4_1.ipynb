{
 "cells": [
  {
   "cell_type": "code",
   "execution_count": null,
   "id": "45596c6a-df27-4ec1-8082-b14b6a8ea3e0",
   "metadata": {},
   "outputs": [],
   "source": [
    "pwd"
   ]
  },
  {
   "cell_type": "code",
   "execution_count": null,
   "id": "7e23fc9e-096b-4908-a7ff-709b50536c39",
   "metadata": {
    "tags": []
   },
   "outputs": [],
   "source": [
    "name = \"apple\""
   ]
  },
  {
   "cell_type": "markdown",
   "id": "c1846238-17da-4baf-b856-832ba8703a15",
   "metadata": {
    "tags": []
   },
   "source": [
    "## 1"
   ]
  },
  {
   "cell_type": "code",
   "execution_count": null,
   "id": "03e58309-6698-40a9-aa45-96d2419ca60b",
   "metadata": {
    "tags": []
   },
   "outputs": [],
   "source": [
    "with open(\"C:\\\\Users\\\\Okita\\\\Downloads\\\\robotics , AI\\\\python\\\\kadai_4\\\\filename.py\", \"w\") as f:\n",
    "    f.write(name)"
   ]
  },
  {
   "cell_type": "code",
   "execution_count": null,
   "id": "56a14e93-54e2-4538-b27d-64cc5ed6d551",
   "metadata": {
    "tags": []
   },
   "outputs": [],
   "source": [
    "with open(\"C:\\\\Users\\\\Okita\\\\Downloads\\\\robotics , AI\\\\python\\\\kadai_4\\\\filename_copy.py\", \"a\") as f:\n",
    "    f.write(name)"
   ]
  },
  {
   "cell_type": "code",
   "execution_count": null,
   "id": "c8e9f3b2-d206-4072-8494-7367c03828ee",
   "metadata": {
    "tags": []
   },
   "outputs": [],
   "source": [
    "with open(\"names.txt\", \"r\") as f:\n",
    "    name_list = []\n",
    "    name2 = f.read() \n",
    "    print(name2)"
   ]
  },
  {
   "cell_type": "code",
   "execution_count": null,
   "id": "5595ad9c-da6b-4307-99eb-acafa9f557ef",
   "metadata": {
    "tags": []
   },
   "outputs": [],
   "source": [
    "with open(\"C:\\\\Users\\\\Okita\\\\Downloads\\\\robotics , AI\\\\python\\\\kadai_4\\\\names_copy.txt\", \"a\") as f:\n",
    "    f.write(name2)"
   ]
  },
  {
   "cell_type": "markdown",
   "id": "d3ed4b3b-7cc3-4a1a-b45a-cbc9fc09f888",
   "metadata": {},
   "source": [
    "## 2"
   ]
  },
  {
   "cell_type": "code",
   "execution_count": null,
   "id": "71e4e914-641a-4f7b-a777-9c14ab01c33a",
   "metadata": {
    "tags": []
   },
   "outputs": [],
   "source": [
    "def split_func1(n,m,l): # \":\"でsplitする関数\n",
    "    string = n[m].split(l)\n",
    "    \n",
    "    return string\n",
    "    \n",
    "def split_func2(n,m,l): # \",\"でsplitする関数\n",
    "    string2 = n[m].split(l)\n",
    "    \n",
    "    return string2\n",
    "\n",
    "def ave_func(n,m): # 平均を出す関数\n",
    "    total = 0\n",
    "    average = 0\n",
    "    for i in range(len(n[m])):\n",
    "        total += int(n[m][i])\n",
    "    \n",
    "    average = total/len(n[m])\n",
    "    return average\n",
    "            \n",
    "new_list = []\n",
    "ave_list = []\n",
    "with open(\"marks.txt\", \"r\") as f:\n",
    "    mark = f.read()\n",
    "    s = mark.split(\"\\n\")\n",
    "    \n",
    "    for i in range(len(s)): # リストｓを\":\"でわける\n",
    "        s[i] = split_func1(s,i,\":\")\n",
    "    \n",
    "    for j in range(len(s)): # new_listにリストsの要素を加える\n",
    "        new_list.append(s[j][1])\n",
    "        \n",
    "    for k in range(len(new_list)): # new_listを\",\"でわける\n",
    "        new_list[k] = split_func2(new_list, k, \",\")\n",
    "    \n",
    "    for a in range(len(new_list)): # ave_listに平均を加える\n",
    "        ave_list.append(ave_func(new_list, a))\n",
    "\n",
    "with open(\"average.txt\", \"w\") as f: # リストｓの名前と平均値を一つの文字列にしてaverage.txtに書き込む\n",
    "    for b in range(len(ave_list)):\n",
    "        text = \"{}:{}\".format(s[b][0], ave_list[b])\n",
    "        f.write(str(text))\n",
    "        f.write(\"\\n\")"
   ]
  },
  {
   "cell_type": "markdown",
   "id": "cd240267-3d18-4458-8d26-2922dffb995c",
   "metadata": {},
   "source": [
    "## 3"
   ]
  },
  {
   "cell_type": "code",
   "execution_count": null,
   "id": "6e1b279f-92a1-4ab7-a1a4-f63a37910853",
   "metadata": {
    "tags": []
   },
   "outputs": [],
   "source": [
    "with open(\"poem.txt\", \"r\") as f:\n",
    "    poem = f.read()\n",
    "\n",
    "with open(\"poem_caps.txt\", \"w\") as f:\n",
    "    f.write(poem.upper())"
   ]
  },
  {
   "cell_type": "markdown",
   "id": "f9397b07-eafe-4f82-b693-97d2807ecdfa",
   "metadata": {},
   "source": [
    "## 4"
   ]
  },
  {
   "cell_type": "code",
   "execution_count": null,
   "id": "6b8de1fb-e20c-40e6-90ab-9daf5dcdd9aa",
   "metadata": {
    "tags": []
   },
   "outputs": [],
   "source": [
    "def split_func(n,m,l): # \":\"でsplitする関数\n",
    "    string = n[m].split(l)\n",
    "    \n",
    "    return string\n",
    "\n",
    "score_list = []\n",
    "num_list = []\n",
    "rank_list = []\n",
    "rank_list2 = []\n",
    "with open(\"average.txt\", \"r\") as f: # リストの最後の改行を除去\n",
    "    score = f.read()\n",
    "    score_list = score.split(\"\\n\")\n",
    "    score_list.pop(len(score_list)-1)\n",
    "    \n",
    "    for i in range(len(score_list)): # splitで\":\"で区切る\n",
    "        num = split_func(score_list, i, \":\")\n",
    "        num_list.append(num[1])\n",
    "    \n",
    "    rank_list.append(float(num_list[0])) # 新しいリストにnum_listの最初の要素を追加\n",
    "    for j in range(1,len(num_list)): # 加えた要素と加える前の要素を比較して新しいリストに加える\n",
    "        a = float(num_list[j])\n",
    "        for k in range(len(rank_list)):\n",
    "            b = float(rank_list[k])\n",
    "            if a > b:\n",
    "                rank_list.insert(k,a)\n",
    "                break\n",
    "    \n",
    "    for k in range(len(rank_list)): # 新しいリストの要素が含まれているか確かめ加える\n",
    "        for a in range(len(score_list)):\n",
    "            if str(rank_list[k]) in score_list[a]:\n",
    "                rank_list2.append(score_list[a])\n",
    "                break\n",
    "    \n",
    "with open(\"average_rank.txt\", \"w\") as f:\n",
    "    for b in range(len(rank_list2)):\n",
    "        f.write(rank_list2[b]+\"\\n\")"
   ]
  },
  {
   "cell_type": "markdown",
   "id": "68d68b70-9d52-4ec4-b299-8b80123ce264",
   "metadata": {},
   "source": [
    "## 5"
   ]
  },
  {
   "cell_type": "code",
   "execution_count": null,
   "id": "7c36cbd5-942a-420e-bdb2-1e4d5d3675a7",
   "metadata": {
    "tags": []
   },
   "outputs": [],
   "source": [
    "color_text3 = \"\"\n",
    "with open(\"file1.txt\", \"r\") as f:\n",
    "    color_text1 = f.read()\n",
    "\n",
    "with open(\"file2.txt\", \"r\") as f:\n",
    "    color_text2 = f.read()\n",
    "    \n",
    "color_text3 = color_text1 + \"\\n\" + color_text2\n",
    "\n",
    "with open(\"filejoin.txt\", \"a\") as f:\n",
    "    f.write(color_text3)"
   ]
  },
  {
   "cell_type": "markdown",
   "id": "cdfab507-0963-467a-8204-79d0338f4ade",
   "metadata": {},
   "source": [
    "## 6"
   ]
  },
  {
   "cell_type": "code",
   "execution_count": 44,
   "id": "6c1d0972-d4bd-4809-bb40-88f0ae8fa966",
   "metadata": {
    "tags": []
   },
   "outputs": [],
   "source": [
    "def asc_func(n,m): # ASCII codeで変換する\n",
    "    asc_num = ord(n[m])\n",
    "    asc_num = asc_num - 15\n",
    "    return asc_num\n",
    "    \n",
    "text_org = \"\"\n",
    "text_cha = \"\"\n",
    "with open(\"data.txt\", \"r\") as f:\n",
    "    text_org = f.read()\n",
    "    for i in range(len(text_org)): # 指定した数値でASCIIをもとに変換\n",
    "        text_cha += chr(asc_func(text_org, i))\n",
    "        \n",
    "with open(\"data_encrypted.txt\", \"w\") as f:\n",
    "    f.write(text_cha)"
   ]
  },
  {
   "cell_type": "markdown",
   "id": "a7a22858-9640-429c-a921-aeb72aa86fa7",
   "metadata": {},
   "source": [
    "## 7"
   ]
  },
  {
   "cell_type": "code",
   "execution_count": 45,
   "id": "4b7e9658-a781-454c-bf1e-f4a0c3b6d019",
   "metadata": {
    "tags": []
   },
   "outputs": [],
   "source": [
    "def decipher(n,m):\n",
    "    asc_num2 = ord(n[m])\n",
    "    asc_num2 = asc_num2 + 15\n",
    "    return asc_num2\n",
    "\n",
    "\n",
    "convert = \"\"\n",
    "origin = \"\"\n",
    "with open(\"data_encrypted.txt\", \"r\") as f:\n",
    "    convert = f.read()\n",
    "    for i in range(len(convert)):\n",
    "        origin += chr(decipher(convert,i))\n",
    "        \n",
    "with open(\"decrypted.txt\", \"w\") as f:\n",
    "    f.write(origin)"
   ]
  },
  {
   "cell_type": "markdown",
   "id": "3c535ba5-b20c-433f-aca5-5e16484aa41a",
   "metadata": {
    "tags": []
   },
   "source": [
    "## 8"
   ]
  },
  {
   "cell_type": "code",
   "execution_count": 28,
   "id": "02a31aa6-c779-4641-80f8-058ec09b62ee",
   "metadata": {
    "tags": []
   },
   "outputs": [],
   "source": [
    "normal_list = []\n",
    "rev_list = []\n",
    "rev_text = \"\"\n",
    "with open(\"normal.txt\", \"r\") as f:\n",
    "    text = f.read()\n",
    "    normal_list = text.split(\"\\n\")\n",
    "    length = len(normal_list)\n",
    "    \n",
    "    for i in range(length):\n",
    "        rev_list = normal_list[i].split(\" \")\n",
    "        for j in range(len(rev_list)):\n",
    "            rev_text += rev_list[j][::-1] + \" \"\n",
    "        \n",
    "        rev_text += \"\\n\"\n",
    "\n",
    "with open(\"reverse.txt\", \"w\") as f:\n",
    "    f.write(rev_text)"
   ]
  },
  {
   "cell_type": "markdown",
   "id": "4b26b79f-1881-41fe-926a-439c52fcba38",
   "metadata": {
    "tags": []
   },
   "source": [
    "## 9"
   ]
  },
  {
   "cell_type": "code",
   "execution_count": null,
   "id": "dcfeff47-f0a1-4aa3-9317-c3e94ed0b070",
   "metadata": {
    "tags": []
   },
   "outputs": [],
   "source": [
    "line_list = []\n",
    "text_list = []\n",
    "text = \"\"\n",
    "num = input(\"いくつに分けますか。\") # 分けるファイル数を指定\n",
    "num = int(num)\n",
    "count = 0\n",
    "\n",
    "with open(\"alice.txt\", \"r\") as f: # alice.txtから文章を読み取る\n",
    "    count = 0\n",
    "    all_text = f.read()\n",
    "    line_list = all_text.split(\"\\n\")\n",
    "    line_num = len(line_list)//num # 1つのファイルの行数を計算\n",
    "    \n",
    "    for j in range(1,num+1): # listの要素のループ\n",
    "        for k in range(count,count+line_num): # 全体/ファイル数分の行数を加える\n",
    "            text += line_list[k] + \"\\n\"\n",
    "            \n",
    "        text_list.append(text)\n",
    "        text = \"\"\n",
    "        count += line_num\n",
    "    \n",
    "    amari = len(line_list) - count\n",
    "    if amari != 0:\n",
    "        for a in range(amari):\n",
    "            text_list[num-1] += line_list[count] + \"\\n\"\n",
    "            count += 1\n",
    "    \n",
    "for i in range(1,num+1):\n",
    "    with open(\"alice{}.txt\".format(i), \"w\") as f:\n",
    "        f.write(text_list[i-1])"
   ]
  },
  {
   "cell_type": "markdown",
   "id": "c0ccae18-7a49-4a53-9d89-5828822afdcf",
   "metadata": {},
   "source": [
    "## 10"
   ]
  },
  {
   "cell_type": "code",
   "execution_count": null,
   "id": "afe77715-2e12-4446-a03b-1e3fa3e2f882",
   "metadata": {
    "tags": []
   },
   "outputs": [],
   "source": [
    "all_text2 = \"\"\n",
    "text2 = \"\"\n",
    "for i in range(1, num+1):\n",
    "    with open(\"alice{}.txt\".format(i), \"r\") as f:\n",
    "        text2 = f.read()\n",
    "        all_text2 += text2\n",
    "        text2 = \"\"\n",
    "        \n",
    "with open(\"alice_joined.txt\", \"w\") as f:\n",
    "    f.write(all_text2)"
   ]
  },
  {
   "cell_type": "markdown",
   "id": "3c0bdb7c-abed-4715-9fbb-c2bdfb4466e7",
   "metadata": {},
   "source": [
    "## ex"
   ]
  },
  {
   "cell_type": "code",
   "execution_count": 51,
   "id": "4b202e2e-45c3-40b6-84a9-bddfbe7ad8a1",
   "metadata": {
    "tags": []
   },
   "outputs": [
    {
     "name": "stdout",
     "output_type": "stream",
     "text": [
      "398\n"
     ]
    }
   ],
   "source": [
    "text4 = \"\"\n",
    "with open(\"alice.txt\", \"r\") as f:\n",
    "    text4 = f.read()\n",
    "    letter_count = text4.count(\"Alice\")\n",
    "    letter_count2 = text4.count(\"ALICE\")\n",
    "    total = letter_count + letter_count2\n",
    "    print(total)"
   ]
  },
  {
   "cell_type": "code",
   "execution_count": null,
   "id": "a3f48ab6-d21e-4978-98f6-0ea985a3fbdc",
   "metadata": {},
   "outputs": [],
   "source": []
  }
 ],
 "metadata": {
  "kernelspec": {
   "display_name": "Python 3 (ipykernel)",
   "language": "python",
   "name": "python3"
  },
  "language_info": {
   "codemirror_mode": {
    "name": "ipython",
    "version": 3
   },
   "file_extension": ".py",
   "mimetype": "text/x-python",
   "name": "python",
   "nbconvert_exporter": "python",
   "pygments_lexer": "ipython3",
   "version": "3.8.16"
  }
 },
 "nbformat": 4,
 "nbformat_minor": 5
}
