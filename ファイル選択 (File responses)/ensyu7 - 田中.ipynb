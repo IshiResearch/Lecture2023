{
 "cells": [
  {
   "cell_type": "markdown",
   "id": "0b84997f-f954-42a4-8049-be60f126e144",
   "metadata": {},
   "source": [
    "# 演習課題7"
   ]
  },
  {
   "cell_type": "code",
   "execution_count": 21,
   "id": "9c139ea0-d8fe-4ca5-8bda-8b7fbbcb5089",
   "metadata": {},
   "outputs": [
    {
     "name": "stdout",
     "output_type": "stream",
     "text": [
      "add : 5 + 3 i\n"
     ]
    }
   ],
   "source": [
    "#1 複素数の四則演算の関数の作成\n",
    "a_1, b_1 = 3, 2\n",
    "a_2, b_2 = 2, 1\n",
    "\n",
    "z_1 = (a_1, b_1)\n",
    "z_2 = (a_2, b_2)\n",
    "\n",
    "def complex_add(z_1, z_2):\n",
    "    a_add = z_1[0] + z_2[0]\n",
    "    b_add = z_1[1] + z_2[1]\n",
    "    return a_add, b_add\n",
    "\n",
    "z_add = complex_add(z_1, z_2)\n",
    "print(\"add :\",z_add[0],\"+\",z_add[1],\"i\")"
   ]
  },
  {
   "cell_type": "code",
   "execution_count": 23,
   "id": "79005fab-598c-495f-92d2-b0ffc693ae1f",
   "metadata": {},
   "outputs": [],
   "source": [
    "#2 複素数の四則演算ができるメソットを含めたクラスを作成(特殊メソットなし）\n",
    "class Complex():\n",
    "    def __init__(self, real_number, imaginary_number):\n",
    "        self.real_number = real_number\n",
    "        self.imaginary_number = imaginary_number\n",
    "        \n",
    "    def my_print(self):\n",
    "        print(f\"add : {self.real_number} + {self.imaginary_number} i\")\n",
    "    \n",
    "    def my_real_number_add(self, add_num):\n",
    "        self.real_number += add_num\n",
    "        \n",
    "    def my_imaginary_number_add(self, add_num):\n",
    "        self.imaginary_number += add_num"
   ]
  },
  {
   "cell_type": "code",
   "execution_count": 26,
   "id": "3e39cfde-68a0-4618-8e9c-fd1cd6f1d6d7",
   "metadata": {
    "tags": []
   },
   "outputs": [
    {
     "name": "stdout",
     "output_type": "stream",
     "text": [
      "add : 5 + 3 i\n"
     ]
    }
   ],
   "source": [
    "a_1, b_1 = 3, 2\n",
    "a_2, b_2 = 2, 1\n",
    "\n",
    "my_class = Complex(a_1, b_1)\n",
    "\n",
    "my_class.my_real_number_add(a_2)\n",
    "my_class.my_imaginary_number_add(b_2)\n",
    "\n",
    "my_class.my_print()"
   ]
  },
  {
   "cell_type": "code",
   "execution_count": 27,
   "id": "5b71464b-eda9-4463-8e58-0356f25d732c",
   "metadata": {
    "tags": []
   },
   "outputs": [],
   "source": [
    "#3 複素数の四則演算できるメソッドを含めたクラスの作成（特殊メソットあり）\n",
    "class Complex():\n",
    "    def __init__(self, real_number, imagenary_number):\n",
    "        self.real_number = real_number\n",
    "        self.imagenary_number = imagenary_number\n",
    "    \n",
    "    def __add__(self, other):\n",
    "        num_1 = self.real_number + other.real_number\n",
    "        num_2 = self.imagenary_number + other.imagenary_number\n",
    "        \n",
    "        return Complex(num_1, num_2)"
   ]
  },
  {
   "cell_type": "code",
   "execution_count": 29,
   "id": "40fb9e6a-55e8-4d0e-a466-633a8b586b26",
   "metadata": {
    "tags": []
   },
   "outputs": [
    {
     "name": "stdout",
     "output_type": "stream",
     "text": [
      "add : 5 + 3 i\n"
     ]
    }
   ],
   "source": [
    "a_1, b_1 = 3, 2\n",
    "a_2, b_2 = 2, 1\n",
    "\n",
    "z_1 = Complex(a_1, b_1)\n",
    "z_2 = Complex(a_2, b_2)\n",
    "\n",
    "z_add = z_1 + z_2\n",
    "\n",
    "print(\"add :\",z_add.real_number, \"+\" ,z_add.imagenary_number,\"i\")"
   ]
  },
  {
   "cell_type": "code",
   "execution_count": 8,
   "id": "cf8b2f62-6e63-4e35-9683-336a5ad981fb",
   "metadata": {
    "tags": []
   },
   "outputs": [],
   "source": [
    "#EX レースゲーム\n",
    "class RaceGame():\n",
    "    def __init__(self, color, speed, gasoline, fuel_consumption, refueling, distance):\n",
    "        self.color = color\n",
    "        self.speed = speed\n",
    "        self.gasoline = gasoline\n",
    "        self.fuel_consumption = fuel_consumption\n",
    "        self.refueling = refueling\n",
    "        self.distance = distance\n",
    "        \n",
    "    def info(self):\n",
    "        print(f\"color     = {self.color}\")\n",
    "        \n",
    "    def accelerate(self):\n",
    "        self.distance -= self.speed\n",
    "        self.gasoline -= self.fuel_consumption\n",
    "        \n",
    "    def rest(self):\n",
    "        self.gasoline += self.refueling\n",
    "        "
   ]
  },
  {
   "cell_type": "code",
   "execution_count": 30,
   "id": "9e39f451-251d-4a85-bb0a-edae766ae93e",
   "metadata": {},
   "outputs": [
    {
     "name": "stdout",
     "output_type": "stream",
     "text": [
      "~~~~~~result~~~~~~\n",
      "color     = red\n",
      "STEP      = 49\n",
      "REST_COUNT= 3\n",
      "~~~~~~~~~~~~~~~~~~\n",
      "~~~~~~result~~~~~~\n",
      "color     = blue\n",
      "STEP      = 45\n",
      "REST_COUNT= 4\n",
      "~~~~~~~~~~~~~~~~~~\n",
      "~~~~~~result~~~~~~\n",
      "color     = green\n",
      "STEP      = 38\n",
      "REST_COUNT= 6\n",
      "~~~~~~~~~~~~~~~~~~\n"
     ]
    }
   ],
   "source": [
    "red = RaceGame(\"red\",30, 1000, 100, 200, 1000 )\n",
    "blue = RaceGame(\"blue\", 40, 500, 100, 100, 1000)\n",
    "green = RaceGame(\"green\", 50, 300, 100, 100, 1000)\n",
    "\n",
    "def info(color1):\n",
    "    color1.info()\n",
    "def accelerate(color1):\n",
    "    color1.accelerate()   \n",
    "def rest(color1):\n",
    "    color1.rest()\n",
    "    \n",
    "mylist = [red, blue, green]\n",
    "\n",
    "for i in range(len(mylist)):\n",
    "    step = 0\n",
    "    rest_count = 0\n",
    "    max_gasoline = mylist[i].gasoline\n",
    "    while mylist[i].distance > 0:\n",
    "        accelerate(mylist[i])\n",
    "        step += 1\n",
    "        \n",
    "        if mylist[i].distance <= 0:\n",
    "            print(\"~~~~~~result~~~~~~\")\n",
    "            info(mylist[i])\n",
    "            print(\"STEP      =\", step)\n",
    "            print(\"REST_COUNT=\", rest_count)\n",
    "            print(\"~~~~~~~~~~~~~~~~~~\")\n",
    "            \n",
    "        if mylist[i].gasoline == 0:\n",
    "            rest_count += 1\n",
    "            while mylist[i].gasoline < max_gasoline:\n",
    "                mylist[i].rest()\n",
    "                step += 1\n",
    "\n",
    "        "
   ]
  },
  {
   "cell_type": "code",
   "execution_count": null,
   "id": "00f3fd38-a56f-4142-8480-d2cf7bded15f",
   "metadata": {},
   "outputs": [],
   "source": []
  },
  {
   "cell_type": "code",
   "execution_count": null,
   "id": "fbff1111-d8f6-4d8f-b378-da2494200353",
   "metadata": {},
   "outputs": [],
   "source": []
  }
 ],
 "metadata": {
  "kernelspec": {
   "display_name": "Python 3 (ipykernel)",
   "language": "python",
   "name": "python3"
  },
  "language_info": {
   "codemirror_mode": {
    "name": "ipython",
    "version": 3
   },
   "file_extension": ".py",
   "mimetype": "text/x-python",
   "name": "python",
   "nbconvert_exporter": "python",
   "pygments_lexer": "ipython3",
   "version": "3.8.16"
  }
 },
 "nbformat": 4,
 "nbformat_minor": 5
}
