{
 "cells": [
  {
   "cell_type": "code",
   "execution_count": 5,
   "id": "6c46aa3d-84a9-4ebb-991e-b5ee86e0f1c2",
   "metadata": {},
   "outputs": [],
   "source": [
    "mylist = [1,2,3,100,-4,0.98,61,-78]"
   ]
  },
  {
   "cell_type": "markdown",
   "id": "bacf9657-9b1e-49f4-a020-73e6dd460e1d",
   "metadata": {
    "tags": []
   },
   "source": [
    "### 1．リストから奇数を取り出し新しいリストを作成せよ。(内包表記で表すこと)"
   ]
  },
  {
   "cell_type": "code",
   "execution_count": 6,
   "id": "a763dbe7-37f0-49fc-9342-72a44e2ef8c6",
   "metadata": {},
   "outputs": [
    {
     "name": "stdout",
     "output_type": "stream",
     "text": [
      "[1, 3, 61]\n"
     ]
    }
   ],
   "source": [
    "new_list = [i for i in mylist if i % 2 == 1]\n",
    "print(new_list)"
   ]
  },
  {
   "cell_type": "markdown",
   "id": "ac82a2ba-1012-4580-bec7-fddc15f88bc2",
   "metadata": {
    "tags": []
   },
   "source": [
    "### 2．リストから偶数を取り出し新しいリストを作成せよ。(内包表記で表すこと)"
   ]
  },
  {
   "cell_type": "code",
   "execution_count": 7,
   "id": "ad2adf57-00df-4b24-a5e5-5fc49610a909",
   "metadata": {},
   "outputs": [
    {
     "name": "stdout",
     "output_type": "stream",
     "text": [
      "[2, 100, -4, -78]\n"
     ]
    }
   ],
   "source": [
    "newlist = [i for i in mylist if i % 2 == 0]\n",
    "print(newlist)"
   ]
  },
  {
   "cell_type": "markdown",
   "id": "510efa0c-633c-4bfd-950d-c304e7b83471",
   "metadata": {
    "tags": []
   },
   "source": [
    "### 3．リストの各値を二乗し新しいリストを作成せよ。(内包表記で表すこと)"
   ]
  },
  {
   "cell_type": "code",
   "execution_count": 8,
   "id": "35dc84c6-a3db-4208-9551-d33245f9911a",
   "metadata": {},
   "outputs": [
    {
     "name": "stdout",
     "output_type": "stream",
     "text": [
      "[1, 4, 9, 10000, 16, 0.9603999999999999, 3721, 6084]\n"
     ]
    }
   ],
   "source": [
    "list2 = [i**2 for i in mylist]\n",
    "print(list2)"
   ]
  },
  {
   "cell_type": "markdown",
   "id": "488c5c9a-8e10-4b97-a539-59828d85fa2f",
   "metadata": {
    "tags": []
   },
   "source": [
    "### 4．リストの各値を三乗し新しいリストを作成せよ。(内包表記で表すこと)"
   ]
  },
  {
   "cell_type": "code",
   "execution_count": 9,
   "id": "cfe9e11f-d5cd-4ece-9ae1-0b9915e14dff",
   "metadata": {},
   "outputs": [
    {
     "name": "stdout",
     "output_type": "stream",
     "text": [
      "[1, 8, 27, 1000000, -64, 0.9411919999999999, 226981, -474552]\n"
     ]
    }
   ],
   "source": [
    "list3 = [i**3 for i in mylist]\n",
    "print(list3)"
   ]
  },
  {
   "cell_type": "markdown",
   "id": "2c147c6f-2f2a-46a2-81d8-56cd50d79d17",
   "metadata": {
    "tags": []
   },
   "source": [
    "### 5．リストの奇数を二乗、偶数を三乗し新しいリストを作成せよ。（内包表記で表すこと）"
   ]
  },
  {
   "cell_type": "code",
   "execution_count": 10,
   "id": "74bf1f65-cef1-4c72-a0da-7ac6c26394da",
   "metadata": {},
   "outputs": [
    {
     "name": "stdout",
     "output_type": "stream",
     "text": [
      "[1, 8, 9, 1000000, -64, 0.9603999999999999, 3721, -474552]\n"
     ]
    }
   ],
   "source": [
    "list5 = [i**3 if i % 2 == 0 else i**2 for i in mylist]\n",
    "print(list5)"
   ]
  },
  {
   "cell_type": "markdown",
   "id": "77981320-4eeb-4a4d-a375-dc8088daeac9",
   "metadata": {},
   "source": [
    "### 6．以下のリスト内で同じ数値を取り除いた新しいリストを作成せよ。（内包表記で表すこと）"
   ]
  },
  {
   "cell_type": "code",
   "execution_count": 11,
   "id": "2065366f-7c0f-4340-aca5-95b0f94552af",
   "metadata": {},
   "outputs": [],
   "source": [
    "data = [1, 2, -9, 9, 0.9, 0.9, 1, -9, -9, 0.1, 0.1, 7, 7, 8, 0.9]"
   ]
  },
  {
   "cell_type": "code",
   "execution_count": 12,
   "id": "12c6d9d2-8666-4ba2-b2ef-3207d2e0aa01",
   "metadata": {},
   "outputs": [
    {
     "name": "stdout",
     "output_type": "stream",
     "text": [
      "[1, 2, -9, 9, 0.9, 0.1, 7, 8]\n"
     ]
    }
   ],
   "source": [
    "only_list = [data[i] for i in range(len(data)) if not data[i] in data[:i]]\n",
    "print(only_list)"
   ]
  },
  {
   "cell_type": "markdown",
   "id": "7f3a018b-81e9-4c4f-b18d-8e4894648e9a",
   "metadata": {},
   "source": [
    "### 7．以下のリストで各要素のそれまでの値の合計のリストを作成せよ。（内包表記で表すこと）"
   ]
  },
  {
   "cell_type": "code",
   "execution_count": 13,
   "id": "c4a88bca-04ce-4bb8-9989-34ac5c563223",
   "metadata": {},
   "outputs": [],
   "source": [
    "num_list = [1,2,3,4,5,6,7,8]"
   ]
  },
  {
   "cell_type": "code",
   "execution_count": 14,
   "id": "9b32201f-d130-4341-9fdd-1bc94862d950",
   "metadata": {},
   "outputs": [
    {
     "name": "stdout",
     "output_type": "stream",
     "text": [
      "[1, 3, 6, 10, 15, 21, 28, 36]\n"
     ]
    }
   ],
   "source": [
    "sum_num = [sum(num_list[:i+1]) for i in range(len(num_list))]\n",
    "print(sum_num)"
   ]
  },
  {
   "cell_type": "code",
   "execution_count": null,
   "id": "e4e71520-5234-4bcf-b9ac-27a47710c4aa",
   "metadata": {},
   "outputs": [],
   "source": []
  }
 ],
 "metadata": {
  "kernelspec": {
   "display_name": "Python 3",
   "language": "python",
   "name": "python3"
  },
  "language_info": {
   "codemirror_mode": {
    "name": "ipython",
    "version": 3
   },
   "file_extension": ".py",
   "mimetype": "text/x-python",
   "name": "python",
   "nbconvert_exporter": "python",
   "pygments_lexer": "ipython3",
   "version": "3.6.13"
  }
 },
 "nbformat": 4,
 "nbformat_minor": 5
}
