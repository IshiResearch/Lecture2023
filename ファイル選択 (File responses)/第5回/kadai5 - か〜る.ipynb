{
 "cells": [
  {
   "cell_type": "code",
   "execution_count": 1,
   "id": "93a758f3-0e9a-45d9-a101-a09f874e5e42",
   "metadata": {
    "tags": []
   },
   "outputs": [],
   "source": [
    "my_list = [1,2,3,100,-4,0.98,61,-78]"
   ]
  },
  {
   "cell_type": "code",
   "execution_count": 17,
   "id": "108d9380-5d86-48ca-87ad-a315a73e0706",
   "metadata": {
    "tags": []
   },
   "outputs": [],
   "source": [
    "mylist = [1, 2, -9, 9, 0.9, 0.9, 1, -9, -9, 0.1, 0.1, 7, 7, 8, 0.9]"
   ]
  },
  {
   "cell_type": "markdown",
   "id": "14408059-7285-4d38-8f69-3b4ce24bf05d",
   "metadata": {},
   "source": [
    "## 1"
   ]
  },
  {
   "cell_type": "code",
   "execution_count": 3,
   "id": "9254bd02-d501-4e91-8ab4-568de2220d37",
   "metadata": {
    "tags": []
   },
   "outputs": [
    {
     "name": "stdout",
     "output_type": "stream",
     "text": [
      "[1, 3, 61]\n"
     ]
    }
   ],
   "source": [
    "new_list = [i for i in my_list if i % 2 == 1]\n",
    "print(new_list)"
   ]
  },
  {
   "cell_type": "markdown",
   "id": "a6ccbf91-82dd-486d-8ff1-15618478207b",
   "metadata": {},
   "source": [
    "## 2"
   ]
  },
  {
   "cell_type": "code",
   "execution_count": 5,
   "id": "817320dd-fba4-4633-856d-16f1236b9697",
   "metadata": {
    "tags": []
   },
   "outputs": [
    {
     "name": "stdout",
     "output_type": "stream",
     "text": [
      "[2, 100, -4, -78]\n"
     ]
    }
   ],
   "source": [
    "new_list2 = [i for i in my_list if i % 2 == 0]\n",
    "print(new_list2)"
   ]
  },
  {
   "cell_type": "markdown",
   "id": "e4197ca2-320c-45d5-8092-5dc15660571b",
   "metadata": {},
   "source": [
    "## 3"
   ]
  },
  {
   "cell_type": "code",
   "execution_count": 6,
   "id": "df74505a-118e-4e13-b001-bfbed07471cc",
   "metadata": {
    "tags": []
   },
   "outputs": [
    {
     "name": "stdout",
     "output_type": "stream",
     "text": [
      "[1, 4, 9, 10000, 16, 0.9603999999999999, 3721, 6084]\n"
     ]
    }
   ],
   "source": [
    "squares_list = [i**2 for i in my_list]\n",
    "print(squares_list)"
   ]
  },
  {
   "cell_type": "markdown",
   "id": "49714297-f14e-41b0-b0ec-f2338984490a",
   "metadata": {},
   "source": [
    "## 4"
   ]
  },
  {
   "cell_type": "code",
   "execution_count": 7,
   "id": "3ec0cf92-5a2f-4782-b73c-ddc48e6c22cc",
   "metadata": {
    "tags": []
   },
   "outputs": [
    {
     "name": "stdout",
     "output_type": "stream",
     "text": [
      "[1, 8, 27, 1000000, -64, 0.9411919999999999, 226981, -474552]\n"
     ]
    }
   ],
   "source": [
    "cube_list = [i**3 for i in my_list]\n",
    "print(cube_list)"
   ]
  },
  {
   "cell_type": "markdown",
   "id": "a3c6d762-1737-45a3-bbf3-a7528a01db46",
   "metadata": {},
   "source": [
    "## 5"
   ]
  },
  {
   "cell_type": "code",
   "execution_count": 16,
   "id": "860e35b0-7ffa-459c-9ce8-c1dbfe176231",
   "metadata": {
    "tags": []
   },
   "outputs": [
    {
     "name": "stdout",
     "output_type": "stream",
     "text": [
      "[1, 8, 9, 1000000, -64, 3721, -474552]\n"
     ]
    }
   ],
   "source": [
    "int_num_list = [i for i in my_list if type(i) == int]\n",
    "num_list = [j**2 if j % 2 == 1 else j**3 for j in int_num_list]\n",
    "print(num_list)"
   ]
  },
  {
   "cell_type": "markdown",
   "id": "a531df8c-5e71-4670-9318-31c70e0cc572",
   "metadata": {},
   "source": [
    "## 6"
   ]
  },
  {
   "cell_type": "code",
   "execution_count": null,
   "id": "1b840760-ee46-40c5-8881-ce9101a96ce8",
   "metadata": {},
   "outputs": [],
   "source": [
    "new_mylist = [i for i in mylist if i in new_mylist]\n",
    "print(new)"
   ]
  }
 ],
 "metadata": {
  "kernelspec": {
   "display_name": "Python 3 (ipykernel)",
   "language": "python",
   "name": "python3"
  },
  "language_info": {
   "codemirror_mode": {
    "name": "ipython",
    "version": 3
   },
   "file_extension": ".py",
   "mimetype": "text/x-python",
   "name": "python",
   "nbconvert_exporter": "python",
   "pygments_lexer": "ipython3",
   "version": "3.8.16"
  }
 },
 "nbformat": 4,
 "nbformat_minor": 5
}
