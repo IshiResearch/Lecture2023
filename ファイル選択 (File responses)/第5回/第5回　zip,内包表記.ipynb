{
 "cells": [
  {
   "cell_type": "code",
   "execution_count": 1,
   "id": "ee42756e-39a3-4562-97a6-ca78de9da518",
   "metadata": {},
   "outputs": [],
   "source": [
    "mylist = [1,2,3,100,-4,0.98,61,-78]"
   ]
  },
  {
   "cell_type": "markdown",
   "id": "bda42ca3-5302-4dd3-a75c-57a7e2287f20",
   "metadata": {},
   "source": [
    "# 1"
   ]
  },
  {
   "cell_type": "code",
   "execution_count": 2,
   "id": "dfb3f664-da2c-47f8-a379-46a8400ef9bc",
   "metadata": {},
   "outputs": [
    {
     "name": "stdout",
     "output_type": "stream",
     "text": [
      "[1, 3, 0.98, 61]\n"
     ]
    }
   ],
   "source": [
    "odds = [i for i in mylist if i % 2 != 0]\n",
    "print(odds)"
   ]
  },
  {
   "cell_type": "markdown",
   "id": "4fc00044-3ead-471d-88c0-4e48f8615568",
   "metadata": {},
   "source": [
    "# 2"
   ]
  },
  {
   "cell_type": "code",
   "execution_count": 3,
   "id": "2248698e-632c-4dc5-a334-1234a6f39cb1",
   "metadata": {},
   "outputs": [
    {
     "name": "stdout",
     "output_type": "stream",
     "text": [
      "[2, 100, -4, -78]\n"
     ]
    }
   ],
   "source": [
    "even = [i for i in mylist if i % 2 == 0]\n",
    "print(even)"
   ]
  },
  {
   "cell_type": "markdown",
   "id": "e5d9b9ca-597a-48a1-bd4c-3c10c7089319",
   "metadata": {},
   "source": [
    "# 3"
   ]
  },
  {
   "cell_type": "code",
   "execution_count": 4,
   "id": "4a3e87b1-7089-48c5-9ee2-1bdfbcb80179",
   "metadata": {},
   "outputs": [
    {
     "name": "stdout",
     "output_type": "stream",
     "text": [
      "[1, 4, 9, 10000, 16, 0.9603999999999999, 3721, 6084]\n"
     ]
    }
   ],
   "source": [
    "list2 = [i**2 for i in mylist]\n",
    "print(list2)"
   ]
  },
  {
   "cell_type": "markdown",
   "id": "a5865552-a537-4dc5-840e-33f40419e57b",
   "metadata": {},
   "source": [
    "# 4"
   ]
  },
  {
   "cell_type": "code",
   "execution_count": 5,
   "id": "08b7fb24-2552-416f-b652-565ce880eb6f",
   "metadata": {},
   "outputs": [
    {
     "name": "stdout",
     "output_type": "stream",
     "text": [
      "[1, 8, 27, 1000000, -64, 0.9411919999999999, 226981, -474552]\n"
     ]
    }
   ],
   "source": [
    "list3 = [i**3 for i in mylist]\n",
    "print(list3)"
   ]
  },
  {
   "cell_type": "markdown",
   "id": "9ab7dea2-f6a6-4999-905e-56ec1c1b8bc5",
   "metadata": {},
   "source": [
    "# 5"
   ]
  },
  {
   "cell_type": "code",
   "execution_count": 6,
   "id": "13266d67-272e-44e0-ad53-b80ef07ff988",
   "metadata": {},
   "outputs": [
    {
     "name": "stdout",
     "output_type": "stream",
     "text": [
      "[1, 8, 9, 1000000, -64, 0.9603999999999999, 3721, -474552]\n"
     ]
    }
   ],
   "source": [
    "odds2even3 = [i**2 if i % 2 != 0 else i**3 for i in mylist]\n",
    "print(odds2even3)"
   ]
  },
  {
   "cell_type": "markdown",
   "id": "16e4ae01-cc5b-4352-aa02-0d5473483d26",
   "metadata": {},
   "source": [
    "# 6　途中"
   ]
  },
  {
   "cell_type": "code",
   "execution_count": 7,
   "id": "0ddc4fa9-314f-441e-99a0-155e6e8a95b7",
   "metadata": {},
   "outputs": [],
   "source": [
    "mylist = [1,2,-9,9,0.9,0.9,1,-9,-9,0.1,0.1,7,7,8,0.9]"
   ]
  },
  {
   "cell_type": "code",
   "execution_count": 8,
   "id": "61db7e4f-a429-456b-91b4-dfecfbc7e20b",
   "metadata": {},
   "outputs": [
    {
     "name": "stdout",
     "output_type": "stream",
     "text": [
      "[1, 2, -9, 9, 0.9, 0.1, 7, 8]\n"
     ]
    }
   ],
   "source": [
    "mylist2 = []\n",
    "result = [mylist2.append(i) for i in mylist if not i in mylist2]\n",
    "print(mylist2)"
   ]
  },
  {
   "cell_type": "code",
   "execution_count": 10,
   "id": "1f1d02fb-e942-49ce-81df-92dc955a586f",
   "metadata": {},
   "outputs": [
    {
     "name": "stdout",
     "output_type": "stream",
     "text": [
      "[1, 9, 0.9, 0.9, 1, 0.1, 7, 7, 8, 0.9]\n"
     ]
    }
   ],
   "source": [
    "# result = [mylist[i] for i in range(len(mylist)) if not i in mylist[i]]\n",
    "result = [mylist[i] for i in range(len(mylist)) if not i in mylist]\n",
    "\n",
    "print(result)"
   ]
  },
  {
   "cell_type": "markdown",
   "id": "e431317e-63ab-43eb-bcf9-fe38a139e6db",
   "metadata": {},
   "source": [
    "# 7 途中"
   ]
  },
  {
   "cell_type": "code",
   "execution_count": null,
   "id": "e960ab4b-4a70-445c-8631-820597dfe238",
   "metadata": {},
   "outputs": [],
   "source": [
    "mylist = [1,2,3,4,5,6,7,8]"
   ]
  },
  {
   "cell_type": "code",
   "execution_count": null,
   "id": "f6251dd7-a662-4460-8458-882fb19ae2f7",
   "metadata": {},
   "outputs": [
    {
     "ename": "SyntaxError",
     "evalue": "invalid syntax (<ipython-input-24-c73841f4414b>, line 3)",
     "output_type": "error",
     "traceback": [
      "\u001b[1;36m  File \u001b[1;32m\"<ipython-input-24-c73841f4414b>\"\u001b[1;36m, line \u001b[1;32m3\u001b[0m\n\u001b[1;33m    result = [newlist.append(total) for i in mylist total += (i+1)]\u001b[0m\n\u001b[1;37m                                                        ^\u001b[0m\n\u001b[1;31mSyntaxError\u001b[0m\u001b[1;31m:\u001b[0m invalid syntax\n"
     ]
    }
   ],
   "source": [
    "newlist = []\n",
    "total = 0\n",
    "result = [newlist.append(total) for i in mylist total += (i+1)]"
   ]
  },
  {
   "cell_type": "code",
   "execution_count": null,
   "id": "854139fb-285f-446c-af47-8640ee929c49",
   "metadata": {},
   "outputs": [],
   "source": [
    "result = []"
   ]
  }
 ],
 "metadata": {
  "kernelspec": {
   "display_name": "Python 3",
   "language": "python",
   "name": "python3"
  },
  "language_info": {
   "codemirror_mode": {
    "name": "ipython",
    "version": 3
   },
   "file_extension": ".py",
   "mimetype": "text/x-python",
   "name": "python",
   "nbconvert_exporter": "python",
   "pygments_lexer": "ipython3",
   "version": "3.9.7"
  }
 },
 "nbformat": 4,
 "nbformat_minor": 5
}
