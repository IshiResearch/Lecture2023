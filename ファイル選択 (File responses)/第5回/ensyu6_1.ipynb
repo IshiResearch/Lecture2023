{
 "cells": [
  {
   "cell_type": "markdown",
   "id": "12314b22-f065-4c09-a4ee-708d4d86c144",
   "metadata": {},
   "source": [
    "# 演習課題6"
   ]
  },
  {
   "cell_type": "code",
   "execution_count": 1,
   "id": "14be2f1e-ebe8-4b36-9faa-0f014b42caa5",
   "metadata": {},
   "outputs": [
    {
     "name": "stdout",
     "output_type": "stream",
     "text": [
      "[1, 3, 0.98, 61]\n"
     ]
    }
   ],
   "source": [
    "#1 リストから奇数を取り出し、新しいリストに追加\n",
    "mylist = [1,2,3,100,-4,0.98,61,-78]\n",
    "\n",
    "odd = [i for i in mylist if i % 2 != 0]\n",
    "print(odd)"
   ]
  },
  {
   "cell_type": "code",
   "execution_count": 2,
   "id": "ad382226-3bd6-4b61-a18a-f52f6d8cf0db",
   "metadata": {
    "tags": []
   },
   "outputs": [
    {
     "name": "stdout",
     "output_type": "stream",
     "text": [
      "[2, 100, -4, -78]\n"
     ]
    }
   ],
   "source": [
    "#2 リストから偶数を取り出し、新しいリストに追加\n",
    "mylist = [1,2,3,100,-4,0.98,61,-78]\n",
    "\n",
    "even = [i for i in mylist if i % 2 == 0]\n",
    "print(even)"
   ]
  },
  {
   "cell_type": "code",
   "execution_count": 3,
   "id": "1da7c891-bd04-4d9b-bcc0-7839215683de",
   "metadata": {
    "tags": []
   },
   "outputs": [
    {
     "name": "stdout",
     "output_type": "stream",
     "text": [
      "[1, 4, 9, 10000, 16, 0.9603999999999999, 3721, 6084]\n"
     ]
    }
   ],
   "source": [
    "#3 リストの各値を二乗し、新しいリストに追加\n",
    "mylist = [1,2,3,100,-4,0.98,61,-78]\n",
    "squares = [i**2 for i in mylist]\n",
    "print(squares)"
   ]
  },
  {
   "cell_type": "code",
   "execution_count": 4,
   "id": "611377b8-d5c9-4520-9012-0ad2f02b7775",
   "metadata": {
    "tags": []
   },
   "outputs": [
    {
     "name": "stdout",
     "output_type": "stream",
     "text": [
      "[1, 8, 27, 1000000, -64, 0.9411919999999999, 226981, -474552]\n"
     ]
    }
   ],
   "source": [
    "#4 リストの各値を三乗し、新しいリストに追加\n",
    "mylist = [1,2,3,100,-4,0.98,61,-78]\n",
    "cubed = [i**3 for i in mylist]\n",
    "print(cubed)"
   ]
  },
  {
   "cell_type": "code",
   "execution_count": 11,
   "id": "5c9014dc-a148-4230-b8c3-6a6631249a8c",
   "metadata": {
    "tags": []
   },
   "outputs": [
    {
     "name": "stdout",
     "output_type": "stream",
     "text": [
      "[1, 8, 9, 1000000, -64, 0.9603999999999999, 3721, -474552]\n"
     ]
    }
   ],
   "source": [
    "#5 リストの奇数を二乗、偶数を三乗し、新しいリストに追加\n",
    "mylist = [1,2,3,100,-4,0.98,61,-78]\n",
    "\n",
    "new_mylist = [i**3 if i % 2 == 0 else i**2 for i in mylist]\n",
    "print(new_mylist)"
   ]
  },
  {
   "cell_type": "code",
   "execution_count": 86,
   "id": "280a0900-cf38-4f7a-804f-96538d3c482d",
   "metadata": {
    "tags": []
   },
   "outputs": [
    {
     "name": "stdout",
     "output_type": "stream",
     "text": [
      "[1, 2, -9, 9, 0.9, 0.1, 7, 8]\n"
     ]
    }
   ],
   "source": [
    "#6 同じ数値を取り除いた新しいリストを作成\n",
    "mylist = [1, 2, -9, 9, 0.9, 0.9, 1, -9, -9, 0.1, 0.1, 7, 7, 8, 0.9]\n",
    "new_mylist = [i for i in mylist if (i in new_mylist) == False]\n",
    "\n",
    "print(new_list)"
   ]
  },
  {
   "cell_type": "code",
   "execution_count": 133,
   "id": "9421c58b-1722-43c0-9fd5-501984e9184e",
   "metadata": {
    "tags": []
   },
   "outputs": [
    {
     "name": "stdout",
     "output_type": "stream",
     "text": [
      "[1, 3, 6, 10, 15, 21, 28, 36]\n"
     ]
    }
   ],
   "source": [
    "#7 各要素のどれまでの値の合計のリストを作成\n",
    "mylist = [1,2,3,4,5,6,7,8]\n",
    "new_list = [sum(mylist[0:i+1]) for i in range(len(mylist))]\n",
    "print(new_list)"
   ]
  },
  {
   "cell_type": "code",
   "execution_count": null,
   "id": "31643207-fb7b-4b23-9f38-ad7a04902875",
   "metadata": {},
   "outputs": [],
   "source": []
  },
  {
   "cell_type": "code",
   "execution_count": null,
   "id": "343ffc62-d88f-4157-8f91-3718b8385caf",
   "metadata": {},
   "outputs": [],
   "source": []
  },
  {
   "cell_type": "code",
   "execution_count": null,
   "id": "b689fe43-6460-4b8c-a790-5f4bdbee86b0",
   "metadata": {},
   "outputs": [],
   "source": []
  },
  {
   "cell_type": "code",
   "execution_count": null,
   "id": "354a2382-210e-44ea-ad96-d7417d740c2f",
   "metadata": {},
   "outputs": [],
   "source": []
  }
 ],
 "metadata": {
  "kernelspec": {
   "display_name": "Python 3 (ipykernel)",
   "language": "python",
   "name": "python3"
  },
  "language_info": {
   "codemirror_mode": {
    "name": "ipython",
    "version": 3
   },
   "file_extension": ".py",
   "mimetype": "text/x-python",
   "name": "python",
   "nbconvert_exporter": "python",
   "pygments_lexer": "ipython3",
   "version": "3.8.16"
  }
 },
 "nbformat": 4,
 "nbformat_minor": 5
}
