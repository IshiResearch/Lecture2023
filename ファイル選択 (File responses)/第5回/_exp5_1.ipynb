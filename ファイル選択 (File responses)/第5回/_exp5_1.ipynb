{
 "cells": [
  {
   "attachments": {},
   "cell_type": "markdown",
   "metadata": {},
   "source": [
    "> **辞書型の内包表記**  \n",
    "内包表記はリストだけでなく、辞書型にも適用することができます。辞書型の内包表記は以下のように書きます。\n",
    "\n",
    "e.g.\n",
    "```python\n",
    "{key: value for key, value in zip(keys, values)}\n",
    "```"
   ]
  },
  {
   "attachments": {},
   "cell_type": "markdown",
   "metadata": {},
   "source": []
  }
 ],
 "metadata": {
  "language_info": {
   "name": "python"
  },
  "orig_nbformat": 4
 },
 "nbformat": 4,
 "nbformat_minor": 2
}
