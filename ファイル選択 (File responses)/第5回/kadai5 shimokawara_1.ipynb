{
 "cells": [
  {
   "cell_type": "markdown",
   "id": "349a3069-c3d0-408b-a888-2589f9c38638",
   "metadata": {},
   "source": [
    "## 1.奇数を取り出し新しいリストを作成。（内包表記） "
   ]
  },
  {
   "cell_type": "code",
   "execution_count": 19,
   "id": "aae8c7de-b48e-4d0c-89be-54e99739d67a",
   "metadata": {
    "tags": []
   },
   "outputs": [],
   "source": [
    "mylist = [1,2,3,100,-4,0.98,61,-78]"
   ]
  },
  {
   "cell_type": "code",
   "execution_count": 20,
   "id": "092a2634-4848-4383-a460-a17729e4947f",
   "metadata": {
    "tags": []
   },
   "outputs": [
    {
     "name": "stdout",
     "output_type": "stream",
     "text": [
      "[1, 3, 61]\n"
     ]
    }
   ],
   "source": [
    "kisu = [i for i in mylist if i % 2 != 0 and isinstance(i, int)== True]\n",
    "print(kisu)"
   ]
  },
  {
   "cell_type": "markdown",
   "id": "87492332-12dc-4514-abc2-99a4a89b6c2a",
   "metadata": {},
   "source": [
    "## 2.偶数を取り出し新しいリストを作成。（内包表記）"
   ]
  },
  {
   "cell_type": "code",
   "execution_count": 21,
   "id": "684a981f-3665-4c91-b388-dec03a4910c6",
   "metadata": {
    "tags": []
   },
   "outputs": [
    {
     "name": "stdout",
     "output_type": "stream",
     "text": [
      "[2, 100, -4, -78]\n"
     ]
    }
   ],
   "source": [
    "gusu = [i for i in mylist if i % 2 == 0 and isinstance(i, int) == True]\n",
    "print(gusu)"
   ]
  },
  {
   "cell_type": "markdown",
   "id": "d94a1017-7006-4404-9904-f4fb9c667bac",
   "metadata": {},
   "source": [
    "## 3.各値を二乗し、新しいリストを作成。（内包表記）"
   ]
  },
  {
   "cell_type": "code",
   "execution_count": 22,
   "id": "85569e25-fbaf-4ae8-9e1e-edbac1264335",
   "metadata": {
    "tags": []
   },
   "outputs": [
    {
     "name": "stdout",
     "output_type": "stream",
     "text": [
      "[1, 4, 9, 10000, 16, 0.9603999999999999, 3721, 6084]\n"
     ]
    }
   ],
   "source": [
    "nijyou = [i**2 for i in mylist]\n",
    "print(nijyou)"
   ]
  },
  {
   "cell_type": "markdown",
   "id": "8086d3cf-9c3a-4558-b632-9e5409cbf4b3",
   "metadata": {},
   "source": [
    "## 4.各値を三乗し、新しいリストを作成。（内包表記）"
   ]
  },
  {
   "cell_type": "code",
   "execution_count": 23,
   "id": "de4a76d1-bc63-41e7-9f37-a25f22cb0fee",
   "metadata": {
    "tags": []
   },
   "outputs": [
    {
     "name": "stdout",
     "output_type": "stream",
     "text": [
      "[1, 8, 27, 1000000, -64, 0.9411919999999999, 226981, -474552]\n"
     ]
    }
   ],
   "source": [
    "sanjyou = [i**3 for i in mylist]\n",
    "print(sanjyou)"
   ]
  },
  {
   "cell_type": "markdown",
   "id": "b0c0047b-c925-472e-a362-44019167524d",
   "metadata": {},
   "source": [
    "## 5.奇数を二乗し、偶数を三乗。（内包表記）"
   ]
  },
  {
   "cell_type": "code",
   "execution_count": 31,
   "id": "776c2aa3-6bb2-4e07-aae1-9a9d856b6137",
   "metadata": {
    "tags": []
   },
   "outputs": [
    {
     "name": "stdout",
     "output_type": "stream",
     "text": [
      "[1, 8, 9, 1000000, -64, 0.9411919999999999, 3721, -474552]\n"
     ]
    }
   ],
   "source": [
    "nisanjyou = [i**2 if i % 2 != 0 and isinstance(i, int) == True else i**3 for i in mylist ]\n",
    "print(nisanjyou)"
   ]
  },
  {
   "cell_type": "markdown",
   "id": "a23fc46e-c801-4eed-8cf1-93fc95841ca5",
   "metadata": {},
   "source": [
    "## 6.同じ数字を除いたリストを作成。（内包表記）"
   ]
  },
  {
   "cell_type": "code",
   "execution_count": 3,
   "id": "57a04e6b-efa3-4983-a396-7183db5aae97",
   "metadata": {
    "tags": []
   },
   "outputs": [],
   "source": [
    "mylist = [1,2,-9,9,0.9,0.9,1,-9,-9,0.1,0.1,7,7,8,0.9]"
   ]
  },
  {
   "cell_type": "code",
   "execution_count": 24,
   "id": "feb47fb8-21a0-4ef3-a24a-cdd50dfc28b9",
   "metadata": {
    "tags": []
   },
   "outputs": [
    {
     "name": "stdout",
     "output_type": "stream",
     "text": [
      "[1, 2, -9, 9, 0.9, 0.1, 7, 8]\n"
     ]
    }
   ],
   "source": [
    "new_list = []\n",
    "[new_list.append(i) for i in mylist if not i in new_list]\n",
    "print(new_list)"
   ]
  },
  {
   "cell_type": "markdown",
   "id": "2e8e4269-1975-4ac0-ba40-82a911867de5",
   "metadata": {},
   "source": [
    "## 7.各要素のそれまでの合計"
   ]
  },
  {
   "cell_type": "code",
   "execution_count": 56,
   "id": "aacceb42-be84-4089-a527-3fa164d74410",
   "metadata": {
    "tags": []
   },
   "outputs": [],
   "source": [
    "mylist = [1,2,3,4,5,6,7,8]"
   ]
  },
  {
   "cell_type": "code",
   "execution_count": 1,
   "id": "ceb2c1cf",
   "metadata": {
    "tags": []
   },
   "outputs": [
    {
     "name": "stdout",
     "output_type": "stream",
     "text": [
      "[1, 3, 6, 10, 15, 21, 28, 36]\n"
     ]
    }
   ],
   "source": [
    "mylist = [1,2,3,4,5,6,7,8]\n",
    "goukei = [sum(mylist[:i]) for i in mylist]\n",
    "print(goukei)"
   ]
  },
  {
   "cell_type": "code",
   "execution_count": null,
   "id": "0cc95c02-4280-40f5-ba7e-96268058f7aa",
   "metadata": {},
   "outputs": [],
   "source": []
  },
  {
   "cell_type": "code",
   "execution_count": null,
   "id": "d8f13e74-4f03-4922-b35c-f7873112a8d1",
   "metadata": {},
   "outputs": [],
   "source": []
  },
  {
   "cell_type": "code",
   "execution_count": null,
   "id": "4f101c71-7fb4-4469-8bb6-5cd652678a75",
   "metadata": {},
   "outputs": [],
   "source": []
  }
 ],
 "metadata": {
  "kernelspec": {
   "display_name": "Python 3 (ipykernel)",
   "language": "python",
   "name": "python3"
  },
  "language_info": {
   "codemirror_mode": {
    "name": "ipython",
    "version": 3
   },
   "file_extension": ".py",
   "mimetype": "text/x-python",
   "name": "python",
   "nbconvert_exporter": "python",
   "pygments_lexer": "ipython3",
   "version": "3.8.16"
  }
 },
 "nbformat": 4,
 "nbformat_minor": 5
}
