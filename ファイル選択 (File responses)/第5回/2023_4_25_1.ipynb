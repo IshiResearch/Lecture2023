{
 "cells": [
  {
   "cell_type": "code",
   "execution_count": 1,
   "id": "4058fb6f-2292-4130-8477-101b61977172",
   "metadata": {
    "tags": []
   },
   "outputs": [],
   "source": [
    "mylist = [1,2,3,100,-4,0.98,61,-78]"
   ]
  },
  {
   "cell_type": "code",
   "execution_count": 2,
   "id": "9ad1a294-1ff0-44b0-8325-c28e889eaa09",
   "metadata": {
    "tags": []
   },
   "outputs": [
    {
     "name": "stdout",
     "output_type": "stream",
     "text": [
      "[1, 3, 0.98, 61]\n"
     ]
    }
   ],
   "source": [
    "odds = [i for i in mylist if i % 2 != 0]\n",
    "print(odds)"
   ]
  },
  {
   "cell_type": "code",
   "execution_count": 4,
   "id": "c089ef18-4b66-4b5d-b922-a07c8a2fcb89",
   "metadata": {
    "tags": []
   },
   "outputs": [
    {
     "name": "stdout",
     "output_type": "stream",
     "text": [
      "[2, 100, -4, -78]\n"
     ]
    }
   ],
   "source": [
    "even = [i for i in mylist if i % 2 == 0]\n",
    "print(even)"
   ]
  },
  {
   "cell_type": "code",
   "execution_count": 5,
   "id": "9db3bca5-1e1c-4c1f-abe4-8072c41d9d77",
   "metadata": {
    "tags": []
   },
   "outputs": [
    {
     "name": "stdout",
     "output_type": "stream",
     "text": [
      "[1, 4, 9, 10000, 16, 0.9603999999999999, 3721, 6084]\n"
     ]
    }
   ],
   "source": [
    "mylist_2 = [i**2 for i in mylist ]\n",
    "print(mylist_2)"
   ]
  },
  {
   "cell_type": "code",
   "execution_count": 6,
   "id": "424bb6e2-2caa-475a-816b-28a2bee0308d",
   "metadata": {
    "tags": []
   },
   "outputs": [
    {
     "name": "stdout",
     "output_type": "stream",
     "text": [
      "[1, 8, 27, 1000000, -64, 0.9411919999999999, 226981, -474552]\n"
     ]
    }
   ],
   "source": [
    "mylist_3 = [i**3 for i in mylist ]\n",
    "print(mylist_3)"
   ]
  },
  {
   "cell_type": "code",
   "execution_count": 8,
   "id": "71bbf7ff-3b33-4fea-95d1-0a9847c8af19",
   "metadata": {
    "tags": []
   },
   "outputs": [
    {
     "name": "stdout",
     "output_type": "stream",
     "text": [
      "[1, 8, 9, 1000000, -64, 0.9603999999999999, 3721, -474552]\n"
     ]
    }
   ],
   "source": [
    "mylist_o2_e3 = [i**2 if i % 2 != 0 else i**3 for i in mylist ]\n",
    "print(mylist_o2_e3)"
   ]
  },
  {
   "cell_type": "code",
   "execution_count": 24,
   "id": "cefe1534-b4ad-4e49-b228-387e59460fe8",
   "metadata": {
    "tags": []
   },
   "outputs": [
    {
     "name": "stdout",
     "output_type": "stream",
     "text": [
      "[0.9, 1, 2, 0.1, 7, 8, 9, -9]\n"
     ]
    }
   ],
   "source": [
    "mylist = [1, 2, -9, 9, 0.9, 0.9, 1, -9, -9, 0.1, 0.1, 7, 7, 8]\n",
    "new_mylist = [i for i in set(mylist) ]\n",
    "print(new_mylist)"
   ]
  },
  {
   "cell_type": "code",
   "execution_count": 11,
   "id": "07587f51-b181-40d9-b928-277fee25ec8d",
   "metadata": {
    "tags": []
   },
   "outputs": [
    {
     "name": "stdout",
     "output_type": "stream",
     "text": [
      "[1, 3, 6, 10, 15, 21, 28, 36]\n"
     ]
    }
   ],
   "source": [
    "mylist = [1,2,3,4,5,6,7,8]\n",
    "new_mylist = [int((i+1)*i/2) for i in mylist ]\n",
    "print(new_mylist)"
   ]
  },
  {
   "cell_type": "code",
   "execution_count": null,
   "id": "a097b3b9-c692-49fd-b1be-ad67458a95e3",
   "metadata": {},
   "outputs": [],
   "source": []
  }
 ],
 "metadata": {
  "kernelspec": {
   "display_name": "Python 3 (ipykernel)",
   "language": "python",
   "name": "python3"
  },
  "language_info": {
   "codemirror_mode": {
    "name": "ipython",
    "version": 3
   },
   "file_extension": ".py",
   "mimetype": "text/x-python",
   "name": "python",
   "nbconvert_exporter": "python",
   "pygments_lexer": "ipython3",
   "version": "3.8.16"
  }
 },
 "nbformat": 4,
 "nbformat_minor": 5
}
