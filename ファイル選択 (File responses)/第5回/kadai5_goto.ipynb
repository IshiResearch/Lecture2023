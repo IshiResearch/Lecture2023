{
 "cells": [
  {
   "cell_type": "markdown",
   "id": "ea0f9e66-fa64-4266-8975-d28cb7a39bd0",
   "metadata": {
    "tags": []
   },
   "source": [
    "# 課題"
   ]
  },
  {
   "cell_type": "code",
   "execution_count": 19,
   "id": "ab4a148e-35e5-4e6f-9b13-e99a51e80528",
   "metadata": {
    "tags": []
   },
   "outputs": [],
   "source": [
    "my_list = [1, 2, 3, 100, -4, 0.98, 61, -78]"
   ]
  },
  {
   "cell_type": "markdown",
   "id": "254854d7-a625-48dd-8305-f7d7f0f5836a",
   "metadata": {},
   "source": [
    "## 1-リストから奇数を取り出し新しいリストを作成する"
   ]
  },
  {
   "cell_type": "code",
   "execution_count": 20,
   "id": "f93424f2-2f26-4e91-a7e5-87b8f886135e",
   "metadata": {
    "tags": []
   },
   "outputs": [
    {
     "name": "stdout",
     "output_type": "stream",
     "text": [
      "[1, 3, 61]\n"
     ]
    }
   ],
   "source": [
    "odd = [i for i in my_list if i % 2 == 1]\n",
    "print(odd)"
   ]
  },
  {
   "cell_type": "markdown",
   "id": "d3430ca8-c539-4a6c-b363-3f1d0d7fedbf",
   "metadata": {},
   "source": [
    "## 2-リストから偶数を取り出し新しいリストを作成する"
   ]
  },
  {
   "cell_type": "code",
   "execution_count": 21,
   "id": "38bfc90e-1a2b-4740-8568-9a5b08a53704",
   "metadata": {
    "tags": []
   },
   "outputs": [
    {
     "name": "stdout",
     "output_type": "stream",
     "text": [
      "[2, 100, -4, -78]\n"
     ]
    }
   ],
   "source": [
    "even = [i for i in my_list if i % 2 == 0]\n",
    "print(even)"
   ]
  },
  {
   "cell_type": "markdown",
   "id": "e0343dbd-3ec7-48b5-87a4-502ec7aa4a38",
   "metadata": {},
   "source": [
    "## 3-リストの各値を二乗し新しいリストを作成する"
   ]
  },
  {
   "cell_type": "code",
   "execution_count": 22,
   "id": "5331d897-0230-4001-a834-a13b58067ed5",
   "metadata": {
    "tags": []
   },
   "outputs": [
    {
     "name": "stdout",
     "output_type": "stream",
     "text": [
      "[1, 4, 9, 10000, 16, 0.9603999999999999, 3721, 6084]\n"
     ]
    }
   ],
   "source": [
    "square = [i ** 2 for i in my_list]\n",
    "print(square)"
   ]
  },
  {
   "cell_type": "markdown",
   "id": "70721a16-5993-46c8-acce-639c599209c7",
   "metadata": {},
   "source": [
    "## 4-リストの各値を三乗し新しいリストを作成する"
   ]
  },
  {
   "cell_type": "code",
   "execution_count": 23,
   "id": "54e1ae13-ed81-4f9f-a5c2-01ca1de7c328",
   "metadata": {
    "tags": []
   },
   "outputs": [
    {
     "name": "stdout",
     "output_type": "stream",
     "text": [
      "[1, 8, 27, 1000000, -64, 0.9411919999999999, 226981, -474552]\n"
     ]
    }
   ],
   "source": [
    "cube = [i ** 3 for i in my_list]\n",
    "print(cube)"
   ]
  },
  {
   "cell_type": "markdown",
   "id": "bb3c4282-8d18-463a-bdf0-4190222c0288",
   "metadata": {},
   "source": [
    "## 5-リストの奇数を二乗、偶数を三乗し新しいリストを作成する"
   ]
  },
  {
   "cell_type": "code",
   "execution_count": 24,
   "id": "13b6429a-abae-49da-b9d2-6c3f88443e88",
   "metadata": {
    "tags": []
   },
   "outputs": [
    {
     "name": "stdout",
     "output_type": "stream",
     "text": [
      "[1, 8, 9, 1000000, -64, 0.98, 3721, -474552]\n"
     ]
    }
   ],
   "source": [
    "odd_even = [i ** 2 if i % 2 == 1 else i ** 3 if i % 2 == 0 else i for i in my_list]\n",
    "print(odd_even)"
   ]
  },
  {
   "cell_type": "markdown",
   "id": "042f7df3-d35d-4c1f-8351-f290126db0b8",
   "metadata": {
    "tags": []
   },
   "source": [
    "## 6-同じ数値を取り除いた新しいリストを作成する"
   ]
  },
  {
   "cell_type": "code",
   "execution_count": 27,
   "id": "98ef9bd9-058b-4166-8044-060d4d67fe91",
   "metadata": {
    "tags": []
   },
   "outputs": [
    {
     "name": "stdout",
     "output_type": "stream",
     "text": [
      "[1, 2, -9, 9, 0.9, 0.1, 7, 8]\n"
     ]
    }
   ],
   "source": [
    "my_list = [1, 2, -9, 9, 0.9, 0.9, 1, -9, -9, 0.1, 0.1, 7, 7, 8, 0.9]\n",
    "exclude = [j for i, j in enumerate(my_list) if j not in my_list[:i]]\n",
    "print(exclude) #正解は1, 2, -9, 9, 0.9, 0.1, 7, 8"
   ]
  },
  {
   "cell_type": "markdown",
   "id": "27773e69-bb00-4f02-9a05-d89688a5afcd",
   "metadata": {
    "tags": []
   },
   "source": [
    "## 7-各要素のそれまでの値の合計のリストを作成する"
   ]
  },
  {
   "cell_type": "code",
   "execution_count": 28,
   "id": "8e4280bc-9d05-4e0a-9713-0df84e87bc44",
   "metadata": {
    "tags": []
   },
   "outputs": [
    {
     "name": "stdout",
     "output_type": "stream",
     "text": [
      "[1, 3, 6, 10, 15, 21, 28, 36]\n"
     ]
    }
   ],
   "source": [
    "my_list = [1, 2, 3, 4, 5, 6, 7, 8]\n",
    "sum_list = [sum(my_list[:i]) for i in my_list]\n",
    "print(sum_list)"
   ]
  },
  {
   "cell_type": "code",
   "execution_count": null,
   "id": "aeb6dd84-31ce-4673-8caa-f047ddf28693",
   "metadata": {},
   "outputs": [],
   "source": []
  }
 ],
 "metadata": {
  "kernelspec": {
   "display_name": "Python 3 (ipykernel)",
   "language": "python",
   "name": "python3"
  },
  "language_info": {
   "codemirror_mode": {
    "name": "ipython",
    "version": 3
   },
   "file_extension": ".py",
   "mimetype": "text/x-python",
   "name": "python",
   "nbconvert_exporter": "python",
   "pygments_lexer": "ipython3",
   "version": "3.8.16"
  }
 },
 "nbformat": 4,
 "nbformat_minor": 5
}
