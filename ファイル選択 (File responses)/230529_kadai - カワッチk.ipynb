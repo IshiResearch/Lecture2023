{
 "cells": [
  {
   "cell_type": "code",
   "execution_count": 1,
   "id": "8c32c7f7-208c-4a61-90aa-5275155f5775",
   "metadata": {},
   "outputs": [],
   "source": [
    "import cv2"
   ]
  },
  {
   "cell_type": "markdown",
   "id": "5824bbb9-2578-450d-b505-1a5ac381cfbb",
   "metadata": {
    "tags": []
   },
   "source": [
    "### 1. Football.zip内のフレーム画像から動画を再構成し、再構築した動画を保存してください。"
   ]
  },
  {
   "cell_type": "code",
   "execution_count": 2,
   "id": "9d05242a-fe91-44c9-bc89-3d30be88ac64",
   "metadata": {},
   "outputs": [],
   "source": [
    "img_picture = []\n",
    "for i in range(247):\n",
    "    img = cv2.imread(\"C:\\\\Users\\\\koudaisei\\\\kawamura\\\\Football\\\\\"+str(i+1)+\".jpg\")\n",
    "    img_picture.append(img)\n",
    "    "
   ]
  },
  {
   "cell_type": "code",
   "execution_count": 3,
   "id": "9c394166-38fd-4e77-9df5-f24633f23c01",
   "metadata": {},
   "outputs": [],
   "source": [
    "name = \"Write_Football.mp4\"\n",
    "fourcc = cv2.VideoWriter_fourcc(\"m\", \"p\", \"4\", \"v\")\n",
    "fps = 10.0\n",
    "size = (1920, 1080)\n",
    "out = cv2.VideoWriter(name, fourcc, fps, size)\n",
    "\n",
    "for i in range(len(img_picture)):\n",
    "    out.write(img_picture[i])\n",
    "out.release()"
   ]
  },
  {
   "cell_type": "markdown",
   "id": "4fb0c121-fc4e-498e-af58-d745f7befae5",
   "metadata": {
    "tags": []
   },
   "source": [
    "### 2. Football.zip内のフレーム画像を幅720,⾼さ480の動画に再構成、保存してください。"
   ]
  },
  {
   "cell_type": "code",
   "execution_count": 4,
   "id": "b2d91d7a-84a4-4959-8e0e-9631e20f72ff",
   "metadata": {},
   "outputs": [],
   "source": [
    "img_picture = []\n",
    "for i in range(247):\n",
    "    img = cv2.imread(\"C:\\\\Users\\\\koudaisei\\\\kawamura\\\\Football\\\\\"+str(i+1)+\".jpg\")\n",
    "    img_resize = cv2.resize(img, dsize=(720, 480))\n",
    "    img_picture.append(img_resize)\n",
    "    "
   ]
  },
  {
   "cell_type": "code",
   "execution_count": 5,
   "id": "c8d64a7c-0e96-4a34-9c46-6994fae9d9c9",
   "metadata": {},
   "outputs": [],
   "source": [
    "name = \"Write_Football_resize.mp4\"\n",
    "fourcc =  cv2.VideoWriter_fourcc(\"m\", \"p\", \"4\", \"v\")\n",
    "fps = 10.0\n",
    "size = (720, 480)\n",
    "out = cv2.VideoWriter(name, fourcc, fps, size)\n",
    "\n",
    "for i in range(len(img_picture)):\n",
    "    out.write(img_picture[i])\n",
    "out.release()"
   ]
  },
  {
   "cell_type": "markdown",
   "id": "d4ddf7b8-de6b-432f-9335-4e2b1989dcef",
   "metadata": {
    "tags": []
   },
   "source": [
    "### 3. FOURCCをH.264形式で保存してください。"
   ]
  },
  {
   "cell_type": "code",
   "execution_count": 6,
   "id": "73816ae6-0b25-4e98-82a0-939a31b9580f",
   "metadata": {},
   "outputs": [],
   "source": [
    "img_picture = []\n",
    "for i in range(247):\n",
    "    img = cv2.imread(\"C:\\\\Users\\\\koudaisei\\\\kawamura\\\\Football\\\\\"+str(i+1)+\".jpg\")\n",
    "    img_picture.append(img)"
   ]
  },
  {
   "cell_type": "code",
   "execution_count": 7,
   "id": "9d9989be-1019-48b4-a6b1-bd254cbcbeab",
   "metadata": {},
   "outputs": [],
   "source": [
    "name = \"Write_Football_H264.mp4\"\n",
    "fourcc = cv2.VideoWriter_fourcc(*\"h264\")\n",
    "fps = 10.0\n",
    "size = (1920, 1080)\n",
    "out = cv2.VideoWriter(name, fourcc, fps, size)\n",
    "\n",
    "for i in range(len(img_picture)):\n",
    "    out.write(img_picture[i])\n",
    "out.release()"
   ]
  },
  {
   "cell_type": "markdown",
   "id": "323f8c44-9761-4094-bff7-41093a1e9211",
   "metadata": {
    "tags": []
   },
   "source": [
    "### 4. 前回の⼿のひらを検出するプログラムをコピー・修正し、10FPS, 1FPSで保存してください。"
   ]
  },
  {
   "cell_type": "code",
   "execution_count": 8,
   "id": "ffa138a6-5b0a-4ff7-8153-c8f882ac037c",
   "metadata": {},
   "outputs": [],
   "source": [
    "import cv2\n",
    "import numpy as np\n",
    "import matplotlib.pyplot as plt\n",
    "\n",
    "H       = 5\n",
    "S       = 93\n",
    "V       = 126\n",
    "H_range = 5\n",
    "S_range = 30\n",
    "V_range = 50\n",
    "    \n",
    "upper = np.array([H+H_range, S+S_range, V+V_range])\n",
    "lower = np.array([H-H_range, S-S_range, V-V_range])\n",
    "ker_size = 5\n",
    "num = 10\n",
    "picture = []\n",
    "\n",
    "cap = cv2.VideoCapture(0)\n",
    "while cap.isOpened():\n",
    "    retval, frame = cap.read()\n",
    "    if retval is None:\n",
    "        print(\"capture error\")\n",
    "        break\n",
    "    \n",
    "    img_hsv = cv2.cvtColor(frame, cv2.COLOR_BGR2HSV)\n",
    "    \n",
    "    img_range = cv2.inRange(img_hsv, lower, upper)\n",
    "    kernel = np.ones((ker_size, ker_size), np.uint8)\n",
    "    img_dilate = cv2.dilate(img_range, kernel, iterations=10)\n",
    "    img_erode = cv2.erode(img_dilate, kernel, iterations=10)\n",
    "\n",
    "    contours, hierarchy = cv2.findContours(img_erode, cv2.RETR_EXTERNAL, cv2.CHAIN_APPROX_NONE)\n",
    "    \n",
    "    for each_contour in contours:\n",
    "        x, y, w, h = cv2.boundingRect(each_contour)\n",
    "        img_rect = cv2.rectangle(frame, (x, y), (x+w, y+h), (0, 0, 255), 3)\n",
    "    \n",
    "    cv2.imshow(\"capture_1\", frame)\n",
    "    \n",
    "    key = cv2.waitKey(100)\n",
    "    picture.append(frame)\n",
    "    if key == 27:\n",
    "        break\n",
    "    \n",
    "cap.release()\n",
    "cv2.destroyAllWindows()"
   ]
  },
  {
   "cell_type": "code",
   "execution_count": 9,
   "id": "c768c87c-2187-422b-9ece-8492d8e39226",
   "metadata": {},
   "outputs": [],
   "source": [
    "name_10 = \"Write_hand_10fps.mp4\"\n",
    "name_1 = \"Write_hand_1fps.mp4\"\n",
    "fourcc =  cv2.VideoWriter_fourcc(\"m\", \"p\", \"4\", \"v\")\n",
    "fps_10 = 10.0\n",
    "fps_1 = 1.0\n",
    "size = (640, 480)\n",
    "\n",
    "out_10 = cv2.VideoWriter(name_10, fourcc, fps_10, size)\n",
    "out_1 = cv2.VideoWriter(name_1, fourcc, fps_1, size)\n",
    "\n",
    "for i in range(len(picture)):\n",
    "    out_10.write(picture[i])\n",
    "\n",
    "for i in range(len(picture)//10 + 1):\n",
    "    out_1.write(picture[i*10])\n",
    "\n",
    "out_10.release()\n",
    "out_1.release()"
   ]
  },
  {
   "cell_type": "markdown",
   "id": "77a2b13e-81f0-4dcf-9ddf-3aa17b392289",
   "metadata": {
    "tags": []
   },
   "source": [
    "### 5. 以下のコードを書き換えて、\"a\"キーが押されたら5秒巻き戻し、\"d\"キーが押されたら5秒スキップするプログラムを作成してください。"
   ]
  },
  {
   "cell_type": "code",
   "execution_count": 13,
   "id": "47f97560-1122-4b99-b850-236aabc4fd5e",
   "metadata": {
    "tags": []
   },
   "outputs": [
    {
     "name": "stdout",
     "output_type": "stream",
     "text": [
      "247.0"
     ]
    }
   ],
   "source": [
    "import cv2\n",
    "cap = cv2.VideoCapture(\"Write_Football.mp4\")\n",
    "while True:\n",
    "    ret, frame = cap.read()\n",
    "    frame_count = cap.get(cv2.CAP_PROP_POS_FRAMES)\n",
    "    before = frame_count - 50\n",
    "    after = frame_count + 50\n",
    "    print(f\"\\r{frame_count}\", end=\"\")\n",
    "    if ret == False:\n",
    "        break\n",
    " \n",
    "    cv2.putText(frame, str(frame_count), (10, 50), cv2.FONT_HERSHEY_TRIPLEX, 2, (0, 0, 0), 5)\n",
    "    cv2.imshow(\"Video\", frame)\n",
    "    \n",
    "    if cv2.waitKey(1) == ord('a'):\n",
    "        cap.set(cv2.CAP_PROP_POS_FRAMES, before)\n",
    "    elif cv2.waitKey(1) == ord('d'):\n",
    "        cap.set(cv2.CAP_PROP_POS_FRAMES, after)\n",
    "cap.release()\n",
    "cv2.destroyAllWindows()"
   ]
  },
  {
   "cell_type": "code",
   "execution_count": null,
   "id": "866d8f03-6e6a-459d-9b10-6bd33242c1be",
   "metadata": {},
   "outputs": [],
   "source": []
  }
 ],
 "metadata": {
  "kernelspec": {
   "display_name": "Python 3 (ipykernel)",
   "language": "python",
   "name": "python3"
  },
  "language_info": {
   "codemirror_mode": {
    "name": "ipython",
    "version": 3
   },
   "file_extension": ".py",
   "mimetype": "text/x-python",
   "name": "python",
   "nbconvert_exporter": "python",
   "pygments_lexer": "ipython3",
   "version": "3.8.16"
  }
 },
 "nbformat": 4,
 "nbformat_minor": 5
}
