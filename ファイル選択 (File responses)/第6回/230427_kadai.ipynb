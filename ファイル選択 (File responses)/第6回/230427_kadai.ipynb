{
 "cells": [
  {
   "attachments": {},
   "cell_type": "markdown",
   "id": "cdeb360e-a485-4300-afa4-a72132cddfe8",
   "metadata": {
    "tags": []
   },
   "source": [
    "### １．複素数の四則演算の関数を作成してください．"
   ]
  },
  {
   "cell_type": "code",
   "execution_count": 1,
   "id": "5ff307f6-6620-425a-827f-73a39997433e",
   "metadata": {},
   "outputs": [],
   "source": [
    "class MyClass():\n",
    "    def __init__(self, a, b):\n",
    "        self.a = a\n",
    "        self.b = b\n",
    "        \n",
    "    def my_print(self):\n",
    "        print(f\"add : {self.a} + {self.b}i\")\n",
    "        \n",
    "    def my_add(self, c, d):\n",
    "        self.a += c\n",
    "        self.b += d\n",
    "    "
   ]
  },
  {
   "cell_type": "code",
   "execution_count": 2,
   "id": "6c377475-ccd5-49f4-b6dd-ae915b394915",
   "metadata": {},
   "outputs": [
    {
     "name": "stdout",
     "output_type": "stream",
     "text": [
      "add : 5 + 3i\n"
     ]
    }
   ],
   "source": [
    "a = 3\n",
    "b = 2\n",
    "c = 2\n",
    "d = 1\n",
    "my_class = MyClass(a, b)\n",
    "my_class.my_add(c, d)\n",
    "my_class.my_print()"
   ]
  },
  {
   "cell_type": "code",
   "execution_count": null,
   "id": "aae4a50c-b0d0-4d5a-a32d-f60825d40fbc",
   "metadata": {},
   "outputs": [],
   "source": []
  },
  {
   "attachments": {},
   "cell_type": "markdown",
   "id": "3f86c0ee-7699-49f0-a3e0-7d0bd116cf80",
   "metadata": {},
   "source": [
    "### ２．複素数の四則演算ができるメソッドを含めたクラスを作成してください．（特殊メソッド無し）\n"
   ]
  },
  {
   "cell_type": "code",
   "execution_count": 3,
   "id": "c71a0686-dc18-4d0a-a447-d74b496fdbde",
   "metadata": {},
   "outputs": [],
   "source": [
    "class MyClass():\n",
    "    a = 3\n",
    "    b = 2\n",
    "    c = 2\n",
    "    d = 1"
   ]
  },
  {
   "cell_type": "code",
   "execution_count": 4,
   "id": "e20c12fc-327c-48aa-8306-cbaea992da52",
   "metadata": {},
   "outputs": [],
   "source": [
    "my_class = MyClass()"
   ]
  },
  {
   "cell_type": "code",
   "execution_count": 5,
   "id": "b2965ca1-279f-4a1f-a057-64669fb1ab84",
   "metadata": {},
   "outputs": [
    {
     "name": "stdout",
     "output_type": "stream",
     "text": [
      "add = 5 + 3i\n"
     ]
    }
   ],
   "source": [
    "print(f\"add = {my_class.a+c} + {my_class.b+d}i\")"
   ]
  },
  {
   "cell_type": "code",
   "execution_count": null,
   "id": "f75fa2a0-fdbb-4944-b89b-a3fef04e079d",
   "metadata": {},
   "outputs": [],
   "source": []
  },
  {
   "attachments": {},
   "cell_type": "markdown",
   "id": "fe919520-f49f-4881-8c6a-622de762beee",
   "metadata": {},
   "source": [
    "### ３．複素数の四則演算をできるメソッドを含めたクラスを作成してください．（特殊メソッド有り）(__add__, __sub__, ...)"
   ]
  },
  {
   "cell_type": "code",
   "execution_count": 1,
   "id": "44bd2391-1c3d-4bea-b367-b00e46b274ef",
   "metadata": {},
   "outputs": [],
   "source": [
    "class Comprex():\n",
    "    def __init__(self, real_num, imaginary_num):\n",
    "        self.real_num = real_num\n",
    "        self.imaginary_num = imaginary_num\n",
    "        \n",
    "    def __add__(self, other):\n",
    "        r_num = self.real_num + other.real_num\n",
    "        i_num = self.imaginary_num + other.imaginary_num\n",
    "        \n",
    "        return Comprex(r_num, i_num)"
   ]
  },
  {
   "cell_type": "code",
   "execution_count": 2,
   "id": "57a8d459-69b2-466f-af60-ebbd2394f9aa",
   "metadata": {},
   "outputs": [
    {
     "name": "stdout",
     "output_type": "stream",
     "text": [
      "add : 5 + 3i\n"
     ]
    }
   ],
   "source": [
    "a = Comprex(3, 2)\n",
    "b = Comprex(2, 1)\n",
    "\n",
    "c = a + b\n",
    "\n",
    "print(f\"add : {c.real_num} + {c.imaginary_num}i\")"
   ]
  },
  {
   "cell_type": "code",
   "execution_count": null,
   "id": "f99a0975-be1f-4503-8032-14e26990b419",
   "metadata": {},
   "outputs": [],
   "source": []
  },
  {
   "attachments": {},
   "cell_type": "markdown",
   "id": "6eddea29-5254-4489-be41-d27160de251f",
   "metadata": {
    "tags": []
   },
   "source": [
    "### EX. レースゲーム"
   ]
  },
  {
   "cell_type": "raw",
   "id": "182a6086-937f-4a54-ad68-3d9423a5dd81",
   "metadata": {},
   "source": [
    "・レースをする．（距離は 1000 m）\n",
    "・赤，青，緑の車がある．\n",
    "・車のスペック・特徴は，色，速度，燃料，燃費，進んだ距離．\n",
    "・車の行動は，給油，ステップを進める，ゴールする．\n",
    "・燃料が無くなったら満タンになるまで給油する．"
   ]
  },
  {
   "cell_type": "code",
   "execution_count": 8,
   "id": "671e4348-ef80-48a2-b384-5f968762c79a",
   "metadata": {},
   "outputs": [],
   "source": [
    "class Car():\n",
    "    def __init__(self, name, speed, gasoline, nenpi, kyuyu, kyori, step):\n",
    "        self.name = name\n",
    "        self.speed = speed\n",
    "        self.gasoline = gasoline\n",
    "        self.max_gasoline = gasoline\n",
    "        self.nenpi = nenpi\n",
    "        self.kyuyu = kyuyu\n",
    "        self.kyori = kyori\n",
    "        self.step = step\n",
    "        self.time_a = gasoline // nenpi\n",
    "        self.time_b = gasoline // kyuyu\n",
    "# Renew\n",
    "    def info(self):\n",
    "        print(f\"name     = {self.name}\")\n",
    "        print(f\"speed    = {self.speed}\")\n",
    "        print(f\"gasoline = {self.gasoline}\")\n",
    "        print(f\"nenpi    = {self.nenpi}\")\n",
    "        print(f\"kyuyu    = {self.kyuyu}\")\n",
    "        print(f\"kyori    = {self.kyori}\")\n",
    "\n",
    "    def A(self):\n",
    "        for j in range(0, self.time_a):\n",
    "            self.kyori += self.speed\n",
    "            self.gasoline -= self.nenpi\n",
    "            self.step += 1\n",
    "            if self.kyori >= 1000:\n",
    "                print(f\"step = {self.step}\")\n",
    "                break\n",
    "\n",
    "    def B(self):\n",
    "        for j in range(0, self.time_b):\n",
    "            self.gasoline += self.kyuyu\n",
    "            self.step += 1\n"
   ]
  },
  {
   "cell_type": "code",
   "execution_count": 9,
   "id": "cf09c288-2bb2-4603-a119-4392bccce191",
   "metadata": {},
   "outputs": [
    {
     "name": "stdout",
     "output_type": "stream",
     "text": [
      "name     = red\n",
      "speed    = 30\n",
      "gasoline = 1000\n",
      "nenpi    = 100\n",
      "kyuyu    = 200\n",
      "kyori    = 0\n",
      "step = 49\n",
      "-------------------------\n",
      "name     = blue\n",
      "speed    = 40\n",
      "gasoline = 500\n",
      "nenpi    = 100\n",
      "kyuyu    = 100\n",
      "kyori    = 0\n",
      "step = 45\n",
      "-------------------------\n",
      "name     = green\n",
      "speed    = 50\n",
      "gasoline = 300\n",
      "nenpi    = 100\n",
      "kyuyu    = 100\n",
      "kyori    = 0\n",
      "step = 38\n"
     ]
    }
   ],
   "source": [
    "red   = Car(\"red\",   30, 1000, 100, 200, 0, 0)\n",
    "blue  = Car(\"blue\",  40,  500, 100, 100, 0, 0)\n",
    "green = Car(\"green\", 50,  300, 100, 100, 0, 0)\n",
    "\n",
    "red.info()\n",
    "for i in range(200):\n",
    "    if red.gasoline > 0:\n",
    "        red.A()\n",
    "    \n",
    "    elif red.gasoline == 0:\n",
    "        red.B()\n",
    "        \n",
    "    if red.kyori >= 1000:\n",
    "        break\n",
    "print(\"-------------------------\")\n",
    "blue.info()\n",
    "for i in range(200):\n",
    "    if blue.gasoline > 0:\n",
    "        blue.A()\n",
    "    \n",
    "    elif blue.gasoline == 0:\n",
    "        blue.B()\n",
    "        \n",
    "    if blue.kyori >= 1000:\n",
    "        break\n",
    "print(\"-------------------------\")\n",
    "green.info()\n",
    "for i in range(200):\n",
    "    if green.gasoline > 0:\n",
    "        green.A()\n",
    "    \n",
    "    elif green.gasoline == 0:\n",
    "        green.B()\n",
    "        \n",
    "    if green.kyori >= 1000:\n",
    "        break"
   ]
  },
  {
   "cell_type": "code",
   "execution_count": null,
   "id": "9d986d63-09ff-44f8-a459-c65f28741df2",
   "metadata": {},
   "outputs": [],
   "source": []
  }
 ],
 "metadata": {
  "kernelspec": {
   "display_name": "Python 3",
   "language": "python",
   "name": "python3"
  },
  "language_info": {
   "codemirror_mode": {
    "name": "ipython",
    "version": 3
   },
   "file_extension": ".py",
   "mimetype": "text/x-python",
   "name": "python",
   "nbconvert_exporter": "python",
   "pygments_lexer": "ipython3",
   "version": "3.9.7"
  }
 },
 "nbformat": 4,
 "nbformat_minor": 5
}
