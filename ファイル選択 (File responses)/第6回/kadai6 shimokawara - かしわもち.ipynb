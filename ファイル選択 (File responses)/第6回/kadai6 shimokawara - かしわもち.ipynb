{
 "cells": [
  {
   "cell_type": "markdown",
   "id": "873dcf90-a8a8-44d5-80b6-8858f761f63d",
   "metadata": {},
   "source": [
    "## 1.複素数の四則演算の関数"
   ]
  },
  {
   "cell_type": "code",
   "execution_count": 22,
   "id": "497674db-9982-4ef5-89c6-d0f6ab731b8c",
   "metadata": {
    "tags": []
   },
   "outputs": [
    {
     "name": "stdin",
     "output_type": "stream",
     "text": [
      "z1 = a1+b1i : a1 3\n",
      "z1 = a1+b1i : b1 2\n",
      "z2 = a2+b2i : a2 2\n",
      "z2 = a2+b2i : b2 1\n"
     ]
    },
    {
     "name": "stdout",
     "output_type": "stream",
     "text": [
      "add:5+3i\n"
     ]
    }
   ],
   "source": [
    "a_1 = int(input(\"z1 = a1+b1i : a1\"))\n",
    "b_1 = int(input(\"z1 = a1+b1i : b1\"))\n",
    "a_2 = int(input(\"z2 = a2+b2i : a2\"))\n",
    "b_2 = int(input(\"z2 = a2+b2i : b2\"))\n",
    "\n",
    "z_1 = (a_1, b_1)\n",
    "z_2 = (a_2, b_2)\n",
    "\n",
    "def complex_add(z_1,z_2):\n",
    "    za = a_1 + a_2\n",
    "    zb = b_1 + b_2\n",
    "    return za,zb\n",
    "    \n",
    "z_add = complex_add(z_1,z_2)\n",
    "print(f\"add:{z_add[0]}+{z_add[1]}i\")"
   ]
  },
  {
   "cell_type": "markdown",
   "id": "99f29f56-7f3d-4f6a-99c6-654731956e8b",
   "metadata": {},
   "source": [
    "## 2.メソッドを含めたクラスを作成（特殊メソッドなし）"
   ]
  },
  {
   "cell_type": "code",
   "execution_count": 4,
   "id": "d0d07e90-5d36-45a6-9636-f86387b58660",
   "metadata": {
    "tags": []
   },
   "outputs": [
    {
     "name": "stdin",
     "output_type": "stream",
     "text": [
      "z1 = a1+b1i : a1 3\n",
      "z1 = a1+b1i : b1 2\n",
      "z2 = a2+b2i : a2 2\n",
      "z2 = a2+b2i : b2 1\n"
     ]
    },
    {
     "name": "stdout",
     "output_type": "stream",
     "text": [
      "add:5+3i\n"
     ]
    }
   ],
   "source": [
    "# class Complex():\n",
    "    \n",
    "#     def __init__(self,num1,num2):\n",
    "#         self.real_number = num1\n",
    "#         self.imaginary_number = num2\n",
    "    \n",
    "    \n",
    "#     def add(self,z_2):\n",
    "#         self.za = self.real_number + z_2.real_number\n",
    "#         self.zb = self.imaginary_number + z_2.imaginary_number\n",
    "#         return (self.za,self.zb)\n",
    "    \n",
    "\n",
    "# a_1 = int(input(\"z1 = a1+b1i : a1\"))\n",
    "# b_1 = int(input(\"z1 = a1+b1i : b1\"))\n",
    "# a_2 = int(input(\"z2 = a2+b2i : a2\"))\n",
    "# b_2 = int(input(\"z2 = a2+b2i : b2\"))\n",
    "\n",
    "\n",
    "# z_1 = Complex(a_1,b_1)\n",
    "# z_2 = Complex(a_2,b_2)\n",
    "\n",
    "# za, zb = z_1.add(z_2)\n",
    "\n",
    "# print(f\"add:{za}+{zb}i\")"
   ]
  },
  {
   "cell_type": "code",
   "execution_count": 4,
   "id": "f361fa2f-2208-46f7-bfaf-fb8a0932002f",
   "metadata": {
    "tags": []
   },
   "outputs": [
    {
     "name": "stdin",
     "output_type": "stream",
     "text": [
      "z1 = a1+b1i : a1 3\n",
      "z1 = a1+b1i : b1 2\n",
      "z2 = a2+b2i : a2 2\n",
      "z2 = a2+b2i : b2 1\n"
     ]
    },
    {
     "name": "stdout",
     "output_type": "stream",
     "text": [
      "add:5+3i\n",
      "sub:1+1i\n",
      "mul:4+7i\n",
      "truediv:(8+1i)/5\n"
     ]
    }
   ],
   "source": [
    "class Complex():\n",
    "    \n",
    "    def __init__(self,num1,num2):\n",
    "        self.real_number = num1\n",
    "        self.imaginary_number = num2\n",
    "    \n",
    "    \n",
    "    def add(self,z):\n",
    "        self.za_add = self.real_number + z.real_number\n",
    "        self.zb_add = self.imaginary_number + z.imaginary_number\n",
    "        \n",
    "    def sub(self,z):\n",
    "        self.za_sub = self.real_number - z.real_number\n",
    "        self.zb_sub = self.imaginary_number - z.imaginary_number\n",
    "        \n",
    "    def mul(self,z):\n",
    "        self.za_mul = (self.real_number * z.real_number - self.imaginary_number * z.imaginary_number)\n",
    "        self.zb_mul = (self.real_number * z.imaginary_number + self.imaginary_number * z.real_number)\n",
    "        \n",
    "    def truediv(self,z):\n",
    "        self.za_tudi = (self.real_number * z.real_number + self.imaginary_number * z.imaginary_number)\n",
    "        self.zb_tudi = (self.imaginary_number * z.real_number - self.real_number * z.imaginary_number)\n",
    "        self.zc_tudi = ((z.real_number)**2 + (z.imaginary_number)**2)\n",
    "        \n",
    "\n",
    "a_1 = int(input(\"z1 = a1+b1i : a1\"))\n",
    "b_1 = int(input(\"z1 = a1+b1i : b1\"))\n",
    "a_2 = int(input(\"z2 = a2+b2i : a2\"))\n",
    "b_2 = int(input(\"z2 = a2+b2i : b2\"))\n",
    "\n",
    "\n",
    "z_1 = Complex(a_1,b_1)\n",
    "z_2 = Complex(a_2,b_2)\n",
    "\n",
    "z_1.add(z_2)#selfにz1が入る。zにz_2が入る。\n",
    "z_1.sub(z_2)\n",
    "z_1.mul(z_2)\n",
    "z_1.truediv(z_2)\n",
    "\n",
    "print(f\"add:{z_1.za_add}+{z_1.zb_add}i\")\n",
    "print(f\"sub:{z_1.za_sub}+{z_1.zb_sub}i\")\n",
    "print(f\"mul:{z_1.za_mul}+{z_1.zb_mul}i\")\n",
    "print(f\"truediv:({z_1.za_tudi}+{z_1.zb_tudi}i)/{z_1.zc_tudi}\")"
   ]
  },
  {
   "cell_type": "markdown",
   "id": "2729dbf0-1665-4571-ab13-3ac041f6bc24",
   "metadata": {},
   "source": [
    "## 3.メソッドを含めたクラスを作成（特殊メソッドあり）"
   ]
  },
  {
   "cell_type": "code",
   "execution_count": 1,
   "id": "e9b66e88-2c3e-4eec-918e-5d7a3f78cf36",
   "metadata": {
    "tags": []
   },
   "outputs": [
    {
     "name": "stdin",
     "output_type": "stream",
     "text": [
      "z1 = a1+b1i : a1 3\n",
      "z1 = a1+b1i : b1 2\n",
      "z2 = a2+b2i : a2 2\n",
      "z2 = a2+b2i : b2 1\n"
     ]
    },
    {
     "name": "stdout",
     "output_type": "stream",
     "text": [
      "add:5+3i\n",
      "sub:1+1i\n",
      "mul:4+7i\n",
      "truediv:(8+1i)/5\n"
     ]
    }
   ],
   "source": [
    " class Complex():\n",
    "    def __init__(self,real_number,imaginary_number):\n",
    "        self.real_number = real_number\n",
    "        self.imaginary_number = imaginary_number\n",
    "        \n",
    "    \n",
    "    def __add__(self,other):\n",
    "        num1 = self.real_number + other.real_number\n",
    "        num2 = self.imaginary_number + other.imaginary_number\n",
    "        \n",
    "        return Complex(num1,num2)\n",
    "        \n",
    "    def __sub__(self, other):\n",
    "        num1 = self.real_number - other.real_number\n",
    "        num2 = self.imaginary_number - other.imaginary_number\n",
    "        \n",
    "        return Complex(num1,num2)\n",
    "    \n",
    "    def __mul__(self,other):\n",
    "        num1 = ((self.real_number * other.real_number)-(self.imaginary_number * other.imaginary_number))\n",
    "        num2 = ((self.real_number * other.imaginary_number)+(other.real_number * self.imaginary_number))\n",
    "        \n",
    "        return Complex(num1,num2)\n",
    "    \n",
    "    \n",
    "    def __truediv__(self,other):\n",
    "        n1 = (self.real_number * other.real_number + self.imaginary_number * other.imaginary_number)\n",
    "        n2 = ((self.imaginary_number * other.real_number - self.real_number * other.imaginary_number))\n",
    "        num1 = (n1,n2)\n",
    "        num2 = ((other.real_number)**2)+((other.imaginary_number)**2)\n",
    "        \n",
    "        return Complex(num1,num2)\n",
    "    \n",
    "    \n",
    "a_1 = int(input(\"z1 = a1+b1i : a1\"))\n",
    "b_1 = int(input(\"z1 = a1+b1i : b1\"))\n",
    "a_2 = int(input(\"z2 = a2+b2i : a2\"))\n",
    "b_2 = int(input(\"z2 = a2+b2i : b2\"))\n",
    "\n",
    "z_1 = Complex(a_1,b_1)\n",
    "z_2 = Complex(a_2,b_2)\n",
    "z_add = z_1+z_2\n",
    "z_sub = z_1-z_2\n",
    "z_mul = z_1 * z_2\n",
    "z_truediv = z_1 / z_2\n",
    "\n",
    "print(f\"add:{z_add.real_number}+{z_add.imaginary_number}i\")\n",
    "print(f\"sub:{z_sub.real_number}+{z_sub.imaginary_number}i\")\n",
    "print(f\"mul:{z_mul.real_number}+{z_mul.imaginary_number}i\")\n",
    "print(f\"truediv:({z_truediv.real_number[0]}+{z_truediv.real_number[1]}i)/{z_truediv.imaginary_number}\")"
   ]
  },
  {
   "cell_type": "code",
   "execution_count": null,
   "id": "cf213fb2-9bab-4be8-b240-f181298f648d",
   "metadata": {},
   "outputs": [],
   "source": []
  }
 ],
 "metadata": {
  "kernelspec": {
   "display_name": "Python 3 (ipykernel)",
   "language": "python",
   "name": "python3"
  },
  "language_info": {
   "codemirror_mode": {
    "name": "ipython",
    "version": 3
   },
   "file_extension": ".py",
   "mimetype": "text/x-python",
   "name": "python",
   "nbconvert_exporter": "python",
   "pygments_lexer": "ipython3",
   "version": "3.8.16"
  }
 },
 "nbformat": 4,
 "nbformat_minor": 5
}
