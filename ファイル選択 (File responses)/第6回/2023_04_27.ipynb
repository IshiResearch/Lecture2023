{
 "cells": [
  {
   "cell_type": "code",
   "execution_count": 52,
   "id": "12fa3e48-310b-4fa7-9590-091d660fcca4",
   "metadata": {
    "tags": []
   },
   "outputs": [],
   "source": [
    "a_1, b_1 = 3, 2 \n",
    "a_2, b_2 = 2, 1 \n",
    " \n",
    "z_1 = (a_1, b_1) # 3 + 2i \n",
    "z_2 = (a_2, b_2) # 2 + i\n",
    "def Hukusosu(z_1,z_2):\n",
    "    \n",
    "    print(\"add : {} + {}i\".format(z_1[0]+z_1[1],z_2[0]+z_2[1]))\n",
    "    print(\"subtract : {} + {}i\".format(a_1-a_2,b_1-b_2))\n",
    "    print(\"multiply : {} + {}i\".format(a_1*a_2-b_1*b_2,a_1*b_2+b_1*a_2))\n",
    "    print(\"divide : {} + {}i\".format((a_1*a_2+b_1*b_2)/((a_2**2)+(b_2**2)),(b_1*a_2-a_1*b_2)/((a_2**2)+(b_2**2))))"
   ]
  },
  {
   "cell_type": "code",
   "execution_count": 53,
   "id": "16a43523-9a81-4b6c-b655-23f3975b7a19",
   "metadata": {
    "tags": []
   },
   "outputs": [
    {
     "name": "stdout",
     "output_type": "stream",
     "text": [
      "add : 5 + 3i\n",
      "subtract : 1 + 1i\n",
      "multiply : 4 + 7i\n",
      "divide : 1.6 + 0.2i\n"
     ]
    }
   ],
   "source": [
    "Hukusosu(z_1,z_2)"
   ]
  },
  {
   "cell_type": "code",
   "execution_count": 89,
   "id": "de670711-e75e-4739-a776-955b79f84cd3",
   "metadata": {
    "tags": []
   },
   "outputs": [],
   "source": [
    "class Complex:  \n",
    "    def __init__(self, real,imag):\n",
    "        self.real = real\n",
    "        self.imag = imag\n",
    "    def __add__(self, other):\n",
    "        real_1 = self.real + other.real\n",
    "        imag_2 = self.imag + other.imag\n",
    "        return Complex(real_1, imag_2)\n",
    "    def __sub__(self,other):\n",
    "        real_1 = self.real - other.real\n",
    "        imag_2 = self.imag - other.imag\n",
    "        return Complex(real_1, imag_2)\n",
    "    def __mul__(self, other):\n",
    "        real_1 = self.real*other.real - self.imag*other.imag\n",
    "        imag_2 = self.real*other.imag + self.imag*other.real\n",
    "        return Complex(real_1, imag_2)\n",
    "    def __truediv__(self, other):\n",
    "        real_1 = (self.real*other.real + self.imag*other.imag)/((other.real**2)+(other.imag**2))\n",
    "        imag_2 = (self.imag*other.real - self.real*other.imag )/((other.real**2)+(other.imag**2))\n",
    "        return Complex(real_1, imag_2)"
   ]
  },
  {
   "cell_type": "code",
   "execution_count": 91,
   "id": "cea62b5d-e6ea-44e9-b2ab-ec14115178df",
   "metadata": {
    "tags": []
   },
   "outputs": [
    {
     "name": "stdout",
     "output_type": "stream",
     "text": [
      "add:5+3i\n",
      "sub:1+1i\n",
      "mul:4+7i\n",
      "div:1.6+0.2i\n"
     ]
    }
   ],
   "source": [
    "a = Complex(3, 2)\n",
    "b = Complex(2, 1)\n",
    "c = a + b\n",
    "d = a - b\n",
    "e = a * b\n",
    "f = a / b\n",
    "print(f\"add:{c.real}+{c.imag}i\")\n",
    "print(f\"sub:{d.real}+{d.imag}i\")\n",
    "print(f\"mul:{e.real}+{e.imag}i\")\n",
    "print(f\"div:{f.real}+{f.imag}i\")"
   ]
  },
  {
   "cell_type": "code",
   "execution_count": 1,
   "id": "fe73e130-045b-4b33-b227-5a12740baff4",
   "metadata": {
    "tags": []
   },
   "outputs": [],
   "source": [
    "class Complex:\n",
    "    def __init__(self, real,imag):\n",
    "        self.real = real\n",
    "        self.imag = imag\n",
    "    def my_print(self):\n",
    "        print(f\"add:{self.real}+{self.imag}i\")    \n",
    "    def my_add(self, other):\n",
    "        self.real += other\n",
    "       \n",
    "    def my_add2(self, other):\n",
    "        self.imag += other\n",
    "      "
   ]
  },
  {
   "cell_type": "code",
   "execution_count": 2,
   "id": "db87ff51-8ec4-41b9-ac09-e7a8782b08c2",
   "metadata": {
    "tags": []
   },
   "outputs": [
    {
     "name": "stdout",
     "output_type": "stream",
     "text": [
      "add:5+3i\n"
     ]
    }
   ],
   "source": [
    "a = Complex(3,2)\n",
    "b = 2,1\n",
    "a.my_add(int(b[0]))\n",
    "a.my_add2(int(b[1]))\n",
    "a.my_print()"
   ]
  },
  {
   "cell_type": "code",
   "execution_count": 7,
   "id": "4e1b836f-8983-403f-9ea5-da3e2623314d",
   "metadata": {},
   "outputs": [],
   "source": [
    "class Complex:\n",
    "    def __init__(self, real,imag):\n",
    "        self.real = real\n",
    "        self.imag = imag\n",
    "    def my_print(self):\n",
    "        print(f\"sub:{self.real}+{self.imag}i\")    \n",
    "    def my_sub(self, other):\n",
    "        self.real -= other\n",
    "       \n",
    "    def my_sub2(self, other):\n",
    "        self.imag -= other\n",
    "      "
   ]
  },
  {
   "cell_type": "code",
   "execution_count": 8,
   "id": "3d32c821-387e-42e3-83d3-888da6e53d14",
   "metadata": {},
   "outputs": [
    {
     "name": "stdout",
     "output_type": "stream",
     "text": [
      "sub:1+1i\n"
     ]
    }
   ],
   "source": [
    "a = Complex(3,2)\n",
    "b = 2,1\n",
    "a.my_sub(int(b[0]))\n",
    "a.my_sub2(int(b[1]))\n",
    "a.my_print()"
   ]
  },
  {
   "cell_type": "code",
   "execution_count": null,
   "id": "789495c4-3495-46c3-b5ca-a9532065c752",
   "metadata": {
    "tags": []
   },
   "outputs": [],
   "source": []
  }
 ],
 "metadata": {
  "kernelspec": {
   "display_name": "Python 3 (ipykernel)",
   "language": "python",
   "name": "python3"
  },
  "language_info": {
   "codemirror_mode": {
    "name": "ipython",
    "version": 3
   },
   "file_extension": ".py",
   "mimetype": "text/x-python",
   "name": "python",
   "nbconvert_exporter": "python",
   "pygments_lexer": "ipython3",
   "version": "3.8.16"
  }
 },
 "nbformat": 4,
 "nbformat_minor": 5
}
