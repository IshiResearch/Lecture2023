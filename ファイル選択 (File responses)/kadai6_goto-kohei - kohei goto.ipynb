{
 "cells": [
  {
   "cell_type": "markdown",
   "id": "f0e29372-2bd1-422e-94b0-72b1370b024a",
   "metadata": {},
   "source": [
    "# 課題"
   ]
  },
  {
   "cell_type": "markdown",
   "id": "218567f2-4e1c-4bfe-ab42-312345ae98d6",
   "metadata": {
    "tags": []
   },
   "source": [
    "## 1-複素数の足し算の関数を作成する"
   ]
  },
  {
   "cell_type": "code",
   "execution_count": 18,
   "id": "3029e92b-6105-41a9-9184-776b023a075d",
   "metadata": {
    "tags": []
   },
   "outputs": [],
   "source": [
    "def complex_add(z1, z2):\n",
    "    real_num = z1[0] + z2[0]\n",
    "    complex_num = z1[1] + z2[1]\n",
    "    \n",
    "    return(real_num, complex_num)"
   ]
  },
  {
   "cell_type": "code",
   "execution_count": 19,
   "id": "49cf377e-76a1-4c66-8964-82a3d1ae1ce5",
   "metadata": {
    "tags": []
   },
   "outputs": [
    {
     "name": "stdin",
     "output_type": "stream",
     "text": [
      "1つ目の実数を入力してください 2\n",
      "1つ目の複素数を入力してください 4\n",
      "2つ目の実数を入力してください 6\n",
      "2つ目の複素数を入力してください 3\n"
     ]
    },
    {
     "name": "stdout",
     "output_type": "stream",
     "text": [
      "(2 + 4i) + (6 + 3i)\n",
      "= 8 + 7i\n"
     ]
    }
   ],
   "source": [
    "a1 = int(input(\"1つ目の実数を入力してください\"))\n",
    "b1 = int(input(\"1つ目の複素数を入力してください\"))\n",
    "a2 = int(input(\"2つ目の実数を入力してください\"))\n",
    "b2 = int(input(\"2つ目の複素数を入力してください\"))\n",
    "\n",
    "z1 = [a1, b1]\n",
    "z2 = [a2, b2]\n",
    "\n",
    "ans_real, ans_image = complex_add(z1, z2)\n",
    "\n",
    "print(f\"({a1} + {b1}i) + ({a2} + {b2}i)\\n\"\n",
    "      f\"= {ans_real} + {ans_image}i\")"
   ]
  },
  {
   "cell_type": "markdown",
   "id": "7f3218c0-e17c-454f-a6fe-e5120ccbb48f",
   "metadata": {},
   "source": [
    "## 2-複素数の四則演算ができるクラスを作成する(特殊メソッド含まない)"
   ]
  },
  {
   "cell_type": "code",
   "execution_count": 20,
   "id": "15e5c8db-ab9e-408e-ab9f-0d5ab4e9e8bd",
   "metadata": {
    "tags": []
   },
   "outputs": [],
   "source": [
    "class Complex():\n",
    "    def __init__(self, z1, z2):\n",
    "        self.z1 = z1\n",
    "        self.z2 = z2\n",
    "        \n",
    "    def add(self):\n",
    "        add_ans = [self.z1[0] + self.z2[0], self.z1[1] + self.z2[1]]\n",
    "        return(add_ans)\n",
    "        \n",
    "    def sub(self):\n",
    "        sub_ans = [self.z1[0] - self.z2[0], self.z1[1] - self.z2[1]]\n",
    "        return(sub_ans)\n",
    "    \n",
    "    def mul(self):\n",
    "        mul_ans = [(self.z1[0] * self.z2[0]) - (self.z1[1] * self.z2[1]), (self.z1[0] * self.z2[1]) + (self.z1[1] * self.z2[0])]\n",
    "        return(mul_ans)\n",
    "    \n",
    "    def divi(self):\n",
    "        div_ans = [((self.z1[0] * self.z2[0]) + (self.z1[1] * self.z2[1])) / ((self.z2[0] ** 2) + (self.z2[1] ** 2)),\n",
    "                   (-(self.z1[0] * self.z2[1]) + (self.z1[1] * self.z2[0])) / ((self.z2[0] ** 2) + (self.z2[1] ** 2))]\n",
    "        return(div_ans)"
   ]
  },
  {
   "cell_type": "code",
   "execution_count": 21,
   "id": "09c10e4f-167f-4076-924f-9cf217093cdd",
   "metadata": {
    "tags": []
   },
   "outputs": [
    {
     "name": "stdin",
     "output_type": "stream",
     "text": [
      "1つ目の実数を入力してください 1\n",
      "1つ目の複素数を入力してください 1\n",
      "2つ目の実数を入力してください 2\n",
      "2つ目の複素数を入力してください 1\n"
     ]
    },
    {
     "name": "stdout",
     "output_type": "stream",
     "text": [
      "(1 + 1i) + (2 + 1i)\n",
      "= 3 + 2i\n",
      "(1 + 1i) - (2 + 1i)\n",
      "= -1 + 0i\n",
      "(1 + 1i) * (2 + 1i)\n",
      "= 1 + 3i\n",
      "(1 + 1i) / (2 + 1i)\n",
      "= 0.6 + 0.2i\n"
     ]
    }
   ],
   "source": [
    "a1 = int(input(\"1つ目の実数を入力してください\"))\n",
    "b1 = int(input(\"1つ目の複素数を入力してください\"))\n",
    "a2 = int(input(\"2つ目の実数を入力してください\"))\n",
    "b2 = int(input(\"2つ目の複素数を入力してください\"))\n",
    "\n",
    "z1 = [a1, b1]\n",
    "z2 = [a2, b2]\n",
    "\n",
    "ans = Complex(z1, z2)\n",
    "\n",
    "print(f\"({a1} + {b1}i) + ({a2} + {b2}i)\\n\"\n",
    "      f\"= {ans.add()[0]} + {ans.add()[1]}i\") #足し算\n",
    "\n",
    "print(f\"({a1} + {b1}i) - ({a2} + {b2}i)\\n\"\n",
    "      f\"= {ans.sub()[0]} + {ans.sub()[1]}i\") #引き算\n",
    "\n",
    "print(f\"({a1} + {b1}i) * ({a2} + {b2}i)\\n\"\n",
    "      f\"= {ans.mul()[0]} + {ans.mul()[1]}i\") #掛け算\n",
    "\n",
    "print(f\"({a1} + {b1}i) / ({a2} + {b2}i)\\n\"\n",
    "      f\"= {ans.divi()[0]} + {ans.divi()[1]}i\") #割り算"
   ]
  },
  {
   "cell_type": "markdown",
   "id": "5dae9c36-1784-4180-ae03-3110f24a2a0d",
   "metadata": {
    "tags": []
   },
   "source": [
    "## 3-複素数の四則演算ができるクラスを作成する(特殊メソッド含む)"
   ]
  },
  {
   "cell_type": "code",
   "execution_count": 22,
   "id": "3836a1e2-3bd6-4da6-a276-0efdaea7c7ca",
   "metadata": {
    "tags": []
   },
   "outputs": [],
   "source": [
    "class Complex():\n",
    "    def __init__(self, z1):\n",
    "        self.z1 = z1\n",
    "        \n",
    "    def __add__(self, other):\n",
    "        add_ans = [self.z1[0] + other.z1[0], self.z1[1] + other.z1[1]]\n",
    "        return(add_ans)\n",
    "        \n",
    "    def __sub__(self, other):\n",
    "        sub_ans = [self.z1[0] - other.z1[0], self.z1[1] - other.z1[1]]\n",
    "        return(sub_ans)\n",
    "    \n",
    "    def __mul__(self, other):\n",
    "        mul_ans = [(self.z1[0] * other.z1[0]) - (self.z1[1] * other.z1[1]), (self.z1[0] * other.z1[1]) + (self.z1[1] * other.z1[0])]\n",
    "        return(mul_ans)\n",
    "    \n",
    "    def __truediv__(self, other):\n",
    "        div_ans = [((self.z1[0] * other.z1[0]) + (self.z1[1] * other.z1[1])) / ((other.z1[0] ** 2) + (other.z1[1] ** 2)),\n",
    "                   (-(self.z1[0] * other.z1[1]) + (self.z1[1] * other.z1[0])) / ((other.z1[0] ** 2) + (other.z1[1] ** 2))]\n",
    "        return(div_ans)"
   ]
  },
  {
   "cell_type": "code",
   "execution_count": 23,
   "id": "4370f9eb-dd5f-4c60-9f01-308350e959e7",
   "metadata": {
    "tags": []
   },
   "outputs": [
    {
     "name": "stdin",
     "output_type": "stream",
     "text": [
      "1つ目の実数を入力してください 1\n",
      "1つ目の複素数を入力してください 1\n",
      "2つ目の実数を入力してください 2\n",
      "2つ目の複素数を入力してください 1\n"
     ]
    },
    {
     "name": "stdout",
     "output_type": "stream",
     "text": [
      "(1 + 1i) + (2 + 1i)\n",
      "= 3 + 2i\n",
      "(1 + 1i) - (2 + 1i)\n",
      "= -1 + 0i\n",
      "(1 + 1i) * (2 + 1i)\n",
      "= 1 + 3i\n",
      "(1 + 1i) / (2 + 1i)\n",
      "= 0.6 + 0.2i\n"
     ]
    }
   ],
   "source": [
    "a1 = int(input(\"1つ目の実数を入力してください\"))\n",
    "b1 = int(input(\"1つ目の複素数を入力してください\"))\n",
    "a2 = int(input(\"2つ目の実数を入力してください\"))\n",
    "b2 = int(input(\"2つ目の複素数を入力してください\"))\n",
    "\n",
    "z1 = [a1, b1]\n",
    "z2 = [a2, b2]\n",
    "\n",
    "z1 = Complex(z1)\n",
    "z2 = Complex(z2)\n",
    "\n",
    "add_ans = z1 + z2\n",
    "sub_ans = z1 - z2\n",
    "mul_ans = z1 * z2\n",
    "divi_ans = z1 / z2\n",
    "\n",
    "print(f\"({a1} + {b1}i) + ({a2} + {b2}i)\\n\"\n",
    "      f\"= {add_ans[0]} + {add_ans[1]}i\") #足し算\n",
    "\n",
    "print(f\"({a1} + {b1}i) - ({a2} + {b2}i)\\n\"\n",
    "      f\"= {sub_ans[0]} + {sub_ans[1]}i\") #引き算\n",
    "\n",
    "print(f\"({a1} + {b1}i) * ({a2} + {b2}i)\\n\"\n",
    "      f\"= {mul_ans[0]} + {mul_ans[1]}i\") #掛け算\n",
    "\n",
    "print(f\"({a1} + {b1}i) / ({a2} + {b2}i)\\n\"\n",
    "      f\"= {divi_ans[0]} + {divi_ans[1]}i\") #割り算"
   ]
  },
  {
   "cell_type": "markdown",
   "id": "724843f5-51aa-4c5a-a30f-593542f66ad7",
   "metadata": {},
   "source": [
    "## ex:1000mのレースゲーム\n",
    "### ・赤，青，緑の車がある．\n",
    "### ・車のスペック・特徴は，色，速度，燃料，燃費，進んだ距離．\n",
    "### ・車の行動は，給油，ステップを進める，ゴールする．\n",
    "### ・燃料が無くなったら満タンになるまで給油する．\n",
    "#### 色　 速度 (m/step) 　燃料 (mL) 　燃費 (mL 消費/step) 　給油 (mL/step)\n",
    "#### 赤　　　 30　　　　　　1000     　　　100 　　　　　　　　　　200\n",
    "#### 青　　　 40　　　　　　500     　　　 100 　　　　　　　　　　100\n",
    "#### 緑　　　 50　　　　　　300     　　　 100 　　　　　　　　　　100"
   ]
  },
  {
   "cell_type": "code",
   "execution_count": 36,
   "id": "ac9f2298-d33c-4859-9cc4-ea412aa66524",
   "metadata": {
    "tags": []
   },
   "outputs": [],
   "source": [
    "class Race():\n",
    "    def __init__(self, info):\n",
    "        self.info = info\n",
    "        \n",
    "    def refuel(self): #給油\n",
    "        self.info[1] += self.info[3]\n",
    "        self.info[4] += 1\n",
    "        return(self)\n",
    "    \n",
    "    def travel(self): #進む\n",
    "        self.info[5] += self.info[0]\n",
    "        self.info[1] -= self.info[2]\n",
    "        self.info[4] += 1\n",
    "        return(self)"
   ]
  },
  {
   "cell_type": "code",
   "execution_count": 37,
   "id": "45e40d59-41f5-4145-a048-29e64de569ea",
   "metadata": {
    "tags": []
   },
   "outputs": [],
   "source": [
    "step     = 0\n",
    "travel   = 0\n",
    "\n",
    "speed_r  = 30\n",
    "fuel_r   = 1000\n",
    "cons_r   = 100\n",
    "refuel_r = 200\n",
    "full_r   = 1000\n",
    "info_r   = [speed_r, fuel_r, cons_r, refuel_r, step, travel]\n",
    "\n",
    "speed_b  = 40\n",
    "fuel_b   = 500\n",
    "cons_b   = 100\n",
    "refuel_b = 100\n",
    "full_b   = 500\n",
    "info_b   = [speed_b, fuel_b, cons_b, refuel_b, step, travel]\n",
    "\n",
    "speed_g  = 50\n",
    "fuel_g   = 300\n",
    "cons_g   = 100\n",
    "refuel_g = 100\n",
    "full_g   = 300\n",
    "info_g   = [speed_g, fuel_g, cons_g, refuel_g, step, travel]\n",
    "\n",
    "dis = 1000"
   ]
  },
  {
   "cell_type": "code",
   "execution_count": 38,
   "id": "9181d32d-83d2-4676-badf-4c3333850dca",
   "metadata": {
    "tags": []
   },
   "outputs": [
    {
     "name": "stdout",
     "output_type": "stream",
     "text": [
      "赤色の車がゴールするまでに要したステップ数は 49\n"
     ]
    }
   ],
   "source": [
    "while travel < dis:\n",
    "    step_r = Race(info_r)\n",
    "    if fuel_r > 0: #燃料がなくなるまで進む\n",
    "        next_step_r = step_r.travel()\n",
    "        fuel_r = next_step_r.info[1]\n",
    "        sum_step_r = next_step_r.info[4]\n",
    "        travel = next_step_r.info[5]\n",
    "    else:\n",
    "        while fuel_r < full_r: #満タンになるまで給油\n",
    "            next_step_r = step_r.refuel()\n",
    "            fuel_r = next_step_r.info[1]\n",
    "            sum_step_r = next_step_r.info[4]\n",
    "            \n",
    "print(\"赤色の車がゴールするまでに要したステップ数は\", sum_step_r)"
   ]
  },
  {
   "cell_type": "code",
   "execution_count": 39,
   "id": "2aecef2e-f4d2-43fd-b620-07b12d18263f",
   "metadata": {},
   "outputs": [
    {
     "name": "stdout",
     "output_type": "stream",
     "text": [
      "青色の車がゴールするまでに要したステップ数は 45\n"
     ]
    }
   ],
   "source": [
    "while travel < dis:\n",
    "    step_b = Race(info_b)\n",
    "    if fuel_b > 0: #燃料がなくなるまで進む\n",
    "        next_step_b = step_b.travel()\n",
    "        fuel_b = next_step_b.info[1]\n",
    "        sum_step_b = next_step_b.info[4]\n",
    "        travel = next_step_b.info[5]\n",
    "    else:\n",
    "        while fuel_b < full_b: #満タンになるまで給油\n",
    "            next_step_b = step_b.refuel()\n",
    "            fuel_b = next_step_b.info[1]\n",
    "            sum_step_b = next_step_b.info[4]\n",
    "            \n",
    "print(\"青色の車がゴールするまでに要したステップ数は\", sum_step_b)"
   ]
  },
  {
   "cell_type": "code",
   "execution_count": 40,
   "id": "3a97f18a-30d1-4b35-b396-abfcf2acf8a0",
   "metadata": {
    "tags": []
   },
   "outputs": [
    {
     "name": "stdout",
     "output_type": "stream",
     "text": [
      "緑色の車がゴールするまでに要したステップ数は 38\n"
     ]
    }
   ],
   "source": [
    "while travel < dis:\n",
    "    step_g = Race(info_g)\n",
    "    if fuel_g > 0:\n",
    "        next_step_g = step_g.travel()\n",
    "        fuel_g = next_step_g.info[1]\n",
    "        sum_step_g = next_step_g.info[4]\n",
    "        travel = next_step_g.info[5]\n",
    "    else:\n",
    "        while fuel_g < full_g:\n",
    "            next_step_g = step_g.refuel()\n",
    "            fuel_g = next_step_g.info[1]\n",
    "            sum_step_g = next_step_g.info[4]\n",
    "            \n",
    "print(\"緑色の車がゴールするまでに要したステップ数は\", sum_step_g)"
   ]
  },
  {
   "cell_type": "code",
   "execution_count": null,
   "id": "98904348-e6be-4877-9053-c073d3b6b2a1",
   "metadata": {},
   "outputs": [],
   "source": []
  }
 ],
 "metadata": {
  "kernelspec": {
   "display_name": "Python 3 (ipykernel)",
   "language": "python",
   "name": "python3"
  },
  "language_info": {
   "codemirror_mode": {
    "name": "ipython",
    "version": 3
   },
   "file_extension": ".py",
   "mimetype": "text/x-python",
   "name": "python",
   "nbconvert_exporter": "python",
   "pygments_lexer": "ipython3",
   "version": "3.8.16"
  }
 },
 "nbformat": 4,
 "nbformat_minor": 5
}
