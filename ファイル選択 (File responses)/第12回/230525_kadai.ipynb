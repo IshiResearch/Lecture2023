{
 "cells": [
  {
   "cell_type": "markdown",
   "id": "f1ddee23-a501-434a-8059-9c2918654cc9",
   "metadata": {
    "tags": []
   },
   "source": [
    "### 1．変数fps用いて，【fps = 1 fps, 0.2 fps, 10 fps】でカメラから画像を表示してください．"
   ]
  },
  {
   "cell_type": "code",
   "execution_count": 2,
   "id": "8ae566a0-cdf1-482c-b88f-50eb2d9f4e57",
   "metadata": {},
   "outputs": [],
   "source": [
    "import cv2\n",
    "cap = cv2.VideoCapture(0)\n",
    "\n",
    "while cap.isOpened():\n",
    "    retval, frame = cap.read()\n",
    "    if retval is None:\n",
    "        print(\"capture error\")\n",
    "        break\n",
    "        \n",
    "    cv2.imshow(\"capture\", frame)\n",
    "    \n",
    "    key = cv2.waitKey(1000)\n",
    "    if key == 27:\n",
    "        break\n",
    "        \n",
    "cap.release()\n",
    "cv2.destroyAllWindows()"
   ]
  },
  {
   "cell_type": "code",
   "execution_count": 3,
   "id": "a17ea00e-a0de-4ce3-864d-66ab8c241468",
   "metadata": {},
   "outputs": [],
   "source": [
    "import cv2\n",
    "cap = cv2.VideoCapture(0)\n",
    "\n",
    "while cap.isOpened():\n",
    "    retval, frame = cap.read()\n",
    "    if retval is None:\n",
    "        print(\"capture error\")\n",
    "        break\n",
    "        \n",
    "    cv2.imshow(\"capture\", frame)\n",
    "    \n",
    "    key = cv2.waitKey(5000)\n",
    "    if key == 27:\n",
    "        break\n",
    "        \n",
    "cap.release()\n",
    "cv2.destroyAllWindows()"
   ]
  },
  {
   "cell_type": "code",
   "execution_count": 4,
   "id": "591a1004-850f-467c-a86d-de29868fe3b2",
   "metadata": {},
   "outputs": [],
   "source": [
    "import cv2\n",
    "cap = cv2.VideoCapture(0)\n",
    "\n",
    "while cap.isOpened():\n",
    "    retval, frame = cap.read()\n",
    "    if retval is None:\n",
    "        print(\"capture error\")\n",
    "        break\n",
    "        \n",
    "    cv2.imshow(\"capture\", frame)\n",
    "    \n",
    "    key = cv2.waitKey(100)\n",
    "    if key == 27:\n",
    "        break\n",
    "        \n",
    "cap.release()\n",
    "cv2.destroyAllWindows()"
   ]
  },
  {
   "cell_type": "markdown",
   "id": "f436d4f5-216a-4771-998d-89bcced2c18c",
   "metadata": {
    "tags": []
   },
   "source": [
    "### ２．1 fps でカメラ画像，グレー画像をそれぞれ保存してください"
   ]
  },
  {
   "cell_type": "code",
   "execution_count": 63,
   "id": "7f03ddd8-6a6e-44f2-b5a0-d0a3387222fe",
   "metadata": {},
   "outputs": [],
   "source": [
    "import cv2\n",
    "cap = cv2.VideoCapture(0)\n",
    "\n",
    "while cap.isOpened():\n",
    "    retval, frame = cap.read()\n",
    "    if retval is None:\n",
    "        print(\"capture error\")\n",
    "        break\n",
    "    \n",
    "    frame_gray = cv2.cvtColor(frame, cv2.COLOR_RGB2GRAY)\n",
    "    \n",
    "    cv2.imshow(\"capture\", frame)\n",
    "    cv2.imshow(\"cap_gray\", frame_gray)\n",
    "    \n",
    "    cv2.imwrite(\"cam_img\\\\1.jpg\", frame)\n",
    "    cv2.imwrite(\"cam_img\\\\1g.jpg\", frame_gray)\n",
    "    \n",
    "    key = cv2.waitKey(1000)\n",
    "    if key == 27:\n",
    "        break\n",
    "        \n",
    "cap.release()\n",
    "cv2.destroyAllWindows()"
   ]
  },
  {
   "cell_type": "markdown",
   "id": "ff48e666-0658-4c29-ae2c-faa4d676fa89",
   "metadata": {
    "tags": []
   },
   "source": [
    "### ３．1 fps で平滑化画像，グレー画像，二値化画像を表示してください．"
   ]
  },
  {
   "cell_type": "code",
   "execution_count": 15,
   "id": "be6912aa-8cb5-4df5-be9c-229adf9f8855",
   "metadata": {},
   "outputs": [],
   "source": [
    "import cv2\n",
    "cap = cv2.VideoCapture(0)\n",
    "\n",
    "while cap.isOpened():\n",
    "    retval, frame = cap.read()\n",
    "    if retval is None:\n",
    "        print(\"capture error\")\n",
    "        break\n",
    "    \n",
    "    frame_smoothing = cv2.blur(frame, (15, 15))\n",
    "    frame_gray = cv2.cvtColor(frame, cv2.COLOR_RGB2GRAY)\n",
    "    ret, frame_threshold = cv2.threshold(frame_gray, 140, 255, cv2.THRESH_BINARY)\n",
    "    \n",
    "    cv2.imshow(\"cap_blur\", frame_smoothing)\n",
    "    cv2.imshow(\"cap_gray\", frame_gray)\n",
    "    cv2.imshow(\"cap_threshold\", frame_threshold)\n",
    "    \n",
    "    key = cv2.waitKey(1000)\n",
    "    if key == 27:\n",
    "        break\n",
    "        \n",
    "cap.release()\n",
    "cv2.destroyAllWindows()"
   ]
  },
  {
   "cell_type": "markdown",
   "id": "6c001978-f925-4dbd-8a21-ad4e9c12779b",
   "metadata": {},
   "source": [
    "### ４．1 fps でカメラから好きなものを検出した画像を表示させてください．（ノイズ処理，赤い四角で囲む）"
   ]
  },
  {
   "cell_type": "code",
   "execution_count": 17,
   "id": "63b120c0-1148-486c-a021-903a3749d611",
   "metadata": {},
   "outputs": [],
   "source": [
    "import cv2\n",
    "import numpy as np\n",
    "import matplotlib.pyplot as plt\n",
    "\n",
    "H       = 100\n",
    "S       = 64\n",
    "V       = 198\n",
    "H_range = 5\n",
    "S_range = 30\n",
    "V_range = 50\n",
    "    \n",
    "upper = np.array([H+H_range, S+S_range, V+V_range])\n",
    "lower = np.array([H-H_range, S-S_range, V-V_range])\n",
    "ker_size = 5\n",
    "num = 10\n",
    "\n",
    "cap = cv2.VideoCapture(0)\n",
    "while cap.isOpened():\n",
    "    retval, frame = cap.read()\n",
    "    if retval is None:\n",
    "        print(\"capture error\")\n",
    "        break\n",
    "    \n",
    "    img_hsv = cv2.cvtColor(frame, cv2.COLOR_BGR2HSV)\n",
    "    \n",
    "    img_range = cv2.inRange(img_hsv, lower, upper)\n",
    "    kernel = np.ones((ker_size, ker_size), np.uint8)\n",
    "    img_dilate = cv2.dilate(img_range, kernel, iterations=10)\n",
    "    img_erode = cv2.erode(img_dilate, kernel, iterations=10)\n",
    "\n",
    "    contours, hierarchy = cv2.findContours(img_erode, cv2.RETR_EXTERNAL, cv2.CHAIN_APPROX_NONE)\n",
    "    \n",
    "    for each_contour in contours:\n",
    "        x, y, w, h = cv2.boundingRect(each_contour)\n",
    "        img_rect = cv2.rectangle(frame, (x, y), (x+w, y+h), (0, 0, 255), 3)\n",
    "    \n",
    "    cv2.imshow(\"capture\", frame)\n",
    "    \n",
    "    key = cv2.waitKey(1000)\n",
    "    if key == 27:\n",
    "        break\n",
    "        \n",
    "cap.release()\n",
    "cv2.destroyAllWindows()"
   ]
  },
  {
   "cell_type": "markdown",
   "id": "055919a3-25fc-4034-919c-15ab1ffcbfc3",
   "metadata": {
    "tags": []
   },
   "source": [
    "### ５．10 fps でカメラから手のひらを検出した画像を表示させてください．"
   ]
  },
  {
   "cell_type": "code",
   "execution_count": 1,
   "id": "37b39615-139a-4b06-aff2-aa4275cfe851",
   "metadata": {},
   "outputs": [],
   "source": [
    "import cv2\n",
    "import numpy as np\n",
    "import matplotlib.pyplot as plt\n",
    "\n",
    "H        = 5\n",
    "S        = 93\n",
    "V        = 126\n",
    "H_range  = 5\n",
    "S_range  = 30\n",
    "V_range  = 50\n",
    "upper    = np.array([H+H_range, S+S_range, V+V_range])\n",
    "lower    = np.array([H-H_range, S-S_range, V-V_range])\n",
    "ker_size = 5\n",
    "iterations = 10\n",
    "\n",
    "cap = cv2.VideoCapture(0)\n",
    "while cap.isOpened():\n",
    "    retval, frame = cap.read()\n",
    "    if retval is None:\n",
    "        print(\"capture error\")\n",
    "        break\n",
    "    \n",
    "    img_hsv = cv2.cvtColor(frame, cv2.COLOR_BGR2HSV)\n",
    "    \n",
    "    img_range = cv2.inRange(img_hsv, lower, upper)\n",
    "    kernel = np.ones((ker_size, ker_size), np.uint8)\n",
    "    img_dilate = cv2.dilate(img_range, kernel, iterations)\n",
    "    img_erode = cv2.erode(img_dilate, kernel, iterations)\n",
    "\n",
    "    contours, hierarchy = cv2.findContours(img_erode, cv2.RETR_EXTERNAL, cv2.CHAIN_APPROX_NONE)\n",
    "    \n",
    "    for each_contour in contours:\n",
    "        x, y, w, h = cv2.boundingRect(each_contour)\n",
    "        if w*h > 8000:\n",
    "            cv2.rectangle(frame, (x, y), (x+w, y+h), (0, 0, 255), 3)\n",
    "    \n",
    "    cv2.imshow(\"capture\", frame)\n",
    "    \n",
    "    key = cv2.waitKey(100)\n",
    "    if key == 27:\n",
    "        break\n",
    "        \n",
    "cap.release()\n",
    "cv2.destroyAllWindows()"
   ]
  },
  {
   "cell_type": "markdown",
   "id": "c14b3e0c-bd67-4941-97fb-b9efde0094fa",
   "metadata": {
    "tags": []
   },
   "source": [
    "### ６．10 fps でカメラから flip した画像をそれぞれ表示してください．（Origin, 1, -1, 0)"
   ]
  },
  {
   "cell_type": "code",
   "execution_count": 32,
   "id": "031b1813-c52d-4516-bd5d-377deea576f1",
   "metadata": {},
   "outputs": [],
   "source": [
    "import cv2\n",
    "cap = cv2.VideoCapture(0)\n",
    "\n",
    "while cap.isOpened():\n",
    "    retval, frame = cap.read()\n",
    "    if retval is None:\n",
    "        print(\"capture error\")\n",
    "        break\n",
    "    \n",
    "    frame_1 = cv2.flip(frame, 1)\n",
    "    frame_2 = cv2.flip(frame, -1)\n",
    "    frame_0 = cv2.flip(frame, 0)\n",
    "    \n",
    "    cv2.imshow(\"origin\", frame)\n",
    "    cv2.imshow(\"capture1\", frame_1)\n",
    "    cv2.imshow(\"capture-1\", frame_2)\n",
    "    cv2.imshow(\"capture0\", frame_0)\n",
    "    \n",
    "    key = cv2.waitKey(100)\n",
    "    if key == 27:\n",
    "        break\n",
    "        \n",
    "cap.release()\n",
    "cv2.destroyAllWindows()"
   ]
  },
  {
   "cell_type": "code",
   "execution_count": null,
   "id": "40e72385-e473-430c-9285-add703b6f7e2",
   "metadata": {},
   "outputs": [],
   "source": []
  },
  {
   "cell_type": "code",
   "execution_count": null,
   "id": "a13b810a-7057-486b-a9ce-6e89b08f0567",
   "metadata": {},
   "outputs": [],
   "source": []
  }
 ],
 "metadata": {
  "kernelspec": {
   "display_name": "Python 3 (ipykernel)",
   "language": "python",
   "name": "python3"
  },
  "language_info": {
   "codemirror_mode": {
    "name": "ipython",
    "version": 3
   },
   "file_extension": ".py",
   "mimetype": "text/x-python",
   "name": "python",
   "nbconvert_exporter": "python",
   "pygments_lexer": "ipython3",
   "version": "3.8.16"
  }
 },
 "nbformat": 4,
 "nbformat_minor": 5
}
