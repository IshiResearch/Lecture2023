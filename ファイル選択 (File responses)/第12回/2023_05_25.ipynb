{
 "cells": [
  {
   "cell_type": "markdown",
   "id": "1d8f7d13-2858-43b6-826f-06ad69a0d8a1",
   "metadata": {},
   "source": [
    "## １．変数 fps 用いて，【fps = 1 fps, 0.2 fps, 10 fps】でカメラから画像を表示してください"
   ]
  },
  {
   "cell_type": "code",
   "execution_count": 1,
   "id": "7102a18a-0ee2-481b-9847-72cdd000ced3",
   "metadata": {
    "tags": []
   },
   "outputs": [],
   "source": [
    "import cv2\n",
    "cap = cv2.VideoCapture(0)\n",
    "while cap.isOpened():\n",
    "    retval, frame = cap.read()\n",
    "    if retval is None:\n",
    "        print('capture error')\n",
    "        break\n",
    "    \n",
    "    cv2.imshow('capture', frame)\n",
    "    \n",
    "    key = cv2.waitKey(1000)\n",
    "    if key == 27:\n",
    "        break\n",
    "    \n",
    "cap.release()\n",
    "cv2.destroyAllWindows()"
   ]
  },
  {
   "cell_type": "code",
   "execution_count": 2,
   "id": "b59ea0b8-7643-47c1-9814-a0efb24d1d53",
   "metadata": {
    "tags": []
   },
   "outputs": [],
   "source": [
    "import cv2\n",
    "cap = cv2.VideoCapture(0)\n",
    "while cap.isOpened():\n",
    "    retval, frame = cap.read()\n",
    "    if retval is None:\n",
    "        print('capture error')\n",
    "        break\n",
    "    \n",
    "    cv2.imshow('capture', frame)\n",
    "    \n",
    "    key = cv2.waitKey(5000)\n",
    "    if key == 27:\n",
    "        break\n",
    "    \n",
    "cap.release()\n",
    "cv2.destroyAllWindows()"
   ]
  },
  {
   "cell_type": "code",
   "execution_count": 3,
   "id": "26aa778d-08d7-4291-a836-1edeb64f9153",
   "metadata": {
    "tags": []
   },
   "outputs": [],
   "source": [
    "import cv2\n",
    "cap = cv2.VideoCapture(0)\n",
    "while cap.isOpened():\n",
    "    retval, frame = cap.read()\n",
    "    if retval is None:\n",
    "        print('capture error')\n",
    "        break\n",
    "    \n",
    "    cv2.imshow('capture', frame)\n",
    "    \n",
    "    key = cv2.waitKey(100)\n",
    "    if key == 27:\n",
    "        break\n",
    "    \n",
    "cap.release()\n",
    "cv2.destroyAllWindows()"
   ]
  },
  {
   "cell_type": "markdown",
   "id": "974de897-d003-465c-ab56-39059cc55092",
   "metadata": {},
   "source": [
    "## 1 fps でカメラ画像，グレー画像をそれぞれ保存してください"
   ]
  },
  {
   "cell_type": "code",
   "execution_count": 6,
   "id": "9bce87cf-a3d3-4c0e-af06-6788a8fbbbb9",
   "metadata": {
    "tags": []
   },
   "outputs": [],
   "source": [
    "import cv2\n",
    "cap = cv2.VideoCapture(0)\n",
    "count = 0\n",
    "while cap.isOpened():\n",
    "    retval, frame = cap.read()\n",
    "    if retval is None:\n",
    "        print('capture error')\n",
    "        break\n",
    "    frame_gray = cv2.cvtColor(frame, cv2.COLOR_BGR2GRAY)\n",
    "    cv2.imshow('capture', frame)\n",
    "    cv2.imshow(\"gray\",frame_gray)\n",
    "    cv2.imwrite('C:\\\\img\\\\cam_img'+str(count)+'.jpg',frame)\n",
    "    cv2.imwrite('C:\\\\img\\\\cam_img'+str(count)+'g.jpg',frame_gray)\n",
    "    key = cv2.waitKey(1000)\n",
    "    if key == 27:\n",
    "        break\n",
    "    \n",
    "cap.release()\n",
    "cv2.destroyAllWindows()"
   ]
  },
  {
   "cell_type": "markdown",
   "id": "c6da3850-c233-4d47-8b09-c861670e84f3",
   "metadata": {},
   "source": [
    "## 1 fps で平滑化画像，グレー画像，二値化画像を表示してください"
   ]
  },
  {
   "cell_type": "code",
   "execution_count": 4,
   "id": "44334616-2653-4b5c-853e-6d15c4f05ffa",
   "metadata": {
    "tags": []
   },
   "outputs": [],
   "source": [
    "import cv2\n",
    "cap = cv2.VideoCapture(0)\n",
    "while cap.isOpened():\n",
    "    retval, frame = cap.read()\n",
    "    if retval is None:\n",
    "        print('capture error')\n",
    "        break\n",
    "    frame_gray = cv2.cvtColor(frame_blur, cv2.COLOR_BGR2GRAY)\n",
    "    frame_blur = cv2.blur(frame,(3,3))\n",
    "    ret,frame_thresh = cv2.threshold(frame_gray, 127, 255, cv2.THRESH_BINARY)\n",
    "    cv2.imshow('blur', frame_blur)\n",
    "    cv2.imshow(\"gray\",frame_gray)\n",
    "    cv2.imshow(\"thresh\",frame_thresh)\n",
    "  \n",
    "    key = cv2.waitKey(1000)\n",
    "    if key == 27:\n",
    "        break\n",
    "    \n",
    "cap.release()\n",
    "cv2.destroyAllWindows()"
   ]
  },
  {
   "cell_type": "markdown",
   "id": "46eea582-2594-4eb1-82a2-8ad03934f53e",
   "metadata": {},
   "source": [
    "## 1 fps でカメラから好きなものを検出した画像を表示させてください．"
   ]
  },
  {
   "cell_type": "code",
   "execution_count": 33,
   "id": "8f1a794a-7ff6-4181-9bb0-765d7197b3d4",
   "metadata": {
    "tags": []
   },
   "outputs": [],
   "source": [
    "import numpy as np\n",
    "img = cv2.imread('C:\\\\img\\\\mandm.jpg')\n",
    "lower_range = np.array([75, 64, 127])\n",
    "upper_range = np.array([150,128,255])\n",
    "\n",
    "while True:\n",
    "    #hsvに変換\n",
    "    img_hsv = cv2.cvtColor(img,cv2.COLOR_BGR2HSV)\n",
    "   \n",
    "    img_range = cv2.inRange(img_hsv,lower_range,upper_range)\n",
    "    #輪郭を描く\n",
    "    contours,hier = cv2.findContours(img_range,cv2.RETR_EXTERNAL,cv2.CHAIN_APPROX_SIMPLE)\n",
    "    for each_contour in contours:\n",
    "       \n",
    "        x,y,w,h = cv2.boundingRect(each_contour)\n",
    "        cv2.rectangle(img,(x,y),(x+w,y+h),(0,0,255),3)\n",
    "    \n",
    "    cv2.imshow(\"img\",img)\n",
    "    key = cv2.waitKey(1000)\n",
    "    if key == 27:\n",
    "        break\n",
    "\n",
    "\n",
    "cv2.destroyAllWindows()"
   ]
  },
  {
   "cell_type": "markdown",
   "id": "84cabf2a-e036-4848-af33-caa88c6bb564",
   "metadata": {
    "tags": []
   },
   "source": [
    "## 10 fps でカメラから手のひらを検出した画像を表示させてください．"
   ]
  },
  {
   "cell_type": "code",
   "execution_count": 25,
   "id": "e8617ca6-4580-4ab9-927c-4ad7cb37576e",
   "metadata": {
    "tags": []
   },
   "outputs": [],
   "source": [
    "cap = cv2.VideoCapture(0)\n",
    "\n",
    "BG = None\n",
    "\n",
    "while True:\n",
    "    # 1フレームずつ取得する。\n",
    "    ret, frame = cap.read()\n",
    "    if not ret:\n",
    "        break\n",
    "\n",
    "    # グレースケールに変換\n",
    "    gray = cv2.cvtColor(frame, cv2.COLOR_BGR2GRAY)\n",
    "    # 比較用のフレームを取得する\n",
    "    if BG is None:\n",
    "        BG = gray\n",
    "        continue\n",
    "\n",
    "    \n",
    "    \n",
    "    frameDelta = cv2.absdiff(gray,BG)\n",
    "\n",
    "    # 閾値処理を行う\n",
    "    thresh = cv2.threshold(frameDelta, 127, 255, cv2.THRESH_BINARY)[1]\n",
    "    # 画像の閾値に輪郭をかく\n",
    "    contours, hierarchy = cv2.findContours(thresh.copy(), cv2.RETR_EXTERNAL, cv2.CHAIN_APPROX_SIMPLE)\n",
    "    for each_contour in contours:\n",
    "        x,y,w,h = cv2.boundingRect(each_contour)\n",
    "        \n",
    "        frame =cv2.rectangle(frame,(x,y),(x+w,y+h),(255,255,255),3)\n",
    "    \n",
    "\n",
    "    # 結果を出力\n",
    "    cv2.imshow(\"Camera\", frame)\n",
    "   \n",
    "    key = cv2.waitKey(100)\n",
    "    if key == 27:\n",
    "        break\n",
    "\n",
    "cap.release()\n",
    "cv2.destroyAllWindows()"
   ]
  },
  {
   "cell_type": "markdown",
   "id": "f413b923-c8e6-450c-8e0b-b2a6abb819d3",
   "metadata": {},
   "source": [
    "## 10 fps でカメラから flip した画像をそれぞれ表示してください． "
   ]
  },
  {
   "cell_type": "code",
   "execution_count": 29,
   "id": "dbabdb79-a027-454e-97bd-e22fddc99740",
   "metadata": {
    "tags": []
   },
   "outputs": [],
   "source": [
    "import cv2\n",
    "cap = cv2.VideoCapture(0)\n",
    "while cap.isOpened():\n",
    "    retval, frame = cap.read()\n",
    "    if retval is None:\n",
    "        print('capture error')\n",
    "        break\n",
    "    frame_flip = cv2.flip(frame,0)\n",
    "    frame_flip1 = cv2.flip(frame,-1)\n",
    "    frame_flip2 = cv2.flip(frame,1)\n",
    "    cv2.imshow('capture', frame)\n",
    "    cv2.imshow('capture0', frame_flip)\n",
    "    cv2.imshow('capture-1', frame_flip1)\n",
    "    cv2.imshow('capture1', frame_flip2)\n",
    "    \n",
    "    key = cv2.waitKey(100)\n",
    "    if key == 27:\n",
    "        break\n",
    "    \n",
    "cap.release()\n",
    "cv2.destroyAllWindows()"
   ]
  },
  {
   "cell_type": "code",
   "execution_count": null,
   "id": "96476c06-7ac5-4ad6-8837-dabe4ea69012",
   "metadata": {},
   "outputs": [],
   "source": []
  }
 ],
 "metadata": {
  "kernelspec": {
   "display_name": "Python 3 (ipykernel)",
   "language": "python",
   "name": "python3"
  },
  "language_info": {
   "codemirror_mode": {
    "name": "ipython",
    "version": 3
   },
   "file_extension": ".py",
   "mimetype": "text/x-python",
   "name": "python",
   "nbconvert_exporter": "python",
   "pygments_lexer": "ipython3",
   "version": "3.8.16"
  }
 },
 "nbformat": 4,
 "nbformat_minor": 5
}
