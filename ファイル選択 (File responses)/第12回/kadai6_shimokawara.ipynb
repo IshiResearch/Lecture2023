{
 "cells": [
  {
   "cell_type": "code",
   "execution_count": 1,
   "id": "c4c35000-9eb9-440b-9e35-92b5aff04d5e",
   "metadata": {
    "tags": []
   },
   "outputs": [],
   "source": [
    "import cv2\n",
    "import matplotlib.pyplot as plt\n",
    "import numpy as np"
   ]
  },
  {
   "cell_type": "markdown",
   "id": "afa150d5-60b9-418a-8b20-e2c24f073e37",
   "metadata": {},
   "source": [
    "## 1.1fps 0.2fps 10fpsでカメラから画像を表示"
   ]
  },
  {
   "cell_type": "code",
   "execution_count": 3,
   "id": "03dcbd26-810a-49e6-b44a-1a704f142c5e",
   "metadata": {
    "tags": []
   },
   "outputs": [],
   "source": [
    "cap = cv2.VideoCapture(0)\n",
    "\n",
    "while cap.isOpened():\n",
    "    retval, frame = cap.read()\n",
    "    if retval is None:\n",
    "        print('capture error')\n",
    "        break\n",
    "        \n",
    "    cv2.imshow('capture',frame)\n",
    "    \n",
    "    key = cv2.waitKey(1000)\n",
    "    if key == 27:\n",
    "        break\n",
    "        \n",
    "cap.release()\n",
    "cv2.destroyAllWindows()"
   ]
  },
  {
   "cell_type": "code",
   "execution_count": 5,
   "id": "ef852ef8-f003-467d-936e-437a2eabaee2",
   "metadata": {
    "tags": []
   },
   "outputs": [],
   "source": [
    "cap = cv2.VideoCapture(0)\n",
    "\n",
    "while cap.isOpened():\n",
    "    retval, frame = cap.read()\n",
    "    if retval is None:\n",
    "        print('capture error')\n",
    "        break\n",
    "        \n",
    "    cv2.imshow('capture',frame)\n",
    "    \n",
    "    key = cv2.waitKey(5000)\n",
    "    if key == 27:\n",
    "        break\n",
    "        \n",
    "cap.release()\n",
    "cv2.destroyAllWindows()"
   ]
  },
  {
   "cell_type": "code",
   "execution_count": 6,
   "id": "034cdf2f-b8d4-4191-a339-fdf5db15a079",
   "metadata": {
    "tags": []
   },
   "outputs": [],
   "source": [
    "cap = cv2.VideoCapture(0)\n",
    "\n",
    "while cap.isOpened():\n",
    "    retval, frame = cap.read()\n",
    "    if retval is None:\n",
    "        print('capture error')\n",
    "        break\n",
    "        \n",
    "    cv2.imshow('capture',frame)\n",
    "    \n",
    "    key = cv2.waitKey(100)\n",
    "    if key == 27:\n",
    "        break\n",
    "        \n",
    "cap.release()\n",
    "cv2.destroyAllWindows()"
   ]
  },
  {
   "cell_type": "markdown",
   "id": "5c17d5c8-af57-49ff-842d-ce71d1784a2f",
   "metadata": {},
   "source": [
    "## 2. 1fpsでカメラ画像、グレー画像をそれぞれ保存"
   ]
  },
  {
   "cell_type": "code",
   "execution_count": 1,
   "id": "7e7353fb-eef7-40b9-87fc-97dd2205b2b1",
   "metadata": {
    "tags": []
   },
   "outputs": [],
   "source": [
    "import cv2\n",
    "\n",
    "cap = cv2.VideoCapture(0)\n",
    "count = 0\n",
    "path = 'C:\\\\Users\\\\Shimo_Y_15\\\\20230525'\n",
    "\n",
    "while cap.isOpened():\n",
    "    retval, frame = cap.read()\n",
    "    if retval is None:\n",
    "        print('capture error')\n",
    "        break\n",
    "        \n",
    "        \n",
    "    frame_gray = cv2.cvtColor(frame,cv2.COLOR_BGR2GRAY)\n",
    "    \n",
    "    cv2.imshow('capture',frame)\n",
    "    cv2.imshow('gray',frame_gray)\n",
    "    count += 1\n",
    "    cv2.imwrite('C:\\\\Users\\\\Shimo_Y_15\\\\20230525\\\\capture'+ str(count) + '.jpg',frame)\n",
    "    cv2.imwrite('C:\\\\Users\\\\Shimo_Y_15\\\\20230525\\\\gray'+ str(count) + '.jpg',frame_gray)\n",
    "    \n",
    "    \n",
    "    \n",
    "    key = cv2.waitKey(1000)\n",
    "    if key == 27:\n",
    "        break\n",
    "        \n",
    "cap.release()\n",
    "cv2.destroyAllWindows()"
   ]
  },
  {
   "cell_type": "markdown",
   "id": "e69b2bd0-1e40-4243-967d-ec01cd8af4ed",
   "metadata": {},
   "source": [
    "## 3. 1fpsで平滑化、グレー画像、二値化画像を表示"
   ]
  },
  {
   "cell_type": "code",
   "execution_count": 3,
   "id": "29fa23f7-0b2f-47c6-a1bc-f95b632629d2",
   "metadata": {
    "tags": []
   },
   "outputs": [],
   "source": [
    "import cv2\n",
    "\n",
    "cap = cv2.VideoCapture(0)\n",
    "\n",
    "while cap.isOpened():\n",
    "    retval, frame = cap.read()\n",
    "    if retval is None:\n",
    "        print('capture error')\n",
    "        break\n",
    "    \n",
    "    frame_blur = cv2.blur(frame,(5,5))\n",
    "    frame_gray = cv2.cvtColor(frame,cv2.COLOR_BGR2GRAY)\n",
    "    ret,frame_thresh = cv2.threshold(frame_gray,80,255,cv2.THRESH_BINARY)\n",
    "    \n",
    "    \n",
    "    cv2.imshow('capture',frame)\n",
    "    cv2.imshow('blur',frame_blur)\n",
    "    cv2.imshow('gray',frame_gray)\n",
    "    cv2.imshow('thresh',frame_thresh)\n",
    "    \n",
    "    key = cv2.waitKey(1000)\n",
    "    if key == 27:\n",
    "        break\n",
    "        \n",
    "cap.release()\n",
    "cv2.destroyAllWindows()"
   ]
  },
  {
   "cell_type": "markdown",
   "id": "fda66162-578c-4c04-8823-80f6af62dbbe",
   "metadata": {},
   "source": [
    "## 4.1fpsでカメラから好きなものを検出した画像を表示（ノイズ処理、赤い四角で囲む）"
   ]
  },
  {
   "cell_type": "code",
   "execution_count": 19,
   "id": "92f2de6b-9f42-4c8b-beca-893f721dd1ea",
   "metadata": {
    "tags": []
   },
   "outputs": [],
   "source": [
    "import cv2\n",
    "import matplotlib.pyplot as plt\n",
    "import numpy as np\n",
    "\n",
    "cap = cv2.VideoCapture(0)\n",
    "\n",
    "while cap.isOpened():\n",
    "    retval, frame = cap.read()\n",
    "    frame_copy = frame\n",
    "    \n",
    "    cv2.imshow('capture',frame_copy)\n",
    "    \n",
    "    if retval is None:\n",
    "        print('capture error')\n",
    "        break\n",
    "    \n",
    "    frame_blur = cv2.blur(frame,(5,5))\n",
    "    frame_hsv = cv2.cvtColor(frame,cv2.COLOR_BGR2HSV)\n",
    "    \n",
    "    upper = np.array([90,255,200])\n",
    "    lower = np.array([30,0,0])\n",
    "    \n",
    "    frame_range = cv2.inRange(frame_hsv,lower,upper)\n",
    "    \n",
    "    kernel = np.ones((5,5),np.uint8)\n",
    "    frame_erode = cv2.erode(frame_range,kernel)\n",
    "    frame_dilate = cv2.dilate(frame_erode,kernel)\n",
    "    contours, hierarchy = cv2.findContours(frame_dilate, cv2.RETR_EXTERNAL,cv2.CHAIN_APPROX_NONE)\n",
    "    \n",
    "    for each_contour in contours:\n",
    "        x,y,w,h = cv2.boundingRect(each_contour)\n",
    "        \n",
    "        frame_rect = cv2.rectangle(frame,(x,y),(x+w, y+h),(0,0,255,3))\n",
    "        \n",
    "    \n",
    "    \n",
    "    \n",
    "    cv2.imshow('blur',frame_blur)\n",
    "    cv2.imshow('hsv',frame_hsv)\n",
    "    cv2.imshow('rect',frame_rect)\n",
    "    \n",
    "    \n",
    "    key = cv2.waitKey(1000)\n",
    "    if key == 27:\n",
    "        break\n",
    "        \n",
    "cap.release()\n",
    "cv2.destroyAllWindows()"
   ]
  },
  {
   "cell_type": "markdown",
   "id": "72f69f1f-e76b-453e-8973-7d37dea5461d",
   "metadata": {},
   "source": [
    "## 5. 10fpsでカメラから手のひらを検出した画像を表示"
   ]
  },
  {
   "cell_type": "code",
   "execution_count": 3,
   "id": "8de1ad21-648b-4fc6-95f8-e7b096a09d22",
   "metadata": {
    "tags": []
   },
   "outputs": [],
   "source": [
    "import cv2\n",
    "import matplotlib.pyplot as plt\n",
    "import numpy as np\n",
    "\n",
    "cap = cv2.VideoCapture(0)\n",
    "\n",
    "while cap.isOpened():\n",
    "    retval, frame = cap.read()\n",
    "    frame_copy = frame\n",
    "    \n",
    "    cv2.imshow('capture',frame_copy)\n",
    "    \n",
    "    if retval is None:\n",
    "        print('capture error')\n",
    "        break\n",
    "    \n",
    "    frame_blur = cv2.blur(frame,(5,5))\n",
    "    frame_hsv = cv2.cvtColor(frame,cv2.COLOR_BGR2HSV)\n",
    "    \n",
    "    upper = np.array([15,180,180])\n",
    "    lower = np.array([0,70,0])\n",
    "    \n",
    "    frame_range = cv2.inRange(frame_hsv,lower,upper)\n",
    "    \n",
    "    kernel = np.ones((5,5),np.uint8)\n",
    "    frame_erode = cv2.erode(frame_range,kernel)\n",
    "    frame_dilate = cv2.dilate(frame_erode,kernel)\n",
    "    contours, hierarchy = cv2.findContours(frame_dilate, cv2.RETR_EXTERNAL,cv2.CHAIN_APPROX_SIMPLE)\n",
    "    \n",
    "    for each_contour in contours:\n",
    "        x,y,w,h = cv2.boundingRect(each_contour)\n",
    "        \n",
    "        frame_rect = cv2.drawContours(frame,contours,-1,(0,0,255),3,cv2.LINE_AA)\n",
    "        \n",
    "    \n",
    "    \n",
    "    \n",
    "    cv2.imshow('rect',frame_rect)\n",
    "    \n",
    "    \n",
    "    key = cv2.waitKey(100)\n",
    "    if key == 27:\n",
    "        break\n",
    "        \n",
    "cap.release()\n",
    "cv2.destroyAllWindows()"
   ]
  },
  {
   "cell_type": "markdown",
   "id": "4416a8ac-a15c-410e-809c-cd643945ddec",
   "metadata": {},
   "source": [
    "## 6. 10fpsでカメラからflipした画像を表示"
   ]
  },
  {
   "cell_type": "code",
   "execution_count": 4,
   "id": "293d1f33-a577-416d-8174-5641531e68f9",
   "metadata": {
    "tags": []
   },
   "outputs": [],
   "source": [
    "import cv2\n",
    "\n",
    "cap = cv2.VideoCapture(0)\n",
    "\n",
    "while cap.isOpened():\n",
    "    retval, frame = cap.read()\n",
    "    if retval is None:\n",
    "        print('capture error')\n",
    "        break\n",
    "    \n",
    "    cv2.imshow('capture',frame)\n",
    "    \n",
    "    \n",
    "    frame_flip1 = cv2.flip(frame,1)\n",
    "    cv2.imshow('flip1',frame_flip1)\n",
    "    \n",
    "    frame_flip_1 = cv2.flip(frame, -1)\n",
    "    cv2.imshow('flip-1',frame_flip_1)\n",
    "    \n",
    "    frame_flip0 = cv2.flip(frame,0)\n",
    "    cv2.imshow('flip0',frame_flip0)\n",
    "    \n",
    "    \n",
    "    key = cv2.waitKey(100)\n",
    "    if key == 27:\n",
    "        break\n",
    "        \n",
    "cap.release()\n",
    "cv2.destroyAllWindows()"
   ]
  },
  {
   "cell_type": "code",
   "execution_count": null,
   "id": "7b713825-77aa-4fd8-a3a0-62bb4ebdb9d7",
   "metadata": {},
   "outputs": [],
   "source": []
  }
 ],
 "metadata": {
  "kernelspec": {
   "display_name": "Python 3 (ipykernel)",
   "language": "python",
   "name": "python3"
  },
  "language_info": {
   "codemirror_mode": {
    "name": "ipython",
    "version": 3
   },
   "file_extension": ".py",
   "mimetype": "text/x-python",
   "name": "python",
   "nbconvert_exporter": "python",
   "pygments_lexer": "ipython3",
   "version": "3.8.16"
  }
 },
 "nbformat": 4,
 "nbformat_minor": 5
}
