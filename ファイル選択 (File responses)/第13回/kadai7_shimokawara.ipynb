{
 "cells": [
  {
   "cell_type": "code",
   "execution_count": 1,
   "id": "90d0b8ab-ab12-42e4-bc56-4ca310be42d4",
   "metadata": {
    "tags": []
   },
   "outputs": [],
   "source": [
    "import cv2"
   ]
  },
  {
   "cell_type": "markdown",
   "id": "d58a3f55-b120-4c78-b571-03b1a1be9d3b",
   "metadata": {},
   "source": [
    "## 1.Football内のフレーム画像から動画を再構築し保存する"
   ]
  },
  {
   "cell_type": "code",
   "execution_count": 16,
   "id": "b8d13dc2-2da2-4d38-81c4-2a146b7ad434",
   "metadata": {
    "tags": []
   },
   "outputs": [],
   "source": [
    "save_name = \"Football_1.mp4\"\n",
    "fourcc = cv2.VideoWriter_fourcc('m','p','4','v')\n",
    "fps = 30.0\n",
    "size = (1920,1080)\n",
    "video = cv2.VideoWriter(save_name, fourcc, fps, size)"
   ]
  },
  {
   "cell_type": "code",
   "execution_count": 52,
   "id": "a126f1e4-ac69-4467-ace2-fe416190af28",
   "metadata": {
    "tags": []
   },
   "outputs": [],
   "source": [
    "count = 0\n",
    "\n",
    "while True:\n",
    "    count += 1\n",
    "    fname = \"C:\\\\Users\\\\Shimo_Y_15\\\\20230529\\\\Football\\\\\"+ str(count)+\".jpg\"\n",
    "    frame = cv2.imread(fname)\n",
    "    \n",
    "    if count > 246:\n",
    "        break\n",
    "    \n",
    "    video.write(frame)\n",
    "    cv2.imshow(\"Video\",frame)\n",
    "    if cv2.waitKey(1) == ord(\"q\"):\n",
    "        break\n",
    "        \n",
    "        \n",
    "        \n",
    "video.release()\n",
    "cv2.destroyAllWindows()\n",
    "\n",
    "    "
   ]
  },
  {
   "cell_type": "markdown",
   "id": "41f09c6d-b17b-4b79-beb5-4051dd98e321",
   "metadata": {},
   "source": [
    "## 2.幅720,高さ480に再構築、保存"
   ]
  },
  {
   "cell_type": "code",
   "execution_count": 28,
   "id": "33d833e2-dbcc-46cf-8b81-c6a3c7d2005f",
   "metadata": {
    "tags": []
   },
   "outputs": [],
   "source": [
    "save_name = \"Football_2.mp4\"\n",
    "fourcc = cv2.VideoWriter_fourcc('m','p','4','v')\n",
    "fps = 30.0\n",
    "size = (720,480)\n",
    "video = cv2.VideoWriter(save_name, fourcc, fps, size)"
   ]
  },
  {
   "cell_type": "code",
   "execution_count": 29,
   "id": "7c7ba40b-6425-4b2d-beea-d3a77b4d94d4",
   "metadata": {
    "tags": []
   },
   "outputs": [],
   "source": [
    "count = 0\n",
    "\n",
    "while True:\n",
    "    count += 1\n",
    "    fname = \"C:\\\\Users\\\\Shimo_Y_15\\\\20230529\\\\Football\\\\\"+ str(count)+\".jpg\"\n",
    "    frame = cv2.imread(fname)\n",
    "    fra_res = cv2.resize(frame,size)\n",
    "    \n",
    "    if count > 246:\n",
    "        break\n",
    "    \n",
    "    video.write(fra_res)\n",
    "    cv2.imshow(\"Video\",fra_res)\n",
    "    if cv2.waitKey(1) == ord(\"q\"):\n",
    "        break\n",
    "        \n",
    "        \n",
    "        \n",
    "video.release()\n",
    "cv2.destroyAllWindows()"
   ]
  },
  {
   "cell_type": "markdown",
   "id": "f43f8f0e-6553-48a5-bc63-263d5a456f85",
   "metadata": {},
   "source": [
    "## 3.FOURCCをH.264形式で保存"
   ]
  },
  {
   "cell_type": "code",
   "execution_count": 55,
   "id": "21b06346-d3a7-482e-92e5-27ea07d82a6a",
   "metadata": {
    "tags": []
   },
   "outputs": [],
   "source": [
    "save_name = \"Football_3.mp4\"\n",
    "fourcc = cv2.VideoWriter_fourcc('h','2','6','4')\n",
    "fps = 30.0\n",
    "size = (1920,1080)\n",
    "video = cv2.VideoWriter(save_name, fourcc, fps, size)"
   ]
  },
  {
   "cell_type": "code",
   "execution_count": 56,
   "id": "f527ab01-68c6-4d8f-b267-46904ec1f366",
   "metadata": {
    "tags": []
   },
   "outputs": [],
   "source": [
    "count = 0\n",
    "\n",
    "while True:\n",
    "    count += 1\n",
    "    fname = \"C:\\\\Users\\\\Shimo_Y_15\\\\20230529\\\\Football\\\\\"+ str(count)+\".jpg\"\n",
    "    frame = cv2.imread(fname)\n",
    "    \n",
    "    if count > 246:\n",
    "        break\n",
    "    \n",
    "    video.write(frame)\n",
    "    cv2.imshow(\"Video\",frame)\n",
    "    if cv2.waitKey(1) == ord(\"q\"):\n",
    "        break\n",
    "        \n",
    "        \n",
    "        \n",
    "video.release()\n",
    "cv2.destroyAllWindows()\n",
    "\n",
    "    "
   ]
  },
  {
   "cell_type": "markdown",
   "id": "daaffe1f-f771-4b79-8ac9-dd3bc9f07b79",
   "metadata": {},
   "source": [
    "## 4.手のひらを検出するプログラムを10FPS,1FPSで保存"
   ]
  },
  {
   "cell_type": "code",
   "execution_count": 73,
   "id": "5c7f7f5c-b7ba-463a-bcda-81b2554e41c8",
   "metadata": {
    "tags": []
   },
   "outputs": [],
   "source": [
    "save_name = \"Find_10.mp4\"\n",
    "fourcc = cv2.VideoWriter_fourcc('m','p','4','v')\n",
    "fps = 10\n",
    "size = (640,480)\n",
    "writer = cv2.VideoWriter(save_name, fourcc, fps, size)"
   ]
  },
  {
   "cell_type": "code",
   "execution_count": 74,
   "id": "3f049bef-69f4-427d-8dea-cfb2e1eeda90",
   "metadata": {
    "tags": []
   },
   "outputs": [],
   "source": [
    "import cv2\n",
    "import matplotlib.pyplot as plt\n",
    "import numpy as np\n",
    "\n",
    "\n",
    "cap = cv2.VideoCapture(0)\n",
    "\n",
    "while cap.isOpened():\n",
    "    retval, frame = cap.read()\n",
    "    frame_copy = frame\n",
    "    \n",
    "    cv2.imshow('capture',frame_copy)\n",
    "    \n",
    "    if retval is None:\n",
    "        print('capture error')\n",
    "        break\n",
    "    \n",
    "    frame_blur = cv2.blur(frame,(5,5))\n",
    "    frame_hsv = cv2.cvtColor(frame,cv2.COLOR_BGR2HSV)\n",
    "    \n",
    "    upper = np.array([15,180,180])\n",
    "    lower = np.array([0,70,0])\n",
    "    \n",
    "    frame_range = cv2.inRange(frame_hsv,lower,upper)\n",
    "    \n",
    "    kernel = np.ones((5,5),np.uint8)\n",
    "    frame_erode = cv2.erode(frame_range,kernel)\n",
    "    frame_dilate = cv2.dilate(frame_erode,kernel)\n",
    "    contours, hierarchy = cv2.findContours(frame_dilate, cv2.RETR_EXTERNAL,cv2.CHAIN_APPROX_SIMPLE)\n",
    "    \n",
    "    for each_contour in contours:\n",
    "        x,y,w,h = cv2.boundingRect(each_contour)\n",
    "        \n",
    "        frame_rect = cv2.drawContours(frame,contours,-1,(0,0,255),3,cv2.LINE_AA)\n",
    "        \n",
    "    writer.write(frame_rect)\n",
    "    \n",
    "    cv2.imshow('rect',frame_rect)\n",
    "    \n",
    "    \n",
    "    key = cv2.waitKey(100)\n",
    "    if key == 27:\n",
    "        break\n",
    "\n",
    "writer.release()        \n",
    "cap.release()\n",
    "cv2.destroyAllWindows()"
   ]
  },
  {
   "cell_type": "code",
   "execution_count": 75,
   "id": "24279f5a-a2f0-4fa6-b899-8d338877a0d5",
   "metadata": {
    "tags": []
   },
   "outputs": [],
   "source": [
    "save_name = \"Find_1.mp4\"\n",
    "fourcc = cv2.VideoWriter_fourcc('m','p','4','v')\n",
    "fps = 1\n",
    "size = (640,480)\n",
    "writer = cv2.VideoWriter(save_name, fourcc, fps, size)"
   ]
  },
  {
   "cell_type": "code",
   "execution_count": 76,
   "id": "114c1c70-7a5c-4629-a6dd-2de69414a5ef",
   "metadata": {
    "tags": []
   },
   "outputs": [],
   "source": [
    "import cv2\n",
    "import matplotlib.pyplot as plt\n",
    "import numpy as np\n",
    "\n",
    "\n",
    "cap = cv2.VideoCapture(0)\n",
    "\n",
    "while cap.isOpened():\n",
    "    retval, frame = cap.read()\n",
    "    frame_copy = frame\n",
    "    \n",
    "    cv2.imshow('capture',frame_copy)\n",
    "    \n",
    "    if retval is None:\n",
    "        print('capture error')\n",
    "        break\n",
    "    \n",
    "    frame_blur = cv2.blur(frame,(5,5))\n",
    "    frame_hsv = cv2.cvtColor(frame,cv2.COLOR_BGR2HSV)\n",
    "    \n",
    "    upper = np.array([15,180,180])\n",
    "    lower = np.array([0,70,0])\n",
    "    \n",
    "    frame_range = cv2.inRange(frame_hsv,lower,upper)\n",
    "    \n",
    "    kernel = np.ones((5,5),np.uint8)\n",
    "    frame_erode = cv2.erode(frame_range,kernel)\n",
    "    frame_dilate = cv2.dilate(frame_erode,kernel)\n",
    "    contours, hierarchy = cv2.findContours(frame_dilate, cv2.RETR_EXTERNAL,cv2.CHAIN_APPROX_SIMPLE)\n",
    "    \n",
    "    for each_contour in contours:\n",
    "        x,y,w,h = cv2.boundingRect(each_contour)\n",
    "        \n",
    "        frame_rect = cv2.drawContours(frame,contours,-1,(0,0,255),3,cv2.LINE_AA)\n",
    "        \n",
    "    writer.write(frame_rect)\n",
    "    \n",
    "    cv2.imshow('rect',frame_rect)\n",
    "    \n",
    "    \n",
    "    key = cv2.waitKey(100)\n",
    "    if key == 27:\n",
    "        break\n",
    "\n",
    "writer.release()        \n",
    "cap.release()\n",
    "cv2.destroyAllWindows()"
   ]
  },
  {
   "cell_type": "markdown",
   "id": "5e4a995c-ca50-4807-b119-8b24b45de6a0",
   "metadata": {},
   "source": [
    "## 5.aキーが押されたら５秒巻き戻し、ｄキーが押されたら５秒スキップ"
   ]
  },
  {
   "cell_type": "code",
   "execution_count": 15,
   "id": "005db576-2187-4969-a8b9-1559cb31cb2a",
   "metadata": {
    "tags": []
   },
   "outputs": [
    {
     "name": "stdout",
     "output_type": "stream",
     "text": [
      "34.00"
     ]
    }
   ],
   "source": [
    "import cv2\n",
    "cap = cv2.VideoCapture(\"C:\\\\Users\\\\Shimo_Y_15\\\\20230529\\\\Football_1.mp4\")\n",
    "while True:\n",
    "    ret, frame = cap.read()\n",
    "    frame_count = cap.get(cv2.CAP_PROP_POS_FRAMES)\n",
    "    \n",
    "    if cv2.waitKey(30) == ord('a'):\n",
    "        cap.set(cv2.CAP_PROP_POS_FRAMES,(frame_count-150))\n",
    "    \n",
    "    if cv2.waitKey(30) == ord('d'):\n",
    "        cap.set(cv2.CAP_PROP_POS_FRAMES,(frame_count+150))\n",
    "        \n",
    "    print(f\"\\r{frame_count}\", end=\"\")\n",
    "    if ret == False:\n",
    "        break\n",
    " \n",
    "    cv2.putText(frame, str(frame_count), (10, 50), cv2.FONT_HERSHEY_TRIPLEX, 2,(0, 0, 0), 5)\n",
    "    cv2.imshow(\"Video\", frame)\n",
    "    if cv2.waitKey(30) == ord('q'):\n",
    "        break\n",
    "\n",
    "cap.release()\n",
    "cv2.destroyAllWindows()"
   ]
  },
  {
   "cell_type": "code",
   "execution_count": null,
   "id": "7765b91c-61c8-4acc-b5c8-d5f075b18840",
   "metadata": {},
   "outputs": [],
   "source": []
  },
  {
   "cell_type": "code",
   "execution_count": null,
   "id": "64751478-5a68-4b7b-9e6a-d5fa280f8c99",
   "metadata": {},
   "outputs": [],
   "source": []
  }
 ],
 "metadata": {
  "kernelspec": {
   "display_name": "Python 3 (ipykernel)",
   "language": "python",
   "name": "python3"
  },
  "language_info": {
   "codemirror_mode": {
    "name": "ipython",
    "version": 3
   },
   "file_extension": ".py",
   "mimetype": "text/x-python",
   "name": "python",
   "nbconvert_exporter": "python",
   "pygments_lexer": "ipython3",
   "version": "3.8.16"
  }
 },
 "nbformat": 4,
 "nbformat_minor": 5
}
