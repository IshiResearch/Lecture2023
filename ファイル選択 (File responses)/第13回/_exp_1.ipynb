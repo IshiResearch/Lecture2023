{
 "cells": [
  {
   "attachments": {},
   "cell_type": "markdown",
   "metadata": {},
   "source": [
    "> **Note**\n",
    "## MP4V と H.264 の違い\n",
    "MP4V は MPEG-4 Visual という動画フォーマットの一種で、H.264 は MPEG-4 AVC という動画フォーマットの一種です。\n",
    "H.264の方が圧縮率が高く、高画質であるため、YouTubeや8Kテレビなどで使われています。\n",
    "\n",
    "[8Kファイルフォーマットの動向と標準化への取り組み - NHK](https://www.nhk.or.jp/strl/publica/rd/177/3.html)\n",
    "\n",
    "\n",
    "<figure><img src=\"../../images/34c37af45b3ea2f13838d416768d3c2d17dd91a8f260ddd6de7d266c057daa95.jpg\"><figcaption>MP4Vで保存したとき</figcaption></figure>\n",
    "<figure><img src=\"../../images/d3a938255c26a4195305e4000c72b9bb7c41211e3cb373bff3d7a0faa7bb7223.jpg\"><figcaption>H264で保存したとき</figcaption></figure>"
   ]
  },
  {
   "attachments": {},
   "cell_type": "markdown",
   "metadata": {},
   "source": [
    "> **Note** \n",
    "### 設問5の解答例  \n",
    "setメソッドの第二引数をframe_count+(定数)ではFPSによって巻き戻り・スキップする時間が変わってしまうため、frame_count+(fps*秒数)とすることで、動画のFPSに関わらず、5秒ずつスキップ・巻き戻しができます。  \n",
    "\n",
    "```python\n",
    "interval = 5\n",
    "fps = cap.get(cv2.CAP_PROP_FPS)\n",
    "\n",
    "while True:\n",
    "    ret, frame = cap.read()\n",
    "    frame_count = cap.get(cv2.CAP_PROP_POS_FRAMES)\n",
    "    \n",
    "    print(f\"\\r{frame_count}\", end=\"\")\n",
    "    if ret == False:\n",
    "        break\n",
    "    \n",
    "    cv2.putText(frame, str(frame_count), (10, 50), cv2.FONT_HERSHEY_TRIPLEX, 2, (0, 0, 0), 5)\n",
    "    cv2.imshow(\"Video\", frame)\n",
    "\n",
    "    # 5秒戻る\n",
    "    if cv2.waitKey(1) == ord(\"a\"):\n",
    "        cap.set(cv2.CAP_PROP_POS_FRAMES, frame_count-(fps*interval))\n",
    "\n",
    "    # 5秒進む\n",
    "    elif cv2.waitKey(1) == ord(\"d\"):\n",
    "        cap.set(cv2.CAP_PROP_POS_FRAMES, frame_count+(fps*interval))\n",
    "\n",
    "    elif cv2.waitKey(1) == ord('q'):\n",
    "        break\n",
    "\n",
    "cv2.destroyAllWindows()\n",
    "```"
   ]
  }
 ],
 "metadata": {
  "kernelspec": {
   "display_name": "Python 3",
   "language": "python",
   "name": "python3"
  },
  "language_info": {
   "name": "python",
   "version": "3.9.7"
  },
  "orig_nbformat": 4
 },
 "nbformat": 4,
 "nbformat_minor": 2
}
