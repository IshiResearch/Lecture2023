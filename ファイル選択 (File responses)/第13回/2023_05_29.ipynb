{
 "cells": [
  {
   "cell_type": "code",
   "execution_count": 1,
   "id": "ed1843b7-5f9a-473f-8ce4-616e33f45452",
   "metadata": {
    "tags": []
   },
   "outputs": [],
   "source": [
    "import cv2\n",
    "import numpy as np\n",
    "import matplotlib.pyplot as plt"
   ]
  },
  {
   "attachments": {},
   "cell_type": "markdown",
   "id": "b559eef5-6dae-42d4-bc39-3eebe40901da",
   "metadata": {},
   "source": [
    "## 1. Football.zip内のフレーム画像から動画を再構成し、再構築した動画を保存してください。"
   ]
  },
  {
   "cell_type": "code",
   "execution_count": 10,
   "id": "ae9a4496-9670-40a7-80a4-6804d16be6c1",
   "metadata": {
    "tags": []
   },
   "outputs": [],
   "source": [
    "\n",
    "fourcc = cv2.VideoWriter_fourcc('m','p','4','v')\n",
    "video = cv2.VideoWriter('E:\\\\python\\\\Football\\\\football.mp4', fourcc, 20.0,(640, 480))\n",
    "\n",
    "i = 1\n",
    "while True:\n",
    "    #img = cv2.imread('test'+str(i)+'.png'.format(i))\n",
    "    img = cv2.imread('E:\\\\python\\\\Football\\\\'+str(i)+'.jpg')\n",
    "    if img is None:\n",
    "        break\n",
    "    img = cv2.resize(img, (640,480))\n",
    "    video.write(img)\n",
    "    i += 1\n",
    "    \n",
    "\n",
    "video.release()\n"
   ]
  },
  {
   "attachments": {},
   "cell_type": "markdown",
   "id": "df450b28-071a-4165-b16e-d1709145a18d",
   "metadata": {},
   "source": [
    "## 2. Football.zip内のフレーム画像を幅720,高さ480の動画に再構成、保存してください。"
   ]
  },
  {
   "cell_type": "code",
   "execution_count": 11,
   "id": "6334e0f4-85bd-4d17-9c6f-0c68b2d617ea",
   "metadata": {
    "tags": []
   },
   "outputs": [],
   "source": [
    "\n",
    "fourcc = cv2.VideoWriter_fourcc('m','p','4','v')\n",
    "video = cv2.VideoWriter('E:\\\\python\\\\Football\\\\football1.mp4', fourcc, 20.0,(720, 480))\n",
    "\n",
    "i = 1\n",
    "while True:\n",
    "    #img = cv2.imread('test'+str(i)+'.png'.format(i))\n",
    "    img = cv2.imread('E:\\\\python\\\\Football\\\\'+str(i)+'.jpg')\n",
    "    if img is None:\n",
    "        break\n",
    "    img = cv2.resize(img, (720,480))\n",
    "    video.write(img)\n",
    "    i += 1\n",
    "    \n",
    "\n",
    "video.release()"
   ]
  },
  {
   "attachments": {},
   "cell_type": "markdown",
   "id": "4aca754d-fafe-4200-b443-d122a06e59e1",
   "metadata": {},
   "source": [
    "## 3. FOURCCをH.264形式で保存してください。"
   ]
  },
  {
   "cell_type": "code",
   "execution_count": 12,
   "id": "431f3d69-7ca6-4231-9561-6fbe90684ccf",
   "metadata": {
    "tags": []
   },
   "outputs": [],
   "source": [
    "\n",
    "fourcc = cv2.VideoWriter_fourcc('H','2','6','4')\n",
    "video = cv2.VideoWriter('E:\\\\python\\\\Football\\\\football1.H.264', fourcc, 20.0,(720, 480))\n",
    "\n",
    "i = 1\n",
    "while True:\n",
    "    #img = cv2.imread('test'+str(i)+'.png'.format(i))\n",
    "    img = cv2.imread('E:\\\\python\\\\Football\\\\'+str(i)+'.jpg')\n",
    "    if img is None:\n",
    "        break\n",
    "    img = cv2.resize(img, (720,480))\n",
    "    video.write(img)\n",
    "    i += 1\n",
    "    \n",
    "\n",
    "video.release()"
   ]
  },
  {
   "attachments": {},
   "cell_type": "markdown",
   "id": "13e1c1f3-b94f-445d-b03d-a8958db4fcc6",
   "metadata": {},
   "source": [
    "## 4. 前回の手のひらを検出するプログラムをコピー・修正し、10FPS, 1FPSで保存してください。"
   ]
  },
  {
   "cell_type": "code",
   "execution_count": 13,
   "id": "3c9b5cc2-755e-43d0-b326-269792d90dd2",
   "metadata": {
    "tags": []
   },
   "outputs": [],
   "source": [
    "cap = cv2.VideoCapture(0)\n",
    "\n",
    "BG = None\n",
    "\n",
    "while True:\n",
    "    # 1フレームずつ取得する。\n",
    "    ret, frame = cap.read()\n",
    "    if not ret:\n",
    "        break\n",
    "\n",
    "    # グレースケールに変換\n",
    "    gray = cv2.cvtColor(frame, cv2.COLOR_BGR2GRAY)\n",
    "    # 比較用のフレームを取得する\n",
    "    if BG is None:\n",
    "        BG = gray\n",
    "        continue\n",
    "\n",
    "    \n",
    "    \n",
    "    frameDelta = cv2.absdiff(gray,BG)\n",
    "\n",
    "    # 閾値処理を行う\n",
    "    thresh = cv2.threshold(frameDelta, 127, 255, cv2.THRESH_BINARY)[1]\n",
    "    # 画像の閾値に輪郭をかく\n",
    "    contours, hierarchy = cv2.findContours(thresh.copy(), cv2.RETR_EXTERNAL, cv2.CHAIN_APPROX_SIMPLE)\n",
    "    for each_contour in contours:\n",
    "        x,y,w,h = cv2.boundingRect(each_contour)\n",
    "        \n",
    "        frame =cv2.rectangle(frame,(x,y),(x+w,y+h),(255,255,255),3)\n",
    "    \n",
    "\n",
    "    # 結果を出力\n",
    "    cv2.imshow(\"Camera\", frame)\n",
    "   \n",
    "    key = cv2.waitKey(100)\n",
    "    if key == 27:\n",
    "        break\n",
    "\n",
    "cap.release()\n",
    "cv2.destroyAllWindows()"
   ]
  },
  {
   "cell_type": "code",
   "execution_count": 14,
   "id": "b751d6a6-ac65-4743-896f-a494d5408bac",
   "metadata": {
    "tags": []
   },
   "outputs": [],
   "source": [
    "cap = cv2.VideoCapture(0)\n",
    "\n",
    "BG = None\n",
    "\n",
    "while True:\n",
    "    # 1フレームずつ取得する。\n",
    "    ret, frame = cap.read()\n",
    "    if not ret:\n",
    "        break\n",
    "\n",
    "    # グレースケールに変換\n",
    "    gray = cv2.cvtColor(frame, cv2.COLOR_BGR2GRAY)\n",
    "    # 比較用のフレームを取得する\n",
    "    if BG is None:\n",
    "        BG = gray\n",
    "        continue\n",
    "\n",
    "    \n",
    "    \n",
    "    frameDelta = cv2.absdiff(gray,BG)\n",
    "\n",
    "    # 閾値処理を行う\n",
    "    thresh = cv2.threshold(frameDelta, 127, 255, cv2.THRESH_BINARY)[1]\n",
    "    # 画像の閾値に輪郭をかく\n",
    "    contours, hierarchy = cv2.findContours(thresh.copy(), cv2.RETR_EXTERNAL, cv2.CHAIN_APPROX_SIMPLE)\n",
    "    for each_contour in contours:\n",
    "        x,y,w,h = cv2.boundingRect(each_contour)\n",
    "        \n",
    "        frame =cv2.rectangle(frame,(x,y),(x+w,y+h),(255,255,255),3)\n",
    "    \n",
    "\n",
    "    # 結果を出力\n",
    "    cv2.imshow(\"Camera\", frame)\n",
    "   \n",
    "    key = cv2.waitKey(1000)\n",
    "    if key == 27:\n",
    "        break\n",
    "\n",
    "cap.release()\n",
    "cv2.destroyAllWindows()"
   ]
  },
  {
   "attachments": {},
   "cell_type": "markdown",
   "id": "87f1b4f6-4601-4cf2-9d1e-1c5685c151ce",
   "metadata": {},
   "source": [
    "## 5. 以下のコードを書き換えて、\"a\"キーが押されたら5秒巻き戻し、\"d\"キーが押されたら5秒スキップするプログラムを作成してください。"
   ]
  },
  {
   "cell_type": "code",
   "execution_count": 11,
   "id": "a54e44b8-335c-4b0a-8b9a-0a705b1f5ee3",
   "metadata": {
    "tags": []
   },
   "outputs": [
    {
     "name": "stdout",
     "output_type": "stream",
     "text": [
      "247.0"
     ]
    }
   ],
   "source": [
    "import cv2 \n",
    " \n",
    "cap = cv2.VideoCapture(\"E:\\\\python\\\\Football\\\\football1.mp4\") \n",
    " \n",
    "while True: \n",
    "    ret, frame = cap.read() \n",
    "    frame_count = cap.get(cv2.CAP_PROP_POS_FRAMES) \n",
    " \n",
    "    print(f\"\\r{frame_count}\", end=\"\") \n",
    "    if ret == False: \n",
    "        break \n",
    "     \n",
    "    cv2.putText(frame, str(frame_count), (10, 50), cv2.FONT_HERSHEY_TRIPLEX, 2, (0, 0, 0), 5) \n",
    "    cv2.imshow(\"Video\", frame) \n",
    " \n",
    "    if cv2.waitKey(1) == ord('a'): \n",
    "        cap.set(cv2.CAP_PROP_POS_FRAMES,frame_count-100) \n",
    "    if cv2.waitKey(1) == ord('d'): \n",
    "        cap.set(cv2.CAP_PROP_POS_FRAMES,frame_count+100) \n",
    "cap.release() \n",
    "cv2.destroyAllWindows()"
   ]
  },
  {
   "attachments": {},
   "cell_type": "markdown",
   "id": "c77b873e-8d1e-48f9-86cb-7df7fed6ce07",
   "metadata": {},
   "source": [
    "> FPSによっては、5秒巻き戻し、5秒スキップできない場合があります。"
   ]
  },
  {
   "attachments": {},
   "cell_type": "markdown",
   "id": "0bd7d28f",
   "metadata": {},
   "source": []
  }
 ],
 "metadata": {
  "kernelspec": {
   "display_name": "Python 3 (ipykernel)",
   "language": "python",
   "name": "python3"
  },
  "language_info": {
   "codemirror_mode": {
    "name": "ipython",
    "version": 3
   },
   "file_extension": ".py",
   "mimetype": "text/x-python",
   "name": "python",
   "nbconvert_exporter": "python",
   "pygments_lexer": "ipython3",
   "version": "3.9.7"
  }
 },
 "nbformat": 4,
 "nbformat_minor": 5
}
