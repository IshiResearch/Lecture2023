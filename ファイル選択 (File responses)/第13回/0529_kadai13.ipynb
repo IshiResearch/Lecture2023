{
 "cells": [
  {
   "cell_type": "markdown",
   "id": "bbef2049-9d3d-4b11-a329-172f9922d84e",
   "metadata": {},
   "source": [
    "# 課題"
   ]
  },
  {
   "cell_type": "code",
   "execution_count": 38,
   "id": "82dbcee3-0b5b-4d14-a2c9-b8bedca79f37",
   "metadata": {},
   "outputs": [],
   "source": [
    "import cv2"
   ]
  },
  {
   "cell_type": "markdown",
   "id": "3e94970f-c05f-43b7-8f99-db548259f940",
   "metadata": {},
   "source": [
    "## 1-フレーム画像から動画を再構成し、再構築した動画を保存する"
   ]
  },
  {
   "cell_type": "code",
   "execution_count": 39,
   "id": "c334297c-27e5-4ac2-920e-6abbb1af9445",
   "metadata": {},
   "outputs": [],
   "source": [
    "video_name = \"football_ori.mp4\"\n",
    "fourcc = cv2.VideoWriter_fourcc(\"M\",\"P\",\"4\",\"V\")\n",
    "fps = 30\n",
    "size = (1920, 1080)\n",
    "writer = cv2.VideoWriter(video_name, fourcc, fps, size)"
   ]
  },
  {
   "cell_type": "code",
   "execution_count": 40,
   "id": "11559441-5390-4a38-bc99-53a8d3d13ccd",
   "metadata": {},
   "outputs": [],
   "source": [
    "num = 1\n",
    "while num<248:\n",
    "    img = cv2.imread(\"Football\\\\\" + str(num) + \".jpg\") #1から順にread\n",
    "        \n",
    "    writer.write(img)\n",
    "    num += 1\n",
    "    \n",
    "writer.release()"
   ]
  },
  {
   "cell_type": "markdown",
   "id": "6f535a93-dd43-4a7b-b459-a3ed9f6563b7",
   "metadata": {},
   "source": [
    "## 2-フレーム画像を幅720,⾼さ480の動画に再構成、保存する"
   ]
  },
  {
   "cell_type": "code",
   "execution_count": 41,
   "id": "9c2226b5-8431-4996-8fa7-990c71d42069",
   "metadata": {},
   "outputs": [],
   "source": [
    "video_name = \"football_resize.mp4\"\n",
    "fourcc = cv2.VideoWriter_fourcc(\"M\",\"P\",\"4\",\"V\")\n",
    "fps = 30\n",
    "size = (720, 480)\n",
    "writer = cv2.VideoWriter(video_name, fourcc, fps, size)"
   ]
  },
  {
   "cell_type": "code",
   "execution_count": 42,
   "id": "4f4f78ca-5587-4fd6-999c-0e64b640bc23",
   "metadata": {},
   "outputs": [],
   "source": [
    "num = 1\n",
    "while num<248:\n",
    "    img = cv2.imread(\"Football\\\\\" + str(num) + \".jpg\")\n",
    "    img_resize = cv2.resize(img, (720, 480)) #resizeしてwrite\n",
    "        \n",
    "    writer.write(img_resize)\n",
    "    num += 1\n",
    "    \n",
    "writer.release()"
   ]
  },
  {
   "cell_type": "markdown",
   "id": "19423609-184d-4339-8cf5-2b4800825a25",
   "metadata": {},
   "source": [
    "## 3-fourccをH264にして保存する"
   ]
  },
  {
   "cell_type": "code",
   "execution_count": 43,
   "id": "00a280ac-5417-40c2-91a6-a219207a9564",
   "metadata": {},
   "outputs": [],
   "source": [
    "video_name = \"football_h264.mp4\"\n",
    "fourcc = cv2.VideoWriter_fourcc(\"H\",\"2\",\"6\",\"4\")\n",
    "fps = 30\n",
    "size = (1920, 1080)\n",
    "writer = cv2.VideoWriter(video_name, fourcc, fps, size)"
   ]
  },
  {
   "cell_type": "code",
   "execution_count": 44,
   "id": "2ddf1a6c-7d66-4bb2-99c7-41a6d7f0c4d7",
   "metadata": {},
   "outputs": [],
   "source": [
    "num = 1\n",
    "while num<248:\n",
    "    img = cv2.imread(\"Football\\\\\" + str(num) + \".jpg\")\n",
    "        \n",
    "    writer.write(img)\n",
    "    num += 1\n",
    "    \n",
    "writer.release()"
   ]
  },
  {
   "cell_type": "markdown",
   "id": "1a66a820-1990-495c-bdae-5d19ad269285",
   "metadata": {},
   "source": [
    "## 4-前回の⼿のひらを検出するプログラムをコピー・修正し、10FPS、1FPSで保存"
   ]
  },
  {
   "cell_type": "code",
   "execution_count": 45,
   "id": "1df6c553-c3a1-43a3-bf49-e0e8d8617556",
   "metadata": {},
   "outputs": [],
   "source": [
    "import numpy as np"
   ]
  },
  {
   "cell_type": "code",
   "execution_count": 90,
   "id": "594337eb-a073-452f-892e-b00cf408ce40",
   "metadata": {},
   "outputs": [],
   "source": [
    "img = cv2.imread(\"detect\\\\hand3.jpg\")\n",
    "\n",
    "img_blur = cv2.blur(img, (9, 9))\n",
    "img_hsv = cv2.cvtColor(img_blur, cv2.COLOR_BGR2HSV)\n",
    "\n",
    "h, s, v = img_hsv[500, 900]\n",
    "\n",
    "lower_range = np.array([h-3, s-30, v-50])\n",
    "upper_range = np.array([h+3, s+30, v+50])\n",
    "#hの範囲を変える"
   ]
  },
  {
   "cell_type": "code",
   "execution_count": 85,
   "id": "1b115d4c-5c68-499a-9e39-5dd3e612d942",
   "metadata": {},
   "outputs": [],
   "source": [
    "def hand_detect(img, lower_range, upper_range):\n",
    "    img_blur = cv2.blur(img, (5, 5))\n",
    "    img_hsv = cv2.cvtColor(img_blur, cv2.COLOR_BGR2HSV)\n",
    "    \n",
    "    img_range = cv2.inRange(img_hsv, lower_range, upper_range)\n",
    "    \n",
    "    rect_ker = np.ones((3, 3))\n",
    "    #先に膨張すると腕部分を誤認識するので、先に収縮する\n",
    "    img_erode = cv2.erode(img_range, rect_ker, iterations=3)\n",
    "    img_dilate = cv2.dilate(img_erode, rect_ker, iterations=3)\n",
    "    contours, hier = cv2.findContours(img_erode, cv2.RETR_EXTERNAL, cv2.CHAIN_APPROX_SIMPLE)\n",
    "    \n",
    "    for each_contour in contours:\n",
    "        x, y, w, h = cv2.boundingRect(each_contour)\n",
    "        \n",
    "        if (w * h >= 5000): #面積5000以上で検出\n",
    "            cv2.rectangle(img, (x, y), (x+w, y+h), (0, 0, 255), 3)\n",
    "            \n",
    "    return(img)\n",
    "#前回のコピー"
   ]
  },
  {
   "cell_type": "code",
   "execution_count": 91,
   "id": "e0ebfffd-1071-4965-9d83-c363d81f2b7f",
   "metadata": {},
   "outputs": [
    {
     "name": "stdin",
     "output_type": "stream",
     "text": [
      "FPSを入力してください 10\n"
     ]
    }
   ],
   "source": [
    "fps = int(input(\"FPSを入力してください\"))\n",
    "video_name = \"hand_detect_\" + str(fps) + \"fps.mp4\"\n",
    "fourcc = cv2.VideoWriter_fourcc(\"M\",\"P\",\"4\",\"V\")\n",
    "size = (640, 480)\n",
    "writer = cv2.VideoWriter(video_name, fourcc, fps, size)"
   ]
  },
  {
   "cell_type": "code",
   "execution_count": 92,
   "id": "f2cd2187-e49a-4b9f-b71d-be11719a9611",
   "metadata": {},
   "outputs": [],
   "source": [
    "cap = cv2.VideoCapture(0)\n",
    "\n",
    "while cap.isOpened():\n",
    "    ret, img = cap.read()\n",
    "    if ret is None:\n",
    "        print(\"capture error\")\n",
    "        break\n",
    "        \n",
    "    image = hand_detect(img, lower_range, upper_range)\n",
    "    \n",
    "    writer.write(image)\n",
    "    cv2.imshow(\"image\", image)\n",
    "    \n",
    "    waitsec = int(1000//fps)\n",
    "    key = cv2.waitKey(waitsec)\n",
    "    if key == 27:\n",
    "        break\n",
    "        \n",
    "cap.release()\n",
    "writer.release()\n",
    "cv2.destroyAllWindows()"
   ]
  },
  {
   "cell_type": "markdown",
   "id": "91b40844-0755-44b0-9620-9d6028021691",
   "metadata": {},
   "source": [
    "## 5-\"a\"キーが押されたら5秒巻き戻し、\"d\"キーが押されたら5秒スキップするプログラムの作成"
   ]
  },
  {
   "cell_type": "code",
   "execution_count": 93,
   "id": "d4657127-42ad-49c7-bbee-205ee6b39b1e",
   "metadata": {},
   "outputs": [
    {
     "name": "stdout",
     "output_type": "stream",
     "text": [
      "262.0"
     ]
    }
   ],
   "source": [
    "cap = cv2.VideoCapture(\"hand_detect_10fps.mp4\")\n",
    "fps = cap.get(cv2.CAP_PROP_FPS)\n",
    "\n",
    "while True:\n",
    "    ret, frame = cap.read()\n",
    "    frame_count = cap.get(cv2.CAP_PROP_POS_FRAMES)\n",
    "    print(f\"\\r{frame_count}\", end=\"\")\n",
    "    if ret == False:\n",
    "        break\n",
    "    cv2.putText(frame, str(frame_count), (400, 50), cv2.FONT_HERSHEY_TRIPLEX, 2, (0, 0, 0), 5)\n",
    "    \n",
    "    cv2.imshow(\"Video\", frame)\n",
    "    \n",
    "    wait_sec = int(1000//fps)\n",
    "    key = cv2.waitKey(wait_sec)\n",
    "    if key == ord('a'):\n",
    "        frame_count -= (fps*5)\n",
    "        cap.set(cv2.CAP_PROP_POS_FRAMES, frame_count) #5秒巻き戻す\n",
    "    if key == ord('d'):\n",
    "        frame_count += (fps*5)\n",
    "        cap.set(cv2.CAP_PROP_POS_FRAMES, frame_count) #5秒スキップ\n",
    "    #fps*5 -> 5秒分フレームを変える\n",
    "        \n",
    "cap.release()\n",
    "cv2.destroyAllWindows()"
   ]
  },
  {
   "cell_type": "code",
   "execution_count": null,
   "id": "76729619-7fb3-4dca-8e19-545f20f06d06",
   "metadata": {},
   "outputs": [],
   "source": []
  }
 ],
 "metadata": {
  "kernelspec": {
   "display_name": "Python 3 (ipykernel)",
   "language": "python",
   "name": "python3"
  },
  "language_info": {
   "codemirror_mode": {
    "name": "ipython",
    "version": 3
   },
   "file_extension": ".py",
   "mimetype": "text/x-python",
   "name": "python",
   "nbconvert_exporter": "python",
   "pygments_lexer": "ipython3",
   "version": "3.8.16"
  }
 },
 "nbformat": 4,
 "nbformat_minor": 5
}
