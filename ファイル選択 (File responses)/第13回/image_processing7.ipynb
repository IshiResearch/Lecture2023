{
 "cells": [
  {
   "cell_type": "markdown",
   "id": "8c25a93a-feda-4841-a1d3-07c3c6fd9ca6",
   "metadata": {},
   "source": [
    "# 画像処理　課題7"
   ]
  },
  {
   "cell_type": "code",
   "execution_count": 1,
   "id": "6501a126-96aa-41ae-9f2e-49135ff37a3d",
   "metadata": {},
   "outputs": [],
   "source": [
    "import cv2\n",
    "import matplotlib.pyplot as plt\n",
    "import numpy as np"
   ]
  },
  {
   "cell_type": "code",
   "execution_count": 2,
   "id": "b08dbac8-3cc0-4508-a3b8-93b6e5eba4e5",
   "metadata": {},
   "outputs": [],
   "source": [
    "#1 フレーム画像から動画を再構成し、再構築した画像を保存\n",
    "save_name = \"Football.mp4\"\n",
    "fourcc = cv2.VideoWriter_fourcc('M','P','4','V')\n",
    "fourcc = cv2.VideoWriter_fourcc(*'MP4V')\n",
    "fps = 30.0\n",
    "size = (1920, 1080)\n",
    "write = cv2.VideoWriter(save_name, fourcc, fps, size)"
   ]
  },
  {
   "cell_type": "code",
   "execution_count": 3,
   "id": "708a6c8a-d94d-46e8-89ba-7060b3b25fd7",
   "metadata": {},
   "outputs": [],
   "source": [
    "for i in range(1,248):\n",
    "    img = cv2.imread(\"C:\\\\Users\\\\makot\\\\img\\\\Football\\\\\"+str(i)+\".jpg\")\n",
    "    if img is None:\n",
    "        break\n",
    "    write.write(img)\n",
    "write.release()"
   ]
  },
  {
   "cell_type": "code",
   "execution_count": 4,
   "id": "f44e253e-759b-48e7-b020-34d65c3dfd95",
   "metadata": {},
   "outputs": [],
   "source": [
    "#2 フレーム画像を幅720、高さ480の動画に再構成、保存\n",
    "save_name = \"Football2.mp4\"\n",
    "fourcc = cv2.VideoWriter_fourcc('M','P','4','V')\n",
    "fourcc = cv2.VideoWriter_fourcc(*'MP4V')\n",
    "fps = 30.0\n",
    "size = (720, 480)\n",
    "write = cv2.VideoWriter(save_name, fourcc, fps, size)"
   ]
  },
  {
   "cell_type": "code",
   "execution_count": 5,
   "id": "e8c84714-4049-4ad9-9c0a-ed94df72a578",
   "metadata": {},
   "outputs": [],
   "source": [
    "for i in range(1,248):\n",
    "    img = cv2.imread(\"C:\\\\Users\\\\makot\\\\img\\\\Football\\\\\"+str(i)+\".jpg\")\n",
    "    img_resize = cv2.resize(img, dsize = None, fx=0.375, fy=0.444444444444)\n",
    "    if img is None:\n",
    "        break\n",
    "    write.write(img_resize)\n",
    "write.release()"
   ]
  },
  {
   "cell_type": "code",
   "execution_count": 12,
   "id": "596e8a20-e34e-4381-b4ad-bd5f66af5ca7",
   "metadata": {},
   "outputs": [],
   "source": [
    "#3 FOURCCをH.264形式で保存\n",
    "save_name = \"Football3.mp4\"\n",
    "fourcc = cv2.VideoWriter_fourcc('H','2','6','4')\n",
    "fourcc = cv2.VideoWriter_fourcc(*'H264')\n",
    "fps = 30.0\n",
    "size = (1920, 1080)\n",
    "write = cv2.VideoWriter(save_name, fourcc, fps, size)"
   ]
  },
  {
   "cell_type": "code",
   "execution_count": 13,
   "id": "7e940ac9-8cee-49f9-8ec9-34d7d560ebf7",
   "metadata": {},
   "outputs": [],
   "source": [
    "for i in range(1,248):\n",
    "    img = cv2.imread(\"C:\\\\Users\\\\makot\\\\img\\\\Football\\\\\"+str(i)+\".jpg\")\n",
    "    if img is None:\n",
    "        break\n",
    "    write.write(img)\n",
    "write.release()"
   ]
  },
  {
   "cell_type": "code",
   "execution_count": 14,
   "id": "7499e8f7-6899-411a-81d3-44a8fa9f8ae5",
   "metadata": {},
   "outputs": [],
   "source": [
    "save_name = \"Plam_Detection_10.mp4\"\n",
    "fourcc = cv2.VideoWriter_fourcc('M','P','4','V')\n",
    "fourcc = cv2.VideoWriter_fourcc(*'MP4V')\n",
    "fps = 10.0\n",
    "size = (640, 480)\n",
    "write = cv2.VideoWriter(save_name, fourcc, fps, size)"
   ]
  },
  {
   "cell_type": "code",
   "execution_count": 15,
   "id": "1cb71d55-baf3-42e8-a46c-ccb6906cebab",
   "metadata": {},
   "outputs": [],
   "source": [
    "#4前回の手のひらを検出するプログラムを10fps,1fpsで保存\n",
    "cap = cv2.VideoCapture(0)\n",
    "\n",
    "img = cv2.imread(\"C:\\\\Users\\\\makot\\\\img\\\\WIN_20230526_11_10_43_Pro.jpg\")\n",
    "img_hsv = cv2.cvtColor(img, cv2.COLOR_BGR2HSV)\n",
    "img_hsv_blur = cv2.blur(img_hsv, (19,19))\n",
    "H,S,V = img_hsv_blur[442,322]\n",
    "lower = np.array([H-5, S-30, V-50])\n",
    "upper = np.array([H+5, S+30, V+50])\n",
    "\n",
    "while cap.isOpened():\n",
    "    retval, frame = cap.read()\n",
    "    if retval is None:\n",
    "        print(\"capture error\")\n",
    "        break\n",
    "    frame_hsv = cv2.cvtColor(frame, cv2.COLOR_BGR2HSV)\n",
    "    frame_hsv_blur = cv2.blur(frame_hsv, (19,19))\n",
    "    \n",
    "    frame_range = cv2.inRange(frame_hsv_blur, lower, upper)\n",
    "\n",
    "    frame_erode = cv2.erode(frame_range, np.ones((5,5), np.uint8), iterations=4)\n",
    "    frame_dilate = cv2.dilate(frame_erode, np.ones((5,5), np.uint8), iterations=4)\n",
    "\n",
    "    contours, hierarchy = cv2.findContours(frame_dilate, cv2.RETR_EXTERNAL, cv2.CHAIN_APPROX_NONE)\n",
    "    for each_contours in contours:\n",
    "        x,y,w,h = cv2.boundingRect(each_contours)\n",
    "        if w*h >= 10000:\n",
    "            frame_rect = cv2.rectangle(frame, (x,y), (x+w,y+h), (0,0,255), 2)\n",
    "    \n",
    "    write.write(frame)\n",
    "    cv2.imshow(\"capture\", frame)\n",
    "    \n",
    "    key = cv2.waitKey(100)\n",
    "    if key == 27:\n",
    "        break\n",
    "cap.release()\n",
    "write.release()\n",
    "cv2.destroyAllWindows()"
   ]
  },
  {
   "cell_type": "code",
   "execution_count": 16,
   "id": "d9c30d3d-b589-4982-978b-66c5cdf66bec",
   "metadata": {},
   "outputs": [
    {
     "name": "stdout",
     "output_type": "stream",
     "text": [
      "602.0"
     ]
    }
   ],
   "source": [
    "#5 \"a\"キーが押されたら5秒巻き戻し、\"d\"キーが押されたら5秒スキップするプログラムの作成\n",
    "cap = cv2.VideoCapture(\"C:\\\\Users\\\\makot\\\\img\\\\cat.mp4\")\n",
    "\n",
    "while True:\n",
    "    ret, frame = cap.read()\n",
    "    frame_count = cap.get(cv2.CAP_PROP_POS_FRAMES)\n",
    "\n",
    "    print(f\"\\r{frame_count}\", end=\"\")\n",
    "    if ret == False:\n",
    "        break\n",
    "\n",
    "    key = cv2.waitKey(32)\n",
    "\n",
    "    if key == ord(\"q\"):\n",
    "        break\n",
    "    \n",
    "    if key == ord(\"a\"):\n",
    "        frame_count -= 150\n",
    "        cap.set(cv2.CAP_PROP_POS_FRAMES, frame_count)\n",
    "        \n",
    "        \n",
    "    if key == ord(\"d\"):\n",
    "        frame_count += 150\n",
    "        cap.set(cv2.CAP_PROP_POS_FRAMES, frame_count)\n",
    "    \n",
    "    cv2.putText(frame, str(frame_count), (10,50), cv2.FONT_HERSHEY_TRIPLEX, 2, (0,0,0), 5)\n",
    "    cv2.imshow(\"Video\", frame)\n",
    "    \n",
    "cap.release()\n",
    "cv2.destroyAllWindows()"
   ]
  },
  {
   "attachments": {},
   "cell_type": "markdown",
   "id": "c83068a2",
   "metadata": {},
   "source": [
    "> FPSによっては、5秒巻き戻し、5秒スキップできない場合があります。"
   ]
  },
  {
   "cell_type": "code",
   "execution_count": null,
   "id": "49d8b166-031a-4e24-8d14-36eff2e4b00e",
   "metadata": {},
   "outputs": [],
   "source": []
  },
  {
   "cell_type": "code",
   "execution_count": null,
   "id": "18e6f51e-2d7a-4a5d-8449-d8756475efa9",
   "metadata": {},
   "outputs": [],
   "source": []
  }
 ],
 "metadata": {
  "kernelspec": {
   "display_name": "Python 3 (ipykernel)",
   "language": "python",
   "name": "python3"
  },
  "language_info": {
   "codemirror_mode": {
    "name": "ipython",
    "version": 3
   },
   "file_extension": ".py",
   "mimetype": "text/x-python",
   "name": "python",
   "nbconvert_exporter": "python",
   "pygments_lexer": "ipython3",
   "version": "3.8.16"
  }
 },
 "nbformat": 4,
 "nbformat_minor": 5
}
