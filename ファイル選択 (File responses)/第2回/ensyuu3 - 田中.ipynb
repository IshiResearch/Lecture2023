{
 "cells": [
  {
   "cell_type": "markdown",
   "id": "499984e9-6848-47a3-b6eb-8e7be1ad74df",
   "metadata": {},
   "source": [
    "# 演習課題３"
   ]
  },
  {
   "cell_type": "code",
   "execution_count": 1,
   "id": "be7561b7-4cbf-427e-b70b-386b79f8130f",
   "metadata": {
    "tags": []
   },
   "outputs": [],
   "source": [
    "#1 好きな数字を入力し、階上を求める\n",
    "def factrial(number):\n",
    "    total = number\n",
    "    while number > 1:\n",
    "        number -= 1\n",
    "        total *= number\n",
    "    return total"
   ]
  },
  {
   "cell_type": "code",
   "execution_count": 2,
   "id": "236b8acc-a573-42af-9e66-4a3b539d432b",
   "metadata": {
    "tags": []
   },
   "outputs": [
    {
     "data": {
      "text/plain": [
       "120"
      ]
     },
     "execution_count": 2,
     "metadata": {},
     "output_type": "execute_result"
    }
   ],
   "source": [
    "factrial(5)"
   ]
  },
  {
   "cell_type": "code",
   "execution_count": 3,
   "id": "78b28920-1848-4460-92a5-0987c2eef4c0",
   "metadata": {
    "tags": []
   },
   "outputs": [],
   "source": [
    "#2 5教科の平均点を計算し、その点数に応じて成績を表示\n",
    "def result(kokugo, suugaku, eigo, rika, syakai):\n",
    "    total = kokugo + suugaku + eigo + rika + syakai\n",
    "    average = total / 5\n",
    "    print(\"平均点\", average)\n",
    "    \n",
    "    if average >= 90:\n",
    "        print(\"秀\")\n",
    "    elif 80 <= average and average < 90:\n",
    "        print(\"優\")\n",
    "    elif 70 <= average and average < 80:\n",
    "        print(\"良\")\n",
    "    elif 60 <= average and average < 70:\n",
    "        print(\"可\")\n",
    "    else:\n",
    "        print(\"不可\")\n"
   ]
  },
  {
   "cell_type": "code",
   "execution_count": 4,
   "id": "4c670a28-5ef0-4aac-b99f-284fcd27ac7c",
   "metadata": {
    "tags": []
   },
   "outputs": [
    {
     "name": "stdout",
     "output_type": "stream",
     "text": [
      "平均点 66.4\n",
      "可\n"
     ]
    }
   ],
   "source": [
    "result(100, 30, 40, 72, 90)"
   ]
  },
  {
   "cell_type": "code",
   "execution_count": 5,
   "id": "4684a8ab-ff38-416e-909a-0caeb0f2b2ee",
   "metadata": {
    "tags": []
   },
   "outputs": [],
   "source": [
    "#3 好きな数字を入力し、素数かどうか判断\n",
    "def prime_number(number):\n",
    "    point = 0\n",
    "    total = 0\n",
    "    for i in range(1, number+1):\n",
    "        point = number % i\n",
    "        if point == 0:\n",
    "            total += 1\n",
    "    \n",
    "    if total <= 2:\n",
    "        print(\"素数です。\")\n",
    "    else:\n",
    "        print(\"素数ではありません。\")"
   ]
  },
  {
   "cell_type": "code",
   "execution_count": 10,
   "id": "168524f2-85e7-42d3-b0ea-bf7fd86ce02f",
   "metadata": {
    "tags": []
   },
   "outputs": [
    {
     "name": "stdout",
     "output_type": "stream",
     "text": [
      "素数ではありません。\n"
     ]
    }
   ],
   "source": [
    "prime_number(187)"
   ]
  },
  {
   "cell_type": "code",
   "execution_count": 12,
   "id": "ae902617-48cc-4513-be5f-913633a66980",
   "metadata": {
    "tags": []
   },
   "outputs": [],
   "source": [
    "#4 好きな数字を入力し、1からその数字までを全て足す\n",
    "def total(number):\n",
    "    total = 0\n",
    "    for i in range(1, number + 1):\n",
    "        total += i\n",
    "    return total"
   ]
  },
  {
   "cell_type": "code",
   "execution_count": 14,
   "id": "c90dcc4b-36f3-4e7f-b65c-016cca2e842e",
   "metadata": {
    "tags": []
   },
   "outputs": [
    {
     "data": {
      "text/plain": [
       "325"
      ]
     },
     "execution_count": 14,
     "metadata": {},
     "output_type": "execute_result"
    }
   ],
   "source": [
    "total(25)"
   ]
  },
  {
   "cell_type": "code",
   "execution_count": 39,
   "id": "86b6bd1c-9dbb-4f44-8fe9-f8f493737d04",
   "metadata": {
    "tags": []
   },
   "outputs": [],
   "source": [
    "#5 いくつかの数字から標準偏差を求める\n",
    "def standard_deviation(number1, number2, number3, number4, number5):\n",
    "    total = number1 + number2 + number3 + number4 + number5\n",
    "    average = total / 5\n",
    "    \n",
    "    variance = ((average - number1)**2 + (average - number2)**2 + (average - number3)**2 + (average - number4)**2 + (average - number5)**2) / 5\n",
    "    standard_deviation = variance ** (1/2)\n",
    "    return standard_deviation\n"
   ]
  },
  {
   "cell_type": "code",
   "execution_count": 40,
   "id": "c239b56c-ab50-47ea-acb2-93eca416b951",
   "metadata": {
    "tags": []
   },
   "outputs": [
    {
     "data": {
      "text/plain": [
       "19.390719429665317"
      ]
     },
     "execution_count": 40,
     "metadata": {},
     "output_type": "execute_result"
    }
   ],
   "source": [
    "standard_deviation(90, 80, 40, 60, 90)"
   ]
  },
  {
   "cell_type": "code",
   "execution_count": 41,
   "id": "22c5bcfc-3801-4086-8dc7-b4f89cd19148",
   "metadata": {
    "tags": []
   },
   "outputs": [],
   "source": [
    "#6 ピラミッドの作製\n",
    "def pyramid(number):\n",
    "    point = 1\n",
    "    while number >= 1:\n",
    "        for i in range(number - 1): #空白\n",
    "            print(\" \", end='')\n",
    "    \n",
    "        for i in range(2*point - 1): #＊印をつける\n",
    "            print(\"*\", end='')\n",
    "    \n",
    "        for i in range(number - 1): #空白\n",
    "            print(\" \", end='')\n",
    "        \n",
    "        point += 1\n",
    "        number -= 1\n",
    "        print(\"\\n\")"
   ]
  },
  {
   "cell_type": "code",
   "execution_count": 42,
   "id": "db925f09-9c00-470b-a73a-1dc6e676bf14",
   "metadata": {
    "tags": []
   },
   "outputs": [
    {
     "name": "stdout",
     "output_type": "stream",
     "text": [
      "    *    \n",
      "\n",
      "   ***   \n",
      "\n",
      "  *****  \n",
      "\n",
      " ******* \n",
      "\n",
      "*********\n",
      "\n"
     ]
    }
   ],
   "source": [
    "pyramid(5)"
   ]
  },
  {
   "cell_type": "code",
   "execution_count": 16,
   "id": "c18504f8-a564-4b99-b7b8-593253a4e989",
   "metadata": {
    "tags": []
   },
   "outputs": [],
   "source": [
    "#7 任意の3つの辺の長さから、三角形の面積を求める\n",
    "def triangle_side(side1, side2, side3):\n",
    "    point = (side1 + side2 + side3) / 2\n",
    "    area = (point * (point - side1) * (point - side2) * (point - side3)) ** (1/2)\n",
    "    return area"
   ]
  },
  {
   "cell_type": "code",
   "execution_count": 17,
   "id": "2b1de822-a02d-4f7f-b297-e5857b0af49d",
   "metadata": {
    "tags": []
   },
   "outputs": [
    {
     "data": {
      "text/plain": [
       "14.696938456699069"
      ]
     },
     "execution_count": 17,
     "metadata": {},
     "output_type": "execute_result"
    }
   ],
   "source": [
    "triangle_side(7, 6, 5)"
   ]
  },
  {
   "cell_type": "code",
   "execution_count": 18,
   "id": "904fdb3c-0088-4178-b4ce-ddc136341219",
   "metadata": {
    "tags": []
   },
   "outputs": [],
   "source": [
    "#8 任意の座標から、三角形の面積を求める\n",
    "def triangle_point(x1, y1, x2, y2, x3, y3):\n",
    "    point = (x1 - x3)*(y2 - y3) - (x2 - x3)*(y1 - y3)\n",
    "    area = abs(point) * (1/2)\n",
    "    return area"
   ]
  },
  {
   "cell_type": "code",
   "execution_count": 19,
   "id": "0cac5ded-f790-4496-870e-c1812ac5c5bc",
   "metadata": {
    "tags": []
   },
   "outputs": [
    {
     "data": {
      "text/plain": [
       "1.0"
      ]
     },
     "execution_count": 19,
     "metadata": {},
     "output_type": "execute_result"
    }
   ],
   "source": [
    "triangle_point(5,7,3,4,1,2)"
   ]
  },
  {
   "cell_type": "code",
   "execution_count": 20,
   "id": "d03db032-186a-409e-bbcc-a5abdffde922",
   "metadata": {
    "tags": []
   },
   "outputs": [],
   "source": [
    "#9 数字のピラミッドの作製\n",
    "def pascal(number1, number2):\n",
    "    pascal = 1\n",
    "    point = number2\n",
    "    while point >= 1:\n",
    "        pascal *= number1 / point\n",
    "        number1 -= 1\n",
    "        point -= 1\n",
    "    print(int(pascal), end=\" \")\n",
    "\n",
    "def number_pyramid(number):\n",
    "    point = 0\n",
    "    number -= 1\n",
    "    while number >= 0:\n",
    "        for i in range(number):\n",
    "            print(\" \", end=\"\")\n",
    "        \n",
    "        for i in range(point + 1):\n",
    "            (pascal(point, i))\n",
    "        \n",
    "        for i in range(number):\n",
    "            print(\" \", end=\"\")\n",
    "        \n",
    "        point += 1\n",
    "        number -= 1\n",
    "        \n",
    "        print(\"\\n\")\n",
    "    "
   ]
  },
  {
   "cell_type": "code",
   "execution_count": 21,
   "id": "58ee5916-69e2-403d-9831-7ac843ea9e57",
   "metadata": {
    "tags": []
   },
   "outputs": [
    {
     "name": "stdout",
     "output_type": "stream",
     "text": [
      "         1          \n",
      "\n",
      "        1 1         \n",
      "\n",
      "       1 2 1        \n",
      "\n",
      "      1 3 3 1       \n",
      "\n",
      "     1 4 6 4 1      \n",
      "\n",
      "    1 5 10 10 5 1     \n",
      "\n",
      "   1 6 15 20 15 6 1    \n",
      "\n",
      "  1 7 21 35 35 20 7 1   \n",
      "\n",
      " 1 8 28 55 70 56 28 7 1  \n",
      "\n",
      "1 9 36 84 126 126 84 36 9 1 \n",
      "\n"
     ]
    }
   ],
   "source": [
    "number_pyramid(10)"
   ]
  },
  {
   "cell_type": "code",
   "execution_count": 22,
   "id": "6ee0e815-1da3-4b42-b4f3-d5fcb4997a71",
   "metadata": {
    "tags": []
   },
   "outputs": [],
   "source": [
    "#10 フィボナッチ数列\n",
    "def fibonacci(number):\n",
    "    point1 = 1\n",
    "    point2 = 1\n",
    "    print(point1, end =\" \")\n",
    "    print(point2, end =\" \")\n",
    "    while number > 2:\n",
    "        \n",
    "        point3 = point1 + point2\n",
    "        print(point3, end=\" \")\n",
    "        point1 = point2\n",
    "        point2 = point3\n",
    "        \n",
    "        number -= 1"
   ]
  },
  {
   "cell_type": "code",
   "execution_count": 23,
   "id": "aee68e05-6f5b-4d87-b596-44b1427d1228",
   "metadata": {
    "tags": []
   },
   "outputs": [
    {
     "name": "stdout",
     "output_type": "stream",
     "text": [
      "1 1 2 3 5 8 13 21 34 "
     ]
    }
   ],
   "source": [
    "fibonacci(9)"
   ]
  },
  {
   "cell_type": "code",
   "execution_count": 24,
   "id": "d8329ed9-0680-47fe-8131-c43352c1d19d",
   "metadata": {
    "tags": []
   },
   "outputs": [],
   "source": [
    "#11 e^xの計算\n",
    "E = 2.71828\n",
    "\n",
    "def factrial(number):\n",
    "    total = number\n",
    "    while number > 1:\n",
    "        number -= 1\n",
    "        total *= number\n",
    "    return total\n",
    "\n",
    "def e_x(number):\n",
    "    e_x = 1\n",
    "    for i in range(1, 10):\n",
    "        e_x += number/factrial(i)\n",
    "        \n",
    "        \n",
    "    return e_x\n",
    "    "
   ]
  },
  {
   "cell_type": "code",
   "execution_count": 25,
   "id": "703b8d80-6fcc-448d-94cb-6ffa33cf313c",
   "metadata": {
    "tags": []
   },
   "outputs": [
    {
     "data": {
      "text/plain": [
       "2.7182815255731922"
      ]
     },
     "execution_count": 25,
     "metadata": {},
     "output_type": "execute_result"
    }
   ],
   "source": [
    "e_x(1)"
   ]
  },
  {
   "cell_type": "code",
   "execution_count": 26,
   "id": "362d95bb-471e-49e7-b6e2-63e23ee438cb",
   "metadata": {
    "tags": []
   },
   "outputs": [],
   "source": [
    "#12 sinxの計算\n",
    "def factrial(number):\n",
    "    total = number\n",
    "    while number > 1:\n",
    "        number -= 1\n",
    "        total *= number\n",
    "    return total\n",
    "\n",
    "def sin(number):\n",
    "    sin = 0\n",
    "    for i in range(1, 10):\n",
    "        sin += (number/factrial(2*i - 1))*(-1)**(i-1)\n",
    "    return sin"
   ]
  },
  {
   "cell_type": "code",
   "execution_count": 27,
   "id": "4a856401-8788-44ab-9eca-0b31c097cec6",
   "metadata": {
    "tags": []
   },
   "outputs": [
    {
     "data": {
      "text/plain": [
       "0.8414709848078965"
      ]
     },
     "execution_count": 27,
     "metadata": {},
     "output_type": "execute_result"
    }
   ],
   "source": [
    "sin(1)"
   ]
  },
  {
   "cell_type": "code",
   "execution_count": 28,
   "id": "f7ccbbcf-bda7-45c5-8b94-abc3f143d0be",
   "metadata": {
    "tags": []
   },
   "outputs": [],
   "source": [
    "#13 cosxの計算\n",
    "def factrial(number):\n",
    "    total = number\n",
    "    while number > 1:\n",
    "        number -= 1\n",
    "        total *= number\n",
    "    return total\n",
    "\n",
    "def cos(number):\n",
    "    cos = 1\n",
    "    for i in range(1, 10):\n",
    "        cos += (number**(2*i) / factrial(2*i)) * (-1)**i\n",
    "    return cos\n"
   ]
  },
  {
   "cell_type": "code",
   "execution_count": 29,
   "id": "86686c64-5a9b-467d-9e19-b5b6816fcd1c",
   "metadata": {
    "tags": []
   },
   "outputs": [
    {
     "data": {
      "text/plain": [
       "0.5403023058681397"
      ]
     },
     "execution_count": 29,
     "metadata": {},
     "output_type": "execute_result"
    }
   ],
   "source": [
    "cos(1)"
   ]
  },
  {
   "cell_type": "code",
   "execution_count": 30,
   "id": "b2d1da13-4401-4eb8-a680-f94f10cb2c32",
   "metadata": {
    "tags": []
   },
   "outputs": [],
   "source": [
    "#14 logxの計算\n",
    "def log(number):\n",
    "    log_x = number\n",
    "    if -1 < number and number <= 1:\n",
    "        for i in range(2, 10):\n",
    "            log_x += (number**i / i) * (-1)**(i-1)\n",
    "        return log_x\n",
    "    else:\n",
    "        pass"
   ]
  },
  {
   "cell_type": "code",
   "execution_count": 31,
   "id": "9fa4bfc3-95a1-4abf-8268-37b5800262b7",
   "metadata": {
    "tags": []
   },
   "outputs": [
    {
     "data": {
      "text/plain": [
       "0.0"
      ]
     },
     "execution_count": 31,
     "metadata": {},
     "output_type": "execute_result"
    }
   ],
   "source": [
    "log(0)"
   ]
  },
  {
   "cell_type": "code",
   "execution_count": 32,
   "id": "055c796c-5445-4d61-8c91-a790199109a0",
   "metadata": {},
   "outputs": [],
   "source": [
    "#15 任意の数字を入力すると、逆の数字を表示\n",
    "def number_reverse(number):\n",
    "    point1 = 10 ** (len(str(number)) - 1)\n",
    "    point2 = 1\n",
    "    total = 0\n",
    "    result = 0\n",
    "    number_copy = number\n",
    "    while point1 >= 1:\n",
    "        result = number // point1\n",
    "        total += result * point2\n",
    "        number -= result * point1\n",
    "        \n",
    "        point1 /= 10\n",
    "        point2 *= 10\n",
    "        \n",
    "    return int(total)"
   ]
  },
  {
   "cell_type": "code",
   "execution_count": 33,
   "id": "8d5cf736-f09a-4034-8665-cc0fbf22899f",
   "metadata": {
    "tags": []
   },
   "outputs": [
    {
     "data": {
      "text/plain": [
       "3013305"
      ]
     },
     "execution_count": 33,
     "metadata": {},
     "output_type": "execute_result"
    }
   ],
   "source": [
    "number_reverse(5033103)"
   ]
  },
  {
   "cell_type": "code",
   "execution_count": 34,
   "id": "119c6fbd-23cb-4b04-a27b-9daaf1c46f86",
   "metadata": {
    "tags": []
   },
   "outputs": [],
   "source": [
    "#16 上下反転したものをつなげたピラミッドの作成\n",
    "def pyramid_connect(number):\n",
    "    \n",
    "    number1 = number // 2\n",
    "    number2 = number - number1\n",
    "    point1 = 1\n",
    "    point2 = 0\n",
    "    \n",
    "    while number1 >= 1:\n",
    "        \n",
    "        for i in range(number1): #空白\n",
    "            print(\" \", end='')\n",
    "    \n",
    "        for i in range(2*point1 - 1): #＊印をつける\n",
    "            print(\"*\", end='')\n",
    "    \n",
    "        for i in range(number1): #空白\n",
    "            print(\" \", end='')\n",
    "        \n",
    "        point1 += 1\n",
    "        number1 -= 1\n",
    "        print(\"\\n\")\n",
    " \n",
    "    while number2 >= 1:\n",
    "        \n",
    "        \n",
    "        for i in range(point2): #空白\n",
    "            print(\" \", end='')\n",
    "    \n",
    "        for i in range(2*number2 - 1): #＊印をつける\n",
    "            print(\"*\", end='')\n",
    "    \n",
    "        for i in range(point2): #空白\n",
    "            print(\" \", end='')\n",
    "    \n",
    "        point2 += 1\n",
    "        number2 -= 1\n",
    "        \n",
    "        print(\"\\n\")    \n",
    "  "
   ]
  },
  {
   "cell_type": "code",
   "execution_count": 36,
   "id": "c02fb91a-9572-41e2-bccd-d4a5503e8717",
   "metadata": {
    "tags": []
   },
   "outputs": [
    {
     "name": "stdout",
     "output_type": "stream",
     "text": [
      "      *      \n",
      "\n",
      "     ***     \n",
      "\n",
      "    *****    \n",
      "\n",
      "   *******   \n",
      "\n",
      "  *********  \n",
      "\n",
      " *********** \n",
      "\n",
      "*************\n",
      "\n",
      " *********** \n",
      "\n",
      "  *********  \n",
      "\n",
      "   *******   \n",
      "\n",
      "    *****    \n",
      "\n",
      "     ***     \n",
      "\n",
      "      *      \n",
      "\n"
     ]
    }
   ],
   "source": [
    "pyramid_connect(13)"
   ]
  },
  {
   "cell_type": "code",
   "execution_count": 38,
   "id": "9891dd48-7a94-45fc-9cd5-62845d524fea",
   "metadata": {
    "tags": []
   },
   "outputs": [],
   "source": [
    "#17 任意の数字を入力し、2進数に変換\n",
    "def binary(number):\n",
    "    result = 0\n",
    "    total = 0\n",
    "    point = 1\n",
    "    while number > 0:\n",
    "        result = number % 2\n",
    "        total += result * point\n",
    "        number = number // 2\n",
    "        point *= 10\n",
    "    return total"
   ]
  },
  {
   "cell_type": "code",
   "execution_count": 39,
   "id": "472d28c2-07cc-462e-a46e-3f3d503ba8ad",
   "metadata": {
    "tags": []
   },
   "outputs": [
    {
     "data": {
      "text/plain": [
       "1001001"
      ]
     },
     "execution_count": 39,
     "metadata": {},
     "output_type": "execute_result"
    }
   ],
   "source": [
    "binary(73)"
   ]
  },
  {
   "cell_type": "code",
   "execution_count": 40,
   "id": "da74427b-626f-4230-98d8-c490850a007a",
   "metadata": {
    "tags": []
   },
   "outputs": [],
   "source": [
    "#18 任意の2進数を入力し、10進数に変換\n",
    "def decimal(number):\n",
    "    point1 = 10\n",
    "    point2 = 0\n",
    "    result = 0\n",
    "    total = 0\n",
    "    while number > 0:\n",
    "        result = number % point1\n",
    "        total += result * 2 ** point2\n",
    "        number = number // point1\n",
    "        point2 += 1\n",
    "    return total"
   ]
  },
  {
   "cell_type": "code",
   "execution_count": 41,
   "id": "62a76ca8-6472-4ea4-aabe-3bcf5f255326",
   "metadata": {
    "tags": []
   },
   "outputs": [
    {
     "data": {
      "text/plain": [
       "73"
      ]
     },
     "execution_count": 41,
     "metadata": {},
     "output_type": "execute_result"
    }
   ],
   "source": [
    "decimal(1001001)"
   ]
  },
  {
   "cell_type": "code",
   "execution_count": null,
   "id": "2a4b6aa7-e2f4-4167-b18e-02d05e9da214",
   "metadata": {},
   "outputs": [],
   "source": []
  }
 ],
 "metadata": {
  "kernelspec": {
   "display_name": "Python 3 (ipykernel)",
   "language": "python",
   "name": "python3"
  },
  "language_info": {
   "codemirror_mode": {
    "name": "ipython",
    "version": 3
   },
   "file_extension": ".py",
   "mimetype": "text/x-python",
   "name": "python",
   "nbconvert_exporter": "python",
   "pygments_lexer": "ipython3",
   "version": "3.8.16"
  }
 },
 "nbformat": 4,
 "nbformat_minor": 5
}
