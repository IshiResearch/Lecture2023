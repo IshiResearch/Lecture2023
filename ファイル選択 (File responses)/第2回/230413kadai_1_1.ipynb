{
 "cells": [
  {
   "cell_type": "markdown",
   "id": "4db66e42-f030-471b-bd4d-91653c6964fa",
   "metadata": {},
   "source": [
    "### 1. 好きな数字を入力し、その値の階乗を表示しなさい。但し、関数を使うこと。"
   ]
  },
  {
   "cell_type": "code",
   "execution_count": 451,
   "id": "0577d84c-2865-4aef-b319-fb0cd0e69223",
   "metadata": {},
   "outputs": [
    {
     "data": {
      "text/plain": [
       "720"
      ]
     },
     "execution_count": 451,
     "metadata": {},
     "output_type": "execute_result"
    }
   ],
   "source": [
    "def factorial(n):\n",
    "    fact = 1\n",
    "    for i in range(1,n+1):\n",
    "        fact = fact * i\n",
    "    return fact\n",
    "\n",
    "factorial(6)\n",
    "#factorial(1)\n",
    "#factorial(5)"
   ]
  },
  {
   "cell_type": "markdown",
   "id": "851d5417-4b7c-4b7d-abad-e1c2e186233c",
   "metadata": {},
   "source": [
    "### 2. 5 教科の平均点を計算し、その点数に応じて成績を表示させなさい"
   ]
  },
  {
   "cell_type": "code",
   "execution_count": 452,
   "id": "3c8f71da-d359-4460-a912-d82f7540550a",
   "metadata": {},
   "outputs": [],
   "source": [
    "def average(num1=0, num2=0, num3=0, num4=0, num5=0):\n",
    "    ave = (num1+num2+num3+num4+num5) / 5\n",
    "    if ave >= 90:\n",
    "        return (\"秀\")\n",
    "    elif ave >= 80:\n",
    "        return (\"優\")\n",
    "    elif ave >= 70:\n",
    "        return (\"良\")\n",
    "    elif ave >= 60:\n",
    "        return (\"可\")\n",
    "    else:\n",
    "        return (\"不可\")"
   ]
  },
  {
   "cell_type": "code",
   "execution_count": 453,
   "id": "b4c42f5e-26e3-4417-beb1-970902cfa6ef",
   "metadata": {},
   "outputs": [
    {
     "data": {
      "text/plain": [
       "'秀'"
      ]
     },
     "execution_count": 453,
     "metadata": {},
     "output_type": "execute_result"
    }
   ],
   "source": [
    "a = 90\n",
    "b = 90\n",
    "c = 90\n",
    "d = 90\n",
    "e = 90\n",
    "\n",
    "average(num1=a, num2=b, num3=c, num4=d, num5=e)"
   ]
  },
  {
   "cell_type": "markdown",
   "id": "d3cabf1e-e7f3-42a3-a273-5bfbd8f0399d",
   "metadata": {},
   "source": [
    "### 3. 好きな値を入力して、その値が素数かどうかを判定して表示しなさい。"
   ]
  },
  {
   "cell_type": "code",
   "execution_count": 454,
   "id": "0d34cecd-8f12-4a18-97c1-1a17e06f6c8c",
   "metadata": {},
   "outputs": [
    {
     "name": "stdout",
     "output_type": "stream",
     "text": [
      "True\n"
     ]
    }
   ],
   "source": [
    "def is_even(n):\n",
    "    if n==1:             # 1は素数ではないから\n",
    "        return False\n",
    "    for i in range(2,n):\n",
    "        if n%i == 0:\n",
    "            return False\n",
    "    return True\n",
    "\n",
    "print(is_even(7))"
   ]
  },
  {
   "cell_type": "markdown",
   "id": "5cd9acfe-0600-478d-a26c-ac74f4225c6f",
   "metadata": {},
   "source": [
    "### 4. 好きな数字を入力し、１からその数字まで全て足すプログラムを作り合計を表示させなさい"
   ]
  },
  {
   "cell_type": "code",
   "execution_count": 455,
   "id": "34cfc9f1-4385-439f-bfdd-01fa317c07df",
   "metadata": {},
   "outputs": [
    {
     "data": {
      "text/plain": [
       "False"
      ]
     },
     "execution_count": 455,
     "metadata": {},
     "output_type": "execute_result"
    }
   ],
   "source": [
    "def all_sum(n):\n",
    "    sum = 0\n",
    "    if n < 0:\n",
    "        return False\n",
    "    for i in range(1, n+1):\n",
    "        sum += i\n",
    "    return sum\n",
    "\n",
    "all_sum(-1)"
   ]
  },
  {
   "cell_type": "markdown",
   "id": "6b354720-1273-420a-8f1e-9d6ed1bea621",
   "metadata": {
    "tags": []
   },
   "source": [
    "### 5. いくつかの数字を入力したらその数字の標準偏差を求め結果を表示しなさい"
   ]
  },
  {
   "cell_type": "code",
   "execution_count": 456,
   "id": "a794aef8-a442-4aaf-af3d-1b7dcf379dce",
   "metadata": {},
   "outputs": [],
   "source": [
    "def my_func5(num1, num2, num3, num4, num5):\n",
    "    ave = (num1 + num2 + num3 + num4 + num5) / 5\n",
    "    sum_ave = ((num1 -ave)**2+(num2 - ave)**2+(num3 - ave)**2+(num4 - ave)**2+(num5 - ave)**2) / 5\n",
    "    return (sum_ave**0.5)"
   ]
  },
  {
   "cell_type": "code",
   "execution_count": 457,
   "id": "8c022085-a3fb-48e0-9b52-1080b58cb104",
   "metadata": {},
   "outputs": [
    {
     "data": {
      "text/plain": [
       "18.85735930611707"
      ]
     },
     "execution_count": 457,
     "metadata": {},
     "output_type": "execute_result"
    }
   ],
   "source": [
    "a = 45\n",
    "b = 77\n",
    "c = 48\n",
    "d = 85\n",
    "e = 90\n",
    "my_func5(num1=a, num2=b, num3=c, num4=d, num5=e)"
   ]
  },
  {
   "cell_type": "markdown",
   "id": "2616395a-4b3c-4f0f-adff-25076e100da5",
   "metadata": {},
   "source": [
    "### 6. 関数(function)を用いて、ピラミッドを作成し、表示させなさい"
   ]
  },
  {
   "cell_type": "code",
   "execution_count": 458,
   "id": "b53651f5-ad2a-45a8-89a2-b9fc2a2743a5",
   "metadata": {},
   "outputs": [
    {
     "name": "stdout",
     "output_type": "stream",
     "text": [
      "       *\n",
      "      ***\n",
      "     *****\n",
      "    *******\n",
      "   *********\n",
      "  ***********\n",
      " *************\n"
     ]
    }
   ],
   "source": [
    "def piram(n):\n",
    "    for i in range(1,n+1):\n",
    "        print(\" \"*(n-i),end=\" \")\n",
    "        print(\"*\"*((2*i)-1))\n",
    "        i += 1\n",
    "        \n",
    "piram(7)"
   ]
  },
  {
   "cell_type": "markdown",
   "id": "c6a19cc3-b9f2-44b8-ad86-ac2c3f156f93",
   "metadata": {},
   "source": [
    "### 7. 任意の 3 つの辺の長さを入力し、3 辺の長さから三角形の面積を求めなさい。"
   ]
  },
  {
   "cell_type": "code",
   "execution_count": 459,
   "id": "0e3f0de8-d657-49d4-81c0-ab000596c74d",
   "metadata": {},
   "outputs": [],
   "source": [
    "def my_func7(num1, num2, num3):\n",
    "    s = (num1+num2+num3)/2\n",
    "    t = s*(s-num1)*(s-num2)*(s-num3)\n",
    "    return (t**0.5)"
   ]
  },
  {
   "cell_type": "code",
   "execution_count": 460,
   "id": "7a73e97a-5831-4891-97d7-aaa087de8be9",
   "metadata": {},
   "outputs": [
    {
     "data": {
      "text/plain": [
       "6.49519052838329"
      ]
     },
     "execution_count": 460,
     "metadata": {},
     "output_type": "execute_result"
    }
   ],
   "source": [
    "a = 7\n",
    "b = 3\n",
    "c = 5\n",
    "my_func7(num1=a, num2=b, num3=c)"
   ]
  },
  {
   "cell_type": "markdown",
   "id": "dc850e8a-c17f-4dfd-8407-956aef6cddba",
   "metadata": {},
   "source": [
    "### 8. 3 つの任意の座標を入力し、その座標から三角形の面積を求めなさい。"
   ]
  },
  {
   "cell_type": "code",
   "execution_count": 461,
   "id": "3f1dc0ad-ce6c-40ff-97cb-02e0da68adf4",
   "metadata": {},
   "outputs": [],
   "source": [
    "def my_func8(x1, y1, x2, y2, x3, y3):\n",
    "    s = (x1 - x3)*(y2 - y3) - (x2 - x3)*(y1 - y3)\n",
    "    if s < 0:\n",
    "        s = s * (-1)\n",
    "    t = s / 2\n",
    "    return t"
   ]
  },
  {
   "cell_type": "code",
   "execution_count": 462,
   "id": "6c86a28a-645f-46b9-86e7-403235c83d23",
   "metadata": {},
   "outputs": [
    {
     "data": {
      "text/plain": [
       "1.0"
      ]
     },
     "execution_count": 462,
     "metadata": {},
     "output_type": "execute_result"
    }
   ],
   "source": [
    "a = 5\n",
    "b = 7\n",
    "c = 3\n",
    "d = 4\n",
    "e = 1\n",
    "f = 2\n",
    "my_func8(x1=a, y1=b, x2=c, y2=d, x3=e, y3=f)"
   ]
  },
  {
   "cell_type": "markdown",
   "id": "f4e54777-5977-47ed-ac7b-6ba1cb2c9794",
   "metadata": {
    "tags": []
   },
   "source": [
    "### 9. 下のようなピラミッドを作成しなさい。"
   ]
  },
  {
   "cell_type": "code",
   "execution_count": 463,
   "id": "5c49169f-7562-4565-8a6d-d332c601732c",
   "metadata": {},
   "outputs": [],
   "source": [
    "def recurrent9(n):\n",
    "    if n > 0:\n",
    "        if n == num:\n",
    "            print(\" \" * n, end=\" \")\n",
    "            print(\"1\")\n",
    "            n -= 1\n",
    "        elif n == num-1:\n",
    "            print(\" \" * n, end=\" \")\n",
    "            print(\"1\", end=\" \")\n",
    "            print(\"1\") \n",
    "            n -= 1\n",
    "        elif n == num-2:\n",
    "            print(\" \" * n, end=\" \")\n",
    "            print(\"1\", end=\" \")\n",
    "            print(\"2\", end=\" \")\n",
    "            print(\"1\")\n",
    "            n -= 1\n",
    "        elif n == num-3:\n",
    "            print(\" \" * n, end=\" \")\n",
    "            print(\"1\", end=\" \")\n",
    "            print(\"3\", end=\" \")\n",
    "            print(\"3\", end=\" \")\n",
    "            print(\"1\")\n",
    "            n -= 1\n",
    "        \n",
    "        elif n == num-4:\n",
    "            print(\" \" * n, end=\" \")\n",
    "            print(\"1\", end=\" \")\n",
    "            print(\"4\", end=\" \")\n",
    "            print(\"6\", end=\" \")\n",
    "            print(\"4\", end=\" \")\n",
    "            print(\"1\")\n",
    "            n -= 1\n",
    "        elif n == num-5:\n",
    "            print(\" \" * n, end=\" \")\n",
    "            print(\"1\", end=\" \")\n",
    "            print(\"5\", end=\" \")\n",
    "            print(\"10\", end=\" \")\n",
    "            print(\"10\", end=\" \")\n",
    "            print(\"5\", end=\" \")\n",
    "            print(\"1\")\n",
    "            n -= 1\n",
    "        recurrent9(n)"
   ]
  },
  {
   "cell_type": "code",
   "execution_count": 464,
   "id": "a83bfdb6-2993-4aae-a99e-8c68ffe899ae",
   "metadata": {},
   "outputs": [
    {
     "name": "stdout",
     "output_type": "stream",
     "text": [
      "       1\n",
      "      1 1\n",
      "     1 2 1\n",
      "    1 3 3 1\n",
      "   1 4 6 4 1\n",
      "  1 5 10 10 5 1\n"
     ]
    }
   ],
   "source": [
    "num = 6\n",
    "recurrent9(num)"
   ]
  },
  {
   "attachments": {},
   "cell_type": "markdown",
   "id": "3de6b98b",
   "metadata": {},
   "source": [
    "> 全てのnに対して実行できるようにする方法を考えてみてください"
   ]
  },
  {
   "cell_type": "markdown",
   "id": "99370581-c3f1-4d23-8543-04fd1980a849",
   "metadata": {
    "tags": []
   },
   "source": [
    "### 10.フィボナッチ数列を表示させなさい"
   ]
  },
  {
   "cell_type": "code",
   "execution_count": 465,
   "id": "cde2b5b4-b0c1-4395-95ea-6fbe1614aba9",
   "metadata": {},
   "outputs": [
    {
     "name": "stdout",
     "output_type": "stream",
     "text": [
      " 1, 1, 2, 3, 5, 8, 13, 21, 34,"
     ]
    }
   ],
   "source": [
    "def fivonatti(i):\n",
    "    a = 1\n",
    "    b = 0\n",
    "    for i in range(1,i+1):\n",
    "        c = a + b\n",
    "        print(\"\", c,end=\",\")\n",
    "        a, b = b, c\n",
    "        i += 1\n",
    "        \n",
    "fivonatti(9)"
   ]
  },
  {
   "cell_type": "markdown",
   "id": "c1ed4d97-2a5a-480e-b5ae-2575d65fa81f",
   "metadata": {},
   "source": [
    "### 11. 𝑒^𝑥 = 1 + x/1! + x^2/2! + x^3/3! + x^4/4!.... を計算するプログラムを作成しなさい。(e = 2.71828….)"
   ]
  },
  {
   "cell_type": "code",
   "execution_count": 466,
   "id": "04fad3bd-7fb0-401e-87fe-483420fbc605",
   "metadata": {},
   "outputs": [],
   "source": [
    "def funct(n):\n",
    "    total = 1\n",
    "    fact = 1\n",
    "    for i in range(n, 0, -1):\n",
    "        fact = fact * n\n",
    "    \n",
    "    for i in range(1, n):\n",
    "        total = total + x**n/fact\n",
    "    return total"
   ]
  },
  {
   "cell_type": "code",
   "execution_count": 467,
   "id": "7c9f90a1-d4d0-49e9-8095-0fd43d43151f",
   "metadata": {},
   "outputs": [
    {
     "data": {
      "text/plain": [
       "1.078125"
      ]
     },
     "execution_count": 467,
     "metadata": {},
     "output_type": "execute_result"
    }
   ],
   "source": [
    "x = 3\n",
    "n = 6\n",
    "funct(n)"
   ]
  },
  {
   "cell_type": "markdown",
   "id": "581ef407-ff31-461a-a8c7-8581454ecbdc",
   "metadata": {},
   "source": [
    "### 12. sinx = x - x^3/3! + x^5/ 5! – x^7/7! + …….11 と同様に計算するプログラムを作成しなさい。"
   ]
  },
  {
   "cell_type": "code",
   "execution_count": 468,
   "id": "088ccdf7-0a4b-4c5e-8e96-5da2275e5ac0",
   "metadata": {},
   "outputs": [
    {
     "data": {
      "text/plain": [
       "0.2955197368421205"
      ]
     },
     "execution_count": 468,
     "metadata": {},
     "output_type": "execute_result"
    }
   ],
   "source": [
    "def sinx(n):\n",
    "    sin = n\n",
    "    fact = 1\n",
    "    j = 0\n",
    "    for i in (3, 20, 2):\n",
    "        if i % 4 == 3:\n",
    "            j = -1\n",
    "        else:\n",
    "            j = 1\n",
    "        fact = fact * i * (i-1)\n",
    "        sin = sin + j * (n ** i) / fact\n",
    "        \n",
    "    return sin\n",
    "    \n",
    "sinx(0.3)"
   ]
  },
  {
   "cell_type": "markdown",
   "id": "d7ca7a88-c36c-45bc-8061-6af4f0b25261",
   "metadata": {},
   "source": [
    "### 13. cosx = x - x^2/2! + x^4/4! - x^6/6! …….これも同様に計算するプログラムを作成しなさい。"
   ]
  },
  {
   "cell_type": "code",
   "execution_count": 469,
   "id": "72ce96c7-383b-4f9a-9613-e3924e54a8de",
   "metadata": {},
   "outputs": [
    {
     "data": {
      "text/plain": [
       "0.25474996719500004"
      ]
     },
     "execution_count": 469,
     "metadata": {},
     "output_type": "execute_result"
    }
   ],
   "source": [
    "def cosx(n):\n",
    "    cos = n\n",
    "    fact = 1\n",
    "    j = 0\n",
    "    for i in (2, 10, 2):\n",
    "        if i % 4 == 0:\n",
    "            j = 1\n",
    "        else:\n",
    "            j = -1\n",
    "        fact = fact * i * (i-1)\n",
    "        cos = cos + j * (n ** i) / fact\n",
    "        \n",
    "    return cos\n",
    "    \n",
    "cosx(0.3)"
   ]
  },
  {
   "cell_type": "markdown",
   "id": "a9bb9272-9d3f-4cef-913b-0f5962aef3fd",
   "metadata": {},
   "source": [
    "### 14. logx = (x-1) - (x-1)^2/2 + (x-1)^3/3 – (x-1)^4/4….. これも同様に計算するプログラムを作成しなさい。"
   ]
  },
  {
   "cell_type": "code",
   "execution_count": 470,
   "id": "b862189c-2991-4f49-b891-9ebfd5690bef",
   "metadata": {},
   "outputs": [
    {
     "data": {
      "text/plain": [
       "0.5833333333333333"
      ]
     },
     "execution_count": 470,
     "metadata": {},
     "output_type": "execute_result"
    }
   ],
   "source": [
    "def logx(n):\n",
    "    log = 0\n",
    "    j = 0\n",
    "    x = n-1\n",
    "    for i in range(1, 5):\n",
    "        if i % 2 == 0:\n",
    "            j = -1\n",
    "        else:\n",
    "            j = 1\n",
    "        log = log + (j * ((x**i) / i))\n",
    "        \n",
    "    return log\n",
    "\n",
    "logx(2)"
   ]
  },
  {
   "cell_type": "markdown",
   "id": "985ee8d3-6ee1-479d-ab92-e8a4d23ce8c5",
   "metadata": {},
   "source": [
    "### 15.任意の数字を入力したら、逆の数字を表示させなさい。(関数を用いて)"
   ]
  },
  {
   "cell_type": "code",
   "execution_count": 471,
   "id": "85a9f711-1497-4465-840f-4ef1321701d7",
   "metadata": {},
   "outputs": [
    {
     "data": {
      "text/plain": [
       "54321"
      ]
     },
     "execution_count": 471,
     "metadata": {},
     "output_type": "execute_result"
    }
   ],
   "source": [
    "def num(d):\n",
    "    total = 0\n",
    "    for i in range(1, 15):\n",
    "        if d > (10 ** i) - 1:\n",
    "            i += 1\n",
    "        else:\n",
    "            for i in range(i, 0, -1):\n",
    "                c = d % 10\n",
    "                d = d // 10\n",
    "                e = c * 10 ** (i - 1)\n",
    "                total += e\n",
    "            return total\n",
    "\n",
    "num(12345)"
   ]
  },
  {
   "attachments": {},
   "cell_type": "markdown",
   "id": "0ea922b5",
   "metadata": {},
   "source": [
    "> エラーの原因になるため、for文で使用する変数は、異なる変数名にしましょう。"
   ]
  },
  {
   "cell_type": "markdown",
   "id": "14a58fdd-7112-4bbd-92b9-0c511dbe23de",
   "metadata": {},
   "source": [
    "### 16. 以前造ったピラミッドの上下反転しているものをつなげてひし形にして表示しなさい"
   ]
  },
  {
   "cell_type": "code",
   "execution_count": 472,
   "id": "c6b78032-e864-4fb4-b904-ddef458c34bd",
   "metadata": {},
   "outputs": [
    {
     "name": "stdout",
     "output_type": "stream",
     "text": [
      "       *\n",
      "      ***\n",
      "     *****\n",
      "    *******\n",
      "     *****\n",
      "      ***\n",
      "       *\n"
     ]
    }
   ],
   "source": [
    "def piram(n):\n",
    "    for i in range(1, n+1):\n",
    "        if i <= (n // 2):\n",
    "            x = n - i\n",
    "            y = (2 * i) - 1\n",
    "            \n",
    "        elif i == (n / 2) + 0.5:\n",
    "            x = n - i\n",
    "            y = n\n",
    "        else:\n",
    "            x = i - 1\n",
    "            y = (n - i) * 2 + 1\n",
    "        print(\" \" * x, end=\" \")\n",
    "        print(\"*\" * y)\n",
    "\n",
    "piram(7)"
   ]
  },
  {
   "cell_type": "markdown",
   "id": "3244f773-5d80-427b-9277-4011319dd240",
   "metadata": {},
   "source": [
    "### 17. 任意の数値を入力し、2 進数に直して表示させなさい。"
   ]
  },
  {
   "cell_type": "code",
   "execution_count": 2,
   "id": "086780aa-2ef6-4009-8140-be17db0da6f9",
   "metadata": {},
   "outputs": [
    {
     "data": {
      "text/plain": [
       "1000"
      ]
     },
     "execution_count": 2,
     "metadata": {},
     "output_type": "execute_result"
    }
   ],
   "source": [
    "def num(d):\n",
    "    total = 0\n",
    "    for i in range(1, 15):\n",
    "        if d > (2 ** i) - 1:\n",
    "            i += 1\n",
    "        else:\n",
    "            for i in range(0, i+1):\n",
    "                c = d % 2\n",
    "                d = d // 2\n",
    "                e = c * 10 ** i\n",
    "                total += e\n",
    "            return total\n",
    "        \n",
    "num(8)"
   ]
  },
  {
   "cell_type": "markdown",
   "id": "56074dc8-6641-4718-9312-b6f84c54c8a4",
   "metadata": {},
   "source": [
    "### 18. 任意の2進数を入力し、10進数に直して表示させなさい。"
   ]
  },
  {
   "cell_type": "code",
   "execution_count": 474,
   "id": "f70be1d5-fd5c-4b68-8505-610e87d17a74",
   "metadata": {},
   "outputs": [
    {
     "data": {
      "text/plain": [
       "8"
      ]
     },
     "execution_count": 474,
     "metadata": {},
     "output_type": "execute_result"
    }
   ],
   "source": [
    "def num(d):\n",
    "    total = 0\n",
    "    for i in range(1, 15):\n",
    "        if d > (10 ** i) - 1:\n",
    "            i += 1\n",
    "        else:\n",
    "            for i in range(0, i+1):\n",
    "                c = d % 10\n",
    "                d = d // 10\n",
    "                e = c * 2 ** i\n",
    "                total += e\n",
    "            return total\n",
    "        \n",
    "num(1000)"
   ]
  },
  {
   "cell_type": "code",
   "execution_count": null,
   "id": "de3d4605-7a21-4f51-99b8-e72810d4bd09",
   "metadata": {},
   "outputs": [],
   "source": []
  }
 ],
 "metadata": {
  "kernelspec": {
   "display_name": "Python 3",
   "language": "python",
   "name": "python3"
  },
  "language_info": {
   "codemirror_mode": {
    "name": "ipython",
    "version": 3
   },
   "file_extension": ".py",
   "mimetype": "text/x-python",
   "name": "python",
   "nbconvert_exporter": "python",
   "pygments_lexer": "ipython3",
   "version": "3.9.7"
  }
 },
 "nbformat": 4,
 "nbformat_minor": 5
}
