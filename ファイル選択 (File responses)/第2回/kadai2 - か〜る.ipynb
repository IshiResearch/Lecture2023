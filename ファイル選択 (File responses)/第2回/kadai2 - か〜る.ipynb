{
 "cells": [
  {
   "cell_type": "markdown",
   "id": "38338767-e84b-4f7a-aeb7-9e782cec75c3",
   "metadata": {
    "jp-MarkdownHeadingCollapsed": true,
    "tags": []
   },
   "source": [
    "## 1"
   ]
  },
  {
   "cell_type": "code",
   "execution_count": null,
   "id": "03139343-aecb-43f0-924a-1548d4d67414",
   "metadata": {
    "tags": []
   },
   "outputs": [],
   "source": [
    "def func1(n):\n",
    "    total = 1\n",
    "    for i in range(1,n+1):\n",
    "        total = total * i\n",
    "    # 階乗を求める式\n",
    "    \n",
    "    print(n,\"の階乗は\", total,\"です。\")\n",
    "    \n",
    "num = input(\"数字を入力してください：\")\n",
    "num = int(num)\n",
    "func1(num)\n"
   ]
  },
  {
   "cell_type": "markdown",
   "id": "c6b173d1-f846-47ab-a958-1de2dd79b922",
   "metadata": {
    "jp-MarkdownHeadingCollapsed": true,
    "tags": []
   },
   "source": [
    "## 2"
   ]
  },
  {
   "cell_type": "code",
   "execution_count": null,
   "id": "56bea8c4-9095-4275-888d-faf5cdfd4d19",
   "metadata": {
    "tags": []
   },
   "outputs": [],
   "source": [
    "def ave_func(a, b, c, d, e):\n",
    "    total = a + b + c + d + e\n",
    "    average = total/5\n",
    "    print(\"5教科の平均点は\", average)\n",
    "    \n",
    "    if average >= 80:       # ↓成績評価の分岐\n",
    "        print(\"評価：優\")\n",
    "        \n",
    "    elif 70 <= average < 80:\n",
    "        print(\"評価：良\")\n",
    "        \n",
    "    elif average < 30:\n",
    "        print(\"評価：不可\")\n",
    "        \n",
    "    else:\n",
    "        print(\"評価：可\")\n",
    "    \n",
    "jap = input(\"国語の点数を入力してください：\")\n",
    "eng = input(\"英語の点数を入力してください：\")\n",
    "mat = input(\"数学の点数を入力してください：\")\n",
    "phy = input(\"物理の点数を入力してください：\")\n",
    "sci = input(\"化学の点数を入力してください：\")\n",
    "jap_score = int(jap)\n",
    "eng_score = int(eng)\n",
    "mat_score = int(mat)\n",
    "phy_score = int(phy)\n",
    "sci_score = int(sci)\n",
    "\n",
    "ave_func(jap_score, eng_score, mat_score, phy_score, sci_score)"
   ]
  },
  {
   "cell_type": "markdown",
   "id": "10e00a17-396f-46ca-9e5f-5a02bef5a70a",
   "metadata": {
    "jp-MarkdownHeadingCollapsed": true,
    "tags": []
   },
   "source": [
    "## 3"
   ]
  },
  {
   "cell_type": "code",
   "execution_count": 50,
   "id": "9e45c2fe-0526-4a63-b055-fa7fc5f224d7",
   "metadata": {
    "tags": []
   },
   "outputs": [
    {
     "name": "stdin",
     "output_type": "stream",
     "text": [
      "数字を入力： 4\n"
     ]
    },
    {
     "name": "stdout",
     "output_type": "stream",
     "text": [
      "4 は素数ではありません。\n"
     ]
    }
   ],
   "source": [
    "def prime(n):\n",
    "    for i in range(2,n-1):\n",
    "        amari = n % i\n",
    "        if amari == 0:\n",
    "            print(n,\"は素数ではありません。\")\n",
    "            break\n",
    "            \n",
    "    if amari != 0:\n",
    "        print(n,\"は素数です。\")\n",
    "\n",
    "num = input(\"数字を入力：\")\n",
    "num = int(num)\n",
    "if num == 1:\n",
    "    print(num,\"は素数ではありません。\")\n",
    "\n",
    "elif num == 2:\n",
    "    print(num,\"は素数です。\")\n",
    "\n",
    "elif num >= 3:\n",
    "    prime(num)"
   ]
  },
  {
   "cell_type": "markdown",
   "id": "12fc11a0-ce1a-431f-abef-4466e1949a0e",
   "metadata": {
    "jp-MarkdownHeadingCollapsed": true,
    "tags": []
   },
   "source": [
    "## 4"
   ]
  },
  {
   "cell_type": "code",
   "execution_count": null,
   "id": "bcd02b05-fd89-46ce-b303-e58ad8a5d315",
   "metadata": {
    "tags": []
   },
   "outputs": [],
   "source": [
    "def favnum_func(num):\n",
    "    total = 0 # totalに 0 を代入しておく\n",
    "    for i in range(1,num+1):\n",
    "        total += i\n",
    "        \n",
    "    print(total)\n",
    "        \n",
    "fav_num = input(\"数字を入力してください：\")\n",
    "fav_num = int(fav_num)\n",
    "\n",
    "favnum_func(fav_num)"
   ]
  },
  {
   "cell_type": "markdown",
   "id": "d892b7f0-02d1-43a1-928f-c625161af216",
   "metadata": {
    "jp-MarkdownHeadingCollapsed": true,
    "tags": []
   },
   "source": [
    "## 5"
   ]
  },
  {
   "cell_type": "code",
   "execution_count": null,
   "id": "8ae01165-da39-47be-bc4a-e9558d633b8d",
   "metadata": {
    "tags": []
   },
   "outputs": [],
   "source": [
    "def deviation(n): # 標準偏差を求める関数\n",
    "    total = 0\n",
    "    value = 0\n",
    "    \n",
    "    for j in range(n):\n",
    "        total = total + list_num[j]\n",
    "    \n",
    "    average = total / n\n",
    "    \n",
    "    for k in range(n):\n",
    "        value += ((list_num[k] - average)**2)\n",
    "        \n",
    "    sta_dev = (value / n) ** (1/2)\n",
    "    print(\"平均：\",average)\n",
    "    print(\"標準偏差：\",sta_dev)\n",
    "\n",
    "count = 0\n",
    "list_num = []\n",
    "num_of_times = input(\"入力する回数：\")\n",
    "\n",
    "# 入力が無効の場合、入力が繰り返される\n",
    "if num_of_times == \"\":\n",
    "    while num_of_times == \"\":\n",
    "        print(\"入力が無効です。\")\n",
    "        num_of_times = input(\"入力する回数：\")\n",
    "\n",
    "num_of_times = int(num_of_times)\n",
    "\n",
    "# 回数の分だけ数字を入力し、入力が無効の場合はやり直す\n",
    "while count < num_of_times:\n",
    "    num = input(\"数字を入力してください：\")\n",
    "    \n",
    "    if num == \"\":\n",
    "        print(\"入力は無効です。\")\n",
    "        continue\n",
    "        \n",
    "    num = int(num)\n",
    "    list_num.insert(i,num)\n",
    "    count += 1\n",
    "\n",
    "deviation(num_of_times)"
   ]
  },
  {
   "cell_type": "markdown",
   "id": "6c9316e1-1a83-44d2-98c9-3e2afe918599",
   "metadata": {
    "jp-MarkdownHeadingCollapsed": true,
    "tags": []
   },
   "source": [
    "## 6"
   ]
  },
  {
   "cell_type": "code",
   "execution_count": null,
   "id": "771cc53a-9f48-4492-9b95-eff8057d13c4",
   "metadata": {
    "tags": []
   },
   "outputs": [],
   "source": [
    "def pyramid(n):\n",
    "    for i in range(1,n+1):\n",
    "        print(\" \" * (n-i) + \"*\" * (i*2-1))\n",
    "\n",
    "num_of_steps = input(\"ピラミッドの段数を入力してください：\")\n",
    "\n",
    "if num_of_steps == \"\":\n",
    "    while num_of_steps == \"\":\n",
    "        num_of_steps = input(\"ピラミッドの段数を入力してください：\")\n",
    "\n",
    "num_of_steps = int(num_of_steps)\n",
    "pyramid(num_of_steps)"
   ]
  },
  {
   "cell_type": "markdown",
   "id": "22060453-66c1-4a69-a675-f22d4053d984",
   "metadata": {
    "jp-MarkdownHeadingCollapsed": true,
    "tags": []
   },
   "source": [
    "## 7"
   ]
  },
  {
   "cell_type": "code",
   "execution_count": null,
   "id": "fe54a9d4-c4ef-46af-a068-35e12d9b03da",
   "metadata": {
    "tags": []
   },
   "outputs": [],
   "source": [
    "def triangle(num1, num2, num3):\n",
    "    s = (num1 + num2 + num3)/2\n",
    "    area = (s * (s - num1) * (s - num2) * (s - num3))**(1/2)\n",
    "    print(\"三角形の面積は、\", area, \"cm²\")\n",
    "\n",
    "a = input(\"長さa：\")\n",
    "b = input(\"長さb：\")\n",
    "c = input(\"長さc：\")\n",
    "a_length = int(a)\n",
    "b_length = int(b)\n",
    "c_length = int(c)\n",
    "\n",
    "triangle(a_length, b_length, c_length)"
   ]
  },
  {
   "cell_type": "markdown",
   "id": "222bb7b1-31e0-4083-bed3-701cb5f1d2b4",
   "metadata": {
    "jp-MarkdownHeadingCollapsed": true,
    "tags": []
   },
   "source": [
    "## 8"
   ]
  },
  {
   "cell_type": "code",
   "execution_count": null,
   "id": "d39e180a-6055-4193-8da3-9002413e8e08",
   "metadata": {
    "tags": []
   },
   "outputs": [],
   "source": [
    "def triangle(num1, num2, num3):\n",
    "    s = (num1 + num2 + num3)/2\n",
    "    area = (s * (s - num1) * (s - num2) * (s - num3))**(1/2)\n",
    "    print(\"三角形の面積は、\", area, \"cm²\")\n",
    "\n",
    "point_x1 = input(\"1つ目のx座標：\")\n",
    "point_y1 = input(\"1つ目のy座標：\")\n",
    "point_x2 = input(\"2つ目のx座標：\")\n",
    "point_y2 = input(\"2つ目のy座標：\")\n",
    "point_x3 = input(\"3つ目のx座標：\")\n",
    "point_y3 = input(\"3つ目のy座標：\")\n",
    "x1 = int(point_x1)\n",
    "y1 = int(point_y1)\n",
    "x2 = int(point_x2)\n",
    "y2 = int(point_y2)\n",
    "x3 = int(point_x3)\n",
    "y3 = int(point_y3)\n",
    "\n",
    "a_length = (((x2-x1)**2) + ((y2-y1)**2))**(1/2)\n",
    "b_length = (((x3-x2)**2) + ((y3-y2)**2))**(1/2)\n",
    "c_length = (((x1-x3)**2) + ((y1-y3)**2))**(1/2)\n",
    "\n",
    "triangle(a_length, b_length, c_length)"
   ]
  },
  {
   "cell_type": "markdown",
   "id": "5f4a5736-6ff1-4eb0-9328-1461b10b1509",
   "metadata": {
    "jp-MarkdownHeadingCollapsed": true,
    "tags": []
   },
   "source": [
    "## 9"
   ]
  },
  {
   "cell_type": "code",
   "execution_count": 32,
   "id": "f47c3efe-bbd8-448c-b2e3-4bfcac81f8ec",
   "metadata": {
    "tags": []
   },
   "outputs": [
    {
     "name": "stdin",
     "output_type": "stream",
     "text": [
      "段数を入力： 6\n"
     ]
    },
    {
     "name": "stdout",
     "output_type": "stream",
     "text": [
      "     1 \n",
      "    1 1 \n",
      "   1 2 1 \n",
      "  1 3 3 1 \n",
      " 1 4 6 4 1 \n",
      "1 5 10 10 5 1 \n"
     ]
    }
   ],
   "source": [
    "def kaijo(n):           # 階乗を求める関数\n",
    "    fact_num = 1\n",
    "    for i in range(1,n+1):\n",
    "        fact_num = fact_num * i\n",
    "        \n",
    "    return fact_num\n",
    "\n",
    "def nCm(n,m):          # nCmを求める関数\n",
    "    r = kaijo(n-1)/(kaijo(n-m)*kaijo(m-1))\n",
    "    \n",
    "    return r\n",
    "            \n",
    "        \n",
    "steps = input(\"段数を入力：\")\n",
    "steps = int(steps)\n",
    "num_str = \"\"\n",
    "for j in range(1,steps+1): # kは段数\n",
    "    for k in range(1,j+1):\n",
    "        num = int(nCm(j,k))\n",
    "        \n",
    "        num_str += str(num)+\" \"\n",
    "    \n",
    "    print(\" \"*(steps-j) + num_str)\n",
    "    num_str = \"\""
   ]
  },
  {
   "cell_type": "markdown",
   "id": "533181af-1837-4e69-99f8-caea0e315997",
   "metadata": {
    "jp-MarkdownHeadingCollapsed": true,
    "tags": []
   },
   "source": [
    "## 10"
   ]
  },
  {
   "cell_type": "code",
   "execution_count": 65,
   "id": "1d43895c-d8fb-45fe-b9b4-9596291faadc",
   "metadata": {
    "tags": []
   },
   "outputs": [
    {
     "name": "stdin",
     "output_type": "stream",
     "text": [
      "項数： 9\n"
     ]
    },
    {
     "name": "stdout",
     "output_type": "stream",
     "text": [
      "1 1 2 3 5 8 13 21 34 \n"
     ]
    }
   ],
   "source": [
    "def func(m):\n",
    "    num1 = 0\n",
    "    num2 = 1\n",
    "    num3 = 0\n",
    "    num_str = \"\"\n",
    "    \n",
    "    for i in range(m):\n",
    "        num3 = num1 + num2\n",
    "        num1 = num2\n",
    "        num2 = num3\n",
    "        num_str += str(num1) + \" \"  # 数列の項をstr型にして足す\n",
    "    \n",
    "    return num_str\n",
    "    \n",
    "n = input(\"項数：\")\n",
    "n = int(n)\n",
    "\n",
    "suretsu = func(n)\n",
    "\n",
    "print(suretsu)"
   ]
  },
  {
   "cell_type": "markdown",
   "id": "da63c75e-cd69-44df-95da-91d823e8370a",
   "metadata": {
    "jp-MarkdownHeadingCollapsed": true,
    "tags": []
   },
   "source": [
    "## 11"
   ]
  },
  {
   "cell_type": "code",
   "execution_count": 94,
   "id": "84c52424-f821-4012-91c0-d1d0ea069e0a",
   "metadata": {
    "tags": []
   },
   "outputs": [
    {
     "name": "stdin",
     "output_type": "stream",
     "text": [
      "数字を入力； 2\n"
     ]
    },
    {
     "name": "stdout",
     "output_type": "stream",
     "text": [
      "7.3887125220458545\n"
     ]
    }
   ],
   "source": [
    "def func(n):\n",
    "    total = 1\n",
    "    fact_num = 1\n",
    "    for i in range(1,10):\n",
    "        for j in range(1,i+1):  # 階乗を求める\n",
    "            fact_num = fact_num * j\n",
    "        total += (n**i)/fact_num # e^xの公式をループで処理\n",
    "        fact_num = 1\n",
    "        \n",
    "    print(total)\n",
    "\n",
    "fact_of_x = input(\"数字を入力；\")\n",
    "fact_of_x = int(fact_of_x)\n",
    "func(fact_of_x)"
   ]
  },
  {
   "cell_type": "markdown",
   "id": "f8a972f8-c003-43ca-8cac-50f009b2ce3a",
   "metadata": {
    "jp-MarkdownHeadingCollapsed": true,
    "tags": []
   },
   "source": [
    "## 12"
   ]
  },
  {
   "cell_type": "code",
   "execution_count": 123,
   "id": "66bed351-1f96-41c2-9cb6-cd09c688d798",
   "metadata": {
    "tags": []
   },
   "outputs": [
    {
     "name": "stdin",
     "output_type": "stream",
     "text": [
      "degree： 90\n"
     ]
    },
    {
     "name": "stdout",
     "output_type": "stream",
     "text": [
      "sin 90 ° = 1.0000032058668369\n"
     ]
    }
   ],
   "source": [
    "def kaijo(n):           # 階乗を求める関数\n",
    "    fact_num = 1\n",
    "    for i in range(1,n+1):\n",
    "        fact_num = fact_num * i\n",
    "        \n",
    "    return fact_num\n",
    "\n",
    "def sin_x(x):\n",
    "    total = 0\n",
    "    n = 0\n",
    "    for i in range(1, 10, 2):\n",
    "        total += ((-1)**n) * (x**i)/kaijo(i) # sinxの計算\n",
    "        n += 1\n",
    "        \n",
    "    return total\n",
    "        \n",
    "deg = input(\"degree：\")\n",
    "deg = int(deg)\n",
    "PI = 3.14\n",
    "rad = deg*PI/180 # degree to radian\n",
    "\n",
    "sin_num = sin_x(rad)\n",
    "print(\"sin\",deg,\"° =\",sin_num)"
   ]
  },
  {
   "cell_type": "markdown",
   "id": "930d5b53-92d3-4e98-8559-5496e8f8d7d1",
   "metadata": {
    "jp-MarkdownHeadingCollapsed": true,
    "tags": []
   },
   "source": [
    "## 13"
   ]
  },
  {
   "cell_type": "code",
   "execution_count": 80,
   "id": "ad7ee59c-8e93-428e-b7fc-66f37e4b3d9c",
   "metadata": {
    "tags": []
   },
   "outputs": [
    {
     "name": "stdin",
     "output_type": "stream",
     "text": [
      "degree： 90\n"
     ]
    },
    {
     "name": "stdout",
     "output_type": "stream",
     "text": [
      "cos 90 ° = 0.0008209393277826232\n"
     ]
    }
   ],
   "source": [
    "def kaijo(n):           # 階乗を求める関数\n",
    "    fact_num = 1\n",
    "    for i in range(1,n+1):\n",
    "        fact_num = fact_num * i\n",
    "        \n",
    "    return fact_num\n",
    "\n",
    "def cos_x(x):\n",
    "    total = 0\n",
    "    n = 0\n",
    "    for i in range(0, 10, 2):\n",
    "        total += ((-1)**n) * (x**i)/kaijo(i) # sinxの計算\n",
    "        n += 1\n",
    "        \n",
    "    return total\n",
    "        \n",
    "deg = input(\"degree：\")\n",
    "deg = int(deg)\n",
    "PI = 3.14\n",
    "rad = deg*PI/180 # degree to radian\n",
    "\n",
    "cos_num = cos_x(rad)\n",
    "print(\"cos\",deg,\"° =\",cos_num)"
   ]
  },
  {
   "cell_type": "markdown",
   "id": "ca973793-e6b8-473f-9cee-d05d6a8ffd9e",
   "metadata": {
    "jp-MarkdownHeadingCollapsed": true,
    "tags": []
   },
   "source": [
    "## 14"
   ]
  },
  {
   "cell_type": "code",
   "execution_count": 127,
   "id": "5ca1ca6d-7384-4e4c-b6c6-53ea1fc72da5",
   "metadata": {
    "tags": []
   },
   "outputs": [
    {
     "name": "stdin",
     "output_type": "stream",
     "text": [
      "数字を入力： 0.5\n"
     ]
    },
    {
     "name": "stdout",
     "output_type": "stream",
     "text": [
      "log 0.5 = -0.6929671999007935\n"
     ]
    }
   ],
   "source": [
    "def log_x_value(x):\n",
    "    total = 0\n",
    "    n = 0\n",
    "    for i in range(1,10):\n",
    "        total += ((-1)**n) * ((x-1)**i)/i\n",
    "        n += 1\n",
    "        \n",
    "    return total\n",
    "\n",
    "x_value = input(\"数字を入力：\")\n",
    "x_value = float(x_value)\n",
    "\n",
    "total_num = log_x_value(x_value)\n",
    "print(\"log\",x_value, \"=\" ,total_num)"
   ]
  },
  {
   "cell_type": "code",
   "execution_count": 126,
   "id": "bfeab24d-3f9f-4b8c-9336-0138d237be38",
   "metadata": {
    "tags": []
   },
   "outputs": [
    {
     "name": "stdin",
     "output_type": "stream",
     "text": [
      "数字を入力： 3\n"
     ]
    },
    {
     "name": "stdout",
     "output_type": "stream",
     "text": [
      "1 2.0\n",
      "2 0.0\n",
      "3 2.6666666666666665\n",
      "4 -1.3333333333333335\n",
      "5 5.066666666666666\n",
      "6 -5.6\n",
      "7 12.685714285714285\n",
      "8 -19.314285714285717\n",
      "9 37.57460317460317\n"
     ]
    }
   ],
   "source": [
    "def log_x_value(x):\n",
    "    total = 0\n",
    "    n = 0\n",
    "    for i in range(1,10):\n",
    "        total += ((-1)**n) * ((x-1)**i)/i\n",
    "        n += 1\n",
    "        print(n, total)\n",
    "\n",
    "x_value = input(\"数字を入力：\")\n",
    "x_value = int(x_value)\n",
    "\n",
    "log_x_value(x_value)"
   ]
  },
  {
   "cell_type": "markdown",
   "id": "a92c8801-c2bd-4257-b8a1-99cc24f063c4",
   "metadata": {
    "jp-MarkdownHeadingCollapsed": true,
    "tags": []
   },
   "source": [
    "## 15"
   ]
  },
  {
   "cell_type": "code",
   "execution_count": null,
   "id": "3318fb10-7e0a-41b8-9727-3c4ae89565ef",
   "metadata": {
    "tags": []
   },
   "outputs": [],
   "source": [
    "def reverse(num_1, num_2):\n",
    "    total = 0\n",
    "    for i in range(num_2):\n",
    "        total += num_1 % 10 * (10 ** (num_2 - 1-i))\n",
    "        num_1 = num_1 // 10\n",
    "        \n",
    "    print(total)\n",
    "\n",
    "num = input(\"数字を入力：\")\n",
    "length = len(num)\n",
    "length = int(length)\n",
    "num = int(num)\n",
    "\n",
    "reverse(num, length)"
   ]
  },
  {
   "cell_type": "markdown",
   "id": "09d1faa7-ea59-41a5-8012-24db090d46eb",
   "metadata": {
    "jp-MarkdownHeadingCollapsed": true,
    "tags": []
   },
   "source": [
    "## 16"
   ]
  },
  {
   "cell_type": "code",
   "execution_count": null,
   "id": "d09c62bd-d13e-473e-bd89-84bdf4478f5e",
   "metadata": {
    "tags": []
   },
   "outputs": [],
   "source": [
    "def pyramid(n):\n",
    "    for i in range(1,n+1):\n",
    "        print(\" \" * (n-i) + \"*\" * (i*2-1))\n",
    "    \n",
    "    for j in range(n-1,0,-1):\n",
    "        print(\" \" * (n-j)+\"*\" * (j*2-1))\n",
    "\n",
    "num_of_steps = input()\n",
    "\n",
    "if num_of_steps == \"\":\n",
    "    while num_of_steps == \"\":\n",
    "        num_of_steps = input()\n",
    "\n",
    "num_of_steps = int(num_of_steps)\n",
    "pyramid(num_of_steps)"
   ]
  },
  {
   "cell_type": "markdown",
   "id": "cc937869-143a-4a6b-90c6-c6cb4d72772d",
   "metadata": {
    "jp-MarkdownHeadingCollapsed": true,
    "tags": []
   },
   "source": [
    "## 17"
   ]
  },
  {
   "cell_type": "code",
   "execution_count": null,
   "id": "05d7d0e1-eb3d-41c9-9a9e-10732f4b05bd",
   "metadata": {
    "tags": []
   },
   "outputs": [],
   "source": [
    "def binary(num):\n",
    "    total = 0\n",
    "    digit = 0\n",
    "    \n",
    "    if num == 0:\n",
    "        print(total)\n",
    "        \n",
    "    while num != 1:\n",
    "        total += num % 2 *(10**digit)\n",
    "        num = num // 2\n",
    "        digit += 1\n",
    "    \n",
    "    total = total + 1 * (10**digit)\n",
    "    \n",
    "    print(total)\n",
    "bin_num = input(\"数字を入力：\")\n",
    "bin_num = int(bin_num)\n",
    "binary(bin_num)"
   ]
  },
  {
   "cell_type": "markdown",
   "id": "1f635538-8622-47d3-919a-c473043e6368",
   "metadata": {
    "jp-MarkdownHeadingCollapsed": true,
    "tags": []
   },
   "source": [
    "## 18"
   ]
  },
  {
   "cell_type": "code",
   "execution_count": null,
   "id": "642c59c8-6c5c-413a-8964-60999a888c2d",
   "metadata": {
    "tags": []
   },
   "outputs": [],
   "source": [
    "def decimal(num1,num2):\n",
    "    total = 0\n",
    "    for i in range(num2):\n",
    "        n = num1 % 10\n",
    "        if n == 1:\n",
    "            total = total + (2 ** i)\n",
    "        \n",
    "        num1 = num1 // 10\n",
    "        \n",
    "    print(total)\n",
    "\n",
    "dec_num = input(\"二進数を入力：\")\n",
    "length = int(len(dec_num))\n",
    "dec_num = int(dec_num)\n",
    "\n",
    "decimal(dec_num, length)"
   ]
  }
 ],
 "metadata": {
  "kernelspec": {
   "display_name": "Python 3 (ipykernel)",
   "language": "python",
   "name": "python3"
  },
  "language_info": {
   "codemirror_mode": {
    "name": "ipython",
    "version": 3
   },
   "file_extension": ".py",
   "mimetype": "text/x-python",
   "name": "python",
   "nbconvert_exporter": "python",
   "pygments_lexer": "ipython3",
   "version": "3.8.16"
  }
 },
 "nbformat": 4,
 "nbformat_minor": 5
}
