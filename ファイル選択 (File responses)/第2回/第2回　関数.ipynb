{
 "cells": [
  {
   "cell_type": "markdown",
   "id": "bad2a9ce-63de-42ea-86c2-f4a4116da155",
   "metadata": {},
   "source": [
    " #演習課題3"
   ]
  },
  {
   "cell_type": "markdown",
   "id": "9a6b9839-af4c-4161-bd4b-1e89952bed4f",
   "metadata": {},
   "source": [
    "# 1"
   ]
  },
  {
   "cell_type": "code",
   "execution_count": 1,
   "id": "19613221-1156-471e-a78f-322857180968",
   "metadata": {},
   "outputs": [],
   "source": [
    "def f(n):\n",
    "    re = 1\n",
    "    for i in range(1, n+1):\n",
    "        re = re * i\n",
    "    return re\n"
   ]
  },
  {
   "cell_type": "code",
   "execution_count": 2,
   "id": "b3df4250-644f-4fb2-be90-2e7cbcb70560",
   "metadata": {},
   "outputs": [
    {
     "data": {
      "text/plain": [
       "5040"
      ]
     },
     "execution_count": 2,
     "metadata": {},
     "output_type": "execute_result"
    }
   ],
   "source": [
    "f(7)"
   ]
  },
  {
   "cell_type": "markdown",
   "id": "4fcd31be-af95-43c8-af12-4f2dce3a7f96",
   "metadata": {},
   "source": [
    "# 2"
   ]
  },
  {
   "cell_type": "code",
   "execution_count": 3,
   "id": "ff36299a-11a4-40f7-9076-dbef99beb662",
   "metadata": {},
   "outputs": [],
   "source": [
    "def ave(n1,n2,n3,n4,n5):\n",
    "    n_sum = n1 + n2 + n3 + n4 + n5\n",
    "    ave = n_sum / 5\n",
    "    return ave\n"
   ]
  },
  {
   "cell_type": "code",
   "execution_count": 139,
   "id": "10079c56-d2f0-4419-bf16-ae17d69403d9",
   "metadata": {},
   "outputs": [
    {
     "data": {
      "text/plain": [
       "65.0"
      ]
     },
     "execution_count": 139,
     "metadata": {},
     "output_type": "execute_result"
    }
   ],
   "source": [
    "ave(30,50,69,89,87)"
   ]
  },
  {
   "cell_type": "markdown",
   "id": "f58a8c02-6cc6-466f-a49c-3ff233dc5f5e",
   "metadata": {},
   "source": [
    "# 3"
   ]
  },
  {
   "cell_type": "code",
   "execution_count": 4,
   "id": "57502a7b-d1b9-4b7b-b8d8-58585771f03a",
   "metadata": {},
   "outputs": [],
   "source": [
    "def judge_primenumber(n):\n",
    "    for i in range(2,n):\n",
    "        if n % i == 0:\n",
    "            return False\n",
    "    return True"
   ]
  },
  {
   "cell_type": "code",
   "execution_count": 5,
   "id": "96998377-55ca-4630-b89c-500065143ae1",
   "metadata": {},
   "outputs": [
    {
     "data": {
      "text/plain": [
       "True"
      ]
     },
     "execution_count": 5,
     "metadata": {},
     "output_type": "execute_result"
    }
   ],
   "source": [
    "judge_primenumber(7)"
   ]
  },
  {
   "cell_type": "markdown",
   "id": "2166e794-4996-48c2-9197-872d06aa571e",
   "metadata": {},
   "source": [
    "# 4"
   ]
  },
  {
   "cell_type": "code",
   "execution_count": 6,
   "id": "f731fee1-30dd-4d25-8ad3-5d80e19a88a0",
   "metadata": {},
   "outputs": [],
   "source": [
    "def sum_num(n):\n",
    "    num = 0\n",
    "    for i in range(1,n+1):\n",
    "        num += i\n",
    "    return num"
   ]
  },
  {
   "cell_type": "code",
   "execution_count": 7,
   "id": "8c5703cf-32eb-4026-878c-125c46558046",
   "metadata": {},
   "outputs": [
    {
     "data": {
      "text/plain": [
       "6"
      ]
     },
     "execution_count": 7,
     "metadata": {},
     "output_type": "execute_result"
    }
   ],
   "source": [
    "sum_num(3)"
   ]
  },
  {
   "cell_type": "markdown",
   "id": "e72ef8c6-5c32-4b65-9595-1a2678124221",
   "metadata": {},
   "source": [
    "# 5"
   ]
  },
  {
   "cell_type": "code",
   "execution_count": 8,
   "id": "dad3bafd-6914-49d9-a77c-caf65f130c8d",
   "metadata": {},
   "outputs": [],
   "source": [
    "def hyou_hensa(num):\n",
    "    total = sum(num)\n",
    "    average = total/len(num)\n",
    "    x = 0\n",
    "    for i in range(len(num)):\n",
    "        x += (num[i]-average)**2\n",
    "        i += 1\n",
    "    y = (x/len(num))**(1/2)\n",
    "    return y"
   ]
  },
  {
   "cell_type": "code",
   "execution_count": 9,
   "id": "19e3e4d1-68f3-440c-b68a-5294b6c72070",
   "metadata": {},
   "outputs": [
    {
     "data": {
      "text/plain": [
       "8.475848040166836"
      ]
     },
     "execution_count": 9,
     "metadata": {},
     "output_type": "execute_result"
    }
   ],
   "source": [
    "num = [89,87,65,78,79]\n",
    "hyou_hensa(num)"
   ]
  },
  {
   "cell_type": "markdown",
   "id": "590d7048-6904-4131-8bf8-363dc7254aa7",
   "metadata": {},
   "source": [
    "# 6"
   ]
  },
  {
   "cell_type": "code",
   "execution_count": 10,
   "id": "61d3f4bd-1d2b-46fa-94b7-adbd661a9c66",
   "metadata": {},
   "outputs": [],
   "source": [
    "def pyramid(n):\n",
    "    for i in range(1, n+1):\n",
    "        print(' ' * (n-i) + '*' * (2*i-1))\n",
    "        \n"
   ]
  },
  {
   "cell_type": "code",
   "execution_count": 11,
   "id": "8d5f39c4-9770-43f5-8c4c-b4f49384ef02",
   "metadata": {},
   "outputs": [
    {
     "name": "stdout",
     "output_type": "stream",
     "text": [
      "   *\n",
      "  ***\n",
      " *****\n",
      "*******\n"
     ]
    }
   ],
   "source": [
    "pyramid(4)"
   ]
  },
  {
   "cell_type": "markdown",
   "id": "64fd41ef-8046-4a8c-b66b-cb450d9d12d0",
   "metadata": {},
   "source": [
    "# 7"
   ]
  },
  {
   "cell_type": "code",
   "execution_count": 16,
   "id": "1544d5f2-ff67-4197-b2c1-2507431bec40",
   "metadata": {},
   "outputs": [],
   "source": [
    "import math\n",
    "def heron(a, b, c):\n",
    "    d = (a + b + c)/2\n",
    "    return math.sqrt(d * (d - a) * (d - b) * (d - c))\n"
   ]
  },
  {
   "cell_type": "code",
   "execution_count": 17,
   "id": "a732c16a-932d-421d-b422-1d5a7168dae1",
   "metadata": {},
   "outputs": [
    {
     "data": {
      "text/plain": [
       "54.0"
      ]
     },
     "execution_count": 17,
     "metadata": {},
     "output_type": "execute_result"
    }
   ],
   "source": [
    "heron(12,15,9)"
   ]
  },
  {
   "cell_type": "markdown",
   "id": "80780b58-1201-4d62-9235-9b2e3eadb5b1",
   "metadata": {},
   "source": [
    "# 8"
   ]
  },
  {
   "cell_type": "code",
   "execution_count": 3,
   "id": "03f8d338-a2cd-4c57-89b2-952659fa286e",
   "metadata": {},
   "outputs": [],
   "source": [
    "def tri(ax,ay,bx,by,cx,cy):\n",
    "    ax2 = ax-cx\n",
    "    ay2 = ay-cy\n",
    "    bx2 = bx-cx\n",
    "    by2 = by-cy\n",
    "    \n",
    "    sq = ((ax2 * by2) - (bx2 * ay2)) / 2 \n",
    "    result = abs(sq)\n",
    "    return result"
   ]
  },
  {
   "cell_type": "code",
   "execution_count": 4,
   "id": "cba41743-690f-4a8c-bf96-292a866fa8eb",
   "metadata": {},
   "outputs": [
    {
     "data": {
      "text/plain": [
       "12.0"
      ]
     },
     "execution_count": 4,
     "metadata": {},
     "output_type": "execute_result"
    }
   ],
   "source": [
    "tri(4,9,7,6,2,3)"
   ]
  },
  {
   "cell_type": "code",
   "execution_count": null,
   "id": "5687ddad-be05-4f51-8596-e9e8b4c82c1d",
   "metadata": {},
   "outputs": [],
   "source": []
  },
  {
   "cell_type": "code",
   "execution_count": 1,
   "id": "fb3f4e9c-3e85-4128-b54c-9828345f5339",
   "metadata": {},
   "outputs": [],
   "source": [
    "def fact(n):\n",
    "    re = 1\n",
    "    for i in range(1, n+1):\n",
    "        re = re * i\n",
    "    return re\n",
    "    \n",
    "    "
   ]
  },
  {
   "cell_type": "code",
   "execution_count": 2,
   "id": "bb9b00d3-5562-432c-ae1c-94266e257395",
   "metadata": {},
   "outputs": [
    {
     "data": {
      "text/plain": [
       "1"
      ]
     },
     "execution_count": 2,
     "metadata": {},
     "output_type": "execute_result"
    }
   ],
   "source": [
    "fact(0)"
   ]
  },
  {
   "cell_type": "code",
   "execution_count": 11,
   "id": "7070816a-8b94-42da-8246-d4320fe6bcb3",
   "metadata": {},
   "outputs": [],
   "source": [
    "def kumi(r):\n",
    "    re = 0\n",
    "    res = 1\n",
    "    for i in range(0,r+1):\n",
    "        re = (r - i) / fact(i)\n",
    "        res += re\n",
    "        print(re)\n",
    "    return res\n",
    "    "
   ]
  },
  {
   "cell_type": "code",
   "execution_count": 12,
   "id": "46a1a383-d0cd-41c2-8c6c-1714f9df04f4",
   "metadata": {},
   "outputs": [
    {
     "name": "stdout",
     "output_type": "stream",
     "text": [
      "1.0\n",
      "0.0\n"
     ]
    },
    {
     "data": {
      "text/plain": [
       "2.0"
      ]
     },
     "execution_count": 12,
     "metadata": {},
     "output_type": "execute_result"
    }
   ],
   "source": [
    "kumi(1)"
   ]
  },
  {
   "cell_type": "markdown",
   "id": "d86f48a7-60c7-4ea5-8d45-b3001ecf5421",
   "metadata": {},
   "source": [
    "# 9　途中"
   ]
  },
  {
   "cell_type": "code",
   "execution_count": 21,
   "id": "fb142acf-b35e-4c03-8314-7fb3619e0711",
   "metadata": {},
   "outputs": [
    {
     "ename": "SyntaxError",
     "evalue": "unexpected EOF while parsing (<ipython-input-21-2527ebc1ef2c>, line 11)",
     "output_type": "error",
     "traceback": [
      "\u001b[1;36m  File \u001b[1;32m\"<ipython-input-21-2527ebc1ef2c>\"\u001b[1;36m, line \u001b[1;32m11\u001b[0m\n\u001b[1;33m    \u001b[0m\n\u001b[1;37m    ^\u001b[0m\n\u001b[1;31mSyntaxError\u001b[0m\u001b[1;31m:\u001b[0m unexpected EOF while parsing\n"
     ]
    }
   ],
   "source": [
    "def pyramid(n,r): \n",
    "    start = 1\n",
    "    for i in range(1, n+1):\n",
    "        print(' ' * (n-i) + str(start) * (2*i-1))\n",
    "        for j in range(1, r+1):\n",
    "            print(n \n",
    "             \n",
    "            \n",
    "            \n",
    "                "
   ]
  },
  {
   "cell_type": "code",
   "execution_count": 23,
   "id": "faf9d561-0bf8-4b5f-a4c2-04a3aa018f3d",
   "metadata": {},
   "outputs": [
    {
     "name": "stdout",
     "output_type": "stream",
     "text": [
      "      *\n",
      "     ***\n",
      "    *****\n",
      "   *******\n",
      "  *********\n",
      " ***********\n",
      "*************\n"
     ]
    }
   ],
   "source": [
    "pyramid(7)"
   ]
  },
  {
   "cell_type": "raw",
   "id": "a2db0afc-49ad-43cb-a5c5-ca840f8a16a6",
   "metadata": {},
   "source": []
  },
  {
   "cell_type": "markdown",
   "id": "d6f73351-6cb0-4de6-b2cd-8fa3030447d5",
   "metadata": {},
   "source": [
    "# 10"
   ]
  },
  {
   "cell_type": "code",
   "execution_count": 24,
   "id": "d52a4d63-7f67-419f-b405-da71500a8009",
   "metadata": {},
   "outputs": [],
   "source": [
    "def Fib(n):\n",
    "    a,b = 0,1\n",
    "    for i in range(1, n+1):\n",
    "        if i == 1:\n",
    "            print(a,end=\" \")\n",
    "        else:\n",
    "            a,b = b,a+b\n",
    "        print(b,end=\" \")\n",
    "                "
   ]
  },
  {
   "cell_type": "code",
   "execution_count": 25,
   "id": "77c775f4-4080-496f-a1f9-104f02b91f2c",
   "metadata": {},
   "outputs": [
    {
     "name": "stdout",
     "output_type": "stream",
     "text": [
      "0 1 1 2 3 5 8 13 21 34 "
     ]
    }
   ],
   "source": [
    "Fib(9)"
   ]
  },
  {
   "cell_type": "markdown",
   "id": "ef5299cb-e081-462f-bb69-5b77b9294cbe",
   "metadata": {},
   "source": [
    "# 11"
   ]
  },
  {
   "cell_type": "code",
   "execution_count": 27,
   "id": "d2b43026-e5f5-47ae-87fa-2547e1257048",
   "metadata": {},
   "outputs": [
    {
     "data": {
      "text/plain": [
       "20.08553443097081"
      ]
     },
     "execution_count": 27,
     "metadata": {},
     "output_type": "execute_result"
    }
   ],
   "source": [
    "ex(15,3)"
   ]
  },
  {
   "cell_type": "code",
   "execution_count": 21,
   "id": "953256a7-8bf5-4567-97a2-f9715470c582",
   "metadata": {},
   "outputs": [],
   "source": [
    "#11\n",
    "def fact(n):\n",
    "    re = 1\n",
    "    for i in range(1, n+1):\n",
    "        re = re * i\n",
    "    return re"
   ]
  },
  {
   "cell_type": "code",
   "execution_count": 23,
   "id": "ddbc7c19-74fc-45a3-a2ba-7a4bc297f913",
   "metadata": {},
   "outputs": [
    {
     "data": {
      "text/plain": [
       "720"
      ]
     },
     "execution_count": 23,
     "metadata": {},
     "output_type": "execute_result"
    }
   ],
   "source": [
    "fact(6)"
   ]
  },
  {
   "cell_type": "code",
   "execution_count": 9,
   "id": "7b9f0004-3323-47dc-80fb-3d11c8e3d3ed",
   "metadata": {},
   "outputs": [],
   "source": [
    "def ex(n,r):\n",
    "    total = 1\n",
    "    x = n\n",
    "    x = float(x)\n",
    "    for i in range(1,r+1):\n",
    "        total = total + (x**i) / fact(i)\n",
    "    return total"
   ]
  },
  {
   "cell_type": "code",
   "execution_count": 10,
   "id": "984f74c7-25d3-4160-bc98-9d718084a136",
   "metadata": {},
   "outputs": [
    {
     "data": {
      "text/plain": [
       "148.41315910257657"
      ]
     },
     "execution_count": 10,
     "metadata": {},
     "output_type": "execute_result"
    }
   ],
   "source": [
    "ex(5,117)"
   ]
  },
  {
   "cell_type": "markdown",
   "id": "a9171e7a-50d0-4169-902e-228e852f28f6",
   "metadata": {},
   "source": [
    "# 12"
   ]
  },
  {
   "cell_type": "code",
   "execution_count": 11,
   "id": "96b57494-959e-4b10-a583-cfc13e4fc6bf",
   "metadata": {},
   "outputs": [],
   "source": [
    "def sin(n,r):\n",
    "    x = n\n",
    "    x = float(x)\n",
    "    total = x\n",
    "    for i in range(1,r+1):\n",
    "        total = total + (((x**(2*i+1)) / fact(2*i+1)) * (-1)**(i+2))\n",
    "    return total\n",
    "        \n",
    "    "
   ]
  },
  {
   "cell_type": "code",
   "execution_count": 12,
   "id": "89df4ef1-3dbc-409b-ac49-514147e2ec75",
   "metadata": {},
   "outputs": [
    {
     "data": {
      "text/plain": [
       "0.656986598718787"
      ]
     },
     "execution_count": 12,
     "metadata": {},
     "output_type": "execute_result"
    }
   ],
   "source": [
    "sin(7,60)"
   ]
  },
  {
   "cell_type": "markdown",
   "id": "db31b8d2-1569-4931-9c79-fac1704f8d08",
   "metadata": {},
   "source": [
    "# 13"
   ]
  },
  {
   "cell_type": "code",
   "execution_count": 13,
   "id": "f6faa0a6-fc66-4a4f-b735-44cb41cee6c9",
   "metadata": {},
   "outputs": [],
   "source": [
    "def cos(n,r):\n",
    "    x = n\n",
    "    x = float(x)\n",
    "    total = 1.0\n",
    "    for i in range(1,r+1):\n",
    "        total = total + (((x**(2*i)) / fact(2*i)) * (-1)**(i+2))\n",
    "        \n",
    "    return total\n",
    "    "
   ]
  },
  {
   "cell_type": "code",
   "execution_count": 14,
   "id": "45376467-56d1-4dee-9c4b-26298be5fe8d",
   "metadata": {},
   "outputs": [
    {
     "data": {
      "text/plain": [
       "-0.6536436208636125"
      ]
     },
     "execution_count": 14,
     "metadata": {},
     "output_type": "execute_result"
    }
   ],
   "source": [
    "cos(4,80)"
   ]
  },
  {
   "cell_type": "markdown",
   "id": "289af854-57e5-4a04-8778-596a32837976",
   "metadata": {},
   "source": [
    "# 14"
   ]
  },
  {
   "cell_type": "code",
   "execution_count": 17,
   "id": "3fd0ae0d-aa83-449d-8ac6-4eaa8123f580",
   "metadata": {},
   "outputs": [],
   "source": [
    "def log(n,r):\n",
    "    x = n-1\n",
    "    x = float(x)\n",
    "    total = x\n",
    "    for i in range(1,r+1):\n",
    "        totalx = x**(i+1)\n",
    "        totalu = (i+1)\n",
    "        total1 = ((-1)**(i+2))*(totalx / totalu) \n",
    "        total = total + total1\n",
    "    \n",
    "    return total"
   ]
  },
  {
   "cell_type": "code",
   "execution_count": 18,
   "id": "a1da3659-4cc1-4026-92cb-014c9b1c5ee0",
   "metadata": {},
   "outputs": [
    {
     "data": {
      "text/plain": [
       "-0.22314355089546892"
      ]
     },
     "execution_count": 18,
     "metadata": {},
     "output_type": "execute_result"
    }
   ],
   "source": [
    "log(0.8,10)"
   ]
  },
  {
   "cell_type": "markdown",
   "id": "5b680809-c2c7-42e4-863a-b7b9049c37cf",
   "metadata": {},
   "source": [
    "# 15"
   ]
  },
  {
   "cell_type": "code",
   "execution_count": 19,
   "id": "4bf507e8-59d8-4a1d-b234-23b58c2984bb",
   "metadata": {},
   "outputs": [],
   "source": [
    "def reverse(n):\n",
    "    str_n = str(n)\n",
    "    result = str_n[::-1]\n",
    "    return result\n"
   ]
  },
  {
   "cell_type": "code",
   "execution_count": 20,
   "id": "aa7b4608-718d-4531-84e7-c7ce545f4937",
   "metadata": {},
   "outputs": [
    {
     "data": {
      "text/plain": [
       "'432'"
      ]
     },
     "execution_count": 20,
     "metadata": {},
     "output_type": "execute_result"
    }
   ],
   "source": [
    "reverse(234)"
   ]
  },
  {
   "cell_type": "markdown",
   "id": "6df6ba6e-276b-4883-8350-5509f3218644",
   "metadata": {},
   "source": [
    "# 16"
   ]
  },
  {
   "cell_type": "code",
   "execution_count": 104,
   "id": "6dd8808a-187d-4def-9d83-d822e531ddb8",
   "metadata": {},
   "outputs": [],
   "source": [
    "def pyramid(n):\n",
    "    py_n = n\n",
    "    for i in range(1, (n+1)//2):\n",
    "        print(' ' * (py_n -i) + '*' * (2*i-1))\n",
    "    for i in range(((n+1)//2)+1, n+1):\n",
    "        print(' ' * (i-1) + '*' * ((2*py_n-1)-(i-1)*2))\n",
    "        "
   ]
  },
  {
   "cell_type": "code",
   "execution_count": 105,
   "id": "cf26c866-2c08-49a7-bf4b-7a8ade5ca77b",
   "metadata": {},
   "outputs": [
    {
     "name": "stdout",
     "output_type": "stream",
     "text": [
      "       *\n",
      "      ***\n",
      "     *****\n",
      "    *******\n",
      "     *****\n",
      "      ***\n",
      "       *\n"
     ]
    }
   ],
   "source": [
    "pyramid(8)"
   ]
  },
  {
   "cell_type": "markdown",
   "id": "b321019c-f495-416c-a0f5-1d2fad24b1e1",
   "metadata": {},
   "source": [
    "# 17"
   ]
  },
  {
   "cell_type": "code",
   "execution_count": 109,
   "id": "3faed939-b39d-428f-bd26-e45a13ea662e",
   "metadata": {},
   "outputs": [],
   "source": [
    "def binary(n):\n",
    "    b = \"\"\n",
    "    while n != 0:\n",
    "        b = b + str(n%2)\n",
    "        n = n//2\n",
    "    print(b[::-1])"
   ]
  },
  {
   "cell_type": "code",
   "execution_count": 110,
   "id": "2f082ee5-14c0-4bcc-9f81-44b6dcc10f3b",
   "metadata": {},
   "outputs": [
    {
     "name": "stdout",
     "output_type": "stream",
     "text": [
      "1011\n"
     ]
    }
   ],
   "source": [
    "binary(11)"
   ]
  },
  {
   "cell_type": "code",
   "execution_count": 111,
   "id": "e48e8385-d94c-49e4-8575-828caec21bd0",
   "metadata": {},
   "outputs": [
    {
     "name": "stdout",
     "output_type": "stream",
     "text": [
      "3\n",
      "2\n",
      "1\n",
      "0\n"
     ]
    }
   ],
   "source": [
    "for i in range(4):\n",
    "    print(3-i)"
   ]
  },
  {
   "cell_type": "code",
   "execution_count": null,
   "id": "9c498a48-d766-46c1-a7c4-5b278f188a8c",
   "metadata": {},
   "outputs": [],
   "source": [
    "for i in range(3,-1,-1):\n",
    "    print(i)"
   ]
  },
  {
   "cell_type": "markdown",
   "id": "ed3e81ff-99a8-48a1-b541-e5ebd3a56bcb",
   "metadata": {},
   "source": [
    "# 18"
   ]
  },
  {
   "cell_type": "code",
   "execution_count": 116,
   "id": "d77b10eb-5712-49e3-b05b-9b9a0368534b",
   "metadata": {},
   "outputs": [],
   "source": [
    "def decimal(n):\n",
    "    b = str(n)\n",
    "    total = 0\n",
    "    for i in range(len(b)-1,-1,-1):\n",
    "        total = total + int(b[i])*2**(len(b)-i-1)\n",
    "    return total"
   ]
  },
  {
   "cell_type": "code",
   "execution_count": 117,
   "id": "703060e1-eaa4-4dcd-826d-c46f66051305",
   "metadata": {},
   "outputs": [
    {
     "data": {
      "text/plain": [
       "93"
      ]
     },
     "execution_count": 117,
     "metadata": {},
     "output_type": "execute_result"
    }
   ],
   "source": [
    "decimal(1011101)"
   ]
  }
 ],
 "metadata": {
  "kernelspec": {
   "display_name": "Python 3",
   "language": "python",
   "name": "python3"
  },
  "language_info": {
   "codemirror_mode": {
    "name": "ipython",
    "version": 3
   },
   "file_extension": ".py",
   "mimetype": "text/x-python",
   "name": "python",
   "nbconvert_exporter": "python",
   "pygments_lexer": "ipython3",
   "version": "3.6.13"
  }
 },
 "nbformat": 4,
 "nbformat_minor": 5
}
