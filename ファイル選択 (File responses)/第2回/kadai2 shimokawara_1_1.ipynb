{
 "cells": [
  {
   "attachments": {},
   "cell_type": "markdown",
   "id": "dd88bf5c-0613-44f0-a141-abab50aee01b",
   "metadata": {},
   "source": [
    "## 1.任意の数字を入力し、その数字の階乗を表示させる"
   ]
  },
  {
   "cell_type": "code",
   "execution_count": 86,
   "id": "65eaa87d-6460-4b58-ba6c-95a95e548a9c",
   "metadata": {
    "tags": []
   },
   "outputs": [],
   "source": [
    "def kaijyou(n):\n",
    "    kekka = 1\n",
    "    for i in range(n):\n",
    "        kekka = kekka * n\n",
    "        n = n-1\n",
    "        \n",
    "    return kekka"
   ]
  },
  {
   "attachments": {},
   "cell_type": "markdown",
   "id": "34d3c355",
   "metadata": {},
   "source": [
    "> ループカウント変数をループ内で使用しない場合は明示的に'_'を使用することが多いです。"
   ]
  },
  {
   "cell_type": "code",
   "execution_count": 87,
   "id": "441eed8b-c0bd-4221-aa85-c09ee2c98777",
   "metadata": {
    "tags": []
   },
   "outputs": [
    {
     "name": "stdout",
     "output_type": "stream",
     "text": [
      "任意の数字を入力してください 3\n"
     ]
    },
    {
     "name": "stdout",
     "output_type": "stream",
     "text": [
      "6\n"
     ]
    }
   ],
   "source": [
    "num = int(input(\"任意の数字を入力してください\"))\n",
    "kekka = kaijyou(num)\n",
    "print(kekka)"
   ]
  },
  {
   "attachments": {},
   "cell_type": "markdown",
   "id": "7b464925-c3f0-4872-bf04-1cd28a23b2c4",
   "metadata": {},
   "source": [
    "## 2.平均点で成績表示"
   ]
  },
  {
   "cell_type": "code",
   "execution_count": 24,
   "id": "c767bead-f2b3-4aea-b38b-016938527a94",
   "metadata": {
    "tags": []
   },
   "outputs": [],
   "source": [
    "def average(kokugo,suugaku,buturi,kagaku,eigo):\n",
    "    average = (kokugo+suugaku+buturi+kagaku+eigo)/5\n",
    "    if average >= 90:\n",
    "        print(\"秀\")\n",
    "    elif average < 90 and average >= 80:\n",
    "        print(\"優\")\n",
    "    elif average < 80 and average >= 70:\n",
    "        print(\"良\")\n",
    "    elif average < 70 and average >= 60:\n",
    "        print(\"可\")\n",
    "    elif average < 60:\n",
    "        print(\"不可\")\n",
    "        \n",
    "    return average"
   ]
  },
  {
   "cell_type": "code",
   "execution_count": 42,
   "id": "163e8842-d0ba-4b8f-ab6f-20601d0390da",
   "metadata": {
    "tags": []
   },
   "outputs": [
    {
     "name": "stdout",
     "output_type": "stream",
     "text": [
      "国語の点数を入力してください 50\n",
      "数学の点数を入力してください 60\n",
      "物理の点数を入力してください 70\n",
      "化学の点数を入力してください 80\n",
      "英語の点数を入力してください 90\n"
     ]
    },
    {
     "name": "stdout",
     "output_type": "stream",
     "text": [
      "良\n",
      "70.0\n"
     ]
    }
   ],
   "source": [
    "kokugo = int(input(\"国語の点数を入力してください\"))\n",
    "suugaku = int(input(\"数学の点数を入力してください\"))\n",
    "buturi = int(input(\"物理の点数を入力してください\"))\n",
    "kagaku = int(input(\"化学の点数を入力してください\"))\n",
    "eigo = int(input(\"英語の点数を入力してください\"))\n",
    "\n",
    "saisyuu = average(kokugo,suugaku,buturi,kagaku,eigo)\n",
    "print(saisyuu)"
   ]
  },
  {
   "attachments": {},
   "cell_type": "markdown",
   "id": "bf258ef8-ea84-495d-b28a-805ad6c12fd4",
   "metadata": {},
   "source": [
    "## 3.任意の数字が素数かどうか判定"
   ]
  },
  {
   "cell_type": "code",
   "execution_count": 44,
   "id": "63a235d8-26a7-4a19-bae5-1f6c972cd8fa",
   "metadata": {
    "tags": []
   },
   "outputs": [],
   "source": [
    "def sosuu(n):\n",
    "    count = 0\n",
    "    for i in range(1,n+1):\n",
    "        if n%i == 0:\n",
    "            count += 1\n",
    "            i += 1\n",
    "        else:\n",
    "            i += 1\n",
    "    if count == 2:\n",
    "        print(\"{}は素数です\".format(n))\n",
    "    else:\n",
    "        print(\"{}は素数ではありません\".format(n))\n",
    "        \n",
    "    return count"
   ]
  },
  {
   "cell_type": "code",
   "execution_count": 46,
   "id": "e1d581f5-b4fa-4622-8c18-34bebb4b96ec",
   "metadata": {
    "tags": []
   },
   "outputs": [
    {
     "name": "stdout",
     "output_type": "stream",
     "text": [
      "任意の数字を入力してください 7\n"
     ]
    },
    {
     "name": "stdout",
     "output_type": "stream",
     "text": [
      "7は素数です\n",
      "2\n"
     ]
    }
   ],
   "source": [
    "n = int(input(\"任意の数字を入力してください\"))\n",
    "saisyuu = sosuu(n)\n",
    "print(saisyuu)"
   ]
  },
  {
   "attachments": {},
   "cell_type": "markdown",
   "id": "d86ee6eb-651d-4606-ae61-d54b3e128aba",
   "metadata": {},
   "source": [
    "## 4.任意の数字まですべて足す"
   ]
  },
  {
   "cell_type": "code",
   "execution_count": 47,
   "id": "66517e47-1ecb-4c42-a1c8-d20a2e533430",
   "metadata": {
    "tags": []
   },
   "outputs": [],
   "source": [
    "def tasizan(n):\n",
    "    kekka = 0\n",
    "    for i in range(1,n+1):\n",
    "        kekka = kekka + i\n",
    "        i += 1\n",
    "        \n",
    "    return kekka"
   ]
  },
  {
   "cell_type": "code",
   "execution_count": 48,
   "id": "c11baa98-a823-4127-a5fa-e7cca565f0ea",
   "metadata": {
    "tags": []
   },
   "outputs": [
    {
     "name": "stdout",
     "output_type": "stream",
     "text": [
      "任意の数字を入力してください 5\n"
     ]
    },
    {
     "name": "stdout",
     "output_type": "stream",
     "text": [
      "15\n"
     ]
    }
   ],
   "source": [
    "n = int(input(\"任意の数字を入力してください\"))\n",
    "saisyuu = tasizan(n)\n",
    "print(saisyuu)"
   ]
  },
  {
   "attachments": {},
   "cell_type": "markdown",
   "id": "2d858073-8848-4b0c-94e7-9b16efb34843",
   "metadata": {},
   "source": [
    "## 5.標準偏差の表示"
   ]
  },
  {
   "cell_type": "code",
   "execution_count": 60,
   "id": "59328af6-8f74-4efd-a947-7372cd5efedd",
   "metadata": {
    "tags": []
   },
   "outputs": [],
   "source": [
    "import math\n",
    "def hyoujyunhensa(kokugo,suugaku,buturi,kagaku,eigo):\n",
    "    ave = (kokugo+suugaku+buturi+kagaku+eigo)/5\n",
    "    tasi = (abs(kokugo - ave))**2 + (abs(suugaku - ave))**2 + (abs(buturi - ave))**2 + (abs(kagaku - ave))**2 + (abs(eigo - ave))**2\n",
    "    print(ave)\n",
    "    hyoujyunn = math.sqrt(tasi /5)\n",
    "    return hyoujyunn"
   ]
  },
  {
   "cell_type": "code",
   "execution_count": 61,
   "id": "e53d0c31-fa3c-400a-9ede-6de05332b489",
   "metadata": {
    "tags": []
   },
   "outputs": [
    {
     "name": "stdout",
     "output_type": "stream",
     "text": [
      "国語の点数を入力してください 40\n",
      "数学の点数を入力してください 50\n",
      "物理の点数を入力してください 60\n",
      "化学の点数を入力してください 70\n",
      "英語の点数を入力してください 80\n"
     ]
    },
    {
     "name": "stdout",
     "output_type": "stream",
     "text": [
      "60.0\n",
      "14.142135623730951\n"
     ]
    }
   ],
   "source": [
    "kokugo = int(input(\"国語の点数を入力してください\"))\n",
    "suugaku = int(input(\"数学の点数を入力してください\"))\n",
    "buturi = int(input(\"物理の点数を入力してください\"))\n",
    "kagaku = int(input(\"化学の点数を入力してください\"))\n",
    "eigo = int(input(\"英語の点数を入力してください\"))\n",
    "\n",
    "saisyuu = hyoujyunhensa(kokugo,suugaku,buturi,kagaku,eigo)\n",
    "print(saisyuu)"
   ]
  },
  {
   "attachments": {},
   "cell_type": "markdown",
   "id": "90cd39a7-8714-46b6-a0b1-f37c77a04cd5",
   "metadata": {},
   "source": [
    "## 6.ピラミッドの作成"
   ]
  },
  {
   "cell_type": "code",
   "execution_count": 72,
   "id": "8c39b24d-e226-4a74-b0a0-f1dc20014583",
   "metadata": {
    "tags": []
   },
   "outputs": [],
   "source": [
    "def piramiddo(n):\n",
    "    for i in range(1,n+1):\n",
    "        print(\" \" * (n-i),end=\"\" )\n",
    "        print(\"*\" * (2*i-1))\n"
   ]
  },
  {
   "cell_type": "code",
   "execution_count": 73,
   "id": "50309736-eb30-4119-8f6d-6a36fbbd7084",
   "metadata": {
    "tags": []
   },
   "outputs": [
    {
     "name": "stdout",
     "output_type": "stream",
     "text": [
      "任意の数字を入力してください 5\n"
     ]
    },
    {
     "name": "stdout",
     "output_type": "stream",
     "text": [
      "    *\n",
      "   ***\n",
      "  *****\n",
      " *******\n",
      "*********\n"
     ]
    }
   ],
   "source": [
    "n = int(input(\"任意の数字を入力してください\"))\n",
    "saisyuu = piramiddo(n)"
   ]
  },
  {
   "attachments": {},
   "cell_type": "markdown",
   "id": "3712c099-f7a4-4f14-b90d-bcf6c05d5c39",
   "metadata": {},
   "source": [
    "## 7.三角形の面積の算出"
   ]
  },
  {
   "cell_type": "code",
   "execution_count": 74,
   "id": "c38f7f57-9faa-4461-9415-39523f4b1596",
   "metadata": {
    "tags": []
   },
   "outputs": [],
   "source": [
    "def menseki(a,b,c):\n",
    "    area = (a+b+c)/2\n",
    "    return area"
   ]
  },
  {
   "cell_type": "code",
   "execution_count": 75,
   "id": "2bc91410-4dc3-498c-95b1-150d3c0c164b",
   "metadata": {
    "tags": []
   },
   "outputs": [
    {
     "name": "stdout",
     "output_type": "stream",
     "text": [
      "長さを入力してください:1 3\n",
      "長さを入力してください:2 4\n",
      "長さを入力してください:3 5\n"
     ]
    },
    {
     "name": "stdout",
     "output_type": "stream",
     "text": [
      "6.0\n"
     ]
    }
   ],
   "source": [
    "a = int(input(\"長さを入力してください:1\"))\n",
    "b = int(input(\"長さを入力してください:2\"))\n",
    "c = int(input(\"長さを入力してください:3\"))\n",
    "\n",
    "saisyuu = menseki(a,b,c)\n",
    "\n",
    "print(saisyuu)"
   ]
  },
  {
   "attachments": {},
   "cell_type": "markdown",
   "id": "7a81ce48-649d-4cad-886a-91bdb3bb0684",
   "metadata": {},
   "source": [
    "## 8.任意の座標から三角形の面積の算出"
   ]
  },
  {
   "cell_type": "code",
   "execution_count": 78,
   "id": "954f13c1-7320-49e0-ac27-4723efef3088",
   "metadata": {
    "tags": []
   },
   "outputs": [],
   "source": [
    "def z_menseki(a,b,c,d,e,f):\n",
    "    x_dis1 = abs(a-c)\n",
    "    x_dis2 = abs(c-e)\n",
    "    x_dis3 = abs(e-a)\n",
    "    y_dis1 = abs(b-d)\n",
    "    y_dis2 = abs(d-f)\n",
    "    y_dis3 = abs(f-b)\n",
    "    \n",
    "    dis1 = math.sqrt((x_dis1)**2 + (y_dis1)**2)\n",
    "    dis2 = math.sqrt((x_dis2)**2 + (y_dis2)**2)\n",
    "    dis3 = math.sqrt((x_dis3)**2 + (y_dis3)**2)\n",
    "    \n",
    "    area = (dis1 + dis2 + dis3)/2\n",
    "    \n",
    "    return area"
   ]
  },
  {
   "cell_type": "code",
   "execution_count": 80,
   "id": "99f875ee-83dd-4bf0-94c8-a256e6e7ec5f",
   "metadata": {
    "tags": []
   },
   "outputs": [
    {
     "name": "stdout",
     "output_type": "stream",
     "text": [
      "x座標を入力してください:1 2\n",
      "y座標を入力してください:1 3\n",
      "x座標を入力してください:2 4\n",
      "y座標を入力してください:2 5\n",
      "x座標を入力してください:3 5\n",
      "y座標を入力してください:3 6\n"
     ]
    },
    {
     "name": "stdout",
     "output_type": "stream",
     "text": [
      "4.242640687119286\n"
     ]
    }
   ],
   "source": [
    "a = int(input(\"x座標を入力してください:1\"))\n",
    "b = int(input(\"y座標を入力してください:1\"))\n",
    "c = int(input(\"x座標を入力してください:2\"))\n",
    "d = int(input(\"y座標を入力してください:2\"))\n",
    "e = int(input(\"x座標を入力してください:3\"))\n",
    "f = int(input(\"y座標を入力してください:3\"))\n",
    "\n",
    "saisyuu = z_menseki(a,b,c,d,e,f)\n",
    "print(saisyuu)"
   ]
  },
  {
   "attachments": {},
   "cell_type": "markdown",
   "id": "70facfcf-4adc-4bb5-84d5-1674b0327248",
   "metadata": {},
   "source": [
    "## 9.ピラミッドの作成"
   ]
  },
  {
   "cell_type": "code",
   "execution_count": 8,
   "id": "143737ad-baee-4997-9aeb-3350b7bb11e8",
   "metadata": {
    "tags": []
   },
   "outputs": [],
   "source": [
    "def piramiddo2(n):\n",
    "    a = [[1]]\n",
    "    for i in range(1,n):\n",
    "        tmp = [1]\n",
    "        if i > 1:\n",
    "            for j in range(1,i):\n",
    "                tmp.append(a[i-1][j-1]+a[i-1][j])\n",
    "        tmp.append(1)\n",
    "        a.append(tmp)\n",
    "    for i in a:\n",
    "        print(i)"
   ]
  },
  {
   "cell_type": "code",
   "execution_count": 11,
   "id": "d864f8ed-df12-457a-b1a2-fd8a439e0a85",
   "metadata": {
    "tags": []
   },
   "outputs": [
    {
     "name": "stdout",
     "output_type": "stream",
     "text": [
      "任意の数字を入力してください 5\n"
     ]
    },
    {
     "name": "stdout",
     "output_type": "stream",
     "text": [
      "[1]\n",
      "[1, 1]\n",
      "[1, 2, 1]\n",
      "[1, 3, 3, 1]\n",
      "[1, 4, 6, 4, 1]\n"
     ]
    }
   ],
   "source": [
    " n = int(input(\"任意の数字を入力してください\"))\n",
    "\n",
    "saisyuu = piramiddo2(n)"
   ]
  },
  {
   "attachments": {},
   "cell_type": "markdown",
   "id": "8ee0607a-3bb9-41a9-a3ab-72cfc7e8da35",
   "metadata": {},
   "source": [
    "## 10.フィボナッチ数列の表示"
   ]
  },
  {
   "cell_type": "code",
   "execution_count": 6,
   "id": "be49a143-8b8c-431f-bf8c-ef477ee4b25e",
   "metadata": {},
   "outputs": [],
   "source": [
    "def fibonatti(n):\n",
    "    a,b = 0,1\n",
    "    for i in range(n):\n",
    "        print(b, end=\"\")\n",
    "        print(\" \", end=\"\")\n",
    "        a,b = b, a+b"
   ]
  },
  {
   "cell_type": "code",
   "execution_count": 7,
   "id": "fa347579-55c3-4099-9654-2af5f88fcf5f",
   "metadata": {
    "tags": []
   },
   "outputs": [
    {
     "name": "stdout",
     "output_type": "stream",
     "text": [
      "任意の数字を入力してください 9\n"
     ]
    },
    {
     "name": "stdout",
     "output_type": "stream",
     "text": [
      "1 1 2 3 5 8 13 21 34 "
     ]
    }
   ],
   "source": [
    "n = int(input(\"任意の数字を入力してください\"))\n",
    "saisyuu = fibonatti(n)"
   ]
  },
  {
   "attachments": {},
   "cell_type": "markdown",
   "id": "db4bf3ee-d984-476f-b89e-682ebb516a7e",
   "metadata": {},
   "source": [
    "## 11.テイラー展開"
   ]
  },
  {
   "cell_type": "code",
   "execution_count": 89,
   "id": "7cce00d0-05a9-4800-ad9b-f26c20e67961",
   "metadata": {
    "tags": []
   },
   "outputs": [],
   "source": [
    "def maclo(n):\n",
    "    a = 0\n",
    "    bunnbo = 0\n",
    "    kekka = 1\n",
    "    kaijyou = 1\n",
    "    goukei = 0\n",
    "    e = (2.71828) ** n\n",
    "    for i in range(1,100):\n",
    "        kaijyou = kaijyou * i\n",
    "        keisan = (n ** i)/kaijyou\n",
    "        kekka = kekka + keisan\n",
    "        #goukei = goukei + kekka\n",
    "        bunnbo += 1\n",
    "        a += 1\n",
    "        print(keisan)\n",
    "        #print(kekka,end=\"\")\n",
    "        print(\" \")\n",
    "        print(\"合計={}\".format(kekka))\n",
    "        \n",
    "    print(e)"
   ]
  },
  {
   "cell_type": "code",
   "execution_count": 90,
   "id": "a48226af-24c9-4fd5-82ef-6568d4ba2ac9",
   "metadata": {
    "tags": []
   },
   "outputs": [
    {
     "name": "stdout",
     "output_type": "stream",
     "text": [
      "任意の数字を入力してください 5\n"
     ]
    },
    {
     "name": "stdout",
     "output_type": "stream",
     "text": [
      "5.0\n",
      " \n",
      "合計=6.0\n",
      "12.5\n",
      " \n",
      "合計=18.5\n",
      "20.833333333333332\n",
      " \n",
      "合計=39.33333333333333\n",
      "26.041666666666668\n",
      " \n",
      "合計=65.375\n",
      "26.041666666666668\n",
      " \n",
      "合計=91.41666666666667\n",
      "21.70138888888889\n",
      " \n",
      "合計=113.11805555555556\n",
      "15.500992063492063\n",
      " \n",
      "合計=128.61904761904762\n",
      "9.68812003968254\n",
      " \n",
      "合計=138.30716765873015\n",
      "5.3822889109347445\n",
      " \n",
      "合計=143.68945656966488\n",
      "2.6911444554673722\n",
      " \n",
      "合計=146.38060102513225\n",
      "1.2232474797578965\n",
      " \n",
      "合計=147.60384850489015\n",
      "0.5096864498991235\n",
      " \n",
      "合計=148.1135349547893\n",
      "0.19603324996120136\n",
      " \n",
      "合計=148.3095682047505\n",
      "0.07001187498614334\n",
      " \n",
      "合計=148.37958007973663\n",
      "0.02333729166204778\n",
      " \n",
      "合計=148.40291737139867\n",
      "0.007292903644389931\n",
      " \n",
      "合計=148.41021027504306\n",
      "0.0021449716601146854\n",
      " \n",
      "合計=148.41235524670316\n",
      "0.0005958254611429682\n",
      " \n",
      "合計=148.4129510721643\n",
      "0.00015679617398499165\n",
      " \n",
      "合計=148.4131078683383\n",
      "3.919904349624791e-05\n",
      " \n",
      "合計=148.4131470673818\n",
      "9.333105594344741e-06\n",
      " \n",
      "合計=148.4131564004874\n",
      "2.1211603623510775e-06\n",
      " \n",
      "合計=148.41315852164774\n",
      "4.611218179024081e-07\n",
      " \n",
      "合計=148.41315898276957\n",
      "9.606704539633503e-08\n",
      " \n",
      "合計=148.41315907883663\n",
      "1.9213409079267007e-08\n",
      " \n",
      "合計=148.41315909805004\n",
      "3.694886361397501e-09\n",
      " \n",
      "合計=148.41315910174492\n",
      "6.842382150736113e-10\n",
      " \n",
      "合計=148.41315910242915\n",
      "1.2218539554885916e-10\n",
      " \n",
      "合計=148.41315910255133\n",
      "2.1066447508423994e-11\n",
      " \n",
      "合計=148.4131591025724\n",
      "3.5110745847373324e-12\n",
      " \n",
      "合計=148.41315910257592\n",
      "5.663023523769891e-13\n",
      " \n",
      "合計=148.4131591025765\n",
      "8.848474255890454e-14\n",
      " \n",
      "合計=148.41315910257657\n",
      "1.3406779175591597e-14\n",
      " \n",
      "合計=148.41315910257657\n",
      "1.971585172881117e-15\n",
      " \n",
      "合計=148.41315910257657\n",
      "2.8165502469730247e-16\n",
      " \n",
      "合計=148.41315910257657\n",
      "3.91187534301809e-17\n",
      " \n",
      "合計=148.41315910257657\n",
      "5.2863180311055264e-18\n",
      " \n",
      "合計=148.41315910257657\n",
      "6.955681619875693e-19\n",
      " \n",
      "合計=148.41315910257657\n",
      "8.917540538302171e-20\n",
      " \n",
      "合計=148.41315910257657\n",
      "1.1146925672877714e-20\n",
      " \n",
      "合計=148.41315910257657\n",
      "1.3593811796192333e-21\n",
      " \n",
      "合計=148.41315910257657\n",
      "1.618310928118135e-22\n",
      " \n",
      "合計=148.41315910257657\n",
      "1.881756893160622e-23\n",
      " \n",
      "合計=148.41315910257657\n",
      "2.1383601058643432e-24\n",
      " \n",
      "合計=148.41315910257657\n",
      "2.3759556731826033e-25\n",
      " \n",
      "合計=148.41315910257657\n",
      "2.5825605143289167e-26\n",
      " \n",
      "合計=148.41315910257657\n",
      "2.7474048024775712e-27\n",
      " \n",
      "合計=148.41315910257657\n",
      "2.8618800025808035e-28\n",
      " \n",
      "合計=148.41315910257657\n",
      "2.920285716919187e-29\n",
      " \n",
      "合計=148.41315910257657\n",
      "2.920285716919187e-30\n",
      " \n",
      "合計=148.41315910257657\n",
      "2.8630252126658696e-31\n",
      " \n",
      "合計=148.41315910257657\n",
      "2.752908858332567e-32\n",
      " \n",
      "合計=148.41315910257657\n",
      "2.597083828615629e-33\n",
      " \n",
      "合計=148.41315910257657\n",
      "2.404707248718175e-34\n",
      " \n",
      "合計=148.41315910257657\n",
      "2.1860974988347047e-35\n",
      " \n",
      "合計=148.41315910257657\n",
      "1.9518727668167005e-36\n",
      " \n",
      "合計=148.41315910257657\n",
      "1.7121690936988602e-37\n",
      " \n",
      "合計=148.41315910257657\n",
      "1.4760078393955692e-38\n",
      " \n",
      "合計=148.41315910257657\n",
      "1.2508541011826857e-39\n",
      " \n",
      "合計=148.41315910257657\n",
      "1.042378417652238e-40\n",
      " \n",
      "合計=148.41315910257657\n",
      "8.544085390592115e-42\n",
      " \n",
      "合計=148.41315910257657\n",
      "6.890391444025899e-43\n",
      " \n",
      "合計=148.41315910257657\n",
      "5.468564638115793e-44\n",
      " \n",
      "合計=148.41315910257657\n",
      "4.272316123527963e-45\n",
      " \n",
      "合計=148.41315910257657\n",
      "3.2863970180984336e-46\n",
      " \n",
      "合計=148.41315910257657\n",
      "2.4896947106806316e-47\n",
      " \n",
      "合計=148.41315910257657\n",
      "1.8579811273736055e-48\n",
      " \n",
      "合計=148.41315910257657\n",
      "1.3661625936570629e-49\n",
      " \n",
      "合計=148.41315910257657\n",
      "9.899728939543934e-51\n",
      " \n",
      "合計=148.41315910257657\n",
      "7.071234956817096e-52\n",
      " \n",
      "合計=148.41315910257657\n",
      "4.979742927335983e-53\n",
      " \n",
      "合計=148.41315910257657\n",
      "3.458154810649988e-54\n",
      " \n",
      "合計=148.41315910257657\n",
      "2.368599185376704e-55\n",
      " \n",
      "合計=148.41315910257657\n",
      "1.6004048549842595e-56\n",
      " \n",
      "合計=148.41315910257657\n",
      "1.0669365699895063e-57\n",
      " \n",
      "合計=148.41315910257657\n",
      "7.019319539404648e-59\n",
      " \n",
      "合計=148.41315910257657\n",
      "4.5579997009121085e-60\n",
      " \n",
      "合計=148.41315910257657\n",
      "2.9217946800718647e-61\n",
      " \n",
      "合計=148.41315910257657\n",
      "1.8492371392859902e-62\n",
      " \n",
      "合計=148.41315910257657\n",
      "1.1557732120537439e-63\n",
      " \n",
      "合計=148.41315910257657\n",
      "7.134402543541629e-65\n",
      " \n",
      "合計=148.41315910257657\n",
      "4.350245453379042e-66\n",
      " \n",
      "合計=148.41315910257657\n",
      "2.6206297911921938e-67\n",
      " \n",
      "合計=148.41315910257657\n",
      "1.5598986852334488e-68\n",
      " \n",
      "合計=148.41315910257657\n",
      "9.175874619020287e-70\n",
      " \n",
      "合計=148.41315910257657\n",
      "5.3348108250117945e-71\n",
      " \n",
      "合計=148.41315910257657\n",
      "3.065983232765399e-72\n",
      " \n",
      "合計=148.41315910257657\n",
      "1.7420359277076132e-73\n",
      " \n",
      "合計=148.41315910257657\n",
      "9.786718694986592e-75\n",
      " \n",
      "合計=148.41315910257657\n",
      "5.4370659416592176e-76\n",
      " \n",
      "合計=148.41315910257657\n",
      "2.987398869043526e-77\n",
      " \n",
      "合計=148.41315910257657\n",
      "1.6235863418714816e-78\n",
      " \n",
      "合計=148.41315910257657\n",
      "8.728958827266029e-80\n",
      " \n",
      "合計=148.41315910257657\n",
      "4.643063205992569e-81\n",
      " \n",
      "合計=148.41315910257657\n",
      "2.4437174768381944e-82\n",
      " \n",
      "合計=148.41315910257657\n",
      "1.2727695191865596e-83\n",
      " \n",
      "合計=148.41315910257657\n",
      "6.560667624672987e-85\n",
      " \n",
      "合計=148.41315910257657\n",
      "3.3472794003433606e-86\n",
      " \n",
      "合計=148.41315910257657\n",
      "1.690545151688566e-87\n",
      " \n",
      "合計=148.41315910257657\n",
      "148.41265995084171\n"
     ]
    }
   ],
   "source": [
    "n = int(input(\"任意の数字を入力してください\"))\n",
    "saisyuu = maclo(n)"
   ]
  },
  {
   "attachments": {},
   "cell_type": "markdown",
   "id": "c4f8aec5-1fef-4b51-950c-d4f30b59575e",
   "metadata": {},
   "source": [
    "## 12.sinテイラー展開"
   ]
  },
  {
   "cell_type": "code",
   "execution_count": 54,
   "id": "c5fa1bed-4594-4420-8f7d-f3818ad8d787",
   "metadata": {
    "tags": []
   },
   "outputs": [],
   "source": [
    "def kaijyou2n(n):\n",
    "    kaijyou = 1\n",
    "    kekka = 0\n",
    "    kekka = kekka + (2*n + 1)\n",
    "    for j in range(kekka):\n",
    "        kaijyou = kaijyou * kekka\n",
    "        kekka -= 1\n",
    "        \n",
    "    return kaijyou"
   ]
  },
  {
   "cell_type": "code",
   "execution_count": 98,
   "id": "752fe1ac-0ccc-40d3-bff6-f1bfd64413fb",
   "metadata": {
    "tags": []
   },
   "outputs": [
    {
     "data": {
      "text/plain": [
       "1"
      ]
     },
     "execution_count": 98,
     "metadata": {},
     "output_type": "execute_result"
    }
   ],
   "source": [
    "kaijyou2n(0)"
   ]
  },
  {
   "cell_type": "code",
   "execution_count": 105,
   "id": "a2dc4afa-b864-453e-8d6b-f5a13b1e1833",
   "metadata": {
    "tags": []
   },
   "outputs": [],
   "source": [
    "def smaclo(n,x):\n",
    "    #syosuu = n\n",
    "    goukei = 0\n",
    "    for i in range(n+1):\n",
    "        goukei = goukei + (((-1)**i)*(x)**(2*i+1))/kaijyou2n(i)\n",
    "        #print(kaijyou2n(i))\n",
    "        #print(goukei)\n",
    "    #goukei_sum = syosuu + goukei\n",
    "    return goukei"
   ]
  },
  {
   "cell_type": "code",
   "execution_count": 110,
   "id": "5a267c12-1614-484c-89f0-dbd943014893",
   "metadata": {
    "tags": []
   },
   "outputs": [
    {
     "name": "stdout",
     "output_type": "stream",
     "text": [
      "任意の数字を入力してください 7\n",
      "任意の数字を入力してください 0.52\n"
     ]
    },
    {
     "name": "stdout",
     "output_type": "stream",
     "text": [
      "0.4968801378437367\n"
     ]
    }
   ],
   "source": [
    "n = int(input(\"任意の数字を入力してください\"))\n",
    "x = float(input(\"任意の数字を入力してください\"))\n",
    "saisyuu = smaclo(n,x)\n",
    "#print(kaijyou2n(n))\n",
    "print(saisyuu)"
   ]
  },
  {
   "attachments": {},
   "cell_type": "markdown",
   "id": "e94b7385-6a23-475e-899b-06e02478d17b",
   "metadata": {},
   "source": [
    "## 13.cosテイラー展開"
   ]
  },
  {
   "cell_type": "code",
   "execution_count": 86,
   "id": "e7299fb3-c500-4648-9e5a-76975fbdbb79",
   "metadata": {
    "tags": []
   },
   "outputs": [],
   "source": [
    "def kaijyouguusuu(n):\n",
    "    kaijyou = 1\n",
    "    kekka = 0\n",
    "    kekka = kekka + (2*n)\n",
    "    for j in range(kekka):\n",
    "        kaijyou = kaijyou * kekka\n",
    "        kekka -= 1\n",
    "        \n",
    "    return kaijyou"
   ]
  },
  {
   "cell_type": "code",
   "execution_count": 111,
   "id": "464d8aee-3aeb-40e8-bbc5-eb7aee8127a6",
   "metadata": {
    "tags": []
   },
   "outputs": [],
   "source": [
    "def cmaclo(n,x):\n",
    "    goukei = 0\n",
    "    for i in range(n+1):\n",
    "        goukei = goukei + (((-1)**i)*(x)**(2*i))/kaijyouguusuu(i)\n",
    "        #print(kaijyouguusuu(i))\n",
    "        #print(goukei)\n",
    "    #goukei_sum = syosuu + goukei\n",
    "    return goukei"
   ]
  },
  {
   "cell_type": "code",
   "execution_count": 114,
   "id": "7cee7ab8-6bcd-4af9-9737-09264a9d8d72",
   "metadata": {
    "tags": []
   },
   "outputs": [
    {
     "name": "stdout",
     "output_type": "stream",
     "text": [
      "任意の数字を入力してください 10\n",
      "任意の数字を入力してください 1.04\n"
     ]
    },
    {
     "name": "stdout",
     "output_type": "stream",
     "text": [
      "0.5062202572327782\n"
     ]
    }
   ],
   "source": [
    "n = int(input(\"任意の数字を入力してください\"))\n",
    "x = float(input(\"任意の数字を入力してください\"))\n",
    "saisyuu = cmaclo(n,x)\n",
    "print(saisyuu)"
   ]
  },
  {
   "attachments": {},
   "cell_type": "markdown",
   "id": "4ed6f3e0-cd94-4fe3-b0d4-759d7ec66ab9",
   "metadata": {},
   "source": [
    "## 14.logテイラー展開"
   ]
  },
  {
   "cell_type": "code",
   "execution_count": 129,
   "id": "911e8aea-8621-47ec-8e07-6b41f4154f82",
   "metadata": {
    "tags": []
   },
   "outputs": [],
   "source": [
    "def log_maclo(n,x):\n",
    "    goukei = 0\n",
    "    for i in range(1,n+1):\n",
    "        goukei = goukei +(((-1)*(-1)**(i))*(x - i)**i)/i\n",
    "        \n",
    "    return goukei"
   ]
  },
  {
   "cell_type": "code",
   "execution_count": 130,
   "id": "3ff97de5-12f5-43a2-bcc8-97330dfc2082",
   "metadata": {
    "tags": []
   },
   "outputs": [
    {
     "name": "stdout",
     "output_type": "stream",
     "text": [
      "計算したい項数を入力してください 1\n",
      "任意の数字を入力してください 5\n"
     ]
    },
    {
     "name": "stdout",
     "output_type": "stream",
     "text": [
      "4.0\n"
     ]
    }
   ],
   "source": [
    "n = int(input(\"計算したい項数を入力してください\"))\n",
    "x = float(input(\"任意の数字を入力してください\"))\n",
    "saisyuu = log_maclo(n,x)\n",
    "print(saisyuu)"
   ]
  },
  {
   "attachments": {},
   "cell_type": "markdown",
   "id": "e9730311-236b-4292-a318-ed18d82a7bf5",
   "metadata": {},
   "source": [
    "## 15.任意の数字の逆の数字の表示"
   ]
  },
  {
   "cell_type": "code",
   "execution_count": 132,
   "id": "dbd6e591-cb04-40d6-9781-cd308dc3ba28",
   "metadata": {
    "tags": []
   },
   "outputs": [],
   "source": [
    "def gyakusuuji(n):\n",
    "    gya = n[::-1]\n",
    "    \n",
    "    return gya"
   ]
  },
  {
   "cell_type": "code",
   "execution_count": 134,
   "id": "0d9297c9-b7bb-44f9-a1e0-485c565999ae",
   "metadata": {
    "tags": []
   },
   "outputs": [
    {
     "name": "stdout",
     "output_type": "stream",
     "text": [
      "任意の数字を入力してください 12345\n"
     ]
    },
    {
     "name": "stdout",
     "output_type": "stream",
     "text": [
      "54321\n"
     ]
    }
   ],
   "source": [
    "n = input(\"任意の数字を入力してください\")\n",
    "saisyuu = gyakusuuji(n)\n",
    "print(saisyuu)"
   ]
  },
  {
   "attachments": {},
   "cell_type": "markdown",
   "id": "9dacf71a-4c27-4b0d-a74f-725a5d24242b",
   "metadata": {},
   "source": [
    "## 16.ピラミッドの連結"
   ]
  },
  {
   "cell_type": "code",
   "execution_count": 146,
   "id": "89a39aa6-3653-41a5-ab5a-bad11e712661",
   "metadata": {
    "tags": []
   },
   "outputs": [],
   "source": [
    "def make_piramiddo(n):\n",
    "    for i in range(1,n+1):\n",
    "        print(' ' * (n-i),end=\"\")\n",
    "        print('*' * (2*i-1))\n",
    "    for i in range(n-1,0,-1):\n",
    "        print(' ' * ((n)-i),end=\"\")\n",
    "        print('*' * (2*i-1))"
   ]
  },
  {
   "cell_type": "code",
   "execution_count": 147,
   "id": "7b96ca42-02a5-48ad-bbe5-c48fa85ec423",
   "metadata": {
    "tags": []
   },
   "outputs": [
    {
     "name": "stdout",
     "output_type": "stream",
     "text": [
      "任意の数字を入力してください 5\n"
     ]
    },
    {
     "name": "stdout",
     "output_type": "stream",
     "text": [
      "    *\n",
      "   ***\n",
      "  *****\n",
      " *******\n",
      "*********\n",
      " *******\n",
      "  *****\n",
      "   ***\n",
      "    *\n"
     ]
    }
   ],
   "source": [
    "n = int(input(\"任意の数字を入力してください\"))\n",
    "saisyuu = make_piramiddo(n)"
   ]
  },
  {
   "attachments": {},
   "cell_type": "markdown",
   "id": "fd28fb69-7114-4ea3-90f5-a2bb53aecf11",
   "metadata": {},
   "source": [
    "## 17.10進数→2進数"
   ]
  },
  {
   "cell_type": "code",
   "execution_count": 7,
   "id": "c7304346-967c-48fe-9e2d-44b5b410cf30",
   "metadata": {
    "tags": []
   },
   "outputs": [],
   "source": [
    "def nisinnsuu(n):\n",
    "    nisinlist = []\n",
    "    for i in range(100):\n",
    "        ama = n%2\n",
    "        syou = n//2\n",
    "        nisinlist.append(ama)\n",
    "        #print(\"{}\".format(sai),end=\"\")\n",
    "        n = syou\n",
    "        if ama == 0 and syou == 1:\n",
    "            nisinlist.append(syou)\n",
    "            #print(\"{}\".format(syou),end=\"\")\n",
    "            break\n",
    "    nisinlist.reverse()\n",
    "    print(nisinlist)"
   ]
  },
  {
   "cell_type": "code",
   "execution_count": 8,
   "id": "8b6208a3-7a1e-4d82-be3d-ec5eeb78b0a9",
   "metadata": {
    "tags": []
   },
   "outputs": [
    {
     "name": "stdout",
     "output_type": "stream",
     "text": [
      "任意の数字を入力してください 8\n"
     ]
    },
    {
     "name": "stdout",
     "output_type": "stream",
     "text": [
      "[1, 0, 0, 0]\n"
     ]
    }
   ],
   "source": [
    "n = int(input(\"任意の数字を入力してください\"))\n",
    "saisyuu = nisinnsuu(n)"
   ]
  },
  {
   "attachments": {},
   "cell_type": "markdown",
   "id": "d0f57cf9-1862-46cd-930d-09b62416035d",
   "metadata": {},
   "source": [
    "## 18.2進数→10進数"
   ]
  },
  {
   "cell_type": "code",
   "execution_count": 26,
   "id": "bf69ff3e-f396-4811-af00-124380d4fff7",
   "metadata": {
    "tags": []
   },
   "outputs": [],
   "source": [
    "def jyuusin(n):\n",
    "    kekka = 0\n",
    "    for i in range(100):\n",
    "        x = n%10\n",
    "        y = x*(2**i)\n",
    "        kekka = kekka + y\n",
    "        n = n//10\n",
    "        \n",
    "    return kekka"
   ]
  },
  {
   "cell_type": "code",
   "execution_count": 27,
   "id": "39cf0efa-90a6-4792-b0f4-527069086f37",
   "metadata": {
    "tags": []
   },
   "outputs": [
    {
     "name": "stdout",
     "output_type": "stream",
     "text": [
      "任意の2進数を入力してください 1000\n"
     ]
    },
    {
     "name": "stdout",
     "output_type": "stream",
     "text": [
      "8\n"
     ]
    }
   ],
   "source": [
    "n = int(input(\"任意の2進数を入力してください\"))\n",
    "saisyuu = jyuusin(n)\n",
    "print(saisyuu)"
   ]
  },
  {
   "cell_type": "code",
   "execution_count": null,
   "id": "7ef1fbfa-9153-4cb6-b9e3-48288dea4f3a",
   "metadata": {},
   "outputs": [],
   "source": []
  }
 ],
 "metadata": {
  "kernelspec": {
   "display_name": "Python 3 (ipykernel)",
   "language": "python",
   "name": "python3"
  },
  "language_info": {
   "codemirror_mode": {
    "name": "ipython",
    "version": 3
   },
   "file_extension": ".py",
   "mimetype": "text/x-python",
   "name": "python",
   "nbconvert_exporter": "python",
   "pygments_lexer": "ipython3",
   "version": "3.8.16"
  }
 },
 "nbformat": 4,
 "nbformat_minor": 5
}
