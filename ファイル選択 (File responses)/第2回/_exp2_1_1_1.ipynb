{
 "cells": [
  {
   "attachments": {},
   "cell_type": "markdown",
   "metadata": {},
   "source": [
    "> **Note**\n",
    "\n",
    "### 関数の引数について\n",
    "関数を使用するときには、関数内で使用する変数を引数で与えることが一般的です。関数の外で引数を設定することで、どのような変数が使われているかを関数の外から確認でき、保守性が向上します。\n",
    "\n",
    "```python\n",
    "fuga = 1\n",
    "def func(fuga):\n",
    "    return fuga\n",
    "```"
   ]
  },
  {
   "attachments": {},
   "cell_type": "markdown",
   "metadata": {},
   "source": [
    "> **Note**\n",
    "### 関数の初期値について\n",
    "関数の初期値を設定したい場合は、引数の後に「=」をつけて値を設定できます。こうすることで、引数を省略した場合に初期値が設定され、関数の外から初期値を確認することができます。\n",
    "\n",
    "```python\n",
    "def func(hoge=0):\n",
    "    print(hoge)\n",
    "    return hoge\n",
    "```"
   ]
  }
 ],
 "metadata": {
  "language_info": {
   "name": "python"
  },
  "orig_nbformat": 4
 },
 "nbformat": 4,
 "nbformat_minor": 2
}
