{
 "cells": [
  {
   "cell_type": "markdown",
   "id": "d586c550-283f-41a2-93aa-baaf5376381d",
   "metadata": {},
   "source": [
    "# 課題"
   ]
  },
  {
   "cell_type": "markdown",
   "id": "f4ad3fdd-19b9-4476-88ac-4eced67d3141",
   "metadata": {},
   "source": [
    "## 1-入力した数字の階乗"
   ]
  },
  {
   "cell_type": "code",
   "execution_count": 67,
   "id": "ebd32838-7140-4844-b122-9b2e124f8b8e",
   "metadata": {
    "tags": []
   },
   "outputs": [],
   "source": [
    "def factorial(num):\n",
    "    ans = 1\n",
    "    while num >= 1:\n",
    "        ans = ans * num\n",
    "        num -= 1\n",
    "        \n",
    "    return(ans)"
   ]
  },
  {
   "cell_type": "code",
   "execution_count": 68,
   "id": "f78bd557-36b3-4cbf-9db9-804deca2efe7",
   "metadata": {
    "tags": []
   },
   "outputs": [
    {
     "name": "stdin",
     "output_type": "stream",
     "text": [
      "好きな数字を入力してください。 5\n"
     ]
    },
    {
     "name": "stdout",
     "output_type": "stream",
     "text": [
      "5の階乗は120\n"
     ]
    }
   ],
   "source": [
    "num = int(input(\"好きな数字を入力してください。\"))\n",
    "fac = factorial(num)\n",
    "print(\"%dの階乗は%d\" %(num, fac))"
   ]
  },
  {
   "cell_type": "markdown",
   "id": "ded351b2-2103-4592-9c01-c155f91bf80d",
   "metadata": {},
   "source": [
    "## 2-平均点から成績をだす"
   ]
  },
  {
   "cell_type": "code",
   "execution_count": 69,
   "id": "5c8efabd-ec48-4835-8b31-a19377f6a9a8",
   "metadata": {
    "tags": []
   },
   "outputs": [],
   "source": [
    "def grade(japa, math, phy, che, eng):\n",
    "    total = japa + math + phy + che + eng\n",
    "    ave = total / 5\n",
    "    \n",
    "    print(\"あなたの平均点は%fです。\" %(ave))\n",
    "    if ave >= 90:\n",
    "        print(\"あなたの成績は秀です。\")\n",
    "    elif ave >= 80:\n",
    "        print(\"あなたの成績は優です。\")\n",
    "    elif ave >= 70:\n",
    "        print(\"あなたの成績は良です。\")\n",
    "    elif ave >= 60:\n",
    "        print(\"あなたの成績は可です。\")\n",
    "    else:\n",
    "        print(\"あなたの成績は不可です。\")"
   ]
  },
  {
   "cell_type": "code",
   "execution_count": 70,
   "id": "ff5a2f2e-8098-4f98-81d5-d078fdd8f84a",
   "metadata": {
    "tags": []
   },
   "outputs": [
    {
     "name": "stdin",
     "output_type": "stream",
     "text": [
      "国語の点数を入力してください 69\n",
      "数学の点数を入力してください 66\n",
      "物理の点数を入力してください 90\n",
      "化学の点数を入力してください 88\n",
      "英語の点数を入力してください 90\n"
     ]
    },
    {
     "name": "stdout",
     "output_type": "stream",
     "text": [
      "あなたの平均点は80.600000です。\n",
      "あなたの成績は優です。\n"
     ]
    }
   ],
   "source": [
    "japa = int(input(\"国語の点数を入力してください\"))\n",
    "math = int(input(\"数学の点数を入力してください\"))\n",
    "phy = int(input(\"物理の点数を入力してください\"))\n",
    "che = int(input(\"化学の点数を入力してください\"))\n",
    "eng = int(input(\"英語の点数を入力してください\"))\n",
    "\n",
    "grade(japa, math, phy, che, eng)"
   ]
  },
  {
   "cell_type": "markdown",
   "id": "9378f2a9-910e-4bbf-b817-4b763976383e",
   "metadata": {},
   "source": [
    "## 3-素数の判定"
   ]
  },
  {
   "cell_type": "code",
   "execution_count": 108,
   "id": "dc84c05f-cfb3-44a4-8d76-3354d9b43752",
   "metadata": {
    "tags": []
   },
   "outputs": [],
   "source": [
    "def prime(num):\n",
    "    div_num = num - 1\n",
    "    count = 0\n",
    "    while div_num > 1:\n",
    "        if num % div_num == 0: #割り切れた回数をカウント\n",
    "            count += 1\n",
    "        div_num -= 1\n",
    "        \n",
    "    if count > 0:\n",
    "        print(\"%dは素数ではありません。\" %(num))\n",
    "    else:\n",
    "        print(\"%dは素数です。\" %(num))"
   ]
  },
  {
   "cell_type": "code",
   "execution_count": 109,
   "id": "5c7d949f-befd-461c-89b4-7ca7a84bdfe8",
   "metadata": {
    "tags": []
   },
   "outputs": [
    {
     "name": "stdin",
     "output_type": "stream",
     "text": [
      "好きな数字を入力してください。 5\n"
     ]
    },
    {
     "name": "stdout",
     "output_type": "stream",
     "text": [
      "5は素数です。\n"
     ]
    }
   ],
   "source": [
    "num = int(input(\"好きな数字を入力してください。\"))\n",
    "prime(num)"
   ]
  },
  {
   "cell_type": "markdown",
   "id": "b596d4e4-f478-402b-903a-9b8c3ffa531f",
   "metadata": {},
   "source": [
    "## 4-入力した数字から1まで足す"
   ]
  },
  {
   "cell_type": "code",
   "execution_count": 73,
   "id": "c01be36d-4194-426a-9a02-40547cfe7585",
   "metadata": {
    "tags": []
   },
   "outputs": [],
   "source": [
    "def add(num):\n",
    "    sum_num = 0\n",
    "    while num > 0:\n",
    "        sum_num += num\n",
    "        num -= 1\n",
    "        \n",
    "    return(sum_num)"
   ]
  },
  {
   "cell_type": "code",
   "execution_count": 74,
   "id": "3b161e18-14fd-4d42-894b-d2b3bac33f9a",
   "metadata": {
    "tags": []
   },
   "outputs": [
    {
     "name": "stdin",
     "output_type": "stream",
     "text": [
      "好きな数字を入力してください。 10\n"
     ]
    },
    {
     "name": "stdout",
     "output_type": "stream",
     "text": [
      "10から1まで足した結果は55\n"
     ]
    }
   ],
   "source": [
    "num = int(input(\"好きな数字を入力してください。\"))\n",
    "sum_all = add(num)\n",
    "print(\"%dから1まで足した結果は%d\" %(num, sum_all))"
   ]
  },
  {
   "cell_type": "markdown",
   "id": "959e620a-1707-48db-afbc-fd4ea4ef7f8e",
   "metadata": {},
   "source": [
    "## 5-標準偏差をだす"
   ]
  },
  {
   "cell_type": "code",
   "execution_count": 75,
   "id": "95170630-091d-4b06-8476-df7add450363",
   "metadata": {
    "tags": []
   },
   "outputs": [],
   "source": [
    "def std_div(num1, num2, num3, num4, num5):\n",
    "    ave = (num1 + num2 + num3 + num4 + num5) / 5\n",
    "    num_list = [num1, num2, num3, num4, num5]\n",
    "    sub = 0\n",
    "    for i in range(5):\n",
    "        sub += (ave - num_list[i])**2\n",
    "        \n",
    "    std_div = math.sqrt(sub / 5)\n",
    "    \n",
    "    return(std_div)"
   ]
  },
  {
   "cell_type": "code",
   "execution_count": 76,
   "id": "9a49559f-451e-409d-9798-6af947821bc8",
   "metadata": {
    "tags": []
   },
   "outputs": [
    {
     "name": "stdin",
     "output_type": "stream",
     "text": [
      "好きな数字を入力してください。 77\n",
      "好きな数字を入力してください。 66\n",
      "好きな数字を入力してください。 88\n",
      "好きな数字を入力してください。 99\n",
      "好きな数字を入力してください。 55\n"
     ]
    },
    {
     "name": "stdout",
     "output_type": "stream",
     "text": [
      "標準偏差は15です。\n"
     ]
    }
   ],
   "source": [
    "import math\n",
    "num1 = int(input(\"好きな数字を入力してください。\"))\n",
    "num2 = int(input(\"好きな数字を入力してください。\"))\n",
    "num3 = int(input(\"好きな数字を入力してください。\"))\n",
    "num4 = int(input(\"好きな数字を入力してください。\"))\n",
    "num5 = int(input(\"好きな数字を入力してください。\"))\n",
    "\n",
    "ans = std_div(num1, num2, num3, num4, num5)\n",
    "print(\"標準偏差は%dです。\" %(ans))"
   ]
  },
  {
   "cell_type": "markdown",
   "id": "1cdc4396-c831-4b5c-8442-8b75f3c9b8eb",
   "metadata": {},
   "source": [
    "## 6-ピラミッドを作る"
   ]
  },
  {
   "cell_type": "code",
   "execution_count": 77,
   "id": "b847084d-5ede-46bc-b53b-bd1b7e17c44a",
   "metadata": {
    "tags": []
   },
   "outputs": [],
   "source": [
    "def pyramid(step_num):\n",
    "    for i in range(0, step_num):\n",
    "        print(\" \"*(step_num - i), end=\"\")\n",
    "        print(\"*\"*((2 * i) + 1))"
   ]
  },
  {
   "cell_type": "code",
   "execution_count": 78,
   "id": "3ca587e4-f8f9-4805-88cb-4f335befdf6d",
   "metadata": {
    "tags": []
   },
   "outputs": [
    {
     "name": "stdin",
     "output_type": "stream",
     "text": [
      "段数を入力してください。 5\n"
     ]
    },
    {
     "name": "stdout",
     "output_type": "stream",
     "text": [
      "     *\n",
      "    ***\n",
      "   *****\n",
      "  *******\n",
      " *********\n"
     ]
    }
   ],
   "source": [
    "stair_num = int(input(\"段数を入力してください。\"))\n",
    "pyramid(stair_num)"
   ]
  },
  {
   "cell_type": "code",
   "execution_count": 79,
   "id": "c8200c46-b995-4315-ae29-57144856059a",
   "metadata": {
    "tags": []
   },
   "outputs": [],
   "source": [
    "def rev_pyramid(step_num):\n",
    "    for i in range(step_num, 0, -1):\n",
    "        print(\" \"*((step_num - i)), end=\"\")\n",
    "        print(\"*\"*((2 * i) - 1))"
   ]
  },
  {
   "cell_type": "code",
   "execution_count": 80,
   "id": "da4b7f5e-3405-4903-969b-7313b3749007",
   "metadata": {
    "tags": []
   },
   "outputs": [
    {
     "name": "stdin",
     "output_type": "stream",
     "text": [
      "段数を入力してください。 4\n"
     ]
    },
    {
     "name": "stdout",
     "output_type": "stream",
     "text": [
      "*******\n",
      " *****\n",
      "  ***\n",
      "   *\n"
     ]
    }
   ],
   "source": [
    "stair_num = int(input(\"段数を入力してください。\"))\n",
    "rev_pyramid(stair_num)"
   ]
  },
  {
   "cell_type": "markdown",
   "id": "a271bd1e-c64d-436c-8f96-f632d2384977",
   "metadata": {
    "tags": []
   },
   "source": [
    "## 7-3辺の長さから三角形の面積を求める"
   ]
  },
  {
   "cell_type": "code",
   "execution_count": 82,
   "id": "19a85b07-472b-441e-af6e-359a73906eac",
   "metadata": {
    "tags": []
   },
   "outputs": [],
   "source": [
    "def tri_space1(side1, side2, side3):\n",
    "    s = (side1 + side2 + side3) / 2\n",
    "    space = math.sqrt(s * (s - side1) * (s - side2) * (s - side3))\n",
    "    \n",
    "    return(space)"
   ]
  },
  {
   "cell_type": "code",
   "execution_count": 83,
   "id": "7f1e28d5-4f2f-432d-b4cc-57958ef9fb13",
   "metadata": {
    "tags": []
   },
   "outputs": [
    {
     "name": "stdin",
     "output_type": "stream",
     "text": [
      "1辺の長さを入力してください 3\n",
      "1辺の長さを入力してください 4\n",
      "1辺の長さを入力してください 5\n"
     ]
    },
    {
     "name": "stdout",
     "output_type": "stream",
     "text": [
      "面積は6.000000\n"
     ]
    }
   ],
   "source": [
    "import math\n",
    "s1 = int(input(\"1辺の長さを入力してください\"))\n",
    "s2 = int(input(\"1辺の長さを入力してください\"))\n",
    "s3 = int(input(\"1辺の長さを入力してください\"))\n",
    "\n",
    "ans = tri_space1(s1, s2, s3)\n",
    "\n",
    "print(\"面積は%f\" %(ans))"
   ]
  },
  {
   "cell_type": "markdown",
   "id": "fb391ea8-3157-45e7-b0bb-091cbbe8b667",
   "metadata": {
    "tags": []
   },
   "source": [
    "## 8-座標から三角形の面積を求める"
   ]
  },
  {
   "cell_type": "code",
   "execution_count": 86,
   "id": "b227c0c2-af9e-4240-9912-36dd211c203c",
   "metadata": {
    "tags": []
   },
   "outputs": [],
   "source": [
    "def tri_space2(x1, y1, x2, y2, x3, y3):\n",
    "    space = abs((((x1 * y2) + (x2 * y3) + (x3 * y1)) - ((y1 * x2) + (y2 * x3) + (y3 * x1))) / 2) #負の値にならないようにabs\n",
    "    return(space)"
   ]
  },
  {
   "cell_type": "code",
   "execution_count": 87,
   "id": "6571bc05-9453-402e-ab03-afafb8357508",
   "metadata": {
    "tags": []
   },
   "outputs": [
    {
     "name": "stdin",
     "output_type": "stream",
     "text": [
      "x座標を入力してください 1\n",
      "y座標を入力してください 1\n",
      "x座標を入力してください 5\n",
      "y座標を入力してください 1\n",
      "x座標を入力してください 1\n",
      "y座標を入力してください 5\n"
     ]
    },
    {
     "name": "stdout",
     "output_type": "stream",
     "text": [
      "面積は8.000000\n"
     ]
    }
   ],
   "source": [
    "x1 = int(input(\"x座標を入力してください\"))\n",
    "y1 = int(input(\"y座標を入力してください\"))\n",
    "x2 = int(input(\"x座標を入力してください\"))\n",
    "y2 = int(input(\"y座標を入力してください\"))\n",
    "x3 = int(input(\"x座標を入力してください\"))\n",
    "y3 = int(input(\"y座標を入力してください\"))\n",
    "ans = tri_space2(x1, y1, x2, y2, x3, y3)\n",
    "print(\"面積は%f\" %(ans))"
   ]
  },
  {
   "cell_type": "markdown",
   "id": "49ed150b-44c4-4908-8997-2ecb0d59bbf1",
   "metadata": {
    "tags": []
   },
   "source": [
    "## 9-数字でピラミッドを作る"
   ]
  },
  {
   "cell_type": "code",
   "execution_count": 88,
   "id": "aa7c6e66-0534-40f2-9ff8-1a17321f5f16",
   "metadata": {
    "tags": []
   },
   "outputs": [],
   "source": [
    "def num_pyramid(step_num2):\n",
    "    for i in range(0, step_num2):\n",
    "        print(\" \"*(step_num2 - i), end=\"\")\n",
    "        for j in range(0, i + 1):\n",
    "            npr = 1\n",
    "            facto = 1\n",
    "            for n in range(i - j + 1, i + 1):\n",
    "                npr *= n\n",
    "            for r in range(1, j + 1):\n",
    "                facto *= r\n",
    "            ans = int(npr / facto)\n",
    "            print(ans, end=\",\")\n",
    "        print(\"\")"
   ]
  },
  {
   "cell_type": "code",
   "execution_count": 89,
   "id": "fb8ffb17-26e6-42b9-8bee-5a5bf4d92f58",
   "metadata": {
    "tags": []
   },
   "outputs": [
    {
     "name": "stdin",
     "output_type": "stream",
     "text": [
      "段数を入力してください。 7\n"
     ]
    },
    {
     "name": "stdout",
     "output_type": "stream",
     "text": [
      "       1,\n",
      "      1,1,\n",
      "     1,2,1,\n",
      "    1,3,3,1,\n",
      "   1,4,6,4,1,\n",
      "  1,5,10,10,5,1,\n",
      " 1,6,15,20,15,6,1,\n"
     ]
    }
   ],
   "source": [
    "stair_num2 = int(input(\"段数を入力してください。\"))\n",
    "num_pyramid(stair_num2)"
   ]
  },
  {
   "cell_type": "markdown",
   "id": "99fef82c-bb48-45a0-b8af-bb29f1034b39",
   "metadata": {},
   "source": [
    "## 10-フィボナッチ数列を表示させる"
   ]
  },
  {
   "cell_type": "code",
   "execution_count": 110,
   "id": "693040b7-ad0a-4211-b1c9-9ba8aeccd19e",
   "metadata": {
    "tags": []
   },
   "outputs": [],
   "source": [
    "def fibonacci(fibo_num):\n",
    "    add_num = 0\n",
    "    fibo_ans = 1\n",
    "    memory = 0\n",
    "    for i in range(0, fibo_num):\n",
    "        print(fibo_ans, end=\",\")\n",
    "        memory = add_num #2個前の値\n",
    "        add_num = fibo_ans #1個前の値\n",
    "        fibo_ans = add_num + memory #結果"
   ]
  },
  {
   "cell_type": "code",
   "execution_count": 111,
   "id": "341711e5-9e00-4f9c-a367-3a3951357815",
   "metadata": {
    "tags": []
   },
   "outputs": [
    {
     "name": "stdin",
     "output_type": "stream",
     "text": [
      "数字を入力してください。 9\n"
     ]
    },
    {
     "name": "stdout",
     "output_type": "stream",
     "text": [
      "1,1,2,3,5,8,13,21,34,"
     ]
    }
   ],
   "source": [
    "num = int(input(\"数字を入力してください。\"))\n",
    "fibonacci(num)"
   ]
  },
  {
   "cell_type": "markdown",
   "id": "bbdbc505-129d-4e1b-ad00-995830a8eec0",
   "metadata": {},
   "source": [
    "## 11-exp関数を表示させる"
   ]
  },
  {
   "cell_type": "code",
   "execution_count": 92,
   "id": "a845de70-b686-4599-ae8e-e48ee6e082d7",
   "metadata": {
    "tags": []
   },
   "outputs": [],
   "source": [
    "def exp(exp_num):\n",
    "    exp_ans = 1\n",
    "    for i in range(1, 100):\n",
    "        facto = 1\n",
    "        for j in range(1, i + 1):\n",
    "            facto *= j\n",
    "        exp_ans += ((exp_num)**i/facto)\n",
    "        \n",
    "    return(exp_ans)"
   ]
  },
  {
   "cell_type": "code",
   "execution_count": 93,
   "id": "a76ec7cf-5094-4425-9f33-d9f79dc10c65",
   "metadata": {
    "tags": []
   },
   "outputs": [
    {
     "name": "stdin",
     "output_type": "stream",
     "text": [
      "数字を入力してください。 5\n"
     ]
    },
    {
     "name": "stdout",
     "output_type": "stream",
     "text": [
      "e^5 = 148.4132\n"
     ]
    }
   ],
   "source": [
    "num = int(input(\"数字を入力してください。\"))\n",
    "ans = exp(num)\n",
    "print(\"e^%d = %.4f\" %(num, ans))"
   ]
  },
  {
   "cell_type": "markdown",
   "id": "e8fbae99-1705-4f17-ad68-4ad217a2c044",
   "metadata": {},
   "source": [
    "## 12-sin関数を表示させる"
   ]
  },
  {
   "cell_type": "code",
   "execution_count": 112,
   "id": "0248308f-1e8c-440e-9bc6-6fc6441a6a8d",
   "metadata": {},
   "outputs": [],
   "source": [
    "def sin(x):\n",
    "    sin_ans = 0\n",
    "    for i in range(1, 100, 2):\n",
    "        facto = 1\n",
    "        for j in range(1, i + 1):\n",
    "            facto *= j\n",
    "        if ((i + 1) % 4) == 0: #足すか引くか判断\n",
    "            sin_ans -= (x**i) / facto\n",
    "        else:\n",
    "            sin_ans += (x**i) / facto\n",
    "            \n",
    "    return(sin_ans)"
   ]
  },
  {
   "cell_type": "code",
   "execution_count": 113,
   "id": "39bfb1c9-a2b5-44c5-9d0d-8f0e275a98ef",
   "metadata": {
    "tags": []
   },
   "outputs": [
    {
     "name": "stdin",
     "output_type": "stream",
     "text": [
      "数字を入力してください。 1.570\n"
     ]
    },
    {
     "name": "stdout",
     "output_type": "stream",
     "text": [
      "sin(1.570) = 1.000\n"
     ]
    }
   ],
   "source": [
    "num = float(input(\"数字を入力してください。\"))\n",
    "ans = sin(num)\n",
    "print(\"sin(%.3f) = %.3f\" %(num, ans))"
   ]
  },
  {
   "cell_type": "markdown",
   "id": "08f6c653-c892-4da3-9d52-bd66914fd812",
   "metadata": {},
   "source": [
    "## 13-cos関数を表示させる"
   ]
  },
  {
   "cell_type": "code",
   "execution_count": 114,
   "id": "4909291d-8fb5-4b39-8e24-00922dbe61f9",
   "metadata": {
    "tags": []
   },
   "outputs": [],
   "source": [
    "def cos(x):\n",
    "    cos_ans = 1\n",
    "    for i in range(2, 100, 2):\n",
    "        facto = 1\n",
    "        for j in range(1, i + 1):\n",
    "            facto *= j\n",
    "        if i % 4 == 0: #足すか引くか判断\n",
    "            cos_ans += (x**i) / facto\n",
    "        else:\n",
    "            cos_ans -= (x**i) / facto\n",
    "            \n",
    "    return(cos_ans)"
   ]
  },
  {
   "cell_type": "code",
   "execution_count": 115,
   "id": "897aa4dc-789f-41bf-afe5-a2497d7e854f",
   "metadata": {
    "tags": []
   },
   "outputs": [
    {
     "name": "stdin",
     "output_type": "stream",
     "text": [
      "数字を入力してください。 3.141\n"
     ]
    },
    {
     "name": "stdout",
     "output_type": "stream",
     "text": [
      "cos(3.141) = -1.000\n"
     ]
    }
   ],
   "source": [
    "num = float(input(\"数字を入力してください。\"))\n",
    "ans = cos(num)\n",
    "print(\"cos(%.3f) = %.3f\" %(num, ans))"
   ]
  },
  {
   "cell_type": "markdown",
   "id": "2b264984-db39-4dc8-9777-8e85b7d0ab75",
   "metadata": {},
   "source": [
    "## 14-logxを表示させる"
   ]
  },
  {
   "cell_type": "code",
   "execution_count": 161,
   "id": "f0aebccf-cdb9-4d9f-80f5-9de8ece5af64",
   "metadata": {
    "tags": []
   },
   "outputs": [],
   "source": [
    "def log(x):\n",
    "    log_ans = 0\n",
    "    for i in range(1, 5): #5次まで\n",
    "        if (i % 2 == 0):\n",
    "            log_ans -= ((x - 1) ** i / i)\n",
    "        else:\n",
    "            log_ans += ((x - 1) ** i / i)\n",
    "            \n",
    "    return(log_ans)"
   ]
  },
  {
   "cell_type": "code",
   "execution_count": 162,
   "id": "84c61441-77e0-4564-a36c-6c43ab9e2ea7",
   "metadata": {
    "tags": []
   },
   "outputs": [
    {
     "name": "stdin",
     "output_type": "stream",
     "text": [
      "数字を入力してください。 5\n"
     ]
    },
    {
     "name": "stdout",
     "output_type": "stream",
     "text": [
      "log(5.000) = -46.667\n"
     ]
    }
   ],
   "source": [
    "num = float(input(\"数字を入力してください。\"))\n",
    "ans = log(num)\n",
    "print(\"log(%.3f) = %.3f\" %(num, ans))"
   ]
  },
  {
   "cell_type": "markdown",
   "id": "e99cd7a1-a211-4eaa-97da-2a555093b912",
   "metadata": {},
   "source": [
    "## 15-入力した数字を反転"
   ]
  },
  {
   "cell_type": "code",
   "execution_count": 100,
   "id": "23f9ad73-c361-4f18-9256-b6d1f799bfb6",
   "metadata": {
    "tags": []
   },
   "outputs": [],
   "source": [
    "def rev(num):\n",
    "    num_digit = num\n",
    "    count = 0\n",
    "    rev_ans = 0\n",
    "    \n",
    "    while(True):\n",
    "        num_digit //= 10\n",
    "        if (num_digit >= 1):\n",
    "            count += 1\n",
    "        else:\n",
    "            break\n",
    "            \n",
    "    for i in range(0, count + 1):\n",
    "        rev_ans += ((num % 10) * (10 ** count))\n",
    "        count -= 1\n",
    "        num //= 10\n",
    "        \n",
    "    return(rev_ans)"
   ]
  },
  {
   "cell_type": "code",
   "execution_count": 101,
   "id": "fed7767d-73d7-4c2d-b7be-83d5f2662161",
   "metadata": {
    "tags": []
   },
   "outputs": [
    {
     "name": "stdin",
     "output_type": "stream",
     "text": [
      "数字を入力してください。 12345531\n"
     ]
    },
    {
     "name": "stdout",
     "output_type": "stream",
     "text": [
      "12345531を反転した数字は13554321\n"
     ]
    }
   ],
   "source": [
    "num = int(input(\"数字を入力してください。\"))\n",
    "ans = rev(num)\n",
    "print(\"%dを反転した数字は%d\" %(num, ans))"
   ]
  },
  {
   "cell_type": "markdown",
   "id": "f0db1a10-b86a-4d0f-926d-1a59a887248f",
   "metadata": {},
   "source": [
    "## 16-ピラミッドを上下反転させて、ひし形を表示させる"
   ]
  },
  {
   "cell_type": "code",
   "execution_count": 102,
   "id": "6a0a1d11-afa4-4a6f-a1d6-b4842de3b52d",
   "metadata": {
    "tags": []
   },
   "outputs": [],
   "source": [
    "def rhombus(step_num):\n",
    "    for i in range(0, step_num): # 上側のピラミッド\n",
    "        print(\" \"*(step_num - i), end=\"\")\n",
    "        print(\"*\"*((2 * i) + 1))\n",
    "    for i in range(step_num - 1, 0, -1): # 下側のピラミッド\n",
    "        print(\" \"*(step_num - i + 1), end=\"\")\n",
    "        print(\"*\"*((2 * i) - 1))"
   ]
  },
  {
   "cell_type": "code",
   "execution_count": 103,
   "id": "184e18c6-5831-487b-a052-edb38272e8ff",
   "metadata": {
    "tags": []
   },
   "outputs": [
    {
     "name": "stdin",
     "output_type": "stream",
     "text": [
      "段数を入力してください。 5\n"
     ]
    },
    {
     "name": "stdout",
     "output_type": "stream",
     "text": [
      "     *\n",
      "    ***\n",
      "   *****\n",
      "  *******\n",
      " *********\n",
      "  *******\n",
      "   *****\n",
      "    ***\n",
      "     *\n"
     ]
    }
   ],
   "source": [
    "num = int(input(\"段数を入力してください。\"))\n",
    "rhombus(num)"
   ]
  },
  {
   "cell_type": "markdown",
   "id": "67f15b80-061e-45a3-ac3b-64d3b1598cfb",
   "metadata": {
    "tags": []
   },
   "source": [
    "## 17-10進数を2進数に変換"
   ]
  },
  {
   "cell_type": "code",
   "execution_count": 104,
   "id": "85ea34a4-c51e-4383-b8bd-ca3144f1b735",
   "metadata": {
    "tags": []
   },
   "outputs": [],
   "source": [
    "def radix2(decimal):\n",
    "    bina_ans = 0\n",
    "    num_memory = decimal\n",
    "    deci_count = 0\n",
    "    \n",
    "    while decimal >= 1:\n",
    "        while (num_memory % 2 == 0):\n",
    "            num_memory //= 2\n",
    "            deci_count += 1\n",
    "        bina_ans *= 10\n",
    "        bina_ans += (decimal % 2)\n",
    "        decimal //= 2\n",
    "    bina_ans *= (10**deci_count)\n",
    "    \n",
    "    return(bina_ans)"
   ]
  },
  {
   "cell_type": "code",
   "execution_count": 105,
   "id": "d7202de5-24f1-49e0-b63c-4bc2cb2c5f69",
   "metadata": {
    "tags": []
   },
   "outputs": [
    {
     "name": "stdin",
     "output_type": "stream",
     "text": [
      "10進数の数字を入力してください。 14\n"
     ]
    },
    {
     "name": "stdout",
     "output_type": "stream",
     "text": [
      "14を2進数に変換すると1110\n"
     ]
    }
   ],
   "source": [
    "num = int(input(\"10進数の数字を入力してください。\"))\n",
    "ans = radix2(num)\n",
    "print(\"%dを2進数に変換すると%d\" %(num, ans))"
   ]
  },
  {
   "cell_type": "markdown",
   "id": "6d2bea51-68bf-4a8b-98a9-2238bb76b2e9",
   "metadata": {},
   "source": [
    "## 17-2進数を10進数に変換"
   ]
  },
  {
   "cell_type": "code",
   "execution_count": 106,
   "id": "106b286f-ba43-4cb1-950d-6f13aa96ce36",
   "metadata": {
    "tags": []
   },
   "outputs": [],
   "source": [
    "def radix10(binary):\n",
    "    deci_ans = 0\n",
    "    bina_count = 0\n",
    "    \n",
    "    while binary >= 1:\n",
    "        multi_bina = 2 ** bina_count\n",
    "        bina_count += 1\n",
    "        deci_ans += (binary % 10) * multi_bina\n",
    "        binary //= 10\n",
    "    print(deci_ans)"
   ]
  },
  {
   "cell_type": "code",
   "execution_count": 107,
   "id": "843dd25d-30bd-44cb-b800-eea25510dcd7",
   "metadata": {
    "tags": []
   },
   "outputs": [
    {
     "name": "stdin",
     "output_type": "stream",
     "text": [
      "2進数(0 or 1)を入力してください 0101\n"
     ]
    },
    {
     "name": "stdout",
     "output_type": "stream",
     "text": [
      "5\n"
     ]
    }
   ],
   "source": [
    "num = int(input(\"2進数(0 or 1)を入力してください\"))\n",
    "radix10(num)"
   ]
  },
  {
   "cell_type": "code",
   "execution_count": null,
   "id": "aad526f4-b28c-456d-92d0-d0640179eb43",
   "metadata": {},
   "outputs": [],
   "source": []
  }
 ],
 "metadata": {
  "kernelspec": {
   "display_name": "Python 3 (ipykernel)",
   "language": "python",
   "name": "python3"
  },
  "language_info": {
   "codemirror_mode": {
    "name": "ipython",
    "version": 3
   },
   "file_extension": ".py",
   "mimetype": "text/x-python",
   "name": "python",
   "nbconvert_exporter": "python",
   "pygments_lexer": "ipython3",
   "version": "3.8.16"
  }
 },
 "nbformat": 4,
 "nbformat_minor": 5
}
