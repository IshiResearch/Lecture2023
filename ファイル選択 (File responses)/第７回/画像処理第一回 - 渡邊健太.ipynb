{
 "cells": [
  {
   "cell_type": "code",
   "execution_count": 12,
   "id": "7f19738f-5a40-4265-a293-94b09dc051f2",
   "metadata": {},
   "outputs": [],
   "source": [
    "import numpy as np"
   ]
  },
  {
   "cell_type": "code",
   "execution_count": 13,
   "id": "0a5ae900-fb56-42c1-ab34-0f84a595bce0",
   "metadata": {},
   "outputs": [],
   "source": [
    "import matplotlib.pyplot as plt"
   ]
  },
  {
   "cell_type": "markdown",
   "id": "b4b62b60-d32b-433e-afef-a0ed8abf05e3",
   "metadata": {},
   "source": [
    "# 1"
   ]
  },
  {
   "cell_type": "code",
   "execution_count": null,
   "id": "959df777-982e-4d54-ade5-428e11782b2b",
   "metadata": {},
   "outputs": [],
   "source": [
    "mat3d = np.zeros(shape = 5, dtype = \"uint8\")"
   ]
  },
  {
   "cell_type": "code",
   "execution_count": null,
   "id": "2e0ff389-d0e3-46a2-9862-03177ffff1b3",
   "metadata": {},
   "outputs": [],
   "source": [
    "mat3d"
   ]
  },
  {
   "cell_type": "code",
   "execution_count": null,
   "id": "eed68ea6-d50f-4714-8ddf-4ef6f1573a5e",
   "metadata": {},
   "outputs": [],
   "source": [
    "mat3d = np.zeros((50,50,3), np.uint8)"
   ]
  },
  {
   "cell_type": "code",
   "execution_count": null,
   "id": "d4988d8c-a5e8-4cb9-b323-f69deaafb54c",
   "metadata": {},
   "outputs": [],
   "source": [
    "mat3d[:, :, 0] = 255"
   ]
  },
  {
   "cell_type": "code",
   "execution_count": null,
   "id": "d7819f69-133a-4df6-8c49-830076c5624d",
   "metadata": {},
   "outputs": [],
   "source": [
    "plt.imshow(mat3d)"
   ]
  },
  {
   "cell_type": "code",
   "execution_count": null,
   "id": "f068276c-6480-4250-8d9c-5044e69f9c32",
   "metadata": {},
   "outputs": [],
   "source": [
    "mat3d = np.zeros((50,50,3), np.uint8)\n",
    "mat3d[:, :, 1] = 255"
   ]
  },
  {
   "cell_type": "code",
   "execution_count": null,
   "id": "6b81b50b-d96e-4dd2-83ca-bf48e78cfbc2",
   "metadata": {},
   "outputs": [],
   "source": [
    "plt.imshow(mat3d)"
   ]
  },
  {
   "cell_type": "code",
   "execution_count": null,
   "id": "34b4fcf2-1aba-4abd-ba35-fd89215071c0",
   "metadata": {},
   "outputs": [],
   "source": [
    "mat3d = np.zeros((50,50,3), np.uint8)\n",
    "mat3d[:, :, 2] = 255"
   ]
  },
  {
   "cell_type": "code",
   "execution_count": null,
   "id": "7e1d39dc-fb37-48e9-96cf-52f84834ef2d",
   "metadata": {},
   "outputs": [],
   "source": [
    "plt.imshow(mat3d)"
   ]
  },
  {
   "cell_type": "markdown",
   "id": "0dbef442-7699-4484-b345-bd5eef2e3ab6",
   "metadata": {},
   "source": [
    "# 2"
   ]
  },
  {
   "cell_type": "code",
   "execution_count": null,
   "id": "fca776df-bc10-4309-b3ca-ee9114ecc9c9",
   "metadata": {},
   "outputs": [],
   "source": [
    "#黄色\n",
    "mat3d = np.zeros((50,50,3), np.uint8)\n",
    "mat3d[:, :, 1] = 255"
   ]
  },
  {
   "cell_type": "code",
   "execution_count": null,
   "id": "4381291c-9ec0-4f4c-a062-1ae7a077f3c1",
   "metadata": {},
   "outputs": [],
   "source": [
    "mat3d[:, :, 0] = 255\n",
    "plt.imshow(mat3d)"
   ]
  },
  {
   "cell_type": "code",
   "execution_count": null,
   "id": "aa7566ef-090c-466c-b015-3a099c5f19f0",
   "metadata": {},
   "outputs": [],
   "source": [
    "#マゼンタ\n",
    "mat3d = np.zeros((50,50,3), np.uint8)\n",
    "mat3d[:, :, 0] = 255"
   ]
  },
  {
   "cell_type": "code",
   "execution_count": null,
   "id": "5995c98c-8ee8-44a6-8dd0-23e32bc10afc",
   "metadata": {},
   "outputs": [],
   "source": [
    "mat3d[:, :, 2] = 255\n",
    "plt.imshow(mat3d)"
   ]
  },
  {
   "cell_type": "code",
   "execution_count": null,
   "id": "f68bbb45-f57a-4e82-a80c-3579eeea3435",
   "metadata": {},
   "outputs": [],
   "source": [
    "#シアン\n",
    "mat3d = np.zeros((50,50,3), np.uint8)\n",
    "mat3d[:, :, 2] = 255"
   ]
  },
  {
   "cell_type": "code",
   "execution_count": null,
   "id": "408ece32-9fd3-4112-baa0-b6b4e81c4652",
   "metadata": {},
   "outputs": [],
   "source": [
    "mat3d[:, :, 1] = 255\n",
    "plt.imshow(mat3d)"
   ]
  },
  {
   "cell_type": "markdown",
   "id": "b346fb1e-e112-464a-baab-b14f88c0e922",
   "metadata": {},
   "source": [
    "# 3"
   ]
  },
  {
   "cell_type": "code",
   "execution_count": null,
   "id": "c0783423-5240-4eb3-b2f4-0abda10b88da",
   "metadata": {},
   "outputs": [],
   "source": [
    "mat4d = np.zeros((200, 200, 3), np.uint8)"
   ]
  },
  {
   "cell_type": "code",
   "execution_count": null,
   "id": "d2d53d84-e0b5-473b-9d9d-a4342048391a",
   "metadata": {},
   "outputs": [],
   "source": [
    "mat4d[0:100, :, 2] = 255 #上半分青\n"
   ]
  },
  {
   "cell_type": "code",
   "execution_count": null,
   "id": "00e6626b-9950-4772-b0f5-288895843b9b",
   "metadata": {},
   "outputs": [],
   "source": [
    "mat4d[0:200, 0:100, 1] = 255 #シアン\n"
   ]
  },
  {
   "cell_type": "code",
   "execution_count": null,
   "id": "8b39d7a2-02c4-4b62-8069-edf5a48cb4c1",
   "metadata": {},
   "outputs": [],
   "source": [
    "mat4d[0:100, 100:200,0] = 255 #マゼンタ\n"
   ]
  },
  {
   "cell_type": "code",
   "execution_count": null,
   "id": "9ac4c8f7-d445-4887-b463-ae822a3cad2c",
   "metadata": {},
   "outputs": [],
   "source": [
    "mat4d[100:200, 0:100, 0] = 255 #黄色\n"
   ]
  },
  {
   "cell_type": "code",
   "execution_count": null,
   "id": "b24a218a-08f8-4430-a3db-760beea8070a",
   "metadata": {},
   "outputs": [],
   "source": [
    "mat4d[100:200, 100:200, 0] = 130 #灰色にしていく\n"
   ]
  },
  {
   "cell_type": "code",
   "execution_count": null,
   "id": "bd4a902f-2d9f-4554-a246-cc63b566281f",
   "metadata": {},
   "outputs": [],
   "source": [
    "mat4d[100:200, 100:200, 1] = 130\n"
   ]
  },
  {
   "cell_type": "code",
   "execution_count": null,
   "id": "201d1eb1-4030-44ea-91d0-44dc62ee64e5",
   "metadata": {},
   "outputs": [],
   "source": [
    "mat4d[100:200, 100:200, 2] = 130\n",
    "plt.imshow(mat4d)"
   ]
  },
  {
   "cell_type": "markdown",
   "id": "bbaa040f-fec3-4c44-9d22-a267d0e5190c",
   "metadata": {},
   "source": [
    "# 4"
   ]
  },
  {
   "cell_type": "code",
   "execution_count": null,
   "id": "8c39a42e-81e4-472b-adc7-7fce41b865a3",
   "metadata": {},
   "outputs": [],
   "source": [
    "matb = np.zeros((256,256), np.uint8)\n",
    "plt.imshow(matb, \"gray\")"
   ]
  },
  {
   "cell_type": "code",
   "execution_count": null,
   "id": "c1a1d515-b86e-4e74-b355-27d410bc4831",
   "metadata": {},
   "outputs": [],
   "source": [
    "for i in range(0,256):\n",
    "    matb[i] = 255-i\n",
    "plt.imshow(matb, \"gray\")"
   ]
  },
  {
   "cell_type": "markdown",
   "id": "9bafe11a-6d3a-44d6-b3a9-5b430165fb88",
   "metadata": {},
   "source": [
    "# 5"
   ]
  },
  {
   "cell_type": "code",
   "execution_count": null,
   "id": "fa1d503d-5bcd-4d1d-b944-5a512f67cd52",
   "metadata": {},
   "outputs": [],
   "source": [
    "matb = np.zeros((256,256), np.uint8)\n",
    "plt.imshow(matb, \"gray\")"
   ]
  },
  {
   "cell_type": "code",
   "execution_count": null,
   "id": "4908b24a-cf17-4a23-bdd1-5731f6ab9558",
   "metadata": {},
   "outputs": [],
   "source": [
    "for i in range(256):\n",
    "    matb[:,i] = 255-i\n",
    "plt.imshow(matb, \"gray\")"
   ]
  },
  {
   "cell_type": "markdown",
   "id": "f251b427-eb0a-4912-a55b-f83c0d839982",
   "metadata": {},
   "source": [
    "# 6"
   ]
  },
  {
   "cell_type": "code",
   "execution_count": null,
   "id": "04ad688e-239d-43d1-8372-f9060a967af7",
   "metadata": {},
   "outputs": [],
   "source": [
    "matb = np.zeros((256,256), np.uint8)\n",
    "plt.imshow(matb, \"gray\")"
   ]
  },
  {
   "cell_type": "code",
   "execution_count": null,
   "id": "a723a03a-65a3-4c2a-af13-dbc321927aec",
   "metadata": {},
   "outputs": [],
   "source": [
    "for i in range(256):\n",
    "    matb[:,i] = i\n",
    "plt.imshow(matb, \"gray\")"
   ]
  },
  {
   "cell_type": "markdown",
   "id": "45cb8926-6946-4233-8eba-024a203b4bf5",
   "metadata": {},
   "source": [
    "# 7"
   ]
  },
  {
   "cell_type": "code",
   "execution_count": null,
   "id": "9198632b-d0f6-4cd8-9e6b-d12a412cdda5",
   "metadata": {},
   "outputs": [],
   "source": [
    "matb = np.zeros((128,128), np.uint8)\n",
    "plt.imshow(matb, \"gray\")"
   ]
  },
  {
   "cell_type": "code",
   "execution_count": null,
   "id": "bc3b0583-d84b-462e-af6a-36043405107e",
   "metadata": {},
   "outputs": [],
   "source": [
    "for i in range(128):\n",
    "    for j in range(128):\n",
    "        matb[j,i] = (255-j)-i\n",
    "plt.imshow(matb, \"gray\")"
   ]
  },
  {
   "cell_type": "code",
   "execution_count": null,
   "id": "e8321d6b-3aab-40ef-a097-eff5dac1a4ff",
   "metadata": {},
   "outputs": [],
   "source": [
    "matb"
   ]
  },
  {
   "cell_type": "code",
   "execution_count": null,
   "id": "f712dd82-20ed-4e11-9f45-74477e59805a",
   "metadata": {},
   "outputs": [],
   "source": []
  },
  {
   "cell_type": "code",
   "execution_count": null,
   "id": "dcba39d0-34e9-4ee0-82e4-31ff2b422c78",
   "metadata": {},
   "outputs": [],
   "source": []
  },
  {
   "cell_type": "markdown",
   "id": "660f510f-4e7a-429c-9aca-eab75b68eb76",
   "metadata": {},
   "source": [
    "# 8"
   ]
  },
  {
   "cell_type": "code",
   "execution_count": null,
   "id": "5e5cf196-e635-48c7-b40c-1bc8d5958423",
   "metadata": {},
   "outputs": [],
   "source": [
    "matr = np.zeros((256,256,3), np.uint)\n",
    "plt.imshow(matr, \"gray\")"
   ]
  },
  {
   "cell_type": "code",
   "execution_count": null,
   "id": "6058ec76-54f6-4514-8b2d-2396b2e8b078",
   "metadata": {},
   "outputs": [],
   "source": [
    "for i in range(256):\n",
    "    matr[:, i, 0] = i\n",
    "    plt.imshow(matr)"
   ]
  },
  {
   "cell_type": "markdown",
   "id": "f4c4f73c-b56e-43f7-8544-1072220047f0",
   "metadata": {},
   "source": [
    "# 9"
   ]
  },
  {
   "cell_type": "code",
   "execution_count": 26,
   "id": "ae57ff7a-b2ca-44bb-931d-1f1f65737478",
   "metadata": {},
   "outputs": [
    {
     "data": {
      "text/plain": [
       "<matplotlib.image.AxesImage at 0x24ac63f4e80>"
      ]
     },
     "execution_count": 26,
     "metadata": {},
     "output_type": "execute_result"
    },
    {
     "data": {
      "image/png": "[encoded data removed]",
      "text/plain": [
       "<Figure size 640x480 with 1 Axes>"
      ]
     },
     "metadata": {},
     "output_type": "display_data"
    }
   ],
   "source": [
    "matw = np.zeros((256,256,3), np.uint8)\n",
    "matw[:, :, 2] = 255\n",
    "plt.imshow(matw)"
   ]
  },
  {
   "cell_type": "code",
   "execution_count": 27,
   "id": "c62dbac7-dcbf-47d2-ac2e-88e62150fcdb",
   "metadata": {},
   "outputs": [
    {
     "data": {
      "image/png": "[encoded data removed]",
      "text/plain": [
       "<Figure size 640x480 with 1 Axes>"
      ]
     },
     "metadata": {},
     "output_type": "display_data"
    }
   ],
   "source": [
    "for i in range(256):\n",
    "    matw[i, :, 0] = 255-i\n",
    "    plt.imshow(matw)"
   ]
  },
  {
   "cell_type": "code",
   "execution_count": 28,
   "id": "e67d0e60-1003-4a36-8c48-244f7f0a4cfc",
   "metadata": {},
   "outputs": [
    {
     "data": {
      "image/png": "[encoded data removed]",
      "text/plain": [
       "<Figure size 640x480 with 1 Axes>"
      ]
     },
     "metadata": {},
     "output_type": "display_data"
    }
   ],
   "source": [
    "for i in range(256):\n",
    "    matw[i, :, 1] = 255-i\n",
    "    plt.imshow(matw)"
   ]
  },
  {
   "cell_type": "code",
   "execution_count": 29,
   "id": "1e206fd6-fdb4-425b-9bec-6d7e1b1f3637",
   "metadata": {},
   "outputs": [
    {
     "data": {
      "text/plain": [
       "<matplotlib.image.AxesImage at 0x24acdbe1310>"
      ]
     },
     "execution_count": 29,
     "metadata": {},
     "output_type": "execute_result"
    },
    {
     "data": {
      "image/png": "[encoded data removed]",
      "text/plain": [
       "<Figure size 640x480 with 1 Axes>"
      ]
     },
     "metadata": {},
     "output_type": "display_data"
    }
   ],
   "source": [
    "matw = np.zeros((256,256,3), np.uint8)\n",
    "matw[:] = 255\n",
    "plt.imshow(matw)"
   ]
  },
  {
   "cell_type": "code",
   "execution_count": 30,
   "id": "a7bfe198-8e68-4382-ba7d-970006e109a9",
   "metadata": {},
   "outputs": [
    {
     "data": {
      "text/plain": [
       "<matplotlib.image.AxesImage at 0x24acdc4d490>"
      ]
     },
     "execution_count": 30,
     "metadata": {},
     "output_type": "execute_result"
    },
    {
     "data": {
      "image/png": "[encoded data removed]",
      "text/plain": [
       "<Figure size 640x480 with 1 Axes>"
      ]
     },
     "metadata": {},
     "output_type": "display_data"
    }
   ],
   "source": [
    "for i in range(256):\n",
    "    matw[i, :, 0:2] = 255-i\n",
    "plt.imshow(matw)"
   ]
  },
  {
   "cell_type": "markdown",
   "id": "7b4768c8-7110-4cce-9ecd-8b171cde58e2",
   "metadata": {},
   "source": [
    "# 10"
   ]
  },
  {
   "cell_type": "code",
   "execution_count": null,
   "id": "36feff66-a0cb-42fd-85ac-fafebb6c8bb6",
   "metadata": {},
   "outputs": [],
   "source": [
    "matm = np.zeros((256,256,3), np.uint8)\n",
    "matm[:, :, 0] = 255\n",
    "matm[:, :, 2] = 255\n",
    "plt.imshow(matm)"
   ]
  },
  {
   "cell_type": "code",
   "execution_count": null,
   "id": "dbacb34c-a38e-4b46-8559-be548c6287d1",
   "metadata": {},
   "outputs": [],
   "source": [
    "for i in range(256):\n",
    "    matm[:, i, 1] = 255-i\n",
    "    plt.imshow(matm)"
   ]
  },
  {
   "cell_type": "markdown",
   "id": "2386b503-5e4f-4991-9ccb-eade79af57c2",
   "metadata": {},
   "source": [
    "# 11"
   ]
  },
  {
   "cell_type": "code",
   "execution_count": 15,
   "id": "3c3f26ba-2345-4bac-a61b-c63046bc3210",
   "metadata": {},
   "outputs": [],
   "source": [
    "matcoloful = np.zeros((256,256,3), np.uint8)\n",
    "matcoloful[:, 0:(256//7), 0] = 255"
   ]
  },
  {
   "cell_type": "code",
   "execution_count": 16,
   "id": "ca2eabe3-503b-4a1b-b0a3-9a98643c5fbd",
   "metadata": {},
   "outputs": [],
   "source": [
    "matcoloful[:, (256//7):((256//7)*2), 1] = 255"
   ]
  },
  {
   "cell_type": "code",
   "execution_count": 17,
   "id": "5ffc9d6d-6c6a-4b65-a402-ee570e977108",
   "metadata": {},
   "outputs": [],
   "source": [
    "matcoloful[:, ((256//7)*2):((256//7)*3), 2] = 255"
   ]
  },
  {
   "cell_type": "code",
   "execution_count": 18,
   "id": "2b1a82d4-7356-4844-b4d4-2625c6f4fd27",
   "metadata": {},
   "outputs": [],
   "source": [
    "matcoloful[:, ((256//7)*3):((256//7)*4), 0] = 255\n",
    "matcoloful[:, ((256//7)*3):((256//7)*4), 1] = 255"
   ]
  },
  {
   "cell_type": "code",
   "execution_count": 19,
   "id": "f17970a2-f1b6-4f40-848c-c44bcb2ba786",
   "metadata": {},
   "outputs": [],
   "source": [
    "matcoloful[:, ((256//7)*4):((256//7)*5), 0] = 255\n",
    "matcoloful[:, ((256//7)*4):((256//7)*5), 2] = 255"
   ]
  },
  {
   "cell_type": "code",
   "execution_count": 20,
   "id": "35a8ec26-76fe-478d-bb59-a53d8be53c06",
   "metadata": {},
   "outputs": [],
   "source": [
    "matcoloful[:, ((256//7)*5):((256//7)*6), 1] = 255\n",
    "matcoloful[:, ((256//7)*5):((256//7)*6), 2] = 255"
   ]
  },
  {
   "cell_type": "code",
   "execution_count": 21,
   "id": "caaa8ff5-e698-495b-b4c9-a3ad11959e2b",
   "metadata": {},
   "outputs": [
    {
     "data": {
      "text/plain": [
       "<matplotlib.image.AxesImage at 0x24ac63b41c0>"
      ]
     },
     "execution_count": 21,
     "metadata": {},
     "output_type": "execute_result"
    },
    {
     "data": {
      "image/png": "[encoded data removed]",
      "text/plain": [
       "<Figure size 640x480 with 1 Axes>"
      ]
     },
     "metadata": {},
     "output_type": "display_data"
    }
   ],
   "source": [
    "matcoloful[:, ((256//7)*6):256, 0] = 127\n",
    "matcoloful[:, ((256//7)*6):256, 1] = 127\n",
    "matcoloful[:, ((256//7)*6):256, 2] = 127\n",
    "plt.imshow(matcoloful)"
   ]
  },
  {
   "cell_type": "markdown",
   "id": "dea8a182-4015-4573-a01d-7ab7ea4a5cfd",
   "metadata": {},
   "source": [
    "# 12"
   ]
  },
  {
   "cell_type": "code",
   "execution_count": 14,
   "id": "01b0e4eb-a9a5-449f-a2e3-7a1adbeb6804",
   "metadata": {},
   "outputs": [
    {
     "data": {
      "text/plain": [
       "<matplotlib.image.AxesImage at 0x24ac740cfa0>"
      ]
     },
     "execution_count": 14,
     "metadata": {},
     "output_type": "execute_result"
    },
    {
     "data": {
      "image/png": "[encoded data removed]",
      "text/plain": [
       "<Figure size 640x480 with 1 Axes>"
      ]
     },
     "metadata": {},
     "output_type": "display_data"
    }
   ],
   "source": [
    "matcolofulw = np.zeros((256,256,3), np.uint8)\n",
    "matcolofulw[:, :, :] = 255\n",
    "plt.imshow(matcolofulw)"
   ]
  },
  {
   "cell_type": "code",
   "execution_count": 23,
   "id": "d8d1c960-42b9-47d2-860b-8db89c5bcc20",
   "metadata": {},
   "outputs": [
    {
     "data": {
      "text/plain": [
       "<matplotlib.image.AxesImage at 0x24ac74a9760>"
      ]
     },
     "execution_count": 23,
     "metadata": {},
     "output_type": "execute_result"
    },
    {
     "data": {
      "image/png": "[encoded data removed]",
      "text/plain": [
       "<Figure size 640x480 with 1 Axes>"
      ]
     },
     "metadata": {},
     "output_type": "display_data"
    }
   ],
   "source": [
    "for i in range(256):\n",
    "    matcolofulw[i, 0:(256//7), 1:3] = 255-i #赤\n",
    "    matcolofulw[i, (256//7):((256//7)*2), 0] = 255-i #緑\n",
    "    matcolofulw[i, (256//7):((256//7)*2), 2] = 255-i \n",
    "    matcolofulw[i, ((256//7)*2):((256//7)*3), 0:2] = 255-i #青\n",
    "    matcolofulw[i, ((256//7)*3):((256//7)*4), 2] = 255-i #黄色 \n",
    "    matcolofulw[i, ((256//7)*4):((256//7)*5), 1] = 255-i #マゼンタ \n",
    "    matcolofulw[i, ((256//7)*5):((256//7)*6), 0] = 255-i #シアン \n",
    "    matcolofulw[i, ((256//7)*6):256, 0] = 255-i//2 #灰色\n",
    "    matcolofulw[i, ((256//7)*6):256, 1] = 255-i//2 \n",
    "    matcolofulw[i, ((256//7)*6):256, 2] = 255-i//2 \n",
    "plt.imshow(matcolofulw)"
   ]
  },
  {
   "cell_type": "markdown",
   "id": "0e4d69cb-0120-41c2-9d8e-814a43e33b10",
   "metadata": {},
   "source": [
    "# 13"
   ]
  },
  {
   "cell_type": "code",
   "execution_count": 24,
   "id": "893d0ed5-c570-4761-95f7-ed30dde3da0c",
   "metadata": {},
   "outputs": [
    {
     "data": {
      "text/plain": [
       "<matplotlib.image.AxesImage at 0x24ac748f5e0>"
      ]
     },
     "execution_count": 24,
     "metadata": {},
     "output_type": "execute_result"
    },
    {
     "data": {
      "image/png": "[encoded data removed]",
      "text/plain": [
       "<Figure size 640x480 with 1 Axes>"
      ]
     },
     "metadata": {},
     "output_type": "display_data"
    }
   ],
   "source": [
    "matcolofulw = np.zeros((256,256,3), np.uint8)\n",
    "matcolofulw[:, :, :] = 255\n",
    "plt.imshow(matcolofulw)"
   ]
  },
  {
   "cell_type": "code",
   "execution_count": 32,
   "id": "147c431b-74e9-4041-97c6-c248aa0a7ea4",
   "metadata": {},
   "outputs": [
    {
     "data": {
      "text/plain": [
       "<matplotlib.image.AxesImage at 0x24acdcc6280>"
      ]
     },
     "execution_count": 32,
     "metadata": {},
     "output_type": "execute_result"
    },
    {
     "data": {
      "image/png": "[encoded data removed]",
      "text/plain": [
       "<Figure size 640x480 with 1 Axes>"
      ]
     },
     "metadata": {},
     "output_type": "display_data"
    }
   ],
   "source": [
    "for i in range(256):\n",
    "    matcolofulw[i, :, 1:3] = 255-i #赤\n",
    "plt.imshow(matcolofulw)"
   ]
  },
  {
   "cell_type": "code",
   "execution_count": 33,
   "id": "4669a2e0-0e11-4e97-b4ae-2165614331b2",
   "metadata": {},
   "outputs": [
    {
     "data": {
      "text/plain": [
       "<matplotlib.image.AxesImage at 0x24acee8d520>"
      ]
     },
     "execution_count": 33,
     "metadata": {},
     "output_type": "execute_result"
    },
    {
     "data": {
      "image/png": "[encoded data removed]",
      "text/plain": [
       "<Figure size 640x480 with 1 Axes>"
      ]
     },
     "metadata": {},
     "output_type": "display_data"
    }
   ],
   "source": [
    "matcolofulw = np.zeros((256,256,3), np.uint8)\n",
    "matcolofulw[:, :, :] = 255\n",
    "\n",
    "for i in range(256):\n",
    "    matcolofulw[i, :, 0] = 255-i #緑\n",
    "    matcolofulw[i, :, 2] = 255-i \n",
    "plt.imshow(matcolofulw)"
   ]
  },
  {
   "cell_type": "code",
   "execution_count": 34,
   "id": "9be02017-f30d-4cff-b652-82e03f51ca21",
   "metadata": {},
   "outputs": [
    {
     "data": {
      "text/plain": [
       "<matplotlib.image.AxesImage at 0x24acddb2790>"
      ]
     },
     "execution_count": 34,
     "metadata": {},
     "output_type": "execute_result"
    },
    {
     "data": {
      "image/png": "[encoded data removed]",
      "text/plain": [
       "<Figure size 640x480 with 1 Axes>"
      ]
     },
     "metadata": {},
     "output_type": "display_data"
    }
   ],
   "source": [
    "matcolofulw = np.zeros((256,256,3), np.uint8)\n",
    "matcolofulw[:, :, :] = 255\n",
    "\n",
    "for i in range(256):\n",
    "    matcolofulw[i, :, 0:2] = 255-i #青\n",
    "plt.imshow(matcolofulw)"
   ]
  },
  {
   "cell_type": "code",
   "execution_count": 35,
   "id": "383e835a-5dfc-480d-aaae-16ee4709731d",
   "metadata": {},
   "outputs": [
    {
     "data": {
      "text/plain": [
       "<matplotlib.image.AxesImage at 0x24acde28130>"
      ]
     },
     "execution_count": 35,
     "metadata": {},
     "output_type": "execute_result"
    },
    {
     "data": {
      "image/png": "[encoded data removed]",
      "text/plain": [
       "<Figure size 640x480 with 1 Axes>"
      ]
     },
     "metadata": {},
     "output_type": "display_data"
    }
   ],
   "source": [
    "matcolofulw = np.zeros((256,256,3), np.uint8)\n",
    "matcolofulw[:, :, :] = 255\n",
    "\n",
    "for i in range(256):\n",
    "    matcolofulw[i, :, 2] = 255-i #黄色\n",
    "plt.imshow(matcolofulw)"
   ]
  },
  {
   "cell_type": "code",
   "execution_count": 36,
   "id": "29cd8e2a-e1a0-41c6-be03-302b3562ae96",
   "metadata": {},
   "outputs": [
    {
     "data": {
      "text/plain": [
       "<matplotlib.image.AxesImage at 0x24acde785b0>"
      ]
     },
     "execution_count": 36,
     "metadata": {},
     "output_type": "execute_result"
    },
    {
     "data": {
      "image/png": "[encoded data removed]",
      "text/plain": [
       "<Figure size 640x480 with 1 Axes>"
      ]
     },
     "metadata": {},
     "output_type": "display_data"
    }
   ],
   "source": [
    "matcolofulw = np.zeros((256,256,3), np.uint8)\n",
    "matcolofulw[:, :, :] = 255\n",
    "\n",
    "for i in range(256):\n",
    "    matcolofulw[i, :, 1] = 255-i #マゼンタ\n",
    "plt.imshow(matcolofulw)"
   ]
  },
  {
   "cell_type": "code",
   "execution_count": 37,
   "id": "2a8e6c62-093b-439d-8329-a9294828c60c",
   "metadata": {},
   "outputs": [
    {
     "data": {
      "text/plain": [
       "<matplotlib.image.AxesImage at 0x24acdd91d30>"
      ]
     },
     "execution_count": 37,
     "metadata": {},
     "output_type": "execute_result"
    },
    {
     "data": {
      "image/png": "[encoded data removed]",
      "text/plain": [
       "<Figure size 640x480 with 1 Axes>"
      ]
     },
     "metadata": {},
     "output_type": "display_data"
    }
   ],
   "source": [
    "matcolofulw = np.zeros((256,256,3), np.uint8)\n",
    "matcolofulw[:, :, :] = 255\n",
    "\n",
    "for i in range(256):\n",
    "    matcolofulw[i, :, 0] = 255-i #シアン\n",
    "plt.imshow(matcolofulw)"
   ]
  },
  {
   "cell_type": "code",
   "execution_count": 39,
   "id": "21a6da6b-17cf-4758-ac94-373482afd34f",
   "metadata": {},
   "outputs": [
    {
     "data": {
      "text/plain": [
       "<matplotlib.image.AxesImage at 0x24acdd14fd0>"
      ]
     },
     "execution_count": 39,
     "metadata": {},
     "output_type": "execute_result"
    },
    {
     "data": {
      "image/png": "[encoded data removed]",
      "text/plain": [
       "<Figure size 640x480 with 1 Axes>"
      ]
     },
     "metadata": {},
     "output_type": "display_data"
    }
   ],
   "source": [
    "matcolofulw = np.zeros((256,256,3), np.uint8)\n",
    "matcolofulw[:, :, :] = 255\n",
    "\n",
    "for i in range(256):\n",
    "    matcolofulw[i, :, 0] = 255-i//2 #灰色\n",
    "    matcolofulw[i, :, 1] = 255-i//2 \n",
    "    matcolofulw[i, :, 2] = 255-i//2 \n",
    "plt.imshow(matcolofulw)"
   ]
  },
  {
   "cell_type": "code",
   "execution_count": null,
   "id": "ba1a5bd5-8998-4284-b6be-4ab59da32656",
   "metadata": {},
   "outputs": [],
   "source": []
  }
 ],
 "metadata": {
  "kernelspec": {
   "display_name": "Python 3 (ipykernel)",
   "language": "python",
   "name": "python3"
  },
  "language_info": {
   "codemirror_mode": {
    "name": "ipython",
    "version": 3
   },
   "file_extension": ".py",
   "mimetype": "text/x-python",
   "name": "python",
   "nbconvert_exporter": "python",
   "pygments_lexer": "ipython3",
   "version": "3.8.16"
  }
 },
 "nbformat": 4,
 "nbformat_minor": 5
}
