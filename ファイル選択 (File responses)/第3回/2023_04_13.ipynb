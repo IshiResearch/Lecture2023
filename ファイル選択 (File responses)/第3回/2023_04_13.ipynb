{
 "cells": [
  {
   "attachments": {},
   "cell_type": "markdown",
   "id": "193e6891-2ee3-49e8-a580-0d6f4b37ec78",
   "metadata": {},
   "source": [
    "### 階乗関数"
   ]
  },
  {
   "cell_type": "code",
   "execution_count": 1,
   "id": "b71744ea-8370-42a1-9651-62f064c2ab37",
   "metadata": {},
   "outputs": [],
   "source": [
    "def get_factorial(n):\n",
    "    num = 1\n",
    "    for i in range(1,n+1,):\n",
    "        num *= i\n",
    "    return num "
   ]
  },
  {
   "cell_type": "code",
   "execution_count": 2,
   "id": "cc8c9d33-7e2a-4fd5-8607-ee41ec6bdbab",
   "metadata": {},
   "outputs": [
    {
     "data": {
      "text/plain": [
       "6"
      ]
     },
     "execution_count": 2,
     "metadata": {},
     "output_type": "execute_result"
    }
   ],
   "source": [
    "get_factorial(3)"
   ]
  },
  {
   "attachments": {},
   "cell_type": "markdown",
   "id": "2b9c0efe-fce9-4ff0-8914-938c8a5cc779",
   "metadata": {},
   "source": [
    "### 平均関数"
   ]
  },
  {
   "cell_type": "code",
   "execution_count": 6,
   "id": "1d14a903-4908-43fc-8c53-db60c87c6760",
   "metadata": {},
   "outputs": [],
   "source": [
    "def marks(a,b,c,d,e):\n",
    "    average = (a + b + c + d + e) / 5\n",
    "    \n",
    "    print(average)  \n",
    "    if average >= 90:\n",
    "        print(\"秀\")\n",
    "    elif 90 > average >= 80:\n",
    "        print(\"優\")\n",
    "    elif 80 > average >= 70:\n",
    "        print(\"良\")\n",
    "    elif 70 > average >= 60:\n",
    "        print(\"可\")\n",
    "    else:\n",
    "        print(\"不可\")"
   ]
  },
  {
   "cell_type": "code",
   "execution_count": 7,
   "id": "ae24ec53-fa86-4678-8b8c-799bb141f042",
   "metadata": {},
   "outputs": [
    {
     "name": "stdout",
     "output_type": "stream",
     "text": [
      "72.0\n",
      "良\n"
     ]
    }
   ],
   "source": [
    "marks(100,100,80,30,50)"
   ]
  },
  {
   "attachments": {},
   "cell_type": "markdown",
   "id": "6a42d261-7c7e-431d-97ba-4e1898bae547",
   "metadata": {},
   "source": [
    "### 素数判定"
   ]
  },
  {
   "cell_type": "code",
   "execution_count": 8,
   "id": "775f63b7-12c6-44d7-8012-4845d168efb9",
   "metadata": {},
   "outputs": [],
   "source": [
    "def judge_primenumber(n):\n",
    "    for i in range(2,n):\n",
    "            if n % i == 0:\n",
    "                return False\n",
    "    return True     "
   ]
  },
  {
   "cell_type": "code",
   "execution_count": 12,
   "id": "7a5b65c9-dc27-4f53-afdb-cd90886c4889",
   "metadata": {},
   "outputs": [
    {
     "data": {
      "text/plain": [
       "True"
      ]
     },
     "execution_count": 12,
     "metadata": {},
     "output_type": "execute_result"
    }
   ],
   "source": [
    "judge_primenumber(13)"
   ]
  },
  {
   "attachments": {},
   "cell_type": "markdown",
   "id": "e9dfedce-1f14-4693-943c-0582d5f8073a",
   "metadata": {},
   "source": [
    "### 数字足す"
   ]
  },
  {
   "cell_type": "code",
   "execution_count": 15,
   "id": "f82e6afe-75b4-4896-ab7c-b8c856a45ef7",
   "metadata": {},
   "outputs": [],
   "source": [
    "def sum_num(n):\n",
    "    num = 0\n",
    "    for i in range(1,n+1):\n",
    "        num += i\n",
    "    return num  "
   ]
  },
  {
   "cell_type": "code",
   "execution_count": 16,
   "id": "dd4519e2-9a1c-4a26-b396-5233ab6c46c8",
   "metadata": {},
   "outputs": [
    {
     "data": {
      "text/plain": [
       "15"
      ]
     },
     "execution_count": 16,
     "metadata": {},
     "output_type": "execute_result"
    }
   ],
   "source": [
    "sum_num(5)"
   ]
  },
  {
   "attachments": {},
   "cell_type": "markdown",
   "id": "e680635c-9912-45ee-b8c4-7bf2215fc14d",
   "metadata": {},
   "source": [
    "### 標準偏差"
   ]
  },
  {
   "cell_type": "code",
   "execution_count": 23,
   "id": "fc16ebb4-0a01-4456-be8a-7468057463ad",
   "metadata": {},
   "outputs": [],
   "source": [
    "def hyou_hensa(num):\n",
    "    total = sum(num)\n",
    "    average = total/len(num)\n",
    "    x = 0\n",
    "    for i in range(len(num)):\n",
    "        x += (num[i]-average)**2\n",
    "        i += 1\n",
    "    y = (x/len(num))**(1/2)    \n",
    "    return y\n",
    "    "
   ]
  },
  {
   "cell_type": "code",
   "execution_count": 24,
   "id": "d646f274-6fd8-42f6-a69c-e1191b739916",
   "metadata": {},
   "outputs": [
    {
     "data": {
      "text/plain": [
       "19.390719429665317"
      ]
     },
     "execution_count": 24,
     "metadata": {},
     "output_type": "execute_result"
    }
   ],
   "source": [
    "num=[90,80,40,60,90]\n",
    "hyou_hensa(num)"
   ]
  },
  {
   "attachments": {},
   "cell_type": "markdown",
   "id": "f8c908cc-41fd-41e6-8276-89b62dd9b917",
   "metadata": {
    "tags": []
   },
   "source": [
    "### ピラミッド"
   ]
  },
  {
   "cell_type": "code",
   "execution_count": 17,
   "id": "87f8c98b-ab53-403d-9842-ea2e8acb371c",
   "metadata": {},
   "outputs": [],
   "source": [
    "def pyramid(n):\n",
    "    for i in range(1, n+1):\n",
    "         print(' ' * (n-i) + '*' * (2*i-1))"
   ]
  },
  {
   "cell_type": "code",
   "execution_count": 18,
   "id": "819b02f1-b9ed-4b96-9eb8-ffe1353ac30c",
   "metadata": {},
   "outputs": [
    {
     "name": "stdout",
     "output_type": "stream",
     "text": [
      "  *\n",
      " ***\n",
      "*****\n"
     ]
    }
   ],
   "source": [
    "pyramid(3)"
   ]
  },
  {
   "attachments": {},
   "cell_type": "markdown",
   "id": "3590b8f9-ba25-441f-a64e-b76b39c496ee",
   "metadata": {},
   "source": [
    "### 三角形"
   ]
  },
  {
   "cell_type": "code",
   "execution_count": 19,
   "id": "9c0422e0-55a1-4a0c-9a6a-ef5cc331f19a",
   "metadata": {},
   "outputs": [],
   "source": [
    "def HeronFormula(a, b, c):\n",
    "    s = (a + b + c) / 2\n",
    "    S = (s * (s - a) * (s - b) * (s - c))**(1/2)\n",
    "    return S"
   ]
  },
  {
   "attachments": {},
   "cell_type": "markdown",
   "id": "d2224d3d",
   "metadata": {},
   "source": [
    "> 英大文字は定数として扱うことが慣例となっているため、Sは英小文字の別の変数名にすることをお勧めします。"
   ]
  },
  {
   "cell_type": "code",
   "execution_count": 20,
   "id": "6ec0d717-48eb-497e-90f4-ff63a21574e1",
   "metadata": {},
   "outputs": [
    {
     "data": {
      "text/plain": [
       "6.0"
      ]
     },
     "execution_count": 20,
     "metadata": {},
     "output_type": "execute_result"
    }
   ],
   "source": [
    "HeronFormula(3, 4, 5)"
   ]
  },
  {
   "attachments": {},
   "cell_type": "markdown",
   "id": "5e4af59e-8b79-4442-8029-a6616a27f651",
   "metadata": {},
   "source": [
    "### 座標三角形"
   ]
  },
  {
   "cell_type": "code",
   "execution_count": 21,
   "id": "993c6875-bb89-4463-be4e-6bd2d563a744",
   "metadata": {},
   "outputs": [],
   "source": [
    "def zahyou_sannkaku(x1, y1, x2, y2, x3, y3):\n",
    "    S=abs(((x1-x3)*(y2-y3)-(x2-x3)*(y1-y3))/2)\n",
    "    return S"
   ]
  },
  {
   "cell_type": "code",
   "execution_count": 22,
   "id": "56b0b927-db5e-4786-8283-cef4d1310436",
   "metadata": {},
   "outputs": [
    {
     "data": {
      "text/plain": [
       "1.0"
      ]
     },
     "execution_count": 22,
     "metadata": {},
     "output_type": "execute_result"
    }
   ],
   "source": [
    "zahyou_sannkaku(5, 7, 3, 4, 1, 2)"
   ]
  },
  {
   "attachments": {},
   "cell_type": "markdown",
   "id": "cfe8716e-2c70-474b-af6d-96edd5189ebe",
   "metadata": {},
   "source": [
    "### ピラミッド2"
   ]
  },
  {
   "cell_type": "code",
   "execution_count": 4,
   "id": "fdd2eb42-0998-42d9-b737-1ed7b1d0eb18",
   "metadata": {},
   "outputs": [
    {
     "name": "stdout",
     "output_type": "stream",
     "text": [
      " 3\n"
     ]
    },
    {
     "name": "stdout",
     "output_type": "stream",
     "text": [
      "[1]\n",
      "[1, 1]\n",
      "[1, 2, 1]\n"
     ]
    }
   ],
   "source": [
    "def c(n,k): \n",
    "    if(k<=0 or n<=k):\n",
    "        return 1\n",
    "    else:\n",
    "        return(c(n-1, k-1) + c(n-1, k))\n",
    "\n",
    "N=int(input())\n",
    "\n",
    "for i in range(N):\n",
    "    print([c(i,j) for j in range(i+1)])"
   ]
  },
  {
   "attachments": {},
   "cell_type": "markdown",
   "id": "50dc17c6-4220-4e37-9a16-116522e6bf95",
   "metadata": {},
   "source": [
    "### フィボナッチ数列"
   ]
  },
  {
   "cell_type": "code",
   "execution_count": 5,
   "id": "2431b83b-cb2d-41fc-88ca-1eb9f6b59243",
   "metadata": {},
   "outputs": [],
   "source": [
    "def  fibonacci(n):\n",
    "    a, b = 0, 1\n",
    "    fibonacci=[]\n",
    "    while n:\n",
    "        n=n-1\n",
    "        fibonacci.append(b)\n",
    "        a, b = b, a+b\n",
    "    return  fibonacci"
   ]
  },
  {
   "cell_type": "code",
   "execution_count": 6,
   "id": "c783d69d-0953-4f85-b140-4f11de83cf9f",
   "metadata": {},
   "outputs": [
    {
     "data": {
      "text/plain": [
       "[1, 1, 2, 3, 5, 8, 13, 21, 34]"
      ]
     },
     "execution_count": 6,
     "metadata": {},
     "output_type": "execute_result"
    }
   ],
   "source": [
    "fibonacci(9)"
   ]
  },
  {
   "attachments": {},
   "cell_type": "markdown",
   "id": "636862ad-0f9a-4b5f-98d4-23ade36914c6",
   "metadata": {},
   "source": [
    "### exの関数"
   ]
  },
  {
   "cell_type": "code",
   "execution_count": 46,
   "id": "165b38e6-27cf-4a34-819c-f2fa1028ad20",
   "metadata": {},
   "outputs": [],
   "source": [
    "def e_fun(x,n):\n",
    "    x = float(x)\n",
    "    n = int(n)\n",
    "    xiang = x\n",
    "    \n",
    "    x_mici = x\n",
    "    jiechen = 1.0\n",
    "    e_x = xiang\n",
    "    for i in range(1, n + 1):\n",
    "        \n",
    "        x_mici *= x \n",
    "        jiechen *=  i \n",
    "        xiang =   x_mici / jiechen\n",
    "        e_x += xiang\n",
    "        \n",
    "    return e_x/x"
   ]
  },
  {
   "cell_type": "code",
   "execution_count": 48,
   "id": "7d9d095b-d71b-4d6c-b55b-dbe2c93cd8df",
   "metadata": {},
   "outputs": [
    {
     "data": {
      "text/plain": [
       "20.08553692318767"
      ]
     },
     "execution_count": 48,
     "metadata": {},
     "output_type": "execute_result"
    }
   ],
   "source": [
    "e_fun(3,30)"
   ]
  },
  {
   "attachments": {},
   "cell_type": "markdown",
   "id": "4c8a35f1-48f4-4c5e-9e9a-d3368d1ed35e",
   "metadata": {},
   "source": [
    "### sinx関数"
   ]
  },
  {
   "cell_type": "code",
   "execution_count": 1,
   "id": "f96d419b-0c93-4772-867c-1681ae75416e",
   "metadata": {},
   "outputs": [],
   "source": [
    "def sin_fun(x,n):\n",
    "    x = float(x)\n",
    "    n = int(n)\n",
    "    xiang = x\n",
    "    sign = 1\n",
    "    x_mici = x\n",
    "    jiechen = 1.0\n",
    "    sin_x = xiang\n",
    "    for i in range(2, n + 1):\n",
    "        sign *= -1\n",
    "        x_mici *= x * x\n",
    "        jiechen *=  (2 * i - 1) * (2 * i - 2)\n",
    "        xiang = sign * x_mici / jiechen\n",
    "        sin_x += xiang\n",
    "    return sin_x"
   ]
  },
  {
   "cell_type": "code",
   "execution_count": 61,
   "id": "385aa964-b48e-4121-85a8-83334067e4df",
   "metadata": {},
   "outputs": [
    {
     "data": {
      "text/plain": [
       "0.5000010522314551"
      ]
     },
     "execution_count": 61,
     "metadata": {},
     "output_type": "execute_result"
    }
   ],
   "source": [
    "sin_fun(0.5236,4)"
   ]
  },
  {
   "attachments": {},
   "cell_type": "markdown",
   "id": "f3594b27-1a8b-487e-9f36-f68279a908b4",
   "metadata": {},
   "source": [
    "### cosx関数"
   ]
  },
  {
   "cell_type": "code",
   "execution_count": 64,
   "id": "bdbab63a-913d-4651-b96d-fcb6b07ce5cd",
   "metadata": {},
   "outputs": [],
   "source": [
    "def cos_fun(x,n):\n",
    "    x = float(x)\n",
    "    n = int(n)\n",
    "    xiang = x\n",
    "    sign = 1\n",
    "    x_mici = x\n",
    "    jiechen = 1.0\n",
    "    sin_x = xiang\n",
    "    for i in range(2, n + 1):\n",
    "        sign *= -1\n",
    "        x_mici *= x * x\n",
    "        jiechen *=  (2 * i - 1) * (2 * i - 2)\n",
    "        xiang = sign * x_mici / jiechen\n",
    "        sin_x += xiang\n",
    "    cos_x =(1-sin_x**2 )**0.5  \n",
    "    return cos_x"
   ]
  },
  {
   "cell_type": "code",
   "execution_count": 65,
   "id": "1aa4019a-a8bf-4c8b-b979-336390c75923",
   "metadata": {},
   "outputs": [
    {
     "data": {
      "text/plain": [
       "0.8660247962774725"
      ]
     },
     "execution_count": 65,
     "metadata": {},
     "output_type": "execute_result"
    }
   ],
   "source": [
    "cos_fun(0.5236,4)"
   ]
  },
  {
   "attachments": {},
   "cell_type": "markdown",
   "id": "4ca4d172-28e5-4d8d-a233-360550da9eef",
   "metadata": {},
   "source": [
    "### log関数"
   ]
  },
  {
   "cell_type": "code",
   "execution_count": 94,
   "id": "2bb6fefb-c133-468f-ae7f-cdd8b5d57e7a",
   "metadata": {},
   "outputs": [],
   "source": [
    "def log_fun(x,n):\n",
    "    x = float(x)\n",
    "    n = int(n)\n",
    "    xiang = x-1\n",
    "    sign = 1\n",
    "    x_mici = 1\n",
    "    \n",
    "    log_x = xiang\n",
    "    for i in range(2, n + 1):\n",
    "        sign *= -1\n",
    "        x_mici = (x-1)*(x-1) \n",
    "        \n",
    "        xiang = sign * x_mici / i\n",
    "        log_x += xiang\n",
    "    \n",
    "    return log_x\n",
    "    "
   ]
  },
  {
   "cell_type": "code",
   "execution_count": 103,
   "id": "7e31d58a-a4a9-4815-bbf1-bb8e49110d63",
   "metadata": {},
   "outputs": [
    {
     "data": {
      "text/plain": [
       "0.5"
      ]
     },
     "execution_count": 103,
     "metadata": {},
     "output_type": "execute_result"
    }
   ],
   "source": [
    "log_fun(2,2)"
   ]
  },
  {
   "attachments": {},
   "cell_type": "markdown",
   "id": "2f5f6434-db30-4516-bc19-f963fbc6121b",
   "metadata": {},
   "source": [
    "### 反転"
   ]
  },
  {
   "cell_type": "code",
   "execution_count": 80,
   "id": "f7495774-06cd-461e-9c5d-01644f44d536",
   "metadata": {},
   "outputs": [],
   "source": [
    "def reverse(lst):\n",
    "    n = len(lst)\n",
    "    for i in range(n//2):\n",
    "        lst[i],lst[n-i-1]=lst[n-i-1],lst[i]\n",
    "        return lst\n",
    "        "
   ]
  },
  {
   "cell_type": "code",
   "execution_count": 81,
   "id": "671b0120-6e3e-4756-88ef-67c2a46717cd",
   "metadata": {},
   "outputs": [
    {
     "data": {
      "text/plain": [
       "[3, 2, 1]"
      ]
     },
     "execution_count": 81,
     "metadata": {},
     "output_type": "execute_result"
    }
   ],
   "source": [
    "x=[1,2,3]\n",
    "reverse(x)"
   ]
  },
  {
   "attachments": {},
   "cell_type": "markdown",
   "id": "b3eebc88-973b-47a0-80dc-21121bec3c6a",
   "metadata": {},
   "source": [
    "### ピラミッド反転"
   ]
  },
  {
   "cell_type": "code",
   "execution_count": 88,
   "id": "2f3627bc-e352-48e4-a156-6bb87d9fa8ed",
   "metadata": {},
   "outputs": [],
   "source": [
    "def pyramid(n):\n",
    "    for i in range(1, n+1):\n",
    "        print(' ' * (n-i) + '*' * (2*i-1))\n",
    "    for j in range(1, n+1):\n",
    "        print(' ' * (j-1) + '*' * (2*n-1-2*(j-1)))"
   ]
  },
  {
   "cell_type": "code",
   "execution_count": 89,
   "id": "71e08d78-3a4f-428f-bad6-c49b00a17a4c",
   "metadata": {},
   "outputs": [
    {
     "name": "stdout",
     "output_type": "stream",
     "text": [
      "  *\n",
      " ***\n",
      "*****\n",
      "*****\n",
      " ***\n",
      "  *\n"
     ]
    }
   ],
   "source": [
    "pyramid(3)"
   ]
  },
  {
   "attachments": {},
   "cell_type": "markdown",
   "id": "d4651d2d-e14e-47a4-aa6a-e118cbcca22a",
   "metadata": {},
   "source": [
    "### 2進数から10進数へ"
   ]
  },
  {
   "cell_type": "code",
   "execution_count": 90,
   "id": "6bad59f1-ddc7-4756-b5e8-b4f8ed053a48",
   "metadata": {},
   "outputs": [],
   "source": [
    "def two_ten(x): \n",
    "    w = 0     \n",
    "    i = 0     \n",
    "    while x>2 :      \n",
    "        y = x % 10           \n",
    "        w += y * pow(2,i)    \n",
    "        i = i+1              \n",
    "        x = x//10      \n",
    "    w += x * pow(2, i)    \n",
    "    return w  "
   ]
  },
  {
   "cell_type": "code",
   "execution_count": 91,
   "id": "02128f31-7fe2-4e40-a46c-7cc07fbe6c94",
   "metadata": {},
   "outputs": [
    {
     "data": {
      "text/plain": [
       "7"
      ]
     },
     "execution_count": 91,
     "metadata": {},
     "output_type": "execute_result"
    }
   ],
   "source": [
    "two_ten(111)"
   ]
  },
  {
   "attachments": {},
   "cell_type": "markdown",
   "id": "30c3f0fa-3dd7-42c4-bdb8-75d924339b04",
   "metadata": {},
   "source": [
    "### 10進数から2進数へ"
   ]
  },
  {
   "cell_type": "code",
   "execution_count": 94,
   "id": "d5a2c6f9-6bc2-4e86-8c70-ba59ebd01c71",
   "metadata": {},
   "outputs": [],
   "source": [
    "def ten_two(x):\n",
    "    result=\" \"\n",
    "    while x != 0:\n",
    "        result = str(x % 2) + result\n",
    "        x = x//2\n",
    "    return int(result)    "
   ]
  },
  {
   "cell_type": "code",
   "execution_count": 95,
   "id": "04607dbd-5ff2-4924-ab62-0368254d1ee5",
   "metadata": {},
   "outputs": [
    {
     "data": {
      "text/plain": [
       "1010"
      ]
     },
     "execution_count": 95,
     "metadata": {},
     "output_type": "execute_result"
    }
   ],
   "source": [
    "ten_two(10)"
   ]
  },
  {
   "cell_type": "code",
   "execution_count": null,
   "id": "89a86180-666b-43e5-87f7-38affe66dcab",
   "metadata": {},
   "outputs": [],
   "source": []
  }
 ],
 "metadata": {
  "kernelspec": {
   "display_name": "Python 3",
   "language": "python",
   "name": "python3"
  },
  "language_info": {
   "codemirror_mode": {
    "name": "ipython",
    "version": 3
   },
   "file_extension": ".py",
   "mimetype": "text/x-python",
   "name": "python",
   "nbconvert_exporter": "python",
   "pygments_lexer": "ipython3",
   "version": "3.9.7"
  }
 },
 "nbformat": 4,
 "nbformat_minor": 5
}
