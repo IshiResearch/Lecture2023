{
 "cells": [
  {
   "cell_type": "markdown",
   "id": "2a21328d-13fb-4fbc-8bf7-669324b78894",
   "metadata": {},
   "source": [
    "## 課題３"
   ]
  },
  {
   "cell_type": "code",
   "execution_count": 21,
   "id": "59eaa889-d907-480b-9683-2a33dea819a5",
   "metadata": {
    "tags": []
   },
   "outputs": [],
   "source": [
    "list = [1,2,3,100,-4,0.98,61,-78]"
   ]
  },
  {
   "cell_type": "markdown",
   "id": "14debbfc-f3a1-48dc-aebb-16aeccc5e7da",
   "metadata": {
    "tags": []
   },
   "source": [
    "## 1.max値とそのindex"
   ]
  },
  {
   "cell_type": "code",
   "execution_count": 9,
   "id": "4ee42296-b5f6-4b1c-b740-fc71cbf163d4",
   "metadata": {
    "tags": []
   },
   "outputs": [
    {
     "name": "stdout",
     "output_type": "stream",
     "text": [
      "100\n",
      "3\n"
     ]
    }
   ],
   "source": [
    "a = max(list)\n",
    "b = list.index(max(list))\n",
    "print(a)\n",
    "print(b)"
   ]
  },
  {
   "cell_type": "markdown",
   "id": "6319d2eb-1077-4087-a114-2e55ffd6b74c",
   "metadata": {},
   "source": [
    "##　2.min値とそのindex "
   ]
  },
  {
   "cell_type": "code",
   "execution_count": 10,
   "id": "4dba2b50-4507-469b-9dcf-a709e321f212",
   "metadata": {
    "tags": []
   },
   "outputs": [
    {
     "name": "stdout",
     "output_type": "stream",
     "text": [
      "-78\n",
      "7\n"
     ]
    }
   ],
   "source": [
    "mi = min(list)\n",
    "ind = list.index(min(list))\n",
    "print(mi)\n",
    "print(ind)"
   ]
  },
  {
   "cell_type": "markdown",
   "id": "7ab6cd74-cb6c-4bcc-a043-48a1cd8db199",
   "metadata": {},
   "source": [
    "## 3.奇数を取り出し、新たに奇数のみのlistを作成"
   ]
  },
  {
   "cell_type": "code",
   "execution_count": 9,
   "id": "1d2406e6-bdb4-4952-b36f-e81f61bc3f80",
   "metadata": {
    "tags": []
   },
   "outputs": [
    {
     "name": "stdout",
     "output_type": "stream",
     "text": [
      "[1, 3, 61]\n"
     ]
    }
   ],
   "source": [
    "klist = []\n",
    "n = len(list)\n",
    "for i in range(n):\n",
    "    a = list[i]\n",
    "    if a < 1 and a > 0:\n",
    "        continue\n",
    "    b = a%2\n",
    "    if b != 0:\n",
    "        klist.append(a)\n",
    "print(klist)"
   ]
  },
  {
   "cell_type": "markdown",
   "id": "e9a39ba4-39a2-42fe-929d-414e9c4d4046",
   "metadata": {},
   "source": [
    "## 4.偶数を取り出し、新たに偶数のみのlistを作成"
   ]
  },
  {
   "cell_type": "code",
   "execution_count": 10,
   "id": "6cdfaa01-ed62-421f-ba9f-5b452a07d63a",
   "metadata": {
    "tags": []
   },
   "outputs": [
    {
     "name": "stdout",
     "output_type": "stream",
     "text": [
      "[2, 100, -4, -78]\n"
     ]
    }
   ],
   "source": [
    "glist = []\n",
    "n = len(list)\n",
    "for i in range(n):\n",
    "    a = list[i]\n",
    "    if a < 1 and a > 0:\n",
    "        continue\n",
    "    b = a%2\n",
    "    if b == 0:\n",
    "        glist.append(a)\n",
    "print(glist)"
   ]
  },
  {
   "cell_type": "markdown",
   "id": "f11c9963-9238-41c9-82e3-95d7704c8056",
   "metadata": {},
   "source": [
    "## 5.listの各値を二乗して新たなlistを作成"
   ]
  },
  {
   "cell_type": "code",
   "execution_count": 16,
   "id": "93e9c25d-e2f2-4bc0-854d-b4dd6571a4f9",
   "metadata": {
    "tags": []
   },
   "outputs": [
    {
     "name": "stdout",
     "output_type": "stream",
     "text": [
      "[1, 4, 9, 10000, 16, 0.9603999999999999, 3721, 6084]\n"
     ]
    }
   ],
   "source": [
    "nilist = []\n",
    "n = len(list)\n",
    "for i in range(n):\n",
    "    a = list[i]\n",
    "    b = a * a\n",
    "    nilist.append(b)\n",
    "print(nilist)"
   ]
  },
  {
   "cell_type": "markdown",
   "id": "62bea852-3bbb-4681-af95-41345052f48f",
   "metadata": {},
   "source": [
    "## 6.listの各値を三乗して新しいlistを作成"
   ]
  },
  {
   "cell_type": "code",
   "execution_count": 17,
   "id": "432187a5-cc88-4da9-b487-f1bc12d6eb66",
   "metadata": {
    "tags": []
   },
   "outputs": [
    {
     "name": "stdout",
     "output_type": "stream",
     "text": [
      "[1, 8, 27, 1000000, -64, 0.9411919999999999, 226981, -474552]\n"
     ]
    }
   ],
   "source": [
    "sanlist = []\n",
    "n = len(list)\n",
    "for i in range(n):\n",
    "    a = list[i]\n",
    "    b = a * a * a\n",
    "    sanlist.append(b)\n",
    "print(sanlist)"
   ]
  },
  {
   "cell_type": "markdown",
   "id": "47fea089-6b6b-42eb-87b0-02e3c8182003",
   "metadata": {},
   "source": [
    "## 7.奇数を三乗、偶数を二乗し新たなlistを作成"
   ]
  },
  {
   "cell_type": "code",
   "execution_count": 22,
   "id": "83b099af-5776-4178-b9a7-0896cb1563dd",
   "metadata": {
    "tags": []
   },
   "outputs": [
    {
     "name": "stdout",
     "output_type": "stream",
     "text": [
      "[1, 4, 27, 10000, 16, 0.98, 0.9411919999999999, 226981, 6084]\n"
     ]
    }
   ],
   "source": [
    "jyoulist = []\n",
    "n = len(list)\n",
    "for i in range(n):\n",
    "    a = list[i]\n",
    "    if a < 1 and a > 0:\n",
    "        jyoulist.append(a)\n",
    "    b = a%2\n",
    "    if b != 0:\n",
    "        c = a * a * a\n",
    "        jyoulist.append(c)\n",
    "    elif b == 0:\n",
    "        d = a * a\n",
    "        jyoulist.append(d)\n",
    "        \n",
    "print(jyoulist)"
   ]
  },
  {
   "cell_type": "markdown",
   "id": "24a45b7f-fd0b-4518-b6ab-a5fa9b5cb3ce",
   "metadata": {},
   "source": [
    "## 8.list内の重複をなくして新しいlistを作成"
   ]
  },
  {
   "cell_type": "code",
   "execution_count": 28,
   "id": "af5dd595-af68-4f49-ac7f-72612809bdac",
   "metadata": {
    "tags": []
   },
   "outputs": [
    {
     "name": "stdout",
     "output_type": "stream",
     "text": [
      "[1, 2, -9, 9, 0.9, 0.1, 7, 8]\n"
     ]
    }
   ],
   "source": [
    "list = [1,2,-9,9,0.9,0.9,1,-9,-9,0.1,0.1,7,7,8,0.9]\n",
    "n_list = []\n",
    "n = len(list)\n",
    "for i in range(n):\n",
    "    a = list[i]\n",
    "    b = n_list.count(a)\n",
    "    if b >=1:\n",
    "        continue\n",
    "    else:\n",
    "        n_list.append(a)\n",
    "print(n_list)"
   ]
  },
  {
   "cell_type": "markdown",
   "id": "abefce59-984b-4565-9545-879d2964356f",
   "metadata": {},
   "source": [
    "## 9.それまでの値の合計"
   ]
  },
  {
   "cell_type": "code",
   "execution_count": 40,
   "id": "fa1cfccc-0cea-4858-8667-5672c7eaa6aa",
   "metadata": {
    "tags": []
   },
   "outputs": [
    {
     "name": "stdout",
     "output_type": "stream",
     "text": [
      "[1, 3, 6, 10, 15, 21, 28, 36]\n"
     ]
    }
   ],
   "source": [
    "list = [1,2,3,4,5,6,7,8]\n",
    "n_list = []\n",
    "n = len(list)\n",
    "gou = 0\n",
    "for i in range(n):\n",
    "    for j in range(i+1):\n",
    "        gou = gou + list[j]\n",
    "    n_list.append(gou)\n",
    "    gou = 0\n",
    "print(n_list)"
   ]
  },
  {
   "cell_type": "markdown",
   "id": "4d2c5fbd-7b8d-4511-8b55-365012af2e56",
   "metadata": {},
   "source": [
    "## 10.リストに数字を入れて平均、分散、標準偏差を表示"
   ]
  },
  {
   "cell_type": "code",
   "execution_count": 43,
   "id": "10ea461c-b9ed-4e5b-ae8f-adae903ef108",
   "metadata": {
    "tags": []
   },
   "outputs": [
    {
     "name": "stdin",
     "output_type": "stream",
     "text": [
      "国語の点数を入力してください 50\n",
      "数学の点数を入力してください 60\n",
      "英語の点数を入力してください 70\n",
      "物理の点数を入力してください 80\n",
      "化学の点数を入力してください 90\n"
     ]
    },
    {
     "name": "stdout",
     "output_type": "stream",
     "text": [
      "70.0\n",
      "14.142135623730951\n",
      "200.00000000000003\n"
     ]
    }
   ],
   "source": [
    "import math\n",
    "list = []\n",
    "kokugo = int(input(\"国語の点数を入力してください\"))\n",
    "suugaku = int(input(\"数学の点数を入力してください\"))\n",
    "eigo = int(input(\"英語の点数を入力してください\"))\n",
    "buturi = int(input(\"物理の点数を入力してください\"))\n",
    "kagaku = int(input(\"化学の点数を入力してください\"))\n",
    "\n",
    "list.append(kokugo)\n",
    "list.append(suugaku)\n",
    "list.append(eigo)\n",
    "list.append(buturi)\n",
    "list.append(kagaku)\n",
    "\n",
    "n = len(list)\n",
    "ave = (list[0]+list[1]+list[2]+list[3]+list[4])/n\n",
    "hyoujyun = math.sqrt(((abs(list[0]-ave)**2)+(abs(list[1]-ave)**2)+(abs(list[2]-ave)**2)+(abs(list[3]-ave)**2)+(abs(list[4]-ave)**2))/n)\n",
    "bunsa = hyoujyun**2\n",
    "\n",
    "print(ave)\n",
    "print(hyoujyun)\n",
    "print(bunsa)"
   ]
  },
  {
   "cell_type": "markdown",
   "id": "23a7bee4-3290-4294-bf01-5daf072cff13",
   "metadata": {
    "tags": []
   },
   "source": [
    "## 11.推定ゲーム"
   ]
  },
  {
   "cell_type": "code",
   "execution_count": 32,
   "id": "21b319a2-ae88-4854-be14-f0b33e2ec301",
   "metadata": {
    "tags": []
   },
   "outputs": [
    {
     "name": "stdin",
     "output_type": "stream",
     "text": [
      "0~100の数字を入れてください 22\n"
     ]
    },
    {
     "name": "stdout",
     "output_type": "stream",
     "text": [
      "43\n"
     ]
    },
    {
     "name": "stdin",
     "output_type": "stream",
     "text": [
      "大きい場合は1、小さい場合は2 1\n"
     ]
    },
    {
     "name": "stdout",
     "output_type": "stream",
     "text": [
      "7\n"
     ]
    },
    {
     "name": "stdin",
     "output_type": "stream",
     "text": [
      "大きい場合は1、小さい場合は2 2\n"
     ]
    },
    {
     "name": "stdout",
     "output_type": "stream",
     "text": [
      "37\n"
     ]
    },
    {
     "name": "stdin",
     "output_type": "stream",
     "text": [
      "大きい場合は1、小さい場合は2 1\n"
     ]
    },
    {
     "name": "stdout",
     "output_type": "stream",
     "text": [
      "10\n"
     ]
    },
    {
     "name": "stdin",
     "output_type": "stream",
     "text": [
      "大きい場合は1、小さい場合は2 2\n"
     ]
    },
    {
     "name": "stdout",
     "output_type": "stream",
     "text": [
      "18\n"
     ]
    },
    {
     "name": "stdin",
     "output_type": "stream",
     "text": [
      "大きい場合は1、小さい場合は2 2\n"
     ]
    },
    {
     "name": "stdout",
     "output_type": "stream",
     "text": [
      "19\n"
     ]
    },
    {
     "name": "stdin",
     "output_type": "stream",
     "text": [
      "大きい場合は1、小さい場合は2 2\n"
     ]
    },
    {
     "name": "stdout",
     "output_type": "stream",
     "text": [
      "24\n"
     ]
    },
    {
     "name": "stdin",
     "output_type": "stream",
     "text": [
      "大きい場合は1、小さい場合は2 1\n"
     ]
    },
    {
     "name": "stdout",
     "output_type": "stream",
     "text": [
      "21\n"
     ]
    },
    {
     "name": "stdin",
     "output_type": "stream",
     "text": [
      "大きい場合は1、小さい場合は2 2\n"
     ]
    },
    {
     "name": "stdout",
     "output_type": "stream",
     "text": [
      "24\n"
     ]
    },
    {
     "name": "stdin",
     "output_type": "stream",
     "text": [
      "大きい場合は1、小さい場合は2 1\n"
     ]
    },
    {
     "name": "stdout",
     "output_type": "stream",
     "text": [
      "22\n"
     ]
    }
   ],
   "source": [
    "import random\n",
    "n = int(input(\"0~100の数字を入れてください\"))\n",
    "n_copy = n\n",
    "x = 0\n",
    "y = 100\n",
    "a = random.randint(x,y)\n",
    "print(a)\n",
    "while True:\n",
    "    if a == n_copy:\n",
    "        break\n",
    "    b = int(input(\"大きい場合は1、小さい場合は2\"))\n",
    "    if b == 1:\n",
    "        y = a\n",
    "        c = random.randint(x,y-1)\n",
    "        a = c\n",
    "        print(c)\n",
    "        continue\n",
    "    if b == 2:\n",
    "        x = a\n",
    "        d = random.randint(x+1,y)\n",
    "        a = d\n",
    "        print(d)\n",
    "        continue"
   ]
  },
  {
   "cell_type": "markdown",
   "id": "1a053f97-d5be-481a-b086-6adbbdda5852",
   "metadata": {},
   "source": [
    "## 12.行列の足し算"
   ]
  },
  {
   "cell_type": "code",
   "execution_count": 3,
   "id": "d9c90139-69e4-416e-9d40-e8ce10b101c5",
   "metadata": {
    "tags": []
   },
   "outputs": [],
   "source": [
    "a = [[1,2,3],[4,5,6],[7,8,9]]\n",
    "b = [[1,2,3],[1,2,3],[1,2,3]]\n",
    "\n",
    "c = []\n",
    "\n",
    "for i in range(len(a)):\n",
    "    c.append([])\n",
    "    for j in range(len(a[i])):\n",
    "        c[i].append(a[i][j] + b[i][j]) #計算結果をｃのi番目に追加"
   ]
  },
  {
   "cell_type": "code",
   "execution_count": 6,
   "id": "2e6503b3-395e-4d41-b68f-d0a4e7b75aae",
   "metadata": {
    "tags": []
   },
   "outputs": [
    {
     "name": "stdout",
     "output_type": "stream",
     "text": [
      "  2  4  6 \n",
      "  5  7  9 \n",
      "  8 10 12 \n"
     ]
    }
   ],
   "source": [
    "for i in range(len(c)):#スペースと改行を追加する\n",
    "    for j in range(len(c[i])):\n",
    "        if c[i][j] < 10:\n",
    "            print(' ',end=\"\")\n",
    "        print(' ' + str(c[i][j]),end=\"\")\n",
    "    print(\" \")"
   ]
  },
  {
   "cell_type": "markdown",
   "id": "7ab35307-ea0c-4d60-9f0a-951a1fdb5240",
   "metadata": {},
   "source": [
    "## 13.行列の引き算"
   ]
  },
  {
   "cell_type": "code",
   "execution_count": 7,
   "id": "30ab7b2f-70a6-4424-9f1b-fe661987a607",
   "metadata": {
    "tags": []
   },
   "outputs": [],
   "source": [
    "a = [[1,2,3],[4,5,6],[7,8,9]]\n",
    "b = [[1,2,3],[1,2,3],[1,2,3]]\n",
    "\n",
    "c = []\n",
    "\n",
    "for i in range(len(a)):\n",
    "    c.append([])\n",
    "    for j in range(len(a[i])):\n",
    "        c[i].append(a[i][j] - b[i][j])"
   ]
  },
  {
   "cell_type": "code",
   "execution_count": 8,
   "id": "18aa0335-1045-460a-8bd3-4e6deed17fdb",
   "metadata": {
    "tags": []
   },
   "outputs": [
    {
     "name": "stdout",
     "output_type": "stream",
     "text": [
      "  0  0  0 \n",
      "  3  3  3 \n",
      "  6  6  6 \n"
     ]
    }
   ],
   "source": [
    "for i in range(len(c)):#スペースと改行を追加する\n",
    "    for j in range(len(c[i])):\n",
    "        if c[i][j] < 10:\n",
    "            print(' ',end=\"\")\n",
    "        print(' ' + str(c[i][j]),end=\"\")\n",
    "    print(\" \")"
   ]
  },
  {
   "cell_type": "markdown",
   "id": "b349431b-1a35-4053-b38c-4d1142d2858b",
   "metadata": {},
   "source": [
    "## 14.行列の掛け算"
   ]
  },
  {
   "cell_type": "code",
   "execution_count": 41,
   "id": "637012f2-e3d1-406c-8409-65e4c97bf7a6",
   "metadata": {
    "tags": []
   },
   "outputs": [],
   "source": [
    "a = [[1,2,3],[4,5,6],[7,8,9]]\n",
    "b = [[1,2,3],[1,2,3],[1,2,3]]\n",
    "\n",
    "c = []\n",
    "\n",
    "for i in range(len(a)):\n",
    "    c.append([])\n",
    "    for j in range(len(a[i])):\n",
    "        s = 0\n",
    "        for k in range(len(a[i])):\n",
    "            s = s + a[i][k] * b[k][j]\n",
    "        c[i].append(s)"
   ]
  },
  {
   "cell_type": "code",
   "execution_count": 42,
   "id": "27c15eb6-a551-40d3-b1ac-6d5bcf4f17eb",
   "metadata": {
    "tags": []
   },
   "outputs": [
    {
     "name": "stdout",
     "output_type": "stream",
     "text": [
      "  6 12 18 \n",
      " 15 30 45 \n",
      " 24 48 72 \n"
     ]
    }
   ],
   "source": [
    "for i in range(len(c)):#スペースと改行を追加する\n",
    "    for j in range(len(c[i])):\n",
    "        if c[i][j] < 10:\n",
    "            print(' ',end=\"\")\n",
    "        print(' ' + str(c[i][j]),end=\"\")\n",
    "    print(\" \")"
   ]
  },
  {
   "cell_type": "code",
   "execution_count": null,
   "id": "31570262-7ccb-4c63-9337-e045662a5595",
   "metadata": {},
   "outputs": [],
   "source": []
  }
 ],
 "metadata": {
  "kernelspec": {
   "display_name": "Python 3 (ipykernel)",
   "language": "python",
   "name": "python3"
  },
  "language_info": {
   "codemirror_mode": {
    "name": "ipython",
    "version": 3
   },
   "file_extension": ".py",
   "mimetype": "text/x-python",
   "name": "python",
   "nbconvert_exporter": "python",
   "pygments_lexer": "ipython3",
   "version": "3.8.16"
  }
 },
 "nbformat": 4,
 "nbformat_minor": 5
}
