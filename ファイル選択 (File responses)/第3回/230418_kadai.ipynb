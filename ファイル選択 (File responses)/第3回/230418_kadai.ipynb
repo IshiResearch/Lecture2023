{
 "cells": [
  {
   "cell_type": "code",
   "execution_count": 2,
   "id": "b3cbba09-355d-4512-9575-d0aec602f1aa",
   "metadata": {
    "tags": []
   },
   "outputs": [],
   "source": [
    "mylist = [1,2,3,100,-4,0.98,61,-78]"
   ]
  },
  {
   "attachments": {},
   "cell_type": "markdown",
   "id": "4d53e6e5-79ea-49f1-8701-5175d428f65a",
   "metadata": {},
   "source": [
    "### １．list から Max 値とその index を求めよ"
   ]
  },
  {
   "cell_type": "code",
   "execution_count": 36,
   "id": "489f62a0-b217-490e-bfe3-460dcea05ca5",
   "metadata": {
    "tags": []
   },
   "outputs": [
    {
     "name": "stdout",
     "output_type": "stream",
     "text": [
      "100\n"
     ]
    }
   ],
   "source": [
    "for i in range(1, len(mylist)):\n",
    "    if i == 1:\n",
    "        if mylist[i] > mylist[i-1]:\n",
    "            s = mylist[i]\n",
    "        else:\n",
    "            s = mylist[i-1]\n",
    "    else:\n",
    "        if mylist[i] > s:\n",
    "            s = mylist[i]\n",
    "print(s)"
   ]
  },
  {
   "attachments": {},
   "cell_type": "markdown",
   "id": "85efa20a-06e2-47a4-91ff-acf1bd230620",
   "metadata": {},
   "source": [
    "### ２．listからMin値とそのindexを求めよ"
   ]
  },
  {
   "cell_type": "code",
   "execution_count": 37,
   "id": "a962df99-7ad4-4d21-b87a-a9fdf194a1ac",
   "metadata": {
    "tags": []
   },
   "outputs": [
    {
     "name": "stdout",
     "output_type": "stream",
     "text": [
      "-78\n"
     ]
    }
   ],
   "source": [
    "for i in range(1, len(mylist)):\n",
    "    if i == 1:\n",
    "        if mylist[i] < mylist[i-1]:\n",
    "            s = mylist[i]\n",
    "        else:\n",
    "            s = mylist[i-1]\n",
    "    else:\n",
    "        if mylist[i] < s:\n",
    "            s = mylist[i]\n",
    "print(s)        "
   ]
  },
  {
   "attachments": {},
   "cell_type": "markdown",
   "id": "460725eb-e4f2-4c79-930d-4e17d63e9aa0",
   "metadata": {},
   "source": [
    "### ３．listの奇数を取り出して新たな奇数のみのlistを作れ"
   ]
  },
  {
   "cell_type": "code",
   "execution_count": 3,
   "id": "6aae051b-eca2-4fad-ba35-49c81487815d",
   "metadata": {
    "tags": []
   },
   "outputs": [
    {
     "name": "stdout",
     "output_type": "stream",
     "text": [
      "[1, 3, 61]\n"
     ]
    }
   ],
   "source": [
    "list_a = []\n",
    "for i in range(0, len(mylist)):\n",
    "    if mylist[i] % 1 == 0:\n",
    "        if mylist[i] % 2 != 0:\n",
    "            list_a.append(mylist[i])\n",
    "        \n",
    "print(list_a)"
   ]
  },
  {
   "attachments": {},
   "cell_type": "markdown",
   "id": "f3a0ce7b-870a-4ac3-b61b-7a06d6448811",
   "metadata": {},
   "source": [
    "### ４．listの偶数を取り出して新たな偶数のみのlistを作れ"
   ]
  },
  {
   "cell_type": "code",
   "execution_count": 39,
   "id": "d15d8fa0-4faa-4acf-9b6e-e97e83439e1e",
   "metadata": {
    "tags": []
   },
   "outputs": [
    {
     "name": "stdout",
     "output_type": "stream",
     "text": [
      "[2, 100, -4, -78]\n"
     ]
    }
   ],
   "source": [
    "list_b = []\n",
    "for i in range(0, len(mylist)):\n",
    "    if mylist[i] % 1 == 0:\n",
    "        if mylist[i] % 2 == 0:\n",
    "            list_b.append(mylist[i])\n",
    "        \n",
    "print(list_b)"
   ]
  },
  {
   "attachments": {},
   "cell_type": "markdown",
   "id": "4e2be276-82d0-4dd8-b60f-cf98d1e55cde",
   "metadata": {},
   "source": [
    "### ５．listの各値を二乗して新たなlistを作れ"
   ]
  },
  {
   "cell_type": "code",
   "execution_count": 40,
   "id": "d50b1039-a268-499c-be1f-8e6f0362431e",
   "metadata": {
    "tags": []
   },
   "outputs": [
    {
     "name": "stdout",
     "output_type": "stream",
     "text": [
      "[1, 4, 9, 10000, 16, 0.9603999999999999, 3721, 6084]\n"
     ]
    }
   ],
   "source": [
    "list_c = []\n",
    "for i in range(0, len(mylist)):\n",
    "    c = mylist[i] ** 2\n",
    "    list_c.append(c)\n",
    "print(list_c)"
   ]
  },
  {
   "attachments": {},
   "cell_type": "markdown",
   "id": "1fe6dfd8-be08-4d09-a090-4e5f4dacc0ab",
   "metadata": {},
   "source": [
    "### ６．listの各値を三乗して新たなlistを作れ"
   ]
  },
  {
   "cell_type": "code",
   "execution_count": 41,
   "id": "d8ab7543-69b4-498b-bb2a-dae6432e44c0",
   "metadata": {
    "tags": []
   },
   "outputs": [
    {
     "name": "stdout",
     "output_type": "stream",
     "text": [
      "[1, 8, 27, 1000000, -64, 0.9411919999999999, 226981, -474552]\n"
     ]
    }
   ],
   "source": [
    "list_d = []\n",
    "for i in range(0, len(mylist)):\n",
    "    d = mylist[i] ** 3\n",
    "    list_d.append(d)\n",
    "print(list_d)"
   ]
  },
  {
   "attachments": {},
   "cell_type": "markdown",
   "id": "3a4c6773-a041-4d82-a97e-71739be822e5",
   "metadata": {},
   "source": [
    "### ７．list内の奇数の値を三乗、偶数の値を二乗して新たなlistを作れ"
   ]
  },
  {
   "cell_type": "code",
   "execution_count": 42,
   "id": "7f91d1cb-e1a1-42fd-94a9-4cfdf93ec29e",
   "metadata": {
    "tags": []
   },
   "outputs": [
    {
     "name": "stdout",
     "output_type": "stream",
     "text": [
      "[1, 4, 27, 10000, 16, 0.98, 226981, 6084]\n"
     ]
    }
   ],
   "source": [
    "list_e = []\n",
    "for i in range(0, len(mylist)):\n",
    "    if mylist[i] % 1 == 0:\n",
    "        if mylist[i] % 2 != 0:\n",
    "            e = mylist[i] ** 3\n",
    "            list_e.append(e)\n",
    "        else:\n",
    "            e = mylist[i] ** 2\n",
    "            list_e.append(e)\n",
    "    else:\n",
    "        list_e.append(mylist[i])\n",
    "print(list_e)"
   ]
  },
  {
   "attachments": {},
   "cell_type": "markdown",
   "id": "ffc47790-6d65-4fe4-923e-5948b5f07e5b",
   "metadata": {
    "tags": []
   },
   "source": [
    "### ８．list内の数値の重複を無くして新たなlistを作れ"
   ]
  },
  {
   "cell_type": "code",
   "execution_count": 43,
   "id": "5505c0c7-c383-4274-944e-7565e0f1753e",
   "metadata": {
    "tags": []
   },
   "outputs": [],
   "source": [
    "n_list=[1, 2, -9, 9, 0.9, 0.9, 1, -9, -9, 0.1, 0.1, 7, 7, 8, 0.9]"
   ]
  },
  {
   "cell_type": "code",
   "execution_count": 44,
   "id": "6781b2ad-e425-4a90-8272-2d3049ebc7fc",
   "metadata": {
    "tags": []
   },
   "outputs": [
    {
     "name": "stdout",
     "output_type": "stream",
     "text": [
      "[1, 2, -9, 9, 0.9, 0.1, 7, 8]\n"
     ]
    }
   ],
   "source": [
    "for i in range(0, len(n_list)):\n",
    "    for j in range(i + 1, len(n_list)):\n",
    "        if n_list[i] == n_list[j]:\n",
    "            n_list.pop(j)\n",
    "            break\n",
    "        i -= 1\n",
    "print(n_list)"
   ]
  },
  {
   "attachments": {},
   "cell_type": "markdown",
   "id": "0d988538-5366-4288-b555-78ce3540a270",
   "metadata": {},
   "source": [
    "### ９．listのそれまでの値の合計のlistを作れ（例：list = [1,2,3,...] --> new_list = [1,3,6,...]）"
   ]
  },
  {
   "cell_type": "code",
   "execution_count": 45,
   "id": "ea05e3b5-aef9-4bc9-aa26-6b70f8de454c",
   "metadata": {
    "tags": []
   },
   "outputs": [],
   "source": [
    "numlist = [1,2,3,4,5,6,7,8]"
   ]
  },
  {
   "cell_type": "code",
   "execution_count": 46,
   "id": "f96adb95-ca14-4d40-8ea1-2c32528fd94f",
   "metadata": {
    "tags": []
   },
   "outputs": [
    {
     "name": "stdout",
     "output_type": "stream",
     "text": [
      "[1, 3, 6, 10, 15, 21, 28, 36]\n"
     ]
    }
   ],
   "source": [
    "new_list = []\n",
    "for i in range(0, len(numlist)):\n",
    "    if i == 0:\n",
    "        new_list.append(numlist[i])\n",
    "    else:\n",
    "        c = numlist[i] + new_list[i-1]\n",
    "        new_list.append(c)\n",
    "print(new_list)"
   ]
  },
  {
   "attachments": {},
   "cell_type": "markdown",
   "id": "119006ba-ea29-4804-b165-d378d034f21c",
   "metadata": {},
   "source": [
    "### １０．リストに数字を入れて、リスト内の数字の平均、分散、標準偏差を表示せよ"
   ]
  },
  {
   "cell_type": "code",
   "execution_count": 47,
   "id": "7c89af80-c2f0-4af0-b99b-8c05101f65da",
   "metadata": {
    "tags": []
   },
   "outputs": [],
   "source": [
    "yourlist = [2, 4, 6, 8]"
   ]
  },
  {
   "cell_type": "code",
   "execution_count": 48,
   "id": "8fe180e2-5835-4665-92f0-114a40927e82",
   "metadata": {
    "tags": []
   },
   "outputs": [
    {
     "name": "stdout",
     "output_type": "stream",
     "text": [
      " 5.0\n",
      " 5.0\n",
      " 2.23606797749979\n"
     ]
    }
   ],
   "source": [
    "list_a = []\n",
    "ave = sum(yourlist) / len(yourlist)\n",
    "\n",
    "for i in range(0, len(yourlist)):\n",
    "    c = (yourlist[i] - ave) ** 2\n",
    "    list_a.append(c)\n",
    "    \n",
    "bunsan = sum(list_a) / len(list_a)\n",
    "\n",
    "h_hensa = bunsan ** 0.5\n",
    "print(\"\", ave)\n",
    "print(\"\", bunsan)\n",
    "print(\"\", h_hensa)"
   ]
  },
  {
   "attachments": {},
   "cell_type": "markdown",
   "id": "54898a44-28a2-4f45-96db-300ac3dd350c",
   "metadata": {},
   "source": [
    "### １１．乱数を使った推定ゲーム（ランダム関数を使う）"
   ]
  },
  {
   "cell_type": "code",
   "execution_count": 49,
   "id": "5da378f7-b3f1-4cc9-bbb1-d1183fd54ac3",
   "metadata": {
    "tags": []
   },
   "outputs": [],
   "source": [
    "your_num = 46"
   ]
  },
  {
   "cell_type": "code",
   "execution_count": 79,
   "id": "0346f99c-207b-4c7e-b9df-e3f282d0019a",
   "metadata": {
    "tags": []
   },
   "outputs": [
    {
     "name": "stdout",
     "output_type": "stream",
     "text": [
      "71\n"
     ]
    },
    {
     "name": "stdout",
     "output_type": "stream",
     "text": [
      "どちらが大きい? your_num:7, num:8, 同じ:9 8\n"
     ]
    },
    {
     "name": "stdout",
     "output_type": "stream",
     "text": [
      "29\n"
     ]
    },
    {
     "name": "stdout",
     "output_type": "stream",
     "text": [
      "どちらが大きい? your_num:7, num:8, 同じ:9 7\n"
     ]
    },
    {
     "name": "stdout",
     "output_type": "stream",
     "text": [
      "59\n"
     ]
    },
    {
     "name": "stdout",
     "output_type": "stream",
     "text": [
      "どちらが大きい? your_num:7, num:8, 同じ:9 8\n"
     ]
    },
    {
     "name": "stdout",
     "output_type": "stream",
     "text": [
      "58\n"
     ]
    },
    {
     "name": "stdout",
     "output_type": "stream",
     "text": [
      "どちらが大きい? your_num:7, num:8, 同じ:9 8\n"
     ]
    },
    {
     "name": "stdout",
     "output_type": "stream",
     "text": [
      "40\n"
     ]
    },
    {
     "name": "stdout",
     "output_type": "stream",
     "text": [
      "どちらが大きい? your_num:7, num:8, 同じ:9 7\n"
     ]
    },
    {
     "name": "stdout",
     "output_type": "stream",
     "text": [
      "45\n"
     ]
    },
    {
     "name": "stdout",
     "output_type": "stream",
     "text": [
      "どちらが大きい? your_num:7, num:8, 同じ:9 7\n"
     ]
    },
    {
     "name": "stdout",
     "output_type": "stream",
     "text": [
      "57\n"
     ]
    },
    {
     "name": "stdout",
     "output_type": "stream",
     "text": [
      "どちらが大きい? your_num:7, num:8, 同じ:9 8\n"
     ]
    },
    {
     "name": "stdout",
     "output_type": "stream",
     "text": [
      "48\n"
     ]
    },
    {
     "name": "stdout",
     "output_type": "stream",
     "text": [
      "どちらが大きい? your_num:7, num:8, 同じ:9 8\n"
     ]
    },
    {
     "name": "stdout",
     "output_type": "stream",
     "text": [
      "47\n"
     ]
    },
    {
     "name": "stdout",
     "output_type": "stream",
     "text": [
      "どちらが大きい? your_num:7, num:8, 同じ:9 8\n"
     ]
    },
    {
     "name": "stdout",
     "output_type": "stream",
     "text": [
      "あなたが決めた数字は46です。\n"
     ]
    }
   ],
   "source": [
    "\n",
    "a = 0\n",
    "b = 100   # a < bとすること\n",
    "ans = 0\n",
    "for i in range(1, b - a):\n",
    "    import random\n",
    "    num = random.randint(a, b)\n",
    "    print(num)\n",
    "    ans = input(\"どちらが大きい? your_num:7, num:8, 同じ:9\")\n",
    "\n",
    "    if float(ans) == 7:  #your_num > num:\n",
    "        a = num + 1\n",
    "    elif float(ans) == 8:  #your_num < num:\n",
    "        b = num - 1\n",
    "    elif float(ans) == 9:  #your_num == num:\n",
    "        if your_num != num:\n",
    "            print(\"もう一度最初からやり直してください。\")\n",
    "        else:\n",
    "            print(\"あなたが決めた数字は{}です。\".format(num))\n",
    "        break\n",
    "    if (a == num and float(ans) == 8) or (b == num and float(ans) == 7):\n",
    "        print(\"もう一度最初からやり直してください。\")\n",
    "        break\n",
    "    if a == b:\n",
    "        if float(ans) == 7 and your_num == num + 1:\n",
    "            print(\"あなたが決めた数字は{}です。\".format(num+1))\n",
    "        elif float(ans) == 8 and your_num == num - 1:\n",
    "            print(\"あなたが決めた数字は{}です。\".format(num-1))\n",
    "        else:\n",
    "            print(\"もう一度最初からやり直してください。\")\n",
    "        break"
   ]
  },
  {
   "cell_type": "code",
   "execution_count": 51,
   "id": "9f74fe3c-cf8d-4388-a2c2-f380b8401cd3",
   "metadata": {},
   "outputs": [],
   "source": [
    "A = [[1,2,3], [4,5,6], [7,8,9]]\n",
    "B = [[1,2,3], [1,2,3], [1,2,3]]"
   ]
  },
  {
   "attachments": {},
   "cell_type": "markdown",
   "id": "e97fb8aa-9315-42da-9c29-035c9bb74a66",
   "metadata": {},
   "source": [
    "### １２ A+B の結果を表示する"
   ]
  },
  {
   "cell_type": "code",
   "execution_count": 52,
   "id": "5a73ee4f-e2f1-4742-9bea-e9a36a5288dc",
   "metadata": {
    "tags": []
   },
   "outputs": [],
   "source": [
    "C = []\n",
    "for i in range(len(A)):\n",
    "    C.append([])\n",
    "    for j in range(len(A[i])):\n",
    "        C[i].append(A[i][j] + B[i][j])"
   ]
  },
  {
   "cell_type": "code",
   "execution_count": 53,
   "id": "a56336d2-0dce-4b4a-aa7a-816c472d643e",
   "metadata": {
    "tags": []
   },
   "outputs": [
    {
     "name": "stdout",
     "output_type": "stream",
     "text": [
      "  2  4  6\n",
      "  5  7  9\n",
      "  8 10 12\n"
     ]
    }
   ],
   "source": [
    "for i in range(len(C)):\n",
    "    for j in range(len(C[i])):\n",
    "        if C[i][j] < 10:\n",
    "            print(\" \",end=\"\")\n",
    "        print(\" \" + str(C[i][j]),end=\"\")\n",
    "    print(\"\")"
   ]
  },
  {
   "attachments": {},
   "cell_type": "markdown",
   "id": "17dc71ef-a9aa-4219-b4bd-861af7bb09ae",
   "metadata": {},
   "source": [
    "### １３．A-B の結果を表示する"
   ]
  },
  {
   "cell_type": "code",
   "execution_count": 54,
   "id": "d467acbf-5db9-41f0-8e74-e67a936b5c38",
   "metadata": {
    "tags": []
   },
   "outputs": [],
   "source": [
    "D = []\n",
    "for i in range(len(A)):\n",
    "    D.append([])\n",
    "    for j in range(len(A[i])):\n",
    "        D[i].append(A[i][j] - B[i][j])"
   ]
  },
  {
   "cell_type": "code",
   "execution_count": 55,
   "id": "ca027b1c-7324-4ca0-a9c7-9fdd2228f5a6",
   "metadata": {
    "tags": []
   },
   "outputs": [
    {
     "name": "stdout",
     "output_type": "stream",
     "text": [
      "  0  0  0 \n",
      "  3  3  3 \n",
      "  6  6  6 \n"
     ]
    }
   ],
   "source": [
    "for i in range(len(D)):\n",
    "    for j in range(len(D[i])):\n",
    "        if D[i][j] < 10:\n",
    "            print(\" \",end=\"\")\n",
    "        print(\" \" + str(D[i][j]),end=\"\")\n",
    "    print(\" \")"
   ]
  },
  {
   "attachments": {},
   "cell_type": "markdown",
   "id": "3d275c21-adaf-4b53-b903-659457148b30",
   "metadata": {},
   "source": [
    "### １４．AB の結果を表示する"
   ]
  },
  {
   "cell_type": "code",
   "execution_count": 56,
   "id": "4afdd74a-0e5b-42f3-a8e9-82910aabcb0c",
   "metadata": {
    "tags": []
   },
   "outputs": [],
   "source": [
    "E = []\n",
    "for i in range(len(A)):\n",
    "    E.append([])\n",
    "    for j in range(len(A[i])):\n",
    "        kekka = 0\n",
    "        for k in range(len(A[j])):\n",
    "            kekka += A[i][k] * B[k][j]\n",
    "    \n",
    "        E[i].append(kekka)"
   ]
  },
  {
   "cell_type": "code",
   "execution_count": 57,
   "id": "25bdb2d7-a664-4cf1-bf1d-6000c459a031",
   "metadata": {
    "tags": []
   },
   "outputs": [
    {
     "name": "stdout",
     "output_type": "stream",
     "text": [
      "  6 12 18 \n",
      " 15 30 45 \n",
      " 24 48 72 \n"
     ]
    }
   ],
   "source": [
    "for i in range(len(E)):\n",
    "    for j in range(len(E[i])):\n",
    "        if E[i][j] < 10:\n",
    "            print(\" \",end=\"\")\n",
    "        print(\" \" + str(E[i][j]),end=\"\")\n",
    "    print(\" \")"
   ]
  },
  {
   "cell_type": "code",
   "execution_count": null,
   "id": "6e2644d2-e1cc-47fe-85d7-f913d401b36e",
   "metadata": {},
   "outputs": [],
   "source": []
  }
 ],
 "metadata": {
  "kernelspec": {
   "display_name": "Python 3",
   "language": "python",
   "name": "python3"
  },
  "language_info": {
   "codemirror_mode": {
    "name": "ipython",
    "version": 3
   },
   "file_extension": ".py",
   "mimetype": "text/x-python",
   "name": "python",
   "nbconvert_exporter": "python",
   "pygments_lexer": "ipython3",
   "version": "3.9.7"
  }
 },
 "nbformat": 4,
 "nbformat_minor": 5
}
