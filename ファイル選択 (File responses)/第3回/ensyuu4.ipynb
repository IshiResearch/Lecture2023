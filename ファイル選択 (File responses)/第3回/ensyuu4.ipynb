{
 "cells": [
  {
   "attachments": {},
   "cell_type": "markdown",
   "id": "d91e9ab6-7a17-4717-a750-a8309a18c80b",
   "metadata": {},
   "source": [
    "# 演習課題4"
   ]
  },
  {
   "cell_type": "code",
   "execution_count": 1,
   "id": "52cb95d6-e498-4dbb-8cf8-ed12c700e440",
   "metadata": {
    "tags": []
   },
   "outputs": [
    {
     "name": "stdout",
     "output_type": "stream",
     "text": [
      "100\n",
      "3\n"
     ]
    }
   ],
   "source": [
    "#1 listからMAX値とそのindexをもとめる\n",
    "my_list = [1, 2, 3, 100, -4, 0.98, 61, -78]\n",
    "\n",
    "max = my_list[0] #初期最大値をlistの初めの数字とする\n",
    "num = len(my_list) #繰り返す回数を求める\n",
    "\n",
    "for i in range(1,num):\n",
    "    if my_list[i] > max: \n",
    "        max = my_list[i] #数字が大きかった場合、置き換える\n",
    "        \n",
    "print(max)\n",
    "max_index = my_list.index(max)\n",
    "print(max_index)"
   ]
  },
  {
   "cell_type": "code",
   "execution_count": 2,
   "id": "d85c75a0-4b80-4921-a4cc-61aa0f5edad7",
   "metadata": {
    "tags": []
   },
   "outputs": [
    {
     "name": "stdout",
     "output_type": "stream",
     "text": [
      "-78\n",
      "7\n"
     ]
    }
   ],
   "source": [
    "#2 listからMIX値とそのindexを求める\n",
    "my_list = [1, 2, 3, 100, -4, 0.98, 61, -78]\n",
    "\n",
    "min = my_list[0] #初期最小値をlistの初めの数字とする\n",
    "num = len(my_list) #繰り返す回数を求める\n",
    "\n",
    "for i in range(1,num):\n",
    "    if my_list[i] < min:\n",
    "        min = my_list[i] #数字が小さかった場合、置き換える\n",
    "        \n",
    "print(min)\n",
    "min_index = my_list.index(min)\n",
    "print(min_index)"
   ]
  },
  {
   "cell_type": "code",
   "execution_count": 3,
   "id": "5e8b650d-5e88-4192-b2d1-d7493e195681",
   "metadata": {
    "tags": []
   },
   "outputs": [
    {
     "name": "stdout",
     "output_type": "stream",
     "text": [
      "[1, 3, 61]\n"
     ]
    }
   ],
   "source": [
    "#3 listから奇数を取り出して新たに奇数のみのlistを作る\n",
    "my_list = [1, 2, 3, 100, -4, 0.98, 61, -78]\n",
    "\n",
    "num = len(my_list)\n",
    "\n",
    "odd_number = [] #奇数を入れるリストを作る\n",
    "\n",
    "for i in range(num):\n",
    "    point = my_list[i] % 2\n",
    "    if point == 1: #数字を2で割ったときの余りが1であるとき、奇数であると判断\n",
    "        odd_number.append(my_list[i])\n",
    "print(odd_number)"
   ]
  },
  {
   "cell_type": "code",
   "execution_count": 4,
   "id": "41094914-1702-48a8-b5c6-b72736ef853d",
   "metadata": {
    "tags": []
   },
   "outputs": [
    {
     "name": "stdout",
     "output_type": "stream",
     "text": [
      "[2, 100, -4, -78]\n"
     ]
    }
   ],
   "source": [
    "#4 listから偶数を取り出して、新たに偶数のみのlistを作る\n",
    "my_list = [1, 2, 3, 100, -4, 0.98, 61, -78]\n",
    "\n",
    "num = len(my_list)\n",
    "\n",
    "even_number = [] #偶数を入れるリストを作る\n",
    "\n",
    "for i in range(num):\n",
    "    point = my_list[i] % 2\n",
    "    if point == 0: #数字を2で割ったときの余りが0であるとき、偶数であると判断\n",
    "        even_number.append(my_list[i])\n",
    "print(even_number)"
   ]
  },
  {
   "cell_type": "code",
   "execution_count": 5,
   "id": "91e54e22-9963-4994-a262-e9d703eb4f72",
   "metadata": {
    "tags": []
   },
   "outputs": [
    {
     "name": "stdout",
     "output_type": "stream",
     "text": [
      "[1, 4, 9, 10000, 16, 0.9603999999999999, 3721, 6084]\n"
     ]
    }
   ],
   "source": [
    "#5 listの各値を二乗して、新たにlistを作る\n",
    "my_list = [1, 2, 3, 100, -4, 0.98, 61, -78]\n",
    "square = [] #二乗した結果を入れるリストを作る\n",
    "\n",
    "num = len(my_list)\n",
    "\n",
    "for i in range(num):\n",
    "    square.append(my_list[i] ** 2) #数字を取り出し二乗して、結果を表示するリストに追加する\n",
    "print(square)"
   ]
  },
  {
   "cell_type": "code",
   "execution_count": 51,
   "id": "82f2cc85-b78d-4fe9-9acf-feaacf49674a",
   "metadata": {
    "tags": []
   },
   "outputs": [
    {
     "name": "stdout",
     "output_type": "stream",
     "text": [
      "[1, 8, 27, 1000000, -64, 0.9411919999999999, 226981, -474552]\n"
     ]
    }
   ],
   "source": [
    "#6 listの各値を三乗して、新たにlistを作る\n",
    "my_list = [1, 2, 3, 100, -4, 0.98, 61, -78]\n",
    "cubed = [] #三乗した結果を入れるリストを作る\n",
    "\n",
    "num = len(my_list)\n",
    "\n",
    "for i in range(num):\n",
    "    cubed.append(my_list[i] ** 3) #数字を取り出し三乗して、結果を表示するリストに追加する\n",
    "print(cubed)"
   ]
  },
  {
   "cell_type": "code",
   "execution_count": 6,
   "id": "317eca21-22dc-49c6-ac84-c7684c159a4d",
   "metadata": {
    "tags": []
   },
   "outputs": [
    {
     "name": "stdout",
     "output_type": "stream",
     "text": [
      "[1, 27, 226981, 4, 10000, 16, 6084]\n"
     ]
    }
   ],
   "source": [
    "#7 list内の奇数を三乗、偶数を二乗してlistを作る\n",
    "my_list = [1, 2, 3, 100, -4, 0.98, 61, -78]\n",
    "\n",
    "num = len(my_list)\n",
    "\n",
    "point = 0\n",
    "odd_number = [] #奇数を入れるリスト\n",
    "even_number = [] #偶数を入れるリスト\n",
    "square = [] #二乗を入れるリスト\n",
    "cubed = [] #三乗を入れるリスト\n",
    "new_list = [] #すべての結果を入れるリスト\n",
    "\n",
    "for i in range(num):\n",
    "    point = my_list[i] % 2\n",
    "    if point == 1: #奇数判定\n",
    "        odd_number.append(my_list[i])\n",
    "    elif point == 0: #偶数判定\n",
    "        even_number.append(my_list[i])\n",
    "\n",
    "num1 = len(odd_number)\n",
    "num2 = len(even_number)\n",
    "\n",
    "for i in range(num1):\n",
    "    new_list.append(odd_number[i] ** 3) #奇数を三乗する\n",
    "\n",
    "\n",
    "for i in range(num2):\n",
    "    new_list.append(even_number[i] ** 2) #偶数を二乗する\n",
    "\n",
    "print(new_list)"
   ]
  },
  {
   "cell_type": "code",
   "execution_count": 16,
   "id": "acf013de-9e40-4076-8a37-5759ff5ed422",
   "metadata": {
    "tags": []
   },
   "outputs": [
    {
     "name": "stdout",
     "output_type": "stream",
     "text": [
      "[2, 9, 1, -9, 0.1, 7, 8, 0.9]\n"
     ]
    }
   ],
   "source": [
    "#8 list内の重複をなくし、新たなlistを作る\n",
    "my_list = [1, 2, -9, 9, 0.9, 0.9, 1, -9, -9, 0.1, 0.1, 7, 7, 8, 0.9]\n",
    "\n",
    "num1 = len(my_list)\n",
    "i = 0\n",
    "\n",
    "while i < num1:\n",
    "    num2 = my_list.count(my_list[i]) #リスト内の数字が重複しているか確認（num2 = 1の場合、重複なし）\n",
    "    if num2 > 1:\n",
    "        my_list.remove(my_list[i]) #重複していた場合、その値を取り除く\n",
    "        num2 -= 1\n",
    "        num1 -= 1 #リスト内の数字が1つ少なくなったので、インデックスを-1する\n",
    "    else:\n",
    "        i += 1 \n",
    "\n",
    "print(my_list)"
   ]
  },
  {
   "cell_type": "code",
   "execution_count": 17,
   "id": "13b9621b-a3f2-437b-9bbf-f8ac7020cbe3",
   "metadata": {},
   "outputs": [
    {
     "name": "stdout",
     "output_type": "stream",
     "text": [
      "[1, 3, 6, 10, 15, 21, 28, 36]\n"
     ]
    }
   ],
   "source": [
    "#9 listのそれまでの値の合計のlistを求める\n",
    "my_list = [1,2,3,4,5,6,7,8]\n",
    "new_list = [] #足し合わせた数字を入れるリストを作る\n",
    "\n",
    "num = len(my_list)\n",
    "num1 = 1\n",
    "\n",
    "while num >= num1:\n",
    "    total = 0\n",
    "    for i in range(num1):\n",
    "        total += my_list[i] #リストの数字を順に足し合わせていく\n",
    "    new_list.append(total) #全て足し終わったら、新しいリストに追加する\n",
    "    num1 += 1\n",
    "    \n",
    "print(new_list)"
   ]
  },
  {
   "cell_type": "code",
   "execution_count": 19,
   "id": "9a297811-b912-4103-8d49-38b08f1ffd71",
   "metadata": {
    "tags": []
   },
   "outputs": [
    {
     "name": "stdout",
     "output_type": "stream",
     "text": [
      "number 20\n",
      "number 43\n",
      "number 90\n",
      "number 58\n",
      "number 39\n"
     ]
    },
    {
     "name": "stdout",
     "output_type": "stream",
     "text": [
      "平均 50.0 分散 546.8 標準偏差 23.383755044902433\n"
     ]
    }
   ],
   "source": [
    "#10 listに数字を入れ、list内の数字の平均、分散、標準偏差を求める\n",
    "my_list = [] #空のリストを作る\n",
    "\n",
    "for i in range(5):\n",
    "    num = int(input(\"number\")) \n",
    "    my_list.append(num) #リストに数字を追加していく\n",
    "\n",
    "total1 = 0\n",
    "total2 = 0\n",
    "\n",
    "for i in range(5):\n",
    "    total1 += my_list[i]\n",
    "average = total1 / 5 #平均を求める\n",
    "\n",
    "for i in range(5):\n",
    "    total2 += (average - my_list[i])**2     \n",
    "variance = total2 / 5 #分散を求める\n",
    "               \n",
    "standard_deviation = variance ** (1/2) #標準偏差を求める\n",
    "\n",
    "print(\"平均\", average, \"分散\", variance, \"標準偏差\", standard_deviation)"
   ]
  },
  {
   "cell_type": "code",
   "execution_count": 13,
   "id": "8a7a099e-5976-4db9-b481-ae8feec8062c",
   "metadata": {
    "tags": []
   },
   "outputs": [
    {
     "name": "stdout",
     "output_type": "stream",
     "text": [
      "answer 47\n"
     ]
    },
    {
     "name": "stdout",
     "output_type": "stream",
     "text": [
      "95\n"
     ]
    },
    {
     "name": "stdout",
     "output_type": "stream",
     "text": [
      "result 1\n"
     ]
    },
    {
     "name": "stdout",
     "output_type": "stream",
     "text": [
      "answerより大きいです。\n",
      "72\n"
     ]
    },
    {
     "name": "stdout",
     "output_type": "stream",
     "text": [
      "result 1\n"
     ]
    },
    {
     "name": "stdout",
     "output_type": "stream",
     "text": [
      "answerより大きいです。\n",
      "56\n"
     ]
    },
    {
     "name": "stdout",
     "output_type": "stream",
     "text": [
      "result 1\n"
     ]
    },
    {
     "name": "stdout",
     "output_type": "stream",
     "text": [
      "answerより大きいです。\n",
      "19\n"
     ]
    },
    {
     "name": "stdout",
     "output_type": "stream",
     "text": [
      "result 0\n"
     ]
    },
    {
     "name": "stdout",
     "output_type": "stream",
     "text": [
      "answerより小さいです。\n",
      "25\n"
     ]
    },
    {
     "name": "stdout",
     "output_type": "stream",
     "text": [
      "result 0\n"
     ]
    },
    {
     "name": "stdout",
     "output_type": "stream",
     "text": [
      "answerより小さいです。\n",
      "52\n"
     ]
    },
    {
     "name": "stdout",
     "output_type": "stream",
     "text": [
      "result 1\n"
     ]
    },
    {
     "name": "stdout",
     "output_type": "stream",
     "text": [
      "answerより大きいです。\n",
      "31\n"
     ]
    },
    {
     "name": "stdout",
     "output_type": "stream",
     "text": [
      "result 0\n"
     ]
    },
    {
     "name": "stdout",
     "output_type": "stream",
     "text": [
      "answerより小さいです。\n",
      "41\n"
     ]
    },
    {
     "name": "stdout",
     "output_type": "stream",
     "text": [
      "result 0\n"
     ]
    },
    {
     "name": "stdout",
     "output_type": "stream",
     "text": [
      "answerより小さいです。\n",
      "48\n"
     ]
    },
    {
     "name": "stdout",
     "output_type": "stream",
     "text": [
      "result 1\n"
     ]
    },
    {
     "name": "stdout",
     "output_type": "stream",
     "text": [
      "answerより大きいです。\n",
      "43\n"
     ]
    },
    {
     "name": "stdout",
     "output_type": "stream",
     "text": [
      "result 0\n"
     ]
    },
    {
     "name": "stdout",
     "output_type": "stream",
     "text": [
      "answerより小さいです。\n",
      "45\n"
     ]
    },
    {
     "name": "stdout",
     "output_type": "stream",
     "text": [
      "result 0\n"
     ]
    },
    {
     "name": "stdout",
     "output_type": "stream",
     "text": [
      "answerより小さいです。\n",
      "47\n",
      "正解です。\n"
     ]
    }
   ],
   "source": [
    "# 11 乱数を使った推定ゲーム\n",
    "import random\n",
    "\n",
    "answer = int(input(\"answer\")) #1~100の中で1つ数字を決める\n",
    "number = 0\n",
    "\n",
    "upper = 1\n",
    "lower = 100\n",
    "\n",
    "\n",
    "while answer != number:\n",
    "    number = random.randint(upper+1, lower-1) #ランダムで数字を表示\n",
    "    if number == answer: #数字があっていた場合、処理を終了\n",
    "        break\n",
    "        \n",
    "    print(number)\n",
    "    result = int(input(\"result\")) #0, 1で答えを評価する\n",
    "    \n",
    "    if result == 0: #answerより小さい場合、０を返す\n",
    "        print(\"answerより小さいです。\")\n",
    "        upper = number\n",
    "    elif result == 1: #answerより大きい場合、1を返す\n",
    "        print(\"answerより大きいです。\")\n",
    "        lower = number\n",
    "\n",
    "print(number)        \n",
    "print(\"正解です。\")\n",
    "        \n"
   ]
  },
  {
   "cell_type": "code",
   "execution_count": 84,
   "id": "15e42b3b-15b8-4608-8aec-2cb2906bdefc",
   "metadata": {
    "tags": []
   },
   "outputs": [
    {
     "name": "stdout",
     "output_type": "stream",
     "text": [
      "  2  4  6\n",
      "\n",
      "  5  7  9\n",
      "\n",
      "  8  10  12\n",
      "\n"
     ]
    }
   ],
   "source": [
    "#12 行列の計算 A+B\n",
    "a_list = [[1,2,3], [4,5,6], [7,8,9]]\n",
    "b_list = [[1,2,3], [1,2,3], [1,2,3]]\n",
    "\n",
    "result_list = [[],[],[]]\n",
    "\n",
    "for i in range(len(a_list)):\n",
    "    for j in range(len(a_list[i])):\n",
    "        result = a_list[i][j] + b_list[i][j]\n",
    "        result_list[i].append(result)\n",
    "\n",
    "for i in range(len(result_list)):\n",
    "    for j in range(len(result_list[i])):\n",
    "        print(\" \", result_list[i][j], end =\"\")\n",
    "    print(\"\\n\")\n",
    "        "
   ]
  },
  {
   "cell_type": "code",
   "execution_count": 85,
   "id": "24fe2547-0764-498d-90d4-1c64af778c3a",
   "metadata": {
    "collapsed": true,
    "jupyter": {
     "outputs_hidden": true
    },
    "tags": []
   },
   "outputs": [
    {
     "name": "stdout",
     "output_type": "stream",
     "text": [
      "  0  0  0\n",
      "\n",
      "  3  3  3\n",
      "\n",
      "  6  6  6\n",
      "\n"
     ]
    }
   ],
   "source": [
    "#13 行列の計算 A-B\n",
    "a_list = [[1,2,3], [4,5,6], [7,8,9]]\n",
    "b_list = [[1,2,3], [1,2,3], [1,2,3]]\n",
    "\n",
    "result_list = [[],[],[]]\n",
    "\n",
    "for i in range(len(a_list)):\n",
    "    for j in range(len(a_list[i])):\n",
    "        result = a_list[i][j] - b_list[i][j]\n",
    "        result_list[i].append(result)\n",
    "\n",
    "for i in range(len(result_list)):\n",
    "    for j in range(len(result_list[i])):\n",
    "        print(\" \", result_list[i][j], end =\"\")\n",
    "    print(\"\\n\")\n",
    "        "
   ]
  },
  {
   "cell_type": "code",
   "execution_count": 16,
   "id": "dad9aa0b-8453-433b-b2d2-e6a50a4ebc29",
   "metadata": {
    "tags": []
   },
   "outputs": [
    {
     "name": "stdout",
     "output_type": "stream",
     "text": [
      "  6  12  18\n",
      "\n",
      "  15  30  45\n",
      "\n",
      "  24  48  72\n",
      "\n"
     ]
    }
   ],
   "source": [
    "#14 行列の計算 AB\n",
    "a_list = [[1,2,3], [4,5,6], [7,8,9]]\n",
    "b_list = [[1,2,3], [1,2,3], [1,2,3]]\n",
    "\n",
    "result_list = [[],[],[]]\n",
    "result = 0\n",
    "\n",
    "for i in range(len(a_list)):\n",
    "    for j in range(len(b_list)):\n",
    "        for k in range(len(a_list[i])):\n",
    "            result += a_list[i][k] * b_list[k][j]\n",
    "        result_list[i].append(result)\n",
    "        result = 0\n",
    "\n",
    "for i in range(len(result_list)):\n",
    "    for j in range(len(result_list[i])):\n",
    "        print(\" \", result_list[i][j], end =\"\")\n",
    "    print(\"\\n\")"
   ]
  },
  {
   "attachments": {},
   "cell_type": "markdown",
   "id": "fd3ccd0d-9b78-4dd2-b337-23a6e50c86bc",
   "metadata": {},
   "source": [
    "> 何をしているコードなのかをコメントで説明しており、他人が読んでも理解しやすいです。"
   ]
  }
 ],
 "metadata": {
  "kernelspec": {
   "display_name": "Python 3 (ipykernel)",
   "language": "python",
   "name": "python3"
  },
  "language_info": {
   "codemirror_mode": {
    "name": "ipython",
    "version": 3
   },
   "file_extension": ".py",
   "mimetype": "text/x-python",
   "name": "python",
   "nbconvert_exporter": "python",
   "pygments_lexer": "ipython3",
   "version": "3.8.16"
  }
 },
 "nbformat": 4,
 "nbformat_minor": 5
}
