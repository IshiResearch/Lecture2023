{
 "cells": [
  {
   "cell_type": "code",
   "execution_count": 84,
   "id": "2ffab48b-5644-47e3-8d44-eee4859838d9",
   "metadata": {
    "tags": []
   },
   "outputs": [],
   "source": [
    "list = [1,2,3,100,-4,0.98,61,-78]"
   ]
  },
  {
   "cell_type": "code",
   "execution_count": 85,
   "id": "dc1a060e-5258-4dda-a617-6bd24f7c8c75",
   "metadata": {
    "tags": []
   },
   "outputs": [
    {
     "name": "stdout",
     "output_type": "stream",
     "text": [
      "100\n",
      "3\n"
     ]
    }
   ],
   "source": [
    "print(max(list))\n",
    "print(list.index(max(list)))"
   ]
  },
  {
   "cell_type": "code",
   "execution_count": 86,
   "id": "a12c1e70-087b-46dc-946b-c8bca9fd4ad4",
   "metadata": {
    "tags": []
   },
   "outputs": [
    {
     "name": "stdout",
     "output_type": "stream",
     "text": [
      "-78\n",
      "7\n"
     ]
    }
   ],
   "source": [
    "print(min(list))\n",
    "print(list.index(min(list)))"
   ]
  },
  {
   "cell_type": "code",
   "execution_count": 87,
   "id": "00a7aef8-aa8b-40c6-b8f7-63deccb7511f",
   "metadata": {
    "tags": []
   },
   "outputs": [
    {
     "name": "stdout",
     "output_type": "stream",
     "text": [
      "[2, 100, -4, -78]\n",
      "[1, 3, 0.98, 61]\n"
     ]
    }
   ],
   "source": [
    "even = []\n",
    "odd = []\n",
    "for i in list:\n",
    "    if i%2 ==0:\n",
    "        even.append(i)\n",
    "    else:\n",
    "        odd.append(i)          \n",
    "print(even)\n",
    "print(odd)"
   ]
  },
  {
   "cell_type": "code",
   "execution_count": 89,
   "id": "b44131e2-ff39-4ce1-ae0c-6e498cd9c3da",
   "metadata": {
    "tags": []
   },
   "outputs": [
    {
     "name": "stdout",
     "output_type": "stream",
     "text": [
      "[1, 4, 9, 10000, 16, 0.9603999999999999, 3721, 6084]\n"
     ]
    }
   ],
   "source": [
    "list = [1,2,3,100,-4,0.98,61,-78]\n",
    "nijyou = []\n",
    "for i in list:\n",
    "    i = i**2\n",
    "    nijyou.append(i)          \n",
    "print(nijyou)\n"
   ]
  },
  {
   "cell_type": "code",
   "execution_count": 90,
   "id": "51ad8673-9b01-44f0-996a-cbc05f5a3f61",
   "metadata": {
    "tags": []
   },
   "outputs": [
    {
     "name": "stdout",
     "output_type": "stream",
     "text": [
      "[1, 8, 27, 1000000, -64, 0.9411919999999999, 226981, -474552]\n"
     ]
    }
   ],
   "source": [
    "list = [1,2,3,100,-4,0.98,61,-78]\n",
    "sanjyou = []\n",
    "for i in list:\n",
    "    i = i**3\n",
    "    sanjyou.append(i)          \n",
    "print(sanjyou)\n"
   ]
  },
  {
   "cell_type": "code",
   "execution_count": 93,
   "id": "d42b51cf-fd48-4c0e-b964-1d7099db2f38",
   "metadata": {
    "tags": []
   },
   "outputs": [
    {
     "name": "stdout",
     "output_type": "stream",
     "text": [
      "[8, 1000000, -64, -474552]\n",
      "[1, 9, 0.9603999999999999, 3721]\n"
     ]
    }
   ],
   "source": [
    "list = [1,2,3,100,-4,0.98,61,-78]\n",
    "evensanjyou = []\n",
    "oddnijyou = []\n",
    "for i in list:\n",
    "    if i%2 == 0:\n",
    "        i = i**3\n",
    "        evensanjyou.append(i)\n",
    "    else:\n",
    "        i = i**2\n",
    "        oddnijyou.append(i)          \n",
    "print(evensanjyou)\n",
    "print(oddnijyou)"
   ]
  },
  {
   "cell_type": "code",
   "execution_count": 54,
   "id": "85eb6805-7377-46e6-9712-f6a21891940a",
   "metadata": {
    "tags": []
   },
   "outputs": [
    {
     "name": "stdout",
     "output_type": "stream",
     "text": [
      "[1, 2, -9, 9, 0.9, 0.1, 7, 8]\n"
     ]
    }
   ],
   "source": [
    "list1 = [1,2,-9,9,0.9,0.9,1,-9,-9,0.1,0.1,7,7,8,0.9]\n",
    "list2 = []\n",
    "for i in list1:\n",
    "    if i not in list2:\n",
    "        list2.append(i)\n",
    "print(list2)"
   ]
  },
  {
   "cell_type": "code",
   "execution_count": 119,
   "id": "a5df728b-304d-4a6c-9e59-bc38f6ec73a2",
   "metadata": {
    "tags": []
   },
   "outputs": [
    {
     "name": "stdout",
     "output_type": "stream",
     "text": [
      "[1, 3, 6, 10, 15, 21, 28, 36]\n"
     ]
    }
   ],
   "source": [
    "list = [1,2,3,4,5,6,7,8]\n",
    "new_list = []\n",
    "\n",
    "for i in list:\n",
    "    i = (i+1)*i/2\n",
    "    n = int(i)\n",
    "    new_list.append(n)\n",
    "print(new_list)    "
   ]
  },
  {
   "cell_type": "code",
   "execution_count": 155,
   "id": "93b8ddc5-0b82-4936-b9eb-fb3b209c6d58",
   "metadata": {
    "tags": []
   },
   "outputs": [
    {
     "name": "stdout",
     "output_type": "stream",
     "text": [
      "4.4\n",
      "7.44\n",
      "2.727636339397171\n"
     ]
    }
   ],
   "source": [
    "num = [1,2,4,7,8]\n",
    "total = sum(num)\n",
    "average = total/len(num)\n",
    "x = 0\n",
    "for i in range(len(num)):\n",
    "    x += (num[i]-average)**2\n",
    "    i += 1\n",
    "bunsan =  x/len(num)   \n",
    "hensa = (x/len(num))**(1/2) \n",
    "print(average)\n",
    "print(bunsan)\n",
    "print(hensa)"
   ]
  },
  {
   "cell_type": "code",
   "execution_count": 20,
   "id": "ae8f544f-69b8-4339-9d94-9aab19bfa645",
   "metadata": {
    "tags": []
   },
   "outputs": [
    {
     "name": "stdin",
     "output_type": "stream",
     "text": [
      " 51\n"
     ]
    },
    {
     "name": "stdout",
     "output_type": "stream",
     "text": [
      "28\n",
      "39\n",
      "41\n",
      "43\n",
      "51\n"
     ]
    }
   ],
   "source": [
    "import random\n",
    "n = int(input())\n",
    "ransu = random.randint(0,n+1)\n",
    "while ransu != n :\n",
    "    ransu = random.randint(ransu,n+1)\n",
    "    print(ransu)\n",
    "\n"
   ]
  },
  {
   "cell_type": "code",
   "execution_count": 33,
   "id": "c6c50c99-44c4-4fdc-a11b-e520990cdff6",
   "metadata": {
    "tags": []
   },
   "outputs": [
    {
     "name": "stdout",
     "output_type": "stream",
     "text": [
      "[[2, 4, 6], [5, 7, 9], [8, 10, 12]]\n"
     ]
    }
   ],
   "source": [
    "a = [[1,2,3],[4,5,6],[7,8,9]]\n",
    "b = [[1,2,3],[1,2,3],[1,2,3]]\n",
    "a_plus_b = []\n",
    "for i in range(len(a)):\n",
    "    a_plus_b.append([])\n",
    "    for j in range(len(a[i])):\n",
    "        a_plus_b[i].append(a[i][j] + b[i][j])   \n",
    "print(a_plus_b)         "
   ]
  },
  {
   "cell_type": "code",
   "execution_count": 46,
   "id": "24e8a42a-dfbd-4217-a2f5-aca34c157489",
   "metadata": {
    "tags": []
   },
   "outputs": [
    {
     "name": "stdout",
     "output_type": "stream",
     "text": [
      "[[0, 0, 0], [3, 3, 3], [6, 6, 6]]\n"
     ]
    }
   ],
   "source": [
    "a = [[1,2,3],[4,5,6],[7,8,9]]\n",
    "b = [[1,2,3],[1,2,3],[1,2,3]]\n",
    "a_hiku_b = []\n",
    "for i in range(len(a)):\n",
    "    a_hiku_b.append([])\n",
    "    for j in range(len(a[i])):\n",
    "        a_hiku_b[i].append(a[i][j] - b[i][j])   \n",
    "print(a_hiku_b)"
   ]
  },
  {
   "cell_type": "code",
   "execution_count": 50,
   "id": "21765586-6a7f-4545-9348-1c606cd62d42",
   "metadata": {
    "tags": []
   },
   "outputs": [
    {
     "name": "stdout",
     "output_type": "stream",
     "text": [
      "[[6, 12, 18], [15, 30, 45], [24, 48, 72]]\n"
     ]
    }
   ],
   "source": [
    "A = [[1,2,3],[4,5,6],[7,8,9]]\n",
    "B = [[1,2,3],[1,2,3],[1,2,3]]\n",
    "AB = []\n",
    "for i in range(len(A)):\n",
    "    line_AB_i = []\n",
    "    for j in range(len(B[0])):\n",
    "        AB_ij = 0\n",
    "        for k in range(len(A[0])):\n",
    "            AB_ij = A[i][k]*B[k][j] + AB_ij\n",
    "            \n",
    "        line_AB_i.append(AB_ij)\n",
    "    AB.append(line_AB_i)\n",
    "print(AB)"
   ]
  },
  {
   "cell_type": "code",
   "execution_count": null,
   "id": "93745309-9502-49d7-9459-8b7c3f3788e8",
   "metadata": {},
   "outputs": [],
   "source": []
  }
 ],
 "metadata": {
  "kernelspec": {
   "display_name": "Python 3 (ipykernel)",
   "language": "python",
   "name": "python3"
  },
  "language_info": {
   "codemirror_mode": {
    "name": "ipython",
    "version": 3
   },
   "file_extension": ".py",
   "mimetype": "text/x-python",
   "name": "python",
   "nbconvert_exporter": "python",
   "pygments_lexer": "ipython3",
   "version": "3.8.16"
  }
 },
 "nbformat": 4,
 "nbformat_minor": 5
}
