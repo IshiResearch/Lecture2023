{
 "cells": [
  {
   "cell_type": "code",
   "execution_count": 1,
   "id": "e90a96d4-a608-44a8-9b1b-d6510a6aac14",
   "metadata": {
    "tags": []
   },
   "outputs": [],
   "source": [
    "num_list = [1, 2, 3, 100, -4, 0.98, 61, -78]"
   ]
  },
  {
   "cell_type": "markdown",
   "id": "ad33da36-def4-45f1-9cb7-1ee302afd54c",
   "metadata": {
    "tags": []
   },
   "source": [
    "## 1"
   ]
  },
  {
   "cell_type": "code",
   "execution_count": 4,
   "id": "3733949a-85a8-4b6b-a5e5-b63244a6bc5f",
   "metadata": {
    "tags": []
   },
   "outputs": [
    {
     "name": "stdout",
     "output_type": "stream",
     "text": [
      "最大値： 100\n",
      "index： 3\n"
     ]
    }
   ],
   "source": [
    "num_max = max(num_list)\n",
    "print(\"最大値：\", num_max)\n",
    "print(\"index：\", num_list.index(num_max))"
   ]
  },
  {
   "cell_type": "markdown",
   "id": "3183598c-120c-422d-b667-6c8ccda3df42",
   "metadata": {
    "tags": []
   },
   "source": [
    "## 2"
   ]
  },
  {
   "cell_type": "code",
   "execution_count": 5,
   "id": "7516ae0e-aa0d-4766-8e2a-2324e023728e",
   "metadata": {
    "tags": []
   },
   "outputs": [
    {
     "name": "stdout",
     "output_type": "stream",
     "text": [
      "最小値： -78\n",
      "index： 7\n"
     ]
    }
   ],
   "source": [
    "num_min= min(num_list)\n",
    "print(\"最小値：\", num_min)\n",
    "print(\"index：\", num_list.index(num_min))"
   ]
  },
  {
   "cell_type": "markdown",
   "id": "c72bbb0d-9508-42ca-9d32-6d4b25183157",
   "metadata": {
    "tags": []
   },
   "source": [
    "## 3"
   ]
  },
  {
   "cell_type": "code",
   "execution_count": 13,
   "id": "7263bde3-44f6-48d9-ae65-bc60926a1f50",
   "metadata": {
    "tags": []
   },
   "outputs": [
    {
     "name": "stdout",
     "output_type": "stream",
     "text": [
      "[1, 3, 61]\n"
     ]
    }
   ],
   "source": [
    "new_num_list = []\n",
    "for i in range(len(num_list)):\n",
    "    if type(num_list[i]) == float:\n",
    "        continue\n",
    "    \n",
    "    else:\n",
    "        if num_list[i] % 2 != 0:\n",
    "            new_num_list.append(num_list[i])\n",
    "            \n",
    "print(new_num_list)"
   ]
  },
  {
   "cell_type": "markdown",
   "id": "10ff11e6-a3fd-4c82-a776-a3baa6a49a0a",
   "metadata": {
    "tags": []
   },
   "source": [
    "## 4"
   ]
  },
  {
   "cell_type": "code",
   "execution_count": 12,
   "id": "65f9239b-af5a-4876-914f-cc45f72268e3",
   "metadata": {
    "tags": []
   },
   "outputs": [
    {
     "name": "stdout",
     "output_type": "stream",
     "text": [
      "[2, 100, -4, -78]\n"
     ]
    }
   ],
   "source": [
    "new_num_list2 = []\n",
    "for i in range(len(num_list)):\n",
    "    if type(num_list[i]) == float:\n",
    "        continue\n",
    "        \n",
    "    else:\n",
    "        if num_list[i] % 2 == 0:\n",
    "            new_num_list2.append(num_list[i])\n",
    "            \n",
    "print(new_num_list2)"
   ]
  },
  {
   "cell_type": "markdown",
   "id": "c3368470-4d12-4b43-99b8-716ba6af24b7",
   "metadata": {},
   "source": [
    "## 5"
   ]
  },
  {
   "cell_type": "code",
   "execution_count": 15,
   "id": "7749f47f-9437-4929-ae6e-8df8354a879b",
   "metadata": {
    "tags": []
   },
   "outputs": [
    {
     "name": "stdout",
     "output_type": "stream",
     "text": [
      "[1, 4, 9, 10000, 16, 0.9603999999999999, 3721, 6084]\n"
     ]
    }
   ],
   "source": [
    "squ_num_list = []\n",
    "for i in range(len(num_list)):\n",
    "    squ_num_list.append(num_list[i]**2)\n",
    "\n",
    "print(squ_num_list)"
   ]
  },
  {
   "cell_type": "markdown",
   "id": "a17c9c0f-2852-4d83-8269-48bac778ad44",
   "metadata": {},
   "source": [
    "## 6"
   ]
  },
  {
   "cell_type": "code",
   "execution_count": 22,
   "id": "c5c1d645-83b3-418b-beb4-bb06259b1368",
   "metadata": {
    "tags": []
   },
   "outputs": [
    {
     "name": "stdout",
     "output_type": "stream",
     "text": [
      "[1, 8, 27, 1000000, -64, 0.9411919999999999, 226981, -474552]\n"
     ]
    }
   ],
   "source": [
    "cub_num_list = []\n",
    "for i in range(len(num_list)):\n",
    "    cub_num_list.append(num_list[i]**3)\n",
    "    \n",
    "print(cub_num_list)"
   ]
  },
  {
   "cell_type": "markdown",
   "id": "2fbf9b81-7c70-47f4-ba47-390a4d5b841b",
   "metadata": {},
   "source": [
    "## 7"
   ]
  },
  {
   "cell_type": "code",
   "execution_count": 24,
   "id": "8cb685f1-bcd6-43de-a17e-ed8d8ead3d65",
   "metadata": {
    "tags": []
   },
   "outputs": [
    {
     "name": "stdout",
     "output_type": "stream",
     "text": [
      "[1, 4, 27, 10000, 16, 226981, 6084]\n"
     ]
    }
   ],
   "source": [
    "cub_and_squ = []\n",
    "for i in range(len(num_list)):\n",
    "    if type(num_list[i]) == float:\n",
    "        continue\n",
    "        \n",
    "    else:\n",
    "        if num_list[i] % 2 == 0:\n",
    "            cub_and_squ.append(num_list[i]**2)\n",
    "            \n",
    "        else:\n",
    "            cub_and_squ.append(num_list[i]**3)\n",
    "            \n",
    "print(cub_and_squ)"
   ]
  },
  {
   "cell_type": "markdown",
   "id": "6647f128-2458-4139-8024-92f2ff8da742",
   "metadata": {},
   "source": [
    "## 8"
   ]
  },
  {
   "cell_type": "code",
   "execution_count": 25,
   "id": "dd0bdd5a-7d51-4e0f-824d-715423de525f",
   "metadata": {
    "tags": []
   },
   "outputs": [],
   "source": [
    "num_list2 = [1, 2, -9, 9, 0.9, 0.9, 1, -9, -9, 0.1, 0.1, 7, 7, 8, 0.9]"
   ]
  },
  {
   "cell_type": "code",
   "execution_count": 26,
   "id": "77c72c6f-b9fa-4557-93b0-a36711231911",
   "metadata": {
    "tags": []
   },
   "outputs": [
    {
     "name": "stdout",
     "output_type": "stream",
     "text": [
      "[1, 2, -9, 9, 0.9, 0.1, 7, 8]\n"
     ]
    }
   ],
   "source": [
    "new_num_list2 = []\n",
    "for i in range(len(num_list2)):\n",
    "    if num_list2[i] in new_num_list2:\n",
    "        continue\n",
    "        \n",
    "    else:\n",
    "        new_num_list2.append(num_list2[i])\n",
    "        \n",
    "print(new_num_list2)"
   ]
  },
  {
   "cell_type": "markdown",
   "id": "10ac13cd-a516-442a-af75-72dd189ac83b",
   "metadata": {},
   "source": [
    "## 9"
   ]
  },
  {
   "cell_type": "code",
   "execution_count": 27,
   "id": "110bc96a-0586-46f8-b423-c08a0179ebeb",
   "metadata": {
    "tags": []
   },
   "outputs": [
    {
     "name": "stdout",
     "output_type": "stream",
     "text": [
      "[1, 3, -6, 3, 3.9, 4.8, 5.8, -3.2, -12.2, -12.1, -12.0, -5.0, 2.0, 10.0, 10.9]\n"
     ]
    }
   ],
   "source": [
    "sum_num_list = []\n",
    "total = 0\n",
    "for i in range(len(num_list2)):\n",
    "    total += num_list2[i]\n",
    "    sum_num_list.append(total)\n",
    "\n",
    "print(sum_num_list)"
   ]
  },
  {
   "cell_type": "markdown",
   "id": "6b2b1fde-6537-4f6c-a3ad-57c78d4aa3fb",
   "metadata": {},
   "source": [
    "## 10"
   ]
  },
  {
   "cell_type": "code",
   "execution_count": 45,
   "id": "7b955c20-3aa4-4317-abdc-eaf518326ca5",
   "metadata": {
    "tags": []
   },
   "outputs": [
    {
     "name": "stdin",
     "output_type": "stream",
     "text": [
      "入力する回数： 5\n",
      "数字を入力： 1\n",
      "数字を入力： 2\n",
      "数字を入力： 3\n",
      "数字を入力： 4\n",
      "数字を入力： 5\n"
     ]
    },
    {
     "name": "stdout",
     "output_type": "stream",
     "text": [
      "[1, 2, 3, 4, 5]\n",
      "平均： 3.0\n",
      "分散： 2.0\n",
      "標準偏差： 1.4142135623730951\n"
     ]
    }
   ],
   "source": [
    "def ave_num(x): # total/要素数 = 平均\n",
    "    ave = x / times\n",
    "    return ave\n",
    "    \n",
    "def dis_num(x,y): # (平均-要素)^2\n",
    "    dis = (x-y)**2\n",
    "    return dis\n",
    " \n",
    "new_list = []\n",
    "counter = 1\n",
    "total = 0\n",
    "total2 = 0\n",
    "times = input(\"入力する回数：\") # 入力回数の指定\n",
    "if times == \"\":\n",
    "    while times == \"\":\n",
    "        times = input(\"入力する回数：\")\n",
    "        \n",
    "times = int(times)\n",
    "\n",
    "while counter <= times: # 入力回数分の数字の入力\n",
    "    num = input(\"数字を入力：\")\n",
    "    if num == \"\":\n",
    "        continue\n",
    "    num = int(num)\n",
    "    new_list.append(num)\n",
    "    counter += 1\n",
    "\n",
    "print(new_list)\n",
    "\n",
    "for i in range(times): # リスト内の要素の合計\n",
    "    total += new_list[i]\n",
    "\n",
    "average = ave_num(total)\n",
    "print(\"平均：\",average)\n",
    "\n",
    "for j in range(times): # (平均-要素)^2の合計\n",
    "    total2 += dis_num(average,new_list[j])\n",
    "    \n",
    "dispersion = total2 / times # 分散\n",
    "print(\"分散：\",dispersion)\n",
    "\n",
    "deviation = dispersion ** (1/2) # 分散^(1/2)\n",
    "print(\"標準偏差：\",deviation)\n"
   ]
  },
  {
   "cell_type": "markdown",
   "id": "3ba684f0-cd5d-4b4e-97ad-745337d791ad",
   "metadata": {},
   "source": [
    "## 11"
   ]
  },
  {
   "cell_type": "code",
   "execution_count": 53,
   "id": "55d0abf1-ff16-4af5-9a78-1aaf3a54286f",
   "metadata": {
    "tags": []
   },
   "outputs": [
    {
     "name": "stdin",
     "output_type": "stream",
     "text": [
      "数字を入力 50\n"
     ]
    },
    {
     "name": "stdout",
     "output_type": "stream",
     "text": [
      "あなたが選んだ数字は、 73 ですか？\n"
     ]
    },
    {
     "name": "stdin",
     "output_type": "stream",
     "text": [
      "選んだ数字より小さければ1、大きければ2を押してください： 2\n"
     ]
    },
    {
     "name": "stdout",
     "output_type": "stream",
     "text": [
      "あなたが選んだ数字は、 39 ですか？\n"
     ]
    },
    {
     "name": "stdin",
     "output_type": "stream",
     "text": [
      "選んだ数字より小さければ1、大きければ2を押してください： 1\n"
     ]
    },
    {
     "name": "stdout",
     "output_type": "stream",
     "text": [
      "あなたが選んだ数字は、 68 ですか？\n"
     ]
    },
    {
     "name": "stdin",
     "output_type": "stream",
     "text": [
      "選んだ数字より小さければ1、大きければ2を押してください： 2\n"
     ]
    },
    {
     "name": "stdout",
     "output_type": "stream",
     "text": [
      "あなたが選んだ数字は、 50 です。\n"
     ]
    }
   ],
   "source": [
    "import random\n",
    "\n",
    "num = input(\"数字を入力\")\n",
    "num = int(num)\n",
    "max_num = 100\n",
    "min_num = 0\n",
    "rand_num = random.randint(min_num, max_num)\n",
    "\n",
    "if num != rand_num:\n",
    "    while num != rand_num:\n",
    "        print(\"あなたが選んだ数字は、\",rand_num, \"ですか？\")\n",
    "        Ans = input(\"選んだ数字より小さければ1、大きければ2を押してください：\")\n",
    "        Ans = int(Ans)\n",
    "        if Ans == 1:\n",
    "            min_num = rand_num+1\n",
    "            \n",
    "        else:\n",
    "            max_num = rand_num-1\n",
    "            \n",
    "        rand_num = random.randint(min_num, max_num)\n",
    "        \n",
    "print(\"あなたが選んだ数字は、\",rand_num,\"です。\")\n",
    "    "
   ]
  },
  {
   "cell_type": "markdown",
   "id": "2bb82d63-d65a-42b6-8d2e-5f92c982394f",
   "metadata": {},
   "source": [
    "## 12"
   ]
  },
  {
   "cell_type": "code",
   "execution_count": 54,
   "id": "91e0d2bc-00ce-4336-b676-1377f57dbd93",
   "metadata": {
    "tags": []
   },
   "outputs": [],
   "source": [
    "A = [[1,2,3], [4,5,6], [7,8,9]]\n",
    "B = [[1,2,3], [1,2,3], [1,2,3]]\n"
   ]
  },
  {
   "cell_type": "code",
   "execution_count": 62,
   "id": "592bc97d-81c7-45bb-a923-9336bee2940f",
   "metadata": {
    "tags": []
   },
   "outputs": [
    {
     "name": "stdout",
     "output_type": "stream",
     "text": [
      "3\n",
      "3\n",
      "6\n"
     ]
    }
   ],
   "source": [
    "print(len(A))\n",
    "print(len(A[0]))\n",
    "print(A[1][2])"
   ]
  },
  {
   "cell_type": "code",
   "execution_count": 81,
   "id": "925215f4-30a1-4474-864f-bfce03696ff2",
   "metadata": {
    "tags": []
   },
   "outputs": [
    {
     "name": "stdout",
     "output_type": "stream",
     "text": [
      "2  4  6  \n",
      "5  7  9  \n",
      "8  10  12  \n"
     ]
    }
   ],
   "source": [
    "C = []\n",
    "num_str = \"\"\n",
    "for i in range(len(A)):\n",
    "    C.append([])\n",
    "    for j in range(len(A[i])):\n",
    "        C[i].append(A[i][j]+B[i][j])\n",
    "        num_str += str(C[i][j]) + \"  \"\n",
    "    \n",
    "    print(num_str)\n",
    "    num_str = \"\""
   ]
  },
  {
   "cell_type": "markdown",
   "id": "a06904b6-1418-4c8c-8c48-7c180c40b530",
   "metadata": {},
   "source": [
    "## 13"
   ]
  },
  {
   "cell_type": "code",
   "execution_count": 80,
   "id": "fc828a66-94db-458e-b964-8d1a63742269",
   "metadata": {
    "tags": []
   },
   "outputs": [
    {
     "name": "stdout",
     "output_type": "stream",
     "text": [
      "0  0  0  \n",
      "3  3  3  \n",
      "6  6  6  \n"
     ]
    }
   ],
   "source": [
    "D = []\n",
    "num_str2 = \"\"\n",
    "for i in range(len(A)):\n",
    "    D.append([])\n",
    "    for j in range(len(A[i])):\n",
    "        D[i].append(A[i][j]-B[i][j])\n",
    "        num_str2 += str(D[i][j]) + \"  \"\n",
    "    \n",
    "    print(num_str2)\n",
    "    num_str2 = \"\""
   ]
  },
  {
   "cell_type": "markdown",
   "id": "3d6e6981-1c18-4a92-a886-3bce53b083fc",
   "metadata": {
    "tags": []
   },
   "source": [
    "## 14"
   ]
  },
  {
   "cell_type": "code",
   "execution_count": 82,
   "id": "d076b554-41ca-4160-9e89-c0a8d9c28621",
   "metadata": {
    "tags": []
   },
   "outputs": [
    {
     "name": "stdout",
     "output_type": "stream",
     "text": [
      "1  2  3  \n",
      "8  10  12  \n",
      "21  24  27  \n"
     ]
    }
   ],
   "source": [
    "E = []\n",
    "num_str3 = \"\"\n",
    "for i in range(len(A)):\n",
    "    E.append([])\n",
    "    for j in range(len(A[i])):\n",
    "        E[i].append(A[i][j]*B[j][i])\n",
    "        num_str3 += str(E[i][j]) + \"  \"\n",
    "    \n",
    "    print(num_str3)\n",
    "    num_str3 = \"\""
   ]
  },
  {
   "cell_type": "code",
   "execution_count": null,
   "id": "a606ac68-678e-4872-bc4e-70dc66795bff",
   "metadata": {},
   "outputs": [],
   "source": []
  },
  {
   "cell_type": "markdown",
   "id": "0efb2041-c8b6-4c31-8597-ecf9656c25bf",
   "metadata": {
    "jp-MarkdownHeadingCollapsed": true,
    "jupyter": {
     "source_hidden": true
    },
    "tags": []
   },
   "source": [
    "## test"
   ]
  },
  {
   "cell_type": "code",
   "execution_count": 76,
   "id": "bbbeaea8-fc80-45f2-acbc-83281c857fa8",
   "metadata": {
    "tags": []
   },
   "outputs": [
    {
     "name": "stdout",
     "output_type": "stream",
     "text": [
      "[[1, 2, 3], [1, 2, 3], [1, 2, 3]]\n"
     ]
    }
   ],
   "source": [
    "X = []\n",
    "for i in range(3):\n",
    "    X.append([])\n",
    "    for j in range(3):\n",
    "        X[i].append(1+j)\n",
    "print(X)"
   ]
  },
  {
   "cell_type": "code",
   "execution_count": 97,
   "id": "b62167b5-bb61-4ebf-bee1-a3b2acbd0dcf",
   "metadata": {
    "tags": []
   },
   "outputs": [
    {
     "name": "stdin",
     "output_type": "stream",
     "text": [
      "行数を入力： 3\n",
      "列数を入力： 3\n",
      "行数を入力： 3\n",
      "列数を入力： 3\n",
      "数字を入力： 1\n",
      "数字を入力： 2\n",
      "数字を入力： 3\n",
      "数字を入力： 4\n",
      "数字を入力： 5\n",
      "数字を入力： 6\n",
      "数字を入力： 7\n",
      "数字を入力： 8\n",
      "数字を入力： 9\n",
      "数字を入力： 1\n",
      "数字を入力： 1\n",
      "数字を入力： 1\n",
      "数字を入力： 2\n",
      "数字を入力： 2\n",
      "数字を入力： 2\n",
      "数字を入力： 3\n",
      "数字を入力： 3\n",
      "数字を入力： 3\n"
     ]
    },
    {
     "name": "stdout",
     "output_type": "stream",
     "text": [
      "F\n",
      "  1  2  3\n",
      "  4  5  6\n",
      "  7  8  9\n",
      "G\n",
      "  1  1  1\n",
      "  2  2  2\n",
      "  3  3  3\n"
     ]
    }
   ],
   "source": [
    "hor1 = input(\"行列Fの行数を入力：\")\n",
    "ver1 = input(\"行列Fの列数を入力：\")\n",
    "hor1 = int(hor1)\n",
    "ver1 = int(ver1)\n",
    "\n",
    "hor2 = input(\"行列Gの行数を入力：\")\n",
    "ver2 = input(\"行列Gの列数を入力：\")\n",
    "hor2 = int(hor2)\n",
    "ver2 = int(ver2)\n",
    "\n",
    "F = []\n",
    "G = []\n",
    "num = \"\"\n",
    "\n",
    "for i in range(ver1):\n",
    "    F.append([])\n",
    "    for j in range(hor1):\n",
    "        num = input(\"数字を入力：\")\n",
    "        num = int(num)\n",
    "        F[i].append(num)\n",
    "        \n",
    "for a in range(ver2):\n",
    "    G.append([])\n",
    "    for b in range(hor2):\n",
    "        num = input(\"数字を入力：\")\n",
    "        num = int(num)\n",
    "        G[a].append(num)\n",
    "\n",
    "print(\"F\")\n",
    "for n in range(len(F)):\n",
    "    for m in range(len(F[n])):\n",
    "        print(\"  \" + str(F[n][m]),end = \"\")\n",
    "    print(\"\")\n",
    "\n",
    "print(\"G\")\n",
    "for c in range(len(G)):\n",
    "    for d in range(len(G[c])):\n",
    "        print(\"  \" + str(G[c][d]),end = \"\")\n",
    "    print(\"\")\n",
    "    \n"
   ]
  },
  {
   "cell_type": "code",
   "execution_count": null,
   "id": "63e924c3-beb0-4725-9d27-85eae97c4b58",
   "metadata": {},
   "outputs": [],
   "source": []
  }
 ],
 "metadata": {
  "kernelspec": {
   "display_name": "Python 3 (ipykernel)",
   "language": "python",
   "name": "python3"
  },
  "language_info": {
   "codemirror_mode": {
    "name": "ipython",
    "version": 3
   },
   "file_extension": ".py",
   "mimetype": "text/x-python",
   "name": "python",
   "nbconvert_exporter": "python",
   "pygments_lexer": "ipython3",
   "version": "3.8.16"
  }
 },
 "nbformat": 4,
 "nbformat_minor": 5
}
