{
 "cells": [
  {
   "cell_type": "code",
   "execution_count": 2,
   "id": "00d0693b-e091-45ed-a9e9-7961dd42c110",
   "metadata": {},
   "outputs": [],
   "source": [
    "mylist = [1,2,3,100,-4,61,-78,100,79]"
   ]
  },
  {
   "cell_type": "markdown",
   "id": "fdfa8829-b79a-4389-81e8-ffc1c2bcbf8f",
   "metadata": {},
   "source": [
    "# 1"
   ]
  },
  {
   "cell_type": "code",
   "execution_count": 3,
   "id": "1547dae1-19ec-4fb6-aca5-378512bfc6dc",
   "metadata": {},
   "outputs": [
    {
     "name": "stdout",
     "output_type": "stream",
     "text": [
      "100\n",
      "3\n"
     ]
    }
   ],
   "source": [
    "max_1 = max(mylist)\n",
    "print(max_1)\n",
    "index = mylist.index(max_1)\n",
    "print(index)\n",
    "    \n"
   ]
  },
  {
   "cell_type": "code",
   "execution_count": 40,
   "id": "93c54d79-a0b0-4957-8ce2-75c3cad75dca",
   "metadata": {},
   "outputs": [
    {
     "name": "stdout",
     "output_type": "stream",
     "text": [
      "100 100\n"
     ]
    }
   ],
   "source": [
    "max1(3)"
   ]
  },
  {
   "cell_type": "markdown",
   "id": "9d000ea8-9e39-4fa2-b451-6ea77cdc04c3",
   "metadata": {},
   "source": [
    "# 2"
   ]
  },
  {
   "cell_type": "code",
   "execution_count": null,
   "id": "3807c7ab-d446-4cef-b452-4cb11d110ae8",
   "metadata": {},
   "outputs": [],
   "source": [
    "\n",
    "min_1 = min(mylist)\n",
    "print(min_1)\n",
    "index = mylist.index(min_1)\n",
    "print(index)\n"
   ]
  },
  {
   "cell_type": "markdown",
   "id": "5eff0303-3b65-4474-94a6-371fa81a9a1b",
   "metadata": {},
   "source": [
    "# 3"
   ]
  },
  {
   "cell_type": "code",
   "execution_count": null,
   "id": "b23a92d8-ab88-48f8-967f-f7fe2f0f13f6",
   "metadata": {},
   "outputs": [],
   "source": [
    "\n",
    "print(mylist)\n",
    "newlist = []\n",
    "i = 0\n",
    "for i in range(len(mylist)):\n",
    "    if mylist[i] % 2 == 1:\n",
    "        newlist.append(mylist[i])\n",
    "print(newlist)\n",
    "         "
   ]
  },
  {
   "cell_type": "markdown",
   "id": "8720f7dd-f183-4141-8534-34ca285034be",
   "metadata": {},
   "source": [
    "# 4"
   ]
  },
  {
   "cell_type": "code",
   "execution_count": null,
   "id": "6c8adf96-06c7-4d63-824a-fedcb8c54fc5",
   "metadata": {},
   "outputs": [],
   "source": [
    "\n",
    "newlist1= []\n",
    "newlist2= []\n",
    "i = 0\n",
    "for i in range(len(mylist)):\n",
    "    li = mylist[i]\n",
    "    if li % 2 == 0: \n",
    "        newlist1.append(li)\n",
    "    else:\n",
    "        newlist2.append(li)\n",
    "\n",
    "print(newlist2)"
   ]
  },
  {
   "cell_type": "markdown",
   "id": "078bf4b4-7913-46cd-9bbb-8e9cdf3e5d05",
   "metadata": {},
   "source": [
    "# 5"
   ]
  },
  {
   "cell_type": "code",
   "execution_count": null,
   "id": "09f6e575-7837-4acf-8e98-42cfc2604ed0",
   "metadata": {},
   "outputs": [],
   "source": [
    "\n",
    "def two(n):\n",
    "    return [i*i for i in n]"
   ]
  },
  {
   "cell_type": "code",
   "execution_count": null,
   "id": "89d122a4-d72b-4ff9-a714-d4704ecc3653",
   "metadata": {},
   "outputs": [],
   "source": [
    "two(mylist)\n"
   ]
  },
  {
   "cell_type": "markdown",
   "id": "27da0585-5ae4-4715-b762-c4744252126a",
   "metadata": {},
   "source": [
    "# 6"
   ]
  },
  {
   "cell_type": "code",
   "execution_count": null,
   "id": "0ea81e98-3b27-4c8d-80e8-77b98090ea94",
   "metadata": {},
   "outputs": [],
   "source": [
    "def three(n):\n",
    "    return [i*i*i for i in n]"
   ]
  },
  {
   "cell_type": "code",
   "execution_count": null,
   "id": "e3ac73b4-1dc3-49a7-8a28-875909d5c2ac",
   "metadata": {},
   "outputs": [],
   "source": [
    "three(mylist)"
   ]
  },
  {
   "cell_type": "markdown",
   "id": "744383c2-3e92-4297-bf64-8bc11ef2ca09",
   "metadata": {},
   "source": [
    "# 7"
   ]
  },
  {
   "cell_type": "code",
   "execution_count": null,
   "id": "cb5f1ae6-24eb-48b7-a674-14aa672e94b6",
   "metadata": {},
   "outputs": [],
   "source": [
    "newlist1 = []\n",
    "newlist2 = []\n",
    "i = 0\n",
    "for i in range(len(mylist)):\n",
    "    li = mylist[i]\n",
    "    if li % 2 == 1:\n",
    "        li = li ** 3\n",
    "        newlist1.append(li)\n",
    "    else:\n",
    "        li = li ** 2\n",
    "        newlist2.append(li)\n",
    "newlist3 = newlist1 + newlist2\n",
    "print(newlist3)"
   ]
  },
  {
   "cell_type": "markdown",
   "id": "e0a8c84e-eaa3-480c-a4ca-8712e3c53920",
   "metadata": {},
   "source": [
    "# 8"
   ]
  },
  {
   "cell_type": "code",
   "execution_count": null,
   "id": "c709c5f3-3d4c-43ae-8522-7766727b525f",
   "metadata": {},
   "outputs": [],
   "source": [
    "mlist = [1,2,-9,9,0.9,1,-9,-9,0.1,0.1,7,7,8,0.9]\n",
    "print(list(set(mlist)))"
   ]
  },
  {
   "cell_type": "markdown",
   "id": "491a4ee6-80b5-4c7c-bbf2-9e095c74d018",
   "metadata": {},
   "source": [
    "# 9"
   ]
  },
  {
   "cell_type": "code",
   "execution_count": null,
   "id": "6a6e1fc7-22aa-45f1-b901-5f437a4ad107",
   "metadata": {},
   "outputs": [],
   "source": [
    "nlist = [1,2,3,4,5,6,7,8]\n",
    "newlist =[]\n",
    "i = 0\n",
    "total = 0\n",
    "for i in range(len(nlist)):\n",
    "    li = 0\n",
    "    li = li + (i+1)\n",
    "    total = total + li\n",
    "    newlist.append(total)\n",
    "    \n",
    "print(newlist)"
   ]
  },
  {
   "cell_type": "markdown",
   "id": "dd6464d2-93a7-4b19-a965-c273e172421b",
   "metadata": {},
   "source": [
    "# 10"
   ]
  },
  {
   "cell_type": "code",
   "execution_count": null,
   "id": "106258ef-0fcb-428e-a92f-a10321eb33a6",
   "metadata": {},
   "outputs": [],
   "source": [
    "\n",
    "def mylist(li):\n",
    "    return li"
   ]
  },
  {
   "cell_type": "code",
   "execution_count": null,
   "id": "763ae6ed-0de6-402b-9308-56707419427f",
   "metadata": {},
   "outputs": [],
   "source": [
    "li = [7,3,6,9,5]\n",
    "li"
   ]
  },
  {
   "cell_type": "code",
   "execution_count": null,
   "id": "942cc563-a640-45a8-a2ab-ad523f3d803d",
   "metadata": {},
   "outputs": [],
   "source": [
    "#平均\n",
    "def ave(n):\n",
    "    n = mylist(li)\n",
    "    list2 = mylist(li)\n",
    "    ave_n = sum(list2) / len(list2)\n",
    "    return ave_n\n",
    "        "
   ]
  },
  {
   "cell_type": "code",
   "execution_count": null,
   "id": "50228f89-b0d6-4858-a40c-5b0240392aa7",
   "metadata": {},
   "outputs": [],
   "source": [
    "ave(3)"
   ]
  },
  {
   "cell_type": "code",
   "execution_count": null,
   "id": "f0091c3a-e1c7-43db-b7a5-2f3d35ee141f",
   "metadata": {},
   "outputs": [],
   "source": [
    "#分散\n",
    "def bun(n):\n",
    "    n = mylist(li)\n",
    "    i = 0\n",
    "    total = 0\n",
    "    for i in range(len(n)):\n",
    "        b = 0\n",
    "        c = n[i]\n",
    "        b = b + ((c - ave(n)))**2\n",
    "        total = total + b\n",
    "    total2 = total / len(n)\n",
    "    return total2"
   ]
  },
  {
   "cell_type": "code",
   "execution_count": null,
   "id": "5432cc06-3b37-41e0-b17e-414998c4e6ff",
   "metadata": {},
   "outputs": [],
   "source": [
    "bun(3)"
   ]
  },
  {
   "cell_type": "code",
   "execution_count": null,
   "id": "bf010372-172b-4d34-87a3-e66e62e2fb92",
   "metadata": {},
   "outputs": [],
   "source": [
    "#標準偏差\n",
    "hyou = bun(3) ** 0.5\n",
    "print(hyou)"
   ]
  },
  {
   "cell_type": "markdown",
   "id": "c19a5bfd-1bfa-4fdf-9a11-9eb3fe26fbfc",
   "metadata": {},
   "source": [
    "# 11"
   ]
  },
  {
   "cell_type": "code",
   "execution_count": 7,
   "id": "a835391f-11c9-442c-b3a1-a608a9839364",
   "metadata": {},
   "outputs": [
    {
     "name": "stdout",
     "output_type": "stream",
     "text": [
      "99\n"
     ]
    },
    {
     "name": "stdin",
     "output_type": "stream",
     "text": [
      "upper or lower upper\n"
     ]
    },
    {
     "name": "stdout",
     "output_type": "stream",
     "text": [
      "upper\n"
     ]
    }
   ],
   "source": [
    "import random\n",
    "ran_n = random.randint(0,100)\n",
    "print(ran_n)\n",
    "re = input(\"upper or lower\")\n",
    "print(re)"
   ]
  },
  {
   "cell_type": "code",
   "execution_count": 27,
   "id": "35d49347-acf4-42f1-a3d8-0f916164499b",
   "metadata": {},
   "outputs": [
    {
     "name": "stdout",
     "output_type": "stream",
     "text": [
      "54\n"
     ]
    },
    {
     "name": "stdin",
     "output_type": "stream",
     "text": [
      "大きい,小さい,同じ 大きい\n"
     ]
    },
    {
     "name": "stdout",
     "output_type": "stream",
     "text": [
      "4\n"
     ]
    },
    {
     "name": "stdin",
     "output_type": "stream",
     "text": [
      "大きい,小さい,同じ 小さい\n"
     ]
    },
    {
     "name": "stdout",
     "output_type": "stream",
     "text": [
      "8\n"
     ]
    },
    {
     "name": "stdin",
     "output_type": "stream",
     "text": [
      "大きい,小さい,同じ 小さい\n"
     ]
    },
    {
     "name": "stdout",
     "output_type": "stream",
     "text": [
      "17\n"
     ]
    },
    {
     "name": "stdin",
     "output_type": "stream",
     "text": [
      "大きい,小さい,同じ 小さい\n"
     ]
    },
    {
     "name": "stdout",
     "output_type": "stream",
     "text": [
      "50\n"
     ]
    },
    {
     "name": "stdin",
     "output_type": "stream",
     "text": [
      "大きい,小さい,同じ 同じ\n"
     ]
    }
   ],
   "source": [
    "import random\n",
    "ran_n = random.randint(0,100)\n",
    "print(ran_n)\n",
    "min_n = 0\n",
    "max_n = 100\n",
    "while True:\n",
    "    re = input(\"大きい,小さい,同じ\")\n",
    "    upper = \"大きい\"\n",
    "    lower = \"小さい\"\n",
    "    equal = \"同じ\"\n",
    "\n",
    "    if re == upper: #想像よりも大きい\n",
    "        max_n = ran_n\n",
    "        ran_n = random.randint(min_n,max_n)\n",
    "        print(ran_n)  \n",
    "    elif re == lower: #想像よりも小さい\n",
    "        min_n = ran_n\n",
    "        ran_n = random.randint(min_n,max_n)\n",
    "        print(ran_n)\n",
    "    elif re == equal:\n",
    "        break\n",
    "\n"
   ]
  },
  {
   "cell_type": "markdown",
   "id": "1c2ec0c3-3ad7-4629-a379-a9a6c5e52d46",
   "metadata": {},
   "source": [
    "# 12"
   ]
  },
  {
   "cell_type": "code",
   "execution_count": 20,
   "id": "21d6eb8d-9cb0-4df8-a318-3c7a59f4e5a2",
   "metadata": {},
   "outputs": [],
   "source": [
    "a = [[1,2,3],[4,5,6],[7,8,9]]\n",
    "b = [[1,2,3],[1,2,3],[1,2,3]]"
   ]
  },
  {
   "cell_type": "code",
   "execution_count": null,
   "id": "e2a28bbb-c7af-4d3d-b90f-f557da6694ae",
   "metadata": {},
   "outputs": [],
   "source": [
    "c = []\n",
    "for i in range(len(a)):\n",
    "    c.append([])\n",
    "    print(c)\n",
    "    for j in range(len(a[i])):\n",
    "        c[i].append(a[i][j] + b[i][j])"
   ]
  },
  {
   "cell_type": "code",
   "execution_count": 12,
   "id": "d3faed62-744a-46d6-b1b1-d05fb995ac4f",
   "metadata": {},
   "outputs": [
    {
     "name": "stdout",
     "output_type": "stream",
     "text": [
      "  2  4  6\n",
      "  5  7  9\n",
      "  8 10 12\n"
     ]
    }
   ],
   "source": [
    "for i in range(len(a)):\n",
    "    for j in range(len(c[i])):\n",
    "        if c[i][j] < 10:\n",
    "            print(\" \",end=\"\")\n",
    "        print(\" \" + str(c[i][j]),end=\"\")\n",
    "    print(\"\")\n",
    "        "
   ]
  },
  {
   "cell_type": "markdown",
   "id": "939baf1a-d280-456d-9fb6-d238d41fc2bf",
   "metadata": {},
   "source": [
    "# 13"
   ]
  },
  {
   "cell_type": "code",
   "execution_count": 13,
   "id": "ed86fd15-699d-4173-aa7f-f6b78158e322",
   "metadata": {},
   "outputs": [],
   "source": [
    "c = []\n",
    "for i in range(len(a)):\n",
    "    c.append([])\n",
    "    #print(c)\n",
    "    for j in range(len(a[i])):\n",
    "        c[i].append(a[i][j] - b[i][j])"
   ]
  },
  {
   "cell_type": "code",
   "execution_count": 14,
   "id": "231bc952-0625-4e92-a4af-a677f12b6861",
   "metadata": {},
   "outputs": [
    {
     "name": "stdout",
     "output_type": "stream",
     "text": [
      "  0  0  0\n",
      "  3  3  3\n",
      "  6  6  6\n"
     ]
    }
   ],
   "source": [
    "for i in range(len(a)):\n",
    "    for j in range(len(c[i])):\n",
    "        if c[i][j] < 10:\n",
    "            print(\" \",end=\"\")\n",
    "        print(\" \" + str(c[i][j]),end=\"\")\n",
    "    print(\"\")"
   ]
  },
  {
   "cell_type": "markdown",
   "id": "96d0317b-1727-4165-8ebc-7443bad9c811",
   "metadata": {},
   "source": [
    "# 14 途中"
   ]
  },
  {
   "cell_type": "code",
   "execution_count": null,
   "id": "f370a4b0-1e06-48f5-803b-99b04430790f",
   "metadata": {},
   "outputs": [],
   "source": []
  },
  {
   "cell_type": "code",
   "execution_count": 22,
   "id": "2f44ffe1-d177-47a9-af0b-315e997d5c60",
   "metadata": {},
   "outputs": [
    {
     "name": "stdout",
     "output_type": "stream",
     "text": [
      "1\n",
      "3\n",
      "6\n",
      "4\n",
      "12\n",
      "24\n",
      "7\n",
      "21\n",
      "42\n"
     ]
    }
   ],
   "source": [
    "c = []\n",
    "for i in range(len(a)):\n",
    "    c.append([])\n",
    "    #print(c)\n",
    "    gyou1 = 0\n",
    "    gyou2 = 0\n",
    "    gyou3 = 0\n",
    "    gyou4 = 0\n",
    "    gyou5 = 0\n",
    "    gyou6 = 0\n",
    "    gyou7 = 0\n",
    "    gyou8 = 0\n",
    "    gyou9 = 0\n",
    "    for j in range(len(a[i])): \n",
    "        \n",
    "        gyou1 += (a[i][0] * b[i][j])\n",
    "        gyou2 += (a[i][0] * b[1][j])\n",
    "        gyou3 += (a[i][0] * b[2][j])\n",
    "            \n",
    "        print(gyou1)"
   ]
  },
  {
   "cell_type": "code",
   "execution_count": 35,
   "id": "52039cd4-8e16-43af-b031-33fa4a7859b5",
   "metadata": {},
   "outputs": [
    {
     "name": "stdout",
     "output_type": "stream",
     "text": [
      "6\n",
      "24\n",
      "42\n"
     ]
    }
   ],
   "source": [
    "c = []\n",
    "for i in range(len(a)):\n",
    "    c.append([])\n",
    "    #print(c)\n",
    "    gyou1 = 0\n",
    "    \n",
    "    for j in range(len(a[i])): \n",
    "            gyou1 += (a[i][0] * b[0][j])\n",
    "        \n",
    "    print(gyou1)"
   ]
  },
  {
   "cell_type": "code",
   "execution_count": null,
   "id": "bb5f85a9-23b2-43a0-bbdf-5a5e632a3b80",
   "metadata": {},
   "outputs": [],
   "source": []
  }
 ],
 "metadata": {
  "kernelspec": {
   "display_name": "Python 3",
   "language": "python",
   "name": "python3"
  },
  "language_info": {
   "codemirror_mode": {
    "name": "ipython",
    "version": 3
   },
   "file_extension": ".py",
   "mimetype": "text/x-python",
   "name": "python",
   "nbconvert_exporter": "python",
   "pygments_lexer": "ipython3",
   "version": "3.6.13"
  }
 },
 "nbformat": 4,
 "nbformat_minor": 5
}
