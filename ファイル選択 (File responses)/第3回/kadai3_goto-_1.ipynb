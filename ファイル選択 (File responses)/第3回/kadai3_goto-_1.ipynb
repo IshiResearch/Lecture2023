{
 "cells": [
  {
   "cell_type": "markdown",
   "id": "6210c7a1-54d4-4a0f-a844-bb95f2c23892",
   "metadata": {},
   "source": [
    "# 課題"
   ]
  },
  {
   "cell_type": "code",
   "execution_count": 1,
   "id": "6344118a-7285-499b-b6d6-bd32488bd524",
   "metadata": {
    "tags": []
   },
   "outputs": [],
   "source": [
    "num_list = [1, 2, 3, 100, -4, 0.98, 61, -78]"
   ]
  },
  {
   "cell_type": "markdown",
   "id": "9ba1a320-779b-494a-8bc2-4902646477b9",
   "metadata": {},
   "source": [
    "## 1-listのmaxとindexを求める"
   ]
  },
  {
   "cell_type": "code",
   "execution_count": 2,
   "id": "b06c333c-2e84-4570-a35a-f2dd089957cb",
   "metadata": {
    "tags": []
   },
   "outputs": [
    {
     "name": "stdout",
     "output_type": "stream",
     "text": [
      "maxは100.00 indexは3\n"
     ]
    }
   ],
   "source": [
    "max_num = max(num_list)\n",
    "max_index = num_list.index(max_num)\n",
    "print(\"maxは%.2f indexは%d\" %(max_num, max_index))"
   ]
  },
  {
   "cell_type": "markdown",
   "id": "dc832c08-fd08-4655-8e15-44f9d9ecc5e3",
   "metadata": {},
   "source": [
    "## 2-listのminとindexを求める"
   ]
  },
  {
   "cell_type": "code",
   "execution_count": 3,
   "id": "7a2d7509-cc20-404c-bfb6-17b892398ed9",
   "metadata": {
    "tags": []
   },
   "outputs": [
    {
     "name": "stdout",
     "output_type": "stream",
     "text": [
      "minは-78.00 indexは7\n"
     ]
    }
   ],
   "source": [
    "min_num = min(num_list)\n",
    "min_index = num_list.index(min_num)\n",
    "print(\"minは%.2f indexは%d\" %(min_num, min_index))"
   ]
  },
  {
   "cell_type": "markdown",
   "id": "ca089e93-c749-4959-9f5c-91ff17891844",
   "metadata": {},
   "source": [
    "## 3-listから奇数のみを入力して、新しいリストを作る"
   ]
  },
  {
   "cell_type": "code",
   "execution_count": 4,
   "id": "57bf068f-2ade-4450-9ee5-55e12c513c20",
   "metadata": {
    "tags": []
   },
   "outputs": [
    {
     "name": "stdout",
     "output_type": "stream",
     "text": [
      "奇数のみのリストは [1, 3, 61]\n"
     ]
    }
   ],
   "source": [
    "odd_list = []\n",
    "for i in range(len(num_list)):\n",
    "    if (num_list[i] % 2 == 1):\n",
    "        odd_list.append(num_list[i]) # 奇数ー＞追加\n",
    "        \n",
    "print(\"奇数のみのリストは\", odd_list)"
   ]
  },
  {
   "cell_type": "markdown",
   "id": "b3f7a85a-4171-4e16-97ef-ab34ac4e472d",
   "metadata": {
    "tags": []
   },
   "source": [
    "## 4-listから偶数のみを入力して、新しいリストを作る"
   ]
  },
  {
   "cell_type": "code",
   "execution_count": 5,
   "id": "d88f0ad6-f323-4fa3-a29c-951720b0a90e",
   "metadata": {
    "tags": []
   },
   "outputs": [
    {
     "name": "stdout",
     "output_type": "stream",
     "text": [
      "偶数のみのリストは [2, 100, -4, -78]\n"
     ]
    }
   ],
   "source": [
    "even_list = []\n",
    "for i in range(len(num_list)):\n",
    "    if (num_list[i] % 2 == 0):\n",
    "        even_list.append(num_list[i]) # 偶数ー＞追加\n",
    "        \n",
    "print(\"偶数のみのリストは\", even_list)"
   ]
  },
  {
   "cell_type": "markdown",
   "id": "96ada375-010b-42e1-9015-5899f7cac421",
   "metadata": {},
   "source": [
    "## 5-listの各値を二乗して新しいリストを作る"
   ]
  },
  {
   "cell_type": "code",
   "execution_count": 6,
   "id": "4dd757f4-25a2-4388-abc8-63786960e848",
   "metadata": {
    "tags": []
   },
   "outputs": [
    {
     "name": "stdout",
     "output_type": "stream",
     "text": [
      "各値を二乗したリストは [1, 4, 9, 10000, 16, 0.9603999999999999, 3721, 6084]\n"
     ]
    }
   ],
   "source": [
    "squ_list = []\n",
    "for i in range(len(num_list)):\n",
    "    append_num = num_list[i] ** 2 # 二乗\n",
    "    squ_list.append(append_num)\n",
    "    \n",
    "print(\"各値を二乗したリストは\", squ_list)"
   ]
  },
  {
   "cell_type": "markdown",
   "id": "4f3c288c-ddde-4711-8822-3a2b21b7f660",
   "metadata": {
    "tags": []
   },
   "source": [
    "## 6-listの各値を三乗して新しいリストを作る"
   ]
  },
  {
   "cell_type": "code",
   "execution_count": 7,
   "id": "37c6726f-35df-4783-8e06-b1597d0d3ad0",
   "metadata": {
    "tags": []
   },
   "outputs": [
    {
     "name": "stdout",
     "output_type": "stream",
     "text": [
      "各値を三乗したリストは [1, 8, 27, 1000000, -64, 0.9411919999999999, 226981, -474552]\n"
     ]
    }
   ],
   "source": [
    "cube_list = []\n",
    "for i in range(len(num_list)):\n",
    "    append_num = num_list[i] ** 3 # 三乗\n",
    "    cube_list.append(append_num)\n",
    "    \n",
    "print(\"各値を三乗したリストは\", cube_list)"
   ]
  },
  {
   "cell_type": "markdown",
   "id": "fba85f10-baa0-4cea-8869-b0ccf88f340b",
   "metadata": {},
   "source": [
    "## 7-listの奇数の値を三乗、偶数の値を二乗して新しいリストを作る"
   ]
  },
  {
   "cell_type": "code",
   "execution_count": 8,
   "id": "ba623e93-7917-449f-8b50-e006d69f01bc",
   "metadata": {
    "tags": []
   },
   "outputs": [
    {
     "name": "stdout",
     "output_type": "stream",
     "text": [
      "奇数の値を三乗、偶数の値を二乗したリストは [1, 4, 27, 10000, 16, 0.98, 226981, 6084]\n"
     ]
    }
   ],
   "source": [
    "odd_even_list = []\n",
    "for i in range(len(num_list)):\n",
    "    if (num_list[i] % 2 == 1):\n",
    "        append_num = num_list[i] ** 3 # 奇数ー＞三乗\n",
    "    elif (num_list[i] % 2 == 0):\n",
    "        append_num = num_list[i] ** 2 # 偶数ー＞二乗\n",
    "    else:\n",
    "        append_num = num_list[i] # 奇数でも偶数でもないー＞そのまま\n",
    "        \n",
    "    odd_even_list.append(append_num)\n",
    "    \n",
    "print(\"奇数の値を三乗、偶数の値を二乗したリストは\", odd_even_list)"
   ]
  },
  {
   "cell_type": "markdown",
   "id": "d15dae5b-f30b-41aa-9f96-2038a4099e84",
   "metadata": {},
   "source": [
    "## 8-数値の重複を無くした新しいリストを作る"
   ]
  },
  {
   "cell_type": "code",
   "execution_count": 9,
   "id": "5051df74-f4a5-4c55-a8c6-c76ab360293e",
   "metadata": {
    "tags": []
   },
   "outputs": [
    {
     "name": "stdout",
     "output_type": "stream",
     "text": [
      "重複を無くしたリストは [1, 2, -9, 9, 0.9, 0.1, 7, 8]\n"
     ]
    }
   ],
   "source": [
    "dupli_list = [1, 2, -9, 9, 0.9, 0.9, 1, -9, -9, 0.1, 0.1, 7, 7, 8, 0.9]\n",
    "\n",
    "no_dupli_list = []\n",
    "\n",
    "for i in range(len(dupli_list)):\n",
    "    if dupli_list[i] in no_dupli_list:\n",
    "        continue #重複していたらcontinue\n",
    "    else:\n",
    "        no_dupli_list.append(dupli_list[i])\n",
    "        \n",
    "print(\"重複を無くしたリストは\", no_dupli_list)"
   ]
  },
  {
   "cell_type": "markdown",
   "id": "a72d557a-1d10-4d72-8134-02d57d7a001c",
   "metadata": {},
   "source": [
    "## 9-listのそれまでの値の合計のリストを作る"
   ]
  },
  {
   "cell_type": "code",
   "execution_count": 10,
   "id": "dd103528-cea2-42ba-9f4b-6a59ae992668",
   "metadata": {
    "tags": []
   },
   "outputs": [
    {
     "name": "stdout",
     "output_type": "stream",
     "text": [
      "それまでの値の合計のリストは [1, 3, 6, 10, 15, 21, 28, 36]\n"
     ]
    }
   ],
   "source": [
    "ori_list = [1,2,3,4,5,6,7,8]\n",
    "sum_list = []\n",
    "append_num = 0\n",
    "\n",
    "for i in range(len(ori_list)):\n",
    "    append_num += ori_list[i]\n",
    "    sum_list.append(append_num)\n",
    "        \n",
    "print(\"それまでの値の合計のリストは\", sum_list)"
   ]
  },
  {
   "cell_type": "markdown",
   "id": "9d5e546a-edaa-499f-8ce6-c514f4fbde3d",
   "metadata": {},
   "source": [
    "## 10-数字を入れて、リスト内の数字の平均、分散、標準偏差を表示する"
   ]
  },
  {
   "cell_type": "code",
   "execution_count": 11,
   "id": "751a62cb-a89d-4691-9896-7ee63ed42220",
   "metadata": {
    "tags": []
   },
   "outputs": [
    {
     "name": "stdin",
     "output_type": "stream",
     "text": [
      "数字を入力してください 12\n",
      "数字を入力してください 54\n",
      "数字を入力してください 83\n",
      "数字を入力してください 7\n",
      "数字を入力してください 49\n"
     ]
    },
    {
     "name": "stdout",
     "output_type": "stream",
     "text": [
      "[12, 54, 83, 7, 49] の平均は41.000、分散は798.800、標準偏差は28.263\n"
     ]
    }
   ],
   "source": [
    "import math\n",
    "\n",
    "num_list = []\n",
    "\n",
    "for i in range(5):\n",
    "    append_num = int(input(\"数字を入力してください\"))\n",
    "    num_list.append(append_num)\n",
    "    \n",
    "total = 0\n",
    "vari = 0\n",
    "std_div = 0\n",
    "\n",
    "for i in range(len(num_list)):\n",
    "    total += num_list[i]  \n",
    "ave = total / 5\n",
    "\n",
    "for i in range(len(num_list)):\n",
    "    vari += (ave - num_list[i]) ** 2\n",
    "vari /= 5\n",
    "std_div = math.sqrt(vari)\n",
    "\n",
    "print(num_list, \"の平均は%.3f、分散は%.3f、標準偏差は%.3f\" %(ave, vari, std_div))"
   ]
  },
  {
   "cell_type": "markdown",
   "id": "4698bec8-4f40-49ab-9b01-418d1e985ae2",
   "metadata": {},
   "source": [
    "## 11-乱数を使った推定ゲーム(入力で決めた数字に近づいてく)"
   ]
  },
  {
   "cell_type": "code",
   "execution_count": 21,
   "id": "bd4cb3e8-c6d6-4e01-a27b-a44bc94c5902",
   "metadata": {
    "tags": []
   },
   "outputs": [
    {
     "name": "stdin",
     "output_type": "stream",
     "text": [
      "1～100までの数字を入力してください 50\n"
     ]
    },
    {
     "name": "stdout",
     "output_type": "stream",
     "text": [
      "[62, 58, 52, 27, 46, 51, 49, 50]\n"
     ]
    }
   ],
   "source": [
    "import random\n",
    "deduct_list = []\n",
    "\n",
    "ans = int(input(\"1～100までの数字を入力してください\"))\n",
    "deduct = 0\n",
    "min_deduct = 1\n",
    "max_deduct = 101\n",
    "\n",
    "while(True):\n",
    "    deduct = random.randrange(min_deduct, max_deduct)\n",
    "    deduct_list.append(deduct)\n",
    "    if (deduct > ans):\n",
    "        max_deduct = deduct #maxの更新\n",
    "    elif (deduct < ans):\n",
    "        min_deduct = deduct + 1 #minの更新\n",
    "    else:\n",
    "        break\n",
    "        \n",
    "print(deduct_list)"
   ]
  },
  {
   "cell_type": "code",
   "execution_count": 22,
   "id": "753dc7d8-d409-485d-a7a7-b4c251a5d63a",
   "metadata": {
    "tags": []
   },
   "outputs": [],
   "source": [
    "a_list = [[1, 2, 3], [4, 5, 6], [7, 8, 9]]\n",
    "b_list = [[1, 2, 3], [1, 2, 3], [1, 2, 3]]"
   ]
  },
  {
   "cell_type": "markdown",
   "id": "a7ebb0b6-9c4a-4dfd-a60c-bfeb5cb6c96b",
   "metadata": {},
   "source": [
    "## 12-(a+b)を表示する"
   ]
  },
  {
   "cell_type": "code",
   "execution_count": 23,
   "id": "2051aa1a-e3dd-426f-9824-a0bbcd271a9a",
   "metadata": {
    "tags": []
   },
   "outputs": [
    {
     "name": "stdout",
     "output_type": "stream",
     "text": [
      "  2  4  6\n",
      "  5  7  9\n",
      "  8 10 12\n"
     ]
    }
   ],
   "source": [
    "sum_list = []\n",
    "\"\"\"\n",
    "計算\n",
    "\"\"\"\n",
    "for i in range(len(a_list)):\n",
    "    sum_list.append([])\n",
    "    for j in range(len(a_list[i])):\n",
    "        sum_list[i].append(a_list[i][j] + b_list[i][j])\n",
    "        \n",
    "\"\"\"\n",
    "表示\n",
    "\"\"\"\n",
    "for i in range(len(sum_list)):\n",
    "    for j in range(len(sum_list[i])):\n",
    "        if sum_list[i][j] < 10:\n",
    "            print(\" \", end=\"\") #10以上でも列がずれないように\n",
    "        print(\" \" + str(sum_list[i][j]), end=\"\")\n",
    "    print(\"\")"
   ]
  },
  {
   "cell_type": "markdown",
   "id": "cd21ce69-4cb0-496a-afb5-ddc0e41394fe",
   "metadata": {},
   "source": [
    "## 13-(a-b)を表示する"
   ]
  },
  {
   "cell_type": "code",
   "execution_count": 24,
   "id": "d1422b33-82d8-4569-8237-097c81fe5b4b",
   "metadata": {
    "tags": []
   },
   "outputs": [
    {
     "name": "stdout",
     "output_type": "stream",
     "text": [
      "  0  0  0\n",
      "  3  3  3\n",
      "  6  6  6\n"
     ]
    }
   ],
   "source": [
    "dif_list = []\n",
    "\"\"\"\n",
    "計算\n",
    "\"\"\"\n",
    "for i in range(len(a_list)):\n",
    "    dif_list.append([])\n",
    "    for j in range(len(a_list[i])):\n",
    "        dif_list[i].append(a_list[i][j] - b_list[i][j])\n",
    "        \n",
    "\"\"\"\n",
    "表示\n",
    "\"\"\"\n",
    "for i in range(len(dif_list)):\n",
    "    for j in range(len(dif_list[i])):\n",
    "        if dif_list[i][j] < 10:\n",
    "            print(\" \", end=\"\") #10以上でも列がずれないように\n",
    "        print(\" \" + str(dif_list[i][j]), end=\"\")\n",
    "    print(\"\")"
   ]
  },
  {
   "cell_type": "markdown",
   "id": "cdb081d8-9c9d-4553-a327-c9c86f122520",
   "metadata": {},
   "source": [
    "## 14-abを表示する"
   ]
  },
  {
   "cell_type": "code",
   "execution_count": 25,
   "id": "f9b586a6-f44b-4f58-963d-ea2a24c6f812",
   "metadata": {
    "tags": []
   },
   "outputs": [
    {
     "name": "stdout",
     "output_type": "stream",
     "text": [
      "  1  4  9\n",
      "  4 10 18\n",
      "  7 16 27\n"
     ]
    }
   ],
   "source": [
    "multi_list = []\n",
    "\"\"\"\n",
    "計算\n",
    "\"\"\"\n",
    "for i in range(len(a_list)):\n",
    "    multi_list.append([])\n",
    "    for j in range(len(a_list[i])):\n",
    "        multi_list[i].append(a_list[i][j] * b_list[i][j])\n",
    "        \n",
    "\"\"\"\n",
    "表示\n",
    "\"\"\"\n",
    "for i in range(len(multi_list)):\n",
    "    for j in range(len(multi_list[i])):\n",
    "        if multi_list[i][j] < 10:\n",
    "            print(\" \", end=\"\") #10以上でも列がずれないように\n",
    "        print(\" \" + str(multi_list[i][j]), end=\"\")\n",
    "    print(\"\")"
   ]
  },
  {
   "cell_type": "code",
   "execution_count": null,
   "id": "c9b958aa-6ec9-459c-8f80-86660c35a76c",
   "metadata": {},
   "outputs": [],
   "source": []
  }
 ],
 "metadata": {
  "kernelspec": {
   "display_name": "Python 3 (ipykernel)",
   "language": "python",
   "name": "python3"
  },
  "language_info": {
   "codemirror_mode": {
    "name": "ipython",
    "version": 3
   },
   "file_extension": ".py",
   "mimetype": "text/x-python",
   "name": "python",
   "nbconvert_exporter": "python",
   "pygments_lexer": "ipython3",
   "version": "3.8.16"
  }
 },
 "nbformat": 4,
 "nbformat_minor": 5
}
