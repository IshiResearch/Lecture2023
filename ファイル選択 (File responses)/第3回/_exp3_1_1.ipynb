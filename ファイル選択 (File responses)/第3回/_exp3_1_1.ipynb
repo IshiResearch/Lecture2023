{
 "cells": [
  {
   "attachments": {},
   "cell_type": "markdown",
   "metadata": {},
   "source": [
    "> **Note**\n",
    "### 命名規則\n",
    "英大文字は定数・英小文字は変数扱いです。その他のPythonの命名規則はこちらを参考にしてください\n",
    "\n",
    "[Python命名規則一覧\n",
    "](https://qiita.com/naomi7325/items/4eb1d2a40277361e898b)"
   ]
  },
  {
   "attachments": {},
   "cell_type": "markdown",
   "metadata": {},
   "source": [
    "> **Note**\n",
    "### 探索手法\n",
    "今回の推測ゲームでは、与えられた数値が基準値との大小関係を判定することで、探索範囲を縮小していき正解を求めます。この方法は二分探索法(バイナリサーチ)と呼ばれるアルゴリズムで、他にもどのような探索手法があるのか調べてみましょう。"
   ]
  },
  {
   "attachments": {},
   "cell_type": "markdown",
   "metadata": {},
   "source": []
  }
 ],
 "metadata": {
  "language_info": {
   "name": "python"
  },
  "orig_nbformat": 4
 },
 "nbformat": 4,
 "nbformat_minor": 2
}
